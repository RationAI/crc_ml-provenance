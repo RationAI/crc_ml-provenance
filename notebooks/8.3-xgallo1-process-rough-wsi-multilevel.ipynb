{
 "cells": [
  {
   "cell_type": "code",
   "execution_count": 1,
   "metadata": {
    "ExecuteTime": {
     "end_time": "2019-10-02T08:12:20.291008Z",
     "start_time": "2019-10-02T08:12:19.588146Z"
    }
   },
   "outputs": [],
   "source": [
    "from multiprocessing import Pool, cpu_count\n",
    "from skimage.color import rgb2hsv\n",
    "from skimage.filters import gaussian\n",
    "import xml.etree.ElementTree as ET\n",
    "import matplotlib.pyplot as plt\n",
    "import openslide as os\n",
    "import pandas as pd\n",
    "import numpy as np\n",
    "import glob\n",
    "import math\n",
    "import cv2\n",
    "\n",
    "from enum import Enum\n",
    "from pathlib import Path\n",
    "from collections import Counter\n",
    "from skimage import color, filters, morphology\n",
    "from PIL import Image, ImageDraw, ImageFilter\n",
    "Image.MAX_IMAGE_PIXELS = None"
   ]
  },
  {
   "cell_type": "markdown",
   "metadata": {
    "code_folding": []
   },
   "source": [
    "# LOGGING #"
   ]
  },
  {
   "cell_type": "code",
   "execution_count": 2,
   "metadata": {
    "ExecuteTime": {
     "end_time": "2019-10-02T08:12:20.298714Z",
     "start_time": "2019-10-02T08:12:20.293716Z"
    },
    "code_folding": [
     5
    ]
   },
   "outputs": [],
   "source": [
    "import logging\n",
    "import datetime\n",
    "import sys\n",
    "\n",
    "\n",
    "def prepare_logger(logger, level=logging.DEBUG):\n",
    "    \n",
    "    def prepare_handler(handler):\n",
    "        handler.setLevel(level)\n",
    "        handler.setFormatter(formatter)\n",
    "        return handler\n",
    "\n",
    "    formatter = logging.Formatter(fmt='%(asctime)s | [%(levelname)s] %(message)s',\n",
    "                                  datefmt='%Y-%m-%d %H:%M:%S')\n",
    "\n",
    "    del logger.handlers[:]\n",
    "    logger.handlers.append(prepare_handler(logging.StreamHandler(sys.stderr)))\n",
    "\n",
    "    logger.setLevel(level=level)\n",
    "    return logger\n",
    "\n",
    "logg = logging.getLogger()\n",
    "logg = prepare_logger(logg)"
   ]
  },
  {
   "cell_type": "markdown",
   "metadata": {
    "code_folding": [
     0
    ]
   },
   "source": [
    "# ANNOTATION UTILITY"
   ]
  },
  {
   "cell_type": "code",
   "execution_count": 3,
   "metadata": {
    "ExecuteTime": {
     "end_time": "2019-10-02T08:12:20.308545Z",
     "start_time": "2019-10-02T08:12:20.300739Z"
    },
    "code_folding": [
     0,
     33
    ]
   },
   "outputs": [],
   "source": [
    "def read_polygons(annotation_filepath, scale_factor, include_keywords, exclude_keywords):\n",
    "    \"\"\"\n",
    "        Utility function to read an annotation XML file and create a list of vertices for\n",
    "        polygon delimiting the cancerous area.\n",
    "    \"\"\"\n",
    "    # if mark_tumor:\n",
    "    #    exclude_keywords = ['Breast', 'Rough not-tumor']\n",
    "    # else:\n",
    "    #    exclude_keywords = ['Metastasis', 'Carcinoma', 'Tumor', 'Rough tumor']\n",
    "\n",
    "    # Read cancer polygon area\n",
    "    include_polygons = []\n",
    "    exclude_polygons = []\n",
    "    all_keywords = include_keywords + exclude_keywords\n",
    "\n",
    "    root = ET.parse(annotation_filepath).getroot()\n",
    "    for anno_tag in root.findall('Annotations/Annotation'):\n",
    "        polygon = []\n",
    "\n",
    "        keyword = anno_tag.get('PartOfGroup')\n",
    "\n",
    "        if keyword in all_keywords:\n",
    "            for coord in anno_tag.findall('Coordinates/Coordinate'):\n",
    "                polygon.append((float(coord.get('X')) / scale_factor,\n",
    "                                float(coord.get('Y')) / scale_factor))\n",
    "\n",
    "        if keyword in include_keywords:\n",
    "            include_polygons.append(polygon)\n",
    "        elif keyword in exclude_keywords:\n",
    "            exclude_polygons.append(polygon)\n",
    "\n",
    "    return include_polygons, exclude_polygons\n",
    "\n",
    "def get_annotation_mask(annot_file, include_keywords, exclude_keywords, size, scale_factor=1, bg_color='BLACK', poly_color='WHITE'):\n",
    "    \"\"\"\n",
    "        Creates a binary mask for the cancer area (white) from annotation file\n",
    "    \"\"\"\n",
    "    logg.info('Creating annotation mask.')\n",
    "    mask = Image.new(\n",
    "        'L', size=size, color=bg_color)\n",
    "    draw = ImageDraw.Draw(mask)\n",
    "    \n",
    "    incl_polygons, excl_polygons = read_polygons(annot_file, scale_factor, include_keywords, exclude_keywords)\n",
    "    \n",
    "    for polygon in incl_polygons:\n",
    "        draw.polygon(xy=polygon, outline=(poly_color), fill=(poly_color))\n",
    "    \n",
    "    for polygon in excl_polygons:\n",
    "        draw.polygon(xy=polygon, outline=(bg_color), fill=(bg_color))\n",
    "    \n",
    "    return mask"
   ]
  },
  {
   "cell_type": "markdown",
   "metadata": {
    "ExecuteTime": {
     "end_time": "2019-10-01T09:23:54.022293Z",
     "start_time": "2019-10-01T09:23:54.019390Z"
    },
    "code_folding": []
   },
   "source": [
    "# BACKGROUND MASKING"
   ]
  },
  {
   "cell_type": "code",
   "execution_count": 4,
   "metadata": {
    "ExecuteTime": {
     "end_time": "2019-10-02T08:12:20.323086Z",
     "start_time": "2019-10-02T08:12:20.310337Z"
    },
    "code_folding": [
     0,
     62
    ]
   },
   "outputs": [],
   "source": [
    "def get_bg_mask(slide, slide_name, base_dir, annot_xml_filepath, disk):\n",
    "\n",
    "    # Get slide info\n",
    "    _, _, bg_level, bg_scale_factor = get_slide_level_info(\n",
    "        slide, magnification=10)\n",
    "\n",
    "    # Create mask dir if does not exist\n",
    "    masks_dir = base_dir / 'level{bg_level}/masks/'.format(bg_level=bg_level)\n",
    "    create_dir(masks_dir)\n",
    "\n",
    "    ### COMBINED BACKGROUND MASK PROCESS ###\n",
    "    final_bg_dir = masks_dir / 'bg_final'\n",
    "    final_bg_filepath = final_bg_dir / \\\n",
    "        '{slide_name}.png'.format(slide_name=slide_name)\n",
    "    create_dir(final_bg_dir)\n",
    "\n",
    "    if final_bg_filepath.exists():\n",
    "        logg.debug('Combined mask already exists. Loading from disk.')\n",
    "        combined_bg_mask = Image.open(str(final_bg_filepath))\n",
    "        return combined_bg_mask\n",
    "\n",
    "    ### BACKGROUND MASK PROCESS ###\n",
    "    logg.debug('\\'{}\\' does not exists. Creating new mask.'.format(\n",
    "        final_bg_filepath))\n",
    "    bg_mask_dir = masks_dir / 'bg_init'\n",
    "    bg_mask_filepath = bg_mask_dir / '{slide_name}-bg-level{bg_level}-hsv-otsu-disk{disk}-close-open.png'.format(\n",
    "        slide_name=slide_name, bg_level=bg_level, disk=disk)\n",
    "    create_dir(bg_mask_dir)\n",
    "\n",
    "    if bg_mask_filepath.exists():\n",
    "        logg.debug('Init background mask already exists. Loading from disk.')\n",
    "        bg_mask = Image.open(str(bg_mask_filepath))\n",
    "    else:\n",
    "        bg_mask = create_bg_mask(slide, bg_level)\n",
    "        bg_mask.save(str(bg_mask_filepath), format='PNG')\n",
    "\n",
    "    ### ANNOTATION MASK PROCESS ###\n",
    "    annot_dir = masks_dir / 'bg_annot'\n",
    "    annot_fp = annot_dir / '{slide_name}.png'.format(slide_name=slide_name)\n",
    "    create_dir(annot_dir)\n",
    "\n",
    "    if annot_fp.exists():\n",
    "        logg.debug('Exclusion mask already exists. Loading from disk.')\n",
    "        annot_mask = Image.open(str(annot_fp))\n",
    "    else:\n",
    "        annot_mask = create_bg_annotation(\n",
    "            annot_xml_filepath, size=slide.level_dimensions[bg_level], scale_factor=bg_scale_factor)\n",
    "        annot_mask.save(str(annot_fp), format='PNG')\n",
    "\n",
    "    # Combine masks\n",
    "    combined_bg_mask = Image.fromarray(\n",
    "        (np.array(bg_mask) & np.array(annot_mask)).astype(np.uint8) * 255, mode='L')\n",
    "    combined_bg_mask.save(str(final_bg_filepath), format='PNG')\n",
    "    return combined_bg_mask\n",
    "\n",
    "def create_bg_annotation(annotation_fp, size, scale_factor):\n",
    "    include_keywords = ['Rough not-tumor', 'Rough tumor', 'Tumor', 'Breast']\n",
    "    exclude_keywords = []\n",
    "    return get_annotation_mask(str(annotation_fp), include_keywords, exclude_keywords,\n",
    "                        size=size, scale_factor=scale_factor,\n",
    "                        bg_color='BLACK', poly_color='WHITE')\n",
    "\n",
    "def create_bg_mask(slide, bg_level, disk=10):\n",
    "    logg.debug('Retrieving scaled down slide image.')\n",
    "    slide_img = slide.read_region(location=(\n",
    "        0, 0), level=bg_level, size=slide.level_dimensions[bg_level]).convert('RGB')\n",
    "    logg.debug('Converting image to HSV.')\n",
    "    slide_hsv = color.rgb2hsv(slide_img)\n",
    "    logg.debug('Saturating')\n",
    "    saturation = slide_hsv[:, :, 1]\n",
    "    logg.debug('Thresholding')\n",
    "    threshold = filters.threshold_otsu(saturation)\n",
    "    logg.debug('Thresholding saturation')\n",
    "    high_saturation = (saturation > threshold)\n",
    "    logg.debug('Creating disk')\n",
    "    disk_object = morphology.disk(disk)\n",
    "    logg.debug('Closing disk')\n",
    "    mask = morphology.closing(high_saturation, disk_object)\n",
    "    logg.debug('Opening disk')\n",
    "    mask = morphology.opening(mask, disk_object)\n",
    "    logg.debug('DONE')\n",
    "    return Image.fromarray(mask)"
   ]
  },
  {
   "cell_type": "markdown",
   "metadata": {
    "code_folding": [
     0
    ]
   },
   "source": [
    "# CANCER MASKING"
   ]
  },
  {
   "cell_type": "code",
   "execution_count": 5,
   "metadata": {
    "ExecuteTime": {
     "end_time": "2019-10-02T08:12:20.330459Z",
     "start_time": "2019-10-02T08:12:20.324949Z"
    },
    "code_folding": [
     0
    ]
   },
   "outputs": [],
   "source": [
    "def get_cancer_mask(slide, slide_name, base_dir, annot_xml_filepath, **kwargs):\n",
    "\n",
    "    # Get slide info\n",
    "    level, scale_factor, _, _ = get_slide_level_info(slide, magnification=10)\n",
    "\n",
    "    # Create mask dir if does not exist\n",
    "    cancer_mask_dir = base_dir / \\\n",
    "        'level{level}/masks/annotations'.format(level=level)\n",
    "    cancer_mask_filepath = cancer_mask_dir / \\\n",
    "        '{slide_name}.png'.format(slide_name=slide_name)\n",
    "\n",
    "    create_dir(cancer_mask_dir)\n",
    "\n",
    "    if cancer_mask_filepath.exists():\n",
    "        # Load mask from disk if already exists\n",
    "        logg.debug('Cancer mask already exists. Loading from disk.')\n",
    "        cancer_mask = Image.open(str(cancer_mask_filepath))\n",
    "    else:\n",
    "        # Create new annotation mask\n",
    "        cancer_mask = create_cancer_annotation(annot_xml_filepath, size=slide.level_dimensions[level], scale_factor=scale_factor)\n",
    "        cancer_mask.save(str(cancer_mask_filepath), format='PNG')\n",
    "\n",
    "    return cancer_mask\n",
    "\n",
    "def create_cancer_annotation(annotation_fp, size, scale_factor):\n",
    "    include_keywords = ['Rough tumor', 'Tumor']\n",
    "    exclude_keywords = []\n",
    "    return get_annotation_mask(str(annotation_fp), include_keywords, exclude_keywords, size=size, scale_factor=scale_factor)"
   ]
  },
  {
   "cell_type": "markdown",
   "metadata": {
    "code_folding": [
     0,
     22,
     36
    ]
   },
   "source": [
    "# UTILITY FUNCTIONS #"
   ]
  },
  {
   "cell_type": "code",
   "execution_count": 6,
   "metadata": {
    "ExecuteTime": {
     "end_time": "2019-10-02T08:12:20.339678Z",
     "start_time": "2019-10-02T08:12:20.332789Z"
    },
    "code_folding": [
     0,
     8,
     27,
     40
    ]
   },
   "outputs": [],
   "source": [
    "def tissue_percent(tile_mask, tile_size):\n",
    "    \"\"\"\n",
    "        Calculates the fraction of non-black area vs total area in a mask\n",
    "    \"\"\"\n",
    "    ts_count = np.count_nonzero(tile_mask)\n",
    "    bg_count = tile_size*tile_size\n",
    "    return ts_count / bg_count\n",
    "\n",
    "def get_slide_level_info(slide, magnification, zero_magnification=20):\n",
    "\n",
    "    if zero_magnification is None:\n",
    "        logg.debug(\n",
    "            'Zero magnification unspecificied. Reading from slide properties.')\n",
    "        zero_magnification = int(slide.properties['openslide.objective-power'])\n",
    "\n",
    "    level = slide.get_best_level_for_downsample(\n",
    "        zero_magnification / magnification)\n",
    "    scale_factor = slide.level_downsamples[level]\n",
    "    logg.debug('Level {} scaling: {}'.format(level, scale_factor))\n",
    "\n",
    "    bg_level = slide.get_best_level_for_downsample(zero_magnification / 1.25)\n",
    "    bg_scale_factor = slide.level_downsamples[bg_level]\n",
    "\n",
    "    logg.debug('BG Level {} scaling: {}'.format(bg_level, bg_scale_factor))\n",
    "    logg.debug('Effective scaling: {}'.format(bg_scale_factor / scale_factor))\n",
    "    return level, scale_factor, bg_level, bg_scale_factor\n",
    "\n",
    "def calculate_progress(y_coord, x_coord, slide_width, slide_height, center_size, old_percentage):\n",
    "    \"\"\"\n",
    "        Calculate progress as a ratio of processed slide area vs total slide area\n",
    "    \"\"\"\n",
    "    total = slide_height*slide_width\n",
    "    processed = (y_coord*slide_width + center_size*x_coord)\n",
    "    percentage = int(processed / total * 100)\n",
    "\n",
    "    if percentage > old_percentage:\n",
    "        print('Progress: {:3}%\\r'.format(percentage), end='')\n",
    "    \n",
    "    return percentage\n",
    "\n",
    "def create_dir(dir_path):\n",
    "    \"\"\" Creates a directory if does not exist already\"\"\"\n",
    "    if not dir_path.exists():\n",
    "        dir_path.mkdir(parents=True)"
   ]
  },
  {
   "cell_type": "markdown",
   "metadata": {
    "code_folding": []
   },
   "source": [
    "# MAIN LOGIC #"
   ]
  },
  {
   "cell_type": "code",
   "execution_count": 7,
   "metadata": {
    "ExecuteTime": {
     "end_time": "2019-10-02T08:12:20.354817Z",
     "start_time": "2019-10-02T08:12:20.342728Z"
    },
    "code_folding": []
   },
   "outputs": [],
   "source": [
    "def main():\n",
    "    TISSUE_TYPE = 'Mammy'\n",
    "    DATA_DIR = Path('/home/matejg/Project/crc_ml/data/')\n",
    "    SLIDE_DIR = DATA_DIR / 'raw' / TISSUE_TYPE / 'slides'\n",
    "    XML_DIR = DATA_DIR / 'raw' / TISSUE_TYPE / 'annotations'\n",
    "\n",
    "    disk = 10\n",
    "    percent = -1\n",
    "    background_threshold = 0.2\n",
    "    cancer_threshold = 1/9\n",
    "    tile_size = 96\n",
    "\n",
    "    for slide_fn in SLIDE_DIR.glob('*.mrxs'):\n",
    "        slide_name = slide_fn.stem\n",
    "        logg.info('Processing: {}'.format(slide_name))\n",
    "\n",
    "        # Skip if slide is not annotated\n",
    "        annot_xml_filepath = (XML_DIR / slide_name).with_suffix('.xml')\n",
    "        if not annot_xml_filepath.exists():\n",
    "            logg.debug('XML Annotation does not exist. Skipping...')\n",
    "            continue\n",
    "\n",
    "        # Open WSI slide\n",
    "        slide = os.open_slide(str(slide_fn))\n",
    "        level, scaling_factor, bg_level, bg_scaling_factor = get_slide_level_info(slide, magnification=10)\n",
    "\n",
    "\n",
    "        MAP_DIR = DATA_DIR / 'processed/{tissue_type}/level{tile_level}/tiles/'.format(tissue_type=TISSUE_TYPE, tile_level=level)\n",
    "        BG_MASK_DIR = DATA_DIR / 'interim/{tissue_type}/'.format(tissue_type=TISSUE_TYPE)\n",
    "\n",
    "        # Skip if only single level\n",
    "        if slide.level_count < level+1:\n",
    "            logg.debug('Not enough levels. Skipping...')\n",
    "            continue\n",
    "\n",
    "        # Retrieve masks\n",
    "        bg_mask = get_bg_mask(slide, slide_name, BG_MASK_DIR, annot_xml_filepath, disk=disk)    \n",
    "        cancer_mask = get_cancer_mask(slide, slide_name, BG_MASK_DIR, annot_xml_filepath)\n",
    "\n",
    "\n",
    "        ### PROCESSING WSI ###\n",
    "        logg.info('Processing WSI tiles.')\n",
    "        slide_width, slide_height = slide.level_dimensions[level]\n",
    "        effective_scaling_factor = bg_scaling_factor / scaling_factor\n",
    "\n",
    "        offset_map = {'row': [], 'col': [], 'class': []}\n",
    "        for row, y_coord in enumerate(range(0, slide_height, tile_size), 1):\n",
    "            for col, x_coord in enumerate(range(0, slide_width, tile_size), 1):\n",
    "\n",
    "                # CALCULATE PROGRESS\n",
    "                percent = calculate_progress(\n",
    "                    y_coord, x_coord, slide_width, slide_height, tile_size, percent)\n",
    "\n",
    "                # RETRIEVE TILE FROM BACKGROUND MASK\n",
    "                tile_mask = bg_mask.crop((int(x_coord // effective_scaling_factor), \n",
    "                                                  int(y_coord // effective_scaling_factor), \n",
    "                                                  int((x_coord+tile_size) // effective_scaling_factor), \n",
    "                                                  int((y_coord+tile_size) // effective_scaling_factor)))\n",
    "\n",
    "                # SKIP IF TILE IS BACKGROUND\n",
    "                if tissue_percent(np.array(tile_mask), int(tile_size // effective_scaling_factor)) < background_threshold:\n",
    "                    continue\n",
    "\n",
    "                # RETRIEVE CENTER REGION OF A TILE FROM CANCER MASK\n",
    "                tile_mask = cancer_mask.crop((x_coord, y_coord, x_coord + tile_size, y_coord + tile_size))\n",
    "\n",
    "                # TILE IS CANCER IFF 1/9 OF TILE IS CANCEROUS\n",
    "                class_ = 0\n",
    "                if tissue_percent(np.array(tile_mask), tile_size) >= cancer_threshold:\n",
    "                    class_ = 1\n",
    "\n",
    "                offset_map['row'].append(row)\n",
    "                offset_map['col'].append(col)\n",
    "                offset_map['class'].append(class_)\n",
    "\n",
    "        offset_df = pd.DataFrame.from_dict(offset_map)\n",
    "        offset_df.set_index(['col', 'row'], inplace=True)\n",
    "\n",
    "        create_dir(MAP_DIR)\n",
    "\n",
    "        output_fn = MAP_DIR / '{slide_name}-bg{bg_level}-tile{tile_size}.gz'.format(\n",
    "            slide_name=slide_name,\n",
    "            bg_level=bg_level, \n",
    "            tile_size=tile_size)\n",
    "        offset_df.to_pickle(output_fn, compression='gzip')"
   ]
  },
  {
   "cell_type": "markdown",
   "metadata": {},
   "source": [
    "# EXECUTOR #"
   ]
  },
  {
   "cell_type": "code",
   "execution_count": 8,
   "metadata": {
    "ExecuteTime": {
     "end_time": "2019-10-02T08:23:18.275675Z",
     "start_time": "2019-10-02T08:12:20.356559Z"
    },
    "code_folding": [
     0
    ]
   },
   "outputs": [
    {
     "name": "stderr",
     "output_type": "stream",
     "text": [
      "2019-10-02 10:12:20 | [INFO] Processing: M023-2012_0597-03-C\n",
      "2019-10-02 10:12:20 | [DEBUG] XML Annotation does not exist. Skipping...\n",
      "2019-10-02 10:12:20 | [INFO] Processing: M028-2012_0702-03-C\n",
      "2019-10-02 10:12:20 | [DEBUG] XML Annotation does not exist. Skipping...\n",
      "2019-10-02 10:12:20 | [INFO] Processing: M009-2012_2901-14-R\n",
      "2019-10-02 10:12:20 | [DEBUG] Level 1 scaling: 2.0\n",
      "2019-10-02 10:12:20 | [DEBUG] BG Level 4 scaling: 16.0\n",
      "2019-10-02 10:12:20 | [DEBUG] Effective scaling: 8.0\n",
      "2019-10-02 10:12:20 | [DEBUG] Level 1 scaling: 2.0\n",
      "2019-10-02 10:12:20 | [DEBUG] BG Level 4 scaling: 16.0\n",
      "2019-10-02 10:12:20 | [DEBUG] Effective scaling: 8.0\n",
      "2019-10-02 10:12:20 | [DEBUG] Combined mask already exists. Loading from disk.\n",
      "2019-10-02 10:12:20 | [DEBUG] STREAM b'IHDR' 16 13\n",
      "2019-10-02 10:12:20 | [DEBUG] STREAM b'IDAT' 41 65536\n",
      "2019-10-02 10:12:20 | [DEBUG] Level 1 scaling: 2.0\n",
      "2019-10-02 10:12:20 | [DEBUG] BG Level 4 scaling: 16.0\n",
      "2019-10-02 10:12:20 | [DEBUG] Effective scaling: 8.0\n",
      "2019-10-02 10:12:20 | [DEBUG] Cancer mask already exists. Loading from disk.\n",
      "2019-10-02 10:12:20 | [DEBUG] STREAM b'IHDR' 16 13\n",
      "2019-10-02 10:12:20 | [DEBUG] STREAM b'IDAT' 41 210368\n",
      "2019-10-02 10:12:20 | [INFO] Processing WSI tiles.\n"
     ]
    },
    {
     "name": "stdout",
     "output_type": "stream",
     "text": [
      "Progress:  99%\r"
     ]
    },
    {
     "name": "stderr",
     "output_type": "stream",
     "text": [
      "2019-10-02 10:12:44 | [INFO] Processing: M026-2012_0698-03-C\n",
      "2019-10-02 10:12:44 | [DEBUG] XML Annotation does not exist. Skipping...\n",
      "2019-10-02 10:12:44 | [INFO] Processing: M005-2012_1326-01-C\n",
      "2019-10-02 10:12:44 | [DEBUG] XML Annotation does not exist. Skipping...\n",
      "2019-10-02 10:12:44 | [INFO] Processing: M006-2012_1365-01-C\n",
      "2019-10-02 10:12:44 | [DEBUG] XML Annotation does not exist. Skipping...\n",
      "2019-10-02 10:12:44 | [INFO] Processing: M008-2012_1404-03-C\n",
      "2019-10-02 10:12:44 | [DEBUG] XML Annotation does not exist. Skipping...\n",
      "2019-10-02 10:12:44 | [INFO] Processing: M025-2012_2969-02-R\n",
      "2019-10-02 10:12:44 | [DEBUG] Level 1 scaling: 2.0\n",
      "2019-10-02 10:12:44 | [DEBUG] BG Level 4 scaling: 16.0\n",
      "2019-10-02 10:12:44 | [DEBUG] Effective scaling: 8.0\n",
      "2019-10-02 10:12:44 | [DEBUG] Level 1 scaling: 2.0\n",
      "2019-10-02 10:12:44 | [DEBUG] BG Level 4 scaling: 16.0\n",
      "2019-10-02 10:12:44 | [DEBUG] Effective scaling: 8.0\n",
      "2019-10-02 10:12:44 | [DEBUG] Combined mask already exists. Loading from disk.\n",
      "2019-10-02 10:12:44 | [DEBUG] STREAM b'IHDR' 16 13\n",
      "2019-10-02 10:12:44 | [DEBUG] STREAM b'IDAT' 41 65536\n",
      "2019-10-02 10:12:44 | [DEBUG] Level 1 scaling: 2.0\n",
      "2019-10-02 10:12:44 | [DEBUG] BG Level 4 scaling: 16.0\n",
      "2019-10-02 10:12:44 | [DEBUG] Effective scaling: 8.0\n",
      "2019-10-02 10:12:44 | [DEBUG] Cancer mask already exists. Loading from disk.\n",
      "2019-10-02 10:12:44 | [DEBUG] STREAM b'IHDR' 16 13\n",
      "2019-10-02 10:12:44 | [DEBUG] STREAM b'IDAT' 41 210368\n",
      "2019-10-02 10:12:44 | [INFO] Processing WSI tiles.\n"
     ]
    },
    {
     "name": "stdout",
     "output_type": "stream",
     "text": [
      "Progress:  99%\r"
     ]
    },
    {
     "name": "stderr",
     "output_type": "stream",
     "text": [
      "2019-10-02 10:13:08 | [INFO] Processing: M031-2012_0924-01-C\n",
      "2019-10-02 10:13:08 | [DEBUG] XML Annotation does not exist. Skipping...\n",
      "2019-10-02 10:13:08 | [INFO] Processing: M017-2012_4649-14-R\n",
      "2019-10-02 10:13:08 | [DEBUG] Level 1 scaling: 2.0\n",
      "2019-10-02 10:13:08 | [DEBUG] BG Level 4 scaling: 16.0\n",
      "2019-10-02 10:13:08 | [DEBUG] Effective scaling: 8.0\n",
      "2019-10-02 10:13:08 | [DEBUG] Level 1 scaling: 2.0\n",
      "2019-10-02 10:13:08 | [DEBUG] BG Level 4 scaling: 16.0\n",
      "2019-10-02 10:13:08 | [DEBUG] Effective scaling: 8.0\n",
      "2019-10-02 10:13:08 | [DEBUG] Combined mask already exists. Loading from disk.\n",
      "2019-10-02 10:13:08 | [DEBUG] STREAM b'IHDR' 16 13\n",
      "2019-10-02 10:13:08 | [DEBUG] STREAM b'IDAT' 41 65536\n",
      "2019-10-02 10:13:08 | [DEBUG] Level 1 scaling: 2.0\n",
      "2019-10-02 10:13:08 | [DEBUG] BG Level 4 scaling: 16.0\n",
      "2019-10-02 10:13:08 | [DEBUG] Effective scaling: 8.0\n",
      "2019-10-02 10:13:08 | [DEBUG] Cancer mask already exists. Loading from disk.\n",
      "2019-10-02 10:13:08 | [DEBUG] STREAM b'IHDR' 16 13\n",
      "2019-10-02 10:13:08 | [DEBUG] STREAM b'IDAT' 41 210368\n",
      "2019-10-02 10:13:08 | [INFO] Processing WSI tiles.\n"
     ]
    },
    {
     "name": "stdout",
     "output_type": "stream",
     "text": [
      "Progress:  99%\r"
     ]
    },
    {
     "name": "stderr",
     "output_type": "stream",
     "text": [
      "2019-10-02 10:13:29 | [INFO] Processing: M007-2012_1403-02-C\n",
      "2019-10-02 10:13:29 | [DEBUG] XML Annotation does not exist. Skipping...\n",
      "2019-10-02 10:13:29 | [INFO] Processing: M018-2012_1202-06-R\n",
      "2019-10-02 10:13:29 | [DEBUG] Level 1 scaling: 2.0\n",
      "2019-10-02 10:13:30 | [DEBUG] BG Level 4 scaling: 16.0\n",
      "2019-10-02 10:13:30 | [DEBUG] Effective scaling: 8.0\n",
      "2019-10-02 10:13:30 | [DEBUG] Level 1 scaling: 2.0\n",
      "2019-10-02 10:13:30 | [DEBUG] BG Level 4 scaling: 16.0\n",
      "2019-10-02 10:13:30 | [DEBUG] Effective scaling: 8.0\n",
      "2019-10-02 10:13:30 | [DEBUG] Combined mask already exists. Loading from disk.\n",
      "2019-10-02 10:13:30 | [DEBUG] STREAM b'IHDR' 16 13\n",
      "2019-10-02 10:13:30 | [DEBUG] STREAM b'IDAT' 41 65536\n",
      "2019-10-02 10:13:30 | [DEBUG] Level 1 scaling: 2.0\n",
      "2019-10-02 10:13:30 | [DEBUG] BG Level 4 scaling: 16.0\n",
      "2019-10-02 10:13:30 | [DEBUG] Effective scaling: 8.0\n",
      "2019-10-02 10:13:30 | [DEBUG] Cancer mask already exists. Loading from disk.\n",
      "2019-10-02 10:13:30 | [DEBUG] STREAM b'IHDR' 16 13\n",
      "2019-10-02 10:13:30 | [DEBUG] STREAM b'IDAT' 41 210368\n",
      "2019-10-02 10:13:30 | [INFO] Processing WSI tiles.\n"
     ]
    },
    {
     "name": "stdout",
     "output_type": "stream",
     "text": [
      "Progress: 100%\r"
     ]
    },
    {
     "name": "stderr",
     "output_type": "stream",
     "text": [
      "2019-10-02 10:13:51 | [INFO] Processing: M015-2012_0200-03-C\n",
      "2019-10-02 10:13:51 | [DEBUG] XML Annotation does not exist. Skipping...\n",
      "2019-10-02 10:13:51 | [INFO] Processing: M015-2012_4025-03-R\n",
      "2019-10-02 10:13:51 | [DEBUG] XML Annotation does not exist. Skipping...\n",
      "2019-10-02 10:13:51 | [INFO] Processing: M031-2012_2263-05-R\n",
      "2019-10-02 10:13:51 | [DEBUG] Level 1 scaling: 2.0\n",
      "2019-10-02 10:13:51 | [DEBUG] BG Level 4 scaling: 16.0\n",
      "2019-10-02 10:13:51 | [DEBUG] Effective scaling: 8.0\n",
      "2019-10-02 10:13:51 | [DEBUG] Level 1 scaling: 2.0\n",
      "2019-10-02 10:13:51 | [DEBUG] BG Level 4 scaling: 16.0\n",
      "2019-10-02 10:13:51 | [DEBUG] Effective scaling: 8.0\n",
      "2019-10-02 10:13:51 | [DEBUG] Combined mask already exists. Loading from disk.\n",
      "2019-10-02 10:13:51 | [DEBUG] STREAM b'IHDR' 16 13\n",
      "2019-10-02 10:13:51 | [DEBUG] STREAM b'IDAT' 41 65536\n",
      "2019-10-02 10:13:51 | [DEBUG] Level 1 scaling: 2.0\n",
      "2019-10-02 10:13:51 | [DEBUG] BG Level 4 scaling: 16.0\n",
      "2019-10-02 10:13:51 | [DEBUG] Effective scaling: 8.0\n",
      "2019-10-02 10:13:51 | [DEBUG] Cancer mask already exists. Loading from disk.\n",
      "2019-10-02 10:13:51 | [DEBUG] STREAM b'IHDR' 16 13\n",
      "2019-10-02 10:13:51 | [DEBUG] STREAM b'IDAT' 41 210368\n",
      "2019-10-02 10:13:51 | [INFO] Processing WSI tiles.\n"
     ]
    },
    {
     "name": "stdout",
     "output_type": "stream",
     "text": [
      "Progress: 100%\r"
     ]
    },
    {
     "name": "stderr",
     "output_type": "stream",
     "text": [
      "2019-10-02 10:14:13 | [INFO] Processing: M028-2012_1351-02-R\n",
      "2019-10-02 10:14:13 | [DEBUG] Level 1 scaling: 2.0\n",
      "2019-10-02 10:14:13 | [DEBUG] BG Level 4 scaling: 16.0\n",
      "2019-10-02 10:14:13 | [DEBUG] Effective scaling: 8.0\n",
      "2019-10-02 10:14:13 | [DEBUG] Level 1 scaling: 2.0\n",
      "2019-10-02 10:14:13 | [DEBUG] BG Level 4 scaling: 16.0\n",
      "2019-10-02 10:14:13 | [DEBUG] Effective scaling: 8.0\n",
      "2019-10-02 10:14:13 | [DEBUG] Combined mask already exists. Loading from disk.\n",
      "2019-10-02 10:14:13 | [DEBUG] STREAM b'IHDR' 16 13\n",
      "2019-10-02 10:14:13 | [DEBUG] STREAM b'IDAT' 41 65536\n",
      "2019-10-02 10:14:13 | [DEBUG] Level 1 scaling: 2.0\n",
      "2019-10-02 10:14:13 | [DEBUG] BG Level 4 scaling: 16.0\n",
      "2019-10-02 10:14:13 | [DEBUG] Effective scaling: 8.0\n",
      "2019-10-02 10:14:13 | [DEBUG] Cancer mask already exists. Loading from disk.\n",
      "2019-10-02 10:14:13 | [DEBUG] STREAM b'IHDR' 16 13\n",
      "2019-10-02 10:14:13 | [DEBUG] STREAM b'IDAT' 41 210368\n",
      "2019-10-02 10:14:13 | [INFO] Processing WSI tiles.\n"
     ]
    },
    {
     "name": "stdout",
     "output_type": "stream",
     "text": [
      "Progress:  98%\r"
     ]
    },
    {
     "name": "stderr",
     "output_type": "stream",
     "text": [
      "2019-10-02 10:14:36 | [INFO] Processing: M017-2012_0317-09-C\n",
      "2019-10-02 10:14:36 | [DEBUG] XML Annotation does not exist. Skipping...\n",
      "2019-10-02 10:14:36 | [INFO] Processing: M032-2012_1088-02-C\n",
      "2019-10-02 10:14:36 | [DEBUG] XML Annotation does not exist. Skipping...\n",
      "2019-10-02 10:14:36 | [INFO] Processing: M022-2012_1285-07-R\n"
     ]
    },
    {
     "name": "stdout",
     "output_type": "stream",
     "text": [
      "Progress:  99%\r",
      "Progress: 100%\r"
     ]
    },
    {
     "name": "stderr",
     "output_type": "stream",
     "text": [
      "2019-10-02 10:14:37 | [DEBUG] Level 1 scaling: 2.0\n",
      "2019-10-02 10:14:37 | [DEBUG] BG Level 4 scaling: 16.0\n",
      "2019-10-02 10:14:37 | [DEBUG] Effective scaling: 8.0\n",
      "2019-10-02 10:14:37 | [DEBUG] Level 1 scaling: 2.0\n",
      "2019-10-02 10:14:37 | [DEBUG] BG Level 4 scaling: 16.0\n",
      "2019-10-02 10:14:37 | [DEBUG] Effective scaling: 8.0\n",
      "2019-10-02 10:14:37 | [DEBUG] Combined mask already exists. Loading from disk.\n",
      "2019-10-02 10:14:37 | [DEBUG] STREAM b'IHDR' 16 13\n",
      "2019-10-02 10:14:37 | [DEBUG] STREAM b'IDAT' 41 65536\n",
      "2019-10-02 10:14:37 | [DEBUG] Level 1 scaling: 2.0\n",
      "2019-10-02 10:14:37 | [DEBUG] BG Level 4 scaling: 16.0\n",
      "2019-10-02 10:14:37 | [DEBUG] Effective scaling: 8.0\n",
      "2019-10-02 10:14:37 | [DEBUG] Cancer mask already exists. Loading from disk.\n",
      "2019-10-02 10:14:37 | [DEBUG] STREAM b'IHDR' 16 13\n",
      "2019-10-02 10:14:37 | [DEBUG] STREAM b'IDAT' 41 210368\n",
      "2019-10-02 10:14:37 | [INFO] Processing WSI tiles.\n"
     ]
    },
    {
     "name": "stdout",
     "output_type": "stream",
     "text": [
      "Progress:  99%\r"
     ]
    },
    {
     "name": "stderr",
     "output_type": "stream",
     "text": [
      "2019-10-02 10:14:59 | [INFO] Processing: M020-2012_1825-03-R\n",
      "2019-10-02 10:14:59 | [DEBUG] Level 1 scaling: 2.0\n",
      "2019-10-02 10:14:59 | [DEBUG] BG Level 4 scaling: 16.0\n",
      "2019-10-02 10:14:59 | [DEBUG] Effective scaling: 8.0\n",
      "2019-10-02 10:14:59 | [DEBUG] Level 1 scaling: 2.0\n",
      "2019-10-02 10:14:59 | [DEBUG] BG Level 4 scaling: 16.0\n",
      "2019-10-02 10:14:59 | [DEBUG] Effective scaling: 8.0\n",
      "2019-10-02 10:14:59 | [DEBUG] Combined mask already exists. Loading from disk.\n",
      "2019-10-02 10:14:59 | [DEBUG] STREAM b'IHDR' 16 13\n",
      "2019-10-02 10:14:59 | [DEBUG] STREAM b'IDAT' 41 65536\n",
      "2019-10-02 10:14:59 | [DEBUG] Level 1 scaling: 2.0\n",
      "2019-10-02 10:14:59 | [DEBUG] BG Level 4 scaling: 16.0\n",
      "2019-10-02 10:14:59 | [DEBUG] Effective scaling: 8.0\n",
      "2019-10-02 10:14:59 | [DEBUG] Cancer mask already exists. Loading from disk.\n",
      "2019-10-02 10:14:59 | [DEBUG] STREAM b'IHDR' 16 13\n",
      "2019-10-02 10:14:59 | [DEBUG] STREAM b'IDAT' 41 210368\n",
      "2019-10-02 10:14:59 | [INFO] Processing WSI tiles.\n"
     ]
    },
    {
     "name": "stdout",
     "output_type": "stream",
     "text": [
      "Progress:  99%\r"
     ]
    },
    {
     "name": "stderr",
     "output_type": "stream",
     "text": [
      "2019-10-02 10:15:21 | [INFO] Processing: M018-2012_0362-06-C\n",
      "2019-10-02 10:15:21 | [DEBUG] XML Annotation does not exist. Skipping...\n",
      "2019-10-02 10:15:21 | [INFO] Processing: M007-2012_2577-06-R\n",
      "2019-10-02 10:15:21 | [DEBUG] XML Annotation does not exist. Skipping...\n",
      "2019-10-02 10:15:21 | [INFO] Processing: M012-2012_0011-02-C\n",
      "2019-10-02 10:15:21 | [DEBUG] XML Annotation does not exist. Skipping...\n",
      "2019-10-02 10:15:21 | [INFO] Processing: M033-2012_1133-04-C\n",
      "2019-10-02 10:15:21 | [DEBUG] XML Annotation does not exist. Skipping...\n",
      "2019-10-02 10:15:21 | [INFO] Processing: M002-2012_1260-03-C\n",
      "2019-10-02 10:15:21 | [DEBUG] XML Annotation does not exist. Skipping...\n",
      "2019-10-02 10:15:21 | [INFO] Processing: M018-2012_0362-03-C\n",
      "2019-10-02 10:15:21 | [DEBUG] XML Annotation does not exist. Skipping...\n",
      "2019-10-02 10:15:21 | [INFO] Processing: M003-2012_1293-01-C\n",
      "2019-10-02 10:15:21 | [DEBUG] XML Annotation does not exist. Skipping...\n",
      "2019-10-02 10:15:21 | [INFO] Processing: M004-2012_1296-02-C\n",
      "2019-10-02 10:15:21 | [DEBUG] XML Annotation does not exist. Skipping...\n",
      "2019-10-02 10:15:21 | [INFO] Processing: M013-2012_0025-02-C\n",
      "2019-10-02 10:15:21 | [DEBUG] XML Annotation does not exist. Skipping...\n",
      "2019-10-02 10:15:21 | [INFO] Processing: M001-2012_1210-03-C\n",
      "2019-10-02 10:15:21 | [DEBUG] XML Annotation does not exist. Skipping...\n",
      "2019-10-02 10:15:21 | [INFO] Processing: M019-2012_0397-01-C\n",
      "2019-10-02 10:15:21 | [DEBUG] XML Annotation does not exist. Skipping...\n",
      "2019-10-02 10:15:21 | [INFO] Processing: M003-2012_2132-06-R\n",
      "2019-10-02 10:15:21 | [DEBUG] Level 1 scaling: 2.0\n",
      "2019-10-02 10:15:21 | [DEBUG] BG Level 4 scaling: 16.0\n",
      "2019-10-02 10:15:21 | [DEBUG] Effective scaling: 8.0\n",
      "2019-10-02 10:15:21 | [DEBUG] Level 1 scaling: 2.0\n",
      "2019-10-02 10:15:21 | [DEBUG] BG Level 4 scaling: 16.0\n",
      "2019-10-02 10:15:21 | [DEBUG] Effective scaling: 8.0\n",
      "2019-10-02 10:15:21 | [DEBUG] Combined mask already exists. Loading from disk.\n",
      "2019-10-02 10:15:21 | [DEBUG] STREAM b'IHDR' 16 13\n",
      "2019-10-02 10:15:21 | [DEBUG] STREAM b'IDAT' 41 65536\n",
      "2019-10-02 10:15:21 | [DEBUG] Level 1 scaling: 2.0\n",
      "2019-10-02 10:15:21 | [DEBUG] BG Level 4 scaling: 16.0\n",
      "2019-10-02 10:15:21 | [DEBUG] Effective scaling: 8.0\n",
      "2019-10-02 10:15:21 | [DEBUG] Cancer mask already exists. Loading from disk.\n",
      "2019-10-02 10:15:21 | [DEBUG] STREAM b'IHDR' 16 13\n",
      "2019-10-02 10:15:21 | [DEBUG] STREAM b'IDAT' 41 210368\n",
      "2019-10-02 10:15:21 | [INFO] Processing WSI tiles.\n"
     ]
    },
    {
     "name": "stdout",
     "output_type": "stream",
     "text": [
      "Progress:  98%\r"
     ]
    },
    {
     "name": "stderr",
     "output_type": "stream",
     "text": [
      "2019-10-02 10:15:44 | [INFO] Processing: M025-2012_0661-01-C\n",
      "2019-10-02 10:15:44 | [DEBUG] XML Annotation does not exist. Skipping...\n",
      "2019-10-02 10:15:44 | [INFO] Processing: M030-2012_1472-04-R\n"
     ]
    },
    {
     "name": "stdout",
     "output_type": "stream",
     "text": [
      "Progress:  99%\r",
      "Progress: 100%\r"
     ]
    },
    {
     "name": "stderr",
     "output_type": "stream",
     "text": [
      "2019-10-02 10:15:44 | [DEBUG] Level 1 scaling: 2.0\n",
      "2019-10-02 10:15:44 | [DEBUG] BG Level 4 scaling: 16.0\n",
      "2019-10-02 10:15:44 | [DEBUG] Effective scaling: 8.0\n",
      "2019-10-02 10:15:44 | [DEBUG] Level 1 scaling: 2.0\n",
      "2019-10-02 10:15:44 | [DEBUG] BG Level 4 scaling: 16.0\n",
      "2019-10-02 10:15:44 | [DEBUG] Effective scaling: 8.0\n",
      "2019-10-02 10:15:44 | [DEBUG] Combined mask already exists. Loading from disk.\n",
      "2019-10-02 10:15:44 | [DEBUG] STREAM b'IHDR' 16 13\n",
      "2019-10-02 10:15:44 | [DEBUG] STREAM b'IDAT' 41 65536\n",
      "2019-10-02 10:15:44 | [DEBUG] Level 1 scaling: 2.0\n",
      "2019-10-02 10:15:44 | [DEBUG] BG Level 4 scaling: 16.0\n",
      "2019-10-02 10:15:44 | [DEBUG] Effective scaling: 8.0\n",
      "2019-10-02 10:15:44 | [DEBUG] Cancer mask already exists. Loading from disk.\n",
      "2019-10-02 10:15:44 | [DEBUG] STREAM b'IHDR' 16 13\n",
      "2019-10-02 10:15:44 | [DEBUG] STREAM b'IDAT' 41 210368\n",
      "2019-10-02 10:15:44 | [INFO] Processing WSI tiles.\n"
     ]
    },
    {
     "name": "stdout",
     "output_type": "stream",
     "text": [
      "Progress: 100%\r"
     ]
    },
    {
     "name": "stderr",
     "output_type": "stream",
     "text": [
      "2019-10-02 10:16:06 | [INFO] Processing: M006-2012_2340-02-R\n",
      "2019-10-02 10:16:06 | [DEBUG] XML Annotation does not exist. Skipping...\n",
      "2019-10-02 10:16:06 | [INFO] Processing: M021-2012_0445-04-C\n",
      "2019-10-02 10:16:06 | [DEBUG] XML Annotation does not exist. Skipping...\n",
      "2019-10-02 10:16:06 | [INFO] Processing: M028-2012_0702-02-C\n",
      "2019-10-02 10:16:06 | [DEBUG] XML Annotation does not exist. Skipping...\n",
      "2019-10-02 10:16:06 | [INFO] Processing: M008-2012_1404-02-C\n",
      "2019-10-02 10:16:06 | [DEBUG] XML Annotation does not exist. Skipping...\n",
      "2019-10-02 10:16:06 | [INFO] Processing: M011-2012_0798-03-R\n",
      "2019-10-02 10:16:06 | [DEBUG] Level 1 scaling: 2.0\n",
      "2019-10-02 10:16:06 | [DEBUG] BG Level 4 scaling: 16.0\n",
      "2019-10-02 10:16:06 | [DEBUG] Effective scaling: 8.0\n",
      "2019-10-02 10:16:06 | [DEBUG] Level 1 scaling: 2.0\n",
      "2019-10-02 10:16:06 | [DEBUG] BG Level 4 scaling: 16.0\n",
      "2019-10-02 10:16:06 | [DEBUG] Effective scaling: 8.0\n",
      "2019-10-02 10:16:06 | [DEBUG] Combined mask already exists. Loading from disk.\n",
      "2019-10-02 10:16:06 | [DEBUG] STREAM b'IHDR' 16 13\n",
      "2019-10-02 10:16:06 | [DEBUG] STREAM b'IDAT' 41 65536\n",
      "2019-10-02 10:16:06 | [DEBUG] Level 1 scaling: 2.0\n",
      "2019-10-02 10:16:06 | [DEBUG] BG Level 4 scaling: 16.0\n",
      "2019-10-02 10:16:06 | [DEBUG] Effective scaling: 8.0\n",
      "2019-10-02 10:16:06 | [DEBUG] Cancer mask already exists. Loading from disk.\n",
      "2019-10-02 10:16:06 | [DEBUG] STREAM b'IHDR' 16 13\n",
      "2019-10-02 10:16:06 | [DEBUG] STREAM b'IDAT' 41 210368\n",
      "2019-10-02 10:16:06 | [INFO] Processing WSI tiles.\n"
     ]
    },
    {
     "name": "stdout",
     "output_type": "stream",
     "text": [
      "Progress:  99%\r"
     ]
    },
    {
     "name": "stderr",
     "output_type": "stream",
     "text": [
      "2019-10-02 10:16:30 | [INFO] Processing: M019-2012_1157-08-R\n",
      "2019-10-02 10:16:30 | [DEBUG] Level 1 scaling: 2.0\n",
      "2019-10-02 10:16:30 | [DEBUG] BG Level 4 scaling: 16.0\n",
      "2019-10-02 10:16:30 | [DEBUG] Effective scaling: 8.0\n",
      "2019-10-02 10:16:30 | [DEBUG] Level 1 scaling: 2.0\n",
      "2019-10-02 10:16:30 | [DEBUG] BG Level 4 scaling: 16.0\n",
      "2019-10-02 10:16:30 | [DEBUG] Effective scaling: 8.0\n",
      "2019-10-02 10:16:30 | [DEBUG] Combined mask already exists. Loading from disk.\n",
      "2019-10-02 10:16:30 | [DEBUG] STREAM b'IHDR' 16 13\n",
      "2019-10-02 10:16:30 | [DEBUG] STREAM b'IDAT' 41 65536\n",
      "2019-10-02 10:16:30 | [DEBUG] Level 1 scaling: 2.0\n",
      "2019-10-02 10:16:30 | [DEBUG] BG Level 4 scaling: 16.0\n",
      "2019-10-02 10:16:30 | [DEBUG] Effective scaling: 8.0\n",
      "2019-10-02 10:16:30 | [DEBUG] Cancer mask already exists. Loading from disk.\n",
      "2019-10-02 10:16:30 | [DEBUG] STREAM b'IHDR' 16 13\n",
      "2019-10-02 10:16:30 | [DEBUG] STREAM b'IDAT' 41 210368\n",
      "2019-10-02 10:16:30 | [INFO] Processing WSI tiles.\n"
     ]
    },
    {
     "name": "stdout",
     "output_type": "stream",
     "text": [
      "Progress:  99%\r"
     ]
    },
    {
     "name": "stderr",
     "output_type": "stream",
     "text": [
      "2019-10-02 10:16:53 | [INFO] Processing: M021-2012_1098-03-R\n",
      "2019-10-02 10:16:53 | [DEBUG] Level 1 scaling: 2.0\n",
      "2019-10-02 10:16:53 | [DEBUG] BG Level 4 scaling: 16.0\n",
      "2019-10-02 10:16:53 | [DEBUG] Effective scaling: 8.0\n",
      "2019-10-02 10:16:53 | [DEBUG] Level 1 scaling: 2.0\n",
      "2019-10-02 10:16:53 | [DEBUG] BG Level 4 scaling: 16.0\n",
      "2019-10-02 10:16:53 | [DEBUG] Effective scaling: 8.0\n",
      "2019-10-02 10:16:53 | [DEBUG] Combined mask already exists. Loading from disk.\n",
      "2019-10-02 10:16:53 | [DEBUG] STREAM b'IHDR' 16 13\n",
      "2019-10-02 10:16:53 | [DEBUG] STREAM b'IDAT' 41 65536\n",
      "2019-10-02 10:16:53 | [DEBUG] Level 1 scaling: 2.0\n",
      "2019-10-02 10:16:53 | [DEBUG] BG Level 4 scaling: 16.0\n",
      "2019-10-02 10:16:53 | [DEBUG] Effective scaling: 8.0\n",
      "2019-10-02 10:16:53 | [DEBUG] Cancer mask already exists. Loading from disk.\n",
      "2019-10-02 10:16:53 | [DEBUG] STREAM b'IHDR' 16 13\n",
      "2019-10-02 10:16:53 | [DEBUG] STREAM b'IDAT' 41 210368\n",
      "2019-10-02 10:16:53 | [INFO] Processing WSI tiles.\n"
     ]
    },
    {
     "name": "stdout",
     "output_type": "stream",
     "text": [
      "Progress:  99%\r"
     ]
    },
    {
     "name": "stderr",
     "output_type": "stream",
     "text": [
      "2019-10-02 10:17:15 | [INFO] Processing: M011-2012_0009-04-C\n",
      "2019-10-02 10:17:15 | [DEBUG] XML Annotation does not exist. Skipping...\n",
      "2019-10-02 10:17:15 | [INFO] Processing: M033-2012_1133-01-C\n",
      "2019-10-02 10:17:15 | [DEBUG] XML Annotation does not exist. Skipping...\n",
      "2019-10-02 10:17:15 | [INFO] Processing: M009-2012_1508-01-C\n",
      "2019-10-02 10:17:15 | [DEBUG] XML Annotation does not exist. Skipping...\n",
      "2019-10-02 10:17:15 | [INFO] Processing: M001-2012_1681-05-R\n",
      "2019-10-02 10:17:15 | [DEBUG] Level 1 scaling: 2.0\n",
      "2019-10-02 10:17:15 | [DEBUG] BG Level 4 scaling: 16.0\n",
      "2019-10-02 10:17:15 | [DEBUG] Effective scaling: 8.0\n",
      "2019-10-02 10:17:15 | [DEBUG] Level 1 scaling: 2.0\n",
      "2019-10-02 10:17:15 | [DEBUG] BG Level 4 scaling: 16.0\n",
      "2019-10-02 10:17:15 | [DEBUG] Effective scaling: 8.0\n",
      "2019-10-02 10:17:15 | [DEBUG] '/home/matejg/Project/crc_ml/data/interim/Mammy/level4/masks/bg_final/M001-2012_1681-05-R.png' does not exists. Creating new mask.\n",
      "2019-10-02 10:17:15 | [DEBUG] Init background mask already exists. Loading from disk.\n",
      "2019-10-02 10:17:15 | [DEBUG] STREAM b'IHDR' 16 13\n",
      "2019-10-02 10:17:15 | [DEBUG] STREAM b'IDAT' 41 65536\n",
      "2019-10-02 10:17:15 | [INFO] Creating annotation mask.\n"
     ]
    },
    {
     "name": "stdout",
     "output_type": "stream",
     "text": [
      "Progress: 100%\r"
     ]
    },
    {
     "name": "stderr",
     "output_type": "stream",
     "text": [
      "2019-10-02 10:17:18 | [DEBUG] Level 1 scaling: 2.0\n",
      "2019-10-02 10:17:18 | [DEBUG] BG Level 4 scaling: 16.0\n",
      "2019-10-02 10:17:18 | [DEBUG] Effective scaling: 8.0\n",
      "2019-10-02 10:17:18 | [INFO] Creating annotation mask.\n",
      "2019-10-02 10:18:00 | [INFO] Processing WSI tiles.\n"
     ]
    },
    {
     "name": "stdout",
     "output_type": "stream",
     "text": [
      "Progress:  99%\r"
     ]
    },
    {
     "name": "stderr",
     "output_type": "stream",
     "text": [
      "2019-10-02 10:18:10 | [INFO] Processing: M012-2012_0011-06-C\n",
      "2019-10-02 10:18:10 | [DEBUG] XML Annotation does not exist. Skipping...\n",
      "2019-10-02 10:18:10 | [INFO] Processing: M027-2012_0699-01-C\n",
      "2019-10-02 10:18:10 | [DEBUG] XML Annotation does not exist. Skipping...\n",
      "2019-10-02 10:18:10 | [INFO] Processing: M026-2012_0698-01-C\n",
      "2019-10-02 10:18:10 | [DEBUG] XML Annotation does not exist. Skipping...\n",
      "2019-10-02 10:18:10 | [INFO] Processing: M010-2012_1510-03-C\n",
      "2019-10-02 10:18:10 | [DEBUG] XML Annotation does not exist. Skipping...\n",
      "2019-10-02 10:18:10 | [INFO] Processing: M017-2012_0317-07-C\n",
      "2019-10-02 10:18:10 | [DEBUG] XML Annotation does not exist. Skipping...\n",
      "2019-10-02 10:18:10 | [INFO] Processing: M030-2012_0804-02-C\n",
      "2019-10-02 10:18:10 | [DEBUG] XML Annotation does not exist. Skipping...\n",
      "2019-10-02 10:18:10 | [INFO] Processing: M006-2012_1365-03-C\n",
      "2019-10-02 10:18:10 | [DEBUG] XML Annotation does not exist. Skipping...\n",
      "2019-10-02 10:18:10 | [INFO] Processing: M025-2012_0661-03-C\n",
      "2019-10-02 10:18:10 | [DEBUG] XML Annotation does not exist. Skipping...\n",
      "2019-10-02 10:18:10 | [INFO] Processing: M032-2012_2949-04-R\n",
      "2019-10-02 10:18:11 | [DEBUG] Level 1 scaling: 2.0\n",
      "2019-10-02 10:18:11 | [DEBUG] BG Level 4 scaling: 16.0\n",
      "2019-10-02 10:18:11 | [DEBUG] Effective scaling: 8.0\n",
      "2019-10-02 10:18:11 | [DEBUG] Level 1 scaling: 2.0\n",
      "2019-10-02 10:18:11 | [DEBUG] BG Level 4 scaling: 16.0\n",
      "2019-10-02 10:18:11 | [DEBUG] Effective scaling: 8.0\n",
      "2019-10-02 10:18:11 | [DEBUG] Combined mask already exists. Loading from disk.\n",
      "2019-10-02 10:18:11 | [DEBUG] STREAM b'IHDR' 16 13\n",
      "2019-10-02 10:18:11 | [DEBUG] STREAM b'IDAT' 41 65536\n",
      "2019-10-02 10:18:11 | [DEBUG] Level 1 scaling: 2.0\n",
      "2019-10-02 10:18:11 | [DEBUG] BG Level 4 scaling: 16.0\n",
      "2019-10-02 10:18:11 | [DEBUG] Effective scaling: 8.0\n",
      "2019-10-02 10:18:11 | [DEBUG] Cancer mask already exists. Loading from disk.\n",
      "2019-10-02 10:18:11 | [DEBUG] STREAM b'IHDR' 16 13\n",
      "2019-10-02 10:18:11 | [DEBUG] STREAM b'IDAT' 41 210368\n"
     ]
    },
    {
     "name": "stdout",
     "output_type": "stream",
     "text": [
      "Progress: 100%\r"
     ]
    },
    {
     "name": "stderr",
     "output_type": "stream",
     "text": [
      "2019-10-02 10:18:11 | [INFO] Processing WSI tiles.\n"
     ]
    },
    {
     "name": "stdout",
     "output_type": "stream",
     "text": [
      "Progress: 100%\r"
     ]
    },
    {
     "name": "stderr",
     "output_type": "stream",
     "text": [
      "2019-10-02 10:18:33 | [INFO] Processing: M026-2012_1102-08-R\n",
      "2019-10-02 10:18:33 | [DEBUG] Level 1 scaling: 2.0\n",
      "2019-10-02 10:18:33 | [DEBUG] BG Level 4 scaling: 16.0\n",
      "2019-10-02 10:18:33 | [DEBUG] Effective scaling: 8.0\n",
      "2019-10-02 10:18:33 | [DEBUG] Level 1 scaling: 2.0\n",
      "2019-10-02 10:18:33 | [DEBUG] BG Level 4 scaling: 16.0\n",
      "2019-10-02 10:18:33 | [DEBUG] Effective scaling: 8.0\n",
      "2019-10-02 10:18:33 | [DEBUG] Combined mask already exists. Loading from disk.\n",
      "2019-10-02 10:18:33 | [DEBUG] STREAM b'IHDR' 16 13\n",
      "2019-10-02 10:18:33 | [DEBUG] STREAM b'IDAT' 41 65536\n",
      "2019-10-02 10:18:33 | [DEBUG] Level 1 scaling: 2.0\n",
      "2019-10-02 10:18:33 | [DEBUG] BG Level 4 scaling: 16.0\n",
      "2019-10-02 10:18:33 | [DEBUG] Effective scaling: 8.0\n",
      "2019-10-02 10:18:33 | [DEBUG] Cancer mask already exists. Loading from disk.\n",
      "2019-10-02 10:18:33 | [DEBUG] STREAM b'IHDR' 16 13\n",
      "2019-10-02 10:18:33 | [DEBUG] STREAM b'IDAT' 41 210368\n",
      "2019-10-02 10:18:33 | [INFO] Processing WSI tiles.\n"
     ]
    },
    {
     "name": "stdout",
     "output_type": "stream",
     "text": [
      "Progress:  99%\r"
     ]
    },
    {
     "name": "stderr",
     "output_type": "stream",
     "text": [
      "2019-10-02 10:18:55 | [INFO] Processing: M004-2012_1296-04-C\n",
      "2019-10-02 10:18:55 | [DEBUG] XML Annotation does not exist. Skipping...\n",
      "2019-10-02 10:18:55 | [INFO] Processing: M033-2012_2074-05-R\n",
      "2019-10-02 10:18:55 | [DEBUG] Level 1 scaling: 2.0\n",
      "2019-10-02 10:18:55 | [DEBUG] BG Level 4 scaling: 16.0\n",
      "2019-10-02 10:18:55 | [DEBUG] Effective scaling: 8.0\n",
      "2019-10-02 10:18:55 | [DEBUG] Level 1 scaling: 2.0\n",
      "2019-10-02 10:18:55 | [DEBUG] BG Level 4 scaling: 16.0\n",
      "2019-10-02 10:18:55 | [DEBUG] Effective scaling: 8.0\n",
      "2019-10-02 10:18:55 | [DEBUG] Combined mask already exists. Loading from disk.\n",
      "2019-10-02 10:18:55 | [DEBUG] STREAM b'IHDR' 16 13\n",
      "2019-10-02 10:18:55 | [DEBUG] STREAM b'IDAT' 41 65536\n",
      "2019-10-02 10:18:55 | [DEBUG] Level 1 scaling: 2.0\n",
      "2019-10-02 10:18:55 | [DEBUG] BG Level 4 scaling: 16.0\n",
      "2019-10-02 10:18:55 | [DEBUG] Effective scaling: 8.0\n",
      "2019-10-02 10:18:55 | [DEBUG] Cancer mask already exists. Loading from disk.\n",
      "2019-10-02 10:18:55 | [DEBUG] STREAM b'IHDR' 16 13\n",
      "2019-10-02 10:18:55 | [DEBUG] STREAM b'IDAT' 41 210368\n",
      "2019-10-02 10:18:55 | [INFO] Processing WSI tiles.\n"
     ]
    },
    {
     "name": "stdout",
     "output_type": "stream",
     "text": [
      "Progress:  98%\r"
     ]
    },
    {
     "name": "stderr",
     "output_type": "stream",
     "text": [
      "2019-10-02 10:19:16 | [INFO] Processing: M022-2012_0571-02-C\n",
      "2019-10-02 10:19:16 | [DEBUG] XML Annotation does not exist. Skipping...\n",
      "2019-10-02 10:19:16 | [INFO] Processing: M002-2012_1260-05-C\n",
      "2019-10-02 10:19:16 | [DEBUG] XML Annotation does not exist. Skipping...\n",
      "2019-10-02 10:19:16 | [INFO] Processing: M027-2012_1278-07-R\n"
     ]
    },
    {
     "name": "stdout",
     "output_type": "stream",
     "text": [
      "Progress:  99%\r",
      "Progress: 100%\r"
     ]
    },
    {
     "name": "stderr",
     "output_type": "stream",
     "text": [
      "2019-10-02 10:19:16 | [DEBUG] Level 1 scaling: 2.0\n",
      "2019-10-02 10:19:16 | [DEBUG] BG Level 4 scaling: 16.0\n",
      "2019-10-02 10:19:16 | [DEBUG] Effective scaling: 8.0\n",
      "2019-10-02 10:19:16 | [DEBUG] Level 1 scaling: 2.0\n",
      "2019-10-02 10:19:16 | [DEBUG] BG Level 4 scaling: 16.0\n",
      "2019-10-02 10:19:16 | [DEBUG] Effective scaling: 8.0\n",
      "2019-10-02 10:19:16 | [DEBUG] Combined mask already exists. Loading from disk.\n",
      "2019-10-02 10:19:16 | [DEBUG] STREAM b'IHDR' 16 13\n",
      "2019-10-02 10:19:16 | [DEBUG] STREAM b'IDAT' 41 65536\n",
      "2019-10-02 10:19:16 | [DEBUG] Level 1 scaling: 2.0\n",
      "2019-10-02 10:19:16 | [DEBUG] BG Level 4 scaling: 16.0\n",
      "2019-10-02 10:19:16 | [DEBUG] Effective scaling: 8.0\n",
      "2019-10-02 10:19:16 | [DEBUG] Cancer mask already exists. Loading from disk.\n",
      "2019-10-02 10:19:16 | [DEBUG] STREAM b'IHDR' 16 13\n",
      "2019-10-02 10:19:16 | [DEBUG] STREAM b'IDAT' 41 210368\n",
      "2019-10-02 10:19:16 | [INFO] Processing WSI tiles.\n"
     ]
    },
    {
     "name": "stdout",
     "output_type": "stream",
     "text": [
      "Progress:  98%\r"
     ]
    },
    {
     "name": "stderr",
     "output_type": "stream",
     "text": [
      "2019-10-02 10:19:40 | [INFO] Processing: M020-2012_0434-04-C\n",
      "2019-10-02 10:19:40 | [DEBUG] XML Annotation does not exist. Skipping...\n",
      "2019-10-02 10:19:40 | [INFO] Processing: M031-2012_0924-05-C\n",
      "2019-10-02 10:19:40 | [DEBUG] XML Annotation does not exist. Skipping...\n",
      "2019-10-02 10:19:40 | [INFO] Processing: M023-2012_0597-01-C\n",
      "2019-10-02 10:19:40 | [DEBUG] XML Annotation does not exist. Skipping...\n",
      "2019-10-02 10:19:40 | [INFO] Processing: M002-2012_2034-04-R\n"
     ]
    },
    {
     "name": "stdout",
     "output_type": "stream",
     "text": [
      "Progress:  99%\r",
      "Progress: 100%\r"
     ]
    },
    {
     "name": "stderr",
     "output_type": "stream",
     "text": [
      "2019-10-02 10:19:40 | [DEBUG] Level 1 scaling: 2.0\n",
      "2019-10-02 10:19:40 | [DEBUG] BG Level 4 scaling: 16.0\n",
      "2019-10-02 10:19:40 | [DEBUG] Effective scaling: 8.0\n",
      "2019-10-02 10:19:40 | [DEBUG] Level 1 scaling: 2.0\n",
      "2019-10-02 10:19:40 | [DEBUG] BG Level 4 scaling: 16.0\n",
      "2019-10-02 10:19:40 | [DEBUG] Effective scaling: 8.0\n",
      "2019-10-02 10:19:40 | [DEBUG] '/home/matejg/Project/crc_ml/data/interim/Mammy/level4/masks/bg_final/M002-2012_2034-04-R.png' does not exists. Creating new mask.\n",
      "2019-10-02 10:19:40 | [DEBUG] Init background mask already exists. Loading from disk.\n",
      "2019-10-02 10:19:40 | [DEBUG] STREAM b'IHDR' 16 13\n",
      "2019-10-02 10:19:40 | [DEBUG] STREAM b'IDAT' 41 65536\n",
      "2019-10-02 10:19:40 | [INFO] Creating annotation mask.\n",
      "2019-10-02 10:19:43 | [DEBUG] Level 1 scaling: 2.0\n",
      "2019-10-02 10:19:43 | [DEBUG] BG Level 4 scaling: 16.0\n",
      "2019-10-02 10:19:43 | [DEBUG] Effective scaling: 8.0\n",
      "2019-10-02 10:19:43 | [INFO] Creating annotation mask.\n",
      "2019-10-02 10:20:28 | [INFO] Processing WSI tiles.\n"
     ]
    },
    {
     "name": "stdout",
     "output_type": "stream",
     "text": [
      "Progress:  98%\r"
     ]
    },
    {
     "name": "stderr",
     "output_type": "stream",
     "text": [
      "2019-10-02 10:20:38 | [INFO] Processing: M016-2012_0945-03-R\n",
      "2019-10-02 10:20:38 | [DEBUG] XML Annotation does not exist. Skipping...\n",
      "2019-10-02 10:20:38 | [INFO] Processing: M003-2012_1293-06-C\n",
      "2019-10-02 10:20:38 | [DEBUG] XML Annotation does not exist. Skipping...\n",
      "2019-10-02 10:20:38 | [INFO] Processing: M008-2012_2101-04-R\n"
     ]
    },
    {
     "name": "stdout",
     "output_type": "stream",
     "text": [
      "Progress:  99%\r",
      "Progress: 100%\r"
     ]
    },
    {
     "name": "stderr",
     "output_type": "stream",
     "text": [
      "2019-10-02 10:20:38 | [DEBUG] Level 1 scaling: 2.0\n",
      "2019-10-02 10:20:38 | [DEBUG] BG Level 4 scaling: 16.0\n",
      "2019-10-02 10:20:38 | [DEBUG] Effective scaling: 8.0\n",
      "2019-10-02 10:20:38 | [DEBUG] Level 1 scaling: 2.0\n",
      "2019-10-02 10:20:38 | [DEBUG] BG Level 4 scaling: 16.0\n",
      "2019-10-02 10:20:38 | [DEBUG] Effective scaling: 8.0\n",
      "2019-10-02 10:20:38 | [DEBUG] Combined mask already exists. Loading from disk.\n",
      "2019-10-02 10:20:38 | [DEBUG] STREAM b'IHDR' 16 13\n",
      "2019-10-02 10:20:38 | [DEBUG] STREAM b'IDAT' 41 65536\n",
      "2019-10-02 10:20:38 | [DEBUG] Level 1 scaling: 2.0\n",
      "2019-10-02 10:20:38 | [DEBUG] BG Level 4 scaling: 16.0\n",
      "2019-10-02 10:20:38 | [DEBUG] Effective scaling: 8.0\n",
      "2019-10-02 10:20:38 | [DEBUG] Cancer mask already exists. Loading from disk.\n",
      "2019-10-02 10:20:38 | [DEBUG] STREAM b'IHDR' 16 13\n",
      "2019-10-02 10:20:38 | [DEBUG] STREAM b'IDAT' 41 210368\n",
      "2019-10-02 10:20:39 | [INFO] Processing WSI tiles.\n"
     ]
    },
    {
     "name": "stdout",
     "output_type": "stream",
     "text": [
      "Progress:  98%\r"
     ]
    },
    {
     "name": "stderr",
     "output_type": "stream",
     "text": [
      "2019-10-02 10:21:01 | [INFO] Processing: M013-2012_0684-06-R\n"
     ]
    },
    {
     "name": "stdout",
     "output_type": "stream",
     "text": [
      "Progress:  99%\r",
      "Progress: 100%\r"
     ]
    },
    {
     "name": "stderr",
     "output_type": "stream",
     "text": [
      "2019-10-02 10:21:02 | [DEBUG] Level 1 scaling: 2.0\n",
      "2019-10-02 10:21:02 | [DEBUG] BG Level 4 scaling: 16.0\n",
      "2019-10-02 10:21:02 | [DEBUG] Effective scaling: 8.0\n",
      "2019-10-02 10:21:02 | [DEBUG] Level 1 scaling: 2.0\n",
      "2019-10-02 10:21:02 | [DEBUG] BG Level 4 scaling: 16.0\n",
      "2019-10-02 10:21:02 | [DEBUG] Effective scaling: 8.0\n",
      "2019-10-02 10:21:02 | [DEBUG] Combined mask already exists. Loading from disk.\n",
      "2019-10-02 10:21:02 | [DEBUG] STREAM b'IHDR' 16 13\n",
      "2019-10-02 10:21:02 | [DEBUG] STREAM b'IDAT' 41 65536\n",
      "2019-10-02 10:21:02 | [DEBUG] Level 1 scaling: 2.0\n",
      "2019-10-02 10:21:02 | [DEBUG] BG Level 4 scaling: 16.0\n",
      "2019-10-02 10:21:02 | [DEBUG] Effective scaling: 8.0\n",
      "2019-10-02 10:21:02 | [DEBUG] Cancer mask already exists. Loading from disk.\n",
      "2019-10-02 10:21:02 | [DEBUG] STREAM b'IHDR' 16 13\n",
      "2019-10-02 10:21:02 | [DEBUG] STREAM b'IDAT' 41 210368\n",
      "2019-10-02 10:21:02 | [INFO] Processing WSI tiles.\n"
     ]
    },
    {
     "name": "stdout",
     "output_type": "stream",
     "text": [
      "Progress:  98%\r"
     ]
    },
    {
     "name": "stderr",
     "output_type": "stream",
     "text": [
      "2019-10-02 10:21:25 | [INFO] Processing: M001-2012_1210-01-C\n",
      "2019-10-02 10:21:25 | [DEBUG] XML Annotation does not exist. Skipping...\n",
      "2019-10-02 10:21:25 | [INFO] Processing: M005-2012_2644-02-R\n",
      "2019-10-02 10:21:25 | [DEBUG] XML Annotation does not exist. Skipping...\n",
      "2019-10-02 10:21:25 | [INFO] Processing: M024-2012_0874-07-R\n"
     ]
    },
    {
     "name": "stdout",
     "output_type": "stream",
     "text": [
      "Progress:  99%\r",
      "Progress: 100%\r"
     ]
    },
    {
     "name": "stderr",
     "output_type": "stream",
     "text": [
      "2019-10-02 10:21:25 | [DEBUG] Level 1 scaling: 2.0\n",
      "2019-10-02 10:21:25 | [DEBUG] BG Level 4 scaling: 16.0\n",
      "2019-10-02 10:21:25 | [DEBUG] Effective scaling: 8.0\n",
      "2019-10-02 10:21:25 | [DEBUG] Level 1 scaling: 2.0\n",
      "2019-10-02 10:21:25 | [DEBUG] BG Level 4 scaling: 16.0\n",
      "2019-10-02 10:21:25 | [DEBUG] Effective scaling: 8.0\n",
      "2019-10-02 10:21:25 | [DEBUG] Combined mask already exists. Loading from disk.\n",
      "2019-10-02 10:21:25 | [DEBUG] STREAM b'IHDR' 16 13\n",
      "2019-10-02 10:21:25 | [DEBUG] STREAM b'IDAT' 41 65536\n",
      "2019-10-02 10:21:25 | [DEBUG] Level 1 scaling: 2.0\n",
      "2019-10-02 10:21:25 | [DEBUG] BG Level 4 scaling: 16.0\n",
      "2019-10-02 10:21:25 | [DEBUG] Effective scaling: 8.0\n",
      "2019-10-02 10:21:25 | [DEBUG] Cancer mask already exists. Loading from disk.\n",
      "2019-10-02 10:21:25 | [DEBUG] STREAM b'IHDR' 16 13\n",
      "2019-10-02 10:21:25 | [DEBUG] STREAM b'IDAT' 41 210368\n",
      "2019-10-02 10:21:25 | [INFO] Processing WSI tiles.\n"
     ]
    },
    {
     "name": "stdout",
     "output_type": "stream",
     "text": [
      "Progress:  98%\r"
     ]
    },
    {
     "name": "stderr",
     "output_type": "stream",
     "text": [
      "2019-10-02 10:21:46 | [INFO] Processing: M012-2012_0678-05-R\n",
      "2019-10-02 10:21:46 | [DEBUG] XML Annotation does not exist. Skipping...\n",
      "2019-10-02 10:21:46 | [INFO] Processing: M004-2012_2234-08-R\n",
      "2019-10-02 10:21:46 | [DEBUG] XML Annotation does not exist. Skipping...\n",
      "2019-10-02 10:21:46 | [INFO] Processing: M011-2012_0009-01-C\n",
      "2019-10-02 10:21:46 | [DEBUG] XML Annotation does not exist. Skipping...\n",
      "2019-10-02 10:21:46 | [INFO] Processing: M019-2012_0397-02-C\n",
      "2019-10-02 10:21:46 | [DEBUG] XML Annotation does not exist. Skipping...\n",
      "2019-10-02 10:21:46 | [INFO] Processing: M029-2012_0800-02-C\n",
      "2019-10-02 10:21:46 | [DEBUG] XML Annotation does not exist. Skipping...\n",
      "2019-10-02 10:21:46 | [INFO] Processing: M015-2012_0161-03-C\n",
      "2019-10-02 10:21:46 | [DEBUG] XML Annotation does not exist. Skipping...\n",
      "2019-10-02 10:21:46 | [INFO] Processing: M032-2012_1088-03-C\n",
      "2019-10-02 10:21:46 | [DEBUG] XML Annotation does not exist. Skipping...\n",
      "2019-10-02 10:21:46 | [INFO] Processing: M009-2012_1508-02-C\n",
      "2019-10-02 10:21:46 | [DEBUG] XML Annotation does not exist. Skipping...\n",
      "2019-10-02 10:21:46 | [INFO] Processing: M022-2012_0571-04-C\n",
      "2019-10-02 10:21:46 | [DEBUG] XML Annotation does not exist. Skipping...\n",
      "2019-10-02 10:21:46 | [INFO] Processing: M014-2012_0982-07-R\n",
      "2019-10-02 10:21:46 | [DEBUG] XML Annotation does not exist. Skipping...\n",
      "2019-10-02 10:21:46 | [INFO] Processing: M021-2012_0445-05-C\n",
      "2019-10-02 10:21:46 | [DEBUG] XML Annotation does not exist. Skipping...\n",
      "2019-10-02 10:21:46 | [INFO] Processing: M014-2012_0381-04-R\n"
     ]
    },
    {
     "name": "stdout",
     "output_type": "stream",
     "text": [
      "Progress:  99%\r",
      "Progress: 100%\r"
     ]
    },
    {
     "name": "stderr",
     "output_type": "stream",
     "text": [
      "2019-10-02 10:21:46 | [DEBUG] Level 1 scaling: 2.0\n",
      "2019-10-02 10:21:46 | [DEBUG] BG Level 4 scaling: 16.0\n",
      "2019-10-02 10:21:46 | [DEBUG] Effective scaling: 8.0\n",
      "2019-10-02 10:21:46 | [DEBUG] Level 1 scaling: 2.0\n",
      "2019-10-02 10:21:46 | [DEBUG] BG Level 4 scaling: 16.0\n",
      "2019-10-02 10:21:46 | [DEBUG] Effective scaling: 8.0\n",
      "2019-10-02 10:21:46 | [DEBUG] Combined mask already exists. Loading from disk.\n",
      "2019-10-02 10:21:46 | [DEBUG] STREAM b'IHDR' 16 13\n",
      "2019-10-02 10:21:46 | [DEBUG] STREAM b'IDAT' 41 65536\n",
      "2019-10-02 10:21:46 | [DEBUG] Level 1 scaling: 2.0\n",
      "2019-10-02 10:21:46 | [DEBUG] BG Level 4 scaling: 16.0\n",
      "2019-10-02 10:21:46 | [DEBUG] Effective scaling: 8.0\n",
      "2019-10-02 10:21:46 | [DEBUG] Cancer mask already exists. Loading from disk.\n",
      "2019-10-02 10:21:46 | [DEBUG] STREAM b'IHDR' 16 13\n",
      "2019-10-02 10:21:46 | [DEBUG] STREAM b'IDAT' 41 210368\n",
      "2019-10-02 10:21:46 | [INFO] Processing WSI tiles.\n"
     ]
    },
    {
     "name": "stdout",
     "output_type": "stream",
     "text": [
      "Progress: 100%\r"
     ]
    },
    {
     "name": "stderr",
     "output_type": "stream",
     "text": [
      "2019-10-02 10:22:08 | [INFO] Processing: M005-2012_1326-02-C\n",
      "2019-10-02 10:22:08 | [DEBUG] XML Annotation does not exist. Skipping...\n",
      "2019-10-02 10:22:08 | [INFO] Processing: M013-2012_0025-01-C\n",
      "2019-10-02 10:22:08 | [DEBUG] XML Annotation does not exist. Skipping...\n",
      "2019-10-02 10:22:08 | [INFO] Processing: M014-2012_0161-06-C\n",
      "2019-10-02 10:22:08 | [DEBUG] XML Annotation does not exist. Skipping...\n",
      "2019-10-02 10:22:08 | [INFO] Processing: M010-2012_2502-08-R\n",
      "2019-10-02 10:22:08 | [DEBUG] Level 1 scaling: 2.0\n",
      "2019-10-02 10:22:08 | [DEBUG] BG Level 4 scaling: 16.0\n",
      "2019-10-02 10:22:08 | [DEBUG] Effective scaling: 8.0\n",
      "2019-10-02 10:22:08 | [DEBUG] Level 1 scaling: 2.0\n",
      "2019-10-02 10:22:08 | [DEBUG] BG Level 4 scaling: 16.0\n",
      "2019-10-02 10:22:08 | [DEBUG] Effective scaling: 8.0\n",
      "2019-10-02 10:22:08 | [DEBUG] Combined mask already exists. Loading from disk.\n",
      "2019-10-02 10:22:08 | [DEBUG] STREAM b'IHDR' 16 13\n",
      "2019-10-02 10:22:08 | [DEBUG] STREAM b'IDAT' 41 65536\n",
      "2019-10-02 10:22:08 | [DEBUG] Level 1 scaling: 2.0\n",
      "2019-10-02 10:22:08 | [DEBUG] BG Level 4 scaling: 16.0\n",
      "2019-10-02 10:22:08 | [DEBUG] Effective scaling: 8.0\n",
      "2019-10-02 10:22:08 | [DEBUG] Cancer mask already exists. Loading from disk.\n",
      "2019-10-02 10:22:08 | [DEBUG] STREAM b'IHDR' 16 13\n",
      "2019-10-02 10:22:08 | [DEBUG] STREAM b'IDAT' 41 210368\n",
      "2019-10-02 10:22:08 | [INFO] Processing WSI tiles.\n"
     ]
    },
    {
     "name": "stdout",
     "output_type": "stream",
     "text": [
      "Progress:  98%\r"
     ]
    },
    {
     "name": "stderr",
     "output_type": "stream",
     "text": [
      "2019-10-02 10:22:31 | [INFO] Processing: M029-2012_0800-01-C\n",
      "2019-10-02 10:22:31 | [DEBUG] XML Annotation does not exist. Skipping...\n",
      "2019-10-02 10:22:31 | [INFO] Processing: M023-2012_1540-06-R\n"
     ]
    },
    {
     "name": "stdout",
     "output_type": "stream",
     "text": [
      "Progress:  99%\r",
      "Progress: 100%\r"
     ]
    },
    {
     "name": "stderr",
     "output_type": "stream",
     "text": [
      "2019-10-02 10:22:32 | [DEBUG] Level 1 scaling: 2.0\n",
      "2019-10-02 10:22:32 | [DEBUG] BG Level 4 scaling: 16.0\n",
      "2019-10-02 10:22:32 | [DEBUG] Effective scaling: 8.0\n",
      "2019-10-02 10:22:32 | [DEBUG] Level 1 scaling: 2.0\n",
      "2019-10-02 10:22:32 | [DEBUG] BG Level 4 scaling: 16.0\n",
      "2019-10-02 10:22:32 | [DEBUG] Effective scaling: 8.0\n",
      "2019-10-02 10:22:32 | [DEBUG] Combined mask already exists. Loading from disk.\n",
      "2019-10-02 10:22:32 | [DEBUG] STREAM b'IHDR' 16 13\n",
      "2019-10-02 10:22:32 | [DEBUG] STREAM b'IDAT' 41 65536\n",
      "2019-10-02 10:22:32 | [DEBUG] Level 1 scaling: 2.0\n",
      "2019-10-02 10:22:32 | [DEBUG] BG Level 4 scaling: 16.0\n",
      "2019-10-02 10:22:32 | [DEBUG] Effective scaling: 8.0\n",
      "2019-10-02 10:22:32 | [DEBUG] Cancer mask already exists. Loading from disk.\n",
      "2019-10-02 10:22:32 | [DEBUG] STREAM b'IHDR' 16 13\n",
      "2019-10-02 10:22:32 | [DEBUG] STREAM b'IDAT' 41 210368\n",
      "2019-10-02 10:22:32 | [INFO] Processing WSI tiles.\n"
     ]
    },
    {
     "name": "stdout",
     "output_type": "stream",
     "text": [
      "Progress:  99%\r"
     ]
    },
    {
     "name": "stderr",
     "output_type": "stream",
     "text": [
      "2019-10-02 10:22:55 | [INFO] Processing: M014-2012_0125-04-C\n",
      "2019-10-02 10:22:55 | [DEBUG] XML Annotation does not exist. Skipping...\n",
      "2019-10-02 10:22:55 | [INFO] Processing: M014-2012_0125-06-C\n",
      "2019-10-02 10:22:55 | [DEBUG] XML Annotation does not exist. Skipping...\n",
      "2019-10-02 10:22:55 | [INFO] Processing: M027-2012_0699-03-C\n",
      "2019-10-02 10:22:55 | [DEBUG] XML Annotation does not exist. Skipping...\n",
      "2019-10-02 10:22:55 | [INFO] Processing: M016-2012_0284-03-C\n",
      "2019-10-02 10:22:55 | [DEBUG] XML Annotation does not exist. Skipping...\n",
      "2019-10-02 10:22:55 | [INFO] Processing: M010-2012_1510-04-C\n",
      "2019-10-02 10:22:55 | [DEBUG] XML Annotation does not exist. Skipping...\n",
      "2019-10-02 10:22:55 | [INFO] Processing: M029-2012_1819-10-R\n",
      "2019-10-02 10:22:55 | [DEBUG] Level 1 scaling: 2.0\n",
      "2019-10-02 10:22:55 | [DEBUG] BG Level 4 scaling: 16.0\n",
      "2019-10-02 10:22:55 | [DEBUG] Effective scaling: 8.0\n",
      "2019-10-02 10:22:55 | [DEBUG] Level 1 scaling: 2.0\n",
      "2019-10-02 10:22:55 | [DEBUG] BG Level 4 scaling: 16.0\n",
      "2019-10-02 10:22:55 | [DEBUG] Effective scaling: 8.0\n",
      "2019-10-02 10:22:55 | [DEBUG] Combined mask already exists. Loading from disk.\n",
      "2019-10-02 10:22:55 | [DEBUG] STREAM b'IHDR' 16 13\n",
      "2019-10-02 10:22:55 | [DEBUG] STREAM b'IDAT' 41 65536\n",
      "2019-10-02 10:22:55 | [DEBUG] Level 1 scaling: 2.0\n",
      "2019-10-02 10:22:55 | [DEBUG] BG Level 4 scaling: 16.0\n",
      "2019-10-02 10:22:55 | [DEBUG] Effective scaling: 8.0\n",
      "2019-10-02 10:22:55 | [DEBUG] Cancer mask already exists. Loading from disk.\n",
      "2019-10-02 10:22:55 | [DEBUG] STREAM b'IHDR' 16 13\n",
      "2019-10-02 10:22:55 | [DEBUG] STREAM b'IDAT' 41 210368\n",
      "2019-10-02 10:22:55 | [INFO] Processing WSI tiles.\n"
     ]
    },
    {
     "name": "stdout",
     "output_type": "stream",
     "text": [
      "Progress:  98%\r"
     ]
    },
    {
     "name": "stderr",
     "output_type": "stream",
     "text": [
      "2019-10-02 10:23:18 | [INFO] Processing: M030-2012_0804-01-C\n",
      "2019-10-02 10:23:18 | [DEBUG] XML Annotation does not exist. Skipping...\n",
      "2019-10-02 10:23:18 | [INFO] Processing: M007-2012_1403-01-C\n",
      "2019-10-02 10:23:18 | [DEBUG] XML Annotation does not exist. Skipping...\n",
      "2019-10-02 10:23:18 | [INFO] Processing: M020-2012_0434-02-C\n",
      "2019-10-02 10:23:18 | [DEBUG] XML Annotation does not exist. Skipping...\n",
      "2019-10-02 10:23:18 | [INFO] Processing: M016-2012_0284-02-C\n",
      "2019-10-02 10:23:18 | [DEBUG] XML Annotation does not exist. Skipping...\n",
      "2019-10-02 10:23:18 | [INFO] Processing: M015-2012_0200-02-C\n",
      "2019-10-02 10:23:18 | [DEBUG] XML Annotation does not exist. Skipping...\n"
     ]
    },
    {
     "name": "stdout",
     "output_type": "stream",
     "text": [
      "Progress:  99%\r",
      "Progress: 100%\r"
     ]
    }
   ],
   "source": [
    "if __name__ == '__main__':\n",
    "    main()"
   ]
  },
  {
   "cell_type": "code",
   "execution_count": null,
   "metadata": {},
   "outputs": [],
   "source": []
  },
  {
   "cell_type": "code",
   "execution_count": null,
   "metadata": {},
   "outputs": [],
   "source": []
  }
 ],
 "metadata": {
  "kernelspec": {
   "display_name": "test",
   "language": "python",
   "name": "test"
  },
  "language_info": {
   "codemirror_mode": {
    "name": "ipython",
    "version": 3
   },
   "file_extension": ".py",
   "mimetype": "text/x-python",
   "name": "python",
   "nbconvert_exporter": "python",
   "pygments_lexer": "ipython3",
   "version": "3.5.3"
  },
  "toc": {
   "base_numbering": 1,
   "nav_menu": {},
   "number_sections": false,
   "sideBar": true,
   "skip_h1_title": false,
   "title_cell": "Table of Contents",
   "title_sidebar": "Contents",
   "toc_cell": false,
   "toc_position": {},
   "toc_section_display": true,
   "toc_window_display": false
  },
  "varInspector": {
   "cols": {
    "lenName": 16,
    "lenType": 16,
    "lenVar": 40
   },
   "kernels_config": {
    "python": {
     "delete_cmd_postfix": "",
     "delete_cmd_prefix": "del ",
     "library": "var_list.py",
     "varRefreshCmd": "print(var_dic_list())"
    },
    "r": {
     "delete_cmd_postfix": ") ",
     "delete_cmd_prefix": "rm(",
     "library": "var_list.r",
     "varRefreshCmd": "cat(var_dic_list()) "
    }
   },
   "position": {
    "height": "636.85px",
    "left": "1543px",
    "right": "20px",
    "top": "120px",
    "width": "357px"
   },
   "types_to_exclude": [
    "module",
    "function",
    "builtin_function_or_method",
    "instance",
    "_Feature"
   ],
   "window_display": false
  }
 },
 "nbformat": 4,
 "nbformat_minor": 2
}
