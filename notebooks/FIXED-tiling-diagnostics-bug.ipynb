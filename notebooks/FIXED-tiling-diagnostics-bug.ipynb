{
 "cells": [
  {
   "cell_type": "code",
   "execution_count": 1,
   "metadata": {
    "ExecuteTime": {
     "end_time": "2019-12-04T14:01:44.206713Z",
     "start_time": "2019-12-04T14:01:44.024843Z"
    }
   },
   "outputs": [],
   "source": [
    "import os\n",
    "import openslide as oslide\n",
    "import matplotlib.pyplot as plt\n",
    "import numpy as np\n",
    "import cv2\n",
    "from PIL import Image, ImageDraw\n",
    "from pathlib import Path"
   ]
  },
  {
   "cell_type": "code",
   "execution_count": 2,
   "metadata": {
    "ExecuteTime": {
     "end_time": "2019-12-04T14:01:44.378261Z",
     "start_time": "2019-12-04T14:01:44.374738Z"
    }
   },
   "outputs": [],
   "source": [
    "import sys\n",
    "from pathlib import Path\n",
    "module_path = Path('.').resolve().parent\n",
    "if str(module_path) not in sys.path:\n",
    "    sys.path.append(str(module_path))"
   ]
  },
  {
   "cell_type": "code",
   "execution_count": 3,
   "metadata": {
    "ExecuteTime": {
     "end_time": "2019-12-04T14:01:45.460574Z",
     "start_time": "2019-12-04T14:01:44.853072Z"
    }
   },
   "outputs": [],
   "source": [
    "from src.data.create_map import SlideConverter"
   ]
  },
  {
   "cell_type": "code",
   "execution_count": 4,
   "metadata": {
    "ExecuteTime": {
     "end_time": "2019-12-04T14:01:45.959157Z",
     "start_time": "2019-12-04T14:01:45.954905Z"
    }
   },
   "outputs": [],
   "source": [
    "class Parameters:\n",
    "    def __init__(self):\n",
    "        self.xml_dir = Path('/mnt/data/camelyon17/training/')\n",
    "        self.tile_size = 96\n",
    "        self.zero_magnification = 40\n",
    "        self.magnification = 10\n",
    "        self.min_bg = 0.5\n",
    "        self.max_bg = 1.0\n",
    "        self.reference_size = 96\n",
    "        self.center_size = 32\n",
    "        self.tissue_type = 'Camelyon17'\n",
    "        self.tile_type = 'all'\n",
    "        self.neg = False\n",
    "        self.strict = False       "
   ]
  },
  {
   "cell_type": "code",
   "execution_count": 5,
   "metadata": {
    "ExecuteTime": {
     "end_time": "2019-12-04T14:01:46.711702Z",
     "start_time": "2019-12-04T14:01:46.708508Z"
    }
   },
   "outputs": [],
   "source": [
    "sc = SlideConverter(Parameters())"
   ]
  },
  {
   "cell_type": "code",
   "execution_count": 6,
   "metadata": {
    "ExecuteTime": {
     "end_time": "2019-12-04T14:01:48.612100Z",
     "start_time": "2019-12-04T14:01:48.609257Z"
    }
   },
   "outputs": [],
   "source": [
    "negative_mode = sc.negative_mode"
   ]
  },
  {
   "cell_type": "code",
   "execution_count": 10,
   "metadata": {
    "ExecuteTime": {
     "end_time": "2019-12-04T14:02:06.267473Z",
     "start_time": "2019-12-04T14:02:06.262681Z"
    }
   },
   "outputs": [
    {
     "name": "stdout",
     "output_type": "stream",
     "text": [
      "Processing:  patient_015_node_1\n"
     ]
    }
   ],
   "source": [
    "slide_fn = Path('/mnt/data/camelyon17/training/slides/patient_015_node_1.tif')\n",
    "slide_name = slide_fn.stem\n",
    "print('Processing: ', slide_name)"
   ]
  },
  {
   "cell_type": "code",
   "execution_count": 11,
   "metadata": {
    "ExecuteTime": {
     "end_time": "2019-12-04T14:02:07.223528Z",
     "start_time": "2019-12-04T14:02:07.218617Z"
    }
   },
   "outputs": [
    {
     "name": "stdout",
     "output_type": "stream",
     "text": [
      "OK /mnt/data/camelyon17/training/patient_015_node_1.xml\n"
     ]
    }
   ],
   "source": [
    "result, annot_xml_filepath = sc._get_xml_filepath(slide_name)\n",
    "print(result.name, annot_xml_filepath)"
   ]
  },
  {
   "cell_type": "code",
   "execution_count": 12,
   "metadata": {
    "ExecuteTime": {
     "end_time": "2019-12-04T14:02:08.218453Z",
     "start_time": "2019-12-04T14:02:07.457299Z"
    }
   },
   "outputs": [
    {
     "name": "stdout",
     "output_type": "stream",
     "text": [
      "Sampling level:  1\n",
      "Sampling scaling factor:  2\n",
      "Background level:  4\n",
      "Background scaling factor:  16\n"
     ]
    }
   ],
   "source": [
    "slide = oslide.open_slide(str(slide_fn))\n",
    "level, scaling_factor, bg_level, bg_scaling_factor = sc.get_slide_level_info(slide)\n",
    "print('Sampling level: ', level)\n",
    "print('Sampling scaling factor: ', scaling_factor)\n",
    "print('Background level: ', bg_level)\n",
    "print('Background scaling factor: ', bg_scaling_factor)"
   ]
  },
  {
   "cell_type": "code",
   "execution_count": 13,
   "metadata": {
    "ExecuteTime": {
     "end_time": "2019-12-04T14:02:09.908309Z",
     "start_time": "2019-12-04T14:02:09.905541Z"
    }
   },
   "outputs": [],
   "source": [
    "from src.config import DATA_DIR"
   ]
  },
  {
   "cell_type": "code",
   "execution_count": 11,
   "metadata": {
    "ExecuteTime": {
     "end_time": "2019-12-03T22:02:51.480667Z",
     "start_time": "2019-12-03T22:02:51.019748Z"
    }
   },
   "outputs": [
    {
     "name": "stderr",
     "output_type": "stream",
     "text": [
      "[2019-12-03 11:02:51][I][runner] Creating annotation mask.\n"
     ]
    }
   ],
   "source": [
    "mask_dir = DATA_DIR / 'interim' / sc.tissue_type\n",
    "bg_mask = sc.get_bg_mask(slide, slide_name, mask_dir, annot_xml_filepath, negative_mode)"
   ]
  },
  {
   "cell_type": "code",
   "execution_count": 12,
   "metadata": {
    "ExecuteTime": {
     "end_time": "2019-12-03T22:02:52.142899Z",
     "start_time": "2019-12-03T22:02:51.482773Z"
    }
   },
   "outputs": [
    {
     "data": {
      "text/plain": [
       "<matplotlib.image.AxesImage at 0x7f8783096e80>"
      ]
     },
     "execution_count": 12,
     "metadata": {},
     "output_type": "execute_result"
    },
    {
     "data": {
      "image/png": "[encoded data removed]",
      "text/plain": [
       "<Figure size 432x288 with 1 Axes>"
      ]
     },
     "metadata": {
      "needs_background": "light"
     },
     "output_type": "display_data"
    }
   ],
   "source": [
    "plt.imshow(bg_mask, cmap='gray', vmin=0, vmax=255)"
   ]
  },
  {
   "cell_type": "code",
   "execution_count": 13,
   "metadata": {
    "ExecuteTime": {
     "end_time": "2019-12-03T22:02:54.581020Z",
     "start_time": "2019-12-03T22:02:52.144916Z"
    }
   },
   "outputs": [
    {
     "data": {
      "text/plain": [
       "<matplotlib.image.AxesImage at 0x7f8784365208>"
      ]
     },
     "execution_count": 13,
     "metadata": {},
     "output_type": "execute_result"
    },
    {
     "data": {
      "image/png": "[encoded data removed]",
      "text/plain": [
       "<Figure size 432x288 with 1 Axes>"
      ]
     },
     "metadata": {
      "needs_background": "light"
     },
     "output_type": "display_data"
    }
   ],
   "source": [
    "slide_im = slide.read_region((0,0), 5, slide.level_dimensions[5]).convert('RGB') \n",
    "plt.imshow(slide_im & np.tile(np.array(bg_mask), (3,1,1)).transpose(1,2,0))"
   ]
  },
  {
   "cell_type": "code",
   "execution_count": 14,
   "metadata": {
    "ExecuteTime": {
     "end_time": "2019-12-03T22:03:03.847548Z",
     "start_time": "2019-12-03T22:02:54.582948Z"
    }
   },
   "outputs": [
    {
     "name": "stderr",
     "output_type": "stream",
     "text": [
      "[2019-12-03 11:02:54][I][runner] Creating annotation mask.\n"
     ]
    }
   ],
   "source": [
    "cancer_mask = sc.get_cancer_mask(slide, slide_name, mask_dir, annot_xml_filepath) if not negative_mode else None"
   ]
  },
  {
   "cell_type": "code",
   "execution_count": 14,
   "metadata": {
    "ExecuteTime": {
     "end_time": "2019-12-04T14:02:26.153816Z",
     "start_time": "2019-12-04T14:02:26.150562Z"
    }
   },
   "outputs": [
    {
     "name": "stdout",
     "output_type": "stream",
     "text": [
      "32\n"
     ]
    }
   ],
   "source": [
    "print(sc.step_size)"
   ]
  },
  {
   "cell_type": "code",
   "execution_count": 15,
   "metadata": {
    "ExecuteTime": {
     "end_time": "2019-12-03T22:03:03.853613Z",
     "start_time": "2019-12-03T22:03:03.849731Z"
    }
   },
   "outputs": [
    {
     "name": "stdout",
     "output_type": "stream",
     "text": [
      "Important coords: (7935.0,36639.0)\n"
     ]
    }
   ],
   "source": [
    "coord_0_x = 31744\n",
    "coord_0_y = 146560\n",
    "coord_x = coord_0_x // scaling_factor\n",
    "coord_y = coord_0_y // scaling_factor\n",
    "print('Important coords: (' + str(coord_x) + ',' + str(coord_y) +')')"
   ]
  },
  {
   "cell_type": "code",
   "execution_count": 23,
   "metadata": {
    "ExecuteTime": {
     "end_time": "2019-12-03T22:03:34.003301Z",
     "start_time": "2019-12-03T22:03:33.998270Z"
    }
   },
   "outputs": [
    {
     "name": "stdout",
     "output_type": "stream",
     "text": [
      "ESF: 8.001315068676217\n"
     ]
    }
   ],
   "source": [
    "effective_scaling_factor = bg_scaling_factor / scaling_factor   # scaling between sampling and bg levels\n",
    "print('ESF: {}'.format(effective_scaling_factor))"
   ]
  },
  {
   "cell_type": "code",
   "execution_count": 29,
   "metadata": {
    "ExecuteTime": {
     "end_time": "2019-12-03T22:05:32.756982Z",
     "start_time": "2019-12-03T22:05:32.751820Z"
    }
   },
   "outputs": [
    {
     "name": "stdout",
     "output_type": "stream",
     "text": [
      "(12, 12)\n"
     ]
    }
   ],
   "source": [
    "tile_mask = bg_mask.crop((int(coord_x // effective_scaling_factor), \n",
    "                          int(coord_y // effective_scaling_factor), \n",
    "                          int((coord_x+sc.tile_size) // effective_scaling_factor), \n",
    "                          int((coord_y+sc.tile_size) // effective_scaling_factor)))\n",
    "print(tile_mask.size)"
   ]
  },
  {
   "cell_type": "code",
   "execution_count": 33,
   "metadata": {
    "ExecuteTime": {
     "end_time": "2019-12-03T22:07:56.551576Z",
     "start_time": "2019-12-03T22:07:56.417525Z"
    }
   },
   "outputs": [
    {
     "name": "stdout",
     "output_type": "stream",
     "text": [
      "Tissue coverage:  1.0\n",
      "TISSUE\n"
     ]
    },
    {
     "data": {
      "image/png": "[encoded data removed]",
      "text/plain": [
       "<Figure size 432x288 with 1 Axes>"
      ]
     },
     "metadata": {
      "needs_background": "light"
     },
     "output_type": "display_data"
    }
   ],
   "source": [
    "plt.imshow(tile_mask, cmap='gray', vmin=0, vmax=1)\n",
    "tissue_coverage = np.min([1.0, sc.tissue_percent(np.array(tile_mask), int(sc.tile_size // effective_scaling_factor))])\n",
    "print('Tissue coverage: ', tissue_coverage)\n",
    "if not sc.min_bg <= tissue_coverage <= sc.max_bg:\n",
    "    print('BACKGROUND')\n",
    "else:\n",
    "    print('TISSUE')"
   ]
  },
  {
   "cell_type": "code",
   "execution_count": 19,
   "metadata": {
    "ExecuteTime": {
     "end_time": "2019-12-03T22:03:04.000550Z",
     "start_time": "2019-12-03T22:03:03.996261Z"
    }
   },
   "outputs": [
    {
     "name": "stdout",
     "output_type": "stream",
     "text": [
      "Tile label:  1.0\n",
      "Center label:  True\n"
     ]
    }
   ],
   "source": [
    "tile_label, center_label = sc.determine_label(cancer_mask, coord_x, coord_y, negative_mode)\n",
    "print('Tile label: ', tile_label)\n",
    "print('Center label: ', center_label)"
   ]
  },
  {
   "cell_type": "code",
   "execution_count": null,
   "metadata": {},
   "outputs": [],
   "source": []
  }
 ],
 "metadata": {
  "kernelspec": {
   "display_name": "test",
   "language": "python",
   "name": "test"
  },
  "language_info": {
   "codemirror_mode": {
    "name": "ipython",
    "version": 3
   },
   "file_extension": ".py",
   "mimetype": "text/x-python",
   "name": "python",
   "nbconvert_exporter": "python",
   "pygments_lexer": "ipython3",
   "version": "3.5.3"
  },
  "toc": {
   "base_numbering": 1,
   "nav_menu": {},
   "number_sections": true,
   "sideBar": true,
   "skip_h1_title": false,
   "title_cell": "Table of Contents",
   "title_sidebar": "Contents",
   "toc_cell": false,
   "toc_position": {},
   "toc_section_display": true,
   "toc_window_display": false
  },
  "varInspector": {
   "cols": {
    "lenName": 16,
    "lenType": 16,
    "lenVar": 40
   },
   "kernels_config": {
    "python": {
     "delete_cmd_postfix": "",
     "delete_cmd_prefix": "del ",
     "library": "var_list.py",
     "varRefreshCmd": "print(var_dic_list())"
    },
    "r": {
     "delete_cmd_postfix": ") ",
     "delete_cmd_prefix": "rm(",
     "library": "var_list.r",
     "varRefreshCmd": "cat(var_dic_list()) "
    }
   },
   "types_to_exclude": [
    "module",
    "function",
    "builtin_function_or_method",
    "instance",
    "_Feature"
   ],
   "window_display": false
  }
 },
 "nbformat": 4,
 "nbformat_minor": 2
}
