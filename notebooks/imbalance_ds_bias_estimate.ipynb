{
 "cells": [
  {
   "cell_type": "code",
   "execution_count": 35,
   "metadata": {
    "ExecuteTime": {
     "end_time": "2020-09-26T21:04:53.654049Z",
     "start_time": "2020-09-26T21:04:53.650104Z"
    }
   },
   "outputs": [],
   "source": [
    "# https://www.tensorflow.org/tutorials/structured_data/imbalanced_data"
   ]
  },
  {
   "cell_type": "code",
   "execution_count": 3,
   "metadata": {
    "ExecuteTime": {
     "end_time": "2020-09-26T20:58:58.044738Z",
     "start_time": "2020-09-26T20:58:58.041427Z"
    }
   },
   "outputs": [],
   "source": [
    "import pandas as pd\n",
    "from pathlib import Path"
   ]
  },
  {
   "cell_type": "code",
   "execution_count": 4,
   "metadata": {
    "ExecuteTime": {
     "end_time": "2020-09-26T20:59:04.417179Z",
     "start_time": "2020-09-26T20:59:04.412535Z"
    }
   },
   "outputs": [],
   "source": [
    "MAP_DIR = Path('/mnt/data/crc_ml/data/processed/Prostata/level1/r512px/c256px/t512px/all/coord_maps')"
   ]
  },
  {
   "cell_type": "code",
   "execution_count": 38,
   "metadata": {
    "ExecuteTime": {
     "end_time": "2020-09-26T21:05:33.114915Z",
     "start_time": "2020-09-26T21:05:31.000929Z"
    }
   },
   "outputs": [
    {
     "name": "stdout",
     "output_type": "stream",
     "text": [
      "{True: 158939, False: 754281}\n"
     ]
    }
   ],
   "source": [
    "res = {True: 0, False: 0}\n",
    "for map_file in MAP_DIR.glob('P*.gz'):\n",
    "    counts = pd.read_pickle(map_file)['center_tumor_tile'].value_counts()\n",
    "    if True in counts:\n",
    "        res[True] += counts[True]\n",
    "    if False in counts:\n",
    "        res[False] += counts[False]\n",
    "print(res)"
   ]
  },
  {
   "cell_type": "code",
   "execution_count": 41,
   "metadata": {
    "ExecuteTime": {
     "end_time": "2020-09-26T21:06:34.836741Z",
     "start_time": "2020-09-26T21:06:34.829822Z"
    }
   },
   "outputs": [
    {
     "data": {
      "text/plain": [
       "array([-1.57391931])"
      ]
     },
     "execution_count": 41,
     "metadata": {},
     "output_type": "execute_result"
    }
   ],
   "source": [
    "initial_bias = np.log([res[True]/res[False]])\n",
    "initial_bias"
   ]
  },
  {
   "cell_type": "code",
   "execution_count": 42,
   "metadata": {
    "ExecuteTime": {
     "end_time": "2020-09-26T21:06:41.183411Z",
     "start_time": "2020-09-26T21:06:41.175889Z"
    }
   },
   "outputs": [
    {
     "data": {
      "text/plain": [
       "array([-1.5572445])"
      ]
     },
     "execution_count": 42,
     "metadata": {},
     "output_type": "execute_result"
    }
   ],
   "source": [
    "# class weights"
   ]
  },
  {
   "cell_type": "code",
   "execution_count": 43,
   "metadata": {
    "ExecuteTime": {
     "end_time": "2020-09-26T21:22:20.252974Z",
     "start_time": "2020-09-26T21:22:20.237894Z"
    }
   },
   "outputs": [
    {
     "name": "stdout",
     "output_type": "stream",
     "text": [
      "Weight for class 0: 0.61\n",
      "Weight for class 1: 2.87\n"
     ]
    }
   ],
   "source": [
    "# Scaling by total/2 helps keep the loss to a similar magnitude.\n",
    "# The sum of the weights of all examples stays the same.\n",
    "weight_for_0 = (1 / res[False])*(res[True]+res[False])/2.0 \n",
    "weight_for_1 = (1 / res[True])*(res[True]+res[False])/2.0\n",
    "\n",
    "class_weight = {0: weight_for_0, 1: weight_for_1}\n",
    "\n",
    "print('Weight for class 0: {:.2f}'.format(weight_for_0))\n",
    "print('Weight for class 1: {:.2f}'.format(weight_for_1))\n"
   ]
  }
 ],
 "metadata": {
  "kernelspec": {
   "display_name": "crc_ml_common",
   "language": "python",
   "name": "crc_ml_common"
  },
  "language_info": {
   "codemirror_mode": {
    "name": "ipython",
    "version": 3
   },
   "file_extension": ".py",
   "mimetype": "text/x-python",
   "name": "python",
   "nbconvert_exporter": "python",
   "pygments_lexer": "ipython3",
   "version": "3.7.3"
  },
  "toc": {
   "base_numbering": 1,
   "nav_menu": {},
   "number_sections": true,
   "sideBar": true,
   "skip_h1_title": false,
   "title_cell": "Table of Contents",
   "title_sidebar": "Contents",
   "toc_cell": false,
   "toc_position": {},
   "toc_section_display": true,
   "toc_window_display": false
  },
  "varInspector": {
   "cols": {
    "lenName": 16,
    "lenType": 16,
    "lenVar": 40
   },
   "kernels_config": {
    "python": {
     "delete_cmd_postfix": "",
     "delete_cmd_prefix": "del ",
     "library": "var_list.py",
     "varRefreshCmd": "print(var_dic_list())"
    },
    "r": {
     "delete_cmd_postfix": ") ",
     "delete_cmd_prefix": "rm(",
     "library": "var_list.r",
     "varRefreshCmd": "cat(var_dic_list()) "
    }
   },
   "types_to_exclude": [
    "module",
    "function",
    "builtin_function_or_method",
    "instance",
    "_Feature"
   ],
   "window_display": false
  }
 },
 "nbformat": 4,
 "nbformat_minor": 2
}
