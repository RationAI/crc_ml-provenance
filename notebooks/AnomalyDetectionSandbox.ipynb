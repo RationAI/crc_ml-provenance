{
 "cells": [
  {
   "cell_type": "code",
   "execution_count": 1,
   "metadata": {
    "ExecuteTime": {
     "end_time": "2019-11-01T09:07:58.066985Z",
     "start_time": "2019-11-01T09:07:56.593645Z"
    }
   },
   "outputs": [],
   "source": [
    "# ! This code temporarily fixes the error with CUDA loading\n",
    "import tensorflow as tf\n",
    "config = tf.ConfigProto()\n",
    "config.gpu_options.allow_growth=True\n",
    "session = tf.Session(config=config)\n",
    "tf.keras.backend.set_session(session)"
   ]
  },
  {
   "cell_type": "code",
   "execution_count": 2,
   "metadata": {
    "ExecuteTime": {
     "end_time": "2019-11-01T09:07:58.224259Z",
     "start_time": "2019-11-01T09:07:58.083018Z"
    }
   },
   "outputs": [],
   "source": [
    "import sys\n",
    "import numpy as np\n",
    "from itertools import islice\n",
    "from pathlib import Path\n",
    "import matplotlib.pyplot as plt"
   ]
  },
  {
   "cell_type": "code",
   "execution_count": 3,
   "metadata": {
    "ExecuteTime": {
     "end_time": "2019-11-01T09:07:58.243793Z",
     "start_time": "2019-11-01T09:07:58.240720Z"
    }
   },
   "outputs": [],
   "source": [
    "# To be able to load our module scripts\n",
    "module_path = Path('.').resolve().parent\n",
    "if str(module_path) not in sys.path:\n",
    "    sys.path.append(str(module_path))"
   ]
  },
  {
   "cell_type": "markdown",
   "metadata": {
    "ExecuteTime": {
     "end_time": "2019-10-30T22:40:57.104609Z",
     "start_time": "2019-10-30T22:40:57.101595Z"
    }
   },
   "source": [
    "# CONVOLUTION AUTOENCODER"
   ]
  },
  {
   "cell_type": "code",
   "execution_count": 4,
   "metadata": {
    "ExecuteTime": {
     "end_time": "2019-11-01T09:07:59.436990Z",
     "start_time": "2019-11-01T09:07:59.117626Z"
    }
   },
   "outputs": [],
   "source": [
    "# Load our module scripts\n",
    "from src.config import RAW_DIR\n",
    "from src.models.wsi_dataset import AutoencoderDataset\n",
    "\n",
    "from src.models.autoencoder import SimpleAutoencoder\n",
    "from src.models.autoencoder import TransposeAutoencoder\n",
    "from src.models.autoencoder import CombinedAutoencoder"
   ]
  },
  {
   "cell_type": "code",
   "execution_count": 5,
   "metadata": {
    "ExecuteTime": {
     "end_time": "2019-11-01T09:07:59.689292Z",
     "start_time": "2019-11-01T09:07:59.685662Z"
    }
   },
   "outputs": [],
   "source": [
    "# Create param dict for datagen\n",
    "params = {\n",
    "        'seed': None,\n",
    "        'datagen': {\n",
    "            'slide_dir': RAW_DIR / 'Prostata' / 'slides',\n",
    "            'train_maps': [('archive negative cases', 'pure')],\n",
    "            'valid_maps': None,\n",
    "            'test_maps': [('Prospective test cases', 'pure')],\n",
    "            \n",
    "            'name': 'Prostata',\n",
    "            #'context_size': 3,\n",
    "            'tile_size': 96,\n",
    "            'level': 1,\n",
    "            'batch_size': 64,\n",
    "            \n",
    "            'max_queue_size': 250,\n",
    "            'split_ratio': 0.03,\n",
    "            'njobs': 10\n",
    "        }\n",
    "    }"
   ]
  },
  {
   "cell_type": "code",
   "execution_count": 6,
   "metadata": {
    "ExecuteTime": {
     "end_time": "2019-11-01T09:08:00.698851Z",
     "start_time": "2019-11-01T09:08:00.525722Z"
    }
   },
   "outputs": [],
   "source": [
    "# Create datagen\n",
    "datagen = AutoencoderDataset(**params['datagen'], seed=params['seed'])"
   ]
  },
  {
   "cell_type": "code",
   "execution_count": 7,
   "metadata": {
    "ExecuteTime": {
     "end_time": "2019-11-01T09:08:06.654632Z",
     "start_time": "2019-11-01T09:08:06.134232Z"
    }
   },
   "outputs": [
    {
     "name": "stdout",
     "output_type": "stream",
     "text": [
      "WARNING:tensorflow:From /home/matejg/Test/test/lib/python3.5/site-packages/tensorflow/python/ops/resource_variable_ops.py:435: colocate_with (from tensorflow.python.framework.ops) is deprecated and will be removed in a future version.\n",
      "Instructions for updating:\n",
      "Colocations handled automatically by placer.\n",
      "WARNING:tensorflow:From /home/matejg/Test/test/lib/python3.5/site-packages/tensorflow/python/keras/utils/losses_utils.py:170: to_float (from tensorflow.python.ops.math_ops) is deprecated and will be removed in a future version.\n",
      "Instructions for updating:\n",
      "Use tf.cast instead.\n"
     ]
    }
   ],
   "source": [
    "# Create simple autoencoder (Conv2D-Upsampling2D)\n",
    "model = SimpleAutoencoder(96,0.005)\n",
    "\n",
    "# Create transpose autoencoder (Conv2DTranspose)\n",
    "#model = TransposeAutoencoder(96,0.0005)\n",
    "\n",
    "# Create combined autoencoder\n",
    "#model = CombinedAutoencoder(96, 0.05)"
   ]
  },
  {
   "cell_type": "code",
   "execution_count": 8,
   "metadata": {
    "ExecuteTime": {
     "end_time": "2019-10-31T17:27:51.764596Z",
     "start_time": "2019-10-31T17:27:51.756984Z"
    }
   },
   "outputs": [
    {
     "name": "stdout",
     "output_type": "stream",
     "text": [
      "_________________________________________________________________\n",
      "Layer (type)                 Output Shape              Param #   \n",
      "=================================================================\n",
      "input_1 (InputLayer)         (None, 96, 96, 3)         0         \n",
      "_________________________________________________________________\n",
      "conv2d (Conv2D)              (None, 96, 96, 8)         224       \n",
      "_________________________________________________________________\n",
      "conv2d_1 (Conv2D)            (None, 96, 96, 8)         584       \n",
      "_________________________________________________________________\n",
      "max_pooling2d (MaxPooling2D) (None, 48, 48, 8)         0         \n",
      "_________________________________________________________________\n",
      "conv2d_2 (Conv2D)            (None, 48, 48, 16)        1168      \n",
      "_________________________________________________________________\n",
      "conv2d_3 (Conv2D)            (None, 48, 48, 16)        2320      \n",
      "_________________________________________________________________\n",
      "max_pooling2d_1 (MaxPooling2 (None, 24, 24, 16)        0         \n",
      "_________________________________________________________________\n",
      "conv2d_4 (Conv2D)            (None, 24, 24, 32)        4640      \n",
      "_________________________________________________________________\n",
      "conv2d_5 (Conv2D)            (None, 24, 24, 32)        9248      \n",
      "_________________________________________________________________\n",
      "max_pooling2d_2 (MaxPooling2 (None, 12, 12, 32)        0         \n",
      "_________________________________________________________________\n",
      "flatten (Flatten)            (None, 4608)              0         \n",
      "_________________________________________________________________\n",
      "dense (Dense)                (None, 512)               2359808   \n",
      "_________________________________________________________________\n",
      "dense_1 (Dense)              (None, 4608)              2363904   \n",
      "_________________________________________________________________\n",
      "reshape (Reshape)            (None, 12, 12, 32)        0         \n",
      "_________________________________________________________________\n",
      "up_sampling2d (UpSampling2D) (None, 24, 24, 32)        0         \n",
      "_________________________________________________________________\n",
      "conv2d_6 (Conv2D)            (None, 24, 24, 32)        9248      \n",
      "_________________________________________________________________\n",
      "conv2d_7 (Conv2D)            (None, 24, 24, 32)        9248      \n",
      "_________________________________________________________________\n",
      "up_sampling2d_1 (UpSampling2 (None, 48, 48, 32)        0         \n",
      "_________________________________________________________________\n",
      "conv2d_8 (Conv2D)            (None, 48, 48, 16)        4624      \n",
      "_________________________________________________________________\n",
      "conv2d_9 (Conv2D)            (None, 48, 48, 16)        2320      \n",
      "_________________________________________________________________\n",
      "up_sampling2d_2 (UpSampling2 (None, 96, 96, 16)        0         \n",
      "_________________________________________________________________\n",
      "conv2d_10 (Conv2D)           (None, 96, 96, 8)         1160      \n",
      "_________________________________________________________________\n",
      "conv2d_11 (Conv2D)           (None, 96, 96, 3)         219       \n",
      "=================================================================\n",
      "Total params: 4,768,715\n",
      "Trainable params: 4,768,715\n",
      "Non-trainable params: 0\n",
      "_________________________________________________________________\n"
     ]
    }
   ],
   "source": [
    "model.autoencoder.summary()"
   ]
  },
  {
   "cell_type": "code",
   "execution_count": 8,
   "metadata": {
    "ExecuteTime": {
     "end_time": "2019-11-01T10:20:44.487034Z",
     "start_time": "2019-11-01T09:08:11.165577Z"
    },
    "scrolled": true
   },
   "outputs": [
    {
     "name": "stdout",
     "output_type": "stream",
     "text": [
      "WARNING:tensorflow:From /home/matejg/Test/test/lib/python3.5/site-packages/tensorflow/python/ops/math_ops.py:3066: to_int32 (from tensorflow.python.ops.math_ops) is deprecated and will be removed in a future version.\n",
      "Instructions for updating:\n",
      "Use tf.cast instead.\n",
      "Epoch 1/100\n",
      "250/250 [==============================] - 31s 125ms/step - loss: 0.0223\n",
      "\n",
      "Epoch 00001: val_loss improved from inf to 0.02229, saving model to /home/matejg/simple-cae.h5\n",
      "1000/1000 [==============================] - 147s 147ms/step - loss: 0.0282 - val_loss: 0.0223\n",
      "Epoch 2/100\n",
      "250/250 [==============================] - 27s 107ms/step - loss: 0.0206\n",
      "\n",
      "Epoch 00002: val_loss improved from 0.02229 to 0.02062, saving model to /home/matejg/simple-cae.h5\n",
      "1000/1000 [==============================] - 131s 131ms/step - loss: 0.0207 - val_loss: 0.0206\n",
      "Epoch 3/100\n",
      "250/250 [==============================] - 27s 106ms/step - loss: 0.0206\n",
      "\n",
      "Epoch 00003: val_loss did not improve from 0.02062\n",
      "1000/1000 [==============================] - 132s 132ms/step - loss: 0.0195 - val_loss: 0.0206\n",
      "Epoch 4/100\n",
      "250/250 [==============================] - 27s 109ms/step - loss: 0.0189\n",
      "\n",
      "Epoch 00004: val_loss improved from 0.02062 to 0.01886, saving model to /home/matejg/simple-cae.h5\n",
      "1000/1000 [==============================] - 130s 130ms/step - loss: 0.0192 - val_loss: 0.0189\n",
      "Epoch 5/100\n",
      "250/250 [==============================] - 26s 106ms/step - loss: 0.0189\n",
      "\n",
      "Epoch 00005: val_loss did not improve from 0.01886\n",
      "1000/1000 [==============================] - 129s 129ms/step - loss: 0.0189 - val_loss: 0.0189\n",
      "Epoch 6/100\n",
      "250/250 [==============================] - 27s 109ms/step - loss: 0.0191\n",
      "\n",
      "Epoch 00006: ReduceLROnPlateau reducing learning rate to 0.0024999999441206455.\n",
      "\n",
      "Epoch 00006: val_loss did not improve from 0.01886\n",
      "1000/1000 [==============================] - 133s 133ms/step - loss: 0.0189 - val_loss: 0.0191\n",
      "Epoch 7/100\n",
      "250/250 [==============================] - 27s 108ms/step - loss: 0.0181\n",
      "\n",
      "Epoch 00007: val_loss improved from 0.01886 to 0.01810, saving model to /home/matejg/simple-cae.h5\n",
      "1000/1000 [==============================] - 131s 131ms/step - loss: 0.0184 - val_loss: 0.0181\n",
      "Epoch 8/100\n",
      "250/250 [==============================] - 27s 110ms/step - loss: 0.0187\n",
      "\n",
      "Epoch 00008: val_loss did not improve from 0.01810\n",
      "1000/1000 [==============================] - 131s 131ms/step - loss: 0.0189 - val_loss: 0.0187\n",
      "Epoch 9/100\n",
      "250/250 [==============================] - 26s 106ms/step - loss: 0.0185\n",
      "\n",
      "Epoch 00009: ReduceLROnPlateau reducing learning rate to 0.0012499999720603228.\n",
      "\n",
      "Epoch 00009: val_loss did not improve from 0.01810\n",
      "1000/1000 [==============================] - 132s 132ms/step - loss: 0.0186 - val_loss: 0.0185\n",
      "Epoch 10/100\n",
      "250/250 [==============================] - 27s 107ms/step - loss: 0.0190\n",
      "\n",
      "Epoch 00010: val_loss did not improve from 0.01810\n",
      "1000/1000 [==============================] - 131s 131ms/step - loss: 0.0186 - val_loss: 0.0190\n",
      "Epoch 11/100\n",
      "250/250 [==============================] - 28s 111ms/step - loss: 0.0180\n",
      "\n",
      "Epoch 00011: val_loss improved from 0.01810 to 0.01797, saving model to /home/matejg/simple-cae.h5\n",
      "1000/1000 [==============================] - 133s 133ms/step - loss: 0.0181 - val_loss: 0.0180\n",
      "Epoch 12/100\n",
      "250/250 [==============================] - 27s 107ms/step - loss: 0.0178\n",
      "\n",
      "Epoch 00012: val_loss improved from 0.01797 to 0.01781, saving model to /home/matejg/simple-cae.h5\n",
      "1000/1000 [==============================] - 128s 128ms/step - loss: 0.0186 - val_loss: 0.0178\n",
      "Epoch 13/100\n",
      "250/250 [==============================] - 27s 107ms/step - loss: 0.0190\n",
      "\n",
      "Epoch 00013: val_loss did not improve from 0.01781\n",
      "1000/1000 [==============================] - 130s 130ms/step - loss: 0.0184 - val_loss: 0.0190\n",
      "Epoch 14/100\n",
      "250/250 [==============================] - 27s 107ms/step - loss: 0.0178\n",
      "\n",
      "Epoch 00014: ReduceLROnPlateau reducing learning rate to 0.0006249999860301614.\n",
      "\n",
      "Epoch 00014: val_loss did not improve from 0.01781\n",
      "1000/1000 [==============================] - 128s 128ms/step - loss: 0.0183 - val_loss: 0.0178\n",
      "Epoch 15/100\n",
      "250/250 [==============================] - 27s 107ms/step - loss: 0.0184\n",
      "\n",
      "Epoch 00015: val_loss did not improve from 0.01781\n",
      "1000/1000 [==============================] - 128s 128ms/step - loss: 0.0184 - val_loss: 0.0184\n",
      "Epoch 16/100\n",
      "250/250 [==============================] - 26s 104ms/step - loss: 0.0176\n",
      "\n",
      "Epoch 00016: val_loss improved from 0.01781 to 0.01762, saving model to /home/matejg/simple-cae.h5\n",
      "1000/1000 [==============================] - 132s 132ms/step - loss: 0.0181 - val_loss: 0.0176\n",
      "Epoch 17/100\n",
      "250/250 [==============================] - 27s 109ms/step - loss: 0.0182\n",
      "\n",
      "Epoch 00017: val_loss did not improve from 0.01762\n",
      "1000/1000 [==============================] - 131s 131ms/step - loss: 0.0183 - val_loss: 0.0182\n",
      "Epoch 18/100\n",
      "250/250 [==============================] - 27s 109ms/step - loss: 0.0184\n",
      "\n",
      "Epoch 00018: ReduceLROnPlateau reducing learning rate to 0.0003124999930150807.\n",
      "\n",
      "Epoch 00018: val_loss did not improve from 0.01762\n",
      "1000/1000 [==============================] - 131s 131ms/step - loss: 0.0181 - val_loss: 0.0184\n",
      "Epoch 19/100\n",
      "250/250 [==============================] - 27s 106ms/step - loss: 0.0184\n",
      "\n",
      "Epoch 00019: val_loss did not improve from 0.01762\n",
      "1000/1000 [==============================] - 130s 130ms/step - loss: 0.0181 - val_loss: 0.0184\n",
      "Epoch 20/100\n",
      "250/250 [==============================] - 28s 110ms/step - loss: 0.0181\n",
      "\n",
      "Epoch 00020: ReduceLROnPlateau reducing learning rate to 0.00015624999650754035.\n",
      "\n",
      "Epoch 00020: val_loss did not improve from 0.01762\n",
      "1000/1000 [==============================] - 132s 132ms/step - loss: 0.0182 - val_loss: 0.0181\n",
      "Epoch 21/100\n",
      "250/250 [==============================] - 28s 111ms/step - loss: 0.0179\n",
      "\n",
      "Epoch 00021: val_loss did not improve from 0.01762\n",
      "1000/1000 [==============================] - 133s 133ms/step - loss: 0.0182 - val_loss: 0.0179\n",
      "Epoch 22/100\n",
      "250/250 [==============================] - 27s 110ms/step - loss: 0.0182\n",
      "\n",
      "Epoch 00022: ReduceLROnPlateau reducing learning rate to 7.812499825377017e-05.\n",
      "\n",
      "Epoch 00022: val_loss did not improve from 0.01762\n",
      "1000/1000 [==============================] - 133s 133ms/step - loss: 0.0183 - val_loss: 0.0182\n",
      "Epoch 23/100\n",
      "250/250 [==============================] - 27s 108ms/step - loss: 0.0174\n",
      "\n",
      "Epoch 00023: val_loss improved from 0.01762 to 0.01738, saving model to /home/matejg/simple-cae.h5\n",
      "1000/1000 [==============================] - 132s 132ms/step - loss: 0.0182 - val_loss: 0.0174\n",
      "Epoch 24/100\n",
      "250/250 [==============================] - 27s 109ms/step - loss: 0.0180\n",
      "\n",
      "Epoch 00024: val_loss did not improve from 0.01738\n",
      "1000/1000 [==============================] - 131s 131ms/step - loss: 0.0183 - val_loss: 0.0180\n",
      "Epoch 25/100\n",
      "250/250 [==============================] - 27s 110ms/step - loss: 0.0178\n",
      "\n",
      "Epoch 00025: ReduceLROnPlateau reducing learning rate to 3.9062499126885086e-05.\n",
      "\n",
      "Epoch 00025: val_loss did not improve from 0.01738\n",
      "1000/1000 [==============================] - 133s 133ms/step - loss: 0.0185 - val_loss: 0.0178\n",
      "Epoch 26/100\n",
      "250/250 [==============================] - 31s 122ms/step - loss: 0.0175\n",
      "\n",
      "Epoch 00026: val_loss did not improve from 0.01738\n",
      "1000/1000 [==============================] - 134s 134ms/step - loss: 0.0180 - val_loss: 0.0175\n",
      "Epoch 27/100\n",
      "250/250 [==============================] - 26s 106ms/step - loss: 0.0181\n",
      "\n",
      "Epoch 00027: ReduceLROnPlateau reducing learning rate to 1.9531249563442543e-05.\n",
      "\n",
      "Epoch 00027: val_loss did not improve from 0.01738\n",
      "1000/1000 [==============================] - 130s 130ms/step - loss: 0.0182 - val_loss: 0.0181\n",
      "Epoch 28/100\n",
      "250/250 [==============================] - 27s 109ms/step - loss: 0.0176\n",
      "\n",
      "Epoch 00028: val_loss did not improve from 0.01738\n",
      "1000/1000 [==============================] - 132s 132ms/step - loss: 0.0185 - val_loss: 0.0176\n",
      "Epoch 29/100\n",
      "250/250 [==============================] - 28s 111ms/step - loss: 0.0178\n",
      "\n",
      "Epoch 00029: ReduceLROnPlateau reducing learning rate to 9.765624781721272e-06.\n",
      "\n",
      "Epoch 00029: val_loss did not improve from 0.01738\n",
      "1000/1000 [==============================] - 132s 132ms/step - loss: 0.0181 - val_loss: 0.0178\n",
      "Epoch 30/100\n",
      "250/250 [==============================] - 28s 111ms/step - loss: 0.0180\n",
      "\n",
      "Epoch 00030: val_loss did not improve from 0.01738\n",
      "1000/1000 [==============================] - 132s 132ms/step - loss: 0.0181 - val_loss: 0.0180\n",
      "Epoch 31/100\n",
      "250/250 [==============================] - 28s 110ms/step - loss: 0.0188\n",
      "\n",
      "Epoch 00031: ReduceLROnPlateau reducing learning rate to 4.882812390860636e-06.\n",
      "\n",
      "Epoch 00031: val_loss did not improve from 0.01738\n",
      "1000/1000 [==============================] - 133s 133ms/step - loss: 0.0182 - val_loss: 0.0188\n",
      "Epoch 32/100\n",
      "250/250 [==============================] - 28s 114ms/step - loss: 0.0177\n",
      "\n",
      "Epoch 00032: val_loss did not improve from 0.01738\n",
      "1000/1000 [==============================] - 133s 133ms/step - loss: 0.0182 - val_loss: 0.0177\n",
      "Epoch 33/100\n",
      "250/250 [==============================] - 30s 120ms/step - loss: 0.0184\n",
      "\n",
      "Epoch 00033: ReduceLROnPlateau reducing learning rate to 2.441406195430318e-06.\n",
      "\n",
      "Epoch 00033: val_loss did not improve from 0.01738\n",
      "1000/1000 [==============================] - 134s 134ms/step - loss: 0.0182 - val_loss: 0.0184\n"
     ]
    },
    {
     "data": {
      "text/plain": [
       "<tensorflow.python.keras.callbacks.History at 0x7f1454f3c358>"
      ]
     },
     "execution_count": 8,
     "metadata": {},
     "output_type": "execute_result"
    }
   ],
   "source": [
    "# Get train, valid datagens\n",
    "epochs = 100\n",
    "batch_size = 64\n",
    "per_epoch_train_steps = 1000\n",
    "per_epoch_valid_steps = 250\n",
    "\n",
    "train_ds, train_steps = datagen.get_training_dataset(total_samples=batch_size*per_epoch_train_steps*epochs, augment_type=None)\n",
    "valid_ds, valid_steps = datagen.get_validation_dataset(total_samples=batch_size*per_epoch_valid_steps*epochs, augment_type=None)\n",
    "\n",
    "# Get callbacks\n",
    "early_stop_cb = tf.keras.callbacks.EarlyStopping(monitor='val_loss', patience=10)\n",
    "\n",
    "reduce_lr_cb = tf.keras.callbacks.ReduceLROnPlateau(monitor='val_loss', patience=2, factor=0.5, min_lr=0.0000001, verbose=1)\n",
    "\n",
    "model_ckpt_cb = tf.keras.callbacks.ModelCheckpoint('/home/matejg/simple-cae.h5', monitor='val_loss', \n",
    "                                                             verbose=1, save_best_only=True, save_weights_only=True, \n",
    "                                                             mode='auto', period=1)\n",
    "\n",
    "# Start training\n",
    "model.autoencoder.fit_generator(generator=train_ds, steps_per_epoch=per_epoch_train_steps, epochs=epochs, verbose=1,\n",
    "                               validation_data=valid_ds, validation_steps=per_epoch_valid_steps,\n",
    "                               callbacks=[reduce_lr_cb, model_ckpt_cb, early_stop_cb])"
   ]
  },
  {
   "cell_type": "code",
   "execution_count": 9,
   "metadata": {
    "ExecuteTime": {
     "end_time": "2019-10-31T13:56:09.936835Z",
     "start_time": "2019-10-31T13:56:09.718243Z"
    }
   },
   "outputs": [],
   "source": [
    "# Load best weights\n",
    "model.autoencoder.load_weights('/home/matejg/simple-cae.h5')"
   ]
  },
  {
   "cell_type": "code",
   "execution_count": 10,
   "metadata": {
    "ExecuteTime": {
     "end_time": "2019-10-31T17:19:41.275648Z",
     "start_time": "2019-10-31T17:19:41.139211Z"
    }
   },
   "outputs": [
    {
     "name": "stderr",
     "output_type": "stream",
     "text": [
      "Process Process-4:\n",
      "Traceback (most recent call last):\n",
      "  File \"/usr/lib/python3.5/multiprocessing/process.py\", line 249, in _bootstrap\n",
      "    self.run()\n",
      "  File \"/usr/lib/python3.5/multiprocessing/process.py\", line 93, in run\n",
      "    self._target(*self._args, **self._kwargs)\n",
      "  File \"/home/matejg/Project/crc_ml/src/models/wsi_dataset.py\", line 313, in prepare_training_dataset\n",
      "    self.generate_and_extract_tiles(sampler, total_samples % self.chunk_size, augment_type, save_filenames)\n",
      "  File \"/home/matejg/Project/crc_ml/src/models/wsi_dataset.py\", line 372, in generate_and_extract_tiles\n",
      "    chunk_coords = self.generate_train_epoch_coords(sampler, num_samples)\n",
      "  File \"/home/matejg/Project/crc_ml/src/models/wsi_dataset.py\", line 342, in generate_train_epoch_coords\n",
      "    slide_name, coord, label = self.sample(sampler)\n",
      "KeyboardInterrupt\n"
     ]
    }
   ],
   "source": [
    "# Get unseen pictures\n",
    "valid_ds, valid_steps = datagen.get_validation_dataset(total_samples=64*50*1, augment_type=None)\n",
    "test_ds, test_steps = datagen.get_test_dataset(total_samples=64*50*1, augment_type=None)"
   ]
  },
  {
   "cell_type": "code",
   "execution_count": 11,
   "metadata": {
    "ExecuteTime": {
     "end_time": "2019-10-31T17:19:41.372381Z",
     "start_time": "2019-10-31T17:19:41.369215Z"
    }
   },
   "outputs": [],
   "source": [
    "from sklearn.metrics import mean_squared_error as mse"
   ]
  },
  {
   "cell_type": "code",
   "execution_count": 12,
   "metadata": {
    "ExecuteTime": {
     "end_time": "2019-10-31T17:19:42.021126Z",
     "start_time": "2019-10-31T17:19:41.740520Z"
    }
   },
   "outputs": [],
   "source": [
    "# Get average reconstruction error for healthy tiles\n",
    "val_x, val_y = valid_ds.__next__()\n",
    "val_y_pred = model.autoencoder.predict(val_x)\n",
    "val_pred_img = lambda idx: ((val_y_pred[idx]+1)*127.5).astype(np.uint8)\n",
    "val_out_img = lambda idx: ((val_y[idx]+1)*127.5).astype(np.uint8)\n",
    "\n",
    "normal = []\n",
    "for idx in range(64):\n",
    "    normal.append(mse(y_true=val_y[idx].flatten(), y_pred=val_y_pred[idx].flatten()))\n",
    "normal = np.array(normal)"
   ]
  },
  {
   "cell_type": "code",
   "execution_count": null,
   "metadata": {
    "ExecuteTime": {
     "end_time": "2019-10-30T21:43:15.856927Z",
     "start_time": "2019-10-30T21:43:15.771670Z"
    }
   },
   "outputs": [],
   "source": [
    "# Get average reconstruction error for anomalous tiles\n",
    "test_x, test_y = test_ds.__next__()\n",
    "test_y_pred = model.autoencoder.predict(test_x)\n",
    "test_pred_img = lambda idx: ((test_y_pred[idx]+1)*127.5).astype(np.uint8)\n",
    "test_out_img = lambda idx: ((test_y[idx]+1)*127.5).astype(np.uint8)\n",
    "\n",
    "anomaly = []\n",
    "for idx in range(64):\n",
    "    anomaly.append(mse(y_true=test_y[idx].flatten(), y_pred=test_y_pred[idx].flatten()))\n",
    "anomaly = np.array(anomaly)"
   ]
  },
  {
   "cell_type": "code",
   "execution_count": 13,
   "metadata": {
    "ExecuteTime": {
     "end_time": "2019-10-31T17:19:43.310319Z",
     "start_time": "2019-10-31T17:19:43.166898Z"
    }
   },
   "outputs": [
    {
     "data": {
      "text/plain": [
       "<matplotlib.image.AxesImage at 0x7f517c724cf8>"
      ]
     },
     "execution_count": 13,
     "metadata": {},
     "output_type": "execute_result"
    },
    {
     "data": {
      "image/png": "[encoded data removed]",
      "text/plain": [
       "<Figure size 432x288 with 1 Axes>"
      ]
     },
     "metadata": {
      "needs_background": "light"
     },
     "output_type": "display_data"
    }
   ],
   "source": [
    "# Reconstructed image\n",
    "plt.imshow(val_pred_img(3))"
   ]
  },
  {
   "cell_type": "code",
   "execution_count": 14,
   "metadata": {
    "ExecuteTime": {
     "end_time": "2019-10-31T17:19:44.241782Z",
     "start_time": "2019-10-31T17:19:44.116448Z"
    }
   },
   "outputs": [
    {
     "data": {
      "text/plain": [
       "<matplotlib.image.AxesImage at 0x7f522475acc0>"
      ]
     },
     "execution_count": 14,
     "metadata": {},
     "output_type": "execute_result"
    },
    {
     "data": {
      "image/png": "[encoded data removed]",
      "text/plain": [
       "<Figure size 432x288 with 1 Axes>"
      ]
     },
     "metadata": {
      "needs_background": "light"
     },
     "output_type": "display_data"
    }
   ],
   "source": [
    "# Original image\n",
    "plt.imshow(val_out_img(3))"
   ]
  },
  {
   "cell_type": "code",
   "execution_count": null,
   "metadata": {
    "ExecuteTime": {
     "end_time": "2019-10-30T21:43:18.226079Z",
     "start_time": "2019-10-30T21:43:18.221644Z"
    }
   },
   "outputs": [],
   "source": [
    "print('ANOMALY: {}'.format(anomaly.mean()))\n",
    "print('NORMAL: {}'.format(normal.mean()))"
   ]
  },
  {
   "cell_type": "markdown",
   "metadata": {
    "ExecuteTime": {
     "end_time": "2019-10-30T21:43:18.226079Z",
     "start_time": "2019-10-30T21:43:18.221644Z"
    }
   },
   "source": [
    "# OC-NN"
   ]
  },
  {
   "cell_type": "code",
   "execution_count": 12,
   "metadata": {
    "ExecuteTime": {
     "end_time": "2019-10-30T22:41:17.339690Z",
     "start_time": "2019-10-30T22:41:17.334839Z"
    }
   },
   "outputs": [],
   "source": [
    "from tensorflow.keras import backend as K"
   ]
  },
  {
   "cell_type": "code",
   "execution_count": 13,
   "metadata": {
    "ExecuteTime": {
     "end_time": "2019-10-30T22:41:17.858745Z",
     "start_time": "2019-10-30T22:41:17.851255Z"
    }
   },
   "outputs": [],
   "source": [
    "# nu-quantile variable - we need to change it during run\n",
    "r = K.variable(0.5, dtype=float, name='quantile')"
   ]
  },
  {
   "cell_type": "markdown",
   "metadata": {
    "ExecuteTime": {
     "end_time": "2019-10-30T21:57:31.886831Z",
     "start_time": "2019-10-30T21:57:31.883953Z"
    }
   },
   "source": [
    "The encoder weights are frozen. According to Algorithm 1 only weights of the FCN are updated."
   ]
  },
  {
   "cell_type": "code",
   "execution_count": null,
   "metadata": {
    "ExecuteTime": {
     "end_time": "2019-10-30T21:57:31.886831Z",
     "start_time": "2019-10-30T21:57:31.883953Z"
    }
   },
   "outputs": [],
   "source": [
    "model.encoder.trainable = False"
   ]
  },
  {
   "cell_type": "markdown",
   "metadata": {
    "ExecuteTime": {
     "end_time": "2019-10-30T21:59:07.937220Z",
     "start_time": "2019-10-30T21:59:07.895673Z"
    }
   },
   "source": [
    "We use the latent vector of the autoencoder as an input to the OC-NN. OC-NN consists of FCN hidden layers and a single-node output layer."
   ]
  },
  {
   "cell_type": "code",
   "execution_count": 14,
   "metadata": {
    "ExecuteTime": {
     "end_time": "2019-10-30T22:41:21.577231Z",
     "start_time": "2019-10-30T22:41:21.537688Z"
    }
   },
   "outputs": [],
   "source": [
    "# Encoder - Hidden - Output(1)\n",
    "out = tf.keras.layers.Flatten()(model.encoder.output)\n",
    "out = tf.keras.layers.Dense(128, activation='relu')(out)\n",
    "out = tf.keras.layers.Dense(1, activation='sigmoid')(out)\n",
    "train_model = tf.keras.Model(model.encoder.input, out)"
   ]
  },
  {
   "cell_type": "code",
   "execution_count": null,
   "metadata": {
    "ExecuteTime": {
     "end_time": "2019-10-30T22:22:48.086201Z",
     "start_time": "2019-10-30T22:22:48.044213Z"
    }
   },
   "outputs": [],
   "source": [
    "# Encoder - Hidden - Output(1) - DecisionScore\n",
    "out = tf.keras.layers.Lambda(lambda x: x - r)(out)\n",
    "out_model = tf.keras.Model(model.encoder.input, out)"
   ]
  },
  {
   "cell_type": "code",
   "execution_count": 16,
   "metadata": {
    "ExecuteTime": {
     "end_time": "2019-10-30T22:42:32.346073Z",
     "start_time": "2019-10-30T22:42:32.310398Z"
    }
   },
   "outputs": [],
   "source": [
    "# Custom loss function to minimize\n",
    "def ocnn_loss(_, y_pred):\n",
    "    return (1 / 0.015) * K.mean(K.maximum(0.0, r - y_pred)) - r\n",
    "\n",
    "train_model.compile(loss=ocnn_loss, optimizer=tf.keras.optimizers.Adam(0.00005))"
   ]
  },
  {
   "cell_type": "code",
   "execution_count": 25,
   "metadata": {
    "ExecuteTime": {
     "end_time": "2019-10-30T22:47:11.424847Z",
     "start_time": "2019-10-30T22:47:11.371342Z"
    }
   },
   "outputs": [],
   "source": [
    "# Get training datagen\n",
    "train_ds, train_steps = datagen.get_training_dataset(total_samples=64*1500*1, augment_type=None)"
   ]
  },
  {
   "cell_type": "code",
   "execution_count": 26,
   "metadata": {
    "ExecuteTime": {
     "end_time": "2019-10-30T22:49:44.617014Z",
     "start_time": "2019-10-30T22:47:12.282446Z"
    }
   },
   "outputs": [
    {
     "name": "stdout",
     "output_type": "stream",
     "text": [
      "1500/1500 [==============================] - 152s 102ms/step - loss: -0.9998\n"
     ]
    },
    {
     "data": {
      "text/plain": [
       "<tensorflow.python.keras.callbacks.History at 0x7f6c5e7c0f98>"
      ]
     },
     "execution_count": 26,
     "metadata": {},
     "output_type": "execute_result"
    }
   ],
   "source": [
    "# Train model\n",
    "train_model.fit_generator(train_ds, steps_per_epoch=train_steps, epochs=1)"
   ]
  },
  {
   "cell_type": "markdown",
   "metadata": {
    "ExecuteTime": {
     "end_time": "2019-10-30T22:49:54.522188Z",
     "start_time": "2019-10-30T22:49:53.650533Z"
    }
   },
   "source": [
    "Once the network has been trained for a single epoch/batch for a fixed value of $\\nu$, we update the $\\nu$ value: $\\nu^{t+1} = \\nu-\\texttt{quantile of } \\{\\hat{y}_n^{t+1}\\}^N_{n=1}$"
   ]
  },
  {
   "cell_type": "code",
   "execution_count": null,
   "metadata": {
    "ExecuteTime": {
     "end_time": "2019-10-30T22:49:54.522188Z",
     "start_time": "2019-10-30T22:49:53.650533Z"
    }
   },
   "outputs": [],
   "source": [
    "# Estimate nu-quantile\n",
    "train_ds, train_steps = datagen.get_training_dataset(total_samples=64*1*1, augment_type=None)\n",
    "y_pred = train_model.predict_generator(train_ds, steps=train_steps)\n",
    "np.quantile(y_pred, 0.015)\n",
    "K.set_value(r, np.quantile(y_pred, 0.015))\n",
    "K.get_value(r)"
   ]
  },
  {
   "cell_type": "markdown",
   "metadata": {
    "ExecuteTime": {
     "end_time": "2019-10-30T22:49:54.522188Z",
     "start_time": "2019-10-30T22:49:53.650533Z"
    }
   },
   "source": [
    "30/10/2019\n",
    "- It's possible that for training we need dataset/batches with r"
   ]
  }
 ],
 "metadata": {
  "kernelspec": {
   "display_name": "test",
   "language": "python",
   "name": "test"
  },
  "language_info": {
   "codemirror_mode": {
    "name": "ipython",
    "version": 3
   },
   "file_extension": ".py",
   "mimetype": "text/x-python",
   "name": "python",
   "nbconvert_exporter": "python",
   "pygments_lexer": "ipython3",
   "version": "3.5.3"
  },
  "toc": {
   "base_numbering": 1,
   "nav_menu": {},
   "number_sections": true,
   "sideBar": true,
   "skip_h1_title": false,
   "title_cell": "Table of Contents",
   "title_sidebar": "Contents",
   "toc_cell": false,
   "toc_position": {},
   "toc_section_display": true,
   "toc_window_display": false
  },
  "varInspector": {
   "cols": {
    "lenName": 16,
    "lenType": 16,
    "lenVar": 40
   },
   "kernels_config": {
    "python": {
     "delete_cmd_postfix": "",
     "delete_cmd_prefix": "del ",
     "library": "var_list.py",
     "varRefreshCmd": "print(var_dic_list())"
    },
    "r": {
     "delete_cmd_postfix": ") ",
     "delete_cmd_prefix": "rm(",
     "library": "var_list.r",
     "varRefreshCmd": "cat(var_dic_list()) "
    }
   },
   "types_to_exclude": [
    "module",
    "function",
    "builtin_function_or_method",
    "instance",
    "_Feature"
   ],
   "window_display": false
  }
 },
 "nbformat": 4,
 "nbformat_minor": 2
}
