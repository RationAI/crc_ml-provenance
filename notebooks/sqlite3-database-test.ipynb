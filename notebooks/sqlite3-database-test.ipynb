{
 "cells": [
  {
   "cell_type": "code",
   "execution_count": 1,
   "metadata": {
    "ExecuteTime": {
     "end_time": "2019-12-01T00:37:33.479942Z",
     "start_time": "2019-12-01T00:37:33.476770Z"
    }
   },
   "outputs": [],
   "source": [
    "import sqlite3\n",
    "import numpy as np\n",
    "from collections import namedtuple"
   ]
  },
  {
   "cell_type": "code",
   "execution_count": 2,
   "metadata": {
    "ExecuteTime": {
     "end_time": "2019-12-01T00:37:34.575213Z",
     "start_time": "2019-12-01T00:37:34.572140Z"
    }
   },
   "outputs": [],
   "source": [
    "# Create connection\n",
    "conn = sqlite3.connect('/tmp/AA_db.sqlite')\n",
    "cur = conn.cursor()"
   ]
  },
  {
   "cell_type": "code",
   "execution_count": 7,
   "metadata": {
    "ExecuteTime": {
     "end_time": "2019-12-01T00:33:44.623652Z",
     "start_time": "2019-12-01T00:33:44.611503Z"
    }
   },
   "outputs": [
    {
     "data": {
      "text/plain": [
       "<sqlite3.Cursor at 0x7fb217eaeb90>"
      ]
     },
     "execution_count": 7,
     "metadata": {},
     "output_type": "execute_result"
    }
   ],
   "source": [
    "# Create table\n",
    "cur.execute('CREATE TABLE tiles (coord_x INTEGER, coord_y INTEGER, slide VARCHAR, center_tumor INTEGER, tile_tumor REAL)')"
   ]
  },
  {
   "cell_type": "code",
   "execution_count": 9,
   "metadata": {
    "ExecuteTime": {
     "end_time": "2019-12-01T00:34:04.671313Z",
     "start_time": "2019-12-01T00:33:51.542397Z"
    }
   },
   "outputs": [],
   "source": [
    "for _ in range(100):\n",
    "    # Insert 10,000 entries to the table\n",
    "    slides = ['slide_{}'.format(i) for i in range(10)]\n",
    "    for _ in range(10000):\n",
    "        cur.execute('INSERT INTO tiles (coord_x, coord_y, slide, center_tumor, tile_tumor) VALUES (?, ?, ?, ?, ?)',\n",
    "                   (np.random.randint(low=0, high=500000), np.random.randint(low=0, high=500000), np.random.choice(slides), np.random.randint(low=0, high=2), np.random.rand()))\n",
    "conn.commit()"
   ]
  },
  {
   "cell_type": "code",
   "execution_count": null,
   "metadata": {
    "ExecuteTime": {
     "end_time": "2019-12-01T00:34:07.955074Z",
     "start_time": "2019-12-01T00:34:07.509431Z"
    }
   },
   "outputs": [],
   "source": [
    "# Create index on SLIDE\n",
    "cur.execute('CREATE INDEX slide_index ON tiles(slide)')\n",
    "conn.commit()"
   ]
  },
  {
   "cell_type": "code",
   "execution_count": null,
   "metadata": {
    "ExecuteTime": {
     "end_time": "2019-12-01T00:36:45.029085Z",
     "start_time": "2019-12-01T00:36:44.734566Z"
    }
   },
   "outputs": [],
   "source": [
    "# Create index on LABEL\n",
    "cur.execute('CREATE INDEX center_index ON tiles(center_tumor)')\n",
    "conn.commit()"
   ]
  },
  {
   "cell_type": "code",
   "execution_count": null,
   "metadata": {
    "ExecuteTime": {
     "end_time": "2019-12-01T01:01:11.602010Z",
     "start_time": "2019-12-01T01:01:11.542420Z"
    }
   },
   "outputs": [],
   "source": [
    "# Create slide view\n",
    "cur.execute('CREATE TEMP TABLE slides AS SELECT DISTINCT slide FROM tiles')\n",
    "conn.commit()"
   ]
  },
  {
   "cell_type": "code",
   "execution_count": 103,
   "metadata": {
    "ExecuteTime": {
     "end_time": "2019-12-01T01:09:22.744435Z",
     "start_time": "2019-12-01T01:09:21.881144Z"
    }
   },
   "outputs": [],
   "source": [
    "# Create slide count view\n",
    "cur.execute('CREATE TEMP TABLE counts AS SELECT slide, center_tumor, COUNT(*) AS tile_count FROM tiles GROUP BY slide, center_tumor')\n",
    "conn.commit()"
   ]
  },
  {
   "cell_type": "code",
   "execution_count": null,
   "metadata": {
    "ExecuteTime": {
     "end_time": "2019-12-01T01:18:33.944984Z",
     "start_time": "2019-12-01T01:18:33.889880Z"
    }
   },
   "outputs": [],
   "source": [
    "def sample():\n",
    "    label = np.random.randint(low=0, high=2)\n",
    "    cur.execute('''\n",
    "        SELECT DISTINCT slide, tile_count\n",
    "        FROM counts\n",
    "        WHERE center_tumor = ?\n",
    "        ORDER BY random()\n",
    "        LIMIT 1\n",
    "    ''', (label,))\n",
    "    slide, tile_count = cur.fetchone()\n",
    "    offset = np.random.randint(low=0, high=tile_count+1)\n",
    "    cur.execute('''\n",
    "        SELECT coord_x, coord_y, center_tumor\n",
    "        FROM tiles\n",
    "        WHERE center_tumor=? AND slide=?\n",
    "        LIMIT 1\n",
    "        OFFSET ?\n",
    "    ''', (label, slide, offset))\n",
    "    return cur.fetchone()"
   ]
  },
  {
   "cell_type": "code",
   "execution_count": 132,
   "metadata": {
    "ExecuteTime": {
     "end_time": "2019-12-01T02:17:13.416932Z",
     "start_time": "2019-12-01T02:17:13.276473Z"
    }
   },
   "outputs": [
    {
     "data": {
      "text/plain": [
       "(229507, 241954, 0)"
      ]
     },
     "execution_count": 132,
     "metadata": {},
     "output_type": "execute_result"
    }
   ],
   "source": [
    "sample()"
   ]
  },
  {
   "cell_type": "code",
   "execution_count": 34,
   "metadata": {
    "ExecuteTime": {
     "end_time": "2019-12-01T00:44:01.156594Z",
     "start_time": "2019-12-01T00:44:00.977777Z"
    }
   },
   "outputs": [
    {
     "data": {
      "text/plain": [
       "[(43007, 134050, 1)]"
      ]
     },
     "execution_count": 34,
     "metadata": {},
     "output_type": "execute_result"
    }
   ],
   "source": [
    "def get_random_coord(label, slide):\n",
    "    cur.execute('''\n",
    "        SELECT coord_x, coord_y, center_tumor\n",
    "        FROM tiles\n",
    "        WHERE center_tumor=? AND slide=?\n",
    "        ORDER BY random()\n",
    "        LIMIT 1\n",
    "    ''', (label, slide))\n",
    "    return cur.fetchall()\n",
    "get_random_coord(1, 'slide_5')"
   ]
  },
  {
   "cell_type": "code",
   "execution_count": 55,
   "metadata": {
    "ExecuteTime": {
     "end_time": "2019-12-01T00:46:48.599609Z",
     "start_time": "2019-12-01T00:46:48.596358Z"
    }
   },
   "outputs": [],
   "source": [
    "x = cur.execute('''\n",
    "        SELECT coord_x, coord_y, center_tumor\n",
    "        FROM tiles\n",
    "        WHERE center_tumor=? AND slide=?\n",
    "    ''', (1, 'slide_5'))"
   ]
  },
  {
   "cell_type": "code",
   "execution_count": 74,
   "metadata": {
    "ExecuteTime": {
     "end_time": "2019-12-01T00:47:10.449939Z",
     "start_time": "2019-12-01T00:47:10.445585Z"
    }
   },
   "outputs": [
    {
     "data": {
      "text/plain": [
       "(68849, 57472, 1)"
      ]
     },
     "execution_count": 74,
     "metadata": {},
     "output_type": "execute_result"
    }
   ],
   "source": [
    "x.__next__()"
   ]
  },
  {
   "cell_type": "code",
   "execution_count": null,
   "metadata": {
    "ExecuteTime": {
     "end_time": "2019-12-01T00:23:10.358364Z",
     "start_time": "2019-12-01T00:23:10.351052Z"
    }
   },
   "outputs": [],
   "source": [
    "Slide = namedtuple('Slide', 'slide_name')"
   ]
  },
  {
   "cell_type": "code",
   "execution_count": 5,
   "metadata": {
    "ExecuteTime": {
     "end_time": "2019-12-01T00:33:41.322278Z",
     "start_time": "2019-12-01T00:33:41.315959Z"
    }
   },
   "outputs": [],
   "source": [
    "conn.close()"
   ]
  },
  {
   "cell_type": "code",
   "execution_count": null,
   "metadata": {},
   "outputs": [],
   "source": []
  }
 ],
 "metadata": {
  "kernelspec": {
   "display_name": "test",
   "language": "python",
   "name": "test"
  },
  "language_info": {
   "codemirror_mode": {
    "name": "ipython",
    "version": 3
   },
   "file_extension": ".py",
   "mimetype": "text/x-python",
   "name": "python",
   "nbconvert_exporter": "python",
   "pygments_lexer": "ipython3",
   "version": "3.5.3"
  },
  "toc": {
   "base_numbering": 1,
   "nav_menu": {},
   "number_sections": true,
   "sideBar": true,
   "skip_h1_title": false,
   "title_cell": "Table of Contents",
   "title_sidebar": "Contents",
   "toc_cell": false,
   "toc_position": {},
   "toc_section_display": true,
   "toc_window_display": false
  },
  "varInspector": {
   "cols": {
    "lenName": 16,
    "lenType": 16,
    "lenVar": 40
   },
   "kernels_config": {
    "python": {
     "delete_cmd_postfix": "",
     "delete_cmd_prefix": "del ",
     "library": "var_list.py",
     "varRefreshCmd": "print(var_dic_list())"
    },
    "r": {
     "delete_cmd_postfix": ") ",
     "delete_cmd_prefix": "rm(",
     "library": "var_list.r",
     "varRefreshCmd": "cat(var_dic_list()) "
    }
   },
   "types_to_exclude": [
    "module",
    "function",
    "builtin_function_or_method",
    "instance",
    "_Feature"
   ],
   "window_display": false
  }
 },
 "nbformat": 4,
 "nbformat_minor": 2
}
