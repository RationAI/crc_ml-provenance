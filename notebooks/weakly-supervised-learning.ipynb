{
 "cells": [
  {
   "cell_type": "code",
   "execution_count": 1,
   "metadata": {
    "ExecuteTime": {
     "end_time": "2020-10-28T14:38:53.449311Z",
     "start_time": "2020-10-28T14:38:31.958371Z"
    }
   },
   "outputs": [],
   "source": [
    "import numpy as np\n",
    "import tensorflow as tf\n",
    "from tqdm import tqdm\n",
    "import json\n",
    "import time\n",
    "import os\n",
    "os.environ['CUDA_VISIBLE_DEVICES'] = '1'\n",
    "\n",
    "import sys\n",
    "from pathlib import Path\n",
    "module_path = Path('.').resolve().parent\n",
    "if str(module_path) not in sys.path:\n",
    "    sys.path.append(str(module_path))"
   ]
  },
  {
   "cell_type": "code",
   "execution_count": 2,
   "metadata": {
    "ExecuteTime": {
     "end_time": "2020-10-28T14:38:53.460757Z",
     "start_time": "2020-10-28T14:38:53.454944Z"
    }
   },
   "outputs": [],
   "source": [
    "TOP_S = 100\n",
    "BATCH_SIZE = 32\n",
    "EPOCHS = range(1)"
   ]
  },
  {
   "cell_type": "code",
   "execution_count": 3,
   "metadata": {
    "ExecuteTime": {
     "end_time": "2020-10-28T14:39:01.593533Z",
     "start_time": "2020-10-28T14:38:53.465519Z"
    }
   },
   "outputs": [],
   "source": [
    "\"\"\" Get data generator \"\"\"\n",
    "from src.datagens import DataSource, WSIDatagen\n",
    "from src.config import SLIDE_DIR\n",
    "\n",
    "DATASET_PATH = Path('/mnt/data/crc_ml/data/processed/Prostata/level1/r512px/c256px/t512px/no_overlap/datasets/1602530237.h5')\n",
    "CONFIG_PATH = Path('/mnt/data/crc_ml/configs/level1.json')\n",
    "\n",
    "with CONFIG_PATH.open('r') as config_json:\n",
    "    config = json.load(config_json)\n",
    "config['batch_size'] = BATCH_SIZE\n",
    "\n",
    "train_ds = DataSource()\n",
    "train_ds.add_dataset(DATASET_PATH, 'train')\n",
    "test_ds = DataSource()\n",
    "test_ds.add_dataset(DATASET_PATH, 'test')\n",
    "\n",
    "dg = WSIDatagen(config, slide_dir=SLIDE_DIR)\n",
    "train_gen = dg.get_sequential_generator(train_ds)\n",
    "test_gen = dg.get_sequential_generator(test_ds)"
   ]
  },
  {
   "cell_type": "code",
   "execution_count": 4,
   "metadata": {
    "ExecuteTime": {
     "end_time": "2020-10-28T14:39:03.908435Z",
     "start_time": "2020-10-28T14:39:01.596493Z"
    }
   },
   "outputs": [
    {
     "name": "stderr",
     "output_type": "stream",
     "text": [
      "[2020-10-28 02:39:01][INFO ][models] Applying L2 regularizer.\n",
      "[2020-10-28 02:39:03][INFO ][models] Building vgg16 model.\n",
      "[2020-10-28 02:39:03][INFO ][models] Model input size: [512, 512, 3]\n"
     ]
    }
   ],
   "source": [
    "\"\"\" Create model \"\"\"\n",
    "from src.training.models import PretrainedModel\n",
    "from tensorflow.keras.applications import VGG16\n",
    "from tensorflow.keras.optimizers import SGD, RMSprop, Adam\n",
    "from tensorflow.keras.losses import BinaryCrossentropy\n",
    "\n",
    "model = PretrainedModel(config, conv_net=VGG16).model\n",
    "loss_fn = BinaryCrossentropy(from_logits=False)\n",
    "optimizer = Adam(1e-4)"
   ]
  },
  {
   "cell_type": "code",
   "execution_count": null,
   "metadata": {
    "ExecuteTime": {
     "start_time": "2020-10-28T19:53:53.874Z"
    },
    "code_folding": [],
    "scrolled": false
   },
   "outputs": [
    {
     "name": "stdout",
     "output_type": "stream",
     "text": [
      "Epoch: 0\n"
     ]
    },
    {
     "name": "stderr",
     "output_type": "stream",
     "text": [
      "100%|██████████| 1808/1808 [02:33<00:00, 11.79it/s]\n",
      "100%|██████████| 100/100 [00:08<00:00, 11.41it/s]\n"
     ]
    },
    {
     "name": "stdout",
     "output_type": "stream",
     "text": [
      "TP-2019_6785-06-0 (162.5075 sec) Loss: 0.17\n"
     ]
    },
    {
     "name": "stderr",
     "output_type": "stream",
     "text": [
      "100%|██████████| 2418/2418 [03:40<00:00, 10.98it/s]\n",
      "100%|██████████| 100/100 [00:09<00:00, 10.92it/s]\n"
     ]
    },
    {
     "name": "stdout",
     "output_type": "stream",
     "text": [
      "TP-2019_6786-06-0 (229.7466 sec) Loss: 0.08\n"
     ]
    },
    {
     "name": "stderr",
     "output_type": "stream",
     "text": [
      "100%|██████████| 2852/2852 [04:13<00:00, 11.26it/s]\n",
      "100%|██████████| 100/100 [00:09<00:00, 10.44it/s]\n"
     ]
    },
    {
     "name": "stdout",
     "output_type": "stream",
     "text": [
      "TP-2019_7207-06-1 (263.1209 sec) Loss: 32.38\n"
     ]
    },
    {
     "name": "stderr",
     "output_type": "stream",
     "text": [
      "100%|██████████| 2316/2316 [03:31<00:00, 10.95it/s]\n",
      "100%|██████████| 100/100 [00:09<00:00, 10.11it/s]\n"
     ]
    },
    {
     "name": "stdout",
     "output_type": "stream",
     "text": [
      "TP-2019_6785-13-1 (221.6510 sec) Loss: 3.88\n"
     ]
    },
    {
     "name": "stderr",
     "output_type": "stream",
     "text": [
      "100%|██████████| 3768/3768 [05:56<00:00, 10.57it/s]\n",
      "100%|██████████| 100/100 [00:10<00:00,  9.95it/s]\n",
      "  0%|          | 0/1076 [00:00<?, ?it/s]"
     ]
    },
    {
     "name": "stdout",
     "output_type": "stream",
     "text": [
      "TP-2019_6786-08-0 (366.8641 sec) Loss: 0.34\n"
     ]
    },
    {
     "name": "stderr",
     "output_type": "stream",
     "text": [
      "100%|██████████| 1076/1076 [01:31<00:00, 11.77it/s]\n",
      "100%|██████████| 100/100 [00:08<00:00, 12.40it/s]\n"
     ]
    },
    {
     "name": "stdout",
     "output_type": "stream",
     "text": [
      "TP-2019_6785-01-0 (99.5939 sec) Loss: 0.95\n"
     ]
    },
    {
     "name": "stderr",
     "output_type": "stream",
     "text": [
      "100%|██████████| 3584/3584 [05:26<00:00, 10.99it/s]\n",
      "100%|██████████| 100/100 [00:10<00:00,  9.67it/s]\n"
     ]
    },
    {
     "name": "stdout",
     "output_type": "stream",
     "text": [
      "TP-2019_6786-09-0 (336.7472 sec) Loss: 0.40\n"
     ]
    },
    {
     "name": "stderr",
     "output_type": "stream",
     "text": [
      "100%|██████████| 4539/4539 [08:40<00:00,  8.72it/s]\n",
      "100%|██████████| 100/100 [00:12<00:00,  8.20it/s]\n",
      "  0%|          | 0/1176 [00:00<?, ?it/s]"
     ]
    },
    {
     "name": "stdout",
     "output_type": "stream",
     "text": [
      "TP-2019_6786-07-0 (533.2962 sec) Loss: 0.85\n"
     ]
    },
    {
     "name": "stderr",
     "output_type": "stream",
     "text": [
      "100%|██████████| 1176/1176 [01:43<00:00, 11.31it/s]\n",
      "100%|██████████| 100/100 [00:10<00:00,  9.60it/s]\n",
      "  0%|          | 0/2107 [00:00<?, ?it/s]"
     ]
    },
    {
     "name": "stdout",
     "output_type": "stream",
     "text": [
      "TP-2019_7207-11-0 (114.5120 sec) Loss: 0.54\n"
     ]
    },
    {
     "name": "stderr",
     "output_type": "stream",
     "text": [
      "100%|██████████| 2107/2107 [03:17<00:00, 10.69it/s]\n",
      "100%|██████████| 100/100 [00:09<00:00, 10.39it/s]\n",
      "  0%|          | 0/1870 [00:00<?, ?it/s]"
     ]
    },
    {
     "name": "stdout",
     "output_type": "stream",
     "text": [
      "TP-2019_7207-10-1 (206.9846 sec) Loss: 1.31\n"
     ]
    },
    {
     "name": "stderr",
     "output_type": "stream",
     "text": [
      "100%|██████████| 1870/1870 [02:27<00:00, 12.67it/s]\n",
      "100%|██████████| 100/100 [00:08<00:00, 11.69it/s]\n"
     ]
    },
    {
     "name": "stdout",
     "output_type": "stream",
     "text": [
      "TP-2019_7488-03-1 (156.2842 sec) Loss: 0.42\n"
     ]
    },
    {
     "name": "stderr",
     "output_type": "stream",
     "text": [
      "100%|██████████| 2322/2322 [03:21<00:00, 11.53it/s]\n",
      "100%|██████████| 100/100 [00:09<00:00, 10.89it/s]\n",
      "  0%|          | 0/2205 [00:00<?, ?it/s]"
     ]
    },
    {
     "name": "stdout",
     "output_type": "stream",
     "text": [
      "TP-2019_2941-05-0 (210.9257 sec) Loss: 0.35\n"
     ]
    },
    {
     "name": "stderr",
     "output_type": "stream",
     "text": [
      "100%|██████████| 2205/2205 [03:23<00:00, 10.83it/s]\n",
      "100%|██████████| 100/100 [00:10<00:00,  9.65it/s]\n"
     ]
    },
    {
     "name": "stdout",
     "output_type": "stream",
     "text": [
      "TP-2019_2623-06-0 (214.2351 sec) Loss: 0.45\n"
     ]
    },
    {
     "name": "stderr",
     "output_type": "stream",
     "text": [
      "100%|██████████| 2781/2781 [04:12<00:00, 10.99it/s]\n",
      "100%|██████████| 100/100 [00:12<00:00,  8.00it/s]\n"
     ]
    },
    {
     "name": "stdout",
     "output_type": "stream",
     "text": [
      "TP-2019_7333-03-1 (265.7073 sec) Loss: 0.77\n"
     ]
    },
    {
     "name": "stderr",
     "output_type": "stream",
     "text": [
      "100%|██████████| 1714/1714 [02:38<00:00, 10.80it/s]\n",
      "100%|██████████| 100/100 [00:09<00:00, 10.07it/s]\n",
      "  0%|          | 0/2199 [00:00<?, ?it/s]"
     ]
    },
    {
     "name": "stdout",
     "output_type": "stream",
     "text": [
      "TP-2019_6785-14-1 (168.8890 sec) Loss: 0.75\n"
     ]
    },
    {
     "name": "stderr",
     "output_type": "stream",
     "text": [
      "100%|██████████| 2199/2199 [03:12<00:00, 11.45it/s]\n",
      "100%|██████████| 100/100 [00:08<00:00, 11.85it/s]\n",
      "  0%|          | 0/1227 [00:00<?, ?it/s]"
     ]
    },
    {
     "name": "stdout",
     "output_type": "stream",
     "text": [
      "TP-2019_7333-01-1 (200.7013 sec) Loss: 0.55\n"
     ]
    },
    {
     "name": "stderr",
     "output_type": "stream",
     "text": [
      "100%|██████████| 1227/1227 [01:38<00:00, 12.47it/s]\n",
      "100%|██████████| 100/100 [00:08<00:00, 12.08it/s]\n",
      "  0%|          | 0/1546 [00:00<?, ?it/s]"
     ]
    },
    {
     "name": "stdout",
     "output_type": "stream",
     "text": [
      "TP-2019_6786-01-1 (106.7852 sec) Loss: 0.77\n"
     ]
    },
    {
     "name": "stderr",
     "output_type": "stream",
     "text": [
      "100%|██████████| 1546/1546 [02:10<00:00, 11.81it/s]\n",
      "100%|██████████| 100/100 [00:08<00:00, 11.42it/s]\n",
      "  0%|          | 0/1179 [00:00<?, ?it/s]"
     ]
    },
    {
     "name": "stdout",
     "output_type": "stream",
     "text": [
      "TP-2019_6785-09-0 (139.8358 sec) Loss: 1.06\n"
     ]
    },
    {
     "name": "stderr",
     "output_type": "stream",
     "text": [
      "100%|██████████| 1179/1179 [01:35<00:00, 12.30it/s]\n",
      "100%|██████████| 100/100 [00:10<00:00,  9.32it/s]\n"
     ]
    },
    {
     "name": "stdout",
     "output_type": "stream",
     "text": [
      "TP-2019_7207-08-0 (106.7181 sec) Loss: 1.54\n"
     ]
    },
    {
     "name": "stderr",
     "output_type": "stream",
     "text": [
      "100%|██████████| 2694/2694 [03:49<00:00, 11.73it/s]\n",
      "100%|██████████| 100/100 [00:08<00:00, 11.14it/s]\n"
     ]
    },
    {
     "name": "stdout",
     "output_type": "stream",
     "text": [
      "TP-2019_7488-04-1 (239.0238 sec) Loss: 0.51\n"
     ]
    },
    {
     "name": "stderr",
     "output_type": "stream",
     "text": [
      "100%|██████████| 3026/3026 [04:26<00:00, 11.36it/s]\n",
      "100%|██████████| 100/100 [00:08<00:00, 11.31it/s]\n"
     ]
    },
    {
     "name": "stdout",
     "output_type": "stream",
     "text": [
      "TP-2019_7207-04-1 (275.6143 sec) Loss: 0.36\n"
     ]
    },
    {
     "name": "stderr",
     "output_type": "stream",
     "text": [
      "100%|██████████| 2670/2670 [03:54<00:00, 11.40it/s]\n",
      "100%|██████████| 100/100 [00:08<00:00, 11.22it/s]\n",
      "  0%|          | 0/954 [00:00<?, ?it/s]"
     ]
    },
    {
     "name": "stdout",
     "output_type": "stream",
     "text": [
      "TP-2019_7207-13-1 (243.3243 sec) Loss: 1.41\n"
     ]
    },
    {
     "name": "stderr",
     "output_type": "stream",
     "text": [
      "100%|██████████| 954/954 [01:15<00:00, 12.60it/s]\n",
      "100%|██████████| 100/100 [00:08<00:00, 12.33it/s]\n",
      "  0%|          | 0/1877 [00:00<?, ?it/s]"
     ]
    },
    {
     "name": "stdout",
     "output_type": "stream",
     "text": [
      "TP-2019_7207-02-0 (83.9550 sec) Loss: 1.40\n"
     ]
    },
    {
     "name": "stderr",
     "output_type": "stream",
     "text": [
      "100%|██████████| 1877/1877 [02:39<00:00, 11.76it/s]\n",
      "100%|██████████| 100/100 [00:08<00:00, 11.42it/s]\n"
     ]
    },
    {
     "name": "stdout",
     "output_type": "stream",
     "text": [
      "TP-2019_7362-08-0 (168.5639 sec) Loss: 1.42\n"
     ]
    },
    {
     "name": "stderr",
     "output_type": "stream",
     "text": [
      "100%|██████████| 1824/1824 [02:40<00:00, 11.38it/s]\n",
      "100%|██████████| 100/100 [00:10<00:00,  9.51it/s]\n"
     ]
    },
    {
     "name": "stdout",
     "output_type": "stream",
     "text": [
      "TP-2019_6887-04-0 (170.9796 sec) Loss: 1.31\n"
     ]
    },
    {
     "name": "stderr",
     "output_type": "stream",
     "text": [
      "100%|██████████| 2634/2634 [04:23<00:00, 10.01it/s]\n",
      "100%|██████████| 100/100 [00:08<00:00, 11.44it/s]\n"
     ]
    },
    {
     "name": "stdout",
     "output_type": "stream",
     "text": [
      "TP-2019_7333-04-1 (272.1535 sec) Loss: 0.36\n"
     ]
    },
    {
     "name": "stderr",
     "output_type": "stream",
     "text": [
      "100%|██████████| 1935/1935 [02:38<00:00, 12.21it/s]\n",
      "100%|██████████| 100/100 [00:09<00:00, 10.71it/s]\n",
      "  0%|          | 0/1362 [00:00<?, ?it/s]"
     ]
    },
    {
     "name": "stdout",
     "output_type": "stream",
     "text": [
      "TP-2019_7333-07-0 (168.0300 sec) Loss: 0.78\n"
     ]
    },
    {
     "name": "stderr",
     "output_type": "stream",
     "text": [
      "100%|██████████| 1362/1362 [02:06<00:00, 10.77it/s]\n",
      "100%|██████████| 100/100 [00:09<00:00, 10.20it/s]\n"
     ]
    },
    {
     "name": "stdout",
     "output_type": "stream",
     "text": [
      "TP-2019_6887-02-0 (136.4520 sec) Loss: 1.06\n"
     ]
    },
    {
     "name": "stderr",
     "output_type": "stream",
     "text": [
      "100%|██████████| 3419/3419 [05:49<00:00,  9.79it/s]\n",
      "100%|██████████| 100/100 [00:10<00:00,  9.14it/s]\n"
     ]
    },
    {
     "name": "stdout",
     "output_type": "stream",
     "text": [
      "TP-2019_2623-09-0 (360.6613 sec) Loss: 1.73\n"
     ]
    },
    {
     "name": "stderr",
     "output_type": "stream",
     "text": [
      "100%|██████████| 1959/1959 [03:03<00:00, 10.66it/s]\n",
      "100%|██████████| 100/100 [00:10<00:00,  9.65it/s]\n"
     ]
    },
    {
     "name": "stdout",
     "output_type": "stream",
     "text": [
      "TP-2019_7362-06-1 (194.4647 sec) Loss: 0.71\n"
     ]
    },
    {
     "name": "stderr",
     "output_type": "stream",
     "text": [
      "100%|██████████| 3178/3178 [04:56<00:00, 10.73it/s]\n",
      "100%|██████████| 100/100 [00:09<00:00, 10.36it/s]\n"
     ]
    },
    {
     "name": "stdout",
     "output_type": "stream",
     "text": [
      "TP-2019_2623-12-1 (306.0107 sec) Loss: 0.68\n"
     ]
    },
    {
     "name": "stderr",
     "output_type": "stream",
     "text": [
      "100%|██████████| 1505/1505 [02:00<00:00, 12.47it/s]\n",
      "100%|██████████| 100/100 [00:08<00:00, 11.68it/s]\n"
     ]
    },
    {
     "name": "stdout",
     "output_type": "stream",
     "text": [
      "TP-2019_6887-06-0 (129.4614 sec) Loss: 0.90\n"
     ]
    },
    {
     "name": "stderr",
     "output_type": "stream",
     "text": [
      "100%|██████████| 1838/1838 [02:34<00:00, 11.93it/s]\n",
      "100%|██████████| 100/100 [00:08<00:00, 12.32it/s]\n"
     ]
    },
    {
     "name": "stdout",
     "output_type": "stream",
     "text": [
      "TP-2019_6887-08-0 (162.4408 sec) Loss: 0.56\n"
     ]
    },
    {
     "name": "stderr",
     "output_type": "stream",
     "text": [
      "100%|██████████| 3181/3181 [04:51<00:00, 10.93it/s]\n",
      "100%|██████████| 100/100 [00:10<00:00,  9.25it/s]\n",
      "  0%|          | 0/1567 [00:00<?, ?it/s]"
     ]
    },
    {
     "name": "stdout",
     "output_type": "stream",
     "text": [
      "TP-2019_7207-07-1 (302.1279 sec) Loss: 1.03\n"
     ]
    },
    {
     "name": "stderr",
     "output_type": "stream",
     "text": [
      "100%|██████████| 1567/1567 [02:31<00:00, 10.36it/s]\n",
      "100%|██████████| 100/100 [00:10<00:00,  9.47it/s]\n"
     ]
    },
    {
     "name": "stdout",
     "output_type": "stream",
     "text": [
      "TP-2019_7333-08-0 (161.9572 sec) Loss: 0.84\n"
     ]
    },
    {
     "name": "stderr",
     "output_type": "stream",
     "text": [
      "100%|██████████| 2101/2101 [03:07<00:00, 11.22it/s]\n",
      "100%|██████████| 100/100 [00:08<00:00, 11.55it/s]\n"
     ]
    },
    {
     "name": "stdout",
     "output_type": "stream",
     "text": [
      "TP-2019_6887-03-0 (196.1786 sec) Loss: 0.65\n"
     ]
    },
    {
     "name": "stderr",
     "output_type": "stream",
     "text": [
      "100%|██████████| 2800/2800 [04:14<00:00, 11.02it/s]\n",
      "100%|██████████| 100/100 [00:09<00:00, 10.23it/s]\n"
     ]
    },
    {
     "name": "stdout",
     "output_type": "stream",
     "text": [
      "TP-2019_7207-12-1 (264.2006 sec) Loss: 0.22\n"
     ]
    },
    {
     "name": "stderr",
     "output_type": "stream",
     "text": [
      "100%|██████████| 3763/3763 [06:03<00:00, 10.36it/s]\n",
      "100%|██████████| 100/100 [00:10<00:00,  9.75it/s]\n"
     ]
    },
    {
     "name": "stdout",
     "output_type": "stream",
     "text": [
      "TP-2019_6786-10-0 (373.6433 sec) Loss: 0.53\n"
     ]
    },
    {
     "name": "stderr",
     "output_type": "stream",
     "text": [
      "100%|██████████| 1873/1873 [02:42<00:00, 11.54it/s]\n",
      "100%|██████████| 100/100 [00:09<00:00, 10.75it/s]\n"
     ]
    },
    {
     "name": "stdout",
     "output_type": "stream",
     "text": [
      "TP-2019_7333-10-0 (171.8886 sec) Loss: 0.89\n"
     ]
    },
    {
     "name": "stderr",
     "output_type": "stream",
     "text": [
      "100%|██████████| 3128/3128 [05:57<00:00,  8.74it/s]\n",
      "100%|██████████| 100/100 [00:11<00:00,  8.77it/s]\n",
      "  0%|          | 0/2307 [00:00<?, ?it/s]"
     ]
    },
    {
     "name": "stdout",
     "output_type": "stream",
     "text": [
      "TP-2019_2824-07-0 (369.5599 sec) Loss: 0.67\n"
     ]
    },
    {
     "name": "stderr",
     "output_type": "stream",
     "text": [
      "100%|██████████| 2307/2307 [03:29<00:00, 10.99it/s]\n",
      "100%|██████████| 100/100 [00:07<00:00, 12.61it/s]\n"
     ]
    },
    {
     "name": "stdout",
     "output_type": "stream",
     "text": [
      "TP-2019_6786-13-0 (218.0147 sec) Loss: 0.50\n"
     ]
    },
    {
     "name": "stderr",
     "output_type": "stream",
     "text": [
      "100%|██████████| 3302/3302 [05:18<00:00, 10.38it/s]\n",
      "100%|██████████| 100/100 [00:08<00:00, 11.47it/s]\n",
      "  0%|          | 0/2265 [00:00<?, ?it/s]"
     ]
    },
    {
     "name": "stdout",
     "output_type": "stream",
     "text": [
      "TP-2019_7488-02-1 (327.1475 sec) Loss: 0.32\n"
     ]
    },
    {
     "name": "stderr",
     "output_type": "stream",
     "text": [
      "100%|██████████| 2265/2265 [03:15<00:00, 11.58it/s]\n",
      "100%|██████████| 100/100 [00:08<00:00, 11.72it/s]\n",
      "  0%|          | 0/1434 [00:00<?, ?it/s]"
     ]
    },
    {
     "name": "stdout",
     "output_type": "stream",
     "text": [
      "TP-2019_6887-07-1 (204.2756 sec) Loss: 1.83\n"
     ]
    },
    {
     "name": "stderr",
     "output_type": "stream",
     "text": [
      "100%|██████████| 1434/1434 [02:14<00:00, 10.70it/s]\n",
      "100%|██████████| 100/100 [00:09<00:00, 11.07it/s]\n",
      "  0%|          | 0/984 [00:00<?, ?it/s]"
     ]
    },
    {
     "name": "stdout",
     "output_type": "stream",
     "text": [
      "TP-2019_2941-01-1 (143.2508 sec) Loss: 0.38\n"
     ]
    },
    {
     "name": "stderr",
     "output_type": "stream",
     "text": [
      "100%|██████████| 984/984 [01:33<00:00, 10.56it/s]\n",
      "100%|██████████| 100/100 [00:08<00:00, 11.66it/s]\n"
     ]
    },
    {
     "name": "stdout",
     "output_type": "stream",
     "text": [
      "TP-2019_6887-09-0 (101.8862 sec) Loss: 1.27\n"
     ]
    },
    {
     "name": "stderr",
     "output_type": "stream",
     "text": [
      "100%|██████████| 2198/2198 [03:12<00:00, 11.40it/s]\n",
      "100%|██████████| 100/100 [00:10<00:00,  9.97it/s]\n",
      "  0%|          | 0/1266 [00:00<?, ?it/s]"
     ]
    },
    {
     "name": "stdout",
     "output_type": "stream",
     "text": [
      "TP-2019_6887-10-0 (203.0226 sec) Loss: 0.62\n"
     ]
    },
    {
     "name": "stderr",
     "output_type": "stream",
     "text": [
      "100%|██████████| 1266/1266 [01:45<00:00, 12.00it/s]\n",
      "100%|██████████| 100/100 [00:08<00:00, 12.14it/s]\n"
     ]
    },
    {
     "name": "stdout",
     "output_type": "stream",
     "text": [
      "TP-2019_6887-01-0 (113.8982 sec) Loss: 0.94\n"
     ]
    },
    {
     "name": "stderr",
     "output_type": "stream",
     "text": [
      "100%|██████████| 2963/2963 [04:57<00:00,  9.97it/s]\n",
      "100%|██████████| 100/100 [00:09<00:00, 10.00it/s]\n"
     ]
    },
    {
     "name": "stdout",
     "output_type": "stream",
     "text": [
      "TP-2019_7207-14-1 (307.5084 sec) Loss: 1.38\n"
     ]
    },
    {
     "name": "stderr",
     "output_type": "stream",
     "text": [
      "100%|██████████| 1702/1702 [02:19<00:00, 12.17it/s]\n",
      "100%|██████████| 100/100 [00:09<00:00, 11.02it/s]\n",
      "  0%|          | 0/1482 [00:00<?, ?it/s]"
     ]
    },
    {
     "name": "stdout",
     "output_type": "stream",
     "text": [
      "TP-2019_7333-02-1 (149.2048 sec) Loss: 0.44\n"
     ]
    },
    {
     "name": "stderr",
     "output_type": "stream",
     "text": [
      "100%|██████████| 1482/1482 [02:00<00:00, 12.30it/s]\n",
      "100%|██████████| 100/100 [00:07<00:00, 12.53it/s]\n",
      "  0%|          | 0/2212 [00:00<?, ?it/s]"
     ]
    },
    {
     "name": "stdout",
     "output_type": "stream",
     "text": [
      "TP-2019_2824-01-1 (128.5756 sec) Loss: 1.18\n"
     ]
    },
    {
     "name": "stderr",
     "output_type": "stream",
     "text": [
      "100%|██████████| 2212/2212 [03:13<00:00, 11.42it/s]\n",
      "100%|██████████| 100/100 [00:10<00:00,  9.56it/s]\n"
     ]
    },
    {
     "name": "stdout",
     "output_type": "stream",
     "text": [
      "TP-2019_6785-03-0 (204.4465 sec) Loss: 0.62\n"
     ]
    },
    {
     "name": "stderr",
     "output_type": "stream",
     "text": [
      "100%|██████████| 2548/2548 [04:07<00:00, 10.30it/s]\n",
      "100%|██████████| 100/100 [00:09<00:00, 10.35it/s]\n",
      "  0%|          | 0/878 [00:00<?, ?it/s]"
     ]
    },
    {
     "name": "stdout",
     "output_type": "stream",
     "text": [
      "TP-2019_2824-13-0 (257.3498 sec) Loss: 0.79\n"
     ]
    },
    {
     "name": "stderr",
     "output_type": "stream",
     "text": [
      "100%|██████████| 878/878 [01:17<00:00, 11.35it/s]\n",
      "100%|██████████| 100/100 [00:08<00:00, 11.78it/s]\n",
      "  0%|          | 0/2014 [00:00<?, ?it/s]"
     ]
    },
    {
     "name": "stdout",
     "output_type": "stream",
     "text": [
      "TP-2019_6785-11-0 (85.9659 sec) Loss: 1.07\n"
     ]
    },
    {
     "name": "stderr",
     "output_type": "stream",
     "text": [
      "100%|██████████| 2014/2014 [03:08<00:00, 10.68it/s]\n",
      "100%|██████████| 100/100 [00:11<00:00,  8.72it/s]\n"
     ]
    },
    {
     "name": "stdout",
     "output_type": "stream",
     "text": [
      "TP-2019_7362-03-0 (200.2371 sec) Loss: 1.37\n"
     ]
    },
    {
     "name": "stderr",
     "output_type": "stream",
     "text": [
      "100%|██████████| 1493/1493 [02:23<00:00, 10.43it/s]\n",
      "100%|██████████| 100/100 [00:08<00:00, 11.86it/s]\n",
      "  0%|          | 0/2363 [00:00<?, ?it/s]"
     ]
    },
    {
     "name": "stdout",
     "output_type": "stream",
     "text": [
      "TP-2019_7333-09-0 (151.8564 sec) Loss: 0.69\n"
     ]
    },
    {
     "name": "stderr",
     "output_type": "stream",
     "text": [
      "  4%|▍         | 95/2363 [00:09<03:09, 11.98it/s]"
     ]
    }
   ],
   "source": [
    "def forward_pass(gen):\n",
    "    # Initialize aggregator\n",
    "    results = tf.zeros(shape=(0,1))\n",
    "    for batch in tqdm(gen):\n",
    "        results = tf.concat([results, model(batch)], axis=0)\n",
    "        \n",
    "    _, idx = tf.math.top_k(tf.reshape(results,[-1]), k=TOP_S, sorted=False)\n",
    "    return idx\n",
    "\n",
    "@tf.function\n",
    "def train_step(x, y, w):\n",
    "    with tf.GradientTape() as tape:\n",
    "        y_pred = model(x, training=True)\n",
    "        loss_value = loss_fn(y, y_pred, sample_weight=w)\n",
    "    grads = tape.gradient(loss_value, model.trainable_weights)\n",
    "    return grads, loss_value\n",
    "        \n",
    "    \n",
    "for epoch in EPOCHS:\n",
    "    print(f'Epoch: {epoch}', flush=True)\n",
    "    \n",
    "    # Process all slides\n",
    "    for slide_idx in range(len(test_gen.sampler.datasource)):\n",
    "        grads = None\n",
    "        start_time = time.time()\n",
    "\n",
    "        # Prepare slide information\n",
    "        slide_name = test_gen.prepare_slide(slide_idx)\n",
    "        slide_label = int(slide_name[-1])\n",
    "        \n",
    "        # Get top predictions\n",
    "        test_gen.batch_size = BATCH_SIZE\n",
    "        top_indices = forward_pass(test_gen)\n",
    "        \n",
    "        test_gen.batch_size = 1\n",
    "        for batch_id in tqdm(top_indices):\n",
    "            # Prepare inputs\n",
    "            x, _ = test_gen[batch_id]\n",
    "            if slide_label == 0:\n",
    "                y  = tf.zeros((x.shape[0], 1))\n",
    "                w = tf.ones((x.shape[0], 1)) * 0.61\n",
    "            else:\n",
    "                y  = tf.ones((x.shape[0], 1))\n",
    "                w = tf.ones((x.shape[0], 1)) * 2.87\n",
    "            \n",
    "            # Accumulate gradients\n",
    "            if grads is None:\n",
    "                grads, loss_val = train_step(x, y, w)\n",
    "            else:\n",
    "                new_grads, loss_val = train_step(x, y, w)\n",
    "                grads = [g1+g2 for g1, g2 in zip(grads, new_grads)]\n",
    "                \n",
    "        # Performing update\n",
    "        grads = [grad / (TOP_S*len(test_gen.sampler.datasource)) for grad in grads]\n",
    "        optimizer.apply_gradients(zip(grads, model.trainable_weights))\n",
    "            \n",
    "        end_time = time.time()\n",
    "        print(f'{slide_name} ({end_time - start_time:.4f} sec) Loss: {loss_val:.2f}')"
   ]
  },
  {
   "cell_type": "code",
   "execution_count": null,
   "metadata": {
    "ExecuteTime": {
     "end_time": "2020-10-28T14:30:00.903476Z",
     "start_time": "2020-10-28T14:28:35.528Z"
    }
   },
   "outputs": [],
   "source": []
  }
 ],
 "metadata": {
  "kernelspec": {
   "display_name": "crc_ml_tf2",
   "language": "python",
   "name": "crc_ml_tf2"
  },
  "language_info": {
   "codemirror_mode": {
    "name": "ipython",
    "version": 3
   },
   "file_extension": ".py",
   "mimetype": "text/x-python",
   "name": "python",
   "nbconvert_exporter": "python",
   "pygments_lexer": "ipython3",
   "version": "3.7.3"
  },
  "toc": {
   "base_numbering": 1,
   "nav_menu": {},
   "number_sections": true,
   "sideBar": true,
   "skip_h1_title": false,
   "title_cell": "Table of Contents",
   "title_sidebar": "Contents",
   "toc_cell": false,
   "toc_position": {},
   "toc_section_display": true,
   "toc_window_display": false
  },
  "varInspector": {
   "cols": {
    "lenName": 16,
    "lenType": 16,
    "lenVar": 40
   },
   "kernels_config": {
    "python": {
     "delete_cmd_postfix": "",
     "delete_cmd_prefix": "del ",
     "library": "var_list.py",
     "varRefreshCmd": "print(var_dic_list())"
    },
    "r": {
     "delete_cmd_postfix": ") ",
     "delete_cmd_prefix": "rm(",
     "library": "var_list.r",
     "varRefreshCmd": "cat(var_dic_list()) "
    }
   },
   "types_to_exclude": [
    "module",
    "function",
    "builtin_function_or_method",
    "instance",
    "_Feature"
   ],
   "window_display": false
  }
 },
 "nbformat": 4,
 "nbformat_minor": 4
}
