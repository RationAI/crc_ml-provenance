{
 "cells": [
  {
   "cell_type": "code",
   "execution_count": 1,
   "metadata": {
    "ExecuteTime": {
     "end_time": "2020-11-26T11:53:35.087526Z",
     "start_time": "2020-11-26T11:53:07.178218Z"
    },
    "code_folding": [
     0
    ]
   },
   "outputs": [],
   "source": [
    "# Imports\n",
    "\n",
    "# Be able to load python scripts\n",
    "import sys\n",
    "from pathlib import Path\n",
    "module_path = Path('.').resolve().parent\n",
    "if str(module_path) not in sys.path:\n",
    "    sys.path.append(str(module_path))\n",
    "\n",
    "# Drawing and plotting\n",
    "import matplotlib.pyplot as plt\n",
    "\n",
    "# Draw the merged result\n",
    "from PIL import Image, ImageDraw\n",
    "Image.MAX_IMAGE_PIXELS = None\n",
    "\n",
    "# Load results csv\n",
    "import pandas as pd\n",
    "import numpy as np\n",
    "\n",
    "# Load summary.json\n",
    "import json\n",
    "\n",
    "# Load to determine max-size\n",
    "import openslide as os\n",
    "\n",
    "# NMS Prerequisites\n",
    "import xml.etree.ElementTree as ET\n",
    "from shapely.geometry.point import Point\n",
    "from shapely.geometry.polygon import Polygon\n",
    "\n",
    "# Import paths from config file\n",
    "from src.config import SLIDE_DIR, RESULT_DIR, ANNOT_DIR"
   ]
  },
  {
   "cell_type": "code",
   "execution_count": 2,
   "metadata": {
    "ExecuteTime": {
     "end_time": "2020-11-26T11:53:35.102230Z",
     "start_time": "2020-11-26T11:53:35.094198Z"
    }
   },
   "outputs": [],
   "source": [
    "# Configurables\n",
    "#EXPERIMENT_ID = 'TEST-TF2-VGG16-c6e5-4eb1-bf66-88b03210d7a3'\n",
    "#EXPERIMENT_ID = 'BIG-TILE-0253-43ac-acbc-bbf75ff6a58f'\n",
    "EXPERIMENT_ID = 'VGG16-TF2-DATASET-e95b-4e8f-aeea-b87904166a69'     # the 99.8% model\n",
    "#EXPERIMENT_ID = 'VGG16-TF2-MINBG-FULLTRAIN-84ce-49b2-9c80-e888431382cf'\n",
    "TEST_SLIDE_NAME = 'TP-2019_6785-13-1'\n",
    "MODE = 'a'\n",
    "LEVEL = 0\n",
    "CENTER_SIZE = int(256 // (2**(LEVEL-1)))"
   ]
  },
  {
   "cell_type": "code",
   "execution_count": 3,
   "metadata": {
    "ExecuteTime": {
     "end_time": "2020-11-26T11:53:35.159606Z",
     "start_time": "2020-11-26T11:53:35.115047Z"
    },
    "code_folding": [
     0,
     15,
     22
    ]
   },
   "outputs": [],
   "source": [
    "def open_summary(experiment_id, verbose=0):\n",
    "    # Load the experiment summary log\n",
    "    with (RESULT_DIR / experiment_id / 'summary.json').open('r') as f_summary:\n",
    "        d_summary = json.load(f_summary)\n",
    "\n",
    "    # Retrieve path to result file, and determine offset\n",
    "    s_level = d_summary['params']['data']['meta']['level']\n",
    "    tile_size = d_summary['params']['data']['meta']['tile_size'] // (2**(LEVEL - s_level))\n",
    "    offset = int((tile_size - CENTER_SIZE) // 2)\n",
    "    if verbose > 0:\n",
    "        print(f'Tile size: {tile_size}')\n",
    "        print(f'Center size: {CENTER_SIZE}')\n",
    "        print(f'Offset @L{LEVEL}: {offset}')\n",
    "    return d_summary, offset\n",
    "        \n",
    "def get_heatmaps_for_experiment(experiment_id, verbose=0):\n",
    "    d_summary, offset = open_summary(experiment_id, verbose)\n",
    "    \n",
    "    for slide_name in [slide_name for slide_name in d_summary['test']['summary']]:\n",
    "        print(f'== SLIDE: {slide_name} ==')\n",
    "        yield slide_name, offset, get_heatmap_for_slide(d_summary, slide_name, offset, verbose)\n",
    "\n",
    "def get_heatmap_for_slide(d_summary, slide_name, offset, verbose=0):\n",
    "    # Load the result pandas file\n",
    "    fp_result = d_summary['test']['summary'][slide_name]['results']\n",
    "    s_level = d_summary['params']['data']['meta']['level']\n",
    "    df_result = pd.read_csv(fp_result, sep=';', index_col=0)\n",
    "\n",
    "    # Determine the size of the slide\n",
    "    os_slide = os.open_slide(str((SLIDE_DIR / slide_name).with_suffix('.mrxs').resolve()))\n",
    "    dimensions = os_slide.level_dimensions[LEVEL]\n",
    "    scale_factor = 2**LEVEL\n",
    "    os_slide.close()\n",
    "\n",
    "    # Prepare the canvas\n",
    "    if MODE == 'a':\n",
    "        result_intensity = np.zeros(tuple(reversed(dimensions)), dtype='float32')\n",
    "    elif MODE == 'g':\n",
    "        result_intensity = np.ones(tuple(reversed(dimensions)), dtype='float32')    \n",
    "    result_counts = np.zeros(tuple(reversed(dimensions)), dtype='uint8')\n",
    "    if verbose > 0:\n",
    "        print('Intensity matrix size: {}'.format(result_intensity.shape))\n",
    "        print('Count matrix size: {}'.format(result_counts.shape))\n",
    "\n",
    "    # Draw the heatmap\n",
    "    for index, row in df_result.iterrows(): \n",
    "        width  = slice((row.coord_x // scale_factor) + offset, (row.coord_x // scale_factor) + offset + CENTER_SIZE)\n",
    "        height = slice((row.coord_y // scale_factor) + offset, (row.coord_y // scale_factor) + offset + CENTER_SIZE)\n",
    "        if MODE == 'a':\n",
    "            result_intensity[height, width] += row.predict\n",
    "        elif MODE == 'g':\n",
    "            result_intensity[height, width] *= row.predict\n",
    "        result_counts[height, width] += 1\n",
    "\n",
    "    if MODE == 'a':\n",
    "        if verbose > 0:\n",
    "            print('Arithmetic')\n",
    "        np_merged_result = np.divide(result_intensity, result_counts, out=result_intensity, where=(result_counts > 0))\n",
    "    elif MODE == 'g':\n",
    "        if verbose > 0:\n",
    "            print('Geometric')\n",
    "        np_merged_result = np.power(result_intensity, np.divide(1, result_counts, out=result_intensity, where=result_counts > 0), where=result_counts > 0)\n",
    "\n",
    "    del result_intensity\n",
    "    del result_counts\n",
    "    \n",
    "    return np_merged_result, df_result"
   ]
  },
  {
   "cell_type": "code",
   "execution_count": 33,
   "metadata": {
    "ExecuteTime": {
     "end_time": "2020-11-07T04:09:15.606265Z",
     "start_time": "2020-11-06T19:08:20.136448Z"
    },
    "scrolled": false
   },
   "outputs": [
    {
     "name": "stdout",
     "output_type": "stream",
     "text": [
      "== SLIDE: TP-2019_6785-06-0 ==\n",
      "== SLIDE: TP-2019_6786-06-0 ==\n",
      "== SLIDE: TP-2019_7207-06-1 ==\n",
      "== SLIDE: TP-2019_6785-13-1 ==\n",
      "== SLIDE: TP-2019_6786-08-0 ==\n",
      "== SLIDE: TP-2019_6785-01-0 ==\n",
      "== SLIDE: TP-2019_6786-09-0 ==\n",
      "== SLIDE: TP-2019_6786-07-0 ==\n",
      "== SLIDE: TP-2019_7207-11-0 ==\n",
      "== SLIDE: TP-2019_7207-10-1 ==\n",
      "== SLIDE: TP-2019_7488-03-1 ==\n",
      "== SLIDE: TP-2019_2941-05-0 ==\n",
      "== SLIDE: TP-2019_2623-06-0 ==\n",
      "== SLIDE: TP-2019_7333-03-1 ==\n",
      "== SLIDE: TP-2019_6785-14-1 ==\n",
      "== SLIDE: TP-2019_7333-01-1 ==\n",
      "== SLIDE: TP-2019_6786-01-1 ==\n",
      "== SLIDE: TP-2019_6785-09-0 ==\n",
      "== SLIDE: TP-2019_7207-08-0 ==\n",
      "== SLIDE: TP-2019_7488-04-1 ==\n",
      "== SLIDE: TP-2019_7207-04-1 ==\n",
      "== SLIDE: TP-2019_7207-13-1 ==\n",
      "== SLIDE: TP-2019_7207-02-0 ==\n",
      "== SLIDE: TP-2019_7362-08-0 ==\n",
      "== SLIDE: TP-2019_6887-04-0 ==\n",
      "== SLIDE: TP-2019_7333-04-1 ==\n",
      "== SLIDE: TP-2019_7333-07-0 ==\n",
      "== SLIDE: TP-2019_6887-02-0 ==\n",
      "== SLIDE: TP-2019_2623-09-0 ==\n",
      "== SLIDE: TP-2019_7362-06-1 ==\n",
      "== SLIDE: TP-2019_2623-12-1 ==\n",
      "== SLIDE: TP-2019_6887-06-0 ==\n",
      "== SLIDE: TP-2019_6887-08-0 ==\n",
      "== SLIDE: TP-2019_7207-07-1 ==\n",
      "== SLIDE: TP-2019_7333-08-0 ==\n",
      "== SLIDE: TP-2019_6887-03-0 ==\n",
      "== SLIDE: TP-2019_7207-12-1 ==\n",
      "== SLIDE: TP-2019_6786-10-0 ==\n",
      "== SLIDE: TP-2019_7333-10-0 ==\n",
      "== SLIDE: TP-2019_2824-07-0 ==\n",
      "== SLIDE: TP-2019_6786-13-0 ==\n",
      "== SLIDE: TP-2019_7488-02-1 ==\n",
      "== SLIDE: TP-2019_6887-07-1 ==\n",
      "== SLIDE: TP-2019_2941-01-1 ==\n",
      "== SLIDE: TP-2019_6887-09-0 ==\n",
      "== SLIDE: TP-2019_6887-10-0 ==\n",
      "== SLIDE: TP-2019_6887-01-0 ==\n",
      "== SLIDE: TP-2019_7207-14-1 ==\n",
      "== SLIDE: TP-2019_7333-02-1 ==\n",
      "== SLIDE: TP-2019_2824-01-1 ==\n",
      "== SLIDE: TP-2019_6785-03-0 ==\n",
      "== SLIDE: TP-2019_2824-13-0 ==\n",
      "== SLIDE: TP-2019_6785-11-0 ==\n",
      "== SLIDE: TP-2019_7362-03-0 ==\n",
      "== SLIDE: TP-2019_7333-09-0 ==\n",
      "== SLIDE: TP-2019_6887-11-0 ==\n",
      "== SLIDE: TP-2019_7362-05-1 ==\n",
      "== SLIDE: TP-2019_7333-05-1 ==\n",
      "== SLIDE: TP-2019_6786-11-0 ==\n",
      "== SLIDE: TP-2019_2623-03-0 ==\n",
      "== SLIDE: TP-2019_7333-06-1 ==\n",
      "== SLIDE: TP-2019_7362-04-1 ==\n",
      "== SLIDE: TP-2019_2941-12-0 ==\n",
      "== SLIDE: TP-2019_7488-01-1 ==\n",
      "== SLIDE: TP-2019_7207-03-1 ==\n",
      "== SLIDE: TP-2019_6786-12-0 ==\n",
      "== SLIDE: TP-2019_6785-07-0 ==\n",
      "== SLIDE: TP-2019_6887-05-0 ==\n",
      "== SLIDE: TP-2019_6785-02-0 ==\n",
      "== SLIDE: TP-2019_7488-05-1 ==\n",
      "== SLIDE: TP-2019_6785-08-0 ==\n",
      "== SLIDE: TP-2019_7207-01-0 ==\n",
      "== SLIDE: TP-2019_6785-05-0 ==\n",
      "== SLIDE: TP-2019_6786-04-0 ==\n",
      "== SLIDE: TP-2019_7362-01-1 ==\n",
      "== SLIDE: TP-2019_7362-02-1 ==\n",
      "== SLIDE: TP-2019_7362-07-1 ==\n",
      "== SLIDE: TP-2019_6786-03-1 ==\n",
      "== SLIDE: TP-2019_6786-05-0 ==\n",
      "== SLIDE: TP-2019_6786-02-1 ==\n",
      "== SLIDE: TP-2019_6785-04-0 ==\n",
      "== SLIDE: TP-2019_7207-09-1 ==\n",
      "== SLIDE: TP-2019_6785-10-0 ==\n",
      "== SLIDE: TP-2019_6887-12-0 ==\n",
      "== SLIDE: TP-2019_6785-12-1 ==\n",
      "== SLIDE: TP-2019_6786-14-0 ==\n",
      "== SLIDE: TP-2019_7207-05-1 ==\n"
     ]
    }
   ],
   "source": [
    "FIG_DIR = RESULT_DIR / EXPERIMENT_ID / 'test' / 'figs'\n",
    "for slide_name, offset, (heatmap_np, df_result) in get_heatmaps_for_experiment(EXPERIMENT_ID):\n",
    "    output_fn = str((FIG_DIR / (slide_name + '-vis')).with_suffix('.png'))\n",
    "    Image.fromarray((heatmap_np * 255).astype('uint8')).save(output_fn)"
   ]
  },
  {
   "cell_type": "markdown",
   "metadata": {
    "ExecuteTime": {
     "end_time": "2020-10-11T11:04:44.906140Z",
     "start_time": "2020-10-11T11:04:44.456892Z"
    }
   },
   "source": [
    "# NON-MAXIMUM SUPPRESSION"
   ]
  },
  {
   "cell_type": "code",
   "execution_count": 4,
   "metadata": {
    "ExecuteTime": {
     "end_time": "2020-11-26T11:56:12.116651Z",
     "start_time": "2020-11-26T11:56:12.098915Z"
    },
    "code_folding": [
     0
    ]
   },
   "outputs": [],
   "source": [
    "def load_annotation_polygons(slide_name):\n",
    "    if slide_name[-1] == '0':\n",
    "        return []\n",
    "    \n",
    "    fp_annotation = ((ANNOT_DIR / slide_name).with_suffix('.xml')).resolve()\n",
    "\n",
    "    # Load polygon vertices\n",
    "    include_keywords = ['Carcinoma', 'metastases']\n",
    "    exclude_keywords = []\n",
    "    all_keywords = include_keywords + exclude_keywords\n",
    "    include_polygons = []\n",
    "    exclude_polygons = []\n",
    "\n",
    "    root = ET.parse(fp_annotation).getroot()\n",
    "    for anno_tag in root.findall('Annotations/Annotation'):\n",
    "        polygon = []\n",
    "\n",
    "        keyword = anno_tag.get('PartOfGroup')\n",
    "\n",
    "        if keyword in all_keywords:\n",
    "            for coord in anno_tag.findall('Coordinates/Coordinate'):\n",
    "                polygon.append((float(coord.get('X')) / (2**LEVEL),\n",
    "                                float(coord.get('Y')) / (2**LEVEL)))\n",
    "\n",
    "        if keyword in include_keywords:\n",
    "            include_polygons.append(polygon)\n",
    "        elif keyword in exclude_keywords:\n",
    "            exclude_polygons.append(polygon)\n",
    "    return include_polygons"
   ]
  },
  {
   "cell_type": "markdown",
   "metadata": {
    "ExecuteTime": {
     "end_time": "2020-10-11T11:15:43.556213Z",
     "start_time": "2020-10-11T11:15:43.506610Z"
    },
    "code_folding": []
   },
   "source": [
    "### NMS from merged image"
   ]
  },
  {
   "cell_type": "code",
   "execution_count": null,
   "metadata": {
    "ExecuteTime": {
     "end_time": "2020-10-11T12:20:02.537923Z",
     "start_time": "2020-10-11T11:38:54.064639Z"
    },
    "code_folding": [
     0
    ]
   },
   "outputs": [],
   "source": [
    "def nms_from_merged_image():\n",
    "    # Hyperparameters\n",
    "    NMS_THRESHOLD = 0.99\n",
    "    NMS_RADIUS = 256 # in pixels\n",
    "\n",
    "    # Helper structures to count metrics\n",
    "    NMS_POLYGONS = [Polygon(polygon) for polygon in include_polygons]\n",
    "    NMS_FOUND = np.zeros_like(NMS_POLYGONS, dtype='bool')\n",
    "\n",
    "    # NMS Metrics\n",
    "    NMS_TP = 0\n",
    "    NMS_FP = 0\n",
    "\n",
    "    # Extract max tile\n",
    "    coord_y, coord_x = np.unravel_index(np.argmax(np_merged_result), np_merged_result.shape)\n",
    "    print(f'Point ({coord_x}, {coord_y}) with prediction of {np_merged_result[coord_y, coord_x]}')\n",
    "\n",
    "    # Verify above threshold\n",
    "    is_valid = np_merged_result[coord_y, coord_x] > NMS_THRESHOLD\n",
    "    print(f'Above threshold: {is_valid}')\n",
    "\n",
    "    while is_valid:\n",
    "\n",
    "        start_x = coord_x - NMS_RADIUS\n",
    "        end_x   = coord_x + NMS_RADIUS + 1\n",
    "        start_y = coord_y - NMS_RADIUS\n",
    "        end_y   = coord_y + NMS_RADIUS + 1\n",
    "\n",
    "        np_merged_result[start_y:end_y, start_x:end_x] = 0\n",
    "\n",
    "        nms_predict_polygon = Polygon([(start_x, start_y), (end_x, start_y), (end_x, end_y), (start_x, end_y)])\n",
    "        nms_intersects = np.array([nms_polygon.intersects(nms_predict_polygon) for nms_polygon in NMS_POLYGONS])\n",
    "\n",
    "        if np.any(nms_intersects):\n",
    "            NMS_TP += np.count_nonzero(NMS_FOUND[np.nonzero(nms_intersects)[0]] == 0)\n",
    "            NMS_FOUND[np.nonzero(nms_intersects)] = True\n",
    "        else:\n",
    "            NMS_FP += 1\n",
    "\n",
    "        # Extract max tile\n",
    "        coord_y, coord_x = np.unravel_index(np.argmax(np_merged_result), np_merged_result.shape)\n",
    "        print(f'Point ({coord_x}, {coord_y}) with prediction of {np_merged_result[coord_y, coord_x]}')\n",
    "\n",
    "        # Verify above threshold\n",
    "        is_valid = np_merged_result[coord_y, coord_x] > NMS_THRESHOLD\n",
    "        print(f'Above threshold: {is_valid}')"
   ]
  },
  {
   "cell_type": "markdown",
   "metadata": {
    "ExecuteTime": {
     "end_time": "2020-10-11T12:44:59.425488Z",
     "start_time": "2020-10-11T12:44:59.415897Z"
    },
    "code_folding": []
   },
   "source": [
    "### NMS from Image presampled"
   ]
  },
  {
   "cell_type": "code",
   "execution_count": null,
   "metadata": {
    "ExecuteTime": {
     "end_time": "2020-10-13T10:50:56.442340Z",
     "start_time": "2020-10-13T10:50:56.416895Z"
    },
    "code_folding": [
     0
    ]
   },
   "outputs": [],
   "source": [
    "def nms_from_presampled_image():\n",
    "    # Hyperparameters\n",
    "    NMS_THRESHOLD = 0.50\n",
    "    NMS_RADIUS = 256 # in pixels\n",
    "\n",
    "    # Helper structures to count metrics\n",
    "    NMS_POLYGONS = [Polygon(polygon) for polygon in include_polygons]\n",
    "    NMS_FOUND = np.zeros_like(NMS_POLYGONS, dtype='bool')\n",
    "\n",
    "    # NMS Metrics\n",
    "    NMS_TP = 0\n",
    "    NMS_FP = 0\n",
    "\n",
    "    # Prepare iterable for slide\n",
    "    db_res = np.where(np_merged_result > NMS_THRESHOLD)\n",
    "    db_vals = np_merged_result[db_res]\n",
    "\n",
    "    while len(db_vals) > 0:\n",
    "        print(f'Remaining points: {len(db_vals):,}\\r', end='')\n",
    "\n",
    "        # Extract max tile\n",
    "        max_idx = np.argmax(db_vals)\n",
    "        coord_y, coord_x = db_res[0][max_idx], db_res[1][max_idx]\n",
    "        #print(f'Point ({coord_x}, {coord_y}) with prediction of {db_vals[max_idx]}')\n",
    "\n",
    "        start_x = coord_x - NMS_RADIUS\n",
    "        end_x   = coord_x + NMS_RADIUS + 1\n",
    "        start_y = coord_y - NMS_RADIUS\n",
    "        end_y   = coord_y + NMS_RADIUS + 1\n",
    "\n",
    "        np_merged_result[start_y:end_y, start_x:end_x] = 0\n",
    "\n",
    "        nms_predict_polygon = Polygon([(start_x, start_y), (end_x, start_y), (end_x, end_y), (start_x, end_y)])\n",
    "        nms_intersects = np.array([nms_polygon.intersects(nms_predict_polygon) for nms_polygon in NMS_POLYGONS])\n",
    "\n",
    "        if np.any(nms_intersects):\n",
    "            NMS_TP += np.count_nonzero(NMS_FOUND[np.nonzero(nms_intersects)[0]] == 0)\n",
    "            NMS_FOUND[np.nonzero(nms_intersects)] = True\n",
    "        else:\n",
    "            NMS_FP += 1\n",
    "\n",
    "        # Renew values\n",
    "        db_vals = np_merged_result[db_res]\n",
    "        db_ind = np.argwhere(db_vals > NMS_THRESHOLD).flatten()\n",
    "        db_vals = db_vals[db_ind]\n",
    "        db_res = (db_res[0][db_ind], db_res[1][db_ind])"
   ]
  },
  {
   "cell_type": "markdown",
   "metadata": {
    "ExecuteTime": {
     "end_time": "2020-10-11T08:27:22.618729Z",
     "start_time": "2020-10-11T08:26:58.463828Z"
    }
   },
   "source": [
    "### NMS from result dataframe"
   ]
  },
  {
   "cell_type": "code",
   "execution_count": 5,
   "metadata": {
    "ExecuteTime": {
     "end_time": "2020-11-26T11:56:16.423887Z",
     "start_time": "2020-11-26T11:56:16.387510Z"
    },
    "code_folding": [
     0
    ],
    "scrolled": true
   },
   "outputs": [],
   "source": [
    "def nms_from_dataframe(df_result, np_merged_result, include_polygons, nms_threshold, nms_radius, neighborhood, offset, verbose=0):\n",
    "\n",
    "    # Helper structures to count metrics\n",
    "    NMS_POLYGONS = [Polygon(polygon) for polygon in include_polygons]\n",
    "    NMS_FOUND = np.zeros_like(NMS_POLYGONS, dtype='bool')\n",
    "\n",
    "    # NMS Points\n",
    "    EXTRACTED_POINTS = []\n",
    "\n",
    "    # Extract max tile\n",
    "    max_idx = df_result['predict'].idxmax()\n",
    "    max_row = df_result.iloc[max_idx]\n",
    "    if verbose > 0:\n",
    "        print(f'Point ({max_row.coord_x}, {max_row.coord_y}) with prediction of {max_row.predict}')\n",
    "\n",
    "    # Verify above threshold\n",
    "    is_valid = max_row.predict >= nms_threshold\n",
    "    if verbose > 0:\n",
    "        print(f'Above threshold: {is_valid}')\n",
    "\n",
    "    while is_valid:\n",
    "        # Extract coordinates\n",
    "        coord_x = max_row.coord_x // (2**LEVEL)\n",
    "        coord_y = max_row.coord_y // (2**LEVEL)\n",
    "        if verbose > 1:\n",
    "            print(f'Point({coord_x},{coord_y})')\n",
    "\n",
    "        # Verify it was not suppressed\n",
    "        is_suppressed = np_merged_result[coord_y, coord_x] == 0\n",
    "        if verbose > 1:\n",
    "            print(f'Suppressed: {is_suppressed}')\n",
    "\n",
    "        if not is_suppressed:\n",
    "\n",
    "            if neighborhood == 'context':\n",
    "                # Context radius\n",
    "                start_x = (coord_x + offset) - (nms_radius     * CENTER_SIZE)\n",
    "                end_x =   (coord_x + offset) + ((nms_radius+1) * CENTER_SIZE)\n",
    "                start_y = (coord_y + offset) - (nms_radius     * CENTER_SIZE)\n",
    "                end_y =   (coord_y + offset) + ((nms_radius+1) * CENTER_SIZE)\n",
    "            elif neighborhood == 'google':\n",
    "                # Possible Google context\n",
    "                start_x = (coord_x + offset) - (nms_radius * CENTER_SIZE)\n",
    "                end_x =   (coord_x + offset) + (nms_radius * CENTER_SIZE) + 1\n",
    "                start_y = (coord_y + offset) - (nms_radius * CENTER_SIZE)\n",
    "                end_y =   (coord_y + offset) + (nms_radius * CENTER_SIZE) + 1\n",
    "            else:\n",
    "                raise ValueError('Unknown neighborhood type.')\n",
    "\n",
    "            np_merged_result[start_y:end_y, start_x:end_x] = 0\n",
    "\n",
    "            test_polygon = Polygon([(start_x, start_y), (end_x, start_y), (end_x, end_y), (start_x, end_y)])\n",
    "            nms_intersects = np.array([nms_polygon.intersects(test_polygon) for nms_polygon in NMS_POLYGONS])\n",
    "\n",
    "            if np.any(nms_intersects):\n",
    "                [EXTRACTED_POINTS.append((max_idx, max_row.predict, polygon_id)) for polygon_id in np.nonzero(nms_intersects)[0]]\n",
    "                NMS_FOUND[np.nonzero(nms_intersects)] = True\n",
    "            else:\n",
    "                EXTRACTED_POINTS.append((max_idx, max_row.predict, -1))\n",
    "\n",
    "        df_result.at[max_idx, 'predict'] = 0.0\n",
    "\n",
    "        # Extract max tile\n",
    "        max_idx = df_result['predict'].idxmax()\n",
    "        max_row = df_result.iloc[max_idx]\n",
    "\n",
    "        # Verify above threshold\n",
    "        is_valid = max_row.predict >= nms_threshold\n",
    "        if verbose > 1:\n",
    "            print(f'Above threshold: {is_valid}')\n",
    "    return EXTRACTED_POINTS, len(NMS_POLYGONS)"
   ]
  },
  {
   "cell_type": "code",
   "execution_count": null,
   "metadata": {
    "ExecuteTime": {
     "end_time": "2020-10-12T15:58:57.430616Z",
     "start_time": "2020-10-12T15:58:08.270548Z"
    },
    "code_folding": []
   },
   "outputs": [],
   "source": [
    "json_summary, offset = open_summary(EXPERIMENT_ID)\n",
    "np_merged_result, df_result = get_heatmap_for_slide(json_summary, 'TP-2019_7207-06-1', offset, 0)\n",
    "nms_points, nms_polygons = nms_from_dataframe(df_result.copy(), np_merged_result.copy(), load_annotation_polygons('TP-2019_7207-06-1'), 0.5, 1, 'google', offset, 0)\n",
    "\n",
    "# Create DataFrame with points and confidences\n",
    "idx, conf, polygon_id = zip(*nms_points)\n",
    "df_nms = pd.DataFrame({'idx':idx, 'conf': conf, 'polygon':polygon_id})\n",
    "\n",
    "# Calculate values for each threshold\n",
    "FROC_THRESHOLDS = [1.0, 0.999, 0.99, 0.9, 0.85, 0.80, 0.75]\n",
    "for froc_threshold in FROC_THRESHOLDS:\n",
    "    FP = df_nms[df_nms.conf >= froc_threshold].polygon.lt(0).sum()\n",
    "    TP = np.sum(df_nms[df_nms.conf >= froc_threshold].polygon.unique() >= 0)\n",
    "    print(f'@{froc_threshold:.2%}  TP: {TP}/{nms_polygons}  FP: {FP}  Recall: {TP/nms_polygons:.2%}')"
   ]
  },
  {
   "cell_type": "code",
   "execution_count": 6,
   "metadata": {
    "ExecuteTime": {
     "end_time": "2020-11-26T14:02:24.561398Z",
     "start_time": "2020-11-26T11:56:38.420578Z"
    },
    "code_folding": []
   },
   "outputs": [],
   "source": [
    "ALL_DF_NMS = []\n",
    "\n",
    "# Open experiment summary.json\n",
    "json_summary, offset = open_summary(EXPERIMENT_ID)\n",
    "for slide_name in json_summary['test']['summary']:\n",
    "    # Open predictions for each slide and get all NMS regions\n",
    "    np_merged_result, df_result = get_heatmap_for_slide(json_summary, slide_name, offset, 0)\n",
    "    nms_points, nms_polygons = nms_from_dataframe(df_result.copy(), np_merged_result.copy(), load_annotation_polygons(slide_name), 0.50, 1, 'google', offset, 0)\n",
    "    \n",
    "    # Create DataFrame with points and confidences\n",
    "    if len(nms_points) > 0:\n",
    "        idx, conf, polygon_id = zip(*nms_points)\n",
    "    else:\n",
    "        idx = []\n",
    "        conf = []\n",
    "        polygon_id = []\n",
    "    df_nms = pd.DataFrame({'idx':idx, 'conf': conf, 'polygon':polygon_id})\n",
    "\n",
    "    ALL_DF_NMS.append((df_nms, nms_polygons))"
   ]
  },
  {
   "cell_type": "code",
   "execution_count": null,
   "metadata": {
    "ExecuteTime": {
     "end_time": "2020-10-13T18:51:43.109842Z",
     "start_time": "2020-10-13T18:51:43.100481Z"
    },
    "code_folding": []
   },
   "outputs": [],
   "source": [
    "pos_filter = [slide_name[-1] == '1' for slide_name in list(json_summary['test']['summary'].keys())]"
   ]
  },
  {
   "cell_type": "code",
   "execution_count": 7,
   "metadata": {
    "ExecuteTime": {
     "end_time": "2020-11-26T14:09:11.969634Z",
     "start_time": "2020-11-26T14:07:51.992121Z"
    },
    "code_folding": []
   },
   "outputs": [],
   "source": [
    "# Calculate values for each threshold\n",
    "FROC_THRESHOLDS = np.arange(1.0, 0.50, -0.0005)\n",
    "sens_l = []\n",
    "avfp_l = []\n",
    "for froc_threshold in FROC_THRESHOLDS:\n",
    "    sTP = 0\n",
    "    aTP = 0\n",
    "    aFP = 0\n",
    "    aTOTAL = 0\n",
    "    for df_nms, num_polygons in np.array(ALL_DF_NMS):\n",
    "        if len(df_nms) > 0:\n",
    "            FP = df_nms[df_nms.conf >= froc_threshold].polygon.lt(0).sum()\n",
    "            TP = np.sum(df_nms[df_nms.conf >= froc_threshold].polygon.unique() >= 0)\n",
    "        else:\n",
    "            FP = 0\n",
    "            TP = 0\n",
    "            \n",
    "        if TP > 0:\n",
    "            sTP += 1\n",
    "        \n",
    "        # Accumulate metrics\n",
    "        aTP += TP\n",
    "        aFP += FP\n",
    "        aTOTAL += num_polygons\n",
    "    #print(f'@{froc_threshold:.4f}  TP: {aTP}/{aTOTAL}  avg.FP: {aFP / len(ALL_DF_NMS):.2f}  Recall: {aTP/aTOTAL:.2%}  Slide: {sTP}/{sum(pos_filter)}')\n",
    "    sens_l.append(aTP/aTOTAL)\n",
    "    avfp_l.append(aFP/len(ALL_DF_NMS))"
   ]
  },
  {
   "cell_type": "code",
   "execution_count": 8,
   "metadata": {
    "ExecuteTime": {
     "end_time": "2020-11-26T14:11:59.395188Z",
     "start_time": "2020-11-26T14:11:59.387436Z"
    },
    "code_folding": []
   },
   "outputs": [],
   "source": [
    "# Only keep those above 8 AVG FP\n",
    "f = np.array(avfp_l) <= 8"
   ]
  },
  {
   "cell_type": "code",
   "execution_count": 9,
   "metadata": {
    "ExecuteTime": {
     "end_time": "2020-11-26T14:12:23.256905Z",
     "start_time": "2020-11-26T14:12:05.572572Z"
    },
    "code_folding": []
   },
   "outputs": [
    {
     "data": {
      "text/plain": [
       "0.8201352048334807"
      ]
     },
     "execution_count": 9,
     "metadata": {},
     "output_type": "execute_result"
    }
   ],
   "source": [
    "# Calculate FROC Score\n",
    "from sklearn.metrics import auc\n",
    "auc(x=np.array(avfp_l)[f], y=np.array(sens_l)[f]) / 8"
   ]
  },
  {
   "cell_type": "code",
   "execution_count": 71,
   "metadata": {
    "ExecuteTime": {
     "end_time": "2020-11-26T15:10:06.260255Z",
     "start_time": "2020-11-26T15:10:06.243182Z"
    },
    "code_folding": []
   },
   "outputs": [
    {
     "name": "stdout",
     "output_type": "stream",
     "text": [
      "Sensitivity at 1/4FP: 49.30%\n",
      "Sensitivity at 1/2FP: 59.86%\n",
      "Sensitivity at 1FP: 73.04%\n",
      "Sensitivity at 2FP: 80.95%\n",
      "Sensitivity at 4FP: 87.18%\n",
      "Sensitivity at 8FP: 91.21%\n"
     ]
    }
   ],
   "source": [
    "from scipy.interpolate import interp1d\n",
    "inter_f = interp1d(x=np.array(avfp_l)[f], y=np.array(sens_l)[f])\n",
    "print(f'Sensitivity at 1/4FP: {inter_f(0.25):.2%}')\n",
    "print(f'Sensitivity at 1/2FP: {inter_f(0.5):.2%}')\n",
    "print(f'Sensitivity at 1FP: {inter_f(1):.2%}')\n",
    "print(f'Sensitivity at 2FP: {inter_f(2):.2%}')\n",
    "print(f'Sensitivity at 4FP: {inter_f(4):.2%}')\n",
    "print(f'Sensitivity at 8FP: {inter_f(8):.2%}')"
   ]
  },
  {
   "cell_type": "code",
   "execution_count": 91,
   "metadata": {
    "ExecuteTime": {
     "end_time": "2020-11-26T15:20:06.509711Z",
     "start_time": "2020-11-26T15:20:06.139642Z"
    }
   },
   "outputs": [
    {
     "data": {
      "image/png": "[encoded data removed]",
      "text/plain": [
       "<Figure size 1080x720 with 1 Axes>"
      ]
     },
     "metadata": {
      "needs_background": "light"
     },
     "output_type": "display_data"
    }
   ],
   "source": [
    "import matplotlib.pyplot as plt\n",
    "\n",
    "label = f'FROC curve (area = {auc(x=np.array(avfp_l)[f], y=np.array(sens_l)[f]) / 8:.4})'\n",
    "\n",
    "plt.figure(dpi=180)\n",
    "ax = plt.gca()\n",
    "ax.get_yaxis().set_tick_params(direction='in', right=True)\n",
    "ax.get_xaxis().set_tick_params(direction='in', top=True)\n",
    "plt.plot(np.array(avfp_l)[f], np.array(sens_l)[f], color='blue',\n",
    "         lw=1, label=label)\n",
    "plt.xlim([0, 8])\n",
    "plt.yticks(np.arange(0.0, 1.1, 0.1))\n",
    "plt.ylim([0.0, 1.0])\n",
    "plt.xlabel('Average Number of False Positives')\n",
    "plt.ylabel('Metastatis detection sensitivity')\n",
    "plt.title('FROC curve')\n",
    "plt.legend(loc=\"lower right\", fontsize='large', fancybox=False, framealpha=1, edgecolor='black')\n",
    "plt.grid(True, linestyle='--', color='black', lw=0.5, dashes=(2,6,2,6))\n",
    "plt.show()"
   ]
  },
  {
   "cell_type": "markdown",
   "metadata": {
    "ExecuteTime": {
     "end_time": "2020-10-12T09:02:01.269177Z",
     "start_time": "2020-10-12T09:01:46.309345Z"
    }
   },
   "source": [
    "# CONNECTED COMPONENT FROC"
   ]
  },
  {
   "cell_type": "code",
   "execution_count": 11,
   "metadata": {
    "ExecuteTime": {
     "end_time": "2020-11-05T13:41:15.972634Z",
     "start_time": "2020-11-05T13:40:46.061910Z"
    }
   },
   "outputs": [],
   "source": [
    "from skimage.measure import label, regionprops\n",
    "from skimage.morphology import binary_dilation, binary_erosion\n",
    "from skimage.draw import polygon\n",
    "# Get centroid points for found tumors\n",
    "from scipy import ndimage\n",
    "from rasterio.features import shapes"
   ]
  },
  {
   "cell_type": "code",
   "execution_count": 26,
   "metadata": {
    "ExecuteTime": {
     "end_time": "2020-11-05T13:50:16.647329Z",
     "start_time": "2020-11-05T13:50:14.429369Z"
    },
    "scrolled": false
   },
   "outputs": [
    {
     "name": "stdout",
     "output_type": "stream",
     "text": [
      "Intensity matrix size: (3465, 1643)\n",
      "Count matrix size: (3465, 1643)\n",
      "Arithmetic\n"
     ]
    },
    {
     "data": {
      "image/png": "[encoded data removed]",
      "text/plain": [
       "<Figure size 1440x4320 with 1 Axes>"
      ]
     },
     "metadata": {
      "needs_background": "light"
     },
     "output_type": "display_data"
    }
   ],
   "source": [
    "SLIDE_NAME = 'TP-2019_6785-13-1'\n",
    "\n",
    "# Load the heatmap\n",
    "json_summary, offset = open_summary(EXPERIMENT_ID)\n",
    "merged_result, df_result = get_heatmap_for_slide(json_summary, SLIDE_NAME, offset, verbose=1)\n",
    "\n",
    "# Threshold the heatmap\n",
    "CC_THRESHOLD = 0.40\n",
    "thresholded_result = np.where(merged_result > CC_THRESHOLD, 255, 0)\n",
    "\n",
    "# Erode predictions\n",
    "thresholded_result = binary_erosion(thresholded_result, selem=np.ones((7,7)))\n",
    "\n",
    "# Label connected components\n",
    "labels = label(thresholded_result, background=0, connectivity=2)\n",
    "props = regionprops(labels, intensity_image=merged_result)\n",
    "\n",
    "# Display connected components\n",
    "plt.figure(figsize=(20,60))\n",
    "plt.imshow(labels, cmap='nipy_spectral')\n",
    "\n",
    "# Get centroid points for found tumors\n",
    "centroids = [(Point(int(prop.weighted_centroid[1]), int(prop.weighted_centroid[0])), prop.mean_intensity) for prop in props]  # / 32 for coords\n",
    "centroids = sorted(centroids, key=lambda x: x[1], reverse=True)\n",
    "\n",
    "# Make polygons have integer values to work with numpy\n",
    "int_np_polygons = [np.array(polygon_).astype('int') for polygon_ in load_annotation_polygons(SLIDE_NAME)]\n",
    "int_polygons = [Polygon(polygon_) for polygon_ in int_np_polygons]\n",
    "\n",
    "#polygons = [Polygon(polygon_) for polygon_ in load_annotation_polygons(SLIDE_NAME)]"
   ]
  },
  {
   "cell_type": "code",
   "execution_count": null,
   "metadata": {
    "ExecuteTime": {
     "end_time": "2020-10-15T10:59:17.413539Z",
     "start_time": "2020-10-15T10:59:17.400501Z"
    },
    "code_folding": [
     0
    ]
   },
   "outputs": [],
   "source": [
    "# Old way of doing it without dilation\n",
    "DISPLAY = False\n",
    "if DISPLAY:\n",
    "    # Initialize counters\n",
    "    CC_TP = 0\n",
    "    CC_FP = 0\n",
    "    hits = [False] * len(centroids)\n",
    "\n",
    "\n",
    "    for idx,cc in enumerate(centroids):\n",
    "        # Filter by mean intensity for FROC\n",
    "        if cc[1] < 0.95:\n",
    "            continue\n",
    "\n",
    "        # Check if centroid lies within an annotated polygon\n",
    "        # and update counters accordingly\n",
    "        for polygon_ in int_polygons:\n",
    "            if polygon_.contains(cc[0]):\n",
    "                if hits[idx] == False:\n",
    "                    CC_TP += 1\n",
    "                    hits[idx] = True\n",
    "                break\n",
    "        else:\n",
    "            CC_FP += 1\n",
    "\n",
    "    print(f'{sum(hits)}/{len(hits)}')\n",
    "    print(f'TP: {CC_TP}  FP: {CC_FP}')"
   ]
  },
  {
   "cell_type": "code",
   "execution_count": null,
   "metadata": {
    "ExecuteTime": {
     "end_time": "2020-10-15T10:59:17.675816Z",
     "start_time": "2020-10-15T10:59:17.669602Z"
    },
    "code_folding": [
     0
    ]
   },
   "outputs": [],
   "source": [
    "# Display the outlines of polygons and centroids\n",
    "if DISPLAY:\n",
    "    plt.figure(figsize=(20,60))\n",
    "    for polygon_ in int_polygons:\n",
    "        plt.plot(*polygon_.exterior.xy, c='g')\n",
    "    for cc in tmp:\n",
    "        plt.plot(*cc[0].xy, 'ro')"
   ]
  },
  {
   "cell_type": "code",
   "execution_count": 27,
   "metadata": {
    "ExecuteTime": {
     "end_time": "2020-11-05T13:50:25.821308Z",
     "start_time": "2020-11-05T13:50:25.678411Z"
    }
   },
   "outputs": [],
   "source": [
    "# Draw binary image using the integer polygons\n",
    "res = np.zeros_like(merged_result).astype(bool)\n",
    "for int_polygon in int_polygons:\n",
    "    coords = polygon(int_polygon.exterior.xy[1], int_polygon.exterior.xy[0])\n",
    "    res[coords] = True\n",
    "    \n",
    "# Binary dilation\n",
    "ORIG_DILATION = 21\n",
    "dil_res = binary_dilation(res, selem=np.ones((1,1)))"
   ]
  },
  {
   "cell_type": "code",
   "execution_count": 28,
   "metadata": {
    "ExecuteTime": {
     "end_time": "2020-11-05T13:50:29.611938Z",
     "start_time": "2020-11-05T13:50:25.858973Z"
    },
    "scrolled": false
   },
   "outputs": [
    {
     "data": {
      "image/png": "[encoded data removed]",
      "text/plain": [
       "<Figure size 1440x4320 with 1 Axes>"
      ]
     },
     "metadata": {
      "needs_background": "light"
     },
     "output_type": "display_data"
    }
   ],
   "source": [
    "old_points = []\n",
    "new_points = []\n",
    "for prop in props:\n",
    "    # Draw polygon\n",
    "    db_canvas = np.zeros_like(labels, dtype='uint8')\n",
    "    db_x, db_y = np.transpose(prop.coords)\n",
    "    db_canvas[db_x, db_y] = 255\n",
    "\n",
    "    polygons = [vec[0]['coordinates'][0] for vec in shapes(db_canvas, mask=db_canvas)]\n",
    "\n",
    "    for polygon_ in polygons:\n",
    "        old_points.append(Polygon(polygon_).centroid.xy)\n",
    "        new_points.append(Polygon(polygon_).representative_point().xy)\n",
    "        \n",
    "plt.figure(figsize=(20,60))\n",
    "plt.imshow(dil_res)\n",
    "#for point in old_points:\n",
    "#    plt.plot(*point, 'ro')\n",
    "for point in new_points:\n",
    "    plt.plot(*point, 'go')"
   ]
  },
  {
   "cell_type": "code",
   "execution_count": 22,
   "metadata": {
    "ExecuteTime": {
     "end_time": "2020-10-29T16:18:32.941830Z",
     "start_time": "2020-10-29T16:18:30.919446Z"
    },
    "scrolled": false
   },
   "outputs": [
    {
     "name": "stdout",
     "output_type": "stream",
     "text": [
      "Found: 12 out of 12 (100.00%)\n"
     ]
    },
    {
     "data": {
      "image/png": "[encoded data removed]",
      "text/plain": [
       "<Figure size 1440x4320 with 1 Axes>"
      ]
     },
     "metadata": {
      "needs_background": "light"
     },
     "output_type": "display_data"
    }
   ],
   "source": [
    "# Get labels for annotated polygons\n",
    "true_labels, true_num_labels = label(dil_res, background=0, connectivity=2, return_num=True)\n",
    "\n",
    "# Calculate hit ratio\n",
    "int_centroids = [(int(prop.centroid[0]), int(prop.centroid[1])) for prop in props]\n",
    "int_hits_polygons = [true_labels[int_centroid] for int_centroid in int_centroids]\n",
    "num_dilated_hits = np.sum(np.unique(int_hits_polygons) > 0)\n",
    "print(f'Found: {num_dilated_hits} out of {true_num_labels} ({num_dilated_hits / true_num_labels:.2%})')\n",
    "\n",
    "# Draw dilated annotated polygons with center point hits\n",
    "plt.figure(figsize=(20,60))\n",
    "plt.imshow(dil_res)\n",
    "for cc in centroids:\n",
    "    plt.plot(*cc[0].xy, 'ro')"
   ]
  },
  {
   "cell_type": "code",
   "execution_count": null,
   "metadata": {
    "ExecuteTime": {
     "end_time": "2020-10-16T17:32:25.771589Z",
     "start_time": "2020-10-16T17:28:47.127271Z"
    }
   },
   "outputs": [],
   "source": [
    "FIG_DIR = Path('/mnt/data/home/matejg/centroids/old/')\n",
    "for slide_name, offset, (merged_result, df_result) in get_heatmaps_for_experiment(EXPERIMENT_ID):\n",
    "    output_fn = str((FIG_DIR / (slide_name + '-cen')).with_suffix('.png'))\n",
    "    #Image.fromarray(heatmap_np.astype('uint8')).save(output_fn)\n",
    "\n",
    "    # Threshold the heatmap\n",
    "    CC_THRESHOLD = 0.90\n",
    "    thresholded_result = np.where(merged_result > CC_THRESHOLD, 255, 0)\n",
    "\n",
    "    # Erode predictions\n",
    "    thresholded_result = binary_erosion(thresholded_result, selem=np.ones((1,1)))\n",
    "\n",
    "    # Label connected components\n",
    "    labels = label(thresholded_result, background=0, connectivity=2)\n",
    "    props = regionprops(labels, intensity_image=merged_result)\n",
    "\n",
    "    # Make polygons have integer values to work with numpy\n",
    "    int_np_polygons = [np.array(polygon_).astype('int') for polygon_ in load_annotation_polygons(slide_name)]\n",
    "    int_polygons = [Polygon(polygon_) for polygon_ in int_np_polygons]\n",
    "\n",
    "    # Draw binary image using the integer polygons\n",
    "    res = np.zeros_like(merged_result).astype(bool)\n",
    "    for int_polygon in int_polygons:\n",
    "        coords = polygon(int_polygon.exterior.xy[1], int_polygon.exterior.xy[0])\n",
    "        res[coords] = True\n",
    "\n",
    "    # Binary dilation\n",
    "    dil_res = binary_dilation(res, selem=np.ones((21,21)))\n",
    "    \n",
    "    # Calculate new shapely.polygon (HEAVILY INEFFICIENT!)\n",
    "    # May produce more polygons than were originally present\n",
    "    new_points = []\n",
    "    old_points = []\n",
    "    for prop in props:\n",
    "        # Draw polygon\n",
    "        db_canvas = np.zeros_like(labels, dtype='uint8')\n",
    "        db_x, db_y = np.transpose(prop.coords)\n",
    "        db_canvas[db_x, db_y] = 255\n",
    "    \n",
    "        # Get centroids\n",
    "        polygons = [vec[0]['coordinates'][0] for vec in shapes(db_canvas, mask=db_canvas)]\n",
    "        for polygon_ in polygons:\n",
    "            old_points.append(Polygon(polygon_).centroid.xy)\n",
    "            new_points.append(Polygon(polygon_).representative_point().xy)\n",
    "\n",
    "    plt.figure(figsize=(20,60))\n",
    "    plt.imshow(dil_res)\n",
    "    for point in old_points:\n",
    "        plt.plot(*point, 'ro')\n",
    "    plt.savefig(output_fn, bbox_inches='tight')\n",
    "    plt.close()"
   ]
  },
  {
   "cell_type": "code",
   "execution_count": null,
   "metadata": {},
   "outputs": [],
   "source": []
  }
 ],
 "metadata": {
  "kernelspec": {
   "display_name": "crc_ml_common",
   "language": "python",
   "name": "crc_ml_common"
  },
  "language_info": {
   "codemirror_mode": {
    "name": "ipython",
    "version": 3
   },
   "file_extension": ".py",
   "mimetype": "text/x-python",
   "name": "python",
   "nbconvert_exporter": "python",
   "pygments_lexer": "ipython3",
   "version": "3.7.3"
  },
  "toc": {
   "base_numbering": 1,
   "nav_menu": {},
   "number_sections": false,
   "sideBar": true,
   "skip_h1_title": false,
   "title_cell": "Table of Contents",
   "title_sidebar": "Contents",
   "toc_cell": false,
   "toc_position": {
    "height": "796px",
    "left": "175px",
    "top": "176px",
    "width": "384px"
   },
   "toc_section_display": true,
   "toc_window_display": false
  },
  "varInspector": {
   "cols": {
    "lenName": 16,
    "lenType": 16,
    "lenVar": 40
   },
   "kernels_config": {
    "python": {
     "delete_cmd_postfix": "",
     "delete_cmd_prefix": "del ",
     "library": "var_list.py",
     "varRefreshCmd": "print(var_dic_list())"
    },
    "r": {
     "delete_cmd_postfix": ") ",
     "delete_cmd_prefix": "rm(",
     "library": "var_list.r",
     "varRefreshCmd": "cat(var_dic_list()) "
    }
   },
   "types_to_exclude": [
    "module",
    "function",
    "builtin_function_or_method",
    "instance",
    "_Feature"
   ],
   "window_display": false
  }
 },
 "nbformat": 4,
 "nbformat_minor": 2
}
