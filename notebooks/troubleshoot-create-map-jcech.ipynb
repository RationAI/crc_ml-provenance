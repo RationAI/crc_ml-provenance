{
 "cells": [
  {
   "cell_type": "code",
   "execution_count": 1,
   "metadata": {
    "ExecuteTime": {
     "end_time": "2020-11-13T13:30:30.928514Z",
     "start_time": "2020-11-13T13:30:28.230607Z"
    }
   },
   "outputs": [],
   "source": [
    "import matplotlib.pyplot as plt\n",
    "from pathlib import Path\n",
    "import numpy as np\n",
    "import sys"
   ]
  },
  {
   "cell_type": "code",
   "execution_count": 2,
   "metadata": {
    "ExecuteTime": {
     "end_time": "2020-11-13T13:30:32.097536Z",
     "start_time": "2020-11-13T13:30:32.089442Z"
    }
   },
   "outputs": [],
   "source": [
    "# To be able to load our module scripts\n",
    "module_path = Path('.').resolve().parent\n",
    "if str(module_path) not in sys.path:\n",
    "    sys.path.append(str(module_path))"
   ]
  },
  {
   "cell_type": "code",
   "execution_count": 13,
   "metadata": {
    "ExecuteTime": {
     "end_time": "2020-11-13T13:41:27.773095Z",
     "start_time": "2020-11-13T13:41:27.766715Z"
    }
   },
   "outputs": [],
   "source": [
    "from src.data import create_map\n",
    "from src.config import SLIDE_DIR"
   ]
  },
  {
   "cell_type": "code",
   "execution_count": 15,
   "metadata": {
    "ExecuteTime": {
     "end_time": "2020-11-13T13:43:16.152553Z",
     "start_time": "2020-11-13T13:43:16.143803Z"
    }
   },
   "outputs": [],
   "source": [
    "from argparse import Namespace\n",
    "args = Namespace(slide_dir=Path('/mnt/data/crc_ml/data/raw/Prostata/slides'), xml_dir=None, tile_size=299, tissue_type='Prostata', tile_type='tshoot-jcech', min_bg=0.9, max_bg=1.0, reference_size=299, center_size=150, step_size=None, zero_magnification=20, magnification=10, neg=True, strict=False)"
   ]
  },
  {
   "cell_type": "code",
   "execution_count": 17,
   "metadata": {
    "ExecuteTime": {
     "end_time": "2020-11-13T13:46:26.666264Z",
     "start_time": "2020-11-13T13:46:26.651240Z"
    }
   },
   "outputs": [],
   "source": [
    "coord_map_dir = Path('/mnt/data/crc_ml/data/processed/Prostata/level1/r299px/c150px/t299px/tshoot-jcech/coord_maps')"
   ]
  },
  {
   "cell_type": "code",
   "execution_count": 19,
   "metadata": {
    "ExecuteTime": {
     "end_time": "2020-11-13T13:47:07.256535Z",
     "start_time": "2020-11-13T13:47:07.197125Z"
    }
   },
   "outputs": [
    {
     "name": "stdout",
     "output_type": "stream",
     "text": [
      "1563\n",
      "911\n",
      "991\n",
      "2989\n",
      "1768\n",
      "1857\n"
     ]
    }
   ],
   "source": [
    "import pandas as pd\n",
    "for coord_map_fn in coord_map_dir.glob('*.gz'):\n",
    "    "
   ]
  },
  {
   "cell_type": "code",
   "execution_count": 20,
   "metadata": {
    "ExecuteTime": {
     "end_time": "2020-11-13T13:54:12.349373Z",
     "start_time": "2020-11-13T13:53:21.241792Z"
    }
   },
   "outputs": [],
   "source": [
    "from src.config import ROOT_DIR\n",
    "from src.datagens import WSIDatagen\n",
    "from src.datagens import DataSource"
   ]
  },
  {
   "cell_type": "code",
   "execution_count": 23,
   "metadata": {
    "ExecuteTime": {
     "end_time": "2020-11-13T14:00:03.967327Z",
     "start_time": "2020-11-13T14:00:03.942425Z"
    }
   },
   "outputs": [
    {
     "name": "stdout",
     "output_type": "stream",
     "text": [
      "2020\n"
     ]
    }
   ],
   "source": [
    "import json\n",
    "def load_params(params_filepath):\n",
    "    with params_filepath.open('r') as params_f:\n",
    "        params = json.load(params_f)\n",
    "        return params\n",
    "params = load_params(Path('/mnt/data/crc_ml/configs/level1.json'))\n",
    "params['seed'] = 2020\n",
    "params['data']['dataset'] = '/mnt/data/crc_ml/data/processed/Prostata/level1/r299px/c150px/t299px/tshoot-jcech/datasets/1605275974.h5'    # L1 DATASET\n",
    "params['train']['validation_steps'] = 10000\n",
    "params['train']['steps_per_epoch'] = 2500\n",
    "params['model']['input_shape'] = (299,299,3)\n",
    "params['data']['meta']['tile_size'] = 299\n",
    "print(params['seed'])\n",
    "np.random.seed(params['seed'])"
   ]
  },
  {
   "cell_type": "code",
   "execution_count": 25,
   "metadata": {
    "ExecuteTime": {
     "end_time": "2020-11-13T14:01:37.460713Z",
     "start_time": "2020-11-13T14:01:37.426198Z"
    }
   },
   "outputs": [
    {
     "name": "stdout",
     "output_type": "stream",
     "text": [
      "Creating datasources\n",
      "Creating datagen\n"
     ]
    }
   ],
   "source": [
    "# Create datasources\n",
    "print('Creating datasources')\n",
    "ds = DataSource()\n",
    "ds.add_dataset(params['data']['dataset'], 'train')\n",
    "\n",
    "# Create datagen\n",
    "print('Creating datagen')\n",
    "datagen = WSIDatagen(params, slide_dir=SLIDE_DIR)"
   ]
  },
  {
   "cell_type": "code",
   "execution_count": 26,
   "metadata": {
    "ExecuteTime": {
     "end_time": "2020-11-13T14:02:16.436131Z",
     "start_time": "2020-11-13T14:02:16.249468Z"
    }
   },
   "outputs": [],
   "source": [
    "gen = datagen.get_sequential_generator(ds, use_augment=False)"
   ]
  },
  {
   "cell_type": "code",
   "execution_count": 27,
   "metadata": {
    "ExecuteTime": {
     "end_time": "2020-11-13T14:02:33.174435Z",
     "start_time": "2020-11-13T14:02:33.031624Z"
    }
   },
   "outputs": [
    {
     "data": {
      "text/plain": [
       "'P-2016_2067-07-0'"
      ]
     },
     "execution_count": 27,
     "metadata": {},
     "output_type": "execute_result"
    }
   ],
   "source": [
    "gen.prepare_slide(0)"
   ]
  }
 ],
 "metadata": {
  "kernelspec": {
   "display_name": "crc_ml_tf2",
   "language": "python",
   "name": "crc_ml_tf2"
  },
  "language_info": {
   "codemirror_mode": {
    "name": "ipython",
    "version": 3
   },
   "file_extension": ".py",
   "mimetype": "text/x-python",
   "name": "python",
   "nbconvert_exporter": "python",
   "pygments_lexer": "ipython3",
   "version": "3.7.3"
  },
  "toc": {
   "base_numbering": 1,
   "nav_menu": {},
   "number_sections": true,
   "sideBar": true,
   "skip_h1_title": false,
   "title_cell": "Table of Contents",
   "title_sidebar": "Contents",
   "toc_cell": false,
   "toc_position": {},
   "toc_section_display": true,
   "toc_window_display": false
  },
  "varInspector": {
   "cols": {
    "lenName": 16,
    "lenType": 16,
    "lenVar": 40
   },
   "kernels_config": {
    "python": {
     "delete_cmd_postfix": "",
     "delete_cmd_prefix": "del ",
     "library": "var_list.py",
     "varRefreshCmd": "print(var_dic_list())"
    },
    "r": {
     "delete_cmd_postfix": ") ",
     "delete_cmd_prefix": "rm(",
     "library": "var_list.r",
     "varRefreshCmd": "cat(var_dic_list()) "
    }
   },
   "types_to_exclude": [
    "module",
    "function",
    "builtin_function_or_method",
    "instance",
    "_Feature"
   ],
   "window_display": false
  }
 },
 "nbformat": 4,
 "nbformat_minor": 4
}
