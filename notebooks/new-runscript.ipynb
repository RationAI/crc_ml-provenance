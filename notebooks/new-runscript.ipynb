{
 "cells": [
  {
   "cell_type": "code",
   "execution_count": 1,
   "metadata": {
    "ExecuteTime": {
     "end_time": "2019-12-02T08:27:10.456683Z",
     "start_time": "2019-12-02T08:27:10.251896Z"
    }
   },
   "outputs": [],
   "source": [
    "import matplotlib.pyplot as plt"
   ]
  },
  {
   "cell_type": "code",
   "execution_count": 2,
   "metadata": {
    "ExecuteTime": {
     "end_time": "2019-12-02T08:27:10.920756Z",
     "start_time": "2019-12-02T08:27:10.917582Z"
    }
   },
   "outputs": [],
   "source": [
    "# 370 MB\n",
    "import os\n",
    "os.environ['CUDA_VISIBLE_DEVICES'] = '1'"
   ]
  },
  {
   "cell_type": "code",
   "execution_count": 3,
   "metadata": {
    "ExecuteTime": {
     "end_time": "2019-12-02T08:27:12.142313Z",
     "start_time": "2019-12-02T08:27:12.138599Z"
    }
   },
   "outputs": [],
   "source": [
    "import sys\n",
    "from pathlib import Path\n",
    "module_path = Path('.').resolve().parent\n",
    "if str(module_path) not in sys.path:\n",
    "    sys.path.append(str(module_path))"
   ]
  },
  {
   "cell_type": "code",
   "execution_count": 4,
   "metadata": {
    "ExecuteTime": {
     "end_time": "2019-12-02T08:27:16.675071Z",
     "start_time": "2019-12-02T08:27:14.917559Z"
    }
   },
   "outputs": [],
   "source": [
    "# 682 MB\n",
    "import tensorflow as tf\n",
    "config = tf.ConfigProto()\n",
    "config.gpu_options.per_process_gpu_memory_fraction = 0.9\n",
    "session = tf.Session(config=config)\n",
    "tf.keras.backend.set_session(session)"
   ]
  },
  {
   "cell_type": "code",
   "execution_count": 5,
   "metadata": {
    "ExecuteTime": {
     "end_time": "2019-12-02T08:27:19.186472Z",
     "start_time": "2019-12-02T08:27:18.484155Z"
    }
   },
   "outputs": [
    {
     "name": "stderr",
     "output_type": "stream",
     "text": [
      "Using TensorFlow backend.\n"
     ]
    }
   ],
   "source": [
    "# 760 MB\n",
    "from src.datagens import WSIDatagen, DataSource\n",
    "from src.training.experiments import SimpleExperiment, SummaryWriter\n",
    "from src.training.utils import ExperimentLevel\n",
    "from src.training.models import NASNetModel, ContextNASNetModel\n",
    "from src.training.metrics import F1\n",
    "from src.config import SLIDE_DIR"
   ]
  },
  {
   "cell_type": "code",
   "execution_count": 8,
   "metadata": {
    "ExecuteTime": {
     "end_time": "2019-12-02T08:30:36.863460Z",
     "start_time": "2019-12-02T08:30:36.855672Z"
    }
   },
   "outputs": [],
   "source": [
    "import json\n",
    "with (Path('.').resolve().parent / 'configs' / 'wsi.json').open('r') as json_in:\n",
    "    params = json.load(json_in)\n",
    "params['data']['level'] = 2\n",
    "tmp = params['data']\n",
    "params['data'] = {}\n",
    "params['data']['meta'] = tmp\n",
    "params['data']['dataset'] = '/home/matejg/Project/crc_ml/data/processed/Prostata/level2/r96px/c32px/t96px/all/datasets/1575200574.h5'"
   ]
  },
  {
   "cell_type": "code",
   "execution_count": 9,
   "metadata": {
    "ExecuteTime": {
     "end_time": "2019-12-02T08:30:37.699694Z",
     "start_time": "2019-12-02T08:30:37.694690Z"
    }
   },
   "outputs": [
    {
     "data": {
      "text/plain": [
       "{'batch_size': 16,\n",
       " 'callbacks': {'early_stopping': {'mode': 'max',\n",
       "   'monitor': 'val_f1',\n",
       "   'patience': 5,\n",
       "   'restore_best_weights': True},\n",
       "  'reduce_lr_on_plateau': {'factor': 0.5,\n",
       "   'min_lr': 1e-07,\n",
       "   'mode': 'max',\n",
       "   'monitor': 'val_f1',\n",
       "   'patience': 2}},\n",
       " 'data': {'dataset': '/home/matejg/Project/crc_ml/data/processed/Prostata/level2/r96px/c32px/t96px/all/datasets/1575200574.h5',\n",
       "  'meta': {'context_size': 1, 'level': 2, 'tile_size': 96}},\n",
       " 'model': {'checkpoint': None,\n",
       "  'dropout': 0.5,\n",
       "  'input_shape': [96, 96, 3],\n",
       "  'intermed': [],\n",
       "  'l1_reg': None,\n",
       "  'l2_reg': None,\n",
       "  'learning_rate': 0.0005,\n",
       "  'output_size': 1,\n",
       "  'trainable': True},\n",
       " 'test': {'augment_type': None,\n",
       "  'max_queue_size': 5,\n",
       "  'use_multiprocessing': False,\n",
       "  'workers': 2},\n",
       " 'train': {'epochs': 2,\n",
       "  'max_queue_size': 5,\n",
       "  'steps_per_epoch': 10000,\n",
       "  'train_augment_type': None,\n",
       "  'use_multiprocessing': False,\n",
       "  'valid_augment_type': None,\n",
       "  'validation_steps': 2000,\n",
       "  'workers': 2}}"
      ]
     },
     "execution_count": 9,
     "metadata": {},
     "output_type": "execute_result"
    }
   ],
   "source": [
    "params"
   ]
  },
  {
   "cell_type": "code",
   "execution_count": 10,
   "metadata": {
    "ExecuteTime": {
     "end_time": "2019-12-02T08:31:22.572814Z",
     "start_time": "2019-12-02T08:31:22.510522Z"
    }
   },
   "outputs": [],
   "source": [
    "# CREATE DATASOURCE\n",
    "ds = DataSource()\n",
    "ds.add_dataset(params['data']['dataset'], 'train')\n",
    "train_ds, valid_ds = ds.split(0.03)\n",
    "\n",
    "test_ds = DataSource()\n",
    "test_ds.add_dataset(params['data']['dataset'], 'test')"
   ]
  },
  {
   "cell_type": "code",
   "execution_count": 12,
   "metadata": {
    "ExecuteTime": {
     "end_time": "2019-12-02T08:31:47.560653Z",
     "start_time": "2019-12-02T08:31:47.554437Z"
    }
   },
   "outputs": [],
   "source": [
    "# CREATE DATAGEN\n",
    "datagen = WSIDatagen(**params['data']['meta'], slide_dir=SLIDE_DIR, batch_size=params['batch_size'])"
   ]
  },
  {
   "cell_type": "code",
   "execution_count": 13,
   "metadata": {
    "ExecuteTime": {
     "end_time": "2019-12-02T08:33:18.662333Z",
     "start_time": "2019-12-02T08:31:57.652429Z"
    }
   },
   "outputs": [],
   "source": [
    "# RETRIEVE GENERATORS (877 MB)\n",
    "train_gen, valid_gen = datagen.get_training_generator((96,96), 8192, 1024, train_ds, valid_ds, 'train', None)"
   ]
  },
  {
   "cell_type": "code",
   "execution_count": 33,
   "metadata": {
    "ExecuteTime": {
     "end_time": "2019-12-02T08:36:17.882787Z",
     "start_time": "2019-12-02T08:36:17.879607Z"
    }
   },
   "outputs": [],
   "source": [
    "X,y = train_gen[0]\n",
    "Xu, yu = train_gen.unaugmented(0)"
   ]
  },
  {
   "cell_type": "code",
   "execution_count": 31,
   "metadata": {
    "ExecuteTime": {
     "end_time": "2019-12-02T08:35:47.176257Z",
     "start_time": "2019-12-02T08:35:47.049825Z"
    }
   },
   "outputs": [
    {
     "data": {
      "text/plain": [
       "<matplotlib.image.AxesImage at 0x7f3fc81a77f0>"
      ]
     },
     "execution_count": 31,
     "metadata": {},
     "output_type": "execute_result"
    },
    {
     "data": {
      "image/png": "[encoded data removed]",
      "text/plain": [
       "<Figure size 432x288 with 1 Axes>"
      ]
     },
     "metadata": {
      "needs_background": "light"
     },
     "output_type": "display_data"
    }
   ],
   "source": [
    "new_im = ((Xu[10] + 1) * 127.5).astype(np.uint8)\n",
    "plt.imshow(new_im)"
   ]
  },
  {
   "cell_type": "code",
   "execution_count": 34,
   "metadata": {
    "ExecuteTime": {
     "end_time": "2019-12-02T08:37:01.926861Z",
     "start_time": "2019-12-02T08:36:26.626837Z"
    }
   },
   "outputs": [
    {
     "name": "stdout",
     "output_type": "stream",
     "text": [
      "WARNING:tensorflow:From /home/matejg/Test/test/lib/python3.5/site-packages/tensorflow/python/ops/resource_variable_ops.py:435: colocate_with (from tensorflow.python.framework.ops) is deprecated and will be removed in a future version.\n",
      "Instructions for updating:\n",
      "Colocations handled automatically by placer.\n",
      "WARNING:tensorflow:From /home/matejg/Test/test/lib/python3.5/site-packages/tensorflow/python/keras/layers/core.py:143: calling dropout (from tensorflow.python.ops.nn_ops) with keep_prob is deprecated and will be removed in a future version.\n",
      "Instructions for updating:\n",
      "Please use `rate` instead of `keep_prob`. Rate should be set to `rate = 1 - keep_prob`.\n"
     ]
    }
   ],
   "source": [
    "# 1273 MB\n",
    "model = NASNetModel(**params['model'])\n",
    "model.compile_model()"
   ]
  },
  {
   "cell_type": "code",
   "execution_count": null,
   "metadata": {
    "ExecuteTime": {
     "end_time": "2019-11-28T17:43:33.296352Z",
     "start_time": "2019-11-28T17:43:32.870880Z"
    }
   },
   "outputs": [],
   "source": [
    "model.model.load_weights('/home/matejg/early.hdf5')"
   ]
  },
  {
   "cell_type": "code",
   "execution_count": 35,
   "metadata": {
    "ExecuteTime": {
     "end_time": "2019-12-02T08:39:04.318788Z",
     "start_time": "2019-12-02T08:39:04.313696Z"
    }
   },
   "outputs": [],
   "source": [
    "callbacks = [\n",
    "    tf.keras.callbacks.EarlyStopping(**params['callbacks']['early_stopping'], verbose=1),\n",
    "    tf.keras.callbacks.ReduceLROnPlateau(**params['callbacks']['reduce_lr_on_plateau'], verbose=1)\n",
    "]"
   ]
  },
  {
   "cell_type": "code",
   "execution_count": 36,
   "metadata": {
    "ExecuteTime": {
     "end_time": "2019-12-02T08:39:11.048706Z",
     "start_time": "2019-12-02T08:39:11.043621Z"
    }
   },
   "outputs": [],
   "source": [
    "sw = SummaryWriter(params, 'Jupyter test', ExperimentLevel.DEBUG)"
   ]
  },
  {
   "cell_type": "code",
   "execution_count": 37,
   "metadata": {
    "ExecuteTime": {
     "end_time": "2019-12-02T08:41:31.927249Z",
     "start_time": "2019-12-02T08:41:31.920699Z"
    }
   },
   "outputs": [],
   "source": [
    "script_path = str(Path('.').absolute() / 'new-runscript.ipynb')\n",
    "experiment = SimpleExperiment(model.model, datagen, sw, script_path, eid_prefix='jupyter-deleteme', seed=1994)"
   ]
  },
  {
   "cell_type": "code",
   "execution_count": 40,
   "metadata": {
    "ExecuteTime": {
     "end_time": "2019-12-02T13:02:01.421726Z",
     "start_time": "2019-12-02T09:09:32.122773Z"
    }
   },
   "outputs": [
    {
     "name": "stdout",
     "output_type": "stream",
     "text": [
      "Epoch 1/2\n",
      " 5351/10000 [===============>..............] - ETA: 36:35 - loss: 0.3792 - binary_accuracy: 0.8340 - precision: 0.8443 - recall: 0.8167 - f1: 0.8303"
     ]
    },
    {
     "name": "stderr",
     "output_type": "stream",
     "text": [
      "IOPub message rate exceeded.\n",
      "The notebook server will temporarily stop sending output\n",
      "to the client in order to avoid crashing it.\n",
      "To change this limit, set the config variable\n",
      "`--NotebookApp.iopub_msg_rate_limit`.\n",
      "\n",
      "Current values:\n",
      "NotebookApp.iopub_msg_rate_limit=1000.0 (msgs/sec)\n",
      "NotebookApp.rate_limit_window=3.0 (secs)\n",
      "\n"
     ]
    },
    {
     "name": "stdout",
     "output_type": "stream",
     "text": [
      "2000/2000 [==============================] - 808s 404ms/step - loss: 0.6540 - binary_accuracy: 0.7748 - precision: 0.9494 - recall: 0.5817 - f1: 0.7214\n",
      "\n",
      "Epoch 00001: val_f1 improved from -inf to 0.72137, saving model to /home/matejg/Project/crc_ml/models/checkpoints/jupyter-deleteme-1034-4eb3-85fd-e94a30f3e099/early.hdf5\n",
      "\n",
      "Epoch 00001: saving model to /home/matejg/Project/crc_ml/models/checkpoints/jupyter-deleteme-1034-4eb3-85fd-e94a30f3e099/final.hdf5\n",
      "10000/10000 [==============================] - 8899s 890ms/step - loss: 0.3518 - binary_accuracy: 0.8480 - precision: 0.8591 - recall: 0.8311 - f1: 0.8449 - val_loss: 0.6540 - val_binary_accuracy: 0.7748 - val_precision: 0.9494 - val_recall: 0.5817 - val_f1: 0.7214\n",
      "Epoch 2/2\n",
      "2000/2000 [==============================] - 823s 412ms/step - loss: 0.6097 - binary_accuracy: 0.7807 - precision: 0.9013 - recall: 0.6283 - f1: 0.7405\n",
      "\n",
      "Epoch 00002: val_f1 improved from 0.72137 to 0.74046, saving model to /home/matejg/Project/crc_ml/models/checkpoints/jupyter-deleteme-1034-4eb3-85fd-e94a30f3e099/early.hdf5\n",
      "\n",
      "Epoch 00002: saving model to /home/matejg/Project/crc_ml/models/checkpoints/jupyter-deleteme-1034-4eb3-85fd-e94a30f3e099/final.hdf5\n",
      "10000/10000 [==============================] - 4927s 493ms/step - loss: 0.2929 - binary_accuracy: 0.8784 - precision: 0.8906 - recall: 0.8638 - f1: 0.8770 - val_loss: 0.6097 - val_binary_accuracy: 0.7807 - val_precision: 0.9013 - val_recall: 0.6283 - val_f1: 0.7405\n"
     ]
    }
   ],
   "source": [
    "experiment.train(**params['train'], train_ds=train_ds, valid_ds=valid_ds, callbacks=callbacks)"
   ]
  }
 ],
 "metadata": {
  "kernelspec": {
   "display_name": "test",
   "language": "python",
   "name": "test"
  },
  "language_info": {
   "codemirror_mode": {
    "name": "ipython",
    "version": 3
   },
   "file_extension": ".py",
   "mimetype": "text/x-python",
   "name": "python",
   "nbconvert_exporter": "python",
   "pygments_lexer": "ipython3",
   "version": "3.5.3"
  },
  "toc": {
   "base_numbering": 1,
   "nav_menu": {},
   "number_sections": true,
   "sideBar": true,
   "skip_h1_title": false,
   "title_cell": "Table of Contents",
   "title_sidebar": "Contents",
   "toc_cell": false,
   "toc_position": {},
   "toc_section_display": true,
   "toc_window_display": false
  },
  "varInspector": {
   "cols": {
    "lenName": 16,
    "lenType": 16,
    "lenVar": 40
   },
   "kernels_config": {
    "python": {
     "delete_cmd_postfix": "",
     "delete_cmd_prefix": "del ",
     "library": "var_list.py",
     "varRefreshCmd": "print(var_dic_list())"
    },
    "r": {
     "delete_cmd_postfix": ") ",
     "delete_cmd_prefix": "rm(",
     "library": "var_list.r",
     "varRefreshCmd": "cat(var_dic_list()) "
    }
   },
   "types_to_exclude": [
    "module",
    "function",
    "builtin_function_or_method",
    "instance",
    "_Feature"
   ],
   "window_display": false
  }
 },
 "nbformat": 4,
 "nbformat_minor": 2
}
