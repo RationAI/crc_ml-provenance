{
 "cells": [
  {
   "cell_type": "code",
   "execution_count": 1,
   "metadata": {
    "ExecuteTime": {
     "end_time": "2020-01-29T12:39:40.780096Z",
     "start_time": "2020-01-29T12:39:40.777251Z"
    }
   },
   "outputs": [],
   "source": [
    "# Use only GPU 1\n",
    "import os\n",
    "os.environ['CUDA_VISIBLE_DEVICES'] = '0'"
   ]
  },
  {
   "cell_type": "code",
   "execution_count": 2,
   "metadata": {
    "ExecuteTime": {
     "end_time": "2020-01-29T12:39:41.333703Z",
     "start_time": "2020-01-29T12:39:41.330354Z"
    }
   },
   "outputs": [],
   "source": [
    "# Allow loading crc_ml scripts as modules\n",
    "import sys\n",
    "from pathlib import Path\n",
    "module_path = Path('.').resolve().parent\n",
    "if str(module_path) not in sys.path:\n",
    "    sys.path.append(str(module_path))"
   ]
  },
  {
   "cell_type": "code",
   "execution_count": 3,
   "metadata": {
    "ExecuteTime": {
     "end_time": "2020-01-29T12:39:43.608263Z",
     "start_time": "2020-01-29T12:39:42.369945Z"
    }
   },
   "outputs": [],
   "source": [
    "# Bypass memory error\n",
    "import tensorflow as tf\n",
    "config = tf.ConfigProto()\n",
    "config.gpu_options.per_process_gpu_memory_fraction = 0.9\n",
    "session = tf.Session(config=config)\n",
    "tf.keras.backend.set_session(session)"
   ]
  },
  {
   "cell_type": "code",
   "execution_count": 4,
   "metadata": {
    "ExecuteTime": {
     "end_time": "2020-01-29T12:39:44.231675Z",
     "start_time": "2020-01-29T12:39:43.630943Z"
    }
   },
   "outputs": [],
   "source": [
    "# Load modules\n",
    "import tensorflow.keras.backend as K\n",
    "import pandas as pd\n",
    "\n",
    "from src.config import SLIDE_DIR\n",
    "from src.datagens import WSIDatagen, DataSource\n",
    "from src.training.models import ContextNASNetModel, NASNetModel"
   ]
  },
  {
   "cell_type": "code",
   "execution_count": null,
   "metadata": {
    "ExecuteTime": {
     "end_time": "2019-12-05T17:26:42.696729Z",
     "start_time": "2019-12-05T17:26:42.693323Z"
    }
   },
   "outputs": [],
   "source": [
    "ckpt = Path('/home/matejg/Project/archive_crc_ml/models/checkpoints/2cf8a974-dcee-499f-8953-86655f556f8d/early.hdf5')\n",
    "input_shape = (96,96,3)\n",
    "context_size = 3\n",
    "dropout = 0.5\n",
    "learning_rate = 0.0005\n",
    "output_size = 1\n",
    "trainable = True"
   ]
  },
  {
   "cell_type": "code",
   "execution_count": null,
   "metadata": {
    "ExecuteTime": {
     "end_time": "2019-12-05T17:27:12.200389Z",
     "start_time": "2019-12-05T17:26:42.712633Z"
    }
   },
   "outputs": [],
   "source": [
    "nasnet = NASNetModel(input_shape, dropout, learning_rate, output_size=output_size, trainable=True)"
   ]
  },
  {
   "cell_type": "code",
   "execution_count": null,
   "metadata": {
    "ExecuteTime": {
     "end_time": "2019-12-04T11:53:56.154953Z",
     "start_time": "2019-12-04T11:53:56.149405Z"
    }
   },
   "outputs": [],
   "source": [
    "# Modify NASNET into ContextNASNET - SUCCESS\n",
    "'''for _ in range(8):\n",
    "    inp = tf.keras.layers.Input((96,96,3))\n",
    "    out = nasnet.model.get_layer('NASNet')(inp)\n",
    "    out1 = nasnet.model.get_layer('global_max_pooling2d')(out)\n",
    "    out2 = nasnet.model.get_layer('global_average_pooling2d')(out)\n",
    "    out3 = nasnet.model.get_layer('flatten')(out)\n",
    "    out = nasnet.model.get_layer('concatenate_4')([out1, out2, out3])\n",
    "    out = nasnet.model.get_layer('dropout')(out)\n",
    "    out = nasnet.model.get_layer('dense')(out)\n",
    "    new_outputs.append(out)\n",
    "    new_inputs.append(inp)\n",
    "out = tf.keras.layers.Concatenate(axis=-1)(nasnet.model.outputs + new_outputs)\n",
    "out = tf.keras.layers.Dense(1, activation='sigmoid', kernel_regularizer=None)(out)\n",
    "new_model = tf.keras.Model(nasnet.model.inputs + new_inputs, out)\n",
    "new_model.load_weights(str(ckpt))'''"
   ]
  },
  {
   "cell_type": "code",
   "execution_count": null,
   "metadata": {
    "ExecuteTime": {
     "end_time": "2019-12-05T17:27:18.214474Z",
     "start_time": "2019-12-05T17:27:12.218316Z"
    }
   },
   "outputs": [],
   "source": [
    "# Modify NASNET into BatchContextNASNET\n",
    "def backend_reshape(x):\n",
    "    return K.reshape(x, (-1, 9))\n",
    "\n",
    "out = nasnet.model.get_layer('dense').output\n",
    "out = tf.keras.layers.Lambda(backend_reshape, output_shape=(9,))(out)\n",
    "out = tf.keras.layers.Dense(1, activation='sigmoid', kernel_regularizer=None)(out)\n",
    "new_model = tf.keras.Model(nasnet.model.input, out)\n",
    "new_model.load_weights(str(ckpt))"
   ]
  },
  {
   "cell_type": "code",
   "execution_count": null,
   "metadata": {
    "ExecuteTime": {
     "end_time": "2019-12-05T17:27:18.239813Z",
     "start_time": "2019-12-05T17:27:18.235257Z"
    }
   },
   "outputs": [],
   "source": [
    "# Load default params for NASNet\n",
    "import json\n",
    "with (Path('.').resolve().parent / 'configs' / 'wsi.json').open('r') as json_in:\n",
    "    params = json.load(json_in)\n",
    "    \n",
    "# Checkpoint is from model trained on tiles from Level 1 and Context Size 3\n",
    "params['data']['level'] = 1\n",
    "params['data']['context_size'] = 3\n",
    "\n",
    "# Use smaller batch_size because the shape will become \n",
    "# (batch_size * context_size * context_size, input_shape, input_shape, channels)\n",
    "params['batch_size'] = 8\n"
   ]
  },
  {
   "cell_type": "code",
   "execution_count": null,
   "metadata": {
    "ExecuteTime": {
     "end_time": "2019-12-05T17:27:18.259709Z",
     "start_time": "2019-12-05T17:27:18.256955Z"
    }
   },
   "outputs": [],
   "source": [
    "# Create datasource with the test image TP-2019_2623-12-1.gz\n",
    "test_ds = DataSource()\n",
    "test_ds.coord_maps = [Path('/home/matejg/Project/crc_ml/data/processed/Prostata/level1/context3/t96px/all/coord_maps/TP-2019_2623-12-1.gz')]"
   ]
  },
  {
   "cell_type": "code",
   "execution_count": null,
   "metadata": {
    "ExecuteTime": {
     "end_time": "2019-12-05T17:28:15.477666Z",
     "start_time": "2019-12-05T17:28:15.470470Z"
    }
   },
   "outputs": [],
   "source": [
    "df = pd.read_pickle('/home/matejg/Project/crc_ml/data/processed/Prostata/level1/context3/t96px/all/coord_maps/TP-2019_2623-12-1.gz')\n",
    "len(df)"
   ]
  },
  {
   "cell_type": "code",
   "execution_count": null,
   "metadata": {
    "ExecuteTime": {
     "end_time": "2019-12-05T17:28:41.378175Z",
     "start_time": "2019-12-05T17:28:41.374070Z"
    }
   },
   "outputs": [],
   "source": [
    "-(-10545 // 8)"
   ]
  },
  {
   "cell_type": "code",
   "execution_count": null,
   "metadata": {
    "ExecuteTime": {
     "end_time": "2019-12-05T17:27:19.134015Z",
     "start_time": "2019-12-05T17:27:18.299262Z"
    }
   },
   "outputs": [],
   "source": [
    "# Create datagen and obtain sequential generator\n",
    "datagen = WSIDatagen(**params['data'], slide_dir=SLIDE_DIR, batch_size=params['batch_size'])\n",
    "test_gen = datagen.get_sequential_generator((96,96), test_ds)"
   ]
  },
  {
   "cell_type": "code",
   "execution_count": null,
   "metadata": {
    "ExecuteTime": {
     "end_time": "2019-12-05T17:27:19.531449Z",
     "start_time": "2019-12-05T17:27:19.153348Z"
    }
   },
   "outputs": [],
   "source": [
    "# Test - make sure the input data are correct\n",
    "#\n",
    "# Every 9 consecutive images corresponds to a same macrotile\n",
    "#\n",
    "# The order is: LT, T, RT, L, C, R, BL, B, BR\n",
    "# (L - left, R - Right, T - Top, B - Bottom, C - Center)\n",
    "X, y = test_gen[0]\n",
    "print(X.shape)"
   ]
  },
  {
   "cell_type": "code",
   "execution_count": null,
   "metadata": {
    "ExecuteTime": {
     "end_time": "2019-12-05T17:37:46.769678Z",
     "start_time": "2019-12-05T17:29:43.058166Z"
    }
   },
   "outputs": [],
   "source": [
    "# Make predictions for the Center images\n",
    "res = new_model.predict_generator(test_gen, verbose=1)"
   ]
  },
  {
   "cell_type": "code",
   "execution_count": null,
   "metadata": {
    "ExecuteTime": {
     "end_time": "2019-12-04T16:32:26.165966Z",
     "start_time": "2019-12-04T16:32:26.145257Z"
    }
   },
   "outputs": [],
   "source": [
    "# Threshold predictions and save them to df\n",
    "threshold = 0.5\n",
    "df = pd.read_pickle(Path('/home/matejg/Project/crc_ml/data/processed/Prostata/level1/context3/t96px/all/coord_maps/TP-2019_2623-12-1.gz'))\n",
    "df['predict'] = (res >= threshold).astype(np.int)\n",
    "\n",
    "# Calculate metrics for given thresholded results\n",
    "trues = df[df['tumor_tile'] == 1] \n",
    "TP = sum(trues['tumor_tile'] == trues['predict'])\n",
    "FN = sum(trues['tumor_tile'] != trues['predict'])\n",
    "\n",
    "falses = df[df['tumor_tile'] == 0] \n",
    "TN = sum(falses['tumor_tile'] == falses['predict'])\n",
    "FP = sum(falses['tumor_tile'] != falses['predict'])\n",
    "\n",
    "print('True positive:   {}\\nTrue negatives:  {}\\nFalse positive:  {}\\nFalse negatives: {}\\n'.format(TP,TN,FP,FN))\n",
    "\n",
    "prec = TP / (TP + FP)\n",
    "recc = TP / (TP + FN)\n",
    "f1 = 2*prec*recc/(prec+recc)\n",
    "print('Precision: {:.2%}\\nRecall:    {:.2%}\\n'.format(prec, recc))\n",
    "\n",
    "from sklearn.metrics import roc_auc_score\n",
    "print('AUC@{:.1f}: {:.2%}'.format(threshold, roc_auc_score(df['tumor_tile'].ravel(), res.ravel())))"
   ]
  },
  {
   "cell_type": "code",
   "execution_count": null,
   "metadata": {},
   "outputs": [],
   "source": []
  }
 ],
 "metadata": {
  "kernelspec": {
   "display_name": "test",
   "language": "python",
   "name": "test"
  },
  "language_info": {
   "codemirror_mode": {
    "name": "ipython",
    "version": 3
   },
   "file_extension": ".py",
   "mimetype": "text/x-python",
   "name": "python",
   "nbconvert_exporter": "python",
   "pygments_lexer": "ipython3",
   "version": "3.5.3"
  },
  "toc": {
   "base_numbering": 1,
   "nav_menu": {},
   "number_sections": true,
   "sideBar": true,
   "skip_h1_title": false,
   "title_cell": "Table of Contents",
   "title_sidebar": "Contents",
   "toc_cell": false,
   "toc_position": {},
   "toc_section_display": true,
   "toc_window_display": false
  },
  "varInspector": {
   "cols": {
    "lenName": 16,
    "lenType": 16,
    "lenVar": 40
   },
   "kernels_config": {
    "python": {
     "delete_cmd_postfix": "",
     "delete_cmd_prefix": "del ",
     "library": "var_list.py",
     "varRefreshCmd": "print(var_dic_list())"
    },
    "r": {
     "delete_cmd_postfix": ") ",
     "delete_cmd_prefix": "rm(",
     "library": "var_list.r",
     "varRefreshCmd": "cat(var_dic_list()) "
    }
   },
   "types_to_exclude": [
    "module",
    "function",
    "builtin_function_or_method",
    "instance",
    "_Feature"
   ],
   "window_display": false
  }
 },
 "nbformat": 4,
 "nbformat_minor": 2
}
