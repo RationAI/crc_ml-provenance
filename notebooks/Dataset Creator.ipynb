{
 "cells": [
  {
   "cell_type": "code",
   "execution_count": 5,
   "metadata": {
    "ExecuteTime": {
     "end_time": "2020-01-28T13:18:33.904030Z",
     "start_time": "2020-01-28T13:18:33.900284Z"
    }
   },
   "outputs": [],
   "source": [
    "# Allow loading crc_ml scripts as modules\n",
    "import sys\n",
    "from pathlib import Path\n",
    "module_path = Path('.').resolve().parent\n",
    "if str(module_path) not in sys.path:\n",
    "    sys.path.append(str(module_path))"
   ]
  },
  {
   "cell_type": "code",
   "execution_count": null,
   "metadata": {
    "ExecuteTime": {
     "end_time": "2020-01-29T10:10:49.397929Z",
     "start_time": "2020-01-29T10:10:49.363537Z"
    }
   },
   "outputs": [],
   "source": [
    "try:\n",
    "    f1 = h5py.File('/home/matejg/Project/crc_ml/data/processed/Prostata/level1/context3/t96px/all/datasets/1580219315.h5', 'r')\n",
    "    f2 = h5py.File('/home/matejg/Project/crc_ml/data/processed/Prostata/level1/context3/t96px/all/datasets/1579708625.h5', 'r')\n",
    "\n",
    "    s1 = f1['train'][:]\n",
    "    s2 = f2['train'][:]\n",
    "    s = np.setdiff1d(s1, s2, assume_unique=True)\n",
    "\n",
    "    fw = h5py.File('/home/matejg/Project/crc_ml/data/processed/Prostata/level1/context3/t96px/all/datasets/prospective.h5', 'w')\n",
    "    fw['train'] = s\n",
    "    fw['test'] = f1['test'][:]\n",
    "\n",
    "    for k,v in f1.attrs.items():\n",
    "        if k not in ['ref_size', 'center_size']:\n",
    "            try:\n",
    "                fw.attrs.create(k, v, (), np.uint8)\n",
    "            except ValueError:\n",
    "                fw.attrs.create(k, v, (), h5py.special_dtype(vlen=str))\n",
    "    fw.attrs.create('context_size', 3, (), np.uint8)\n",
    "    \n",
    "finally:\n",
    "    fw.close()\n",
    "    f1.close()\n",
    "    f2.close()"
   ]
  },
  {
   "cell_type": "code",
   "execution_count": 139,
   "metadata": {
    "ExecuteTime": {
     "end_time": "2020-01-29T10:12:02.057246Z",
     "start_time": "2020-01-29T10:12:02.053346Z"
    }
   },
   "outputs": [
    {
     "name": "stdout",
     "output_type": "stream",
     "text": [
      "ItemsViewHDF5(<Attributes of HDF5 object at 139782937799408>)\n"
     ]
    }
   ],
   "source": [
    "with h5py.File('/home/matejg/Project/crc_ml/data/processed/Prostata/level1/context3/t96px/all/datasets/prospective.h5', 'r') as f:\n",
    "    print(f.attrs.items())"
   ]
  }
 ],
 "metadata": {
  "kernelspec": {
   "display_name": "test",
   "language": "python",
   "name": "test"
  },
  "language_info": {
   "codemirror_mode": {
    "name": "ipython",
    "version": 3
   },
   "file_extension": ".py",
   "mimetype": "text/x-python",
   "name": "python",
   "nbconvert_exporter": "python",
   "pygments_lexer": "ipython3",
   "version": "3.5.3"
  },
  "toc": {
   "base_numbering": 1,
   "nav_menu": {},
   "number_sections": true,
   "sideBar": true,
   "skip_h1_title": false,
   "title_cell": "Table of Contents",
   "title_sidebar": "Contents",
   "toc_cell": false,
   "toc_position": {},
   "toc_section_display": true,
   "toc_window_display": false
  },
  "varInspector": {
   "cols": {
    "lenName": 16,
    "lenType": 16,
    "lenVar": 40
   },
   "kernels_config": {
    "python": {
     "delete_cmd_postfix": "",
     "delete_cmd_prefix": "del ",
     "library": "var_list.py",
     "varRefreshCmd": "print(var_dic_list())"
    },
    "r": {
     "delete_cmd_postfix": ") ",
     "delete_cmd_prefix": "rm(",
     "library": "var_list.r",
     "varRefreshCmd": "cat(var_dic_list()) "
    }
   },
   "types_to_exclude": [
    "module",
    "function",
    "builtin_function_or_method",
    "instance",
    "_Feature"
   ],
   "window_display": false
  }
 },
 "nbformat": 4,
 "nbformat_minor": 2
}
