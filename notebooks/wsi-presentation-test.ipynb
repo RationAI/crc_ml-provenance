{
 "cells": [
  {
   "cell_type": "code",
   "execution_count": 1,
   "metadata": {
    "ExecuteTime": {
     "end_time": "2020-03-23T12:27:58.107240Z",
     "start_time": "2020-03-23T12:27:58.100962Z"
    }
   },
   "outputs": [],
   "source": [
    "import os\n",
    "os.environ['CUDA_VISIBLE_DEVICES'] = '1'"
   ]
  },
  {
   "cell_type": "code",
   "execution_count": 2,
   "metadata": {
    "ExecuteTime": {
     "end_time": "2020-03-23T12:27:58.697920Z",
     "start_time": "2020-03-23T12:27:58.689775Z"
    }
   },
   "outputs": [],
   "source": [
    "import sys\n",
    "from pathlib import Path\n",
    "module_path = Path('.').resolve().parent\n",
    "if str(module_path) not in sys.path:\n",
    "    sys.path.append(str(module_path))"
   ]
  },
  {
   "cell_type": "code",
   "execution_count": 3,
   "metadata": {
    "ExecuteTime": {
     "end_time": "2020-03-23T12:27:59.208124Z",
     "start_time": "2020-03-23T12:27:59.199824Z"
    }
   },
   "outputs": [],
   "source": [
    "config = {\n",
    "    'data': {\n",
    "        'meta': {\n",
    "            'context_size': 3\n",
    "        }\n",
    "    },\n",
    "    'model': {\n",
    "        'input_shape': tuple([96,96,3]),\n",
    "        'trainable': True,\n",
    "        'output_size': 1,\n",
    "        'l1_reg': None,\n",
    "        'l2_reg': None,\n",
    "        'checkpoint': None,\n",
    "        'dropout': 0.5\n",
    "    }\n",
    "}"
   ]
  },
  {
   "cell_type": "code",
   "execution_count": 4,
   "metadata": {
    "ExecuteTime": {
     "end_time": "2020-03-23T12:28:42.943834Z",
     "start_time": "2020-03-23T12:27:59.720308Z"
    }
   },
   "outputs": [
    {
     "name": "stdout",
     "output_type": "stream",
     "text": [
      "WARNING:tensorflow:From /mnt/data/home/matejg/.virtualenvs/crc_ml_common/lib/python3.7/site-packages/tensorflow_core/python/ops/resource_variable_ops.py:1630: calling BaseResourceVariable.__init__ (from tensorflow.python.ops.resource_variable_ops) with constraint is deprecated and will be removed in a future version.\n",
      "Instructions for updating:\n",
      "If using Keras pass *_constraint arguments to layers.\n",
      "Model: \"model\"\n",
      "__________________________________________________________________________________________________\n",
      "Layer (type)                    Output Shape         Param #     Connected to                     \n",
      "==================================================================================================\n",
      "input_1 (InputLayer)            [(None, 9, 96, 96, 3 0                                            \n",
      "__________________________________________________________________________________________________\n",
      "lambda (Lambda)                 (None, 96, 96, 3)    0           input_1[0][0]                    \n",
      "__________________________________________________________________________________________________\n",
      "NASNet (Model)                  (None, 3, 3, 1056)   4269716     lambda[0][0]                     \n",
      "__________________________________________________________________________________________________\n",
      "global_average_pooling2d (Globa (None, 1056)         0           NASNet[1][0]                     \n",
      "__________________________________________________________________________________________________\n",
      "global_max_pooling2d (GlobalMax (None, 1056)         0           NASNet[1][0]                     \n",
      "__________________________________________________________________________________________________\n",
      "flatten (Flatten)               (None, 9504)         0           NASNet[1][0]                     \n",
      "__________________________________________________________________________________________________\n",
      "GAP2D_Dense (Dense)             (None, 256)          270592      global_average_pooling2d[0][0]   \n",
      "__________________________________________________________________________________________________\n",
      "GMP2D_Dense (Dense)             (None, 256)          270592      global_max_pooling2d[0][0]       \n",
      "__________________________________________________________________________________________________\n",
      "Flatten_Dense (Dense)           (None, 512)          4866560     flatten[0][0]                    \n",
      "__________________________________________________________________________________________________\n",
      "concatenate_4 (Concatenate)     (None, 1024)         0           GAP2D_Dense[0][0]                \n",
      "                                                                 GMP2D_Dense[0][0]                \n",
      "                                                                 Flatten_Dense[0][0]              \n",
      "__________________________________________________________________________________________________\n",
      "Unpack_Layer (Lambda)           (None, 9216)         0           concatenate_4[0][0]              \n",
      "__________________________________________________________________________________________________\n",
      "Output_Dense (Dense)            (None, 1)            9217        Unpack_Layer[0][0]               \n",
      "==================================================================================================\n",
      "Total params: 9,686,677\n",
      "Trainable params: 9,649,939\n",
      "Non-trainable params: 36,738\n",
      "__________________________________________________________________________________________________\n"
     ]
    }
   ],
   "source": [
    "from src.training.models import BatchContextNASNetModel\n",
    "model = BatchContextNASNetModel(config)\n",
    "model.model.summary()"
   ]
  },
  {
   "cell_type": "code",
   "execution_count": 7,
   "metadata": {
    "ExecuteTime": {
     "end_time": "2020-03-23T12:31:26.723848Z",
     "start_time": "2020-03-23T12:31:26.715542Z"
    }
   },
   "outputs": [],
   "source": [
    "config['model']['input_shape'] = (288,288,3)\n",
    "config['data']['meta']['context_size'] = 1"
   ]
  },
  {
   "cell_type": "code",
   "execution_count": 8,
   "metadata": {
    "ExecuteTime": {
     "end_time": "2020-03-23T12:32:02.400251Z",
     "start_time": "2020-03-23T12:31:27.032409Z"
    }
   },
   "outputs": [
    {
     "name": "stdout",
     "output_type": "stream",
     "text": [
      "Model: \"model_2\"\n",
      "__________________________________________________________________________________________________\n",
      "Layer (type)                    Output Shape         Param #     Connected to                     \n",
      "==================================================================================================\n",
      "input_3 (InputLayer)            [(None, 288, 288, 3) 0                                            \n",
      "__________________________________________________________________________________________________\n",
      "NASNet (Model)                  (None, 9, 9, 1056)   4269716     input_3[0][0]                    \n",
      "__________________________________________________________________________________________________\n",
      "global_max_pooling2d_2 (GlobalM (None, 1056)         0           NASNet[1][0]                     \n",
      "__________________________________________________________________________________________________\n",
      "global_average_pooling2d_2 (Glo (None, 1056)         0           NASNet[1][0]                     \n",
      "__________________________________________________________________________________________________\n",
      "flatten_2 (Flatten)             (None, 85536)        0           NASNet[1][0]                     \n",
      "__________________________________________________________________________________________________\n",
      "concatenate_14 (Concatenate)    (None, 87648)        0           global_max_pooling2d_2[0][0]     \n",
      "                                                                 global_average_pooling2d_2[0][0] \n",
      "                                                                 flatten_2[0][0]                  \n",
      "__________________________________________________________________________________________________\n",
      "dropout_1 (Dropout)             (None, 87648)        0           concatenate_14[0][0]             \n",
      "__________________________________________________________________________________________________\n",
      "dense_1 (Dense)                 (None, 1)            87649       dropout_1[0][0]                  \n",
      "==================================================================================================\n",
      "Total params: 4,357,365\n",
      "Trainable params: 4,320,627\n",
      "Non-trainable params: 36,738\n",
      "__________________________________________________________________________________________________\n"
     ]
    }
   ],
   "source": [
    "from src.training.models import NASNetModel\n",
    "model = NASNetModel(config)\n",
    "model.model.summary()"
   ]
  },
  {
   "cell_type": "code",
   "execution_count": null,
   "metadata": {},
   "outputs": [],
   "source": []
  }
 ],
 "metadata": {
  "kernelspec": {
   "display_name": "crc_ml_common",
   "language": "python",
   "name": "crc_ml_common"
  },
  "language_info": {
   "codemirror_mode": {
    "name": "ipython",
    "version": 3
   },
   "file_extension": ".py",
   "mimetype": "text/x-python",
   "name": "python",
   "nbconvert_exporter": "python",
   "pygments_lexer": "ipython3",
   "version": "3.7.3"
  },
  "toc": {
   "base_numbering": 1,
   "nav_menu": {},
   "number_sections": true,
   "sideBar": true,
   "skip_h1_title": false,
   "title_cell": "Table of Contents",
   "title_sidebar": "Contents",
   "toc_cell": false,
   "toc_position": {},
   "toc_section_display": true,
   "toc_window_display": false
  },
  "varInspector": {
   "cols": {
    "lenName": 16,
    "lenType": 16,
    "lenVar": 40
   },
   "kernels_config": {
    "python": {
     "delete_cmd_postfix": "",
     "delete_cmd_prefix": "del ",
     "library": "var_list.py",
     "varRefreshCmd": "print(var_dic_list())"
    },
    "r": {
     "delete_cmd_postfix": ") ",
     "delete_cmd_prefix": "rm(",
     "library": "var_list.r",
     "varRefreshCmd": "cat(var_dic_list()) "
    }
   },
   "types_to_exclude": [
    "module",
    "function",
    "builtin_function_or_method",
    "instance",
    "_Feature"
   ],
   "window_display": false
  }
 },
 "nbformat": 4,
 "nbformat_minor": 2
}
