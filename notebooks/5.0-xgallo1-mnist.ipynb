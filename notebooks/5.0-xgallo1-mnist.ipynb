{
 "cells": [
  {
   "cell_type": "code",
   "execution_count": 49,
   "metadata": {},
   "outputs": [],
   "source": [
    "import tensorflow as tf\n",
    "from sklearn.model_selection import train_test_split\n",
    "import numpy as np"
   ]
  },
  {
   "cell_type": "code",
   "execution_count": 32,
   "metadata": {},
   "outputs": [],
   "source": [
    "(train_X, train_y), (test_X, test_y) = tf.keras.datasets.mnist.load_data()"
   ]
  },
  {
   "cell_type": "code",
   "execution_count": 29,
   "metadata": {},
   "outputs": [],
   "source": [
    "total_size = train_X.shape[0]\n",
    "seed = 2\n",
    "ratio = 0.2\n",
    "validation_size = int(total_size * ratio)"
   ]
  },
  {
   "cell_type": "code",
   "execution_count": 30,
   "metadata": {},
   "outputs": [],
   "source": [
    "ds = tf.data.Dataset.from_tensor_slices((train_X, train_y))\n",
    "ds = ds.shuffle(buffer_size=total_size, seed=2)\n",
    "valid_ds = ds.take(validation_size)\n",
    "train_ds = ds.skip(validation_size)\n",
    "del ds\n",
    "test_ds = tf.data.Dataset.from_tensor_slices((test_X, test_y))\n",
    "del train_X, train_y, test_X, test_y"
   ]
  },
  {
   "cell_type": "code",
   "execution_count": 31,
   "metadata": {},
   "outputs": [],
   "source": [
    "train_ds = train_ds.apply(\n",
    "        tf.data.experimental.shuffle_and_repeat(buffer_size=total_size, seed=seed)\n",
    "    )"
   ]
  },
  {
   "cell_type": "code",
   "execution_count": 44,
   "metadata": {},
   "outputs": [],
   "source": [
    "train, test = tf.keras.datasets.mnist.load_data()\n",
    "train_X, train_y, valid_X, valid_y = train_test_split(*train, test_size=ratio, random_state=seed, shuffle=True, stratify=None)"
   ]
  },
  {
   "cell_type": "code",
   "execution_count": 45,
   "metadata": {},
   "outputs": [],
   "source": [
    "a = [[0.1, 0.1, 0.5, 0.3],\n",
    "     [0.9, 0.05, 0.025, 0.025],\n",
    "     [0.3, 0.3, 0.4, 0.0]]"
   ]
  },
  {
   "cell_type": "code",
   "execution_count": 67,
   "metadata": {},
   "outputs": [
    {
     "name": "stdout",
     "output_type": "stream",
     "text": [
      "Tensor(\"Cast:0\", shape=(299, 299, 3), dtype=uint8)\n",
      "Tensor(\"resize/Squeeze:0\", shape=(28, 28, 3), dtype=float32)\n"
     ]
    }
   ],
   "source": [
    "tf.reset_default_graph()\n",
    "a = tf.cast(tf.random.uniform([299,299,3]), tf.uint8)\n",
    "print(a)\n",
    "w = 28\n",
    "a = tf.image.resize(a, [w,w])\n",
    "print(a)"
   ]
  }
 ],
 "metadata": {
  "kernelspec": {
   "display_name": "Python 3",
   "language": "python",
   "name": "python3"
  },
  "language_info": {
   "codemirror_mode": {
    "name": "ipython",
    "version": 3
   },
   "file_extension": ".py",
   "mimetype": "text/x-python",
   "name": "python",
   "nbconvert_exporter": "python",
   "pygments_lexer": "ipython3",
   "version": "3.5.3"
  }
 },
 "nbformat": 4,
 "nbformat_minor": 2
}
