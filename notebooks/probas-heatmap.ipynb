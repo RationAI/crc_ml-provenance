{
 "cells": [
  {
   "cell_type": "code",
   "execution_count": 1,
   "metadata": {
    "ExecuteTime": {
     "end_time": "2020-10-09T04:52:09.381616Z",
     "start_time": "2020-10-09T04:51:59.379329Z"
    }
   },
   "outputs": [],
   "source": [
    "import matplotlib.pyplot as plt\n",
    "from PIL import Image, ImageDraw\n",
    "Image.MAX_IMAGE_PIXELS = None\n",
    "import openslide as os\n",
    "import pandas as pd\n",
    "import json"
   ]
  },
  {
   "cell_type": "code",
   "execution_count": 2,
   "metadata": {
    "ExecuteTime": {
     "end_time": "2020-10-09T04:52:09.446347Z",
     "start_time": "2020-10-09T04:52:09.441149Z"
    }
   },
   "outputs": [],
   "source": [
    "# Be able to load python scripts\n",
    "import sys\n",
    "from pathlib import Path\n",
    "module_path = Path('.').resolve().parent\n",
    "if str(module_path) not in sys.path:\n",
    "    sys.path.append(str(module_path))"
   ]
  },
  {
   "cell_type": "code",
   "execution_count": 2,
   "metadata": {
    "ExecuteTime": {
     "end_time": "2020-10-11T08:35:59.460047Z",
     "start_time": "2020-10-11T08:35:59.345270Z"
    }
   },
   "outputs": [
    {
     "ename": "ModuleNotFoundError",
     "evalue": "No module named 'src'",
     "output_type": "error",
     "traceback": [
      "\u001b[0;31m---------------------------------------------------------------------------\u001b[0m",
      "\u001b[0;31mModuleNotFoundError\u001b[0m                       Traceback (most recent call last)",
      "\u001b[0;32m<ipython-input-2-16ab71fa2e26>\u001b[0m in \u001b[0;36m<module>\u001b[0;34m\u001b[0m\n\u001b[0;32m----> 1\u001b[0;31m \u001b[0;32mfrom\u001b[0m \u001b[0msrc\u001b[0m\u001b[0;34m.\u001b[0m\u001b[0mvisualization\u001b[0m\u001b[0;34m.\u001b[0m\u001b[0mvisualize\u001b[0m \u001b[0;32mimport\u001b[0m \u001b[0mdraw_heatmap_slide\u001b[0m\u001b[0;34m\u001b[0m\u001b[0;34m\u001b[0m\u001b[0m\n\u001b[0m\u001b[1;32m      2\u001b[0m \u001b[0;32mfrom\u001b[0m \u001b[0msrc\u001b[0m\u001b[0;34m.\u001b[0m\u001b[0mconfig\u001b[0m \u001b[0;32mimport\u001b[0m \u001b[0mSLIDE_DIR\u001b[0m\u001b[0;34m,\u001b[0m \u001b[0mRESULT_DIR\u001b[0m\u001b[0;34m,\u001b[0m \u001b[0mANNOT_DIR\u001b[0m\u001b[0;34m\u001b[0m\u001b[0;34m\u001b[0m\u001b[0m\n",
      "\u001b[0;31mModuleNotFoundError\u001b[0m: No module named 'src'"
     ]
    }
   ],
   "source": [
    "from src.visualization.visualize import draw_heatmap_slide\n",
    "from src.config import SLIDE_DIR, RESULT_DIR, ANNOT_DIR"
   ]
  },
  {
   "cell_type": "code",
   "execution_count": 4,
   "metadata": {
    "ExecuteTime": {
     "end_time": "2020-10-09T04:52:10.177414Z",
     "start_time": "2020-10-09T04:52:10.172354Z"
    }
   },
   "outputs": [],
   "source": [
    "EXPERIMENT_ID = 'BIG-TILE-0253-43ac-acbc-bbf75ff6a58f'\n",
    "NEW_EXPERIMENT_ID = 'IMAGE-RECONSTRUCTION-0000-0000-0000-bbf75ff6a58f'\n",
    "CENTER_SIZE = 256"
   ]
  },
  {
   "cell_type": "code",
   "execution_count": 5,
   "metadata": {
    "ExecuteTime": {
     "end_time": "2020-10-09T04:52:10.254165Z",
     "start_time": "2020-10-09T04:52:10.237493Z"
    }
   },
   "outputs": [],
   "source": [
    "# Create new directory for new experiment\n",
    "(RESULT_DIR / NEW_EXPERIMENT_ID).mkdir(exist_ok=True)\n",
    "(RESULT_DIR / NEW_EXPERIMENT_ID / 'test' / 'figs').mkdir(exist_ok=True, parents=True)\n",
    "(RESULT_DIR / NEW_EXPERIMENT_ID / 'test' / 'probas').mkdir(exist_ok=True, parents=True)"
   ]
  },
  {
   "cell_type": "code",
   "execution_count": 6,
   "metadata": {
    "ExecuteTime": {
     "end_time": "2020-10-09T04:52:10.352661Z",
     "start_time": "2020-10-09T04:52:10.341869Z"
    }
   },
   "outputs": [],
   "source": [
    "# Load summary.json\n",
    "with (RESULT_DIR / EXPERIMENT_ID / 'summary.json').open('r') as summary_json_fp:\n",
    "    summary_json = json.load(summary_json_fp)\n",
    "    \n",
    "# Get needed data from summary.json\n",
    "tile_size = summary_json['params']['data']['meta']['tile_size']\n",
    "scaling = 2**summary_json['params']['data']['meta']['level']"
   ]
  },
  {
   "cell_type": "code",
   "execution_count": null,
   "metadata": {
    "ExecuteTime": {
     "end_time": "2020-10-09T08:36:56.403075Z",
     "start_time": "2020-10-09T04:52:10.480776Z"
    }
   },
   "outputs": [],
   "source": [
    "# Start transforming images\n",
    "total_idx = len(list(summary_json['test']['summary'].keys()))\n",
    "for cur_idx, test_slide in enumerate(summary_json['test']['summary']):\n",
    "    print('Processing {slide_name}   {cur_idx}/{total_idx}\\r'.format(slide_name=test_slide, cur_idx=cur_idx+1, total_idx=total_idx))\n",
    "    fig_fp = summary_json['test']['summary'][test_slide]['figures']['heatmap']\n",
    "    fig_fp = fig_fp.replace(EXPERIMENT_ID, NEW_EXPERIMENT_ID)\n",
    "    results_fp = summary_json['test']['summary'][test_slide]['results']\n",
    "    df = pd.read_csv(results_fp, sep=';', index_col=0)\n",
    "    \n",
    "    draw_heatmap_slide(slide_name=test_slide, slide_dir=SLIDE_DIR, level=0, \\\n",
    "                       tile_size=tile_size*scaling, \\\n",
    "                       probas=df, \\\n",
    "                       fig_filepath=fig_fp, \\\n",
    "                       center_size=CENTER_SIZE*scaling)"
   ]
  },
  {
   "cell_type": "code",
   "execution_count": null,
   "metadata": {
    "ExecuteTime": {
     "start_time": "2020-10-11T06:57:53.898Z"
    }
   },
   "outputs": [],
   "source": []
  },
  {
   "cell_type": "code",
   "execution_count": null,
   "metadata": {},
   "outputs": [],
   "source": []
  }
 ],
 "metadata": {
  "kernelspec": {
   "display_name": "crc_ml_common",
   "language": "python",
   "name": "crc_ml_common"
  },
  "language_info": {
   "codemirror_mode": {
    "name": "ipython",
    "version": 3
   },
   "file_extension": ".py",
   "mimetype": "text/x-python",
   "name": "python",
   "nbconvert_exporter": "python",
   "pygments_lexer": "ipython3",
   "version": "3.7.3"
  },
  "toc": {
   "base_numbering": 1,
   "nav_menu": {},
   "number_sections": true,
   "sideBar": true,
   "skip_h1_title": false,
   "title_cell": "Table of Contents",
   "title_sidebar": "Contents",
   "toc_cell": false,
   "toc_position": {},
   "toc_section_display": true,
   "toc_window_display": false
  },
  "varInspector": {
   "cols": {
    "lenName": 16,
    "lenType": 16,
    "lenVar": 40
   },
   "kernels_config": {
    "python": {
     "delete_cmd_postfix": "",
     "delete_cmd_prefix": "del ",
     "library": "var_list.py",
     "varRefreshCmd": "print(var_dic_list())"
    },
    "r": {
     "delete_cmd_postfix": ") ",
     "delete_cmd_prefix": "rm(",
     "library": "var_list.r",
     "varRefreshCmd": "cat(var_dic_list()) "
    }
   },
   "types_to_exclude": [
    "module",
    "function",
    "builtin_function_or_method",
    "instance",
    "_Feature"
   ],
   "window_display": false
  }
 },
 "nbformat": 4,
 "nbformat_minor": 2
}
