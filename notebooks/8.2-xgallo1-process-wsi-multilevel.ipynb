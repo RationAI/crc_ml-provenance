{
 "cells": [
  {
   "cell_type": "code",
   "execution_count": 2,
   "metadata": {
    "ExecuteTime": {
     "end_time": "2019-09-09T12:40:03.035584Z",
     "start_time": "2019-09-09T12:40:02.222675Z"
    }
   },
   "outputs": [],
   "source": [
    "from skimage.color import rgb2hsv\n",
    "from skimage.filters import gaussian\n",
    "import xml.etree.ElementTree as ET\n",
    "import matplotlib.pyplot as plt\n",
    "import openslide as os\n",
    "import pandas as pd\n",
    "import numpy as np\n",
    "import glob\n",
    "import math\n",
    "import cv2\n",
    "\n",
    "from pathlib import Path\n",
    "from collections import Counter\n",
    "from skimage import color, filters, morphology\n",
    "from PIL import Image, ImageDraw, ImageFilter\n",
    "Image.MAX_IMAGE_PIXELS = None\n",
    "from multiprocessing import Pool, cpu_count"
   ]
  },
  {
   "cell_type": "markdown",
   "metadata": {
    "code_folding": []
   },
   "source": [
    "# LOGGING #"
   ]
  },
  {
   "cell_type": "code",
   "execution_count": 3,
   "metadata": {
    "ExecuteTime": {
     "end_time": "2019-09-09T12:40:03.621492Z",
     "start_time": "2019-09-09T12:40:03.616646Z"
    },
    "code_folding": [
     5
    ]
   },
   "outputs": [],
   "source": [
    "import logging\n",
    "import datetime\n",
    "import sys\n",
    "\n",
    "\n",
    "def prepare_logger(logger, level=logging.DEBUG):\n",
    "    \n",
    "    def prepare_handler(handler):\n",
    "        handler.setLevel(level)\n",
    "        handler.setFormatter(formatter)\n",
    "        return handler\n",
    "\n",
    "    formatter = logging.Formatter(fmt='%(asctime)s | [%(levelname)s] %(message)s',\n",
    "                                  datefmt='%Y-%m-%d %H:%M:%S')\n",
    "\n",
    "    del logger.handlers[:]\n",
    "    logger.handlers.append(prepare_handler(logging.StreamHandler(sys.stderr)))\n",
    "\n",
    "    logger.setLevel(level=level)\n",
    "    return logger\n",
    "\n",
    "logg = logging.getLogger()\n",
    "logg = prepare_logger(logg)"
   ]
  },
  {
   "cell_type": "markdown",
   "metadata": {
    "code_folding": [
     0
    ]
   },
   "source": [
    "# ANNOTATION MASKING #"
   ]
  },
  {
   "cell_type": "code",
   "execution_count": 4,
   "metadata": {
    "ExecuteTime": {
     "end_time": "2019-09-09T12:40:05.403760Z",
     "start_time": "2019-09-09T12:40:05.396910Z"
    },
    "code_folding": [
     0,
     22
    ]
   },
   "outputs": [],
   "source": [
    "def read_polygons(annotation_filepath, scale_factor):\n",
    "    \"\"\"\n",
    "        Utility function to read an annotation XML file and create a list of vertices for\n",
    "        polygon delimiting the cancerous area.\n",
    "    \"\"\"\n",
    "    tumor_keywords = ['Metastasis', 'Carcinoma', 'Tumor', 'Rough tumor']\n",
    "    # Read cancer polygon area\n",
    "    polygons = []\n",
    "    root = ET.parse(str(annotation_filepath)).getroot()\n",
    "    for anno_tag in root.findall('Annotations/Annotation'):\n",
    "        polygon = []\n",
    "\n",
    "        if anno_tag.get('PartOfGroup') not in tumor_keywords:\n",
    "            continue\n",
    "\n",
    "        for coord in anno_tag.findall('Coordinates/Coordinate'):\n",
    "            polygon.append((float(coord.get('X')) / scale_factor,\n",
    "                            float(coord.get('Y')) / scale_factor))\n",
    "        polygons.append(polygon)\n",
    "    return polygons\n",
    "\n",
    "\n",
    "def create_annotation_mask(annot_file, size, scaling_factor=1):\n",
    "    \"\"\"\n",
    "        Creates a binary mask for the cancer area (white) from annotation file\n",
    "    \"\"\"\n",
    "    logg.info('Creating annotation mask.')\n",
    "    label_mask = Image.new(\n",
    "        'L', size=size, color='BLACK')\n",
    "    label_draw = ImageDraw.Draw(label_mask)\n",
    "    polygons = read_polygons(annot_file, scaling_factor)\n",
    "    for polygon in polygons:\n",
    "        label_draw.polygon(xy=polygon, outline=(255), fill=(255))\n",
    "    return label_mask"
   ]
  },
  {
   "cell_type": "markdown",
   "metadata": {
    "code_folding": [
     0
    ]
   },
   "source": [
    "# BACKGROUND MASKING #"
   ]
  },
  {
   "cell_type": "code",
   "execution_count": 5,
   "metadata": {
    "ExecuteTime": {
     "end_time": "2019-09-09T12:40:06.107594Z",
     "start_time": "2019-09-09T12:40:06.104163Z"
    },
    "code_folding": [
     0
    ]
   },
   "outputs": [],
   "source": [
    "def check_tile_background(tile):\n",
    "    \"\"\" \n",
    "        Camelyon style background filter.\n",
    "        Originally, the function should be applied on each tile individually. This, however, requires\n",
    "        that each tile be extracted and read from the slide.\n",
    "    \"\"\"\n",
    "    hsv_img = rgb2hsv(tile.convert('RGB'))\n",
    "    blurred_hsv_img = gaussian(hsv_img, multichannel=True)\n",
    "    return np.max(blurred_hsv_img[:, :, 1]) < 0.07"
   ]
  },
  {
   "cell_type": "markdown",
   "metadata": {
    "code_folding": [
     0,
     22,
     36
    ]
   },
   "source": [
    "# UTILITY FUNCTIONS #"
   ]
  },
  {
   "cell_type": "code",
   "execution_count": 6,
   "metadata": {
    "ExecuteTime": {
     "end_time": "2019-09-09T12:40:06.947676Z",
     "start_time": "2019-09-09T12:40:06.942598Z"
    },
    "code_folding": [
     0
    ]
   },
   "outputs": [],
   "source": [
    "def calculate_progress(y_coord, x_coord, slide_width, slide_height, center_size, old_percentage):\n",
    "    \"\"\"\n",
    "        Calculate progress as a ratio of processed slide area vs total slide area\n",
    "    \"\"\"\n",
    "    total = slide_height*slide_width\n",
    "    processed = (y_coord*slide_width + center_size*x_coord)\n",
    "    percentage = int(processed / total * 100)\n",
    "\n",
    "    if percentage > old_percentage:\n",
    "        print('Progress: {:3}%\\r'.format(percentage), end='')\n",
    "    \n",
    "    return percentage"
   ]
  },
  {
   "cell_type": "markdown",
   "metadata": {
    "code_folding": [
     0
    ]
   },
   "source": [
    "# MAIN CODE #"
   ]
  },
  {
   "cell_type": "code",
   "execution_count": null,
   "metadata": {
    "code_folding": [
     0
    ]
   },
   "outputs": [],
   "source": [
    "def process_wsi(slide_fn, annot_fn,                                   # FILE PATHS\n",
    "                center_size, margin_size,                             # TILE SPECIFICATIONS\n",
    "                tile_downsample=1,                                    # EXTRACTION PROPERTIES\n",
    "                background_threshold=0.2, cancer_threshold=1):        # THRESHOLDS\n",
    "    \"\"\"\n",
    "        Process each tile from WSI\n",
    "\n",
    "        1) Get handler for WSI slide\n",
    "        2) Create black & white annotation mask (WSI size)\n",
    "        3) Create black & white background mask (downsized)\n",
    "        4) For each column and row\n",
    "            4.1) Retrieve tile from scaled down background mask\n",
    "            4.2) If tile is NOT background, retrieve center of the tile from the annotation mask\n",
    "            4.3) Label and add it to the table\n",
    "    \"\"\"\n",
    "    percent = -1\n",
    "\n",
    "    tile_size = center_size + 2*margin_size\n",
    "\n",
    "    logg.info('Opening original slide')\n",
    "    slide = os.open_slide(slide_fn)\n",
    "\n",
    "    tile_level = slide.get_best_level_for_downsample(tile_downsample)\n",
    "    tile_downsample = slide.level_downsamples[tile_level]\n",
    "    slide_width, slide_height = slide.level_dimensions[tile_level]\n",
    "\n",
    "    logg.debug('Downsampled slide dimensions: (w:{}, h:{})'.format(\n",
    "        slide_width, slide_height))\n",
    "    logg.debug('Sampling level: {}'.format(tile_level))\n",
    "    logg.debug('Downsampling factor: {}'.format(tile_downsample))\n",
    "\n",
    "    annotation_mask = create_annotation_mask(\n",
    "        annot_fn, size=(slide_width, slide_height), scaling_factor=tile_downsample)\n",
    "\n",
    "    logg.info('Initializing offset map')\n",
    "    offset_map = {'row': [], 'col': [], 'class': []}\n",
    "\n",
    "    logg.info('Processing WSI tiles.')\n",
    "    for row, y_coord in enumerate(range(0, slide_height, center_size), 1):\n",
    "        for col, x_coord in enumerate(range(0, slide_width, center_size), 1):\n",
    "\n",
    "            # CALCULATE PROGRESS\n",
    "            percent = calculate_progress(\n",
    "                y_coord, x_coord, slide_width, slide_height, center_size, percent)\n",
    "\n",
    "            # BACKGROUND CHECK\n",
    "            # - retrieve tile from slide\n",
    "            tile = slide.read_region(location=(\n",
    "                x_coord*tile_downsample, y_coord*tile_downsample), level=tile_level, size=(tile_size, tile_size))\n",
    "            \n",
    "            \n",
    "            tile_mask = background_mask.crop((scale(x_coord), scale(y_coord),\n",
    "                                              scale(x_coord+tile_size), scale(y_coord+tile_size)))\n",
    "\n",
    "            # SKIP IF TILE IS BACKGROUND\n",
    "            if tissue_percent(np.array(tile_mask), scale(tile_size)) < background_threshold:\n",
    "                continue\n",
    "\n",
    "            # RETRIEVE CENTER REGION OF A TILE FROM CANCER MASK\n",
    "            tile_mask = annotation_mask.crop((x_coord+margin_size, y_coord+margin_size,\n",
    "                                              x_coord+margin_size+center_size, y_coord+margin_size+center_size))\n",
    "\n",
    "            # TILE IS CANCER IF AT LEAST 1 PIXEL IN CENTER IS CANCEROUS\n",
    "            class_ = 0\n",
    "            if np.count_nonzero(np.array(tile_mask)) >= cancer_threshold:\n",
    "                class_ = 1\n",
    "\n",
    "            offset_map['row'].append(row)\n",
    "            offset_map['col'].append(col)\n",
    "            offset_map['class'].append(class_)\n",
    "\n",
    "    offset_df = pd.DataFrame.from_dict(offset_map)\n",
    "    offset_df.set_index(['col', 'row'], inplace=True)\n",
    "    return offset_df"
   ]
  },
  {
   "cell_type": "markdown",
   "metadata": {
    "code_folding": []
   },
   "source": [
    "# MAIN LOGIC #"
   ]
  },
  {
   "cell_type": "code",
   "execution_count": null,
   "metadata": {
    "code_folding": [
     3,
     18
    ]
   },
   "outputs": [],
   "source": [
    "from multiprocessing import Pool\n",
    "\n",
    "\n",
    "def worker_task(slide_fn, annot_fn, output_fn, center_size, margin_size, level, downsample, background_threshold, cancer_threshold):\n",
    "    try:\n",
    "        logg.info(slide_fn)\n",
    "        offset_df = process_wsi(slide_fn=slide_fn, annot_fn=annot_fn,\n",
    "                                center_size=center_size, margin_size=margin_size,\n",
    "                                level=level, downsample=downsample, background_threshold=0.2,\n",
    "                                cancer_threshold=1)\n",
    "        logg.info('Retrieved {} tiles.'.format(len(offset_df)))\n",
    "        offset_df.to_pickle(output_fn, compression='gzip')\n",
    "        return True\n",
    "    except:\n",
    "        logg.error('Exception occurred for slide: {}'.format(slide_fn))\n",
    "        return False\n",
    "\n",
    "\n",
    "def main():\n",
    "    log = logging.getLogger()\n",
    "    log = prepare_logger(log, level=logging.INFO, filename_template=None)\n",
    "\n",
    "    level = 0\n",
    "    downsample = 32\n",
    "    center_size = 32\n",
    "    margin_size = 32\n",
    "    tile_size = center_size + 2*margin_size\n",
    "\n",
    "    DATASET_NAME = 'Mammy'\n",
    "\n",
    "    MRXS_DATASET = '/mnt/data/scans/AI scans/{ds_name}/'.format(\n",
    "        ds_name=DATASET_NAME)\n",
    "    ANNOT_DIR = '/home/matejg/rough/'\n",
    "    OUTPUT_DIR = Path(\n",
    "        '/home/matejg/wsi_maps/Mammy/level{level}/normal/'.format(level=level))\n",
    "\n",
    "    if not OUTPUT_DIR.exists():\n",
    "        logg.debug('Creating output directory.')\n",
    "        OUTPUT_DIR.mkdir(parents=True)\n",
    "\n",
    "    with Pool(processes=None) as pool:\n",
    "\n",
    "        for slide_fn in Path(MRXS_DATASET).glob('*.mrxs'):\n",
    "            annot_fn = (Path(ANNOT_DIR) / slide_fn.name).with_suffix('.xml')\n",
    "            output_fn = OUTPUT_DIR / '{slide_name}-level{level}-ds{downsample}-tile{tile_size}-center{center_size}.gz'.format(\n",
    "                slide_name=slide_fn.stem, level=level, downsample=downsample, tile_size=tile_size, center_size=center_size)\n",
    "\n",
    "            if annot_fn.exists():\n",
    "                pool.apply_async(worker_task, (str(slide_fn), str(annot_fn), str(\n",
    "                    output_fn), center_size, margin_size, level, downsample, background_threshold, cancer_threshold))\n",
    "            else:\n",
    "                logg.warning(\n",
    "                    '{} skipped. No annotation XML found.'.format(slide_fn.stem))"
   ]
  },
  {
   "cell_type": "markdown",
   "metadata": {},
   "source": [
    "# EXECUTOR #"
   ]
  },
  {
   "cell_type": "code",
   "execution_count": null,
   "metadata": {},
   "outputs": [],
   "source": [
    "if __name__ == '__main__':\n",
    "    main()"
   ]
  },
  {
   "cell_type": "markdown",
   "metadata": {},
   "source": [
    "# TESTING SPACE #"
   ]
  },
  {
   "cell_type": "code",
   "execution_count": 91,
   "metadata": {
    "ExecuteTime": {
     "end_time": "2019-08-27T10:50:11.454699Z",
     "start_time": "2019-08-27T10:49:59.516930Z"
    },
    "collapsed": true
   },
   "outputs": [
    {
     "data": {
      "text/plain": [
       "<matplotlib.image.AxesImage at 0x7f37cd25a320>"
      ]
     },
     "execution_count": 91,
     "metadata": {},
     "output_type": "execute_result"
    },
    {
     "name": "stderr",
     "output_type": "stream",
     "text": [
      "2019-08-27 12:50:07 | [DEBUG] update_title_pos\n",
      "2019-08-27 12:50:07 | [DEBUG] update_title_pos\n",
      "2019-08-27 12:50:08 | [DEBUG] update_title_pos\n",
      "2019-08-27 12:50:08 | [DEBUG] update_title_pos\n",
      "2019-08-27 12:50:08 | [DEBUG] update_title_pos\n",
      "2019-08-27 12:50:09 | [DEBUG] update_title_pos\n",
      "2019-08-27 12:50:09 | [DEBUG] update_title_pos\n",
      "2019-08-27 12:50:09 | [DEBUG] update_title_pos\n",
      "2019-08-27 12:50:10 | [DEBUG] update_title_pos\n",
      "2019-08-27 12:50:10 | [DEBUG] update_title_pos\n",
      "2019-08-27 12:50:10 | [DEBUG] update_title_pos\n",
      "2019-08-27 12:50:10 | [DEBUG] update_title_pos\n",
      "2019-08-27 12:50:10 | [DEBUG] update_title_pos\n",
      "2019-08-27 12:50:10 | [DEBUG] update_title_pos\n",
      "2019-08-27 12:50:10 | [DEBUG] update_title_pos\n",
      "2019-08-27 12:50:10 | [DEBUG] update_title_pos\n",
      "2019-08-27 12:50:10 | [DEBUG] update_title_pos\n",
      "2019-08-27 12:50:10 | [DEBUG] update_title_pos\n",
      "2019-08-27 12:50:10 | [DEBUG] update_title_pos\n",
      "2019-08-27 12:50:11 | [DEBUG] update_title_pos\n"
     ]
    },
    {
     "data": {
      "image/png": "[encoded data removed]",
      "text/plain": [
       "<Figure size 1440x1440 with 4 Axes>"
      ]
     },
     "metadata": {
      "needs_background": "light"
     },
     "output_type": "display_data"
    }
   ],
   "source": [
    "fig1 = plt.figure(figsize=(20,20))\n",
    "ax1 = fig1.add_subplot(2,2,1)\n",
    "ax1.imshow(slide_img)\n",
    "\n",
    "ax2 = fig1.add_subplot(2,2,2)\n",
    "ax2.imshow(mask)\n",
    "\n",
    "ax3 = fig1.add_subplot(2,2,3)\n",
    "ax3.imshow(breast_mask)\n",
    "\n",
    "ax4 = fig1.add_subplot(2,2,4)\n",
    "ax4.imshow(super_mask)"
   ]
  },
  {
   "cell_type": "code",
   "execution_count": 17,
   "metadata": {
    "ExecuteTime": {
     "end_time": "2019-09-09T13:06:45.707133Z",
     "start_time": "2019-09-09T13:06:45.692348Z"
    },
    "code_folding": [
     0,
     5,
     10,
     30,
     47,
     72,
     80
    ]
   },
   "outputs": [],
   "source": [
    "def create_dir(dir_path):\n",
    "    \"\"\" Creates a directory if does not exist already\"\"\"\n",
    "    if not dir_path.exists():\n",
    "        dir_path.mkdir(parents=True)\n",
    "\n",
    "def get_xml_dir(tissue_type, rough=False):\n",
    "    if tissue_type == 'Mammy':\n",
    "        return Path('/home/matejg/rough/')\n",
    "    return Path('/mnt/data/scans/AI scans/{}/'.format(tissue_type))\n",
    "     \n",
    "def create_bg_mask(slide, bg_level, disk=10):\n",
    "    logg.debug('Retrieving scaled down slide image.')\n",
    "    slide_img = slide.read_region(location=(0,0), level=bg_level, size=slide.level_dimensions[bg_level]).convert('RGB')   \n",
    "    logg.debug('Converting image to HSV.')\n",
    "    slide_hsv = color.rgb2hsv(slide_img)\n",
    "    logg.debug('Saturating')\n",
    "    saturation = slide_hsv[:,:,1]\n",
    "    logg.debug('Thresholding')\n",
    "    threshold = filters.threshold_otsu(saturation)\n",
    "    logg.debug('Thresholding saturation')\n",
    "    high_saturation = (saturation > threshold)\n",
    "    logg.debug('Creating disk')\n",
    "    disk_object = morphology.disk(disk)\n",
    "    logg.debug('Closing disk')\n",
    "    mask = morphology.closing(high_saturation, disk_object)\n",
    "    logg.debug('Opening disk')\n",
    "    mask = morphology.opening(mask, disk_object)\n",
    "    logg.debug('DONE')\n",
    "    return Image.fromarray(mask)    \n",
    "    \n",
    "def get_slide_level_info(slide, magnification, zero_magnification=20):\n",
    "    \n",
    "    if zero_magnification is None:\n",
    "        logg.debug('Zero magnification unspecificied. Reading from slide properties.')\n",
    "        zero_magnification = int(slide.properties['openslide.objective-power'])\n",
    "        \n",
    "    level = slide.get_best_level_for_downsample(zero_magnification / magnification)\n",
    "    scale_factor = slide.level_downsamples[level]\n",
    "    logg.debug('Level {} scaling: {}'.format(level, scale_factor))\n",
    "\n",
    "    bg_level = slide.get_best_level_for_downsample(zero_magnification / 1.25)\n",
    "    bg_scale_factor = slide.level_downsamples[bg_level]\n",
    "\n",
    "    logg.debug('BG Level {} scaling: {}'.format(bg_level, bg_scale_factor))\n",
    "    logg.debug('Effective scaling: {}'.format(bg_scale_factor / scale_factor))\n",
    "    return level, scale_factor, bg_level, bg_scale_factor\n",
    "\n",
    "def read_polygons(annotation_filepath, scale_factor, mark_tumor=True):\n",
    "    \"\"\"\n",
    "        Utility function to read an annotation XML file and create a list of vertices for\n",
    "        polygon delimiting the cancerous area.\n",
    "    \"\"\"    \n",
    "    if mark_tumor:\n",
    "        exclude_keywords = ['Breast', 'Rough not-tumor']\n",
    "    else:\n",
    "        exclude_keywords = ['Metastasis', 'Carcinoma', 'Tumor', 'Rough tumor'] \n",
    "        \n",
    "    # Read cancer polygon area\n",
    "    polygons = []\n",
    "    root = ET.parse(annotation_filepath).getroot()\n",
    "    for anno_tag in root.findall('Annotations/Annotation'):\n",
    "        polygon = []\n",
    "\n",
    "        if anno_tag.get('PartOfGroup') in exclude_keywords:\n",
    "            continue\n",
    "\n",
    "        for coord in anno_tag.findall('Coordinates/Coordinate'):\n",
    "            polygon.append((float(coord.get('X')) / scale_factor,\n",
    "                            float(coord.get('Y')) / scale_factor))\n",
    "        polygons.append(polygon)\n",
    "    return polygons\n",
    "\n",
    "def tissue_percent(tile_mask, tile_size):\n",
    "    \"\"\"\n",
    "        Calculates the fraction of non-black area vs total area in a mask\n",
    "    \"\"\"\n",
    "    ts_count = np.count_nonzero(tile_mask)\n",
    "    bg_count = tile_size*tile_size\n",
    "    return ts_count / bg_count\n",
    "\n",
    "def get_annotation_mask(annot_file, mark_tumor, size, scaling_factor=1, bg_color='WHITE', poly_color='BLACK'):\n",
    "    \"\"\"\n",
    "        Creates a binary mask for the cancer area (white) from annotation file\n",
    "    \"\"\"\n",
    "    logg.info('Creating {} mask.'.format('cancer' if mark_tumor else 'exclusion'))\n",
    "    label_mask = Image.new(\n",
    "        'L', size=size, color=bg_color)\n",
    "    label_draw = ImageDraw.Draw(label_mask)\n",
    "    polygons = read_polygons(annot_file, scaling_factor, mark_tumor)\n",
    "    for polygon in polygons:\n",
    "        label_draw.polygon(xy=polygon, outline=(poly_color), fill=(poly_color))\n",
    "    return label_mask"
   ]
  },
  {
   "cell_type": "code",
   "execution_count": 18,
   "metadata": {
    "ExecuteTime": {
     "end_time": "2019-09-09T13:06:46.376936Z",
     "start_time": "2019-09-09T13:06:46.364545Z"
    },
    "code_folding": [
     0,
     52
    ]
   },
   "outputs": [],
   "source": [
    "def get_bg_mask(slide, slide_name, base_dir, annot_xml_filepath, **kwargs):\n",
    "    \n",
    "    # Get slide info\n",
    "    _, _, bg_level, bg_scale_factor = get_slide_level_info(slide, magnification=10)\n",
    "    \n",
    "    # Create mask dir if does not exist \n",
    "    masks_dir = base_dir / 'level{bg_level}/masks/'.format(bg_level=bg_level)\n",
    "    create_dir(masks_dir)\n",
    "    \n",
    "    ### COMBINED BACKGROUND MASK PROCESS ###\n",
    "    final_bg_dir = masks_dir / 'bg_final'\n",
    "    final_bg_filepath = final_bg_dir / '{slide_name}.png'.format(slide_name=slide_name)\n",
    "    create_dir(final_bg_dir)\n",
    "    \n",
    "    if final_bg_filepath.exists():\n",
    "        logg.debug('Combined mask already exists. Loading from disk.')\n",
    "        combined_bg_mask = Image.open(str(final_bg_filepath))\n",
    "        return combined_bg_mask\n",
    "    \n",
    "    logg.debug('\\'{}\\' does not exists. Creating new.'.format(final_bg_filepath))\n",
    "    ### BACKGROUND MASK PROCESS ###\n",
    "    bg_mask_dir = masks_dir / 'bg_init'\n",
    "    bg_mask_filepath = bg_mask_dir / '{slide_name}-bg-level{bg_level}-hsv-otsu-disk{disk}-close-open.png'.format(slide_name=slide_name, bg_level=bg_level, disk=disk)\n",
    "    create_dir(bg_mask_dir)\n",
    "        \n",
    "    if bg_mask_filepath.exists():\n",
    "        logg.debug('Background mask already exists. Loading from disk.')\n",
    "        bg_mask = Image.open(str(bg_mask_filepath))\n",
    "    else:\n",
    "        bg_mask = create_bg_mask(slide, bg_level)\n",
    "        bg_mask.save(str(bg_mask_filepath), format='PNG')\n",
    "        \n",
    "    \n",
    "    \n",
    "    ### EXCLUSION MASK PROCESS ###\n",
    "    exclusion_dir = masks_dir / 'bg_exclude'\n",
    "    exclusion_filepath = exclusion_dir / '{slide_name}.png'.format(slide_name=slide_name)\n",
    "    create_dir(exclusion_dir)\n",
    "        \n",
    "    if exclusion_filepath.exists():\n",
    "        logg.debug('Exclusion mask already exists. Loading from disk.')\n",
    "        exclusion_mask = Image.open(str(exclusion_filepath))\n",
    "    else:\n",
    "        exclusion_mask = get_annotation_mask(str(annot_xml_filepath), mark_tumor=False, size=slide.level_dimensions[bg_level], scaling_factor=bg_scale_factor, bg_color='WHITE', poly_color='BLACK')\n",
    "        exclusion_mask.save(str(exclusion_filepath), format='PNG')\n",
    "    \n",
    "    \n",
    "    # Combine masks\n",
    "    combined_bg_mask = Image.fromarray(np.array(bg_mask) & np.array(exclusion_mask))\n",
    "    combined_bg_mask.save(str(final_bg_filepath), format='PNG')\n",
    "    return combined_bg_mask\n",
    "\n",
    "def get_cancer_mask(slide, slide_name, base_dir, annot_xml_filepath, **kwargs):\n",
    "    \n",
    "    # Get slide info\n",
    "    level, scale_factor, _, _ = get_slide_level_info(slide, magnification=10)\n",
    "    \n",
    "    # Create mask dir if does not exist \n",
    "    cancer_mask_dir = base_dir / 'level{level}/masks/annotations'.format(level=level)  \n",
    "    cancer_mask_filepath = cancer_mask_dir / '{slide_name}.png'.format(slide_name=slide_name)\n",
    "    \n",
    "    create_dir(cancer_mask_dir)\n",
    "        \n",
    "    if cancer_mask_filepath.exists():\n",
    "        logg.debug('Cancer mask already exists. Loading from disk.')\n",
    "        cancer_mask = Image.open(str(cancer_mask_filepath))\n",
    "    else:\n",
    "        cancer_mask = get_annotation_mask(str(annot_xml_filepath), mark_tumor=True, size=slide.level_dimensions[level], scaling_factor=scale_factor, bg_color='BLACK', poly_color='WHITE')\n",
    "        cancer_mask.save(str(cancer_mask_filepath), format='PNG')\n",
    "        \n",
    "    return cancer_mask"
   ]
  },
  {
   "cell_type": "code",
   "execution_count": 22,
   "metadata": {
    "ExecuteTime": {
     "end_time": "2019-09-09T15:25:45.533044Z",
     "start_time": "2019-09-09T14:26:58.603341Z"
    }
   },
   "outputs": [
    {
     "name": "stderr",
     "output_type": "stream",
     "text": [
      "2019-09-09 16:26:58 | [INFO] Processing: P-2019_2513-09-0\n",
      "2019-09-09 16:26:58 | [DEBUG] Level 1 scaling: 2.0\n",
      "2019-09-09 16:26:58 | [DEBUG] BG Level 4 scaling: 16.0\n",
      "2019-09-09 16:26:58 | [DEBUG] Effective scaling: 8.0\n",
      "2019-09-09 16:26:58 | [DEBUG] Level 1 scaling: 2.0\n",
      "2019-09-09 16:26:58 | [DEBUG] BG Level 4 scaling: 16.0\n",
      "2019-09-09 16:26:58 | [DEBUG] Effective scaling: 8.0\n",
      "2019-09-09 16:26:58 | [DEBUG] Combined mask already exists. Loading from disk.\n",
      "2019-09-09 16:26:58 | [DEBUG] STREAM b'IHDR' 16 13\n",
      "2019-09-09 16:26:58 | [DEBUG] STREAM b'IDAT' 41 65536\n",
      "2019-09-09 16:26:58 | [DEBUG] Level 1 scaling: 2.0\n",
      "2019-09-09 16:26:58 | [DEBUG] BG Level 4 scaling: 16.0\n",
      "2019-09-09 16:26:58 | [DEBUG] Effective scaling: 8.0\n",
      "2019-09-09 16:26:58 | [DEBUG] Cancer mask already exists. Loading from disk.\n",
      "2019-09-09 16:26:58 | [DEBUG] STREAM b'IHDR' 16 13\n",
      "2019-09-09 16:26:58 | [DEBUG] STREAM b'IDAT' 41 210368\n",
      "2019-09-09 16:26:58 | [INFO] Processing WSI tiles.\n"
     ]
    },
    {
     "name": "stdout",
     "output_type": "stream",
     "text": [
      "Progress:  99%\r"
     ]
    },
    {
     "name": "stderr",
     "output_type": "stream",
     "text": [
      "2019-09-09 16:27:20 | [INFO] Processing: P-2019_4624-14-0\n",
      "2019-09-09 16:27:20 | [DEBUG] Level 1 scaling: 2.0\n",
      "2019-09-09 16:27:20 | [DEBUG] BG Level 4 scaling: 16.0\n",
      "2019-09-09 16:27:20 | [DEBUG] Effective scaling: 8.0\n",
      "2019-09-09 16:27:20 | [DEBUG] Level 1 scaling: 2.0\n",
      "2019-09-09 16:27:20 | [DEBUG] BG Level 4 scaling: 16.0\n",
      "2019-09-09 16:27:20 | [DEBUG] Effective scaling: 8.0\n",
      "2019-09-09 16:27:20 | [DEBUG] Combined mask already exists. Loading from disk.\n",
      "2019-09-09 16:27:20 | [DEBUG] STREAM b'IHDR' 16 13\n",
      "2019-09-09 16:27:20 | [DEBUG] STREAM b'IDAT' 41 65536\n",
      "2019-09-09 16:27:20 | [DEBUG] Level 1 scaling: 2.0\n",
      "2019-09-09 16:27:20 | [DEBUG] BG Level 4 scaling: 16.0\n",
      "2019-09-09 16:27:20 | [DEBUG] Effective scaling: 8.0\n",
      "2019-09-09 16:27:20 | [DEBUG] Cancer mask already exists. Loading from disk.\n",
      "2019-09-09 16:27:20 | [DEBUG] STREAM b'IHDR' 16 13\n",
      "2019-09-09 16:27:20 | [DEBUG] STREAM b'IDAT' 41 210368\n",
      "2019-09-09 16:27:20 | [INFO] Processing WSI tiles.\n"
     ]
    },
    {
     "name": "stdout",
     "output_type": "stream",
     "text": [
      "Progress:  99%\r"
     ]
    },
    {
     "name": "stderr",
     "output_type": "stream",
     "text": [
      "2019-09-09 16:27:42 | [INFO] Processing: P-2019_3928-11-0\n",
      "2019-09-09 16:27:42 | [DEBUG] Level 1 scaling: 2.0\n",
      "2019-09-09 16:27:42 | [DEBUG] BG Level 4 scaling: 16.0\n",
      "2019-09-09 16:27:42 | [DEBUG] Effective scaling: 8.0\n",
      "2019-09-09 16:27:42 | [DEBUG] Level 1 scaling: 2.0\n",
      "2019-09-09 16:27:42 | [DEBUG] BG Level 4 scaling: 16.0\n",
      "2019-09-09 16:27:42 | [DEBUG] Effective scaling: 8.0\n",
      "2019-09-09 16:27:42 | [DEBUG] Combined mask already exists. Loading from disk.\n",
      "2019-09-09 16:27:42 | [DEBUG] STREAM b'IHDR' 16 13\n",
      "2019-09-09 16:27:42 | [DEBUG] STREAM b'IDAT' 41 65536\n",
      "2019-09-09 16:27:42 | [DEBUG] Level 1 scaling: 2.0\n",
      "2019-09-09 16:27:42 | [DEBUG] BG Level 4 scaling: 16.0\n",
      "2019-09-09 16:27:42 | [DEBUG] Effective scaling: 8.0\n",
      "2019-09-09 16:27:42 | [DEBUG] Cancer mask already exists. Loading from disk.\n",
      "2019-09-09 16:27:42 | [DEBUG] STREAM b'IHDR' 16 13\n",
      "2019-09-09 16:27:42 | [DEBUG] STREAM b'IDAT' 41 210368\n",
      "2019-09-09 16:27:42 | [INFO] Processing WSI tiles.\n"
     ]
    },
    {
     "name": "stdout",
     "output_type": "stream",
     "text": [
      "Progress:  99%\r"
     ]
    },
    {
     "name": "stderr",
     "output_type": "stream",
     "text": [
      "2019-09-09 16:28:04 | [INFO] Processing: P-2019_3292-04-1\n",
      "2019-09-09 16:28:04 | [DEBUG] Level 1 scaling: 2.0\n",
      "2019-09-09 16:28:04 | [DEBUG] BG Level 4 scaling: 16.0\n",
      "2019-09-09 16:28:04 | [DEBUG] Effective scaling: 8.0\n",
      "2019-09-09 16:28:04 | [DEBUG] Level 1 scaling: 2.0\n",
      "2019-09-09 16:28:04 | [DEBUG] BG Level 4 scaling: 16.0\n",
      "2019-09-09 16:28:04 | [DEBUG] Effective scaling: 8.0\n",
      "2019-09-09 16:28:04 | [DEBUG] Combined mask already exists. Loading from disk.\n",
      "2019-09-09 16:28:04 | [DEBUG] STREAM b'IHDR' 16 13\n",
      "2019-09-09 16:28:04 | [DEBUG] STREAM b'IDAT' 41 65536\n",
      "2019-09-09 16:28:04 | [DEBUG] Level 1 scaling: 2.0\n",
      "2019-09-09 16:28:04 | [DEBUG] BG Level 4 scaling: 16.0\n",
      "2019-09-09 16:28:04 | [DEBUG] Effective scaling: 8.0\n",
      "2019-09-09 16:28:04 | [DEBUG] Cancer mask already exists. Loading from disk.\n",
      "2019-09-09 16:28:04 | [DEBUG] STREAM b'IHDR' 16 13\n",
      "2019-09-09 16:28:04 | [DEBUG] STREAM b'IDAT' 41 210368\n",
      "2019-09-09 16:28:04 | [INFO] Processing WSI tiles.\n"
     ]
    },
    {
     "name": "stdout",
     "output_type": "stream",
     "text": [
      "Progress:  98%\r"
     ]
    },
    {
     "name": "stderr",
     "output_type": "stream",
     "text": [
      "2019-09-09 16:28:27 | [INFO] Processing: P-2019_4002-05-0\n",
      "2019-09-09 16:28:27 | [DEBUG] Level 1 scaling: 2.0\n",
      "2019-09-09 16:28:27 | [DEBUG] BG Level 4 scaling: 16.0\n",
      "2019-09-09 16:28:27 | [DEBUG] Effective scaling: 8.0\n",
      "2019-09-09 16:28:27 | [DEBUG] Level 1 scaling: 2.0\n",
      "2019-09-09 16:28:27 | [DEBUG] BG Level 4 scaling: 16.0\n",
      "2019-09-09 16:28:27 | [DEBUG] Effective scaling: 8.0\n",
      "2019-09-09 16:28:27 | [DEBUG] Combined mask already exists. Loading from disk.\n",
      "2019-09-09 16:28:27 | [DEBUG] STREAM b'IHDR' 16 13\n",
      "2019-09-09 16:28:27 | [DEBUG] STREAM b'IDAT' 41 65536\n",
      "2019-09-09 16:28:27 | [DEBUG] Level 1 scaling: 2.0\n",
      "2019-09-09 16:28:27 | [DEBUG] BG Level 4 scaling: 16.0\n",
      "2019-09-09 16:28:27 | [DEBUG] Effective scaling: 8.0\n",
      "2019-09-09 16:28:27 | [DEBUG] Cancer mask already exists. Loading from disk.\n",
      "2019-09-09 16:28:27 | [DEBUG] STREAM b'IHDR' 16 13\n",
      "2019-09-09 16:28:27 | [DEBUG] STREAM b'IDAT' 41 210368\n",
      "2019-09-09 16:28:27 | [INFO] Processing WSI tiles.\n"
     ]
    },
    {
     "name": "stdout",
     "output_type": "stream",
     "text": [
      "Progress:  98%\r"
     ]
    },
    {
     "name": "stderr",
     "output_type": "stream",
     "text": [
      "2019-09-09 16:28:49 | [INFO] Processing: P-2019_4624-12-0\n",
      "2019-09-09 16:28:49 | [DEBUG] Level 1 scaling: 2.0\n",
      "2019-09-09 16:28:49 | [DEBUG] BG Level 4 scaling: 16.0\n",
      "2019-09-09 16:28:49 | [DEBUG] Effective scaling: 8.0\n",
      "2019-09-09 16:28:49 | [DEBUG] Level 1 scaling: 2.0\n",
      "2019-09-09 16:28:49 | [DEBUG] BG Level 4 scaling: 16.0\n",
      "2019-09-09 16:28:49 | [DEBUG] Effective scaling: 8.0\n",
      "2019-09-09 16:28:49 | [DEBUG] Combined mask already exists. Loading from disk.\n",
      "2019-09-09 16:28:49 | [DEBUG] STREAM b'IHDR' 16 13\n",
      "2019-09-09 16:28:49 | [DEBUG] STREAM b'IDAT' 41 65536\n",
      "2019-09-09 16:28:49 | [DEBUG] Level 1 scaling: 2.0\n",
      "2019-09-09 16:28:49 | [DEBUG] BG Level 4 scaling: 16.0\n",
      "2019-09-09 16:28:49 | [DEBUG] Effective scaling: 8.0\n",
      "2019-09-09 16:28:49 | [DEBUG] Cancer mask already exists. Loading from disk.\n",
      "2019-09-09 16:28:49 | [DEBUG] STREAM b'IHDR' 16 13\n",
      "2019-09-09 16:28:49 | [DEBUG] STREAM b'IDAT' 41 210368\n",
      "2019-09-09 16:28:49 | [INFO] Processing WSI tiles.\n"
     ]
    },
    {
     "name": "stdout",
     "output_type": "stream",
     "text": [
      "Progress:  99%\r"
     ]
    },
    {
     "name": "stderr",
     "output_type": "stream",
     "text": [
      "2019-09-09 16:29:12 | [INFO] Processing: P-2019_4007-05-1\n",
      "2019-09-09 16:29:12 | [DEBUG] Level 1 scaling: 2.0\n",
      "2019-09-09 16:29:12 | [DEBUG] BG Level 4 scaling: 16.0\n",
      "2019-09-09 16:29:12 | [DEBUG] Effective scaling: 8.0\n",
      "2019-09-09 16:29:12 | [DEBUG] Level 1 scaling: 2.0\n",
      "2019-09-09 16:29:12 | [DEBUG] BG Level 4 scaling: 16.0\n",
      "2019-09-09 16:29:12 | [DEBUG] Effective scaling: 8.0\n",
      "2019-09-09 16:29:12 | [DEBUG] Combined mask already exists. Loading from disk.\n",
      "2019-09-09 16:29:12 | [DEBUG] STREAM b'IHDR' 16 13\n",
      "2019-09-09 16:29:12 | [DEBUG] STREAM b'IDAT' 41 65536\n",
      "2019-09-09 16:29:12 | [DEBUG] Level 1 scaling: 2.0\n",
      "2019-09-09 16:29:12 | [DEBUG] BG Level 4 scaling: 16.0\n",
      "2019-09-09 16:29:12 | [DEBUG] Effective scaling: 8.0\n",
      "2019-09-09 16:29:12 | [DEBUG] Cancer mask already exists. Loading from disk.\n",
      "2019-09-09 16:29:12 | [DEBUG] STREAM b'IHDR' 16 13\n",
      "2019-09-09 16:29:12 | [DEBUG] STREAM b'IDAT' 41 210368\n",
      "2019-09-09 16:29:12 | [INFO] Processing WSI tiles.\n"
     ]
    },
    {
     "name": "stdout",
     "output_type": "stream",
     "text": [
      "Progress:  97%\r"
     ]
    },
    {
     "name": "stderr",
     "output_type": "stream",
     "text": [
      "2019-09-09 16:29:35 | [INFO] Processing: P-2019_3928-06-0\n",
      "2019-09-09 16:29:35 | [DEBUG] Level 1 scaling: 2.0\n",
      "2019-09-09 16:29:35 | [DEBUG] BG Level 4 scaling: 16.0\n",
      "2019-09-09 16:29:35 | [DEBUG] Effective scaling: 8.0\n",
      "2019-09-09 16:29:35 | [DEBUG] Level 1 scaling: 2.0\n",
      "2019-09-09 16:29:35 | [DEBUG] BG Level 4 scaling: 16.0\n",
      "2019-09-09 16:29:35 | [DEBUG] Effective scaling: 8.0\n",
      "2019-09-09 16:29:35 | [DEBUG] Combined mask already exists. Loading from disk.\n",
      "2019-09-09 16:29:35 | [DEBUG] STREAM b'IHDR' 16 13\n",
      "2019-09-09 16:29:35 | [DEBUG] STREAM b'IDAT' 41 65536\n",
      "2019-09-09 16:29:35 | [DEBUG] Level 1 scaling: 2.0\n",
      "2019-09-09 16:29:35 | [DEBUG] BG Level 4 scaling: 16.0\n",
      "2019-09-09 16:29:35 | [DEBUG] Effective scaling: 8.0\n",
      "2019-09-09 16:29:35 | [DEBUG] Cancer mask already exists. Loading from disk.\n",
      "2019-09-09 16:29:35 | [DEBUG] STREAM b'IHDR' 16 13\n",
      "2019-09-09 16:29:35 | [DEBUG] STREAM b'IDAT' 41 210368\n",
      "2019-09-09 16:29:35 | [INFO] Processing WSI tiles.\n"
     ]
    },
    {
     "name": "stdout",
     "output_type": "stream",
     "text": [
      "Progress:  99%\r"
     ]
    },
    {
     "name": "stderr",
     "output_type": "stream",
     "text": [
      "2019-09-09 16:29:58 | [INFO] Processing: P-2019_2233-12-0\n",
      "2019-09-09 16:29:58 | [DEBUG] Level 1 scaling: 2.0\n",
      "2019-09-09 16:29:58 | [DEBUG] BG Level 4 scaling: 16.0\n",
      "2019-09-09 16:29:58 | [DEBUG] Effective scaling: 8.0\n",
      "2019-09-09 16:29:58 | [DEBUG] Level 1 scaling: 2.0\n",
      "2019-09-09 16:29:58 | [DEBUG] BG Level 4 scaling: 16.0\n",
      "2019-09-09 16:29:58 | [DEBUG] Effective scaling: 8.0\n",
      "2019-09-09 16:29:58 | [DEBUG] Combined mask already exists. Loading from disk.\n",
      "2019-09-09 16:29:58 | [DEBUG] STREAM b'IHDR' 16 13\n",
      "2019-09-09 16:29:58 | [DEBUG] STREAM b'IDAT' 41 65536\n",
      "2019-09-09 16:29:58 | [DEBUG] Level 1 scaling: 2.0\n",
      "2019-09-09 16:29:58 | [DEBUG] BG Level 4 scaling: 16.0\n",
      "2019-09-09 16:29:58 | [DEBUG] Effective scaling: 8.0\n",
      "2019-09-09 16:29:58 | [DEBUG] Cancer mask already exists. Loading from disk.\n",
      "2019-09-09 16:29:58 | [DEBUG] STREAM b'IHDR' 16 13\n",
      "2019-09-09 16:29:58 | [DEBUG] STREAM b'IDAT' 41 210368\n",
      "2019-09-09 16:29:58 | [INFO] Processing WSI tiles.\n"
     ]
    },
    {
     "name": "stdout",
     "output_type": "stream",
     "text": [
      "Progress:  98%\r"
     ]
    },
    {
     "name": "stderr",
     "output_type": "stream",
     "text": [
      "2019-09-09 16:30:21 | [INFO] Processing: P-2019_2216-05-1\n",
      "2019-09-09 16:30:21 | [DEBUG] Level 1 scaling: 2.0\n",
      "2019-09-09 16:30:21 | [DEBUG] BG Level 4 scaling: 16.0\n",
      "2019-09-09 16:30:21 | [DEBUG] Effective scaling: 8.0\n",
      "2019-09-09 16:30:21 | [DEBUG] Level 1 scaling: 2.0\n",
      "2019-09-09 16:30:21 | [DEBUG] BG Level 4 scaling: 16.0\n",
      "2019-09-09 16:30:21 | [DEBUG] Effective scaling: 8.0\n",
      "2019-09-09 16:30:21 | [DEBUG] Combined mask already exists. Loading from disk.\n",
      "2019-09-09 16:30:21 | [DEBUG] STREAM b'IHDR' 16 13\n",
      "2019-09-09 16:30:21 | [DEBUG] STREAM b'IDAT' 41 65536\n",
      "2019-09-09 16:30:21 | [DEBUG] Level 1 scaling: 2.0\n",
      "2019-09-09 16:30:21 | [DEBUG] BG Level 4 scaling: 16.0\n",
      "2019-09-09 16:30:21 | [DEBUG] Effective scaling: 8.0\n",
      "2019-09-09 16:30:21 | [DEBUG] Cancer mask already exists. Loading from disk.\n",
      "2019-09-09 16:30:21 | [DEBUG] STREAM b'IHDR' 16 13\n",
      "2019-09-09 16:30:21 | [DEBUG] STREAM b'IDAT' 41 210368\n",
      "2019-09-09 16:30:21 | [INFO] Processing WSI tiles.\n"
     ]
    },
    {
     "name": "stdout",
     "output_type": "stream",
     "text": [
      "Progress:  99%\r"
     ]
    },
    {
     "name": "stderr",
     "output_type": "stream",
     "text": [
      "2019-09-09 16:30:45 | [INFO] Processing: P-2019_3672-09-1\n",
      "2019-09-09 16:30:45 | [DEBUG] Level 1 scaling: 2.0\n",
      "2019-09-09 16:30:45 | [DEBUG] BG Level 4 scaling: 16.0\n",
      "2019-09-09 16:30:45 | [DEBUG] Effective scaling: 8.0\n",
      "2019-09-09 16:30:45 | [DEBUG] Level 1 scaling: 2.0\n",
      "2019-09-09 16:30:45 | [DEBUG] BG Level 4 scaling: 16.0\n",
      "2019-09-09 16:30:45 | [DEBUG] Effective scaling: 8.0\n",
      "2019-09-09 16:30:45 | [DEBUG] Combined mask already exists. Loading from disk.\n",
      "2019-09-09 16:30:45 | [DEBUG] STREAM b'IHDR' 16 13\n",
      "2019-09-09 16:30:45 | [DEBUG] STREAM b'IDAT' 41 65536\n",
      "2019-09-09 16:30:45 | [DEBUG] Level 1 scaling: 2.0\n",
      "2019-09-09 16:30:45 | [DEBUG] BG Level 4 scaling: 16.0\n",
      "2019-09-09 16:30:45 | [DEBUG] Effective scaling: 8.0\n",
      "2019-09-09 16:30:45 | [DEBUG] Cancer mask already exists. Loading from disk.\n",
      "2019-09-09 16:30:45 | [DEBUG] STREAM b'IHDR' 16 13\n",
      "2019-09-09 16:30:45 | [DEBUG] STREAM b'IDAT' 41 210368\n",
      "2019-09-09 16:30:45 | [INFO] Processing WSI tiles.\n"
     ]
    },
    {
     "name": "stdout",
     "output_type": "stream",
     "text": [
      "Progress:  98%\r"
     ]
    },
    {
     "name": "stderr",
     "output_type": "stream",
     "text": [
      "2019-09-09 16:31:09 | [INFO] Processing: P-2019_2216-04-1\n",
      "2019-09-09 16:31:09 | [DEBUG] Level 1 scaling: 2.0\n",
      "2019-09-09 16:31:09 | [DEBUG] BG Level 4 scaling: 16.0\n",
      "2019-09-09 16:31:09 | [DEBUG] Effective scaling: 8.0\n",
      "2019-09-09 16:31:09 | [DEBUG] Level 1 scaling: 2.0\n",
      "2019-09-09 16:31:09 | [DEBUG] BG Level 4 scaling: 16.0\n",
      "2019-09-09 16:31:09 | [DEBUG] Effective scaling: 8.0\n",
      "2019-09-09 16:31:09 | [DEBUG] Combined mask already exists. Loading from disk.\n",
      "2019-09-09 16:31:09 | [DEBUG] STREAM b'IHDR' 16 13\n",
      "2019-09-09 16:31:09 | [DEBUG] STREAM b'IDAT' 41 65536\n",
      "2019-09-09 16:31:09 | [DEBUG] Level 1 scaling: 2.0\n",
      "2019-09-09 16:31:09 | [DEBUG] BG Level 4 scaling: 16.0\n",
      "2019-09-09 16:31:09 | [DEBUG] Effective scaling: 8.0\n",
      "2019-09-09 16:31:09 | [DEBUG] Cancer mask already exists. Loading from disk.\n",
      "2019-09-09 16:31:09 | [DEBUG] STREAM b'IHDR' 16 13\n",
      "2019-09-09 16:31:09 | [DEBUG] STREAM b'IDAT' 41 210368\n",
      "2019-09-09 16:31:09 | [INFO] Processing WSI tiles.\n"
     ]
    },
    {
     "name": "stdout",
     "output_type": "stream",
     "text": [
      "Progress:  99%\r"
     ]
    },
    {
     "name": "stderr",
     "output_type": "stream",
     "text": [
      "2019-09-09 16:31:32 | [INFO] Processing: P-2019_3928-10-0\n",
      "2019-09-09 16:31:32 | [DEBUG] Level 1 scaling: 2.0\n",
      "2019-09-09 16:31:32 | [DEBUG] BG Level 4 scaling: 16.0\n",
      "2019-09-09 16:31:32 | [DEBUG] Effective scaling: 8.0\n",
      "2019-09-09 16:31:32 | [DEBUG] Level 1 scaling: 2.0\n",
      "2019-09-09 16:31:32 | [DEBUG] BG Level 4 scaling: 16.0\n",
      "2019-09-09 16:31:32 | [DEBUG] Effective scaling: 8.0\n",
      "2019-09-09 16:31:32 | [DEBUG] Combined mask already exists. Loading from disk.\n",
      "2019-09-09 16:31:32 | [DEBUG] STREAM b'IHDR' 16 13\n",
      "2019-09-09 16:31:32 | [DEBUG] STREAM b'IDAT' 41 65536\n",
      "2019-09-09 16:31:32 | [DEBUG] Level 1 scaling: 2.0\n",
      "2019-09-09 16:31:32 | [DEBUG] BG Level 4 scaling: 16.0\n",
      "2019-09-09 16:31:32 | [DEBUG] Effective scaling: 8.0\n",
      "2019-09-09 16:31:32 | [DEBUG] Cancer mask already exists. Loading from disk.\n",
      "2019-09-09 16:31:32 | [DEBUG] STREAM b'IHDR' 16 13\n",
      "2019-09-09 16:31:32 | [DEBUG] STREAM b'IDAT' 41 210368\n",
      "2019-09-09 16:31:32 | [INFO] Processing WSI tiles.\n"
     ]
    },
    {
     "name": "stdout",
     "output_type": "stream",
     "text": [
      "Progress:  98%\r"
     ]
    },
    {
     "name": "stderr",
     "output_type": "stream",
     "text": [
      "2019-09-09 16:31:54 | [INFO] Processing: P-2019_2587-01-0\n",
      "2019-09-09 16:31:54 | [DEBUG] Level 1 scaling: 2.0\n",
      "2019-09-09 16:31:54 | [DEBUG] BG Level 4 scaling: 16.0\n",
      "2019-09-09 16:31:54 | [DEBUG] Effective scaling: 8.0\n",
      "2019-09-09 16:31:54 | [DEBUG] Level 1 scaling: 2.0\n",
      "2019-09-09 16:31:54 | [DEBUG] BG Level 4 scaling: 16.0\n",
      "2019-09-09 16:31:54 | [DEBUG] Effective scaling: 8.0\n",
      "2019-09-09 16:31:54 | [DEBUG] Combined mask already exists. Loading from disk.\n",
      "2019-09-09 16:31:54 | [DEBUG] STREAM b'IHDR' 16 13\n",
      "2019-09-09 16:31:54 | [DEBUG] STREAM b'IDAT' 41 65536\n",
      "2019-09-09 16:31:54 | [DEBUG] Level 1 scaling: 2.0\n",
      "2019-09-09 16:31:54 | [DEBUG] BG Level 4 scaling: 16.0\n",
      "2019-09-09 16:31:54 | [DEBUG] Effective scaling: 8.0\n",
      "2019-09-09 16:31:54 | [DEBUG] Cancer mask already exists. Loading from disk.\n",
      "2019-09-09 16:31:54 | [DEBUG] STREAM b'IHDR' 16 13\n",
      "2019-09-09 16:31:54 | [DEBUG] STREAM b'IDAT' 41 210368\n",
      "2019-09-09 16:31:54 | [INFO] Processing WSI tiles.\n"
     ]
    },
    {
     "name": "stdout",
     "output_type": "stream",
     "text": [
      "Progress:  98%\r"
     ]
    },
    {
     "name": "stderr",
     "output_type": "stream",
     "text": [
      "2019-09-09 16:32:16 | [INFO] Processing: P-2019_4353-04-1\n",
      "2019-09-09 16:32:16 | [DEBUG] Level 1 scaling: 2.0\n",
      "2019-09-09 16:32:16 | [DEBUG] BG Level 4 scaling: 16.0\n",
      "2019-09-09 16:32:16 | [DEBUG] Effective scaling: 8.0\n",
      "2019-09-09 16:32:16 | [DEBUG] Level 1 scaling: 2.0\n",
      "2019-09-09 16:32:16 | [DEBUG] BG Level 4 scaling: 16.0\n",
      "2019-09-09 16:32:16 | [DEBUG] Effective scaling: 8.0\n",
      "2019-09-09 16:32:16 | [DEBUG] Combined mask already exists. Loading from disk.\n",
      "2019-09-09 16:32:16 | [DEBUG] STREAM b'IHDR' 16 13\n",
      "2019-09-09 16:32:16 | [DEBUG] STREAM b'IDAT' 41 65536\n",
      "2019-09-09 16:32:16 | [DEBUG] Level 1 scaling: 2.0\n",
      "2019-09-09 16:32:16 | [DEBUG] BG Level 4 scaling: 16.0\n",
      "2019-09-09 16:32:16 | [DEBUG] Effective scaling: 8.0\n",
      "2019-09-09 16:32:16 | [DEBUG] Cancer mask already exists. Loading from disk.\n",
      "2019-09-09 16:32:16 | [DEBUG] STREAM b'IHDR' 16 13\n",
      "2019-09-09 16:32:16 | [DEBUG] STREAM b'IDAT' 41 210368\n",
      "2019-09-09 16:32:16 | [INFO] Processing WSI tiles.\n"
     ]
    },
    {
     "name": "stdout",
     "output_type": "stream",
     "text": [
      "Progress:  98%\r"
     ]
    },
    {
     "name": "stderr",
     "output_type": "stream",
     "text": [
      "2019-09-09 16:32:42 | [INFO] Processing: P-2019_4231-03-0\n",
      "2019-09-09 16:32:42 | [DEBUG] Level 1 scaling: 2.0\n",
      "2019-09-09 16:32:42 | [DEBUG] BG Level 4 scaling: 16.0\n",
      "2019-09-09 16:32:42 | [DEBUG] Effective scaling: 8.0\n",
      "2019-09-09 16:32:42 | [DEBUG] Level 1 scaling: 2.0\n",
      "2019-09-09 16:32:42 | [DEBUG] BG Level 4 scaling: 16.0\n",
      "2019-09-09 16:32:42 | [DEBUG] Effective scaling: 8.0\n",
      "2019-09-09 16:32:42 | [DEBUG] Combined mask already exists. Loading from disk.\n",
      "2019-09-09 16:32:42 | [DEBUG] STREAM b'IHDR' 16 13\n",
      "2019-09-09 16:32:42 | [DEBUG] STREAM b'IDAT' 41 65536\n",
      "2019-09-09 16:32:42 | [DEBUG] Level 1 scaling: 2.0\n",
      "2019-09-09 16:32:42 | [DEBUG] BG Level 4 scaling: 16.0\n",
      "2019-09-09 16:32:42 | [DEBUG] Effective scaling: 8.0\n",
      "2019-09-09 16:32:42 | [DEBUG] Cancer mask already exists. Loading from disk.\n",
      "2019-09-09 16:32:42 | [DEBUG] STREAM b'IHDR' 16 13\n",
      "2019-09-09 16:32:42 | [DEBUG] STREAM b'IDAT' 41 210368\n",
      "2019-09-09 16:32:42 | [INFO] Processing WSI tiles.\n"
     ]
    },
    {
     "name": "stdout",
     "output_type": "stream",
     "text": [
      "Progress:  99%\r"
     ]
    },
    {
     "name": "stderr",
     "output_type": "stream",
     "text": [
      "2019-09-09 16:33:04 | [INFO] Processing: P-2019_1427-08-1\n",
      "2019-09-09 16:33:04 | [DEBUG] Level 1 scaling: 2.0\n",
      "2019-09-09 16:33:04 | [DEBUG] BG Level 4 scaling: 16.0\n",
      "2019-09-09 16:33:04 | [DEBUG] Effective scaling: 8.0\n",
      "2019-09-09 16:33:04 | [DEBUG] Level 1 scaling: 2.0\n",
      "2019-09-09 16:33:04 | [DEBUG] BG Level 4 scaling: 16.0\n",
      "2019-09-09 16:33:04 | [DEBUG] Effective scaling: 8.0\n",
      "2019-09-09 16:33:04 | [DEBUG] Combined mask already exists. Loading from disk.\n",
      "2019-09-09 16:33:04 | [DEBUG] STREAM b'IHDR' 16 13\n",
      "2019-09-09 16:33:04 | [DEBUG] STREAM b'IDAT' 41 65536\n",
      "2019-09-09 16:33:04 | [DEBUG] Level 1 scaling: 2.0\n",
      "2019-09-09 16:33:04 | [DEBUG] BG Level 4 scaling: 16.0\n",
      "2019-09-09 16:33:04 | [DEBUG] Effective scaling: 8.0\n",
      "2019-09-09 16:33:04 | [DEBUG] Cancer mask already exists. Loading from disk.\n",
      "2019-09-09 16:33:04 | [DEBUG] STREAM b'IHDR' 16 13\n",
      "2019-09-09 16:33:04 | [DEBUG] STREAM b'IDAT' 41 210368\n",
      "2019-09-09 16:33:04 | [INFO] Processing WSI tiles.\n"
     ]
    },
    {
     "name": "stdout",
     "output_type": "stream",
     "text": [
      "Progress:  99%\r"
     ]
    },
    {
     "name": "stderr",
     "output_type": "stream",
     "text": [
      "2019-09-09 16:33:29 | [INFO] Processing: P-2019_4121-07-0\n",
      "2019-09-09 16:33:29 | [DEBUG] Level 1 scaling: 2.0\n",
      "2019-09-09 16:33:29 | [DEBUG] BG Level 4 scaling: 16.0\n",
      "2019-09-09 16:33:29 | [DEBUG] Effective scaling: 8.0\n",
      "2019-09-09 16:33:29 | [DEBUG] Level 1 scaling: 2.0\n",
      "2019-09-09 16:33:29 | [DEBUG] BG Level 4 scaling: 16.0\n",
      "2019-09-09 16:33:29 | [DEBUG] Effective scaling: 8.0\n",
      "2019-09-09 16:33:29 | [DEBUG] Combined mask already exists. Loading from disk.\n",
      "2019-09-09 16:33:29 | [DEBUG] STREAM b'IHDR' 16 13\n",
      "2019-09-09 16:33:29 | [DEBUG] STREAM b'IDAT' 41 65536\n",
      "2019-09-09 16:33:29 | [DEBUG] Level 1 scaling: 2.0\n",
      "2019-09-09 16:33:29 | [DEBUG] BG Level 4 scaling: 16.0\n",
      "2019-09-09 16:33:29 | [DEBUG] Effective scaling: 8.0\n",
      "2019-09-09 16:33:29 | [DEBUG] Cancer mask already exists. Loading from disk.\n",
      "2019-09-09 16:33:29 | [DEBUG] STREAM b'IHDR' 16 13\n",
      "2019-09-09 16:33:29 | [DEBUG] STREAM b'IDAT' 41 210368\n",
      "2019-09-09 16:33:29 | [INFO] Processing WSI tiles.\n"
     ]
    },
    {
     "name": "stdout",
     "output_type": "stream",
     "text": [
      "Progress:  99%\r"
     ]
    },
    {
     "name": "stderr",
     "output_type": "stream",
     "text": [
      "2019-09-09 16:33:51 | [INFO] Processing: P-2019_2781-09-1\n",
      "2019-09-09 16:33:52 | [DEBUG] Level 1 scaling: 2.0\n",
      "2019-09-09 16:33:52 | [DEBUG] BG Level 4 scaling: 16.0\n",
      "2019-09-09 16:33:52 | [DEBUG] Effective scaling: 8.0\n",
      "2019-09-09 16:33:52 | [DEBUG] Level 1 scaling: 2.0\n",
      "2019-09-09 16:33:52 | [DEBUG] BG Level 4 scaling: 16.0\n",
      "2019-09-09 16:33:52 | [DEBUG] Effective scaling: 8.0\n",
      "2019-09-09 16:33:52 | [DEBUG] Combined mask already exists. Loading from disk.\n",
      "2019-09-09 16:33:52 | [DEBUG] STREAM b'IHDR' 16 13\n",
      "2019-09-09 16:33:52 | [DEBUG] STREAM b'IDAT' 41 65536\n",
      "2019-09-09 16:33:52 | [DEBUG] Level 1 scaling: 2.0\n",
      "2019-09-09 16:33:52 | [DEBUG] BG Level 4 scaling: 16.0\n",
      "2019-09-09 16:33:52 | [DEBUG] Effective scaling: 8.0\n",
      "2019-09-09 16:33:52 | [DEBUG] Cancer mask already exists. Loading from disk.\n",
      "2019-09-09 16:33:52 | [DEBUG] STREAM b'IHDR' 16 13\n",
      "2019-09-09 16:33:52 | [DEBUG] STREAM b'IDAT' 41 210368\n",
      "2019-09-09 16:33:52 | [INFO] Processing WSI tiles.\n"
     ]
    },
    {
     "name": "stdout",
     "output_type": "stream",
     "text": [
      "Progress:  98%\r"
     ]
    },
    {
     "name": "stderr",
     "output_type": "stream",
     "text": [
      "2019-09-09 16:34:15 | [INFO] Processing: P-2019_2552-09-0\n"
     ]
    },
    {
     "name": "stdout",
     "output_type": "stream",
     "text": [
      "Progress:  99%\r",
      "Progress: 100%\r"
     ]
    },
    {
     "name": "stderr",
     "output_type": "stream",
     "text": [
      "2019-09-09 16:34:15 | [DEBUG] Level 1 scaling: 2.0\n",
      "2019-09-09 16:34:15 | [DEBUG] BG Level 4 scaling: 16.0\n",
      "2019-09-09 16:34:15 | [DEBUG] Effective scaling: 8.0\n",
      "2019-09-09 16:34:15 | [DEBUG] Level 1 scaling: 2.0\n",
      "2019-09-09 16:34:15 | [DEBUG] BG Level 4 scaling: 16.0\n",
      "2019-09-09 16:34:15 | [DEBUG] Effective scaling: 8.0\n",
      "2019-09-09 16:34:15 | [DEBUG] Combined mask already exists. Loading from disk.\n",
      "2019-09-09 16:34:15 | [DEBUG] STREAM b'IHDR' 16 13\n",
      "2019-09-09 16:34:15 | [DEBUG] STREAM b'IDAT' 41 65536\n",
      "2019-09-09 16:34:15 | [DEBUG] Level 1 scaling: 2.0\n",
      "2019-09-09 16:34:15 | [DEBUG] BG Level 4 scaling: 16.0\n",
      "2019-09-09 16:34:15 | [DEBUG] Effective scaling: 8.0\n",
      "2019-09-09 16:34:15 | [DEBUG] Cancer mask already exists. Loading from disk.\n",
      "2019-09-09 16:34:15 | [DEBUG] STREAM b'IHDR' 16 13\n",
      "2019-09-09 16:34:15 | [DEBUG] STREAM b'IDAT' 41 210368\n",
      "2019-09-09 16:34:15 | [INFO] Processing WSI tiles.\n"
     ]
    },
    {
     "name": "stdout",
     "output_type": "stream",
     "text": [
      "Progress:  98%\r"
     ]
    },
    {
     "name": "stderr",
     "output_type": "stream",
     "text": [
      "2019-09-09 16:34:38 | [INFO] Processing: P-2019_1427-14-0\n"
     ]
    },
    {
     "name": "stdout",
     "output_type": "stream",
     "text": [
      "Progress:  99%\r",
      "Progress: 100%\r"
     ]
    },
    {
     "name": "stderr",
     "output_type": "stream",
     "text": [
      "2019-09-09 16:34:38 | [DEBUG] Level 1 scaling: 2.0\n",
      "2019-09-09 16:34:38 | [DEBUG] BG Level 4 scaling: 16.0\n",
      "2019-09-09 16:34:38 | [DEBUG] Effective scaling: 8.0\n",
      "2019-09-09 16:34:38 | [DEBUG] Level 1 scaling: 2.0\n",
      "2019-09-09 16:34:38 | [DEBUG] BG Level 4 scaling: 16.0\n",
      "2019-09-09 16:34:38 | [DEBUG] Effective scaling: 8.0\n",
      "2019-09-09 16:34:38 | [DEBUG] Combined mask already exists. Loading from disk.\n",
      "2019-09-09 16:34:38 | [DEBUG] STREAM b'IHDR' 16 13\n",
      "2019-09-09 16:34:38 | [DEBUG] STREAM b'IDAT' 41 65536\n",
      "2019-09-09 16:34:38 | [DEBUG] Level 1 scaling: 2.0\n",
      "2019-09-09 16:34:38 | [DEBUG] BG Level 4 scaling: 16.0\n",
      "2019-09-09 16:34:38 | [DEBUG] Effective scaling: 8.0\n",
      "2019-09-09 16:34:38 | [DEBUG] Cancer mask already exists. Loading from disk.\n",
      "2019-09-09 16:34:38 | [DEBUG] STREAM b'IHDR' 16 13\n",
      "2019-09-09 16:34:38 | [DEBUG] STREAM b'IDAT' 41 210368\n",
      "2019-09-09 16:34:38 | [INFO] Processing WSI tiles.\n"
     ]
    },
    {
     "name": "stdout",
     "output_type": "stream",
     "text": [
      "Progress:  99%\r"
     ]
    },
    {
     "name": "stderr",
     "output_type": "stream",
     "text": [
      "2019-09-09 16:35:10 | [INFO] Processing: P-2019_2781-06-0\n",
      "2019-09-09 16:35:10 | [DEBUG] Level 1 scaling: 2.0\n",
      "2019-09-09 16:35:10 | [DEBUG] BG Level 4 scaling: 16.0\n",
      "2019-09-09 16:35:10 | [DEBUG] Effective scaling: 8.0\n",
      "2019-09-09 16:35:10 | [DEBUG] Level 1 scaling: 2.0\n",
      "2019-09-09 16:35:10 | [DEBUG] BG Level 4 scaling: 16.0\n",
      "2019-09-09 16:35:10 | [DEBUG] Effective scaling: 8.0\n",
      "2019-09-09 16:35:10 | [DEBUG] Combined mask already exists. Loading from disk.\n",
      "2019-09-09 16:35:10 | [DEBUG] STREAM b'IHDR' 16 13\n",
      "2019-09-09 16:35:10 | [DEBUG] STREAM b'IDAT' 41 65536\n",
      "2019-09-09 16:35:10 | [DEBUG] Level 1 scaling: 2.0\n",
      "2019-09-09 16:35:10 | [DEBUG] BG Level 4 scaling: 16.0\n",
      "2019-09-09 16:35:10 | [DEBUG] Effective scaling: 8.0\n",
      "2019-09-09 16:35:10 | [DEBUG] Cancer mask already exists. Loading from disk.\n",
      "2019-09-09 16:35:10 | [DEBUG] STREAM b'IHDR' 16 13\n",
      "2019-09-09 16:35:10 | [DEBUG] STREAM b'IDAT' 41 210368\n",
      "2019-09-09 16:35:10 | [INFO] Processing WSI tiles.\n"
     ]
    },
    {
     "name": "stdout",
     "output_type": "stream",
     "text": [
      "Progress:  99%\r"
     ]
    },
    {
     "name": "stderr",
     "output_type": "stream",
     "text": [
      "2019-09-09 16:35:34 | [INFO] Processing: P-2019_2216-02-0\n",
      "2019-09-09 16:35:34 | [DEBUG] Level 1 scaling: 2.0\n",
      "2019-09-09 16:35:34 | [DEBUG] BG Level 4 scaling: 16.0\n",
      "2019-09-09 16:35:34 | [DEBUG] Effective scaling: 8.0\n",
      "2019-09-09 16:35:34 | [DEBUG] Level 1 scaling: 2.0\n",
      "2019-09-09 16:35:34 | [DEBUG] BG Level 4 scaling: 16.0\n",
      "2019-09-09 16:35:34 | [DEBUG] Effective scaling: 8.0\n",
      "2019-09-09 16:35:34 | [DEBUG] Combined mask already exists. Loading from disk.\n",
      "2019-09-09 16:35:34 | [DEBUG] STREAM b'IHDR' 16 13\n",
      "2019-09-09 16:35:34 | [DEBUG] STREAM b'IDAT' 41 65536\n",
      "2019-09-09 16:35:34 | [DEBUG] Level 1 scaling: 2.0\n",
      "2019-09-09 16:35:34 | [DEBUG] BG Level 4 scaling: 16.0\n",
      "2019-09-09 16:35:34 | [DEBUG] Effective scaling: 8.0\n",
      "2019-09-09 16:35:34 | [DEBUG] Cancer mask already exists. Loading from disk.\n",
      "2019-09-09 16:35:34 | [DEBUG] STREAM b'IHDR' 16 13\n",
      "2019-09-09 16:35:34 | [DEBUG] STREAM b'IDAT' 41 210368\n",
      "2019-09-09 16:35:34 | [INFO] Processing WSI tiles.\n"
     ]
    },
    {
     "name": "stdout",
     "output_type": "stream",
     "text": [
      "Progress:  99%\r"
     ]
    },
    {
     "name": "stderr",
     "output_type": "stream",
     "text": [
      "2019-09-09 16:36:05 | [INFO] Processing: P-2019_4353-02-1\n"
     ]
    },
    {
     "name": "stdout",
     "output_type": "stream",
     "text": [
      "Progress: 100%\r"
     ]
    },
    {
     "name": "stderr",
     "output_type": "stream",
     "text": [
      "2019-09-09 16:36:05 | [DEBUG] Level 1 scaling: 2.0\n",
      "2019-09-09 16:36:05 | [DEBUG] BG Level 4 scaling: 16.0\n",
      "2019-09-09 16:36:05 | [DEBUG] Effective scaling: 8.0\n",
      "2019-09-09 16:36:05 | [DEBUG] Level 1 scaling: 2.0\n",
      "2019-09-09 16:36:05 | [DEBUG] BG Level 4 scaling: 16.0\n",
      "2019-09-09 16:36:05 | [DEBUG] Effective scaling: 8.0\n",
      "2019-09-09 16:36:05 | [DEBUG] Combined mask already exists. Loading from disk.\n",
      "2019-09-09 16:36:05 | [DEBUG] STREAM b'IHDR' 16 13\n",
      "2019-09-09 16:36:05 | [DEBUG] STREAM b'IDAT' 41 65536\n",
      "2019-09-09 16:36:05 | [DEBUG] Level 1 scaling: 2.0\n",
      "2019-09-09 16:36:05 | [DEBUG] BG Level 4 scaling: 16.0\n",
      "2019-09-09 16:36:05 | [DEBUG] Effective scaling: 8.0\n",
      "2019-09-09 16:36:05 | [DEBUG] Cancer mask already exists. Loading from disk.\n",
      "2019-09-09 16:36:05 | [DEBUG] STREAM b'IHDR' 16 13\n",
      "2019-09-09 16:36:05 | [DEBUG] STREAM b'IDAT' 41 210368\n",
      "2019-09-09 16:36:05 | [INFO] Processing WSI tiles.\n"
     ]
    },
    {
     "name": "stdout",
     "output_type": "stream",
     "text": [
      "Progress:  99%\r"
     ]
    },
    {
     "name": "stderr",
     "output_type": "stream",
     "text": [
      "2019-09-09 16:36:32 | [INFO] Processing: P-2019_3672-07-1\n",
      "2019-09-09 16:36:33 | [DEBUG] Level 1 scaling: 2.0\n",
      "2019-09-09 16:36:33 | [DEBUG] BG Level 4 scaling: 16.0\n",
      "2019-09-09 16:36:33 | [DEBUG] Effective scaling: 8.0\n",
      "2019-09-09 16:36:33 | [DEBUG] Level 1 scaling: 2.0\n",
      "2019-09-09 16:36:33 | [DEBUG] BG Level 4 scaling: 16.0\n",
      "2019-09-09 16:36:33 | [DEBUG] Effective scaling: 8.0\n",
      "2019-09-09 16:36:33 | [DEBUG] Combined mask already exists. Loading from disk.\n",
      "2019-09-09 16:36:33 | [DEBUG] STREAM b'IHDR' 16 13\n",
      "2019-09-09 16:36:33 | [DEBUG] STREAM b'IDAT' 41 65536\n",
      "2019-09-09 16:36:33 | [DEBUG] Level 1 scaling: 2.0\n",
      "2019-09-09 16:36:33 | [DEBUG] BG Level 4 scaling: 16.0\n",
      "2019-09-09 16:36:33 | [DEBUG] Effective scaling: 8.0\n",
      "2019-09-09 16:36:33 | [DEBUG] Cancer mask already exists. Loading from disk.\n",
      "2019-09-09 16:36:33 | [DEBUG] STREAM b'IHDR' 16 13\n",
      "2019-09-09 16:36:33 | [DEBUG] STREAM b'IDAT' 41 210368\n",
      "2019-09-09 16:36:33 | [INFO] Processing WSI tiles.\n"
     ]
    },
    {
     "name": "stdout",
     "output_type": "stream",
     "text": [
      "Progress:  98%\r"
     ]
    },
    {
     "name": "stderr",
     "output_type": "stream",
     "text": [
      "2019-09-09 16:36:55 | [INFO] Processing: P-2019_3204-16-1\n",
      "2019-09-09 16:36:55 | [DEBUG] Level 1 scaling: 2.0\n",
      "2019-09-09 16:36:55 | [DEBUG] BG Level 4 scaling: 16.0\n",
      "2019-09-09 16:36:55 | [DEBUG] Effective scaling: 8.0\n",
      "2019-09-09 16:36:55 | [DEBUG] Level 1 scaling: 2.0\n",
      "2019-09-09 16:36:55 | [DEBUG] BG Level 4 scaling: 16.0\n",
      "2019-09-09 16:36:55 | [DEBUG] Effective scaling: 8.0\n",
      "2019-09-09 16:36:55 | [DEBUG] Combined mask already exists. Loading from disk.\n",
      "2019-09-09 16:36:55 | [DEBUG] STREAM b'IHDR' 16 13\n",
      "2019-09-09 16:36:55 | [DEBUG] STREAM b'IDAT' 41 65536\n",
      "2019-09-09 16:36:55 | [DEBUG] Level 1 scaling: 2.0\n",
      "2019-09-09 16:36:55 | [DEBUG] BG Level 4 scaling: 16.0\n",
      "2019-09-09 16:36:55 | [DEBUG] Effective scaling: 8.0\n",
      "2019-09-09 16:36:55 | [DEBUG] Cancer mask already exists. Loading from disk.\n",
      "2019-09-09 16:36:55 | [DEBUG] STREAM b'IHDR' 16 13\n",
      "2019-09-09 16:36:55 | [DEBUG] STREAM b'IDAT' 41 210368\n",
      "2019-09-09 16:36:55 | [INFO] Processing WSI tiles.\n"
     ]
    },
    {
     "name": "stdout",
     "output_type": "stream",
     "text": [
      "Progress:  99%\r"
     ]
    },
    {
     "name": "stderr",
     "output_type": "stream",
     "text": [
      "2019-09-09 16:37:19 | [INFO] Processing: P-2019_2233-02-0\n",
      "2019-09-09 16:37:19 | [DEBUG] Level 1 scaling: 2.0\n",
      "2019-09-09 16:37:19 | [DEBUG] BG Level 4 scaling: 16.0\n",
      "2019-09-09 16:37:19 | [DEBUG] Effective scaling: 8.0\n",
      "2019-09-09 16:37:19 | [DEBUG] Level 1 scaling: 2.0\n",
      "2019-09-09 16:37:19 | [DEBUG] BG Level 4 scaling: 16.0\n",
      "2019-09-09 16:37:19 | [DEBUG] Effective scaling: 8.0\n",
      "2019-09-09 16:37:19 | [DEBUG] Combined mask already exists. Loading from disk.\n",
      "2019-09-09 16:37:19 | [DEBUG] STREAM b'IHDR' 16 13\n",
      "2019-09-09 16:37:19 | [DEBUG] STREAM b'IDAT' 41 65536\n",
      "2019-09-09 16:37:19 | [DEBUG] Level 1 scaling: 2.0\n",
      "2019-09-09 16:37:19 | [DEBUG] BG Level 4 scaling: 16.0\n",
      "2019-09-09 16:37:19 | [DEBUG] Effective scaling: 8.0\n",
      "2019-09-09 16:37:19 | [DEBUG] Cancer mask already exists. Loading from disk.\n",
      "2019-09-09 16:37:19 | [DEBUG] STREAM b'IHDR' 16 13\n",
      "2019-09-09 16:37:19 | [DEBUG] STREAM b'IDAT' 41 210368\n",
      "2019-09-09 16:37:19 | [INFO] Processing WSI tiles.\n"
     ]
    },
    {
     "name": "stdout",
     "output_type": "stream",
     "text": [
      "Progress:  98%\r"
     ]
    },
    {
     "name": "stderr",
     "output_type": "stream",
     "text": [
      "2019-09-09 16:37:48 | [INFO] Processing: P-2019_5108-06-0\n"
     ]
    },
    {
     "name": "stdout",
     "output_type": "stream",
     "text": [
      "Progress:  99%\r",
      "Progress: 100%\r"
     ]
    },
    {
     "name": "stderr",
     "output_type": "stream",
     "text": [
      "2019-09-09 16:37:48 | [DEBUG] Level 1 scaling: 2.0\n",
      "2019-09-09 16:37:48 | [DEBUG] BG Level 4 scaling: 16.0\n",
      "2019-09-09 16:37:48 | [DEBUG] Effective scaling: 8.0\n",
      "2019-09-09 16:37:48 | [DEBUG] Level 1 scaling: 2.0\n",
      "2019-09-09 16:37:48 | [DEBUG] BG Level 4 scaling: 16.0\n",
      "2019-09-09 16:37:48 | [DEBUG] Effective scaling: 8.0\n",
      "2019-09-09 16:37:48 | [DEBUG] Combined mask already exists. Loading from disk.\n",
      "2019-09-09 16:37:48 | [DEBUG] STREAM b'IHDR' 16 13\n",
      "2019-09-09 16:37:48 | [DEBUG] STREAM b'IDAT' 41 65536\n",
      "2019-09-09 16:37:48 | [DEBUG] Level 1 scaling: 2.0\n",
      "2019-09-09 16:37:48 | [DEBUG] BG Level 4 scaling: 16.0\n",
      "2019-09-09 16:37:48 | [DEBUG] Effective scaling: 8.0\n",
      "2019-09-09 16:37:48 | [DEBUG] Cancer mask already exists. Loading from disk.\n",
      "2019-09-09 16:37:48 | [DEBUG] STREAM b'IHDR' 16 13\n",
      "2019-09-09 16:37:48 | [DEBUG] STREAM b'IDAT' 41 210368\n",
      "2019-09-09 16:37:48 | [INFO] Processing WSI tiles.\n"
     ]
    },
    {
     "name": "stdout",
     "output_type": "stream",
     "text": [
      "Progress:  99%\r"
     ]
    },
    {
     "name": "stderr",
     "output_type": "stream",
     "text": [
      "2019-09-09 16:38:16 | [INFO] Processing: P-2019_4095-20-0\n",
      "2019-09-09 16:38:16 | [DEBUG] Level 1 scaling: 2.0\n",
      "2019-09-09 16:38:16 | [DEBUG] BG Level 4 scaling: 16.0\n",
      "2019-09-09 16:38:16 | [DEBUG] Effective scaling: 8.0\n",
      "2019-09-09 16:38:16 | [DEBUG] Level 1 scaling: 2.0\n",
      "2019-09-09 16:38:16 | [DEBUG] BG Level 4 scaling: 16.0\n",
      "2019-09-09 16:38:16 | [DEBUG] Effective scaling: 8.0\n",
      "2019-09-09 16:38:16 | [DEBUG] Combined mask already exists. Loading from disk.\n",
      "2019-09-09 16:38:16 | [DEBUG] STREAM b'IHDR' 16 13\n",
      "2019-09-09 16:38:16 | [DEBUG] STREAM b'IDAT' 41 65536\n",
      "2019-09-09 16:38:16 | [DEBUG] Level 1 scaling: 2.0\n",
      "2019-09-09 16:38:16 | [DEBUG] BG Level 4 scaling: 16.0\n",
      "2019-09-09 16:38:16 | [DEBUG] Effective scaling: 8.0\n",
      "2019-09-09 16:38:16 | [DEBUG] Cancer mask already exists. Loading from disk.\n",
      "2019-09-09 16:38:16 | [DEBUG] STREAM b'IHDR' 16 13\n",
      "2019-09-09 16:38:16 | [DEBUG] STREAM b'IDAT' 41 210368\n",
      "2019-09-09 16:38:16 | [INFO] Processing WSI tiles.\n"
     ]
    },
    {
     "name": "stdout",
     "output_type": "stream",
     "text": [
      "Progress:  99%\r"
     ]
    },
    {
     "name": "stderr",
     "output_type": "stream",
     "text": [
      "2019-09-09 16:38:39 | [INFO] Processing: P-2019_3126-05-0\n",
      "2019-09-09 16:38:39 | [DEBUG] Level 1 scaling: 2.0\n",
      "2019-09-09 16:38:39 | [DEBUG] BG Level 4 scaling: 16.0\n",
      "2019-09-09 16:38:39 | [DEBUG] Effective scaling: 8.0\n",
      "2019-09-09 16:38:39 | [DEBUG] Level 1 scaling: 2.0\n",
      "2019-09-09 16:38:39 | [DEBUG] BG Level 4 scaling: 16.0\n",
      "2019-09-09 16:38:39 | [DEBUG] Effective scaling: 8.0\n",
      "2019-09-09 16:38:39 | [DEBUG] Combined mask already exists. Loading from disk.\n",
      "2019-09-09 16:38:39 | [DEBUG] STREAM b'IHDR' 16 13\n",
      "2019-09-09 16:38:39 | [DEBUG] STREAM b'IDAT' 41 65536\n",
      "2019-09-09 16:38:39 | [DEBUG] Level 1 scaling: 2.0\n",
      "2019-09-09 16:38:39 | [DEBUG] BG Level 4 scaling: 16.0\n",
      "2019-09-09 16:38:39 | [DEBUG] Effective scaling: 8.0\n",
      "2019-09-09 16:38:39 | [DEBUG] Cancer mask already exists. Loading from disk.\n",
      "2019-09-09 16:38:39 | [DEBUG] STREAM b'IHDR' 16 13\n",
      "2019-09-09 16:38:39 | [DEBUG] STREAM b'IDAT' 41 210368\n",
      "2019-09-09 16:38:39 | [INFO] Processing WSI tiles.\n"
     ]
    },
    {
     "name": "stdout",
     "output_type": "stream",
     "text": [
      "Progress:  99%\r"
     ]
    },
    {
     "name": "stderr",
     "output_type": "stream",
     "text": [
      "2019-09-09 16:39:02 | [INFO] Processing: TP-2019_2941-01-1\n",
      "2019-09-09 16:39:02 | [DEBUG] Level 1 scaling: 2.0\n",
      "2019-09-09 16:39:02 | [DEBUG] BG Level 4 scaling: 16.0\n",
      "2019-09-09 16:39:02 | [DEBUG] Effective scaling: 8.0\n",
      "2019-09-09 16:39:02 | [DEBUG] Level 1 scaling: 2.0\n",
      "2019-09-09 16:39:02 | [DEBUG] BG Level 4 scaling: 16.0\n",
      "2019-09-09 16:39:02 | [DEBUG] Effective scaling: 8.0\n",
      "2019-09-09 16:39:02 | [DEBUG] Combined mask already exists. Loading from disk.\n",
      "2019-09-09 16:39:02 | [DEBUG] STREAM b'IHDR' 16 13\n",
      "2019-09-09 16:39:02 | [DEBUG] STREAM b'IDAT' 41 65536\n",
      "2019-09-09 16:39:02 | [DEBUG] Level 1 scaling: 2.0\n",
      "2019-09-09 16:39:02 | [DEBUG] BG Level 4 scaling: 16.0\n",
      "2019-09-09 16:39:02 | [DEBUG] Effective scaling: 8.0\n",
      "2019-09-09 16:39:02 | [DEBUG] Cancer mask already exists. Loading from disk.\n",
      "2019-09-09 16:39:02 | [DEBUG] STREAM b'IHDR' 16 13\n",
      "2019-09-09 16:39:02 | [DEBUG] STREAM b'IDAT' 41 210368\n",
      "2019-09-09 16:39:02 | [INFO] Processing WSI tiles.\n"
     ]
    },
    {
     "name": "stdout",
     "output_type": "stream",
     "text": [
      "Progress:  99%\r"
     ]
    },
    {
     "name": "stderr",
     "output_type": "stream",
     "text": [
      "2019-09-09 16:39:26 | [INFO] Processing: P-2019_3204-10-1\n",
      "2019-09-09 16:39:26 | [DEBUG] Level 1 scaling: 2.0\n",
      "2019-09-09 16:39:26 | [DEBUG] BG Level 4 scaling: 16.0\n",
      "2019-09-09 16:39:26 | [DEBUG] Effective scaling: 8.0\n",
      "2019-09-09 16:39:26 | [DEBUG] Level 1 scaling: 2.0\n",
      "2019-09-09 16:39:26 | [DEBUG] BG Level 4 scaling: 16.0\n",
      "2019-09-09 16:39:26 | [DEBUG] Effective scaling: 8.0\n",
      "2019-09-09 16:39:26 | [DEBUG] Combined mask already exists. Loading from disk.\n",
      "2019-09-09 16:39:26 | [DEBUG] STREAM b'IHDR' 16 13\n",
      "2019-09-09 16:39:26 | [DEBUG] STREAM b'IDAT' 41 65536\n",
      "2019-09-09 16:39:26 | [DEBUG] Level 1 scaling: 2.0\n",
      "2019-09-09 16:39:26 | [DEBUG] BG Level 4 scaling: 16.0\n",
      "2019-09-09 16:39:26 | [DEBUG] Effective scaling: 8.0\n",
      "2019-09-09 16:39:26 | [DEBUG] Cancer mask already exists. Loading from disk.\n",
      "2019-09-09 16:39:26 | [DEBUG] STREAM b'IHDR' 16 13\n",
      "2019-09-09 16:39:26 | [DEBUG] STREAM b'IDAT' 41 210368\n",
      "2019-09-09 16:39:26 | [INFO] Processing WSI tiles.\n"
     ]
    },
    {
     "name": "stdout",
     "output_type": "stream",
     "text": [
      "Progress:  99%\r"
     ]
    },
    {
     "name": "stderr",
     "output_type": "stream",
     "text": [
      "2019-09-09 16:39:58 | [INFO] Processing: P-2019_5301-09-1\n"
     ]
    },
    {
     "name": "stdout",
     "output_type": "stream",
     "text": [
      "Progress: 100%\r"
     ]
    },
    {
     "name": "stderr",
     "output_type": "stream",
     "text": [
      "2019-09-09 16:39:58 | [DEBUG] Level 1 scaling: 2.0\n",
      "2019-09-09 16:39:58 | [DEBUG] BG Level 4 scaling: 16.0\n",
      "2019-09-09 16:39:58 | [DEBUG] Effective scaling: 8.0\n",
      "2019-09-09 16:39:58 | [DEBUG] Level 1 scaling: 2.0\n",
      "2019-09-09 16:39:58 | [DEBUG] BG Level 4 scaling: 16.0\n",
      "2019-09-09 16:39:58 | [DEBUG] Effective scaling: 8.0\n",
      "2019-09-09 16:39:58 | [DEBUG] Combined mask already exists. Loading from disk.\n",
      "2019-09-09 16:39:58 | [DEBUG] STREAM b'IHDR' 16 13\n",
      "2019-09-09 16:39:58 | [DEBUG] STREAM b'IDAT' 41 65536\n",
      "2019-09-09 16:39:58 | [DEBUG] Level 1 scaling: 2.0\n",
      "2019-09-09 16:39:58 | [DEBUG] BG Level 4 scaling: 16.0\n",
      "2019-09-09 16:39:58 | [DEBUG] Effective scaling: 8.0\n",
      "2019-09-09 16:39:58 | [DEBUG] Cancer mask already exists. Loading from disk.\n",
      "2019-09-09 16:39:58 | [DEBUG] STREAM b'IHDR' 16 13\n",
      "2019-09-09 16:39:58 | [DEBUG] STREAM b'IDAT' 41 210368\n",
      "2019-09-09 16:39:58 | [INFO] Processing WSI tiles.\n"
     ]
    },
    {
     "name": "stdout",
     "output_type": "stream",
     "text": [
      "Progress:  99%\r"
     ]
    },
    {
     "name": "stderr",
     "output_type": "stream",
     "text": [
      "2019-09-09 16:40:25 | [INFO] Processing: P-2019_4334-01-0\n"
     ]
    },
    {
     "name": "stdout",
     "output_type": "stream",
     "text": [
      "Progress: 100%\r"
     ]
    },
    {
     "name": "stderr",
     "output_type": "stream",
     "text": [
      "2019-09-09 16:40:25 | [DEBUG] Level 1 scaling: 2.0\n",
      "2019-09-09 16:40:25 | [DEBUG] BG Level 4 scaling: 16.0\n",
      "2019-09-09 16:40:25 | [DEBUG] Effective scaling: 8.0\n",
      "2019-09-09 16:40:25 | [DEBUG] Level 1 scaling: 2.0\n",
      "2019-09-09 16:40:25 | [DEBUG] BG Level 4 scaling: 16.0\n",
      "2019-09-09 16:40:25 | [DEBUG] Effective scaling: 8.0\n",
      "2019-09-09 16:40:25 | [DEBUG] Combined mask already exists. Loading from disk.\n",
      "2019-09-09 16:40:25 | [DEBUG] STREAM b'IHDR' 16 13\n",
      "2019-09-09 16:40:25 | [DEBUG] STREAM b'IDAT' 41 65536\n",
      "2019-09-09 16:40:25 | [DEBUG] Level 1 scaling: 2.0\n",
      "2019-09-09 16:40:25 | [DEBUG] BG Level 4 scaling: 16.0\n",
      "2019-09-09 16:40:25 | [DEBUG] Effective scaling: 8.0\n",
      "2019-09-09 16:40:25 | [DEBUG] Cancer mask already exists. Loading from disk.\n",
      "2019-09-09 16:40:25 | [DEBUG] STREAM b'IHDR' 16 13\n",
      "2019-09-09 16:40:25 | [DEBUG] STREAM b'IDAT' 41 210368\n",
      "2019-09-09 16:40:25 | [INFO] Processing WSI tiles.\n"
     ]
    },
    {
     "name": "stdout",
     "output_type": "stream",
     "text": [
      "Progress:  99%\r"
     ]
    },
    {
     "name": "stderr",
     "output_type": "stream",
     "text": [
      "2019-09-09 16:40:53 | [INFO] Processing: P-2019_3204-08-0\n",
      "2019-09-09 16:40:53 | [DEBUG] Level 1 scaling: 2.0\n",
      "2019-09-09 16:40:53 | [DEBUG] BG Level 4 scaling: 16.0\n",
      "2019-09-09 16:40:53 | [DEBUG] Effective scaling: 8.0\n",
      "2019-09-09 16:40:53 | [DEBUG] Level 1 scaling: 2.0\n",
      "2019-09-09 16:40:53 | [DEBUG] BG Level 4 scaling: 16.0\n",
      "2019-09-09 16:40:53 | [DEBUG] Effective scaling: 8.0\n",
      "2019-09-09 16:40:53 | [DEBUG] Combined mask already exists. Loading from disk.\n",
      "2019-09-09 16:40:53 | [DEBUG] STREAM b'IHDR' 16 13\n",
      "2019-09-09 16:40:53 | [DEBUG] STREAM b'IDAT' 41 65536\n",
      "2019-09-09 16:40:53 | [DEBUG] Level 1 scaling: 2.0\n",
      "2019-09-09 16:40:53 | [DEBUG] BG Level 4 scaling: 16.0\n",
      "2019-09-09 16:40:53 | [DEBUG] Effective scaling: 8.0\n",
      "2019-09-09 16:40:53 | [DEBUG] Cancer mask already exists. Loading from disk.\n",
      "2019-09-09 16:40:53 | [DEBUG] STREAM b'IHDR' 16 13\n",
      "2019-09-09 16:40:53 | [DEBUG] STREAM b'IDAT' 41 210368\n",
      "2019-09-09 16:40:53 | [INFO] Processing WSI tiles.\n"
     ]
    },
    {
     "name": "stdout",
     "output_type": "stream",
     "text": [
      "Progress:  99%\r"
     ]
    },
    {
     "name": "stderr",
     "output_type": "stream",
     "text": [
      "2019-09-09 16:41:17 | [INFO] Processing: P-2019_2552-02-0\n",
      "2019-09-09 16:41:17 | [DEBUG] Level 1 scaling: 2.0\n",
      "2019-09-09 16:41:17 | [DEBUG] BG Level 4 scaling: 16.0\n",
      "2019-09-09 16:41:17 | [DEBUG] Effective scaling: 8.0\n",
      "2019-09-09 16:41:17 | [DEBUG] Level 1 scaling: 2.0\n",
      "2019-09-09 16:41:17 | [DEBUG] BG Level 4 scaling: 16.0\n",
      "2019-09-09 16:41:17 | [DEBUG] Effective scaling: 8.0\n",
      "2019-09-09 16:41:17 | [DEBUG] Combined mask already exists. Loading from disk.\n",
      "2019-09-09 16:41:17 | [DEBUG] STREAM b'IHDR' 16 13\n",
      "2019-09-09 16:41:17 | [DEBUG] STREAM b'IDAT' 41 65536\n",
      "2019-09-09 16:41:17 | [DEBUG] Level 1 scaling: 2.0\n",
      "2019-09-09 16:41:17 | [DEBUG] BG Level 4 scaling: 16.0\n",
      "2019-09-09 16:41:17 | [DEBUG] Effective scaling: 8.0\n",
      "2019-09-09 16:41:17 | [DEBUG] Cancer mask already exists. Loading from disk.\n",
      "2019-09-09 16:41:17 | [DEBUG] STREAM b'IHDR' 16 13\n",
      "2019-09-09 16:41:17 | [DEBUG] STREAM b'IDAT' 41 210368\n",
      "2019-09-09 16:41:17 | [INFO] Processing WSI tiles.\n"
     ]
    },
    {
     "name": "stdout",
     "output_type": "stream",
     "text": [
      "Progress:  99%\r"
     ]
    },
    {
     "name": "stderr",
     "output_type": "stream",
     "text": [
      "2019-09-09 16:41:39 | [INFO] Processing: P-2019_2587-06-0\n",
      "2019-09-09 16:41:39 | [DEBUG] Level 1 scaling: 2.0\n",
      "2019-09-09 16:41:39 | [DEBUG] BG Level 4 scaling: 16.0\n",
      "2019-09-09 16:41:39 | [DEBUG] Effective scaling: 8.0\n",
      "2019-09-09 16:41:39 | [DEBUG] Level 1 scaling: 2.0\n",
      "2019-09-09 16:41:39 | [DEBUG] BG Level 4 scaling: 16.0\n",
      "2019-09-09 16:41:39 | [DEBUG] Effective scaling: 8.0\n",
      "2019-09-09 16:41:39 | [DEBUG] Combined mask already exists. Loading from disk.\n",
      "2019-09-09 16:41:39 | [DEBUG] STREAM b'IHDR' 16 13\n",
      "2019-09-09 16:41:39 | [DEBUG] STREAM b'IDAT' 41 65536\n",
      "2019-09-09 16:41:39 | [DEBUG] Level 1 scaling: 2.0\n",
      "2019-09-09 16:41:39 | [DEBUG] BG Level 4 scaling: 16.0\n",
      "2019-09-09 16:41:39 | [DEBUG] Effective scaling: 8.0\n",
      "2019-09-09 16:41:39 | [DEBUG] Cancer mask already exists. Loading from disk.\n",
      "2019-09-09 16:41:39 | [DEBUG] STREAM b'IHDR' 16 13\n",
      "2019-09-09 16:41:39 | [DEBUG] STREAM b'IDAT' 41 210368\n",
      "2019-09-09 16:41:39 | [INFO] Processing WSI tiles.\n"
     ]
    },
    {
     "name": "stdout",
     "output_type": "stream",
     "text": [
      "Progress:  98%\r"
     ]
    },
    {
     "name": "stderr",
     "output_type": "stream",
     "text": [
      "2019-09-09 16:42:05 | [INFO] Processing: P-2019_3672-04-0\n",
      "2019-09-09 16:42:05 | [DEBUG] Level 1 scaling: 2.0\n",
      "2019-09-09 16:42:05 | [DEBUG] BG Level 4 scaling: 16.0\n",
      "2019-09-09 16:42:05 | [DEBUG] Effective scaling: 8.0\n",
      "2019-09-09 16:42:05 | [DEBUG] Level 1 scaling: 2.0\n",
      "2019-09-09 16:42:05 | [DEBUG] BG Level 4 scaling: 16.0\n",
      "2019-09-09 16:42:05 | [DEBUG] Effective scaling: 8.0\n",
      "2019-09-09 16:42:05 | [DEBUG] Combined mask already exists. Loading from disk.\n",
      "2019-09-09 16:42:05 | [DEBUG] STREAM b'IHDR' 16 13\n",
      "2019-09-09 16:42:05 | [DEBUG] STREAM b'IDAT' 41 65536\n",
      "2019-09-09 16:42:05 | [DEBUG] Level 1 scaling: 2.0\n",
      "2019-09-09 16:42:05 | [DEBUG] BG Level 4 scaling: 16.0\n",
      "2019-09-09 16:42:05 | [DEBUG] Effective scaling: 8.0\n",
      "2019-09-09 16:42:05 | [DEBUG] Cancer mask already exists. Loading from disk.\n",
      "2019-09-09 16:42:05 | [DEBUG] STREAM b'IHDR' 16 13\n",
      "2019-09-09 16:42:05 | [DEBUG] STREAM b'IDAT' 41 210368\n",
      "2019-09-09 16:42:05 | [INFO] Processing WSI tiles.\n"
     ]
    },
    {
     "name": "stdout",
     "output_type": "stream",
     "text": [
      "Progress:  98%\r"
     ]
    },
    {
     "name": "stderr",
     "output_type": "stream",
     "text": [
      "2019-09-09 16:42:31 | [INFO] Processing: P-2019_4002-04-0\n",
      "2019-09-09 16:42:31 | [DEBUG] Level 1 scaling: 2.0\n",
      "2019-09-09 16:42:31 | [DEBUG] BG Level 4 scaling: 16.0\n",
      "2019-09-09 16:42:31 | [DEBUG] Effective scaling: 8.0\n",
      "2019-09-09 16:42:31 | [DEBUG] Level 1 scaling: 2.0\n",
      "2019-09-09 16:42:31 | [DEBUG] BG Level 4 scaling: 16.0\n",
      "2019-09-09 16:42:31 | [DEBUG] Effective scaling: 8.0\n",
      "2019-09-09 16:42:31 | [DEBUG] Combined mask already exists. Loading from disk.\n",
      "2019-09-09 16:42:31 | [DEBUG] STREAM b'IHDR' 16 13\n",
      "2019-09-09 16:42:31 | [DEBUG] STREAM b'IDAT' 41 65536\n",
      "2019-09-09 16:42:31 | [DEBUG] Level 1 scaling: 2.0\n",
      "2019-09-09 16:42:31 | [DEBUG] BG Level 4 scaling: 16.0\n",
      "2019-09-09 16:42:31 | [DEBUG] Effective scaling: 8.0\n",
      "2019-09-09 16:42:31 | [DEBUG] Cancer mask already exists. Loading from disk.\n",
      "2019-09-09 16:42:31 | [DEBUG] STREAM b'IHDR' 16 13\n",
      "2019-09-09 16:42:31 | [DEBUG] STREAM b'IDAT' 41 210368\n",
      "2019-09-09 16:42:31 | [INFO] Processing WSI tiles.\n"
     ]
    },
    {
     "name": "stdout",
     "output_type": "stream",
     "text": [
      "Progress:  98%\r"
     ]
    },
    {
     "name": "stderr",
     "output_type": "stream",
     "text": [
      "2019-09-09 16:42:54 | [INFO] Processing: P-2019_2587-11-0\n",
      "2019-09-09 16:42:54 | [DEBUG] Level 1 scaling: 2.0\n",
      "2019-09-09 16:42:54 | [DEBUG] BG Level 4 scaling: 16.0\n",
      "2019-09-09 16:42:54 | [DEBUG] Effective scaling: 8.0\n",
      "2019-09-09 16:42:54 | [DEBUG] Level 1 scaling: 2.0\n",
      "2019-09-09 16:42:54 | [DEBUG] BG Level 4 scaling: 16.0\n",
      "2019-09-09 16:42:54 | [DEBUG] Effective scaling: 8.0\n",
      "2019-09-09 16:42:54 | [DEBUG] Combined mask already exists. Loading from disk.\n",
      "2019-09-09 16:42:54 | [DEBUG] STREAM b'IHDR' 16 13\n",
      "2019-09-09 16:42:54 | [DEBUG] STREAM b'IDAT' 41 65536\n",
      "2019-09-09 16:42:54 | [DEBUG] Level 1 scaling: 2.0\n",
      "2019-09-09 16:42:54 | [DEBUG] BG Level 4 scaling: 16.0\n",
      "2019-09-09 16:42:54 | [DEBUG] Effective scaling: 8.0\n",
      "2019-09-09 16:42:54 | [DEBUG] Cancer mask already exists. Loading from disk.\n",
      "2019-09-09 16:42:54 | [DEBUG] STREAM b'IHDR' 16 13\n",
      "2019-09-09 16:42:54 | [DEBUG] STREAM b'IDAT' 41 210368\n",
      "2019-09-09 16:42:54 | [INFO] Processing WSI tiles.\n"
     ]
    },
    {
     "name": "stdout",
     "output_type": "stream",
     "text": [
      "Progress:  98%\r"
     ]
    },
    {
     "name": "stderr",
     "output_type": "stream",
     "text": [
      "2019-09-09 16:43:15 | [INFO] Processing: P-2019_2552-08-0\n",
      "2019-09-09 16:43:15 | [DEBUG] Level 1 scaling: 2.0\n",
      "2019-09-09 16:43:15 | [DEBUG] BG Level 4 scaling: 16.0\n",
      "2019-09-09 16:43:15 | [DEBUG] Effective scaling: 8.0\n",
      "2019-09-09 16:43:15 | [DEBUG] Level 1 scaling: 2.0\n",
      "2019-09-09 16:43:15 | [DEBUG] BG Level 4 scaling: 16.0\n",
      "2019-09-09 16:43:15 | [DEBUG] Effective scaling: 8.0\n",
      "2019-09-09 16:43:15 | [DEBUG] Combined mask already exists. Loading from disk.\n",
      "2019-09-09 16:43:15 | [DEBUG] STREAM b'IHDR' 16 13\n",
      "2019-09-09 16:43:15 | [DEBUG] STREAM b'IDAT' 41 65536\n",
      "2019-09-09 16:43:15 | [DEBUG] Level 1 scaling: 2.0\n",
      "2019-09-09 16:43:15 | [DEBUG] BG Level 4 scaling: 16.0\n",
      "2019-09-09 16:43:15 | [DEBUG] Effective scaling: 8.0\n",
      "2019-09-09 16:43:15 | [DEBUG] Cancer mask already exists. Loading from disk.\n",
      "2019-09-09 16:43:15 | [DEBUG] STREAM b'IHDR' 16 13\n",
      "2019-09-09 16:43:15 | [DEBUG] STREAM b'IDAT' 41 210368\n",
      "2019-09-09 16:43:15 | [INFO] Processing WSI tiles.\n"
     ]
    },
    {
     "name": "stdout",
     "output_type": "stream",
     "text": [
      "Progress:  99%\r"
     ]
    },
    {
     "name": "stderr",
     "output_type": "stream",
     "text": [
      "2019-09-09 16:43:39 | [INFO] Processing: P-2019_1427-09-1\n",
      "2019-09-09 16:43:39 | [DEBUG] Level 1 scaling: 2.0\n",
      "2019-09-09 16:43:39 | [DEBUG] BG Level 4 scaling: 16.0\n",
      "2019-09-09 16:43:39 | [DEBUG] Effective scaling: 8.0\n",
      "2019-09-09 16:43:39 | [DEBUG] Level 1 scaling: 2.0\n",
      "2019-09-09 16:43:39 | [DEBUG] BG Level 4 scaling: 16.0\n",
      "2019-09-09 16:43:39 | [DEBUG] Effective scaling: 8.0\n",
      "2019-09-09 16:43:39 | [DEBUG] Combined mask already exists. Loading from disk.\n",
      "2019-09-09 16:43:39 | [DEBUG] STREAM b'IHDR' 16 13\n",
      "2019-09-09 16:43:39 | [DEBUG] STREAM b'IDAT' 41 65536\n",
      "2019-09-09 16:43:39 | [DEBUG] Level 1 scaling: 2.0\n",
      "2019-09-09 16:43:39 | [DEBUG] BG Level 4 scaling: 16.0\n",
      "2019-09-09 16:43:39 | [DEBUG] Effective scaling: 8.0\n",
      "2019-09-09 16:43:39 | [DEBUG] Cancer mask already exists. Loading from disk.\n",
      "2019-09-09 16:43:39 | [DEBUG] STREAM b'IHDR' 16 13\n",
      "2019-09-09 16:43:39 | [DEBUG] STREAM b'IDAT' 41 210368\n",
      "2019-09-09 16:43:39 | [INFO] Processing WSI tiles.\n"
     ]
    },
    {
     "name": "stdout",
     "output_type": "stream",
     "text": [
      "Progress:  99%\r"
     ]
    },
    {
     "name": "stderr",
     "output_type": "stream",
     "text": [
      "2019-09-09 16:44:11 | [INFO] Processing: P-2019_4624-07-0\n",
      "2019-09-09 16:44:11 | [DEBUG] Level 1 scaling: 2.0\n",
      "2019-09-09 16:44:11 | [DEBUG] BG Level 4 scaling: 16.0\n",
      "2019-09-09 16:44:11 | [DEBUG] Effective scaling: 8.0\n",
      "2019-09-09 16:44:11 | [DEBUG] Level 1 scaling: 2.0\n",
      "2019-09-09 16:44:11 | [DEBUG] BG Level 4 scaling: 16.0\n",
      "2019-09-09 16:44:11 | [DEBUG] Effective scaling: 8.0\n",
      "2019-09-09 16:44:11 | [DEBUG] Combined mask already exists. Loading from disk.\n",
      "2019-09-09 16:44:11 | [DEBUG] STREAM b'IHDR' 16 13\n",
      "2019-09-09 16:44:11 | [DEBUG] STREAM b'IDAT' 41 65536\n",
      "2019-09-09 16:44:11 | [DEBUG] Level 1 scaling: 2.0\n",
      "2019-09-09 16:44:11 | [DEBUG] BG Level 4 scaling: 16.0\n",
      "2019-09-09 16:44:11 | [DEBUG] Effective scaling: 8.0\n",
      "2019-09-09 16:44:11 | [DEBUG] Cancer mask already exists. Loading from disk.\n",
      "2019-09-09 16:44:11 | [DEBUG] STREAM b'IHDR' 16 13\n",
      "2019-09-09 16:44:11 | [DEBUG] STREAM b'IDAT' 41 210368\n",
      "2019-09-09 16:44:11 | [INFO] Processing WSI tiles.\n"
     ]
    },
    {
     "name": "stdout",
     "output_type": "stream",
     "text": [
      "Progress:  98%\r"
     ]
    },
    {
     "name": "stderr",
     "output_type": "stream",
     "text": [
      "2019-09-09 16:44:38 | [INFO] Processing: P-2019_1427-10-1\n"
     ]
    },
    {
     "name": "stdout",
     "output_type": "stream",
     "text": [
      "Progress:  99%\r",
      "Progress: 100%\r"
     ]
    },
    {
     "name": "stderr",
     "output_type": "stream",
     "text": [
      "2019-09-09 16:44:38 | [DEBUG] Level 1 scaling: 2.0\n",
      "2019-09-09 16:44:38 | [DEBUG] BG Level 4 scaling: 16.0\n",
      "2019-09-09 16:44:38 | [DEBUG] Effective scaling: 8.0\n",
      "2019-09-09 16:44:38 | [DEBUG] Level 1 scaling: 2.0\n",
      "2019-09-09 16:44:38 | [DEBUG] BG Level 4 scaling: 16.0\n",
      "2019-09-09 16:44:38 | [DEBUG] Effective scaling: 8.0\n",
      "2019-09-09 16:44:38 | [DEBUG] Combined mask already exists. Loading from disk.\n",
      "2019-09-09 16:44:38 | [DEBUG] STREAM b'IHDR' 16 13\n",
      "2019-09-09 16:44:38 | [DEBUG] STREAM b'IDAT' 41 65536\n",
      "2019-09-09 16:44:38 | [DEBUG] Level 1 scaling: 2.0\n",
      "2019-09-09 16:44:38 | [DEBUG] BG Level 4 scaling: 16.0\n",
      "2019-09-09 16:44:38 | [DEBUG] Effective scaling: 8.0\n",
      "2019-09-09 16:44:38 | [DEBUG] Cancer mask already exists. Loading from disk.\n",
      "2019-09-09 16:44:38 | [DEBUG] STREAM b'IHDR' 16 13\n",
      "2019-09-09 16:44:38 | [DEBUG] STREAM b'IDAT' 41 210368\n",
      "2019-09-09 16:44:38 | [INFO] Processing WSI tiles.\n"
     ]
    },
    {
     "name": "stdout",
     "output_type": "stream",
     "text": [
      "Progress:  99%\r"
     ]
    },
    {
     "name": "stderr",
     "output_type": "stream",
     "text": [
      "2019-09-09 16:45:07 | [INFO] Processing: P-2019_5356-02-0\n",
      "2019-09-09 16:45:07 | [DEBUG] Level 1 scaling: 2.0\n",
      "2019-09-09 16:45:07 | [DEBUG] BG Level 4 scaling: 16.0\n",
      "2019-09-09 16:45:07 | [DEBUG] Effective scaling: 8.0\n",
      "2019-09-09 16:45:07 | [DEBUG] Level 1 scaling: 2.0\n",
      "2019-09-09 16:45:07 | [DEBUG] BG Level 4 scaling: 16.0\n",
      "2019-09-09 16:45:07 | [DEBUG] Effective scaling: 8.0\n",
      "2019-09-09 16:45:07 | [DEBUG] Combined mask already exists. Loading from disk.\n",
      "2019-09-09 16:45:07 | [DEBUG] STREAM b'IHDR' 16 13\n",
      "2019-09-09 16:45:07 | [DEBUG] STREAM b'IDAT' 41 65536\n",
      "2019-09-09 16:45:07 | [DEBUG] Level 1 scaling: 2.0\n",
      "2019-09-09 16:45:07 | [DEBUG] BG Level 4 scaling: 16.0\n",
      "2019-09-09 16:45:07 | [DEBUG] Effective scaling: 8.0\n",
      "2019-09-09 16:45:07 | [DEBUG] Cancer mask already exists. Loading from disk.\n",
      "2019-09-09 16:45:07 | [DEBUG] STREAM b'IHDR' 16 13\n",
      "2019-09-09 16:45:07 | [DEBUG] STREAM b'IDAT' 41 210368\n",
      "2019-09-09 16:45:07 | [INFO] Processing WSI tiles.\n"
     ]
    },
    {
     "name": "stdout",
     "output_type": "stream",
     "text": [
      "Progress:  98%\r"
     ]
    },
    {
     "name": "stderr",
     "output_type": "stream",
     "text": [
      "2019-09-09 16:45:31 | [INFO] Processing: P-2019_4231-06-0\n",
      "2019-09-09 16:45:31 | [DEBUG] Level 1 scaling: 2.0\n",
      "2019-09-09 16:45:31 | [DEBUG] BG Level 4 scaling: 16.0\n",
      "2019-09-09 16:45:31 | [DEBUG] Effective scaling: 8.0\n",
      "2019-09-09 16:45:31 | [DEBUG] Level 1 scaling: 2.0\n",
      "2019-09-09 16:45:31 | [DEBUG] BG Level 4 scaling: 16.0\n",
      "2019-09-09 16:45:31 | [DEBUG] Effective scaling: 8.0\n",
      "2019-09-09 16:45:31 | [DEBUG] Combined mask already exists. Loading from disk.\n",
      "2019-09-09 16:45:31 | [DEBUG] STREAM b'IHDR' 16 13\n",
      "2019-09-09 16:45:31 | [DEBUG] STREAM b'IDAT' 41 65536\n",
      "2019-09-09 16:45:31 | [DEBUG] Level 1 scaling: 2.0\n",
      "2019-09-09 16:45:31 | [DEBUG] BG Level 4 scaling: 16.0\n",
      "2019-09-09 16:45:31 | [DEBUG] Effective scaling: 8.0\n",
      "2019-09-09 16:45:31 | [DEBUG] Cancer mask already exists. Loading from disk.\n",
      "2019-09-09 16:45:31 | [DEBUG] STREAM b'IHDR' 16 13\n",
      "2019-09-09 16:45:31 | [DEBUG] STREAM b'IDAT' 41 210368\n",
      "2019-09-09 16:45:31 | [INFO] Processing WSI tiles.\n"
     ]
    },
    {
     "name": "stdout",
     "output_type": "stream",
     "text": [
      "Progress:  99%\r"
     ]
    },
    {
     "name": "stderr",
     "output_type": "stream",
     "text": [
      "2019-09-09 16:45:54 | [INFO] Processing: P-2019_3292-03-1\n",
      "2019-09-09 16:45:54 | [DEBUG] Level 1 scaling: 2.0\n",
      "2019-09-09 16:45:54 | [DEBUG] BG Level 4 scaling: 16.0\n",
      "2019-09-09 16:45:54 | [DEBUG] Effective scaling: 8.0\n",
      "2019-09-09 16:45:54 | [DEBUG] Level 1 scaling: 2.0\n",
      "2019-09-09 16:45:54 | [DEBUG] BG Level 4 scaling: 16.0\n",
      "2019-09-09 16:45:54 | [DEBUG] Effective scaling: 8.0\n",
      "2019-09-09 16:45:54 | [DEBUG] Combined mask already exists. Loading from disk.\n",
      "2019-09-09 16:45:54 | [DEBUG] STREAM b'IHDR' 16 13\n",
      "2019-09-09 16:45:54 | [DEBUG] STREAM b'IDAT' 41 65536\n",
      "2019-09-09 16:45:54 | [DEBUG] Level 1 scaling: 2.0\n",
      "2019-09-09 16:45:54 | [DEBUG] BG Level 4 scaling: 16.0\n",
      "2019-09-09 16:45:54 | [DEBUG] Effective scaling: 8.0\n",
      "2019-09-09 16:45:54 | [DEBUG] Cancer mask already exists. Loading from disk.\n",
      "2019-09-09 16:45:54 | [DEBUG] STREAM b'IHDR' 16 13\n",
      "2019-09-09 16:45:54 | [DEBUG] STREAM b'IDAT' 41 210368\n",
      "2019-09-09 16:45:54 | [INFO] Processing WSI tiles.\n"
     ]
    },
    {
     "name": "stdout",
     "output_type": "stream",
     "text": [
      "Progress:  99%\r"
     ]
    },
    {
     "name": "stderr",
     "output_type": "stream",
     "text": [
      "2019-09-09 16:46:23 | [INFO] Processing: P-2019_3204-15-1\n",
      "2019-09-09 16:46:23 | [DEBUG] Level 1 scaling: 2.0\n",
      "2019-09-09 16:46:23 | [DEBUG] BG Level 4 scaling: 16.0\n",
      "2019-09-09 16:46:23 | [DEBUG] Effective scaling: 8.0\n",
      "2019-09-09 16:46:23 | [DEBUG] Level 1 scaling: 2.0\n",
      "2019-09-09 16:46:23 | [DEBUG] BG Level 4 scaling: 16.0\n",
      "2019-09-09 16:46:23 | [DEBUG] Effective scaling: 8.0\n",
      "2019-09-09 16:46:23 | [DEBUG] Combined mask already exists. Loading from disk.\n",
      "2019-09-09 16:46:23 | [DEBUG] STREAM b'IHDR' 16 13\n",
      "2019-09-09 16:46:23 | [DEBUG] STREAM b'IDAT' 41 65536\n",
      "2019-09-09 16:46:23 | [DEBUG] Level 1 scaling: 2.0\n",
      "2019-09-09 16:46:23 | [DEBUG] BG Level 4 scaling: 16.0\n",
      "2019-09-09 16:46:23 | [DEBUG] Effective scaling: 8.0\n",
      "2019-09-09 16:46:23 | [DEBUG] Cancer mask already exists. Loading from disk.\n",
      "2019-09-09 16:46:23 | [DEBUG] STREAM b'IHDR' 16 13\n",
      "2019-09-09 16:46:23 | [DEBUG] STREAM b'IDAT' 41 210368\n",
      "2019-09-09 16:46:23 | [INFO] Processing WSI tiles.\n"
     ]
    },
    {
     "name": "stdout",
     "output_type": "stream",
     "text": [
      "Progress:  99%\r"
     ]
    },
    {
     "name": "stderr",
     "output_type": "stream",
     "text": [
      "2019-09-09 16:46:53 | [INFO] Processing: P-2019_4231-10-1\n"
     ]
    },
    {
     "name": "stdout",
     "output_type": "stream",
     "text": [
      "Progress: 100%\r"
     ]
    },
    {
     "name": "stderr",
     "output_type": "stream",
     "text": [
      "2019-09-09 16:46:53 | [DEBUG] Level 1 scaling: 2.0\n",
      "2019-09-09 16:46:53 | [DEBUG] BG Level 4 scaling: 16.0\n",
      "2019-09-09 16:46:53 | [DEBUG] Effective scaling: 8.0\n",
      "2019-09-09 16:46:53 | [DEBUG] Level 1 scaling: 2.0\n",
      "2019-09-09 16:46:53 | [DEBUG] BG Level 4 scaling: 16.0\n",
      "2019-09-09 16:46:53 | [DEBUG] Effective scaling: 8.0\n",
      "2019-09-09 16:46:53 | [DEBUG] Combined mask already exists. Loading from disk.\n",
      "2019-09-09 16:46:53 | [DEBUG] STREAM b'IHDR' 16 13\n",
      "2019-09-09 16:46:53 | [DEBUG] STREAM b'IDAT' 41 65536\n",
      "2019-09-09 16:46:53 | [DEBUG] Level 1 scaling: 2.0\n",
      "2019-09-09 16:46:53 | [DEBUG] BG Level 4 scaling: 16.0\n",
      "2019-09-09 16:46:53 | [DEBUG] Effective scaling: 8.0\n",
      "2019-09-09 16:46:53 | [DEBUG] Cancer mask already exists. Loading from disk.\n",
      "2019-09-09 16:46:53 | [DEBUG] STREAM b'IHDR' 16 13\n",
      "2019-09-09 16:46:53 | [DEBUG] STREAM b'IDAT' 41 210368\n",
      "2019-09-09 16:46:53 | [INFO] Processing WSI tiles.\n"
     ]
    },
    {
     "name": "stdout",
     "output_type": "stream",
     "text": [
      "Progress:  99%\r"
     ]
    },
    {
     "name": "stderr",
     "output_type": "stream",
     "text": [
      "2019-09-09 16:47:23 | [INFO] Processing: P-2019_4095-01-1\n",
      "2019-09-09 16:47:23 | [DEBUG] Level 1 scaling: 2.0\n",
      "2019-09-09 16:47:23 | [DEBUG] BG Level 4 scaling: 16.0\n",
      "2019-09-09 16:47:23 | [DEBUG] Effective scaling: 8.0\n",
      "2019-09-09 16:47:23 | [DEBUG] Level 1 scaling: 2.0\n",
      "2019-09-09 16:47:23 | [DEBUG] BG Level 4 scaling: 16.0\n",
      "2019-09-09 16:47:23 | [DEBUG] Effective scaling: 8.0\n",
      "2019-09-09 16:47:23 | [DEBUG] Combined mask already exists. Loading from disk.\n",
      "2019-09-09 16:47:23 | [DEBUG] STREAM b'IHDR' 16 13\n",
      "2019-09-09 16:47:23 | [DEBUG] STREAM b'IDAT' 41 65536\n",
      "2019-09-09 16:47:23 | [DEBUG] Level 1 scaling: 2.0\n",
      "2019-09-09 16:47:23 | [DEBUG] BG Level 4 scaling: 16.0\n",
      "2019-09-09 16:47:23 | [DEBUG] Effective scaling: 8.0\n",
      "2019-09-09 16:47:23 | [DEBUG] Cancer mask already exists. Loading from disk.\n",
      "2019-09-09 16:47:23 | [DEBUG] STREAM b'IHDR' 16 13\n",
      "2019-09-09 16:47:23 | [DEBUG] STREAM b'IDAT' 41 210368\n",
      "2019-09-09 16:47:23 | [INFO] Processing WSI tiles.\n"
     ]
    },
    {
     "name": "stdout",
     "output_type": "stream",
     "text": [
      "Progress:  98%\r"
     ]
    },
    {
     "name": "stderr",
     "output_type": "stream",
     "text": [
      "2019-09-09 16:47:53 | [INFO] Processing: TP-2019_2623-09-0\n",
      "2019-09-09 16:47:53 | [DEBUG] Level 1 scaling: 2.0\n",
      "2019-09-09 16:47:53 | [DEBUG] BG Level 4 scaling: 16.0\n",
      "2019-09-09 16:47:53 | [DEBUG] Effective scaling: 8.0\n",
      "2019-09-09 16:47:53 | [DEBUG] Level 1 scaling: 2.0\n",
      "2019-09-09 16:47:53 | [DEBUG] BG Level 4 scaling: 16.0\n",
      "2019-09-09 16:47:53 | [DEBUG] Effective scaling: 8.0\n",
      "2019-09-09 16:47:53 | [DEBUG] Combined mask already exists. Loading from disk.\n",
      "2019-09-09 16:47:53 | [DEBUG] STREAM b'IHDR' 16 13\n",
      "2019-09-09 16:47:53 | [DEBUG] STREAM b'IDAT' 41 65536\n",
      "2019-09-09 16:47:53 | [DEBUG] Level 1 scaling: 2.0\n",
      "2019-09-09 16:47:53 | [DEBUG] BG Level 4 scaling: 16.0\n",
      "2019-09-09 16:47:53 | [DEBUG] Effective scaling: 8.0\n",
      "2019-09-09 16:47:53 | [DEBUG] Cancer mask already exists. Loading from disk.\n",
      "2019-09-09 16:47:53 | [DEBUG] STREAM b'IHDR' 16 13\n",
      "2019-09-09 16:47:53 | [DEBUG] STREAM b'IDAT' 41 210368\n",
      "2019-09-09 16:47:53 | [INFO] Processing WSI tiles.\n"
     ]
    },
    {
     "name": "stdout",
     "output_type": "stream",
     "text": [
      "Progress:  98%\r"
     ]
    },
    {
     "name": "stderr",
     "output_type": "stream",
     "text": [
      "2019-09-09 16:48:22 | [INFO] Processing: P-2019_3025-07-1\n"
     ]
    },
    {
     "name": "stdout",
     "output_type": "stream",
     "text": [
      "Progress:  99%\r",
      "Progress: 100%\r"
     ]
    },
    {
     "name": "stderr",
     "output_type": "stream",
     "text": [
      "2019-09-09 16:48:22 | [DEBUG] Level 1 scaling: 2.0\n",
      "2019-09-09 16:48:22 | [DEBUG] BG Level 4 scaling: 16.0\n",
      "2019-09-09 16:48:22 | [DEBUG] Effective scaling: 8.0\n",
      "2019-09-09 16:48:22 | [DEBUG] Level 1 scaling: 2.0\n",
      "2019-09-09 16:48:22 | [DEBUG] BG Level 4 scaling: 16.0\n",
      "2019-09-09 16:48:22 | [DEBUG] Effective scaling: 8.0\n",
      "2019-09-09 16:48:22 | [DEBUG] Combined mask already exists. Loading from disk.\n",
      "2019-09-09 16:48:22 | [DEBUG] STREAM b'IHDR' 16 13\n",
      "2019-09-09 16:48:22 | [DEBUG] STREAM b'IDAT' 41 65536\n",
      "2019-09-09 16:48:22 | [DEBUG] Level 1 scaling: 2.0\n",
      "2019-09-09 16:48:22 | [DEBUG] BG Level 4 scaling: 16.0\n",
      "2019-09-09 16:48:22 | [DEBUG] Effective scaling: 8.0\n",
      "2019-09-09 16:48:22 | [DEBUG] Cancer mask already exists. Loading from disk.\n",
      "2019-09-09 16:48:22 | [DEBUG] STREAM b'IHDR' 16 13\n",
      "2019-09-09 16:48:22 | [DEBUG] STREAM b'IDAT' 41 210368\n",
      "2019-09-09 16:48:22 | [INFO] Processing WSI tiles.\n"
     ]
    },
    {
     "name": "stdout",
     "output_type": "stream",
     "text": [
      "Progress:  98%\r"
     ]
    },
    {
     "name": "stderr",
     "output_type": "stream",
     "text": [
      "2019-09-09 16:48:51 | [INFO] Processing: P-2019_4231-09-1\n"
     ]
    },
    {
     "name": "stdout",
     "output_type": "stream",
     "text": [
      "Progress:  99%\r",
      "Progress: 100%\r"
     ]
    },
    {
     "name": "stderr",
     "output_type": "stream",
     "text": [
      "2019-09-09 16:48:52 | [DEBUG] Level 1 scaling: 2.0\n",
      "2019-09-09 16:48:52 | [DEBUG] BG Level 4 scaling: 16.0\n",
      "2019-09-09 16:48:52 | [DEBUG] Effective scaling: 8.0\n",
      "2019-09-09 16:48:52 | [DEBUG] Level 1 scaling: 2.0\n",
      "2019-09-09 16:48:52 | [DEBUG] BG Level 4 scaling: 16.0\n",
      "2019-09-09 16:48:52 | [DEBUG] Effective scaling: 8.0\n",
      "2019-09-09 16:48:52 | [DEBUG] Combined mask already exists. Loading from disk.\n",
      "2019-09-09 16:48:52 | [DEBUG] STREAM b'IHDR' 16 13\n",
      "2019-09-09 16:48:52 | [DEBUG] STREAM b'IDAT' 41 65536\n",
      "2019-09-09 16:48:52 | [DEBUG] Level 1 scaling: 2.0\n",
      "2019-09-09 16:48:52 | [DEBUG] BG Level 4 scaling: 16.0\n",
      "2019-09-09 16:48:52 | [DEBUG] Effective scaling: 8.0\n",
      "2019-09-09 16:48:52 | [DEBUG] Cancer mask already exists. Loading from disk.\n",
      "2019-09-09 16:48:52 | [DEBUG] STREAM b'IHDR' 16 13\n",
      "2019-09-09 16:48:52 | [DEBUG] STREAM b'IDAT' 41 210368\n",
      "2019-09-09 16:48:52 | [INFO] Processing WSI tiles.\n"
     ]
    },
    {
     "name": "stdout",
     "output_type": "stream",
     "text": [
      "Progress:  99%\r"
     ]
    },
    {
     "name": "stderr",
     "output_type": "stream",
     "text": [
      "2019-09-09 16:49:22 | [INFO] Processing: P-2019_2216-03-1\n",
      "2019-09-09 16:49:22 | [DEBUG] Level 1 scaling: 2.0\n",
      "2019-09-09 16:49:22 | [DEBUG] BG Level 4 scaling: 16.0\n",
      "2019-09-09 16:49:22 | [DEBUG] Effective scaling: 8.0\n",
      "2019-09-09 16:49:22 | [DEBUG] Level 1 scaling: 2.0\n",
      "2019-09-09 16:49:22 | [DEBUG] BG Level 4 scaling: 16.0\n",
      "2019-09-09 16:49:22 | [DEBUG] Effective scaling: 8.0\n",
      "2019-09-09 16:49:22 | [DEBUG] Combined mask already exists. Loading from disk.\n",
      "2019-09-09 16:49:22 | [DEBUG] STREAM b'IHDR' 16 13\n",
      "2019-09-09 16:49:22 | [DEBUG] STREAM b'IDAT' 41 65536\n",
      "2019-09-09 16:49:22 | [DEBUG] Level 1 scaling: 2.0\n",
      "2019-09-09 16:49:22 | [DEBUG] BG Level 4 scaling: 16.0\n",
      "2019-09-09 16:49:22 | [DEBUG] Effective scaling: 8.0\n",
      "2019-09-09 16:49:22 | [DEBUG] Cancer mask already exists. Loading from disk.\n",
      "2019-09-09 16:49:22 | [DEBUG] STREAM b'IHDR' 16 13\n",
      "2019-09-09 16:49:22 | [DEBUG] STREAM b'IDAT' 41 210368\n",
      "2019-09-09 16:49:22 | [INFO] Processing WSI tiles.\n"
     ]
    },
    {
     "name": "stdout",
     "output_type": "stream",
     "text": [
      "Progress:  99%\r"
     ]
    },
    {
     "name": "stderr",
     "output_type": "stream",
     "text": [
      "2019-09-09 16:49:50 | [INFO] Processing: P-2019_2552-10-0\n",
      "2019-09-09 16:49:50 | [DEBUG] Level 1 scaling: 2.0\n",
      "2019-09-09 16:49:50 | [DEBUG] BG Level 4 scaling: 16.0\n",
      "2019-09-09 16:49:50 | [DEBUG] Effective scaling: 8.0\n",
      "2019-09-09 16:49:50 | [DEBUG] Level 1 scaling: 2.0\n",
      "2019-09-09 16:49:50 | [DEBUG] BG Level 4 scaling: 16.0\n",
      "2019-09-09 16:49:50 | [DEBUG] Effective scaling: 8.0\n",
      "2019-09-09 16:49:50 | [DEBUG] Combined mask already exists. Loading from disk.\n",
      "2019-09-09 16:49:50 | [DEBUG] STREAM b'IHDR' 16 13\n",
      "2019-09-09 16:49:50 | [DEBUG] STREAM b'IDAT' 41 65536\n",
      "2019-09-09 16:49:50 | [DEBUG] Level 1 scaling: 2.0\n",
      "2019-09-09 16:49:50 | [DEBUG] BG Level 4 scaling: 16.0\n",
      "2019-09-09 16:49:50 | [DEBUG] Effective scaling: 8.0\n",
      "2019-09-09 16:49:50 | [DEBUG] Cancer mask already exists. Loading from disk.\n",
      "2019-09-09 16:49:50 | [DEBUG] STREAM b'IHDR' 16 13\n",
      "2019-09-09 16:49:50 | [DEBUG] STREAM b'IDAT' 41 210368\n",
      "2019-09-09 16:49:50 | [INFO] Processing WSI tiles.\n"
     ]
    },
    {
     "name": "stdout",
     "output_type": "stream",
     "text": [
      "Progress:  99%\r"
     ]
    },
    {
     "name": "stderr",
     "output_type": "stream",
     "text": [
      "2019-09-09 16:50:20 | [INFO] Processing: P-2019_2233-04-0\n",
      "2019-09-09 16:50:20 | [DEBUG] Level 1 scaling: 2.0\n",
      "2019-09-09 16:50:20 | [DEBUG] BG Level 4 scaling: 16.0\n",
      "2019-09-09 16:50:20 | [DEBUG] Effective scaling: 8.0\n",
      "2019-09-09 16:50:20 | [DEBUG] Level 1 scaling: 2.0\n",
      "2019-09-09 16:50:20 | [DEBUG] BG Level 4 scaling: 16.0\n",
      "2019-09-09 16:50:20 | [DEBUG] Effective scaling: 8.0\n",
      "2019-09-09 16:50:20 | [DEBUG] Combined mask already exists. Loading from disk.\n",
      "2019-09-09 16:50:20 | [DEBUG] STREAM b'IHDR' 16 13\n",
      "2019-09-09 16:50:20 | [DEBUG] STREAM b'IDAT' 41 65536\n",
      "2019-09-09 16:50:20 | [DEBUG] Level 1 scaling: 2.0\n",
      "2019-09-09 16:50:20 | [DEBUG] BG Level 4 scaling: 16.0\n",
      "2019-09-09 16:50:20 | [DEBUG] Effective scaling: 8.0\n",
      "2019-09-09 16:50:20 | [DEBUG] Cancer mask already exists. Loading from disk.\n",
      "2019-09-09 16:50:20 | [DEBUG] STREAM b'IHDR' 16 13\n",
      "2019-09-09 16:50:20 | [DEBUG] STREAM b'IDAT' 41 210368\n",
      "2019-09-09 16:50:20 | [INFO] Processing WSI tiles.\n"
     ]
    },
    {
     "name": "stdout",
     "output_type": "stream",
     "text": [
      "Progress:  99%\r"
     ]
    },
    {
     "name": "stderr",
     "output_type": "stream",
     "text": [
      "2019-09-09 16:50:48 | [INFO] Processing: P-2019_3124-14-0\n",
      "2019-09-09 16:50:48 | [DEBUG] Level 1 scaling: 2.0\n",
      "2019-09-09 16:50:48 | [DEBUG] BG Level 4 scaling: 16.0\n",
      "2019-09-09 16:50:48 | [DEBUG] Effective scaling: 8.0\n",
      "2019-09-09 16:50:48 | [DEBUG] Level 1 scaling: 2.0\n",
      "2019-09-09 16:50:48 | [DEBUG] BG Level 4 scaling: 16.0\n",
      "2019-09-09 16:50:48 | [DEBUG] Effective scaling: 8.0\n",
      "2019-09-09 16:50:48 | [DEBUG] Combined mask already exists. Loading from disk.\n",
      "2019-09-09 16:50:48 | [DEBUG] STREAM b'IHDR' 16 13\n",
      "2019-09-09 16:50:48 | [DEBUG] STREAM b'IDAT' 41 65536\n",
      "2019-09-09 16:50:48 | [DEBUG] Level 1 scaling: 2.0\n",
      "2019-09-09 16:50:48 | [DEBUG] BG Level 4 scaling: 16.0\n",
      "2019-09-09 16:50:48 | [DEBUG] Effective scaling: 8.0\n",
      "2019-09-09 16:50:48 | [DEBUG] Cancer mask already exists. Loading from disk.\n",
      "2019-09-09 16:50:48 | [DEBUG] STREAM b'IHDR' 16 13\n",
      "2019-09-09 16:50:48 | [DEBUG] STREAM b'IDAT' 41 210368\n",
      "2019-09-09 16:50:48 | [INFO] Processing WSI tiles.\n"
     ]
    },
    {
     "name": "stdout",
     "output_type": "stream",
     "text": [
      "Progress:  98%\r"
     ]
    },
    {
     "name": "stderr",
     "output_type": "stream",
     "text": [
      "2019-09-09 16:51:18 | [INFO] Processing: TP-2019_2824-07-0\n"
     ]
    },
    {
     "name": "stdout",
     "output_type": "stream",
     "text": [
      "Progress:  99%\r",
      "Progress: 100%\r"
     ]
    },
    {
     "name": "stderr",
     "output_type": "stream",
     "text": [
      "2019-09-09 16:51:18 | [DEBUG] Level 1 scaling: 2.0\n",
      "2019-09-09 16:51:18 | [DEBUG] BG Level 4 scaling: 16.0\n",
      "2019-09-09 16:51:18 | [DEBUG] Effective scaling: 8.0\n",
      "2019-09-09 16:51:18 | [DEBUG] Level 1 scaling: 2.0\n",
      "2019-09-09 16:51:18 | [DEBUG] BG Level 4 scaling: 16.0\n",
      "2019-09-09 16:51:18 | [DEBUG] Effective scaling: 8.0\n",
      "2019-09-09 16:51:18 | [DEBUG] Combined mask already exists. Loading from disk.\n",
      "2019-09-09 16:51:18 | [DEBUG] STREAM b'IHDR' 16 13\n",
      "2019-09-09 16:51:18 | [DEBUG] STREAM b'IDAT' 41 65536\n",
      "2019-09-09 16:51:18 | [DEBUG] Level 1 scaling: 2.0\n",
      "2019-09-09 16:51:18 | [DEBUG] BG Level 4 scaling: 16.0\n",
      "2019-09-09 16:51:18 | [DEBUG] Effective scaling: 8.0\n",
      "2019-09-09 16:51:18 | [DEBUG] Cancer mask already exists. Loading from disk.\n",
      "2019-09-09 16:51:18 | [DEBUG] STREAM b'IHDR' 16 13\n",
      "2019-09-09 16:51:18 | [DEBUG] STREAM b'IDAT' 41 210368\n",
      "2019-09-09 16:51:18 | [INFO] Processing WSI tiles.\n"
     ]
    },
    {
     "name": "stdout",
     "output_type": "stream",
     "text": [
      "Progress:  99%\r"
     ]
    },
    {
     "name": "stderr",
     "output_type": "stream",
     "text": [
      "2019-09-09 16:51:48 | [INFO] Processing: P-2019_4121-08-1\n",
      "2019-09-09 16:51:48 | [DEBUG] Level 1 scaling: 2.0\n",
      "2019-09-09 16:51:48 | [DEBUG] BG Level 4 scaling: 16.0\n",
      "2019-09-09 16:51:48 | [DEBUG] Effective scaling: 8.0\n",
      "2019-09-09 16:51:48 | [DEBUG] Level 1 scaling: 2.0\n",
      "2019-09-09 16:51:48 | [DEBUG] BG Level 4 scaling: 16.0\n",
      "2019-09-09 16:51:48 | [DEBUG] Effective scaling: 8.0\n",
      "2019-09-09 16:51:48 | [DEBUG] Combined mask already exists. Loading from disk.\n",
      "2019-09-09 16:51:48 | [DEBUG] STREAM b'IHDR' 16 13\n",
      "2019-09-09 16:51:48 | [DEBUG] STREAM b'IDAT' 41 65536\n",
      "2019-09-09 16:51:48 | [DEBUG] Level 1 scaling: 2.0\n",
      "2019-09-09 16:51:48 | [DEBUG] BG Level 4 scaling: 16.0\n",
      "2019-09-09 16:51:48 | [DEBUG] Effective scaling: 8.0\n",
      "2019-09-09 16:51:48 | [DEBUG] Cancer mask already exists. Loading from disk.\n",
      "2019-09-09 16:51:48 | [DEBUG] STREAM b'IHDR' 16 13\n",
      "2019-09-09 16:51:48 | [DEBUG] STREAM b'IDAT' 41 210368\n",
      "2019-09-09 16:51:48 | [INFO] Processing WSI tiles.\n"
     ]
    },
    {
     "name": "stdout",
     "output_type": "stream",
     "text": [
      "Progress:  98%\r"
     ]
    },
    {
     "name": "stderr",
     "output_type": "stream",
     "text": [
      "2019-09-09 16:52:11 | [INFO] Processing: P-2019_1427-13-0\n",
      "2019-09-09 16:52:11 | [DEBUG] Level 1 scaling: 2.0\n",
      "2019-09-09 16:52:11 | [DEBUG] BG Level 4 scaling: 16.0\n",
      "2019-09-09 16:52:11 | [DEBUG] Effective scaling: 8.0\n",
      "2019-09-09 16:52:11 | [DEBUG] Level 1 scaling: 2.0\n",
      "2019-09-09 16:52:11 | [DEBUG] BG Level 4 scaling: 16.0\n",
      "2019-09-09 16:52:11 | [DEBUG] Effective scaling: 8.0\n",
      "2019-09-09 16:52:11 | [DEBUG] Combined mask already exists. Loading from disk.\n",
      "2019-09-09 16:52:11 | [DEBUG] STREAM b'IHDR' 16 13\n",
      "2019-09-09 16:52:11 | [DEBUG] STREAM b'IDAT' 41 65536\n",
      "2019-09-09 16:52:11 | [DEBUG] Level 1 scaling: 2.0\n",
      "2019-09-09 16:52:11 | [DEBUG] BG Level 4 scaling: 16.0\n",
      "2019-09-09 16:52:11 | [DEBUG] Effective scaling: 8.0\n",
      "2019-09-09 16:52:11 | [DEBUG] Cancer mask already exists. Loading from disk.\n",
      "2019-09-09 16:52:11 | [DEBUG] STREAM b'IHDR' 16 13\n",
      "2019-09-09 16:52:11 | [DEBUG] STREAM b'IDAT' 41 210368\n",
      "2019-09-09 16:52:11 | [INFO] Processing WSI tiles.\n"
     ]
    },
    {
     "name": "stdout",
     "output_type": "stream",
     "text": [
      "Progress:  99%\r"
     ]
    },
    {
     "name": "stderr",
     "output_type": "stream",
     "text": [
      "2019-09-09 16:52:34 | [INFO] Processing: P-2019_2781-10-1\n",
      "2019-09-09 16:52:34 | [DEBUG] Level 1 scaling: 2.0\n",
      "2019-09-09 16:52:34 | [DEBUG] BG Level 4 scaling: 16.0\n",
      "2019-09-09 16:52:34 | [DEBUG] Effective scaling: 8.0\n",
      "2019-09-09 16:52:34 | [DEBUG] Level 1 scaling: 2.0\n",
      "2019-09-09 16:52:34 | [DEBUG] BG Level 4 scaling: 16.0\n",
      "2019-09-09 16:52:34 | [DEBUG] Effective scaling: 8.0\n",
      "2019-09-09 16:52:34 | [DEBUG] Combined mask already exists. Loading from disk.\n",
      "2019-09-09 16:52:34 | [DEBUG] STREAM b'IHDR' 16 13\n",
      "2019-09-09 16:52:34 | [DEBUG] STREAM b'IDAT' 41 65536\n",
      "2019-09-09 16:52:34 | [DEBUG] Level 1 scaling: 2.0\n",
      "2019-09-09 16:52:34 | [DEBUG] BG Level 4 scaling: 16.0\n",
      "2019-09-09 16:52:34 | [DEBUG] Effective scaling: 8.0\n",
      "2019-09-09 16:52:34 | [DEBUG] Cancer mask already exists. Loading from disk.\n",
      "2019-09-09 16:52:34 | [DEBUG] STREAM b'IHDR' 16 13\n",
      "2019-09-09 16:52:34 | [DEBUG] STREAM b'IDAT' 41 210368\n",
      "2019-09-09 16:52:34 | [INFO] Processing WSI tiles.\n"
     ]
    },
    {
     "name": "stdout",
     "output_type": "stream",
     "text": [
      "Progress:  99%\r"
     ]
    },
    {
     "name": "stderr",
     "output_type": "stream",
     "text": [
      "2019-09-09 16:52:56 | [INFO] Processing: P-2019_4095-19-0\n",
      "2019-09-09 16:52:56 | [DEBUG] Level 1 scaling: 2.0\n",
      "2019-09-09 16:52:56 | [DEBUG] BG Level 4 scaling: 16.0\n",
      "2019-09-09 16:52:56 | [DEBUG] Effective scaling: 8.0\n",
      "2019-09-09 16:52:56 | [DEBUG] Level 1 scaling: 2.0\n",
      "2019-09-09 16:52:56 | [DEBUG] BG Level 4 scaling: 16.0\n",
      "2019-09-09 16:52:56 | [DEBUG] Effective scaling: 8.0\n",
      "2019-09-09 16:52:56 | [DEBUG] Combined mask already exists. Loading from disk.\n",
      "2019-09-09 16:52:56 | [DEBUG] STREAM b'IHDR' 16 13\n",
      "2019-09-09 16:52:56 | [DEBUG] STREAM b'IDAT' 41 65536\n",
      "2019-09-09 16:52:56 | [DEBUG] Level 1 scaling: 2.0\n",
      "2019-09-09 16:52:56 | [DEBUG] BG Level 4 scaling: 16.0\n",
      "2019-09-09 16:52:56 | [DEBUG] Effective scaling: 8.0\n",
      "2019-09-09 16:52:56 | [DEBUG] Cancer mask already exists. Loading from disk.\n",
      "2019-09-09 16:52:56 | [DEBUG] STREAM b'IHDR' 16 13\n",
      "2019-09-09 16:52:56 | [DEBUG] STREAM b'IDAT' 41 210368\n",
      "2019-09-09 16:52:56 | [INFO] Processing WSI tiles.\n"
     ]
    },
    {
     "name": "stdout",
     "output_type": "stream",
     "text": [
      "Progress:  99%\r"
     ]
    },
    {
     "name": "stderr",
     "output_type": "stream",
     "text": [
      "2019-09-09 16:53:25 | [INFO] Processing: P-2019_4095-02-1\n",
      "2019-09-09 16:53:25 | [DEBUG] Level 1 scaling: 2.0\n",
      "2019-09-09 16:53:25 | [DEBUG] BG Level 4 scaling: 16.0\n",
      "2019-09-09 16:53:25 | [DEBUG] Effective scaling: 8.0\n",
      "2019-09-09 16:53:25 | [DEBUG] Level 1 scaling: 2.0\n",
      "2019-09-09 16:53:25 | [DEBUG] BG Level 4 scaling: 16.0\n",
      "2019-09-09 16:53:25 | [DEBUG] Effective scaling: 8.0\n",
      "2019-09-09 16:53:25 | [DEBUG] Combined mask already exists. Loading from disk.\n",
      "2019-09-09 16:53:25 | [DEBUG] STREAM b'IHDR' 16 13\n",
      "2019-09-09 16:53:25 | [DEBUG] STREAM b'IDAT' 41 65536\n",
      "2019-09-09 16:53:25 | [DEBUG] Level 1 scaling: 2.0\n",
      "2019-09-09 16:53:25 | [DEBUG] BG Level 4 scaling: 16.0\n",
      "2019-09-09 16:53:25 | [DEBUG] Effective scaling: 8.0\n",
      "2019-09-09 16:53:25 | [DEBUG] Cancer mask already exists. Loading from disk.\n",
      "2019-09-09 16:53:25 | [DEBUG] STREAM b'IHDR' 16 13\n",
      "2019-09-09 16:53:25 | [DEBUG] STREAM b'IDAT' 41 210368\n",
      "2019-09-09 16:53:25 | [INFO] Processing WSI tiles.\n"
     ]
    },
    {
     "name": "stdout",
     "output_type": "stream",
     "text": [
      "Progress:  98%\r"
     ]
    },
    {
     "name": "stderr",
     "output_type": "stream",
     "text": [
      "2019-09-09 16:53:54 | [INFO] Processing: P-2019_5028-08-1\n"
     ]
    },
    {
     "name": "stdout",
     "output_type": "stream",
     "text": [
      "Progress:  99%\r",
      "Progress: 100%\r"
     ]
    },
    {
     "name": "stderr",
     "output_type": "stream",
     "text": [
      "2019-09-09 16:53:54 | [DEBUG] Level 1 scaling: 2.0\n",
      "2019-09-09 16:53:54 | [DEBUG] BG Level 4 scaling: 16.0\n",
      "2019-09-09 16:53:54 | [DEBUG] Effective scaling: 8.0\n",
      "2019-09-09 16:53:54 | [DEBUG] Level 1 scaling: 2.0\n",
      "2019-09-09 16:53:54 | [DEBUG] BG Level 4 scaling: 16.0\n",
      "2019-09-09 16:53:54 | [DEBUG] Effective scaling: 8.0\n",
      "2019-09-09 16:53:54 | [DEBUG] Combined mask already exists. Loading from disk.\n",
      "2019-09-09 16:53:54 | [DEBUG] STREAM b'IHDR' 16 13\n",
      "2019-09-09 16:53:54 | [DEBUG] STREAM b'IDAT' 41 65536\n",
      "2019-09-09 16:53:55 | [DEBUG] Level 1 scaling: 2.0\n",
      "2019-09-09 16:53:55 | [DEBUG] BG Level 4 scaling: 16.0\n",
      "2019-09-09 16:53:55 | [DEBUG] Effective scaling: 8.0\n",
      "2019-09-09 16:53:55 | [DEBUG] Cancer mask already exists. Loading from disk.\n",
      "2019-09-09 16:53:55 | [DEBUG] STREAM b'IHDR' 16 13\n",
      "2019-09-09 16:53:55 | [DEBUG] STREAM b'IDAT' 41 210368\n",
      "2019-09-09 16:53:55 | [INFO] Processing WSI tiles.\n"
     ]
    },
    {
     "name": "stdout",
     "output_type": "stream",
     "text": [
      "Progress:  99%\r"
     ]
    },
    {
     "name": "stderr",
     "output_type": "stream",
     "text": [
      "2019-09-09 16:54:23 | [INFO] Processing: P-2019_4298-02-1\n",
      "2019-09-09 16:54:23 | [DEBUG] Level 1 scaling: 2.0\n",
      "2019-09-09 16:54:23 | [DEBUG] BG Level 4 scaling: 16.0\n",
      "2019-09-09 16:54:23 | [DEBUG] Effective scaling: 8.0\n",
      "2019-09-09 16:54:23 | [DEBUG] Level 1 scaling: 2.0\n",
      "2019-09-09 16:54:23 | [DEBUG] BG Level 4 scaling: 16.0\n",
      "2019-09-09 16:54:23 | [DEBUG] Effective scaling: 8.0\n",
      "2019-09-09 16:54:23 | [DEBUG] Combined mask already exists. Loading from disk.\n",
      "2019-09-09 16:54:23 | [DEBUG] STREAM b'IHDR' 16 13\n",
      "2019-09-09 16:54:23 | [DEBUG] STREAM b'IDAT' 41 65536\n",
      "2019-09-09 16:54:23 | [DEBUG] Level 1 scaling: 2.0\n",
      "2019-09-09 16:54:23 | [DEBUG] BG Level 4 scaling: 16.0\n",
      "2019-09-09 16:54:23 | [DEBUG] Effective scaling: 8.0\n",
      "2019-09-09 16:54:23 | [DEBUG] Cancer mask already exists. Loading from disk.\n",
      "2019-09-09 16:54:23 | [DEBUG] STREAM b'IHDR' 16 13\n",
      "2019-09-09 16:54:23 | [DEBUG] STREAM b'IDAT' 41 210368\n",
      "2019-09-09 16:54:23 | [INFO] Processing WSI tiles.\n"
     ]
    },
    {
     "name": "stdout",
     "output_type": "stream",
     "text": [
      "Progress:  98%\r"
     ]
    },
    {
     "name": "stderr",
     "output_type": "stream",
     "text": [
      "2019-09-09 16:54:53 | [INFO] Processing: P-2019_5356-08-0\n",
      "2019-09-09 16:54:53 | [DEBUG] Level 1 scaling: 2.0\n",
      "2019-09-09 16:54:53 | [DEBUG] BG Level 4 scaling: 16.0\n",
      "2019-09-09 16:54:53 | [DEBUG] Effective scaling: 8.0\n",
      "2019-09-09 16:54:53 | [DEBUG] Level 1 scaling: 2.0\n",
      "2019-09-09 16:54:53 | [DEBUG] BG Level 4 scaling: 16.0\n",
      "2019-09-09 16:54:53 | [DEBUG] Effective scaling: 8.0\n",
      "2019-09-09 16:54:53 | [DEBUG] Combined mask already exists. Loading from disk.\n",
      "2019-09-09 16:54:53 | [DEBUG] STREAM b'IHDR' 16 13\n",
      "2019-09-09 16:54:53 | [DEBUG] STREAM b'IDAT' 41 65536\n",
      "2019-09-09 16:54:53 | [DEBUG] Level 1 scaling: 2.0\n",
      "2019-09-09 16:54:53 | [DEBUG] BG Level 4 scaling: 16.0\n",
      "2019-09-09 16:54:53 | [DEBUG] Effective scaling: 8.0\n",
      "2019-09-09 16:54:53 | [DEBUG] Cancer mask already exists. Loading from disk.\n",
      "2019-09-09 16:54:53 | [DEBUG] STREAM b'IHDR' 16 13\n",
      "2019-09-09 16:54:53 | [DEBUG] STREAM b'IDAT' 41 210368\n",
      "2019-09-09 16:54:53 | [INFO] Processing WSI tiles.\n"
     ]
    },
    {
     "name": "stdout",
     "output_type": "stream",
     "text": [
      "Progress:  99%\r"
     ]
    },
    {
     "name": "stderr",
     "output_type": "stream",
     "text": [
      "2019-09-09 16:55:16 | [INFO] Processing: P-2019_1427-07-0\n",
      "2019-09-09 16:55:16 | [DEBUG] Level 1 scaling: 2.0\n",
      "2019-09-09 16:55:16 | [DEBUG] BG Level 4 scaling: 16.0\n",
      "2019-09-09 16:55:16 | [DEBUG] Effective scaling: 8.0\n",
      "2019-09-09 16:55:16 | [DEBUG] Level 1 scaling: 2.0\n",
      "2019-09-09 16:55:16 | [DEBUG] BG Level 4 scaling: 16.0\n",
      "2019-09-09 16:55:16 | [DEBUG] Effective scaling: 8.0\n",
      "2019-09-09 16:55:16 | [DEBUG] Combined mask already exists. Loading from disk.\n",
      "2019-09-09 16:55:16 | [DEBUG] STREAM b'IHDR' 16 13\n",
      "2019-09-09 16:55:16 | [DEBUG] STREAM b'IDAT' 41 65536\n",
      "2019-09-09 16:55:16 | [DEBUG] Level 1 scaling: 2.0\n",
      "2019-09-09 16:55:16 | [DEBUG] BG Level 4 scaling: 16.0\n",
      "2019-09-09 16:55:16 | [DEBUG] Effective scaling: 8.0\n",
      "2019-09-09 16:55:16 | [DEBUG] Cancer mask already exists. Loading from disk.\n",
      "2019-09-09 16:55:16 | [DEBUG] STREAM b'IHDR' 16 13\n",
      "2019-09-09 16:55:16 | [DEBUG] STREAM b'IDAT' 41 210368\n",
      "2019-09-09 16:55:16 | [INFO] Processing WSI tiles.\n"
     ]
    },
    {
     "name": "stdout",
     "output_type": "stream",
     "text": [
      "Progress:  98%\r"
     ]
    },
    {
     "name": "stderr",
     "output_type": "stream",
     "text": [
      "2019-09-09 16:55:38 | [INFO] Processing: P-2019_4226-12-0\n",
      "2019-09-09 16:55:38 | [DEBUG] Level 1 scaling: 2.0\n",
      "2019-09-09 16:55:38 | [DEBUG] BG Level 4 scaling: 16.0\n",
      "2019-09-09 16:55:38 | [DEBUG] Effective scaling: 8.0\n",
      "2019-09-09 16:55:38 | [DEBUG] Level 1 scaling: 2.0\n",
      "2019-09-09 16:55:38 | [DEBUG] BG Level 4 scaling: 16.0\n",
      "2019-09-09 16:55:38 | [DEBUG] Effective scaling: 8.0\n",
      "2019-09-09 16:55:38 | [DEBUG] Combined mask already exists. Loading from disk.\n",
      "2019-09-09 16:55:38 | [DEBUG] STREAM b'IHDR' 16 13\n",
      "2019-09-09 16:55:38 | [DEBUG] STREAM b'IDAT' 41 65536\n",
      "2019-09-09 16:55:38 | [DEBUG] Level 1 scaling: 2.0\n",
      "2019-09-09 16:55:38 | [DEBUG] BG Level 4 scaling: 16.0\n",
      "2019-09-09 16:55:38 | [DEBUG] Effective scaling: 8.0\n",
      "2019-09-09 16:55:38 | [DEBUG] Cancer mask already exists. Loading from disk.\n",
      "2019-09-09 16:55:38 | [DEBUG] STREAM b'IHDR' 16 13\n",
      "2019-09-09 16:55:38 | [DEBUG] STREAM b'IDAT' 41 210368\n",
      "2019-09-09 16:55:38 | [INFO] Processing WSI tiles.\n"
     ]
    },
    {
     "name": "stdout",
     "output_type": "stream",
     "text": [
      "Progress:  98%\r"
     ]
    },
    {
     "name": "stderr",
     "output_type": "stream",
     "text": [
      "2019-09-09 16:56:02 | [INFO] Processing: P-2019_4828-13-1\n"
     ]
    },
    {
     "name": "stdout",
     "output_type": "stream",
     "text": [
      "Progress:  99%\r",
      "Progress: 100%\r"
     ]
    },
    {
     "name": "stderr",
     "output_type": "stream",
     "text": [
      "2019-09-09 16:56:03 | [DEBUG] Level 1 scaling: 2.0\n",
      "2019-09-09 16:56:03 | [DEBUG] BG Level 4 scaling: 16.0\n",
      "2019-09-09 16:56:03 | [DEBUG] Effective scaling: 8.0\n",
      "2019-09-09 16:56:03 | [DEBUG] Level 1 scaling: 2.0\n",
      "2019-09-09 16:56:03 | [DEBUG] BG Level 4 scaling: 16.0\n",
      "2019-09-09 16:56:03 | [DEBUG] Effective scaling: 8.0\n",
      "2019-09-09 16:56:03 | [DEBUG] Combined mask already exists. Loading from disk.\n",
      "2019-09-09 16:56:03 | [DEBUG] STREAM b'IHDR' 16 13\n",
      "2019-09-09 16:56:03 | [DEBUG] STREAM b'IDAT' 41 65536\n",
      "2019-09-09 16:56:03 | [DEBUG] Level 1 scaling: 2.0\n",
      "2019-09-09 16:56:03 | [DEBUG] BG Level 4 scaling: 16.0\n",
      "2019-09-09 16:56:03 | [DEBUG] Effective scaling: 8.0\n",
      "2019-09-09 16:56:03 | [DEBUG] Cancer mask already exists. Loading from disk.\n",
      "2019-09-09 16:56:03 | [DEBUG] STREAM b'IHDR' 16 13\n",
      "2019-09-09 16:56:03 | [DEBUG] STREAM b'IDAT' 41 210368\n",
      "2019-09-09 16:56:03 | [INFO] Processing WSI tiles.\n"
     ]
    },
    {
     "name": "stdout",
     "output_type": "stream",
     "text": [
      "Progress:  98%\r"
     ]
    },
    {
     "name": "stderr",
     "output_type": "stream",
     "text": [
      "2019-09-09 16:56:31 | [INFO] Processing: P-2019_1399-01-1\n"
     ]
    },
    {
     "name": "stdout",
     "output_type": "stream",
     "text": [
      "Progress:  99%\r",
      "Progress: 100%\r"
     ]
    },
    {
     "name": "stderr",
     "output_type": "stream",
     "text": [
      "2019-09-09 16:56:31 | [DEBUG] Level 1 scaling: 2.0\n",
      "2019-09-09 16:56:31 | [DEBUG] BG Level 4 scaling: 16.0\n",
      "2019-09-09 16:56:31 | [DEBUG] Effective scaling: 8.0\n",
      "2019-09-09 16:56:31 | [DEBUG] Level 1 scaling: 2.0\n",
      "2019-09-09 16:56:31 | [DEBUG] BG Level 4 scaling: 16.0\n",
      "2019-09-09 16:56:31 | [DEBUG] Effective scaling: 8.0\n",
      "2019-09-09 16:56:31 | [DEBUG] Combined mask already exists. Loading from disk.\n",
      "2019-09-09 16:56:31 | [DEBUG] STREAM b'IHDR' 16 13\n",
      "2019-09-09 16:56:31 | [DEBUG] STREAM b'IDAT' 41 65536\n",
      "2019-09-09 16:56:31 | [DEBUG] Level 1 scaling: 2.0\n",
      "2019-09-09 16:56:31 | [DEBUG] BG Level 4 scaling: 16.0\n",
      "2019-09-09 16:56:31 | [DEBUG] Effective scaling: 8.0\n",
      "2019-09-09 16:56:31 | [DEBUG] Cancer mask already exists. Loading from disk.\n",
      "2019-09-09 16:56:31 | [DEBUG] STREAM b'IHDR' 16 13\n",
      "2019-09-09 16:56:31 | [DEBUG] STREAM b'IDAT' 41 210368\n",
      "2019-09-09 16:56:31 | [INFO] Processing WSI tiles.\n"
     ]
    },
    {
     "name": "stdout",
     "output_type": "stream",
     "text": [
      "Progress:  99%\r"
     ]
    },
    {
     "name": "stderr",
     "output_type": "stream",
     "text": [
      "2019-09-09 16:57:03 | [INFO] Processing: P-2019_3025-03-0\n",
      "2019-09-09 16:57:03 | [DEBUG] XML Annotation does not exist. Skipping...\n",
      "2019-09-09 16:57:03 | [INFO] Processing: P-2019_1502-09-1\n"
     ]
    },
    {
     "name": "stdout",
     "output_type": "stream",
     "text": [
      "Progress: 100%\r"
     ]
    },
    {
     "name": "stderr",
     "output_type": "stream",
     "text": [
      "2019-09-09 16:57:03 | [DEBUG] Level 1 scaling: 2.0\n",
      "2019-09-09 16:57:03 | [DEBUG] BG Level 4 scaling: 16.0\n",
      "2019-09-09 16:57:03 | [DEBUG] Effective scaling: 8.0\n",
      "2019-09-09 16:57:03 | [DEBUG] Level 1 scaling: 2.0\n",
      "2019-09-09 16:57:03 | [DEBUG] BG Level 4 scaling: 16.0\n",
      "2019-09-09 16:57:03 | [DEBUG] Effective scaling: 8.0\n",
      "2019-09-09 16:57:03 | [DEBUG] Combined mask already exists. Loading from disk.\n",
      "2019-09-09 16:57:03 | [DEBUG] STREAM b'IHDR' 16 13\n",
      "2019-09-09 16:57:03 | [DEBUG] STREAM b'IDAT' 41 65536\n",
      "2019-09-09 16:57:03 | [DEBUG] Level 1 scaling: 2.0\n",
      "2019-09-09 16:57:03 | [DEBUG] BG Level 4 scaling: 16.0\n",
      "2019-09-09 16:57:03 | [DEBUG] Effective scaling: 8.0\n",
      "2019-09-09 16:57:03 | [DEBUG] Cancer mask already exists. Loading from disk.\n",
      "2019-09-09 16:57:03 | [DEBUG] STREAM b'IHDR' 16 13\n",
      "2019-09-09 16:57:03 | [DEBUG] STREAM b'IDAT' 41 210368\n",
      "2019-09-09 16:57:03 | [INFO] Processing WSI tiles.\n"
     ]
    },
    {
     "name": "stdout",
     "output_type": "stream",
     "text": [
      "Progress:  99%\r"
     ]
    },
    {
     "name": "stderr",
     "output_type": "stream",
     "text": [
      "2019-09-09 16:57:34 | [INFO] Processing: P-2019_2216-06-0\n",
      "2019-09-09 16:57:34 | [DEBUG] Level 1 scaling: 2.0\n",
      "2019-09-09 16:57:34 | [DEBUG] BG Level 4 scaling: 16.0\n",
      "2019-09-09 16:57:34 | [DEBUG] Effective scaling: 8.0\n",
      "2019-09-09 16:57:34 | [DEBUG] Level 1 scaling: 2.0\n",
      "2019-09-09 16:57:34 | [DEBUG] BG Level 4 scaling: 16.0\n",
      "2019-09-09 16:57:34 | [DEBUG] Effective scaling: 8.0\n",
      "2019-09-09 16:57:34 | [DEBUG] Combined mask already exists. Loading from disk.\n",
      "2019-09-09 16:57:34 | [DEBUG] STREAM b'IHDR' 16 13\n",
      "2019-09-09 16:57:34 | [DEBUG] STREAM b'IDAT' 41 65536\n",
      "2019-09-09 16:57:34 | [DEBUG] Level 1 scaling: 2.0\n",
      "2019-09-09 16:57:34 | [DEBUG] BG Level 4 scaling: 16.0\n",
      "2019-09-09 16:57:34 | [DEBUG] Effective scaling: 8.0\n",
      "2019-09-09 16:57:34 | [DEBUG] Cancer mask already exists. Loading from disk.\n",
      "2019-09-09 16:57:34 | [DEBUG] STREAM b'IHDR' 16 13\n",
      "2019-09-09 16:57:34 | [DEBUG] STREAM b'IDAT' 41 210368\n",
      "2019-09-09 16:57:34 | [INFO] Processing WSI tiles.\n"
     ]
    },
    {
     "name": "stdout",
     "output_type": "stream",
     "text": [
      "Progress:  98%\r"
     ]
    },
    {
     "name": "stderr",
     "output_type": "stream",
     "text": [
      "2019-09-09 16:58:02 | [INFO] Processing: P-2019_4619-04-0\n"
     ]
    },
    {
     "name": "stdout",
     "output_type": "stream",
     "text": [
      "Progress:  99%\r",
      "Progress: 100%\r"
     ]
    },
    {
     "name": "stderr",
     "output_type": "stream",
     "text": [
      "2019-09-09 16:58:02 | [DEBUG] Level 1 scaling: 2.0\n",
      "2019-09-09 16:58:02 | [DEBUG] BG Level 4 scaling: 16.0\n",
      "2019-09-09 16:58:02 | [DEBUG] Effective scaling: 8.0\n",
      "2019-09-09 16:58:02 | [DEBUG] Level 1 scaling: 2.0\n",
      "2019-09-09 16:58:02 | [DEBUG] BG Level 4 scaling: 16.0\n",
      "2019-09-09 16:58:02 | [DEBUG] Effective scaling: 8.0\n",
      "2019-09-09 16:58:02 | [DEBUG] Combined mask already exists. Loading from disk.\n",
      "2019-09-09 16:58:02 | [DEBUG] STREAM b'IHDR' 16 13\n",
      "2019-09-09 16:58:02 | [DEBUG] STREAM b'IDAT' 41 65536\n",
      "2019-09-09 16:58:02 | [DEBUG] Level 1 scaling: 2.0\n",
      "2019-09-09 16:58:02 | [DEBUG] BG Level 4 scaling: 16.0\n",
      "2019-09-09 16:58:02 | [DEBUG] Effective scaling: 8.0\n",
      "2019-09-09 16:58:02 | [DEBUG] Cancer mask already exists. Loading from disk.\n",
      "2019-09-09 16:58:02 | [DEBUG] STREAM b'IHDR' 16 13\n",
      "2019-09-09 16:58:02 | [DEBUG] STREAM b'IDAT' 41 210368\n",
      "2019-09-09 16:58:02 | [INFO] Processing WSI tiles.\n"
     ]
    },
    {
     "name": "stdout",
     "output_type": "stream",
     "text": [
      "Progress:  98%\r"
     ]
    },
    {
     "name": "stderr",
     "output_type": "stream",
     "text": [
      "2019-09-09 16:58:30 | [INFO] Processing: TP-2019_2623-03-0\n",
      "2019-09-09 16:58:30 | [DEBUG] Level 1 scaling: 2.0\n",
      "2019-09-09 16:58:30 | [DEBUG] BG Level 4 scaling: 16.0\n",
      "2019-09-09 16:58:30 | [DEBUG] Effective scaling: 8.0\n",
      "2019-09-09 16:58:30 | [DEBUG] Level 1 scaling: 2.0\n",
      "2019-09-09 16:58:30 | [DEBUG] BG Level 4 scaling: 16.0\n",
      "2019-09-09 16:58:30 | [DEBUG] Effective scaling: 8.0\n",
      "2019-09-09 16:58:30 | [DEBUG] Combined mask already exists. Loading from disk.\n",
      "2019-09-09 16:58:30 | [DEBUG] STREAM b'IHDR' 16 13\n",
      "2019-09-09 16:58:30 | [DEBUG] STREAM b'IDAT' 41 65536\n",
      "2019-09-09 16:58:30 | [DEBUG] Level 1 scaling: 2.0\n",
      "2019-09-09 16:58:30 | [DEBUG] BG Level 4 scaling: 16.0\n",
      "2019-09-09 16:58:30 | [DEBUG] Effective scaling: 8.0\n",
      "2019-09-09 16:58:30 | [DEBUG] Cancer mask already exists. Loading from disk.\n",
      "2019-09-09 16:58:30 | [DEBUG] STREAM b'IHDR' 16 13\n",
      "2019-09-09 16:58:30 | [DEBUG] STREAM b'IDAT' 41 210368\n",
      "2019-09-09 16:58:30 | [INFO] Processing WSI tiles.\n"
     ]
    },
    {
     "name": "stdout",
     "output_type": "stream",
     "text": [
      "Progress:  98%\r"
     ]
    },
    {
     "name": "stderr",
     "output_type": "stream",
     "text": [
      "2019-09-09 16:58:57 | [INFO] Processing: P-2019_4121-05-0\n",
      "2019-09-09 16:58:58 | [DEBUG] Level 1 scaling: 2.0\n",
      "2019-09-09 16:58:58 | [DEBUG] BG Level 4 scaling: 16.0\n",
      "2019-09-09 16:58:58 | [DEBUG] Effective scaling: 8.0\n",
      "2019-09-09 16:58:58 | [DEBUG] Level 1 scaling: 2.0\n",
      "2019-09-09 16:58:58 | [DEBUG] BG Level 4 scaling: 16.0\n",
      "2019-09-09 16:58:58 | [DEBUG] Effective scaling: 8.0\n",
      "2019-09-09 16:58:58 | [DEBUG] Combined mask already exists. Loading from disk.\n",
      "2019-09-09 16:58:58 | [DEBUG] STREAM b'IHDR' 16 13\n",
      "2019-09-09 16:58:58 | [DEBUG] STREAM b'IDAT' 41 65536\n",
      "2019-09-09 16:58:58 | [DEBUG] Level 1 scaling: 2.0\n",
      "2019-09-09 16:58:58 | [DEBUG] BG Level 4 scaling: 16.0\n",
      "2019-09-09 16:58:58 | [DEBUG] Effective scaling: 8.0\n",
      "2019-09-09 16:58:58 | [DEBUG] Cancer mask already exists. Loading from disk.\n",
      "2019-09-09 16:58:58 | [DEBUG] STREAM b'IHDR' 16 13\n",
      "2019-09-09 16:58:58 | [DEBUG] STREAM b'IDAT' 41 210368\n",
      "2019-09-09 16:58:58 | [INFO] Processing WSI tiles.\n"
     ]
    },
    {
     "name": "stdout",
     "output_type": "stream",
     "text": [
      "Progress:  98%\r"
     ]
    },
    {
     "name": "stderr",
     "output_type": "stream",
     "text": [
      "2019-09-09 16:59:25 | [INFO] Processing: P-2019_5108-03-0\n"
     ]
    },
    {
     "name": "stdout",
     "output_type": "stream",
     "text": [
      "Progress:  99%\r",
      "Progress: 100%\r"
     ]
    },
    {
     "name": "stderr",
     "output_type": "stream",
     "text": [
      "2019-09-09 16:59:25 | [DEBUG] Level 1 scaling: 2.0\n",
      "2019-09-09 16:59:25 | [DEBUG] BG Level 4 scaling: 16.0\n",
      "2019-09-09 16:59:25 | [DEBUG] Effective scaling: 8.0\n",
      "2019-09-09 16:59:25 | [DEBUG] Level 1 scaling: 2.0\n",
      "2019-09-09 16:59:25 | [DEBUG] BG Level 4 scaling: 16.0\n",
      "2019-09-09 16:59:25 | [DEBUG] Effective scaling: 8.0\n",
      "2019-09-09 16:59:25 | [DEBUG] Combined mask already exists. Loading from disk.\n",
      "2019-09-09 16:59:25 | [DEBUG] STREAM b'IHDR' 16 13\n",
      "2019-09-09 16:59:25 | [DEBUG] STREAM b'IDAT' 41 65536\n",
      "2019-09-09 16:59:25 | [DEBUG] Level 1 scaling: 2.0\n",
      "2019-09-09 16:59:25 | [DEBUG] BG Level 4 scaling: 16.0\n",
      "2019-09-09 16:59:25 | [DEBUG] Effective scaling: 8.0\n",
      "2019-09-09 16:59:25 | [DEBUG] Cancer mask already exists. Loading from disk.\n",
      "2019-09-09 16:59:25 | [DEBUG] STREAM b'IHDR' 16 13\n",
      "2019-09-09 16:59:25 | [DEBUG] STREAM b'IDAT' 41 210368\n",
      "2019-09-09 16:59:26 | [INFO] Processing WSI tiles.\n"
     ]
    },
    {
     "name": "stdout",
     "output_type": "stream",
     "text": [
      "Progress:  99%\r"
     ]
    },
    {
     "name": "stderr",
     "output_type": "stream",
     "text": [
      "2019-09-09 16:59:55 | [INFO] Processing: P-2019_3025-11-1\n",
      "2019-09-09 16:59:55 | [DEBUG] Level 1 scaling: 2.0\n",
      "2019-09-09 16:59:55 | [DEBUG] BG Level 4 scaling: 16.0\n",
      "2019-09-09 16:59:55 | [DEBUG] Effective scaling: 8.0\n",
      "2019-09-09 16:59:55 | [DEBUG] Level 1 scaling: 2.0\n",
      "2019-09-09 16:59:55 | [DEBUG] BG Level 4 scaling: 16.0\n",
      "2019-09-09 16:59:55 | [DEBUG] Effective scaling: 8.0\n",
      "2019-09-09 16:59:55 | [DEBUG] Combined mask already exists. Loading from disk.\n",
      "2019-09-09 16:59:55 | [DEBUG] STREAM b'IHDR' 16 13\n",
      "2019-09-09 16:59:55 | [DEBUG] STREAM b'IDAT' 41 65536\n",
      "2019-09-09 16:59:55 | [DEBUG] Level 1 scaling: 2.0\n",
      "2019-09-09 16:59:55 | [DEBUG] BG Level 4 scaling: 16.0\n",
      "2019-09-09 16:59:55 | [DEBUG] Effective scaling: 8.0\n",
      "2019-09-09 16:59:55 | [DEBUG] Cancer mask already exists. Loading from disk.\n",
      "2019-09-09 16:59:55 | [DEBUG] STREAM b'IHDR' 16 13\n",
      "2019-09-09 16:59:55 | [DEBUG] STREAM b'IDAT' 41 210368\n",
      "2019-09-09 16:59:55 | [INFO] Processing WSI tiles.\n"
     ]
    },
    {
     "name": "stdout",
     "output_type": "stream",
     "text": [
      "Progress:  99%\r"
     ]
    },
    {
     "name": "stderr",
     "output_type": "stream",
     "text": [
      "2019-09-09 17:00:24 | [INFO] Processing: P-2019_5301-02-1\n"
     ]
    },
    {
     "name": "stdout",
     "output_type": "stream",
     "text": [
      "Progress: 100%\r"
     ]
    },
    {
     "name": "stderr",
     "output_type": "stream",
     "text": [
      "2019-09-09 17:00:24 | [DEBUG] Level 1 scaling: 2.0\n",
      "2019-09-09 17:00:24 | [DEBUG] BG Level 4 scaling: 16.0\n",
      "2019-09-09 17:00:24 | [DEBUG] Effective scaling: 8.0\n",
      "2019-09-09 17:00:24 | [DEBUG] Level 1 scaling: 2.0\n",
      "2019-09-09 17:00:24 | [DEBUG] BG Level 4 scaling: 16.0\n",
      "2019-09-09 17:00:24 | [DEBUG] Effective scaling: 8.0\n",
      "2019-09-09 17:00:24 | [DEBUG] Combined mask already exists. Loading from disk.\n",
      "2019-09-09 17:00:24 | [DEBUG] STREAM b'IHDR' 16 13\n",
      "2019-09-09 17:00:24 | [DEBUG] STREAM b'IDAT' 41 65536\n",
      "2019-09-09 17:00:24 | [DEBUG] Level 1 scaling: 2.0\n",
      "2019-09-09 17:00:24 | [DEBUG] BG Level 4 scaling: 16.0\n",
      "2019-09-09 17:00:24 | [DEBUG] Effective scaling: 8.0\n",
      "2019-09-09 17:00:24 | [DEBUG] Cancer mask already exists. Loading from disk.\n",
      "2019-09-09 17:00:24 | [DEBUG] STREAM b'IHDR' 16 13\n",
      "2019-09-09 17:00:24 | [DEBUG] STREAM b'IDAT' 41 210368\n",
      "2019-09-09 17:00:24 | [INFO] Processing WSI tiles.\n"
     ]
    },
    {
     "name": "stdout",
     "output_type": "stream",
     "text": [
      "Progress:  98%\r"
     ]
    },
    {
     "name": "stderr",
     "output_type": "stream",
     "text": [
      "2019-09-09 17:00:53 | [INFO] Processing: P-2019_1399-02-0\n",
      "2019-09-09 17:00:53 | [DEBUG] Level 1 scaling: 2.0\n",
      "2019-09-09 17:00:53 | [DEBUG] BG Level 4 scaling: 16.0\n",
      "2019-09-09 17:00:53 | [DEBUG] Effective scaling: 8.0\n",
      "2019-09-09 17:00:53 | [DEBUG] Level 1 scaling: 2.0\n",
      "2019-09-09 17:00:53 | [DEBUG] BG Level 4 scaling: 16.0\n",
      "2019-09-09 17:00:53 | [DEBUG] Effective scaling: 8.0\n",
      "2019-09-09 17:00:53 | [DEBUG] Combined mask already exists. Loading from disk.\n",
      "2019-09-09 17:00:53 | [DEBUG] STREAM b'IHDR' 16 13\n",
      "2019-09-09 17:00:53 | [DEBUG] STREAM b'IDAT' 41 65536\n",
      "2019-09-09 17:00:53 | [DEBUG] Level 1 scaling: 2.0\n"
     ]
    },
    {
     "name": "stdout",
     "output_type": "stream",
     "text": [
      "Progress:  99%\r",
      "Progress: 100%\r"
     ]
    },
    {
     "name": "stderr",
     "output_type": "stream",
     "text": [
      "2019-09-09 17:00:53 | [DEBUG] BG Level 4 scaling: 16.0\n",
      "2019-09-09 17:00:53 | [DEBUG] Effective scaling: 8.0\n",
      "2019-09-09 17:00:53 | [DEBUG] Cancer mask already exists. Loading from disk.\n",
      "2019-09-09 17:00:53 | [DEBUG] STREAM b'IHDR' 16 13\n",
      "2019-09-09 17:00:53 | [DEBUG] STREAM b'IDAT' 41 210368\n",
      "2019-09-09 17:00:53 | [INFO] Processing WSI tiles.\n"
     ]
    },
    {
     "name": "stdout",
     "output_type": "stream",
     "text": [
      "Progress:  98%\r"
     ]
    },
    {
     "name": "stderr",
     "output_type": "stream",
     "text": [
      "2019-09-09 17:01:18 | [INFO] Processing: P-2019_2781-11-1\n"
     ]
    },
    {
     "name": "stdout",
     "output_type": "stream",
     "text": [
      "Progress:  99%\r",
      "Progress: 100%\r"
     ]
    },
    {
     "name": "stderr",
     "output_type": "stream",
     "text": [
      "2019-09-09 17:01:18 | [DEBUG] Level 1 scaling: 2.0\n",
      "2019-09-09 17:01:18 | [DEBUG] BG Level 4 scaling: 16.0\n",
      "2019-09-09 17:01:18 | [DEBUG] Effective scaling: 8.0\n",
      "2019-09-09 17:01:18 | [DEBUG] Level 1 scaling: 2.0\n",
      "2019-09-09 17:01:18 | [DEBUG] BG Level 4 scaling: 16.0\n",
      "2019-09-09 17:01:18 | [DEBUG] Effective scaling: 8.0\n",
      "2019-09-09 17:01:18 | [DEBUG] Combined mask already exists. Loading from disk.\n",
      "2019-09-09 17:01:18 | [DEBUG] STREAM b'IHDR' 16 13\n",
      "2019-09-09 17:01:18 | [DEBUG] STREAM b'IDAT' 41 65536\n",
      "2019-09-09 17:01:18 | [DEBUG] Level 1 scaling: 2.0\n",
      "2019-09-09 17:01:18 | [DEBUG] BG Level 4 scaling: 16.0\n",
      "2019-09-09 17:01:18 | [DEBUG] Effective scaling: 8.0\n",
      "2019-09-09 17:01:18 | [DEBUG] Cancer mask already exists. Loading from disk.\n",
      "2019-09-09 17:01:18 | [DEBUG] STREAM b'IHDR' 16 13\n",
      "2019-09-09 17:01:18 | [DEBUG] STREAM b'IDAT' 41 210368\n",
      "2019-09-09 17:01:18 | [INFO] Processing WSI tiles.\n"
     ]
    },
    {
     "name": "stdout",
     "output_type": "stream",
     "text": [
      "Progress:  99%\r"
     ]
    },
    {
     "name": "stderr",
     "output_type": "stream",
     "text": [
      "2019-09-09 17:01:41 | [INFO] Processing: TP-2019_2941-12-0\n",
      "2019-09-09 17:01:41 | [DEBUG] Level 1 scaling: 2.0\n",
      "2019-09-09 17:01:41 | [DEBUG] BG Level 4 scaling: 16.0\n",
      "2019-09-09 17:01:41 | [DEBUG] Effective scaling: 8.0\n",
      "2019-09-09 17:01:41 | [DEBUG] Level 1 scaling: 2.0\n",
      "2019-09-09 17:01:41 | [DEBUG] BG Level 4 scaling: 16.0\n",
      "2019-09-09 17:01:41 | [DEBUG] Effective scaling: 8.0\n",
      "2019-09-09 17:01:41 | [DEBUG] Combined mask already exists. Loading from disk.\n",
      "2019-09-09 17:01:41 | [DEBUG] STREAM b'IHDR' 16 13\n",
      "2019-09-09 17:01:41 | [DEBUG] STREAM b'IDAT' 41 65536\n",
      "2019-09-09 17:01:41 | [DEBUG] Level 1 scaling: 2.0\n",
      "2019-09-09 17:01:41 | [DEBUG] BG Level 4 scaling: 16.0\n",
      "2019-09-09 17:01:41 | [DEBUG] Effective scaling: 8.0\n",
      "2019-09-09 17:01:41 | [DEBUG] Cancer mask already exists. Loading from disk.\n",
      "2019-09-09 17:01:41 | [DEBUG] STREAM b'IHDR' 16 13\n",
      "2019-09-09 17:01:41 | [DEBUG] STREAM b'IDAT' 41 210368\n",
      "2019-09-09 17:01:41 | [INFO] Processing WSI tiles.\n"
     ]
    },
    {
     "name": "stdout",
     "output_type": "stream",
     "text": [
      "Progress:  98%\r"
     ]
    },
    {
     "name": "stderr",
     "output_type": "stream",
     "text": [
      "2019-09-09 17:02:03 | [INFO] Processing: P-2019_4336-10-1\n"
     ]
    },
    {
     "name": "stdout",
     "output_type": "stream",
     "text": [
      "Progress:  99%\r",
      "Progress: 100%\r"
     ]
    },
    {
     "name": "stderr",
     "output_type": "stream",
     "text": [
      "2019-09-09 17:02:04 | [DEBUG] Level 1 scaling: 2.0\n",
      "2019-09-09 17:02:04 | [DEBUG] BG Level 4 scaling: 16.0\n",
      "2019-09-09 17:02:04 | [DEBUG] Effective scaling: 8.0\n",
      "2019-09-09 17:02:04 | [DEBUG] Level 1 scaling: 2.0\n",
      "2019-09-09 17:02:04 | [DEBUG] BG Level 4 scaling: 16.0\n",
      "2019-09-09 17:02:04 | [DEBUG] Effective scaling: 8.0\n",
      "2019-09-09 17:02:04 | [DEBUG] Combined mask already exists. Loading from disk.\n",
      "2019-09-09 17:02:04 | [DEBUG] STREAM b'IHDR' 16 13\n",
      "2019-09-09 17:02:04 | [DEBUG] STREAM b'IDAT' 41 65536\n",
      "2019-09-09 17:02:04 | [DEBUG] Level 1 scaling: 2.0\n",
      "2019-09-09 17:02:04 | [DEBUG] BG Level 4 scaling: 16.0\n",
      "2019-09-09 17:02:04 | [DEBUG] Effective scaling: 8.0\n",
      "2019-09-09 17:02:04 | [DEBUG] Cancer mask already exists. Loading from disk.\n",
      "2019-09-09 17:02:04 | [DEBUG] STREAM b'IHDR' 16 13\n",
      "2019-09-09 17:02:04 | [DEBUG] STREAM b'IDAT' 41 210368\n",
      "2019-09-09 17:02:04 | [INFO] Processing WSI tiles.\n"
     ]
    },
    {
     "name": "stdout",
     "output_type": "stream",
     "text": [
      "Progress: 100%\r"
     ]
    },
    {
     "name": "stderr",
     "output_type": "stream",
     "text": [
      "2019-09-09 17:02:32 | [INFO] Processing: P-2019_3204-14-1\n",
      "2019-09-09 17:02:32 | [DEBUG] Level 1 scaling: 2.0\n",
      "2019-09-09 17:02:32 | [DEBUG] BG Level 4 scaling: 16.0\n",
      "2019-09-09 17:02:32 | [DEBUG] Effective scaling: 8.0\n",
      "2019-09-09 17:02:32 | [DEBUG] Level 1 scaling: 2.0\n",
      "2019-09-09 17:02:32 | [DEBUG] BG Level 4 scaling: 16.0\n",
      "2019-09-09 17:02:32 | [DEBUG] Effective scaling: 8.0\n",
      "2019-09-09 17:02:32 | [DEBUG] Combined mask already exists. Loading from disk.\n",
      "2019-09-09 17:02:32 | [DEBUG] STREAM b'IHDR' 16 13\n",
      "2019-09-09 17:02:32 | [DEBUG] STREAM b'IDAT' 41 65536\n",
      "2019-09-09 17:02:32 | [DEBUG] Level 1 scaling: 2.0\n",
      "2019-09-09 17:02:32 | [DEBUG] BG Level 4 scaling: 16.0\n",
      "2019-09-09 17:02:32 | [DEBUG] Effective scaling: 8.0\n",
      "2019-09-09 17:02:32 | [DEBUG] Cancer mask already exists. Loading from disk.\n",
      "2019-09-09 17:02:32 | [DEBUG] STREAM b'IHDR' 16 13\n",
      "2019-09-09 17:02:32 | [DEBUG] STREAM b'IDAT' 41 210368\n",
      "2019-09-09 17:02:32 | [INFO] Processing WSI tiles.\n"
     ]
    },
    {
     "name": "stdout",
     "output_type": "stream",
     "text": [
      "Progress:  99%\r"
     ]
    },
    {
     "name": "stderr",
     "output_type": "stream",
     "text": [
      "2019-09-09 17:03:01 | [INFO] Processing: P-2019_4828-12-0\n"
     ]
    },
    {
     "name": "stdout",
     "output_type": "stream",
     "text": [
      "Progress: 100%\r"
     ]
    },
    {
     "name": "stderr",
     "output_type": "stream",
     "text": [
      "2019-09-09 17:03:01 | [DEBUG] Level 1 scaling: 2.0\n",
      "2019-09-09 17:03:01 | [DEBUG] BG Level 4 scaling: 16.0\n",
      "2019-09-09 17:03:01 | [DEBUG] Effective scaling: 8.0\n",
      "2019-09-09 17:03:01 | [DEBUG] Level 1 scaling: 2.0\n",
      "2019-09-09 17:03:01 | [DEBUG] BG Level 4 scaling: 16.0\n",
      "2019-09-09 17:03:01 | [DEBUG] Effective scaling: 8.0\n",
      "2019-09-09 17:03:01 | [DEBUG] Combined mask already exists. Loading from disk.\n",
      "2019-09-09 17:03:01 | [DEBUG] STREAM b'IHDR' 16 13\n",
      "2019-09-09 17:03:01 | [DEBUG] STREAM b'IDAT' 41 65536\n",
      "2019-09-09 17:03:01 | [DEBUG] Level 1 scaling: 2.0\n",
      "2019-09-09 17:03:01 | [DEBUG] BG Level 4 scaling: 16.0\n",
      "2019-09-09 17:03:01 | [DEBUG] Effective scaling: 8.0\n",
      "2019-09-09 17:03:01 | [DEBUG] Cancer mask already exists. Loading from disk.\n",
      "2019-09-09 17:03:01 | [DEBUG] STREAM b'IHDR' 16 13\n",
      "2019-09-09 17:03:01 | [DEBUG] STREAM b'IDAT' 41 210368\n",
      "2019-09-09 17:03:01 | [INFO] Processing WSI tiles.\n"
     ]
    },
    {
     "name": "stdout",
     "output_type": "stream",
     "text": [
      "Progress:  99%\r"
     ]
    },
    {
     "name": "stderr",
     "output_type": "stream",
     "text": [
      "2019-09-09 17:03:32 | [INFO] Processing: P-2019_5301-11-1\n",
      "2019-09-09 17:03:32 | [DEBUG] Level 1 scaling: 2.0\n",
      "2019-09-09 17:03:32 | [DEBUG] BG Level 4 scaling: 16.0\n",
      "2019-09-09 17:03:32 | [DEBUG] Effective scaling: 8.0\n",
      "2019-09-09 17:03:32 | [DEBUG] Level 1 scaling: 2.0\n",
      "2019-09-09 17:03:32 | [DEBUG] BG Level 4 scaling: 16.0\n",
      "2019-09-09 17:03:32 | [DEBUG] Effective scaling: 8.0\n",
      "2019-09-09 17:03:32 | [DEBUG] Combined mask already exists. Loading from disk.\n",
      "2019-09-09 17:03:32 | [DEBUG] STREAM b'IHDR' 16 13\n",
      "2019-09-09 17:03:32 | [DEBUG] STREAM b'IDAT' 41 65536\n",
      "2019-09-09 17:03:32 | [DEBUG] Level 1 scaling: 2.0\n",
      "2019-09-09 17:03:32 | [DEBUG] BG Level 4 scaling: 16.0\n",
      "2019-09-09 17:03:32 | [DEBUG] Effective scaling: 8.0\n",
      "2019-09-09 17:03:32 | [DEBUG] Cancer mask already exists. Loading from disk.\n",
      "2019-09-09 17:03:32 | [DEBUG] STREAM b'IHDR' 16 13\n",
      "2019-09-09 17:03:32 | [DEBUG] STREAM b'IDAT' 41 210368\n",
      "2019-09-09 17:03:32 | [INFO] Processing WSI tiles.\n"
     ]
    },
    {
     "name": "stdout",
     "output_type": "stream",
     "text": [
      "Progress:  99%\r"
     ]
    },
    {
     "name": "stderr",
     "output_type": "stream",
     "text": [
      "2019-09-09 17:03:56 | [INFO] Processing: P-2019_4336-03-0\n"
     ]
    },
    {
     "name": "stdout",
     "output_type": "stream",
     "text": [
      "Progress: 100%\r"
     ]
    },
    {
     "name": "stderr",
     "output_type": "stream",
     "text": [
      "2019-09-09 17:03:57 | [DEBUG] Level 1 scaling: 2.0\n",
      "2019-09-09 17:03:57 | [DEBUG] BG Level 4 scaling: 16.0\n",
      "2019-09-09 17:03:57 | [DEBUG] Effective scaling: 8.0\n",
      "2019-09-09 17:03:57 | [DEBUG] Level 1 scaling: 2.0\n",
      "2019-09-09 17:03:57 | [DEBUG] BG Level 4 scaling: 16.0\n",
      "2019-09-09 17:03:57 | [DEBUG] Effective scaling: 8.0\n",
      "2019-09-09 17:03:57 | [DEBUG] Combined mask already exists. Loading from disk.\n",
      "2019-09-09 17:03:57 | [DEBUG] STREAM b'IHDR' 16 13\n",
      "2019-09-09 17:03:57 | [DEBUG] STREAM b'IDAT' 41 65536\n",
      "2019-09-09 17:03:57 | [DEBUG] Level 1 scaling: 2.0\n",
      "2019-09-09 17:03:57 | [DEBUG] BG Level 4 scaling: 16.0\n",
      "2019-09-09 17:03:57 | [DEBUG] Effective scaling: 8.0\n",
      "2019-09-09 17:03:57 | [DEBUG] Cancer mask already exists. Loading from disk.\n",
      "2019-09-09 17:03:57 | [DEBUG] STREAM b'IHDR' 16 13\n",
      "2019-09-09 17:03:57 | [DEBUG] STREAM b'IDAT' 41 210368\n",
      "2019-09-09 17:03:57 | [INFO] Processing WSI tiles.\n"
     ]
    },
    {
     "name": "stdout",
     "output_type": "stream",
     "text": [
      "Progress:  98%\r"
     ]
    },
    {
     "name": "stderr",
     "output_type": "stream",
     "text": [
      "2019-09-09 17:04:20 | [INFO] Processing: P-2019_3292-06-0\n",
      "2019-09-09 17:04:20 | [DEBUG] XML Annotation does not exist. Skipping...\n",
      "2019-09-09 17:04:20 | [INFO] Processing: P-2019_3204-18-0\n",
      "2019-09-09 17:04:20 | [DEBUG] Level 1 scaling: 2.0\n",
      "2019-09-09 17:04:20 | [DEBUG] BG Level 4 scaling: 16.0\n",
      "2019-09-09 17:04:20 | [DEBUG] Effective scaling: 8.0\n",
      "2019-09-09 17:04:20 | [DEBUG] Level 1 scaling: 2.0\n",
      "2019-09-09 17:04:20 | [DEBUG] BG Level 4 scaling: 16.0\n",
      "2019-09-09 17:04:20 | [DEBUG] Effective scaling: 8.0\n",
      "2019-09-09 17:04:20 | [DEBUG] Combined mask already exists. Loading from disk.\n",
      "2019-09-09 17:04:20 | [DEBUG] STREAM b'IHDR' 16 13\n",
      "2019-09-09 17:04:20 | [DEBUG] STREAM b'IDAT' 41 65536\n",
      "2019-09-09 17:04:20 | [DEBUG] Level 1 scaling: 2.0\n",
      "2019-09-09 17:04:20 | [DEBUG] BG Level 4 scaling: 16.0\n",
      "2019-09-09 17:04:20 | [DEBUG] Effective scaling: 8.0\n",
      "2019-09-09 17:04:20 | [DEBUG] Cancer mask already exists. Loading from disk.\n",
      "2019-09-09 17:04:20 | [DEBUG] STREAM b'IHDR' 16 13\n",
      "2019-09-09 17:04:20 | [DEBUG] STREAM b'IDAT' 41 210368\n",
      "2019-09-09 17:04:20 | [INFO] Processing WSI tiles.\n"
     ]
    },
    {
     "name": "stdout",
     "output_type": "stream",
     "text": [
      "Progress:  98%\r"
     ]
    },
    {
     "name": "stderr",
     "output_type": "stream",
     "text": [
      "2019-09-09 17:04:45 | [INFO] Processing: TP-2019_2824-13-0\n",
      "2019-09-09 17:04:45 | [DEBUG] Level 1 scaling: 2.0\n",
      "2019-09-09 17:04:45 | [DEBUG] BG Level 4 scaling: 16.0\n",
      "2019-09-09 17:04:45 | [DEBUG] Effective scaling: 8.0\n",
      "2019-09-09 17:04:45 | [DEBUG] Level 1 scaling: 2.0\n",
      "2019-09-09 17:04:45 | [DEBUG] BG Level 4 scaling: 16.0\n",
      "2019-09-09 17:04:45 | [DEBUG] Effective scaling: 8.0\n",
      "2019-09-09 17:04:45 | [DEBUG] Combined mask already exists. Loading from disk.\n",
      "2019-09-09 17:04:45 | [DEBUG] STREAM b'IHDR' 16 13\n",
      "2019-09-09 17:04:45 | [DEBUG] STREAM b'IDAT' 41 65536\n",
      "2019-09-09 17:04:45 | [DEBUG] Level 1 scaling: 2.0\n",
      "2019-09-09 17:04:45 | [DEBUG] BG Level 4 scaling: 16.0\n",
      "2019-09-09 17:04:45 | [DEBUG] Effective scaling: 8.0\n",
      "2019-09-09 17:04:45 | [DEBUG] Cancer mask already exists. Loading from disk.\n",
      "2019-09-09 17:04:45 | [DEBUG] STREAM b'IHDR' 16 13\n",
      "2019-09-09 17:04:45 | [DEBUG] STREAM b'IDAT' 41 210368\n",
      "2019-09-09 17:04:45 | [INFO] Processing WSI tiles.\n"
     ]
    },
    {
     "name": "stdout",
     "output_type": "stream",
     "text": [
      "Progress:  99%\r"
     ]
    },
    {
     "name": "stderr",
     "output_type": "stream",
     "text": [
      "2019-09-09 17:05:14 | [INFO] Processing: P-2019_5028-07-1\n"
     ]
    },
    {
     "name": "stdout",
     "output_type": "stream",
     "text": [
      "Progress: 100%\r"
     ]
    },
    {
     "name": "stderr",
     "output_type": "stream",
     "text": [
      "2019-09-09 17:05:15 | [DEBUG] Level 1 scaling: 2.0\n",
      "2019-09-09 17:05:15 | [DEBUG] BG Level 4 scaling: 16.0\n",
      "2019-09-09 17:05:15 | [DEBUG] Effective scaling: 8.0\n",
      "2019-09-09 17:05:15 | [DEBUG] Level 1 scaling: 2.0\n",
      "2019-09-09 17:05:15 | [DEBUG] BG Level 4 scaling: 16.0\n",
      "2019-09-09 17:05:15 | [DEBUG] Effective scaling: 8.0\n",
      "2019-09-09 17:05:15 | [DEBUG] Combined mask already exists. Loading from disk.\n",
      "2019-09-09 17:05:15 | [DEBUG] STREAM b'IHDR' 16 13\n",
      "2019-09-09 17:05:15 | [DEBUG] STREAM b'IDAT' 41 65536\n",
      "2019-09-09 17:05:15 | [DEBUG] Level 1 scaling: 2.0\n",
      "2019-09-09 17:05:15 | [DEBUG] BG Level 4 scaling: 16.0\n",
      "2019-09-09 17:05:15 | [DEBUG] Effective scaling: 8.0\n",
      "2019-09-09 17:05:15 | [DEBUG] Cancer mask already exists. Loading from disk.\n",
      "2019-09-09 17:05:15 | [DEBUG] STREAM b'IHDR' 16 13\n",
      "2019-09-09 17:05:15 | [DEBUG] STREAM b'IDAT' 41 210368\n",
      "2019-09-09 17:05:15 | [INFO] Processing WSI tiles.\n"
     ]
    },
    {
     "name": "stdout",
     "output_type": "stream",
     "text": [
      "Progress:  98%\r"
     ]
    },
    {
     "name": "stderr",
     "output_type": "stream",
     "text": [
      "2019-09-09 17:05:44 | [INFO] Processing: P-2019_4353-01-1\n"
     ]
    },
    {
     "name": "stdout",
     "output_type": "stream",
     "text": [
      "Progress:  99%\r",
      "Progress: 100%\r"
     ]
    },
    {
     "name": "stderr",
     "output_type": "stream",
     "text": [
      "2019-09-09 17:05:45 | [DEBUG] Level 1 scaling: 2.0\n",
      "2019-09-09 17:05:45 | [DEBUG] BG Level 4 scaling: 16.0\n",
      "2019-09-09 17:05:45 | [DEBUG] Effective scaling: 8.0\n",
      "2019-09-09 17:05:45 | [DEBUG] Level 1 scaling: 2.0\n",
      "2019-09-09 17:05:45 | [DEBUG] BG Level 4 scaling: 16.0\n",
      "2019-09-09 17:05:45 | [DEBUG] Effective scaling: 8.0\n",
      "2019-09-09 17:05:45 | [DEBUG] Combined mask already exists. Loading from disk.\n",
      "2019-09-09 17:05:45 | [DEBUG] STREAM b'IHDR' 16 13\n",
      "2019-09-09 17:05:45 | [DEBUG] STREAM b'IDAT' 41 65536\n",
      "2019-09-09 17:05:45 | [DEBUG] Level 1 scaling: 2.0\n",
      "2019-09-09 17:05:45 | [DEBUG] BG Level 4 scaling: 16.0\n",
      "2019-09-09 17:05:45 | [DEBUG] Effective scaling: 8.0\n",
      "2019-09-09 17:05:45 | [DEBUG] Cancer mask already exists. Loading from disk.\n",
      "2019-09-09 17:05:45 | [DEBUG] STREAM b'IHDR' 16 13\n",
      "2019-09-09 17:05:45 | [DEBUG] STREAM b'IDAT' 41 210368\n",
      "2019-09-09 17:05:45 | [INFO] Processing WSI tiles.\n"
     ]
    },
    {
     "name": "stdout",
     "output_type": "stream",
     "text": [
      "Progress:  97%\r"
     ]
    },
    {
     "name": "stderr",
     "output_type": "stream",
     "text": [
      "2019-09-09 17:06:13 | [INFO] Processing: P-2019_3672-06-0\n",
      "2019-09-09 17:06:13 | [DEBUG] Level 1 scaling: 2.0\n",
      "2019-09-09 17:06:13 | [DEBUG] BG Level 4 scaling: 16.0\n",
      "2019-09-09 17:06:13 | [DEBUG] Effective scaling: 8.0\n",
      "2019-09-09 17:06:13 | [DEBUG] Level 1 scaling: 2.0\n",
      "2019-09-09 17:06:13 | [DEBUG] BG Level 4 scaling: 16.0\n",
      "2019-09-09 17:06:13 | [DEBUG] Effective scaling: 8.0\n",
      "2019-09-09 17:06:13 | [DEBUG] Combined mask already exists. Loading from disk.\n",
      "2019-09-09 17:06:13 | [DEBUG] STREAM b'IHDR' 16 13\n",
      "2019-09-09 17:06:13 | [DEBUG] STREAM b'IDAT' 41 65536\n",
      "2019-09-09 17:06:13 | [DEBUG] Level 1 scaling: 2.0\n",
      "2019-09-09 17:06:13 | [DEBUG] BG Level 4 scaling: 16.0\n",
      "2019-09-09 17:06:13 | [DEBUG] Effective scaling: 8.0\n",
      "2019-09-09 17:06:13 | [DEBUG] Cancer mask already exists. Loading from disk.\n",
      "2019-09-09 17:06:13 | [DEBUG] STREAM b'IHDR' 16 13\n",
      "2019-09-09 17:06:13 | [DEBUG] STREAM b'IDAT' 41 210368\n",
      "2019-09-09 17:06:13 | [INFO] Processing WSI tiles.\n"
     ]
    },
    {
     "name": "stdout",
     "output_type": "stream",
     "text": [
      "Progress:  99%\r"
     ]
    },
    {
     "name": "stderr",
     "output_type": "stream",
     "text": [
      "2019-09-09 17:06:35 | [INFO] Processing: TP-2019_2623-12-1\n",
      "2019-09-09 17:06:35 | [DEBUG] Level 1 scaling: 2.0\n",
      "2019-09-09 17:06:35 | [DEBUG] BG Level 4 scaling: 16.0\n",
      "2019-09-09 17:06:35 | [DEBUG] Effective scaling: 8.0\n",
      "2019-09-09 17:06:35 | [DEBUG] Level 1 scaling: 2.0\n",
      "2019-09-09 17:06:35 | [DEBUG] BG Level 4 scaling: 16.0\n",
      "2019-09-09 17:06:35 | [DEBUG] Effective scaling: 8.0\n",
      "2019-09-09 17:06:35 | [DEBUG] Combined mask already exists. Loading from disk.\n",
      "2019-09-09 17:06:35 | [DEBUG] STREAM b'IHDR' 16 13\n",
      "2019-09-09 17:06:35 | [DEBUG] STREAM b'IDAT' 41 65536\n",
      "2019-09-09 17:06:35 | [DEBUG] Level 1 scaling: 2.0\n",
      "2019-09-09 17:06:35 | [DEBUG] BG Level 4 scaling: 16.0\n",
      "2019-09-09 17:06:35 | [DEBUG] Effective scaling: 8.0\n",
      "2019-09-09 17:06:35 | [DEBUG] Cancer mask already exists. Loading from disk.\n",
      "2019-09-09 17:06:35 | [DEBUG] STREAM b'IHDR' 16 13\n",
      "2019-09-09 17:06:35 | [DEBUG] STREAM b'IDAT' 41 210368\n",
      "2019-09-09 17:06:35 | [INFO] Processing WSI tiles.\n"
     ]
    },
    {
     "name": "stdout",
     "output_type": "stream",
     "text": [
      "Progress:  99%\r"
     ]
    },
    {
     "name": "stderr",
     "output_type": "stream",
     "text": [
      "2019-09-09 17:06:58 | [INFO] Processing: P-2019_4095-18-0\n",
      "2019-09-09 17:06:58 | [DEBUG] Level 1 scaling: 2.0\n",
      "2019-09-09 17:06:58 | [DEBUG] BG Level 4 scaling: 16.0\n",
      "2019-09-09 17:06:58 | [DEBUG] Effective scaling: 8.0\n",
      "2019-09-09 17:06:58 | [DEBUG] Level 1 scaling: 2.0\n",
      "2019-09-09 17:06:58 | [DEBUG] BG Level 4 scaling: 16.0\n",
      "2019-09-09 17:06:58 | [DEBUG] Effective scaling: 8.0\n",
      "2019-09-09 17:06:58 | [DEBUG] Combined mask already exists. Loading from disk.\n",
      "2019-09-09 17:06:58 | [DEBUG] STREAM b'IHDR' 16 13\n",
      "2019-09-09 17:06:58 | [DEBUG] STREAM b'IDAT' 41 65536\n",
      "2019-09-09 17:06:58 | [DEBUG] Level 1 scaling: 2.0\n",
      "2019-09-09 17:06:58 | [DEBUG] BG Level 4 scaling: 16.0\n",
      "2019-09-09 17:06:58 | [DEBUG] Effective scaling: 8.0\n",
      "2019-09-09 17:06:58 | [DEBUG] Cancer mask already exists. Loading from disk.\n",
      "2019-09-09 17:06:58 | [DEBUG] STREAM b'IHDR' 16 13\n",
      "2019-09-09 17:06:58 | [DEBUG] STREAM b'IDAT' 41 210368\n",
      "2019-09-09 17:06:58 | [INFO] Processing WSI tiles.\n"
     ]
    },
    {
     "name": "stdout",
     "output_type": "stream",
     "text": [
      "Progress:  99%\r"
     ]
    },
    {
     "name": "stderr",
     "output_type": "stream",
     "text": [
      "2019-09-09 17:07:28 | [INFO] Processing: P-2019_3672-12-1\n",
      "2019-09-09 17:07:28 | [DEBUG] Level 1 scaling: 2.0\n",
      "2019-09-09 17:07:28 | [DEBUG] BG Level 4 scaling: 16.0\n",
      "2019-09-09 17:07:28 | [DEBUG] Effective scaling: 8.0\n",
      "2019-09-09 17:07:28 | [DEBUG] Level 1 scaling: 2.0\n",
      "2019-09-09 17:07:28 | [DEBUG] BG Level 4 scaling: 16.0\n",
      "2019-09-09 17:07:28 | [DEBUG] Effective scaling: 8.0\n",
      "2019-09-09 17:07:28 | [DEBUG] Combined mask already exists. Loading from disk.\n",
      "2019-09-09 17:07:28 | [DEBUG] STREAM b'IHDR' 16 13\n",
      "2019-09-09 17:07:28 | [DEBUG] STREAM b'IDAT' 41 65536\n",
      "2019-09-09 17:07:28 | [DEBUG] Level 1 scaling: 2.0\n",
      "2019-09-09 17:07:28 | [DEBUG] BG Level 4 scaling: 16.0\n",
      "2019-09-09 17:07:28 | [DEBUG] Effective scaling: 8.0\n",
      "2019-09-09 17:07:28 | [DEBUG] Cancer mask already exists. Loading from disk.\n",
      "2019-09-09 17:07:28 | [DEBUG] STREAM b'IHDR' 16 13\n",
      "2019-09-09 17:07:28 | [DEBUG] STREAM b'IDAT' 41 210368\n",
      "2019-09-09 17:07:28 | [INFO] Processing WSI tiles.\n"
     ]
    },
    {
     "name": "stdout",
     "output_type": "stream",
     "text": [
      "Progress:  99%\r"
     ]
    },
    {
     "name": "stderr",
     "output_type": "stream",
     "text": [
      "2019-09-09 17:07:53 | [INFO] Processing: P-2019_4828-06-0\n"
     ]
    },
    {
     "name": "stdout",
     "output_type": "stream",
     "text": [
      "Progress: 100%\r"
     ]
    },
    {
     "name": "stderr",
     "output_type": "stream",
     "text": [
      "2019-09-09 17:07:53 | [DEBUG] Level 1 scaling: 2.0\n",
      "2019-09-09 17:07:53 | [DEBUG] BG Level 4 scaling: 16.0\n",
      "2019-09-09 17:07:53 | [DEBUG] Effective scaling: 8.0\n",
      "2019-09-09 17:07:53 | [DEBUG] Level 1 scaling: 2.0\n",
      "2019-09-09 17:07:53 | [DEBUG] BG Level 4 scaling: 16.0\n",
      "2019-09-09 17:07:53 | [DEBUG] Effective scaling: 8.0\n",
      "2019-09-09 17:07:53 | [DEBUG] Combined mask already exists. Loading from disk.\n",
      "2019-09-09 17:07:53 | [DEBUG] STREAM b'IHDR' 16 13\n",
      "2019-09-09 17:07:53 | [DEBUG] STREAM b'IDAT' 41 65536\n",
      "2019-09-09 17:07:53 | [DEBUG] Level 1 scaling: 2.0\n",
      "2019-09-09 17:07:53 | [DEBUG] BG Level 4 scaling: 16.0\n",
      "2019-09-09 17:07:53 | [DEBUG] Effective scaling: 8.0\n",
      "2019-09-09 17:07:53 | [DEBUG] Cancer mask already exists. Loading from disk.\n",
      "2019-09-09 17:07:53 | [DEBUG] STREAM b'IHDR' 16 13\n",
      "2019-09-09 17:07:53 | [DEBUG] STREAM b'IDAT' 41 210368\n",
      "2019-09-09 17:07:53 | [INFO] Processing WSI tiles.\n"
     ]
    },
    {
     "name": "stdout",
     "output_type": "stream",
     "text": [
      "Progress:  99%\r"
     ]
    },
    {
     "name": "stderr",
     "output_type": "stream",
     "text": [
      "2019-09-09 17:08:23 | [INFO] Processing: P-2019_4624-05-0\n",
      "2019-09-09 17:08:23 | [DEBUG] Level 1 scaling: 2.0\n",
      "2019-09-09 17:08:23 | [DEBUG] BG Level 4 scaling: 16.0\n",
      "2019-09-09 17:08:23 | [DEBUG] Effective scaling: 8.0\n",
      "2019-09-09 17:08:23 | [DEBUG] Level 1 scaling: 2.0\n",
      "2019-09-09 17:08:23 | [DEBUG] BG Level 4 scaling: 16.0\n",
      "2019-09-09 17:08:23 | [DEBUG] Effective scaling: 8.0\n",
      "2019-09-09 17:08:23 | [DEBUG] Combined mask already exists. Loading from disk.\n",
      "2019-09-09 17:08:23 | [DEBUG] STREAM b'IHDR' 16 13\n",
      "2019-09-09 17:08:23 | [DEBUG] STREAM b'IDAT' 41 65536\n",
      "2019-09-09 17:08:23 | [DEBUG] Level 1 scaling: 2.0\n",
      "2019-09-09 17:08:23 | [DEBUG] BG Level 4 scaling: 16.0\n",
      "2019-09-09 17:08:23 | [DEBUG] Effective scaling: 8.0\n",
      "2019-09-09 17:08:23 | [DEBUG] Cancer mask already exists. Loading from disk.\n",
      "2019-09-09 17:08:23 | [DEBUG] STREAM b'IHDR' 16 13\n",
      "2019-09-09 17:08:23 | [DEBUG] STREAM b'IDAT' 41 210368\n",
      "2019-09-09 17:08:23 | [INFO] Processing WSI tiles.\n"
     ]
    },
    {
     "name": "stdout",
     "output_type": "stream",
     "text": [
      "Progress:  99%\r"
     ]
    },
    {
     "name": "stderr",
     "output_type": "stream",
     "text": [
      "2019-09-09 17:08:48 | [INFO] Processing: P-2019_3124-07-0\n",
      "2019-09-09 17:08:48 | [DEBUG] Level 1 scaling: 2.0\n",
      "2019-09-09 17:08:48 | [DEBUG] BG Level 4 scaling: 16.0\n",
      "2019-09-09 17:08:48 | [DEBUG] Effective scaling: 8.0\n",
      "2019-09-09 17:08:48 | [DEBUG] Level 1 scaling: 2.0\n",
      "2019-09-09 17:08:48 | [DEBUG] BG Level 4 scaling: 16.0\n",
      "2019-09-09 17:08:48 | [DEBUG] Effective scaling: 8.0\n",
      "2019-09-09 17:08:48 | [DEBUG] Combined mask already exists. Loading from disk.\n",
      "2019-09-09 17:08:48 | [DEBUG] STREAM b'IHDR' 16 13\n",
      "2019-09-09 17:08:48 | [DEBUG] STREAM b'IDAT' 41 65536\n",
      "2019-09-09 17:08:48 | [DEBUG] Level 1 scaling: 2.0\n",
      "2019-09-09 17:08:48 | [DEBUG] BG Level 4 scaling: 16.0\n",
      "2019-09-09 17:08:48 | [DEBUG] Effective scaling: 8.0\n",
      "2019-09-09 17:08:48 | [DEBUG] Cancer mask already exists. Loading from disk.\n",
      "2019-09-09 17:08:48 | [DEBUG] STREAM b'IHDR' 16 13\n",
      "2019-09-09 17:08:48 | [DEBUG] STREAM b'IDAT' 41 210368\n",
      "2019-09-09 17:08:48 | [INFO] Processing WSI tiles.\n"
     ]
    },
    {
     "name": "stdout",
     "output_type": "stream",
     "text": [
      "Progress:  98%\r"
     ]
    },
    {
     "name": "stderr",
     "output_type": "stream",
     "text": [
      "2019-09-09 17:09:11 | [INFO] Processing: P-2019_2587-14-0\n",
      "2019-09-09 17:09:11 | [DEBUG] Level 1 scaling: 2.0\n",
      "2019-09-09 17:09:11 | [DEBUG] BG Level 4 scaling: 16.0\n",
      "2019-09-09 17:09:11 | [DEBUG] Effective scaling: 8.0\n",
      "2019-09-09 17:09:11 | [DEBUG] Level 1 scaling: 2.0\n",
      "2019-09-09 17:09:11 | [DEBUG] BG Level 4 scaling: 16.0\n",
      "2019-09-09 17:09:11 | [DEBUG] Effective scaling: 8.0\n",
      "2019-09-09 17:09:11 | [DEBUG] Combined mask already exists. Loading from disk.\n",
      "2019-09-09 17:09:11 | [DEBUG] STREAM b'IHDR' 16 13\n",
      "2019-09-09 17:09:11 | [DEBUG] STREAM b'IDAT' 41 65536\n",
      "2019-09-09 17:09:11 | [DEBUG] Level 1 scaling: 2.0\n",
      "2019-09-09 17:09:11 | [DEBUG] BG Level 4 scaling: 16.0\n",
      "2019-09-09 17:09:11 | [DEBUG] Effective scaling: 8.0\n",
      "2019-09-09 17:09:11 | [DEBUG] Cancer mask already exists. Loading from disk.\n",
      "2019-09-09 17:09:11 | [DEBUG] STREAM b'IHDR' 16 13\n",
      "2019-09-09 17:09:11 | [DEBUG] STREAM b'IDAT' 41 210368\n",
      "2019-09-09 17:09:11 | [INFO] Processing WSI tiles.\n"
     ]
    },
    {
     "name": "stdout",
     "output_type": "stream",
     "text": [
      "Progress:  98%\r"
     ]
    },
    {
     "name": "stderr",
     "output_type": "stream",
     "text": [
      "2019-09-09 17:09:34 | [INFO] Processing: P-2019_3025-01-1\n",
      "2019-09-09 17:09:34 | [DEBUG] Level 1 scaling: 2.0\n",
      "2019-09-09 17:09:34 | [DEBUG] BG Level 4 scaling: 16.0\n",
      "2019-09-09 17:09:34 | [DEBUG] Effective scaling: 8.0\n",
      "2019-09-09 17:09:34 | [DEBUG] Level 1 scaling: 2.0\n",
      "2019-09-09 17:09:34 | [DEBUG] BG Level 4 scaling: 16.0\n",
      "2019-09-09 17:09:34 | [DEBUG] Effective scaling: 8.0\n",
      "2019-09-09 17:09:34 | [DEBUG] Combined mask already exists. Loading from disk.\n",
      "2019-09-09 17:09:34 | [DEBUG] STREAM b'IHDR' 16 13\n",
      "2019-09-09 17:09:34 | [DEBUG] STREAM b'IDAT' 41 65536\n",
      "2019-09-09 17:09:34 | [DEBUG] Level 1 scaling: 2.0\n",
      "2019-09-09 17:09:34 | [DEBUG] BG Level 4 scaling: 16.0\n",
      "2019-09-09 17:09:34 | [DEBUG] Effective scaling: 8.0\n",
      "2019-09-09 17:09:34 | [DEBUG] Cancer mask already exists. Loading from disk.\n",
      "2019-09-09 17:09:34 | [DEBUG] STREAM b'IHDR' 16 13\n",
      "2019-09-09 17:09:34 | [DEBUG] STREAM b'IDAT' 41 210368\n",
      "2019-09-09 17:09:34 | [INFO] Processing WSI tiles.\n"
     ]
    },
    {
     "name": "stdout",
     "output_type": "stream",
     "text": [
      "Progress:  98%\r"
     ]
    },
    {
     "name": "stderr",
     "output_type": "stream",
     "text": [
      "2019-09-09 17:10:04 | [INFO] Processing: P-2019_1427-01-1\n"
     ]
    },
    {
     "name": "stdout",
     "output_type": "stream",
     "text": [
      "Progress:  99%\r",
      "Progress: 100%\r"
     ]
    },
    {
     "name": "stderr",
     "output_type": "stream",
     "text": [
      "2019-09-09 17:10:04 | [DEBUG] Level 1 scaling: 2.0\n",
      "2019-09-09 17:10:04 | [DEBUG] BG Level 4 scaling: 16.0\n",
      "2019-09-09 17:10:04 | [DEBUG] Effective scaling: 8.0\n",
      "2019-09-09 17:10:04 | [DEBUG] Level 1 scaling: 2.0\n",
      "2019-09-09 17:10:04 | [DEBUG] BG Level 4 scaling: 16.0\n",
      "2019-09-09 17:10:04 | [DEBUG] Effective scaling: 8.0\n",
      "2019-09-09 17:10:04 | [DEBUG] Combined mask already exists. Loading from disk.\n",
      "2019-09-09 17:10:04 | [DEBUG] STREAM b'IHDR' 16 13\n",
      "2019-09-09 17:10:04 | [DEBUG] STREAM b'IDAT' 41 65536\n",
      "2019-09-09 17:10:04 | [DEBUG] Level 1 scaling: 2.0\n",
      "2019-09-09 17:10:04 | [DEBUG] BG Level 4 scaling: 16.0\n",
      "2019-09-09 17:10:04 | [DEBUG] Effective scaling: 8.0\n",
      "2019-09-09 17:10:04 | [DEBUG] Cancer mask already exists. Loading from disk.\n",
      "2019-09-09 17:10:04 | [DEBUG] STREAM b'IHDR' 16 13\n",
      "2019-09-09 17:10:04 | [DEBUG] STREAM b'IDAT' 41 210368\n",
      "2019-09-09 17:10:04 | [INFO] Processing WSI tiles.\n"
     ]
    },
    {
     "name": "stdout",
     "output_type": "stream",
     "text": [
      "Progress:  98%\r"
     ]
    },
    {
     "name": "stderr",
     "output_type": "stream",
     "text": [
      "2019-09-09 17:10:35 | [INFO] Processing: P-2019_3292-06-1\n"
     ]
    },
    {
     "name": "stdout",
     "output_type": "stream",
     "text": [
      "Progress:  99%\r",
      "Progress: 100%\r"
     ]
    },
    {
     "name": "stderr",
     "output_type": "stream",
     "text": [
      "2019-09-09 17:10:35 | [DEBUG] Level 0 scaling: 1.0\n",
      "2019-09-09 17:10:35 | [DEBUG] BG Level 0 scaling: 1.0\n",
      "2019-09-09 17:10:35 | [DEBUG] Effective scaling: 1.0\n",
      "2019-09-09 17:10:35 | [DEBUG] Level 0 scaling: 1.0\n",
      "2019-09-09 17:10:35 | [DEBUG] BG Level 0 scaling: 1.0\n",
      "2019-09-09 17:10:35 | [DEBUG] Effective scaling: 1.0\n",
      "2019-09-09 17:10:35 | [DEBUG] Combined mask already exists. Loading from disk.\n",
      "2019-09-09 17:10:35 | [DEBUG] STREAM b'IHDR' 16 13\n",
      "2019-09-09 17:10:35 | [DEBUG] STREAM b'IDAT' 41 1773\n",
      "2019-09-09 17:10:35 | [DEBUG] Level 0 scaling: 1.0\n",
      "2019-09-09 17:10:35 | [DEBUG] BG Level 0 scaling: 1.0\n",
      "2019-09-09 17:10:35 | [DEBUG] Effective scaling: 1.0\n",
      "2019-09-09 17:10:35 | [DEBUG] Cancer mask already exists. Loading from disk.\n",
      "2019-09-09 17:10:35 | [DEBUG] STREAM b'IHDR' 16 13\n",
      "2019-09-09 17:10:35 | [DEBUG] STREAM b'IDAT' 41 1406\n",
      "2019-09-09 17:10:35 | [INFO] Processing WSI tiles.\n",
      "2019-09-09 17:10:35 | [INFO] Processing: P-2019_1502-02-1\n",
      "2019-09-09 17:10:35 | [DEBUG] Level 1 scaling: 2.0\n",
      "2019-09-09 17:10:35 | [DEBUG] BG Level 4 scaling: 16.0\n",
      "2019-09-09 17:10:35 | [DEBUG] Effective scaling: 8.0\n",
      "2019-09-09 17:10:35 | [DEBUG] Level 1 scaling: 2.0\n",
      "2019-09-09 17:10:35 | [DEBUG] BG Level 4 scaling: 16.0\n",
      "2019-09-09 17:10:35 | [DEBUG] Effective scaling: 8.0\n",
      "2019-09-09 17:10:35 | [DEBUG] Combined mask already exists. Loading from disk.\n",
      "2019-09-09 17:10:35 | [DEBUG] STREAM b'IHDR' 16 13\n",
      "2019-09-09 17:10:35 | [DEBUG] STREAM b'IDAT' 41 65536\n",
      "2019-09-09 17:10:35 | [DEBUG] Level 1 scaling: 2.0\n",
      "2019-09-09 17:10:35 | [DEBUG] BG Level 4 scaling: 16.0\n",
      "2019-09-09 17:10:35 | [DEBUG] Effective scaling: 8.0\n",
      "2019-09-09 17:10:35 | [DEBUG] Cancer mask already exists. Loading from disk.\n",
      "2019-09-09 17:10:35 | [DEBUG] STREAM b'IHDR' 16 13\n",
      "2019-09-09 17:10:35 | [DEBUG] STREAM b'IDAT' 41 210368\n",
      "2019-09-09 17:10:35 | [INFO] Processing WSI tiles.\n"
     ]
    },
    {
     "name": "stdout",
     "output_type": "stream",
     "text": [
      "Progress:  99%\r"
     ]
    },
    {
     "name": "stderr",
     "output_type": "stream",
     "text": [
      "2019-09-09 17:11:03 | [INFO] Processing: P-2019_5028-05-1\n"
     ]
    },
    {
     "name": "stdout",
     "output_type": "stream",
     "text": [
      "Progress: 100%\r"
     ]
    },
    {
     "name": "stderr",
     "output_type": "stream",
     "text": [
      "2019-09-09 17:11:03 | [DEBUG] Level 1 scaling: 2.0\n",
      "2019-09-09 17:11:03 | [DEBUG] BG Level 4 scaling: 16.0\n",
      "2019-09-09 17:11:03 | [DEBUG] Effective scaling: 8.0\n",
      "2019-09-09 17:11:03 | [DEBUG] Level 1 scaling: 2.0\n",
      "2019-09-09 17:11:03 | [DEBUG] BG Level 4 scaling: 16.0\n",
      "2019-09-09 17:11:03 | [DEBUG] Effective scaling: 8.0\n",
      "2019-09-09 17:11:03 | [DEBUG] Combined mask already exists. Loading from disk.\n",
      "2019-09-09 17:11:03 | [DEBUG] STREAM b'IHDR' 16 13\n",
      "2019-09-09 17:11:03 | [DEBUG] STREAM b'IDAT' 41 65536\n",
      "2019-09-09 17:11:03 | [DEBUG] Level 1 scaling: 2.0\n",
      "2019-09-09 17:11:03 | [DEBUG] BG Level 4 scaling: 16.0\n",
      "2019-09-09 17:11:03 | [DEBUG] Effective scaling: 8.0\n",
      "2019-09-09 17:11:03 | [DEBUG] Cancer mask already exists. Loading from disk.\n",
      "2019-09-09 17:11:03 | [DEBUG] STREAM b'IHDR' 16 13\n",
      "2019-09-09 17:11:03 | [DEBUG] STREAM b'IDAT' 41 210368\n",
      "2019-09-09 17:11:03 | [INFO] Processing WSI tiles.\n"
     ]
    },
    {
     "name": "stdout",
     "output_type": "stream",
     "text": [
      "Progress:  98%\r"
     ]
    },
    {
     "name": "stderr",
     "output_type": "stream",
     "text": [
      "2019-09-09 17:11:33 | [INFO] Processing: P-2019_4226-05-0\n"
     ]
    },
    {
     "name": "stdout",
     "output_type": "stream",
     "text": [
      "Progress:  99%\r",
      "Progress: 100%\r"
     ]
    },
    {
     "name": "stderr",
     "output_type": "stream",
     "text": [
      "2019-09-09 17:11:33 | [DEBUG] Level 1 scaling: 2.0\n",
      "2019-09-09 17:11:33 | [DEBUG] BG Level 4 scaling: 16.0\n",
      "2019-09-09 17:11:33 | [DEBUG] Effective scaling: 8.0\n",
      "2019-09-09 17:11:33 | [DEBUG] Level 1 scaling: 2.0\n",
      "2019-09-09 17:11:33 | [DEBUG] BG Level 4 scaling: 16.0\n",
      "2019-09-09 17:11:33 | [DEBUG] Effective scaling: 8.0\n",
      "2019-09-09 17:11:33 | [DEBUG] Combined mask already exists. Loading from disk.\n",
      "2019-09-09 17:11:33 | [DEBUG] STREAM b'IHDR' 16 13\n",
      "2019-09-09 17:11:33 | [DEBUG] STREAM b'IDAT' 41 65536\n",
      "2019-09-09 17:11:33 | [DEBUG] Level 1 scaling: 2.0\n",
      "2019-09-09 17:11:33 | [DEBUG] BG Level 4 scaling: 16.0\n",
      "2019-09-09 17:11:33 | [DEBUG] Effective scaling: 8.0\n",
      "2019-09-09 17:11:33 | [DEBUG] Cancer mask already exists. Loading from disk.\n",
      "2019-09-09 17:11:33 | [DEBUG] STREAM b'IHDR' 16 13\n",
      "2019-09-09 17:11:33 | [DEBUG] STREAM b'IDAT' 41 210368\n",
      "2019-09-09 17:11:33 | [INFO] Processing WSI tiles.\n"
     ]
    },
    {
     "name": "stdout",
     "output_type": "stream",
     "text": [
      "Progress:  98%\r"
     ]
    },
    {
     "name": "stderr",
     "output_type": "stream",
     "text": [
      "2019-09-09 17:11:59 | [INFO] Processing: P-2019_2513-11-0\n",
      "2019-09-09 17:11:59 | [DEBUG] Level 1 scaling: 2.0\n",
      "2019-09-09 17:11:59 | [DEBUG] BG Level 4 scaling: 16.0\n",
      "2019-09-09 17:11:59 | [DEBUG] Effective scaling: 8.0\n",
      "2019-09-09 17:11:59 | [DEBUG] Level 1 scaling: 2.0\n",
      "2019-09-09 17:11:59 | [DEBUG] BG Level 4 scaling: 16.0\n",
      "2019-09-09 17:11:59 | [DEBUG] Effective scaling: 8.0\n",
      "2019-09-09 17:11:59 | [DEBUG] Combined mask already exists. Loading from disk.\n",
      "2019-09-09 17:11:59 | [DEBUG] STREAM b'IHDR' 16 13\n",
      "2019-09-09 17:11:59 | [DEBUG] STREAM b'IDAT' 41 65536\n",
      "2019-09-09 17:11:59 | [DEBUG] Level 1 scaling: 2.0\n",
      "2019-09-09 17:11:59 | [DEBUG] BG Level 4 scaling: 16.0\n",
      "2019-09-09 17:11:59 | [DEBUG] Effective scaling: 8.0\n",
      "2019-09-09 17:11:59 | [DEBUG] Cancer mask already exists. Loading from disk.\n",
      "2019-09-09 17:11:59 | [DEBUG] STREAM b'IHDR' 16 13\n",
      "2019-09-09 17:11:59 | [DEBUG] STREAM b'IDAT' 41 210368\n",
      "2019-09-09 17:11:59 | [INFO] Processing WSI tiles.\n"
     ]
    },
    {
     "name": "stdout",
     "output_type": "stream",
     "text": [
      "Progress:  99%\r"
     ]
    },
    {
     "name": "stderr",
     "output_type": "stream",
     "text": [
      "2019-09-09 17:12:21 | [INFO] Processing: TP-2019_2941-05-0\n",
      "2019-09-09 17:12:21 | [DEBUG] Level 1 scaling: 2.0\n",
      "2019-09-09 17:12:21 | [DEBUG] BG Level 4 scaling: 16.0\n",
      "2019-09-09 17:12:21 | [DEBUG] Effective scaling: 8.0\n",
      "2019-09-09 17:12:21 | [DEBUG] Level 1 scaling: 2.0\n",
      "2019-09-09 17:12:22 | [DEBUG] BG Level 4 scaling: 16.0\n",
      "2019-09-09 17:12:22 | [DEBUG] Effective scaling: 8.0\n",
      "2019-09-09 17:12:22 | [DEBUG] Combined mask already exists. Loading from disk.\n",
      "2019-09-09 17:12:22 | [DEBUG] STREAM b'IHDR' 16 13\n",
      "2019-09-09 17:12:22 | [DEBUG] STREAM b'IDAT' 41 65536\n",
      "2019-09-09 17:12:22 | [DEBUG] Level 1 scaling: 2.0\n",
      "2019-09-09 17:12:22 | [DEBUG] BG Level 4 scaling: 16.0\n",
      "2019-09-09 17:12:22 | [DEBUG] Effective scaling: 8.0\n",
      "2019-09-09 17:12:22 | [DEBUG] Cancer mask already exists. Loading from disk.\n",
      "2019-09-09 17:12:22 | [DEBUG] STREAM b'IHDR' 16 13\n",
      "2019-09-09 17:12:22 | [DEBUG] STREAM b'IDAT' 41 210368\n",
      "2019-09-09 17:12:22 | [INFO] Processing WSI tiles.\n"
     ]
    },
    {
     "name": "stdout",
     "output_type": "stream",
     "text": [
      "Progress:  98%\r"
     ]
    },
    {
     "name": "stderr",
     "output_type": "stream",
     "text": [
      "2019-09-09 17:12:43 | [INFO] Processing: P-2019_4335-10-0\n"
     ]
    },
    {
     "name": "stdout",
     "output_type": "stream",
     "text": [
      "Progress:  99%\r",
      "Progress: 100%\r"
     ]
    },
    {
     "name": "stderr",
     "output_type": "stream",
     "text": [
      "2019-09-09 17:12:44 | [DEBUG] Level 1 scaling: 2.0\n",
      "2019-09-09 17:12:44 | [DEBUG] BG Level 4 scaling: 16.0\n",
      "2019-09-09 17:12:44 | [DEBUG] Effective scaling: 8.0\n",
      "2019-09-09 17:12:44 | [DEBUG] Level 1 scaling: 2.0\n",
      "2019-09-09 17:12:44 | [DEBUG] BG Level 4 scaling: 16.0\n",
      "2019-09-09 17:12:44 | [DEBUG] Effective scaling: 8.0\n",
      "2019-09-09 17:12:44 | [DEBUG] Combined mask already exists. Loading from disk.\n",
      "2019-09-09 17:12:44 | [DEBUG] STREAM b'IHDR' 16 13\n",
      "2019-09-09 17:12:44 | [DEBUG] STREAM b'IDAT' 41 65536\n",
      "2019-09-09 17:12:44 | [DEBUG] Level 1 scaling: 2.0\n",
      "2019-09-09 17:12:44 | [DEBUG] BG Level 4 scaling: 16.0\n",
      "2019-09-09 17:12:44 | [DEBUG] Effective scaling: 8.0\n",
      "2019-09-09 17:12:44 | [DEBUG] Cancer mask already exists. Loading from disk.\n",
      "2019-09-09 17:12:44 | [DEBUG] STREAM b'IHDR' 16 13\n",
      "2019-09-09 17:12:44 | [DEBUG] STREAM b'IDAT' 41 210368\n",
      "2019-09-09 17:12:44 | [INFO] Processing WSI tiles.\n"
     ]
    },
    {
     "name": "stdout",
     "output_type": "stream",
     "text": [
      "Progress:  99%\r"
     ]
    },
    {
     "name": "stderr",
     "output_type": "stream",
     "text": [
      "2019-09-09 17:13:07 | [INFO] Processing: P-2019_4007-04-1\n",
      "2019-09-09 17:13:07 | [DEBUG] Level 1 scaling: 2.0\n",
      "2019-09-09 17:13:07 | [DEBUG] BG Level 4 scaling: 16.0\n",
      "2019-09-09 17:13:07 | [DEBUG] Effective scaling: 8.0\n",
      "2019-09-09 17:13:07 | [DEBUG] Level 1 scaling: 2.0\n",
      "2019-09-09 17:13:07 | [DEBUG] BG Level 4 scaling: 16.0\n",
      "2019-09-09 17:13:07 | [DEBUG] Effective scaling: 8.0\n",
      "2019-09-09 17:13:07 | [DEBUG] Combined mask already exists. Loading from disk.\n",
      "2019-09-09 17:13:07 | [DEBUG] STREAM b'IHDR' 16 13\n",
      "2019-09-09 17:13:07 | [DEBUG] STREAM b'IDAT' 41 65536\n",
      "2019-09-09 17:13:07 | [DEBUG] Level 1 scaling: 2.0\n",
      "2019-09-09 17:13:07 | [DEBUG] BG Level 4 scaling: 16.0\n",
      "2019-09-09 17:13:07 | [DEBUG] Effective scaling: 8.0\n",
      "2019-09-09 17:13:07 | [DEBUG] Cancer mask already exists. Loading from disk.\n",
      "2019-09-09 17:13:07 | [DEBUG] STREAM b'IHDR' 16 13\n",
      "2019-09-09 17:13:07 | [DEBUG] STREAM b'IDAT' 41 210368\n",
      "2019-09-09 17:13:07 | [INFO] Processing WSI tiles.\n"
     ]
    },
    {
     "name": "stdout",
     "output_type": "stream",
     "text": [
      "Progress:  99%\r"
     ]
    },
    {
     "name": "stderr",
     "output_type": "stream",
     "text": [
      "2019-09-09 17:13:38 | [INFO] Processing: P-2019_3025-03-1\n",
      "2019-09-09 17:13:38 | [DEBUG] Level 0 scaling: 1.0\n",
      "2019-09-09 17:13:38 | [DEBUG] BG Level 0 scaling: 1.0\n",
      "2019-09-09 17:13:38 | [DEBUG] Effective scaling: 1.0\n",
      "2019-09-09 17:13:38 | [DEBUG] Level 0 scaling: 1.0\n",
      "2019-09-09 17:13:38 | [DEBUG] BG Level 0 scaling: 1.0\n",
      "2019-09-09 17:13:38 | [DEBUG] Effective scaling: 1.0\n",
      "2019-09-09 17:13:38 | [DEBUG] Combined mask already exists. Loading from disk.\n",
      "2019-09-09 17:13:38 | [DEBUG] STREAM b'IHDR' 16 13\n",
      "2019-09-09 17:13:38 | [DEBUG] STREAM b'IDAT' 41 3788\n",
      "2019-09-09 17:13:38 | [DEBUG] Level 0 scaling: 1.0\n",
      "2019-09-09 17:13:38 | [DEBUG] BG Level 0 scaling: 1.0\n",
      "2019-09-09 17:13:38 | [DEBUG] Effective scaling: 1.0\n",
      "2019-09-09 17:13:38 | [DEBUG] Cancer mask already exists. Loading from disk.\n",
      "2019-09-09 17:13:38 | [DEBUG] STREAM b'IHDR' 16 13\n",
      "2019-09-09 17:13:38 | [DEBUG] STREAM b'IDAT' 41 1406\n",
      "2019-09-09 17:13:38 | [INFO] Processing WSI tiles.\n",
      "2019-09-09 17:13:38 | [INFO] Processing: P-2019_3126-11-0\n",
      "2019-09-09 17:13:38 | [DEBUG] Level 1 scaling: 2.0\n",
      "2019-09-09 17:13:38 | [DEBUG] BG Level 4 scaling: 16.0\n",
      "2019-09-09 17:13:38 | [DEBUG] Effective scaling: 8.0\n",
      "2019-09-09 17:13:38 | [DEBUG] Level 1 scaling: 2.0\n",
      "2019-09-09 17:13:38 | [DEBUG] BG Level 4 scaling: 16.0\n"
     ]
    },
    {
     "name": "stdout",
     "output_type": "stream",
     "text": [
      "Progress: 100%\r",
      "Progress:   1%\r",
      "Progress:   2%\r",
      "Progress:   3%\r",
      "Progress:   4%\r",
      "Progress:   5%\r",
      "Progress:   6%\r",
      "Progress:   7%\r",
      "Progress:   8%\r",
      "Progress:   9%\r",
      "Progress:  10%\r",
      "Progress:  11%\r",
      "Progress:  12%\r",
      "Progress:  13%\r",
      "Progress:  14%\r",
      "Progress:  15%\r",
      "Progress:  16%\r",
      "Progress:  17%\r",
      "Progress:  18%\r",
      "Progress:  19%\r",
      "Progress:  20%\r",
      "Progress:  21%\r",
      "Progress:  22%\r",
      "Progress:  23%\r",
      "Progress:  24%\r",
      "Progress:  25%\r",
      "Progress:  26%\r",
      "Progress:  27%\r",
      "Progress:  28%\r",
      "Progress:  29%\r",
      "Progress:  30%\r",
      "Progress:  31%\r",
      "Progress:  32%\r",
      "Progress:  33%\r",
      "Progress:  34%\r",
      "Progress:  35%\r",
      "Progress:  36%\r",
      "Progress:  37%\r",
      "Progress:  38%\r",
      "Progress:  39%\r",
      "Progress:  40%\r",
      "Progress:  41%\r",
      "Progress:  42%\r",
      "Progress:  43%\r",
      "Progress:  44%\r",
      "Progress:  45%\r",
      "Progress:  46%\r",
      "Progress:  47%\r",
      "Progress:  48%\r",
      "Progress:  49%\r",
      "Progress:  50%\r",
      "Progress:  51%\r",
      "Progress:  52%\r",
      "Progress:  53%\r",
      "Progress:  54%\r",
      "Progress:  55%\r",
      "Progress:  56%\r",
      "Progress:  57%\r",
      "Progress:  58%\r",
      "Progress:  59%\r",
      "Progress:  60%\r",
      "Progress:  61%\r",
      "Progress:  62%\r",
      "Progress:  63%\r",
      "Progress:  64%\r",
      "Progress:  65%\r",
      "Progress:  66%\r",
      "Progress:  67%\r",
      "Progress:  68%\r",
      "Progress:  69%\r",
      "Progress:  70%\r",
      "Progress:  71%\r",
      "Progress:  72%\r",
      "Progress:  73%\r",
      "Progress:  74%\r",
      "Progress:  75%\r",
      "Progress:  76%\r",
      "Progress:  77%\r",
      "Progress:  78%\r",
      "Progress:  79%\r",
      "Progress:  80%\r",
      "Progress:  81%\r",
      "Progress:  82%\r",
      "Progress:  83%\r",
      "Progress:  84%\r",
      "Progress:  85%\r",
      "Progress:  86%\r",
      "Progress:  87%\r",
      "Progress:  88%\r",
      "Progress:  89%\r",
      "Progress:  90%\r",
      "Progress:  91%\r",
      "Progress:  92%\r",
      "Progress:  93%\r",
      "Progress:  94%\r",
      "Progress:  95%\r",
      "Progress:  96%\r",
      "Progress:  97%\r",
      "Progress:  98%\r",
      "Progress:  99%\r",
      "Progress: 100%\r",
      "Progress: 101%\r",
      "Progress: 102%\r",
      "Progress: 103%\r",
      "Progress: 104%\r"
     ]
    },
    {
     "name": "stderr",
     "output_type": "stream",
     "text": [
      "2019-09-09 17:13:38 | [DEBUG] Effective scaling: 8.0\n",
      "2019-09-09 17:13:38 | [DEBUG] Combined mask already exists. Loading from disk.\n",
      "2019-09-09 17:13:38 | [DEBUG] STREAM b'IHDR' 16 13\n",
      "2019-09-09 17:13:38 | [DEBUG] STREAM b'IDAT' 41 65536\n",
      "2019-09-09 17:13:38 | [DEBUG] Level 1 scaling: 2.0\n",
      "2019-09-09 17:13:38 | [DEBUG] BG Level 4 scaling: 16.0\n",
      "2019-09-09 17:13:38 | [DEBUG] Effective scaling: 8.0\n",
      "2019-09-09 17:13:38 | [DEBUG] Cancer mask already exists. Loading from disk.\n",
      "2019-09-09 17:13:38 | [DEBUG] STREAM b'IHDR' 16 13\n",
      "2019-09-09 17:13:38 | [DEBUG] STREAM b'IDAT' 41 210368\n",
      "2019-09-09 17:13:38 | [INFO] Processing WSI tiles.\n"
     ]
    },
    {
     "name": "stdout",
     "output_type": "stream",
     "text": [
      "Progress:  99%\r"
     ]
    },
    {
     "name": "stderr",
     "output_type": "stream",
     "text": [
      "2019-09-09 17:14:02 | [INFO] Processing: P-2019_3672-10-1\n",
      "2019-09-09 17:14:02 | [DEBUG] Level 1 scaling: 2.0\n",
      "2019-09-09 17:14:02 | [DEBUG] BG Level 4 scaling: 16.0\n",
      "2019-09-09 17:14:02 | [DEBUG] Effective scaling: 8.0\n",
      "2019-09-09 17:14:02 | [DEBUG] Level 1 scaling: 2.0\n",
      "2019-09-09 17:14:02 | [DEBUG] BG Level 4 scaling: 16.0\n",
      "2019-09-09 17:14:02 | [DEBUG] Effective scaling: 8.0\n",
      "2019-09-09 17:14:02 | [DEBUG] Combined mask already exists. Loading from disk.\n",
      "2019-09-09 17:14:02 | [DEBUG] STREAM b'IHDR' 16 13\n",
      "2019-09-09 17:14:02 | [DEBUG] STREAM b'IDAT' 41 65536\n",
      "2019-09-09 17:14:02 | [DEBUG] Level 1 scaling: 2.0\n",
      "2019-09-09 17:14:03 | [DEBUG] BG Level 4 scaling: 16.0\n",
      "2019-09-09 17:14:03 | [DEBUG] Effective scaling: 8.0\n",
      "2019-09-09 17:14:03 | [DEBUG] Cancer mask already exists. Loading from disk.\n",
      "2019-09-09 17:14:03 | [DEBUG] STREAM b'IHDR' 16 13\n",
      "2019-09-09 17:14:03 | [DEBUG] STREAM b'IDAT' 41 210368\n",
      "2019-09-09 17:14:03 | [INFO] Processing WSI tiles.\n"
     ]
    },
    {
     "name": "stdout",
     "output_type": "stream",
     "text": [
      "Progress:  99%\r"
     ]
    },
    {
     "name": "stderr",
     "output_type": "stream",
     "text": [
      "2019-09-09 17:14:36 | [INFO] Processing: P-2019_1427-11-0\n",
      "2019-09-09 17:14:36 | [DEBUG] Level 1 scaling: 2.0\n",
      "2019-09-09 17:14:36 | [DEBUG] BG Level 4 scaling: 16.0\n",
      "2019-09-09 17:14:36 | [DEBUG] Effective scaling: 8.0\n",
      "2019-09-09 17:14:36 | [DEBUG] Level 1 scaling: 2.0\n",
      "2019-09-09 17:14:36 | [DEBUG] BG Level 4 scaling: 16.0\n",
      "2019-09-09 17:14:36 | [DEBUG] Effective scaling: 8.0\n",
      "2019-09-09 17:14:36 | [DEBUG] Combined mask already exists. Loading from disk.\n",
      "2019-09-09 17:14:36 | [DEBUG] STREAM b'IHDR' 16 13\n",
      "2019-09-09 17:14:36 | [DEBUG] STREAM b'IDAT' 41 65536\n",
      "2019-09-09 17:14:36 | [DEBUG] Level 1 scaling: 2.0\n",
      "2019-09-09 17:14:36 | [DEBUG] BG Level 4 scaling: 16.0\n",
      "2019-09-09 17:14:36 | [DEBUG] Effective scaling: 8.0\n",
      "2019-09-09 17:14:36 | [DEBUG] Cancer mask already exists. Loading from disk.\n",
      "2019-09-09 17:14:36 | [DEBUG] STREAM b'IHDR' 16 13\n",
      "2019-09-09 17:14:36 | [DEBUG] STREAM b'IDAT' 41 210368\n",
      "2019-09-09 17:14:36 | [INFO] Processing WSI tiles.\n"
     ]
    },
    {
     "name": "stdout",
     "output_type": "stream",
     "text": [
      "Progress:  98%\r"
     ]
    },
    {
     "name": "stderr",
     "output_type": "stream",
     "text": [
      "2019-09-09 17:15:01 | [INFO] Processing: P-2019_4353-08-1\n",
      "2019-09-09 17:15:01 | [DEBUG] Level 1 scaling: 2.0\n",
      "2019-09-09 17:15:01 | [DEBUG] BG Level 4 scaling: 16.0\n",
      "2019-09-09 17:15:01 | [DEBUG] Effective scaling: 8.0\n",
      "2019-09-09 17:15:01 | [DEBUG] Level 1 scaling: 2.0\n",
      "2019-09-09 17:15:01 | [DEBUG] BG Level 4 scaling: 16.0\n",
      "2019-09-09 17:15:01 | [DEBUG] Effective scaling: 8.0\n",
      "2019-09-09 17:15:01 | [DEBUG] Combined mask already exists. Loading from disk.\n",
      "2019-09-09 17:15:01 | [DEBUG] STREAM b'IHDR' 16 13\n",
      "2019-09-09 17:15:01 | [DEBUG] STREAM b'IDAT' 41 65536\n",
      "2019-09-09 17:15:01 | [DEBUG] Level 1 scaling: 2.0\n",
      "2019-09-09 17:15:01 | [DEBUG] BG Level 4 scaling: 16.0\n",
      "2019-09-09 17:15:01 | [DEBUG] Effective scaling: 8.0\n",
      "2019-09-09 17:15:01 | [DEBUG] Cancer mask already exists. Loading from disk.\n",
      "2019-09-09 17:15:01 | [DEBUG] STREAM b'IHDR' 16 13\n",
      "2019-09-09 17:15:01 | [DEBUG] STREAM b'IDAT' 41 210368\n",
      "2019-09-09 17:15:01 | [INFO] Processing WSI tiles.\n"
     ]
    },
    {
     "name": "stdout",
     "output_type": "stream",
     "text": [
      "Progress:  99%\r"
     ]
    },
    {
     "name": "stderr",
     "output_type": "stream",
     "text": [
      "2019-09-09 17:15:26 | [INFO] Processing: P-2019_3025-09-1\n",
      "2019-09-09 17:15:26 | [DEBUG] Level 1 scaling: 2.0\n",
      "2019-09-09 17:15:26 | [DEBUG] BG Level 4 scaling: 16.0\n",
      "2019-09-09 17:15:26 | [DEBUG] Effective scaling: 8.0\n",
      "2019-09-09 17:15:26 | [DEBUG] Level 1 scaling: 2.0\n",
      "2019-09-09 17:15:26 | [DEBUG] BG Level 4 scaling: 16.0\n",
      "2019-09-09 17:15:26 | [DEBUG] Effective scaling: 8.0\n",
      "2019-09-09 17:15:26 | [DEBUG] Combined mask already exists. Loading from disk.\n",
      "2019-09-09 17:15:26 | [DEBUG] STREAM b'IHDR' 16 13\n",
      "2019-09-09 17:15:26 | [DEBUG] STREAM b'IDAT' 41 65536\n",
      "2019-09-09 17:15:26 | [DEBUG] Level 1 scaling: 2.0\n",
      "2019-09-09 17:15:26 | [DEBUG] BG Level 4 scaling: 16.0\n",
      "2019-09-09 17:15:26 | [DEBUG] Effective scaling: 8.0\n",
      "2019-09-09 17:15:26 | [DEBUG] Cancer mask already exists. Loading from disk.\n",
      "2019-09-09 17:15:26 | [DEBUG] STREAM b'IHDR' 16 13\n",
      "2019-09-09 17:15:26 | [DEBUG] STREAM b'IDAT' 41 210368\n",
      "2019-09-09 17:15:26 | [INFO] Processing WSI tiles.\n"
     ]
    },
    {
     "name": "stdout",
     "output_type": "stream",
     "text": [
      "Progress:  98%\r"
     ]
    },
    {
     "name": "stderr",
     "output_type": "stream",
     "text": [
      "2019-09-09 17:15:49 | [INFO] Processing: P-2019_3204-17-1\n",
      "2019-09-09 17:15:49 | [DEBUG] Level 1 scaling: 2.0\n",
      "2019-09-09 17:15:49 | [DEBUG] BG Level 4 scaling: 16.0\n",
      "2019-09-09 17:15:49 | [DEBUG] Effective scaling: 8.0\n",
      "2019-09-09 17:15:49 | [DEBUG] Level 1 scaling: 2.0\n",
      "2019-09-09 17:15:49 | [DEBUG] BG Level 4 scaling: 16.0\n",
      "2019-09-09 17:15:49 | [DEBUG] Effective scaling: 8.0\n",
      "2019-09-09 17:15:49 | [DEBUG] Combined mask already exists. Loading from disk.\n",
      "2019-09-09 17:15:49 | [DEBUG] STREAM b'IHDR' 16 13\n",
      "2019-09-09 17:15:49 | [DEBUG] STREAM b'IDAT' 41 65536\n",
      "2019-09-09 17:15:49 | [DEBUG] Level 1 scaling: 2.0\n",
      "2019-09-09 17:15:49 | [DEBUG] BG Level 4 scaling: 16.0\n",
      "2019-09-09 17:15:49 | [DEBUG] Effective scaling: 8.0\n",
      "2019-09-09 17:15:49 | [DEBUG] Cancer mask already exists. Loading from disk.\n",
      "2019-09-09 17:15:49 | [DEBUG] STREAM b'IHDR' 16 13\n",
      "2019-09-09 17:15:49 | [DEBUG] STREAM b'IDAT' 41 210368\n",
      "2019-09-09 17:15:49 | [INFO] Processing WSI tiles.\n"
     ]
    },
    {
     "name": "stdout",
     "output_type": "stream",
     "text": [
      "Progress:  98%\r"
     ]
    },
    {
     "name": "stderr",
     "output_type": "stream",
     "text": [
      "2019-09-09 17:16:19 | [INFO] Processing: P-2019_4298-08-0\n"
     ]
    },
    {
     "name": "stdout",
     "output_type": "stream",
     "text": [
      "Progress:  99%\r",
      "Progress: 100%\r"
     ]
    },
    {
     "name": "stderr",
     "output_type": "stream",
     "text": [
      "2019-09-09 17:16:19 | [DEBUG] Level 1 scaling: 2.0\n",
      "2019-09-09 17:16:19 | [DEBUG] BG Level 4 scaling: 16.0\n",
      "2019-09-09 17:16:19 | [DEBUG] Effective scaling: 8.0\n",
      "2019-09-09 17:16:19 | [DEBUG] Level 1 scaling: 2.0\n",
      "2019-09-09 17:16:19 | [DEBUG] BG Level 4 scaling: 16.0\n",
      "2019-09-09 17:16:19 | [DEBUG] Effective scaling: 8.0\n",
      "2019-09-09 17:16:19 | [DEBUG] Combined mask already exists. Loading from disk.\n",
      "2019-09-09 17:16:19 | [DEBUG] STREAM b'IHDR' 16 13\n",
      "2019-09-09 17:16:19 | [DEBUG] STREAM b'IDAT' 41 65536\n",
      "2019-09-09 17:16:19 | [DEBUG] Level 1 scaling: 2.0\n",
      "2019-09-09 17:16:19 | [DEBUG] BG Level 4 scaling: 16.0\n",
      "2019-09-09 17:16:19 | [DEBUG] Effective scaling: 8.0\n",
      "2019-09-09 17:16:19 | [DEBUG] Cancer mask already exists. Loading from disk.\n",
      "2019-09-09 17:16:19 | [DEBUG] STREAM b'IHDR' 16 13\n",
      "2019-09-09 17:16:19 | [DEBUG] STREAM b'IDAT' 41 210368\n",
      "2019-09-09 17:16:19 | [INFO] Processing WSI tiles.\n"
     ]
    },
    {
     "name": "stdout",
     "output_type": "stream",
     "text": [
      "Progress:  99%\r"
     ]
    },
    {
     "name": "stderr",
     "output_type": "stream",
     "text": [
      "2019-09-09 17:16:47 | [INFO] Processing: P-2019_3126-08-0\n",
      "2019-09-09 17:16:47 | [DEBUG] Level 1 scaling: 2.0\n",
      "2019-09-09 17:16:47 | [DEBUG] BG Level 4 scaling: 16.0\n",
      "2019-09-09 17:16:47 | [DEBUG] Effective scaling: 8.0\n",
      "2019-09-09 17:16:47 | [DEBUG] Level 1 scaling: 2.0\n",
      "2019-09-09 17:16:47 | [DEBUG] BG Level 4 scaling: 16.0\n",
      "2019-09-09 17:16:47 | [DEBUG] Effective scaling: 8.0\n",
      "2019-09-09 17:16:47 | [DEBUG] Combined mask already exists. Loading from disk.\n",
      "2019-09-09 17:16:47 | [DEBUG] STREAM b'IHDR' 16 13\n",
      "2019-09-09 17:16:47 | [DEBUG] STREAM b'IDAT' 41 65536\n",
      "2019-09-09 17:16:47 | [DEBUG] Level 1 scaling: 2.0\n",
      "2019-09-09 17:16:47 | [DEBUG] BG Level 4 scaling: 16.0\n",
      "2019-09-09 17:16:47 | [DEBUG] Effective scaling: 8.0\n",
      "2019-09-09 17:16:47 | [DEBUG] Cancer mask already exists. Loading from disk.\n",
      "2019-09-09 17:16:47 | [DEBUG] STREAM b'IHDR' 16 13\n",
      "2019-09-09 17:16:47 | [DEBUG] STREAM b'IDAT' 41 210368\n",
      "2019-09-09 17:16:47 | [INFO] Processing WSI tiles.\n"
     ]
    },
    {
     "name": "stdout",
     "output_type": "stream",
     "text": [
      "Progress:  98%\r"
     ]
    },
    {
     "name": "stderr",
     "output_type": "stream",
     "text": [
      "2019-09-09 17:17:16 | [INFO] Processing: P-2019_4121-10-1\n",
      "2019-09-09 17:17:16 | [DEBUG] Level 1 scaling: 2.0\n",
      "2019-09-09 17:17:16 | [DEBUG] BG Level 4 scaling: 16.0\n",
      "2019-09-09 17:17:16 | [DEBUG] Effective scaling: 8.0\n",
      "2019-09-09 17:17:16 | [DEBUG] Level 1 scaling: 2.0\n"
     ]
    },
    {
     "name": "stdout",
     "output_type": "stream",
     "text": [
      "Progress:  99%\r",
      "Progress: 100%\r"
     ]
    },
    {
     "name": "stderr",
     "output_type": "stream",
     "text": [
      "2019-09-09 17:17:16 | [DEBUG] BG Level 4 scaling: 16.0\n",
      "2019-09-09 17:17:16 | [DEBUG] Effective scaling: 8.0\n",
      "2019-09-09 17:17:16 | [DEBUG] Combined mask already exists. Loading from disk.\n",
      "2019-09-09 17:17:16 | [DEBUG] STREAM b'IHDR' 16 13\n",
      "2019-09-09 17:17:16 | [DEBUG] STREAM b'IDAT' 41 65536\n",
      "2019-09-09 17:17:16 | [DEBUG] Level 1 scaling: 2.0\n",
      "2019-09-09 17:17:16 | [DEBUG] BG Level 4 scaling: 16.0\n",
      "2019-09-09 17:17:16 | [DEBUG] Effective scaling: 8.0\n",
      "2019-09-09 17:17:16 | [DEBUG] Cancer mask already exists. Loading from disk.\n",
      "2019-09-09 17:17:16 | [DEBUG] STREAM b'IHDR' 16 13\n",
      "2019-09-09 17:17:16 | [DEBUG] STREAM b'IDAT' 41 210368\n",
      "2019-09-09 17:17:16 | [INFO] Processing WSI tiles.\n"
     ]
    },
    {
     "name": "stdout",
     "output_type": "stream",
     "text": [
      "Progress:  99%\r"
     ]
    },
    {
     "name": "stderr",
     "output_type": "stream",
     "text": [
      "2019-09-09 17:17:44 | [INFO] Processing: P-2019_2513-03-0\n",
      "2019-09-09 17:17:45 | [DEBUG] Level 1 scaling: 2.0\n",
      "2019-09-09 17:17:45 | [DEBUG] BG Level 4 scaling: 16.0\n",
      "2019-09-09 17:17:45 | [DEBUG] Effective scaling: 8.0\n",
      "2019-09-09 17:17:45 | [DEBUG] Level 1 scaling: 2.0\n",
      "2019-09-09 17:17:45 | [DEBUG] BG Level 4 scaling: 16.0\n",
      "2019-09-09 17:17:45 | [DEBUG] Effective scaling: 8.0\n",
      "2019-09-09 17:17:45 | [DEBUG] Combined mask already exists. Loading from disk.\n",
      "2019-09-09 17:17:45 | [DEBUG] STREAM b'IHDR' 16 13\n",
      "2019-09-09 17:17:45 | [DEBUG] STREAM b'IDAT' 41 65536\n",
      "2019-09-09 17:17:45 | [DEBUG] Level 1 scaling: 2.0\n",
      "2019-09-09 17:17:45 | [DEBUG] BG Level 4 scaling: 16.0\n",
      "2019-09-09 17:17:45 | [DEBUG] Effective scaling: 8.0\n",
      "2019-09-09 17:17:45 | [DEBUG] Cancer mask already exists. Loading from disk.\n",
      "2019-09-09 17:17:45 | [DEBUG] STREAM b'IHDR' 16 13\n",
      "2019-09-09 17:17:45 | [DEBUG] STREAM b'IDAT' 41 210368\n",
      "2019-09-09 17:17:45 | [INFO] Processing WSI tiles.\n"
     ]
    },
    {
     "name": "stdout",
     "output_type": "stream",
     "text": [
      "Progress:  98%\r"
     ]
    },
    {
     "name": "stderr",
     "output_type": "stream",
     "text": [
      "2019-09-09 17:18:14 | [INFO] Processing: TP-2019_2623-06-0\n",
      "2019-09-09 17:18:14 | [DEBUG] Level 1 scaling: 2.0\n",
      "2019-09-09 17:18:14 | [DEBUG] BG Level 4 scaling: 16.0\n",
      "2019-09-09 17:18:14 | [DEBUG] Effective scaling: 8.0\n",
      "2019-09-09 17:18:14 | [DEBUG] Level 1 scaling: 2.0\n",
      "2019-09-09 17:18:14 | [DEBUG] BG Level 4 scaling: 16.0\n",
      "2019-09-09 17:18:14 | [DEBUG] Effective scaling: 8.0\n",
      "2019-09-09 17:18:14 | [DEBUG] Combined mask already exists. Loading from disk.\n",
      "2019-09-09 17:18:14 | [DEBUG] STREAM b'IHDR' 16 13\n",
      "2019-09-09 17:18:14 | [DEBUG] STREAM b'IDAT' 41 65536\n",
      "2019-09-09 17:18:14 | [DEBUG] Level 1 scaling: 2.0\n",
      "2019-09-09 17:18:14 | [DEBUG] BG Level 4 scaling: 16.0\n",
      "2019-09-09 17:18:14 | [DEBUG] Effective scaling: 8.0\n",
      "2019-09-09 17:18:14 | [DEBUG] Cancer mask already exists. Loading from disk.\n",
      "2019-09-09 17:18:14 | [DEBUG] STREAM b'IHDR' 16 13\n",
      "2019-09-09 17:18:14 | [DEBUG] STREAM b'IDAT' 41 210368\n",
      "2019-09-09 17:18:14 | [INFO] Processing WSI tiles.\n"
     ]
    },
    {
     "name": "stdout",
     "output_type": "stream",
     "text": [
      "Progress:  99%\r"
     ]
    },
    {
     "name": "stderr",
     "output_type": "stream",
     "text": [
      "2019-09-09 17:18:43 | [INFO] Processing: P-2019_2781-03-0\n",
      "2019-09-09 17:18:43 | [DEBUG] Level 1 scaling: 2.0\n",
      "2019-09-09 17:18:43 | [DEBUG] BG Level 4 scaling: 16.0\n",
      "2019-09-09 17:18:43 | [DEBUG] Effective scaling: 8.0\n",
      "2019-09-09 17:18:43 | [DEBUG] Level 1 scaling: 2.0\n",
      "2019-09-09 17:18:43 | [DEBUG] BG Level 4 scaling: 16.0\n",
      "2019-09-09 17:18:43 | [DEBUG] Effective scaling: 8.0\n",
      "2019-09-09 17:18:43 | [DEBUG] Combined mask already exists. Loading from disk.\n",
      "2019-09-09 17:18:43 | [DEBUG] STREAM b'IHDR' 16 13\n",
      "2019-09-09 17:18:43 | [DEBUG] STREAM b'IDAT' 41 65536\n",
      "2019-09-09 17:18:43 | [DEBUG] Level 1 scaling: 2.0\n",
      "2019-09-09 17:18:43 | [DEBUG] BG Level 4 scaling: 16.0\n",
      "2019-09-09 17:18:43 | [DEBUG] Effective scaling: 8.0\n",
      "2019-09-09 17:18:43 | [DEBUG] Cancer mask already exists. Loading from disk.\n",
      "2019-09-09 17:18:43 | [DEBUG] STREAM b'IHDR' 16 13\n",
      "2019-09-09 17:18:43 | [DEBUG] STREAM b'IDAT' 41 210368\n",
      "2019-09-09 17:18:43 | [INFO] Processing WSI tiles.\n"
     ]
    },
    {
     "name": "stdout",
     "output_type": "stream",
     "text": [
      "Progress:  98%\r"
     ]
    },
    {
     "name": "stderr",
     "output_type": "stream",
     "text": [
      "2019-09-09 17:19:10 | [INFO] Processing: P-2019_4619-07-0\n"
     ]
    },
    {
     "name": "stdout",
     "output_type": "stream",
     "text": [
      "Progress:  99%\r",
      "Progress: 100%\r"
     ]
    },
    {
     "name": "stderr",
     "output_type": "stream",
     "text": [
      "2019-09-09 17:19:10 | [DEBUG] Level 1 scaling: 2.0\n",
      "2019-09-09 17:19:10 | [DEBUG] BG Level 4 scaling: 16.0\n",
      "2019-09-09 17:19:10 | [DEBUG] Effective scaling: 8.0\n",
      "2019-09-09 17:19:10 | [DEBUG] Level 1 scaling: 2.0\n",
      "2019-09-09 17:19:10 | [DEBUG] BG Level 4 scaling: 16.0\n",
      "2019-09-09 17:19:10 | [DEBUG] Effective scaling: 8.0\n",
      "2019-09-09 17:19:10 | [DEBUG] Combined mask already exists. Loading from disk.\n",
      "2019-09-09 17:19:10 | [DEBUG] STREAM b'IHDR' 16 13\n",
      "2019-09-09 17:19:10 | [DEBUG] STREAM b'IDAT' 41 65536\n",
      "2019-09-09 17:19:10 | [DEBUG] Level 1 scaling: 2.0\n",
      "2019-09-09 17:19:10 | [DEBUG] BG Level 4 scaling: 16.0\n",
      "2019-09-09 17:19:10 | [DEBUG] Effective scaling: 8.0\n",
      "2019-09-09 17:19:10 | [DEBUG] Cancer mask already exists. Loading from disk.\n",
      "2019-09-09 17:19:10 | [DEBUG] STREAM b'IHDR' 16 13\n",
      "2019-09-09 17:19:10 | [DEBUG] STREAM b'IDAT' 41 210368\n",
      "2019-09-09 17:19:10 | [INFO] Processing WSI tiles.\n"
     ]
    },
    {
     "name": "stdout",
     "output_type": "stream",
     "text": [
      "Progress:  98%\r"
     ]
    },
    {
     "name": "stderr",
     "output_type": "stream",
     "text": [
      "2019-09-09 17:19:38 | [INFO] Processing: P-2019_2216-07-0\n"
     ]
    },
    {
     "name": "stdout",
     "output_type": "stream",
     "text": [
      "Progress:  99%\r",
      "Progress: 100%\r"
     ]
    },
    {
     "name": "stderr",
     "output_type": "stream",
     "text": [
      "2019-09-09 17:19:39 | [DEBUG] Level 1 scaling: 2.0\n",
      "2019-09-09 17:19:39 | [DEBUG] BG Level 4 scaling: 16.0\n",
      "2019-09-09 17:19:39 | [DEBUG] Effective scaling: 8.0\n",
      "2019-09-09 17:19:39 | [DEBUG] Level 1 scaling: 2.0\n",
      "2019-09-09 17:19:39 | [DEBUG] BG Level 4 scaling: 16.0\n",
      "2019-09-09 17:19:39 | [DEBUG] Effective scaling: 8.0\n",
      "2019-09-09 17:19:39 | [DEBUG] Combined mask already exists. Loading from disk.\n",
      "2019-09-09 17:19:39 | [DEBUG] STREAM b'IHDR' 16 13\n",
      "2019-09-09 17:19:39 | [DEBUG] STREAM b'IDAT' 41 65536\n",
      "2019-09-09 17:19:39 | [DEBUG] Level 1 scaling: 2.0\n",
      "2019-09-09 17:19:39 | [DEBUG] BG Level 4 scaling: 16.0\n",
      "2019-09-09 17:19:39 | [DEBUG] Effective scaling: 8.0\n",
      "2019-09-09 17:19:39 | [DEBUG] Cancer mask already exists. Loading from disk.\n",
      "2019-09-09 17:19:39 | [DEBUG] STREAM b'IHDR' 16 13\n",
      "2019-09-09 17:19:39 | [DEBUG] STREAM b'IDAT' 41 210368\n",
      "2019-09-09 17:19:39 | [INFO] Processing WSI tiles.\n"
     ]
    },
    {
     "name": "stdout",
     "output_type": "stream",
     "text": [
      "Progress:  98%\r"
     ]
    },
    {
     "name": "stderr",
     "output_type": "stream",
     "text": [
      "2019-09-09 17:20:06 | [INFO] Processing: P-2019_3292-05-0\n"
     ]
    },
    {
     "name": "stdout",
     "output_type": "stream",
     "text": [
      "Progress:  99%\r",
      "Progress: 100%\r"
     ]
    },
    {
     "name": "stderr",
     "output_type": "stream",
     "text": [
      "2019-09-09 17:20:06 | [DEBUG] Level 1 scaling: 2.0\n",
      "2019-09-09 17:20:06 | [DEBUG] BG Level 4 scaling: 16.0\n",
      "2019-09-09 17:20:06 | [DEBUG] Effective scaling: 8.0\n",
      "2019-09-09 17:20:06 | [DEBUG] Level 1 scaling: 2.0\n",
      "2019-09-09 17:20:06 | [DEBUG] BG Level 4 scaling: 16.0\n",
      "2019-09-09 17:20:06 | [DEBUG] Effective scaling: 8.0\n",
      "2019-09-09 17:20:06 | [DEBUG] Combined mask already exists. Loading from disk.\n",
      "2019-09-09 17:20:06 | [DEBUG] STREAM b'IHDR' 16 13\n",
      "2019-09-09 17:20:06 | [DEBUG] STREAM b'IDAT' 41 65536\n",
      "2019-09-09 17:20:06 | [DEBUG] Level 1 scaling: 2.0\n",
      "2019-09-09 17:20:06 | [DEBUG] BG Level 4 scaling: 16.0\n",
      "2019-09-09 17:20:06 | [DEBUG] Effective scaling: 8.0\n",
      "2019-09-09 17:20:06 | [DEBUG] Cancer mask already exists. Loading from disk.\n",
      "2019-09-09 17:20:06 | [DEBUG] STREAM b'IHDR' 16 13\n",
      "2019-09-09 17:20:06 | [DEBUG] STREAM b'IDAT' 41 210368\n",
      "2019-09-09 17:20:06 | [INFO] Processing WSI tiles.\n"
     ]
    },
    {
     "name": "stdout",
     "output_type": "stream",
     "text": [
      "Progress:  98%\r"
     ]
    },
    {
     "name": "stderr",
     "output_type": "stream",
     "text": [
      "2019-09-09 17:20:34 | [INFO] Processing: P-2019_4828-14-1\n"
     ]
    },
    {
     "name": "stdout",
     "output_type": "stream",
     "text": [
      "Progress:  99%\r",
      "Progress: 100%\r"
     ]
    },
    {
     "name": "stderr",
     "output_type": "stream",
     "text": [
      "2019-09-09 17:20:34 | [DEBUG] Level 1 scaling: 2.0\n",
      "2019-09-09 17:20:34 | [DEBUG] BG Level 4 scaling: 16.0\n",
      "2019-09-09 17:20:34 | [DEBUG] Effective scaling: 8.0\n",
      "2019-09-09 17:20:34 | [DEBUG] Level 1 scaling: 2.0\n",
      "2019-09-09 17:20:34 | [DEBUG] BG Level 4 scaling: 16.0\n",
      "2019-09-09 17:20:34 | [DEBUG] Effective scaling: 8.0\n",
      "2019-09-09 17:20:34 | [DEBUG] Combined mask already exists. Loading from disk.\n",
      "2019-09-09 17:20:34 | [DEBUG] STREAM b'IHDR' 16 13\n",
      "2019-09-09 17:20:34 | [DEBUG] STREAM b'IDAT' 41 65536\n",
      "2019-09-09 17:20:34 | [DEBUG] Level 1 scaling: 2.0\n",
      "2019-09-09 17:20:34 | [DEBUG] BG Level 4 scaling: 16.0\n",
      "2019-09-09 17:20:34 | [DEBUG] Effective scaling: 8.0\n",
      "2019-09-09 17:20:34 | [DEBUG] Cancer mask already exists. Loading from disk.\n",
      "2019-09-09 17:20:34 | [DEBUG] STREAM b'IHDR' 16 13\n",
      "2019-09-09 17:20:34 | [DEBUG] STREAM b'IDAT' 41 210368\n",
      "2019-09-09 17:20:34 | [INFO] Processing WSI tiles.\n"
     ]
    },
    {
     "name": "stdout",
     "output_type": "stream",
     "text": [
      "Progress:  98%\r"
     ]
    },
    {
     "name": "stderr",
     "output_type": "stream",
     "text": [
      "2019-09-09 17:21:04 | [INFO] Processing: P-2019_1502-07-1\n"
     ]
    },
    {
     "name": "stdout",
     "output_type": "stream",
     "text": [
      "Progress:  99%\r",
      "Progress: 100%\r"
     ]
    },
    {
     "name": "stderr",
     "output_type": "stream",
     "text": [
      "2019-09-09 17:21:04 | [DEBUG] Level 1 scaling: 2.0\n",
      "2019-09-09 17:21:04 | [DEBUG] BG Level 4 scaling: 16.0\n",
      "2019-09-09 17:21:04 | [DEBUG] Effective scaling: 8.0\n",
      "2019-09-09 17:21:04 | [DEBUG] Level 1 scaling: 2.0\n",
      "2019-09-09 17:21:04 | [DEBUG] BG Level 4 scaling: 16.0\n",
      "2019-09-09 17:21:04 | [DEBUG] Effective scaling: 8.0\n",
      "2019-09-09 17:21:04 | [DEBUG] Combined mask already exists. Loading from disk.\n",
      "2019-09-09 17:21:04 | [DEBUG] STREAM b'IHDR' 16 13\n",
      "2019-09-09 17:21:04 | [DEBUG] STREAM b'IDAT' 41 65536\n",
      "2019-09-09 17:21:04 | [DEBUG] Level 1 scaling: 2.0\n",
      "2019-09-09 17:21:04 | [DEBUG] BG Level 4 scaling: 16.0\n",
      "2019-09-09 17:21:04 | [DEBUG] Effective scaling: 8.0\n",
      "2019-09-09 17:21:04 | [DEBUG] Cancer mask already exists. Loading from disk.\n",
      "2019-09-09 17:21:04 | [DEBUG] STREAM b'IHDR' 16 13\n",
      "2019-09-09 17:21:04 | [DEBUG] STREAM b'IDAT' 41 210368\n",
      "2019-09-09 17:21:04 | [INFO] Processing WSI tiles.\n"
     ]
    },
    {
     "name": "stdout",
     "output_type": "stream",
     "text": [
      "Progress:  99%\r"
     ]
    },
    {
     "name": "stderr",
     "output_type": "stream",
     "text": [
      "2019-09-09 17:21:34 | [INFO] Processing: P-2019_3124-02-0\n",
      "2019-09-09 17:21:34 | [DEBUG] Level 1 scaling: 2.0\n",
      "2019-09-09 17:21:34 | [DEBUG] BG Level 4 scaling: 16.0\n",
      "2019-09-09 17:21:34 | [DEBUG] Effective scaling: 8.0\n",
      "2019-09-09 17:21:34 | [DEBUG] Level 1 scaling: 2.0\n",
      "2019-09-09 17:21:34 | [DEBUG] BG Level 4 scaling: 16.0\n",
      "2019-09-09 17:21:34 | [DEBUG] Effective scaling: 8.0\n",
      "2019-09-09 17:21:34 | [DEBUG] Combined mask already exists. Loading from disk.\n",
      "2019-09-09 17:21:34 | [DEBUG] STREAM b'IHDR' 16 13\n",
      "2019-09-09 17:21:34 | [DEBUG] STREAM b'IDAT' 41 65536\n",
      "2019-09-09 17:21:34 | [DEBUG] Level 1 scaling: 2.0\n",
      "2019-09-09 17:21:34 | [DEBUG] BG Level 4 scaling: 16.0\n",
      "2019-09-09 17:21:34 | [DEBUG] Effective scaling: 8.0\n",
      "2019-09-09 17:21:34 | [DEBUG] Cancer mask already exists. Loading from disk.\n",
      "2019-09-09 17:21:34 | [DEBUG] STREAM b'IHDR' 16 13\n",
      "2019-09-09 17:21:34 | [DEBUG] STREAM b'IDAT' 41 210368\n",
      "2019-09-09 17:21:34 | [INFO] Processing WSI tiles.\n"
     ]
    },
    {
     "name": "stdout",
     "output_type": "stream",
     "text": [
      "Progress:  98%\r"
     ]
    },
    {
     "name": "stderr",
     "output_type": "stream",
     "text": [
      "2019-09-09 17:22:03 | [INFO] Processing: P-2019_3204-13-0\n"
     ]
    },
    {
     "name": "stdout",
     "output_type": "stream",
     "text": [
      "Progress:  99%\r",
      "Progress: 100%\r"
     ]
    },
    {
     "name": "stderr",
     "output_type": "stream",
     "text": [
      "2019-09-09 17:22:03 | [DEBUG] Level 1 scaling: 2.0\n",
      "2019-09-09 17:22:03 | [DEBUG] BG Level 4 scaling: 16.0\n",
      "2019-09-09 17:22:03 | [DEBUG] Effective scaling: 8.0\n",
      "2019-09-09 17:22:03 | [DEBUG] Level 1 scaling: 2.0\n",
      "2019-09-09 17:22:03 | [DEBUG] BG Level 4 scaling: 16.0\n",
      "2019-09-09 17:22:03 | [DEBUG] Effective scaling: 8.0\n",
      "2019-09-09 17:22:03 | [DEBUG] Combined mask already exists. Loading from disk.\n",
      "2019-09-09 17:22:03 | [DEBUG] STREAM b'IHDR' 16 13\n",
      "2019-09-09 17:22:03 | [DEBUG] STREAM b'IDAT' 41 65536\n",
      "2019-09-09 17:22:03 | [DEBUG] Level 1 scaling: 2.0\n",
      "2019-09-09 17:22:03 | [DEBUG] BG Level 4 scaling: 16.0\n",
      "2019-09-09 17:22:03 | [DEBUG] Effective scaling: 8.0\n",
      "2019-09-09 17:22:03 | [DEBUG] Cancer mask already exists. Loading from disk.\n",
      "2019-09-09 17:22:03 | [DEBUG] STREAM b'IHDR' 16 13\n",
      "2019-09-09 17:22:03 | [DEBUG] STREAM b'IDAT' 41 210368\n",
      "2019-09-09 17:22:03 | [INFO] Processing WSI tiles.\n"
     ]
    },
    {
     "name": "stdout",
     "output_type": "stream",
     "text": [
      "Progress:  98%\r"
     ]
    },
    {
     "name": "stderr",
     "output_type": "stream",
     "text": [
      "2019-09-09 17:22:31 | [INFO] Processing: P-2019_4336-11-1\n"
     ]
    },
    {
     "name": "stdout",
     "output_type": "stream",
     "text": [
      "Progress:  99%\r",
      "Progress: 100%\r"
     ]
    },
    {
     "name": "stderr",
     "output_type": "stream",
     "text": [
      "2019-09-09 17:22:32 | [DEBUG] Level 1 scaling: 2.0\n",
      "2019-09-09 17:22:32 | [DEBUG] BG Level 4 scaling: 16.0\n",
      "2019-09-09 17:22:32 | [DEBUG] Effective scaling: 8.0\n",
      "2019-09-09 17:22:32 | [DEBUG] Level 1 scaling: 2.0\n",
      "2019-09-09 17:22:32 | [DEBUG] BG Level 4 scaling: 16.0\n",
      "2019-09-09 17:22:32 | [DEBUG] Effective scaling: 8.0\n",
      "2019-09-09 17:22:32 | [DEBUG] Combined mask already exists. Loading from disk.\n",
      "2019-09-09 17:22:32 | [DEBUG] STREAM b'IHDR' 16 13\n",
      "2019-09-09 17:22:32 | [DEBUG] STREAM b'IDAT' 41 65536\n",
      "2019-09-09 17:22:32 | [DEBUG] Level 1 scaling: 2.0\n",
      "2019-09-09 17:22:32 | [DEBUG] BG Level 4 scaling: 16.0\n",
      "2019-09-09 17:22:32 | [DEBUG] Effective scaling: 8.0\n",
      "2019-09-09 17:22:32 | [DEBUG] Cancer mask already exists. Loading from disk.\n",
      "2019-09-09 17:22:32 | [DEBUG] STREAM b'IHDR' 16 13\n",
      "2019-09-09 17:22:32 | [DEBUG] STREAM b'IDAT' 41 210368\n",
      "2019-09-09 17:22:32 | [INFO] Processing WSI tiles.\n"
     ]
    },
    {
     "name": "stdout",
     "output_type": "stream",
     "text": [
      "Progress:  99%\r"
     ]
    },
    {
     "name": "stderr",
     "output_type": "stream",
     "text": [
      "2019-09-09 17:23:04 | [INFO] Processing: P-2019_3126-12-0\n",
      "2019-09-09 17:23:04 | [DEBUG] Level 1 scaling: 2.0\n",
      "2019-09-09 17:23:04 | [DEBUG] BG Level 4 scaling: 16.0\n",
      "2019-09-09 17:23:04 | [DEBUG] Effective scaling: 8.0\n",
      "2019-09-09 17:23:04 | [DEBUG] Level 1 scaling: 2.0\n",
      "2019-09-09 17:23:04 | [DEBUG] BG Level 4 scaling: 16.0\n",
      "2019-09-09 17:23:04 | [DEBUG] Effective scaling: 8.0\n",
      "2019-09-09 17:23:04 | [DEBUG] Combined mask already exists. Loading from disk.\n",
      "2019-09-09 17:23:04 | [DEBUG] STREAM b'IHDR' 16 13\n",
      "2019-09-09 17:23:04 | [DEBUG] STREAM b'IDAT' 41 65536\n",
      "2019-09-09 17:23:04 | [DEBUG] Level 1 scaling: 2.0\n",
      "2019-09-09 17:23:04 | [DEBUG] BG Level 4 scaling: 16.0\n",
      "2019-09-09 17:23:04 | [DEBUG] Effective scaling: 8.0\n",
      "2019-09-09 17:23:04 | [DEBUG] Cancer mask already exists. Loading from disk.\n",
      "2019-09-09 17:23:04 | [DEBUG] STREAM b'IHDR' 16 13\n",
      "2019-09-09 17:23:04 | [DEBUG] STREAM b'IDAT' 41 210368\n",
      "2019-09-09 17:23:04 | [INFO] Processing WSI tiles.\n"
     ]
    },
    {
     "name": "stdout",
     "output_type": "stream",
     "text": [
      "Progress:  99%\r"
     ]
    },
    {
     "name": "stderr",
     "output_type": "stream",
     "text": [
      "2019-09-09 17:23:32 | [INFO] Processing: P-2019_2781-04-0\n",
      "2019-09-09 17:23:32 | [DEBUG] Level 1 scaling: 2.0\n",
      "2019-09-09 17:23:32 | [DEBUG] BG Level 4 scaling: 16.0\n",
      "2019-09-09 17:23:32 | [DEBUG] Effective scaling: 8.0\n",
      "2019-09-09 17:23:32 | [DEBUG] Level 1 scaling: 2.0\n",
      "2019-09-09 17:23:32 | [DEBUG] BG Level 4 scaling: 16.0\n",
      "2019-09-09 17:23:32 | [DEBUG] Effective scaling: 8.0\n",
      "2019-09-09 17:23:32 | [DEBUG] Combined mask already exists. Loading from disk.\n",
      "2019-09-09 17:23:32 | [DEBUG] STREAM b'IHDR' 16 13\n",
      "2019-09-09 17:23:32 | [DEBUG] STREAM b'IDAT' 41 65536\n",
      "2019-09-09 17:23:32 | [DEBUG] Level 1 scaling: 2.0\n",
      "2019-09-09 17:23:32 | [DEBUG] BG Level 4 scaling: 16.0\n",
      "2019-09-09 17:23:32 | [DEBUG] Effective scaling: 8.0\n",
      "2019-09-09 17:23:32 | [DEBUG] Cancer mask already exists. Loading from disk.\n",
      "2019-09-09 17:23:32 | [DEBUG] STREAM b'IHDR' 16 13\n",
      "2019-09-09 17:23:32 | [DEBUG] STREAM b'IDAT' 41 210368\n",
      "2019-09-09 17:23:32 | [INFO] Processing WSI tiles.\n"
     ]
    },
    {
     "name": "stdout",
     "output_type": "stream",
     "text": [
      "Progress:  99%\r"
     ]
    },
    {
     "name": "stderr",
     "output_type": "stream",
     "text": [
      "2019-09-09 17:24:01 | [INFO] Processing: TP-2019_2824-01-1\n",
      "2019-09-09 17:24:01 | [DEBUG] Level 1 scaling: 2.0\n",
      "2019-09-09 17:24:01 | [DEBUG] BG Level 4 scaling: 16.0\n",
      "2019-09-09 17:24:01 | [DEBUG] Effective scaling: 8.0\n",
      "2019-09-09 17:24:01 | [DEBUG] Level 1 scaling: 2.0\n",
      "2019-09-09 17:24:01 | [DEBUG] BG Level 4 scaling: 16.0\n",
      "2019-09-09 17:24:01 | [DEBUG] Effective scaling: 8.0\n",
      "2019-09-09 17:24:01 | [DEBUG] Combined mask already exists. Loading from disk.\n",
      "2019-09-09 17:24:01 | [DEBUG] STREAM b'IHDR' 16 13\n",
      "2019-09-09 17:24:01 | [DEBUG] STREAM b'IDAT' 41 65536\n",
      "2019-09-09 17:24:01 | [DEBUG] Level 1 scaling: 2.0\n",
      "2019-09-09 17:24:01 | [DEBUG] BG Level 4 scaling: 16.0\n",
      "2019-09-09 17:24:01 | [DEBUG] Effective scaling: 8.0\n",
      "2019-09-09 17:24:01 | [DEBUG] Cancer mask already exists. Loading from disk.\n",
      "2019-09-09 17:24:01 | [DEBUG] STREAM b'IHDR' 16 13\n",
      "2019-09-09 17:24:01 | [DEBUG] STREAM b'IDAT' 41 210368\n",
      "2019-09-09 17:24:01 | [INFO] Processing WSI tiles.\n"
     ]
    },
    {
     "name": "stdout",
     "output_type": "stream",
     "text": [
      "Progress:  99%\r"
     ]
    },
    {
     "name": "stderr",
     "output_type": "stream",
     "text": [
      "2019-09-09 17:24:29 | [INFO] Processing: P-2019_4336-07-1\n"
     ]
    },
    {
     "name": "stdout",
     "output_type": "stream",
     "text": [
      "Progress: 100%\r"
     ]
    },
    {
     "name": "stderr",
     "output_type": "stream",
     "text": [
      "2019-09-09 17:24:30 | [DEBUG] Level 1 scaling: 2.0\n",
      "2019-09-09 17:24:30 | [DEBUG] BG Level 4 scaling: 16.0\n",
      "2019-09-09 17:24:30 | [DEBUG] Effective scaling: 8.0\n",
      "2019-09-09 17:24:30 | [DEBUG] Level 1 scaling: 2.0\n",
      "2019-09-09 17:24:30 | [DEBUG] BG Level 4 scaling: 16.0\n",
      "2019-09-09 17:24:30 | [DEBUG] Effective scaling: 8.0\n",
      "2019-09-09 17:24:30 | [DEBUG] Combined mask already exists. Loading from disk.\n",
      "2019-09-09 17:24:30 | [DEBUG] STREAM b'IHDR' 16 13\n",
      "2019-09-09 17:24:30 | [DEBUG] STREAM b'IDAT' 41 65536\n",
      "2019-09-09 17:24:30 | [DEBUG] Level 1 scaling: 2.0\n",
      "2019-09-09 17:24:30 | [DEBUG] BG Level 4 scaling: 16.0\n",
      "2019-09-09 17:24:30 | [DEBUG] Effective scaling: 8.0\n",
      "2019-09-09 17:24:30 | [DEBUG] Cancer mask already exists. Loading from disk.\n",
      "2019-09-09 17:24:30 | [DEBUG] STREAM b'IHDR' 16 13\n",
      "2019-09-09 17:24:30 | [DEBUG] STREAM b'IDAT' 41 210368\n",
      "2019-09-09 17:24:30 | [INFO] Processing WSI tiles.\n"
     ]
    },
    {
     "name": "stdout",
     "output_type": "stream",
     "text": [
      "Progress:  99%\r"
     ]
    },
    {
     "name": "stderr",
     "output_type": "stream",
     "text": [
      "2019-09-09 17:24:59 | [INFO] Processing: P-2019_4095-04-1\n",
      "2019-09-09 17:24:59 | [DEBUG] Level 1 scaling: 2.0\n",
      "2019-09-09 17:24:59 | [DEBUG] BG Level 4 scaling: 16.0\n",
      "2019-09-09 17:24:59 | [DEBUG] Effective scaling: 8.0\n",
      "2019-09-09 17:24:59 | [DEBUG] Level 1 scaling: 2.0\n",
      "2019-09-09 17:24:59 | [DEBUG] BG Level 4 scaling: 16.0\n",
      "2019-09-09 17:24:59 | [DEBUG] Effective scaling: 8.0\n",
      "2019-09-09 17:24:59 | [DEBUG] Combined mask already exists. Loading from disk.\n",
      "2019-09-09 17:24:59 | [DEBUG] STREAM b'IHDR' 16 13\n",
      "2019-09-09 17:24:59 | [DEBUG] STREAM b'IDAT' 41 65536\n",
      "2019-09-09 17:24:59 | [DEBUG] Level 1 scaling: 2.0\n",
      "2019-09-09 17:24:59 | [DEBUG] BG Level 4 scaling: 16.0\n",
      "2019-09-09 17:24:59 | [DEBUG] Effective scaling: 8.0\n",
      "2019-09-09 17:24:59 | [DEBUG] Cancer mask already exists. Loading from disk.\n",
      "2019-09-09 17:24:59 | [DEBUG] STREAM b'IHDR' 16 13\n",
      "2019-09-09 17:24:59 | [DEBUG] STREAM b'IDAT' 41 210368\n",
      "2019-09-09 17:24:59 | [INFO] Processing WSI tiles.\n"
     ]
    },
    {
     "name": "stdout",
     "output_type": "stream",
     "text": [
      "Progress:  98%\r"
     ]
    },
    {
     "name": "stderr",
     "output_type": "stream",
     "text": [
      "2019-09-09 17:25:22 | [INFO] Processing: P-2019_3928-02-1\n",
      "2019-09-09 17:25:22 | [DEBUG] Level 1 scaling: 2.0\n",
      "2019-09-09 17:25:22 | [DEBUG] BG Level 4 scaling: 16.0\n",
      "2019-09-09 17:25:22 | [DEBUG] Effective scaling: 8.0\n",
      "2019-09-09 17:25:22 | [DEBUG] Level 1 scaling: 2.0\n",
      "2019-09-09 17:25:22 | [DEBUG] BG Level 4 scaling: 16.0\n",
      "2019-09-09 17:25:22 | [DEBUG] Effective scaling: 8.0\n",
      "2019-09-09 17:25:22 | [DEBUG] Combined mask already exists. Loading from disk.\n",
      "2019-09-09 17:25:22 | [DEBUG] STREAM b'IHDR' 16 13\n",
      "2019-09-09 17:25:22 | [DEBUG] STREAM b'IDAT' 41 65536\n",
      "2019-09-09 17:25:22 | [DEBUG] Level 1 scaling: 2.0\n",
      "2019-09-09 17:25:22 | [DEBUG] BG Level 4 scaling: 16.0\n",
      "2019-09-09 17:25:22 | [DEBUG] Effective scaling: 8.0\n",
      "2019-09-09 17:25:22 | [DEBUG] Cancer mask already exists. Loading from disk.\n",
      "2019-09-09 17:25:22 | [DEBUG] STREAM b'IHDR' 16 13\n",
      "2019-09-09 17:25:22 | [DEBUG] STREAM b'IDAT' 41 210368\n",
      "2019-09-09 17:25:22 | [INFO] Processing WSI tiles.\n"
     ]
    },
    {
     "name": "stdout",
     "output_type": "stream",
     "text": [
      "Progress: 100%\r"
     ]
    }
   ],
   "source": [
    "TISSUE_TYPE = 'Prostata'\n",
    "SLIDE_DIR = Path('/mnt/data/scans/AI scans/{tissue_type}/'.format(tissue_type=TISSUE_TYPE))\n",
    "XML_DIR = get_xml_dir(TISSUE_TYPE, rough=True)\n",
    "\n",
    "DATA_DIR = Path('/home/matejg/Project/crc_ml/data/')\n",
    "\n",
    "disk = 10\n",
    "percent = -1\n",
    "background_threshold = 0.2\n",
    "cancer_threshold = 1/9\n",
    "tile_size = 96\n",
    "\n",
    "for slide_fn in SLIDE_DIR.glob('*.mrxs'):\n",
    "    slide_name = slide_fn.stem\n",
    "    logg.info('Processing: {}'.format(slide_name))\n",
    "    \n",
    "    # Skip if slide is not annotated\n",
    "    annot_xml_filepath = (XML_DIR / slide_name).with_suffix('.xml')\n",
    "    if not annot_xml_filepath.exists():\n",
    "        logg.debug('XML Annotation does not exist. Skipping...')\n",
    "        continue\n",
    "    \n",
    "    # Open WSI slide\n",
    "    slide = os.open_slide(str(slide_fn))\n",
    "    level, scaling_factor, bg_level, bg_scaling_factor = get_slide_level_info(slide, magnification=10)\n",
    "    \n",
    "    \n",
    "    MAP_DIR = DATA_DIR / 'processed/{tissue_type}/level{tile_level}/tiles/'.format(tissue_type=TISSUE_TYPE, tile_level=level)\n",
    "    BG_MASK_DIR = DATA_DIR / 'interim/{tissue_type}/'.format(tissue_type=TISSUE_TYPE)\n",
    "    \n",
    "    # Skip if only single level\n",
    "    if slide.level_count < level+1:\n",
    "        logg.debug('Not enough levels. Skipping...')\n",
    "        continue\n",
    "    \n",
    "    # Retrieve masks\n",
    "    bg_mask = get_bg_mask(slide, slide_name, BG_MASK_DIR, annot_xml_filepath, disk=disk)    \n",
    "    cancer_mask = get_cancer_mask(slide, slide_name, BG_MASK_DIR, annot_xml_filepath)\n",
    "    \n",
    "    \n",
    "    ### PROCESSING WSI ###\n",
    "    logg.info('Processing WSI tiles.')\n",
    "    slide_width, slide_height = slide.level_dimensions[level]\n",
    "    effective_scaling_factor = bg_scaling_factor / scaling_factor\n",
    "\n",
    "    offset_map = {'row': [], 'col': [], 'class': []}\n",
    "    for row, y_coord in enumerate(range(0, slide_height, tile_size), 1):\n",
    "        for col, x_coord in enumerate(range(0, slide_width, tile_size), 1):\n",
    "\n",
    "            # CALCULATE PROGRESS\n",
    "            percent = calculate_progress(\n",
    "                y_coord, x_coord, slide_width, slide_height, tile_size, percent)\n",
    "\n",
    "            # RETRIEVE TILE FROM BACKGROUND MASK\n",
    "            tile_mask = bg_mask.crop((int(x_coord // effective_scaling_factor), \n",
    "                                              int(y_coord // effective_scaling_factor), \n",
    "                                              int((x_coord+tile_size) // effective_scaling_factor), \n",
    "                                              int((y_coord+tile_size) // effective_scaling_factor)))\n",
    "\n",
    "            # SKIP IF TILE IS BACKGROUND\n",
    "            if tissue_percent(np.array(tile_mask), int(tile_size // effective_scaling_factor)) < background_threshold:\n",
    "                continue\n",
    "\n",
    "            # RETRIEVE CENTER REGION OF A TILE FROM CANCER MASK\n",
    "            tile_mask = cancer_mask.crop((x_coord, y_coord, x_coord + tile_size, y_coord + tile_size))\n",
    "\n",
    "            # TILE IS CANCER IFF 1/9 OF TILE IS CANCEROUS\n",
    "            class_ = 0\n",
    "            if tissue_percent(np.array(tile_mask), tile_size) >= cancer_threshold:\n",
    "                class_ = 1\n",
    "\n",
    "            offset_map['row'].append(row)\n",
    "            offset_map['col'].append(col)\n",
    "            offset_map['class'].append(class_)\n",
    "\n",
    "    offset_df = pd.DataFrame.from_dict(offset_map)\n",
    "    offset_df.set_index(['col', 'row'], inplace=True)\n",
    "    \n",
    "    create_dir(MAP_DIR)\n",
    "    \n",
    "    output_fn = MAP_DIR / '{slide_name}-bg{bg_level}-tile{tile_size}.gz'.format(\n",
    "        slide_name=slide_name,\n",
    "        bg_level=bg_level, \n",
    "        tile_size=tile_size)\n",
    "    offset_df.to_pickle(output_fn, compression='gzip')"
   ]
  }
 ],
 "metadata": {
  "kernelspec": {
   "display_name": "test",
   "language": "python",
   "name": "test"
  },
  "language_info": {
   "codemirror_mode": {
    "name": "ipython",
    "version": 3
   },
   "file_extension": ".py",
   "mimetype": "text/x-python",
   "name": "python",
   "nbconvert_exporter": "python",
   "pygments_lexer": "ipython3",
   "version": "3.5.3"
  },
  "toc": {
   "base_numbering": 1,
   "nav_menu": {},
   "number_sections": false,
   "sideBar": true,
   "skip_h1_title": false,
   "title_cell": "Table of Contents",
   "title_sidebar": "Contents",
   "toc_cell": false,
   "toc_position": {},
   "toc_section_display": true,
   "toc_window_display": false
  },
  "varInspector": {
   "cols": {
    "lenName": 16,
    "lenType": 16,
    "lenVar": 40
   },
   "kernels_config": {
    "python": {
     "delete_cmd_postfix": "",
     "delete_cmd_prefix": "del ",
     "library": "var_list.py",
     "varRefreshCmd": "print(var_dic_list())"
    },
    "r": {
     "delete_cmd_postfix": ") ",
     "delete_cmd_prefix": "rm(",
     "library": "var_list.r",
     "varRefreshCmd": "cat(var_dic_list()) "
    }
   },
   "position": {
    "height": "636.85px",
    "left": "1543px",
    "right": "20px",
    "top": "120px",
    "width": "357px"
   },
   "types_to_exclude": [
    "module",
    "function",
    "builtin_function_or_method",
    "instance",
    "_Feature"
   ],
   "window_display": true
  }
 },
 "nbformat": 4,
 "nbformat_minor": 2
}
