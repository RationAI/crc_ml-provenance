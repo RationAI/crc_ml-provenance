{
 "cells": [
  {
   "cell_type": "code",
   "execution_count": 1,
   "metadata": {},
   "outputs": [
    {
     "name": "stderr",
     "output_type": "stream",
     "text": [
      "WARNING: Logging before flag parsing goes to stderr.\n",
      "W0429 00:46:31.843410 140414395987712 __init__.py:56] Some hub symbols are not available because TensorFlow version is less than 1.14\n"
     ]
    }
   ],
   "source": [
    "from __future__ import absolute_import, division, print_function\n",
    "import numpy as np\n",
    "import tensorflow as tf\n",
    "import tensorflow_hub as tfh\n",
    "\n",
    "from sklearn.metrics import roc_auc_score\n",
    "from pathlib import Path\n",
    "from uuid import uuid4"
   ]
  },
  {
   "cell_type": "code",
   "execution_count": 3,
   "metadata": {},
   "outputs": [],
   "source": [
    "POSITIVE_LABEL = 'cancer'\n",
    "NEGATIVE_LABEL = 'normal'\n",
    "\n",
    "ROOT_DIR = Path(\"/home/matejg/Project/crc_ml_model\")\n",
    "DATASET_DIR = ROOT_DIR / 'data' / 'processed'\n",
    "TRAIN_DIR = DATASET_DIR / 'train_slides'\n",
    "TEST_DIR = DATASET_DIR / 'test_slides'\n",
    "VALID_DIR = DATASET_DIR / 'valid_slides'\n",
    "RESULT_DIR = ROOT_DIR / 'reports' / 'evaluation'"
   ]
  },
  {
   "cell_type": "code",
   "execution_count": 4,
   "metadata": {},
   "outputs": [],
   "source": [
    "AUTOTUNE = tf.data.experimental.AUTOTUNE\n",
    "CANCER_SAMPLE_PROBA = 0.5"
   ]
  },
  {
   "cell_type": "code",
   "execution_count": 2,
   "metadata": {},
   "outputs": [],
   "source": [
    "tf.enable_eager_execution()  "
   ]
  },
  {
   "cell_type": "code",
   "execution_count": 5,
   "metadata": {},
   "outputs": [],
   "source": [
    "def _load_and_preprocess_image(path, seed, apply_augmentation=True):\n",
    "    image = tf.io.read_file(path)\n",
    "    return _preprocess_image(image, apply_augmentation, seed=seed)\n",
    "\n",
    "def _preprocess_image(image, apply_augmentation, seed):\n",
    "    image = tf.image.decode_png(image, channels=3)\n",
    "    image = tf.image.resize(image, [299, 299])\n",
    "    image /= 255.0  # normalize to [0,1] range\n",
    "    if apply_augmentation:\n",
    "        image = _flip_rotate_augmentation(image, seed)\n",
    "        image = _color_augmentation(image, seed)\n",
    "    image = 2*image-1       # rescale to [-1,1]\n",
    "    return image\n",
    "\n",
    "def _color_augmentation(x, seed):\n",
    "    x = tf.image.random_hue(x, 0.04, seed)\n",
    "    x = tf.image.random_saturation(x, 0, 0.25, seed)\n",
    "    x = tf.image.random_brightness(x, 64/255, seed)\n",
    "    x = tf.image.random_contrast(x, 0, 0.75, seed)\n",
    "    x = tf.clip_by_value(x, 0, 1)\n",
    "    return x\n",
    "\n",
    "def _flip_rotate_augmentation(x, seed):\n",
    "    x = tf.image.random_flip_left_right(x, seed)\n",
    "    rotation = np.random.choice([0, 1, 2, 3])\n",
    "    x = tf.image.rot90(x, k=rotation)\n",
    "    return x\n",
    "\n",
    "def _get_labels(all_image_paths):\n",
    "    # Translate labels to integers\n",
    "    label_to_index = {POSITIVE_LABEL: 1, NEGATIVE_LABEL: 0}\n",
    "    all_image_labels = [label_to_index[Path(path).parent.name] for path in all_image_paths]\n",
    "    return all_image_labels"
   ]
  },
  {
   "cell_type": "code",
   "execution_count": 56,
   "metadata": {},
   "outputs": [],
   "source": [
    "def get_val_dataset(batch_size, seed=None):\n",
    "    all_validation_image_paths = list(VALID_DIR.glob('*/*/*.png'))\n",
    "    print('Found: {} validation images.'.format(len(all_validation_image_paths)))\n",
    "    return _prepare_eval_dataset(all_validation_image_paths, batch_size, seed)\n",
    "\n",
    "def get_test_dataset(batch_size, seed=None):\n",
    "    for test_slide in TEST_DIR.iterdir():\n",
    "        all_test_image_paths = test_slide.glob('*/*.png')\n",
    "        val_paths, val_ds, val_ds_steps = _prepare_eval_dataset(all_test_image_paths, batch_size, seed)\n",
    "        yield (test_slide.name, iter(val_paths), val_ds, val_ds_steps)\n",
    "\n",
    "def _prepare_eval_dataset(all_evaluation_image_paths, batch_size, seed):\n",
    "    np.random.shuffle(all_evaluation_image_paths)\n",
    "    all_evaluation_image_paths = [str(path) for path in all_evaluation_image_paths]\n",
    "    image_count = len(all_evaluation_image_paths)\n",
    "    val_path_ds = tf.data.Dataset.from_tensor_slices(all_evaluation_image_paths)\n",
    "    val_image_ds = val_path_ds.map(lambda x: _load_and_preprocess_image(x, seed=seed, apply_augmentation=False), num_parallel_calls=AUTOTUNE)\n",
    "    \n",
    "    label_to_index = {POSITIVE_LABEL:1, NEGATIVE_LABEL:0}\n",
    "    all_val_image_labels = [label_to_index[Path(path).parent.name]\n",
    "                        for path in all_evaluation_image_paths]\n",
    "    val_labels_ds = tf.data.Dataset.from_tensor_slices(tf.cast(all_val_image_labels, tf.int64))\n",
    "    val_image_label_ds = tf.data.Dataset.zip((val_image_ds, val_labels_ds))\n",
    "\n",
    "    val_ds = val_image_label_ds.shuffle(buffer_size=image_count, seed=seed)\n",
    "    val_ds = val_ds.batch(batch_size)\n",
    "    val_ds = val_ds.prefetch(buffer_size=AUTOTUNE)\n",
    "    return all_evaluation_image_paths, val_ds, int(np.ceil(image_count / batch_size))"
   ]
  },
  {
   "cell_type": "code",
   "execution_count": 61,
   "metadata": {},
   "outputs": [
    {
     "data": {
      "text/plain": [
       "'/home/matejg/Project/crc_ml_model/reports/evaluation/xxx-2.hdfs'"
      ]
     },
     "execution_count": 61,
     "metadata": {},
     "output_type": "execute_result"
    }
   ],
   "source": [
    "str(RESULT_DIR / 'xxx-{epoch}.hdfs').format(epoch=2)"
   ]
  },
  {
   "cell_type": "code",
   "execution_count": 24,
   "metadata": {},
   "outputs": [
    {
     "data": {
      "text/plain": [
       "16466"
      ]
     },
     "execution_count": 24,
     "metadata": {},
     "output_type": "execute_result"
    }
   ],
   "source": [
    "len(list(TEST_DIR.glob('*/*/*.png')))"
   ]
  }
 ],
 "metadata": {
  "kernelspec": {
   "display_name": "Python 3",
   "language": "python",
   "name": "python3"
  },
  "language_info": {
   "codemirror_mode": {
    "name": "ipython",
    "version": 3
   },
   "file_extension": ".py",
   "mimetype": "text/x-python",
   "name": "python",
   "nbconvert_exporter": "python",
   "pygments_lexer": "ipython3",
   "version": "3.5.3"
  }
 },
 "nbformat": 4,
 "nbformat_minor": 2
}
