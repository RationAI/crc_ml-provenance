{
 "cells": [
  {
   "cell_type": "code",
   "execution_count": 2,
   "metadata": {
    "ExecuteTime": {
     "end_time": "2019-09-03T12:13:53.762071Z",
     "start_time": "2019-09-03T12:13:52.997541Z"
    }
   },
   "outputs": [],
   "source": [
    "import os\n",
    "os.environ['CUDA_VISIBLE_DEVICES']=\"1\"\n",
    "import sys\n",
    "import glob\n",
    "import openslide\n",
    "import numpy as np\n",
    "import pandas as pd\n",
    "import imgaug as ia\n",
    "import imgaug.augmenters as iaa\n",
    "import matplotlib.pyplot as plt\n",
    "\n",
    "from pathlib import Path\n",
    "from collections import Counter\n",
    "from collections import defaultdict\n",
    "from multiprocessing import Queue, Process\n",
    "from multiprocessing import Pool, cpu_count\n",
    "from sklearn.model_selection import train_test_split\n",
    "from sklearn.metrics import roc_auc_score"
   ]
  },
  {
   "cell_type": "code",
   "execution_count": 3,
   "metadata": {
    "ExecuteTime": {
     "end_time": "2019-09-02T23:01:28.324057Z",
     "start_time": "2019-09-02T23:01:28.318593Z"
    },
    "code_folding": [
     2
    ]
   },
   "outputs": [],
   "source": [
    "import logging\n",
    "\n",
    "def prepare_logger(logger, level=logging.DEBUG):\n",
    "    def prepare_handler(handler):\n",
    "        handler.setLevel(level)\n",
    "        handler.setFormatter(formatter)\n",
    "        return handler\n",
    "\n",
    "    formatter = logging.Formatter(fmt='%(asctime)s | [%(levelname)s] %(message)s',\n",
    "                                 datefmt='%Y-%m-%d %H:%M:%S')\n",
    "\n",
    "    del logger.handlers[:]\n",
    "    logger.handlers.append(prepare_handler(logging.StreamHandler(sys.stderr)))\n",
    "\n",
    "    logger.setLevel(level=level)\n",
    "    return logger"
   ]
  },
  {
   "cell_type": "code",
   "execution_count": 4,
   "metadata": {
    "ExecuteTime": {
     "end_time": "2019-09-02T23:03:06.302147Z",
     "start_time": "2019-09-02T23:01:29.093728Z"
    },
    "code_folding": [
     7
    ]
   },
   "outputs": [
    {
     "name": "stdout",
     "output_type": "stream",
     "text": [
      "WARNING:tensorflow:From /home/matejg/Test/test/lib/python3.5/site-packages/tensorflow/python/ops/resource_variable_ops.py:642: colocate_with (from tensorflow.python.framework.ops) is deprecated and will be removed in a future version.\n",
      "Instructions for updating:\n",
      "Colocations handled automatically by placer.\n",
      "WARNING:tensorflow:From /home/matejg/Test/test/lib/python3.5/site-packages/tensorflow/python/keras/layers/core.py:143: calling dropout (from tensorflow.python.ops.nn_ops) with keep_prob is deprecated and will be removed in a future version.\n",
      "Instructions for updating:\n",
      "Please use `rate` instead of `keep_prob`. Rate should be set to `rate = 1 - keep_prob`.\n"
     ]
    }
   ],
   "source": [
    "import tensorflow as tf\n",
    "tf.enable_eager_execution()\n",
    "config = tf.ConfigProto()\n",
    "config.gpu_options.allow_growth=True\n",
    "session = tf.Session(config=config)\n",
    "tf.keras.backend.set_session(session)\n",
    "\n",
    "def build_model():\n",
    "    inputs = [tf.keras.layers.Input(shape=(96,96,3)) for _ in range(3*3)]\n",
    "\n",
    "    nasnet = tf.keras.applications.NASNetMobile(include_top=False, input_tensor=tf.keras.layers.Input(shape=(96,96,3)), weights='imagenet')\n",
    "    nasnet.trainable = True\n",
    "\n",
    "    gmax = tf.keras.layers.GlobalMaxPooling2D()\n",
    "    gavg = tf.keras.layers.GlobalAveragePooling2D()\n",
    "    flat = tf.keras.layers.Flatten()\n",
    "    con = tf.keras.layers.Concatenate(axis=-1)\n",
    "    drop = tf.keras.layers.Dropout(0.5)\n",
    "    out = tf.keras.layers.Dense(1, activation='sigmoid')\n",
    "\n",
    "    outs = []\n",
    "    for inp in inputs:\n",
    "        f = nasnet(inp)\n",
    "        f1 = gmax(f)\n",
    "        f2 = gavg(f)\n",
    "        f3 = flat(f)\n",
    "        f = con([f1,f2,f3])\n",
    "        f = drop(f)\n",
    "        f = out(f)\n",
    "        outs.append(f)\n",
    "\n",
    "    out = tf.keras.layers.Concatenate(axis=-1)(outs)\n",
    "    out = tf.keras.layers.Dense(1, activation='sigmoid')(out)\n",
    "    model = tf.keras.Model(inputs, out)\n",
    "    \n",
    "    loss_fn = tf.keras.losses.binary_crossentropy\n",
    "    metrics=[tf.keras.metrics.BinaryAccuracy(), \n",
    "            tf.keras.metrics.Precision(), \n",
    "            tf.keras.metrics.Recall()]\n",
    "    \n",
    "    model.compile(loss=loss_fn, metrics=metrics, optimizer=tf.keras.optimizers.Adam(lr=0.0001))\n",
    "    \n",
    "    return model\n",
    "model = build_model()"
   ]
  },
  {
   "cell_type": "code",
   "execution_count": 5,
   "metadata": {
    "ExecuteTime": {
     "end_time": "2019-09-02T23:03:06.331861Z",
     "start_time": "2019-09-02T23:03:06.311528Z"
    },
    "code_folding": [
     0,
     71,
     74,
     77
    ]
   },
   "outputs": [],
   "source": [
    "def get_augmenter():\n",
    "    sometimes = lambda aug: iaa.Sometimes(0.5, aug)\n",
    "    seq = iaa.Sequential(\n",
    "        [\n",
    "            # apply the following augmenters to most images\n",
    "            iaa.Fliplr(0.5),  # horizontally flip 50% of all images\n",
    "            iaa.Flipud(0.2),  # vertically flip 20% of all images\n",
    "            sometimes(iaa.Affine(\n",
    "                scale={\"x\": (0.9, 1.1), \"y\": (0.9, 1.1)},\n",
    "                # scale images to 80-120% of their size, individually per axis\n",
    "                translate_percent={\"x\": (-0.1, 0.1), \"y\": (-0.1, 0.1)},  # translate by -20 to +20 percent (per axis)\n",
    "                rotate=(-10, 10),  # rotate by -45 to +45 degrees\n",
    "                shear=(-5, 5),  # shear by -16 to +16 degrees\n",
    "                order=[0, 1],  # use nearest neighbour or bilinear interpolation (fast)\n",
    "                cval=(0, 255),  # if mode is constant, use a cval between 0 and 255\n",
    "                mode=ia.ALL  # use any of scikit-image's warping modes (see 2nd image from the top for examples)\n",
    "            )),\n",
    "            # execute 0 to 5 of the following (less important) augmenters per image\n",
    "            # don't execute all of them, as that would often be way too strong\n",
    "            iaa.SomeOf((0, 5),\n",
    "                    [\n",
    "                        sometimes(iaa.Superpixels(p_replace=(0, 1.0), n_segments=(20, 200))),\n",
    "                        # convert images into their superpixel representation\n",
    "                        iaa.OneOf([\n",
    "                            iaa.GaussianBlur((0, 1.0)),  # blur images with a sigma between 0 and 3.0\n",
    "                            iaa.AverageBlur(k=(3, 5)),\n",
    "                            # blur image using local means with kernel sizes between 2 and 7\n",
    "                            iaa.MedianBlur(k=(3, 5)),\n",
    "                            # blur image using local medians with kernel sizes between 2 and 7\n",
    "                        ]),\n",
    "                        iaa.Sharpen(alpha=(0, 1.0), lightness=(0.9, 1.1)),  # sharpen images\n",
    "                        iaa.Emboss(alpha=(0, 1.0), strength=(0, 2.0)),  # emboss images\n",
    "                        # search either for all edges or for directed edges,\n",
    "                        # blend the result with the original image using a blobby mask\n",
    "                        iaa.SimplexNoiseAlpha(iaa.OneOf([\n",
    "                            iaa.EdgeDetect(alpha=(0.5, 1.0)),\n",
    "                            iaa.DirectedEdgeDetect(alpha=(0.5, 1.0), direction=(0.0, 1.0)),\n",
    "                        ])),\n",
    "                        iaa.AdditiveGaussianNoise(loc=0, scale=(0.0, 0.01 * 255), per_channel=0.5),\n",
    "                        # add gaussian noise to images\n",
    "                        iaa.OneOf([\n",
    "                            iaa.Dropout((0.01, 0.05), per_channel=0.5),  # randomly remove up to 10% of the pixels\n",
    "                            iaa.CoarseDropout((0.01, 0.03), size_percent=(0.01, 0.02), per_channel=0.2),\n",
    "                        ]),\n",
    "                        iaa.Invert(0.01, per_channel=True),  # invert color channels\n",
    "                        iaa.Add((-2, 2), per_channel=0.5),\n",
    "                        # change brightness of images (by -10 to 10 of original value)\n",
    "                        iaa.AddToHueAndSaturation((-1, 1)),  # change hue and saturation\n",
    "                        # either change the brightness of the whole image (sometimes\n",
    "                        # per channel) or change the brightness of subareas\n",
    "                        iaa.OneOf([\n",
    "                            iaa.Multiply((0.9, 1.1), per_channel=0.5),\n",
    "                            iaa.FrequencyNoiseAlpha(\n",
    "                                exponent=(-1, 0),\n",
    "                                first=iaa.Multiply((0.9, 1.1), per_channel=True),\n",
    "                                second=iaa.ContrastNormalization((0.9, 1.1))\n",
    "                            )\n",
    "                        ]),\n",
    "                        sometimes(iaa.ElasticTransformation(alpha=(0.5, 3.5), sigma=0.25)),\n",
    "                        # move pixels locally around (with random strengths)\n",
    "                        sometimes(iaa.PiecewiseAffine(scale=(0.01, 0.05))),\n",
    "                        # sometimes move parts of the image around\n",
    "                        sometimes(iaa.PerspectiveTransform(scale=(0.01, 0.1)))\n",
    "                    ],\n",
    "                    random_order=True\n",
    "                    )\n",
    "        ],\n",
    "        random_order=True\n",
    "    )\n",
    "    return seq\n",
    "\n",
    "def chunker(seq, size):\n",
    "        return (seq[pos:pos + size] for pos in range(0, len(seq), size))\n",
    "\n",
    "def divide_round_up(n, d):\n",
    "        return (n + (d - 1))//d  \n",
    "    \n",
    "def calculate_metrics(y_pred, y_true):\n",
    "\n",
    "    quality_metrics = {}\n",
    "\n",
    "    # BINARY CROSSENTROPY\n",
    "    m = tf.keras.losses.BinaryCrossentropy()\n",
    "    quality_metrics['loss'] = m(y_true, y_pred)\n",
    "\n",
    "    # BINARY ACCURACY\n",
    "    m = tf.keras.metrics.BinaryAccuracy()\n",
    "    m.update_state(y_true, y_pred)\n",
    "    quality_metrics['accuracy'] = m.result().numpy()\n",
    "\n",
    "    # PRECISION\n",
    "    m = tf.keras.metrics.Precision()\n",
    "    m.update_state(y_true, y_pred)\n",
    "    quality_metrics['precision'] = m.result().numpy()\n",
    "\n",
    "    # RECALL\n",
    "    m = tf.keras.metrics.Recall()\n",
    "    m.update_state(y_true, y_pred)\n",
    "    quality_metrics['recall'] = m.result().numpy()\n",
    "\n",
    "    # ROC-AUC\n",
    "    m = roc_auc_score(y_true, y_pred)\n",
    "    quality_metrics['auc'] = m\n",
    "\n",
    "    return quality_metrics"
   ]
  },
  {
   "cell_type": "code",
   "execution_count": 14,
   "metadata": {
    "ExecuteTime": {
     "end_time": "2019-09-02T23:09:16.737810Z",
     "start_time": "2019-09-02T23:09:16.732137Z"
    },
    "code_folding": [
     0
    ]
   },
   "outputs": [],
   "source": [
    "def extract_slide_name_from_filename(filename, context=False):\n",
    "    \"\"\" GET SLIDE NAME FROM FILENAME \"\"\"\n",
    "    parts = 2\n",
    "    if context:\n",
    "        parts = 3\n",
    "    return os.path.splitext(os.path.basename(filename))[0].rsplit('-', parts)[0]"
   ]
  },
  {
   "cell_type": "code",
   "execution_count": 9,
   "metadata": {
    "ExecuteTime": {
     "end_time": "2019-09-03T12:17:26.684644Z",
     "start_time": "2019-09-03T12:17:26.678778Z"
    },
    "code_folding": []
   },
   "outputs": [],
   "source": [
    "def get_slides(context_size, test_slides=False):\n",
    "    \"\"\" READ VALID PANDAS COORDINATES \"\"\"\n",
    "    test_filter = '[!^T]'\n",
    "    if test_slides:\n",
    "        test_filter='T'\n",
    "    \n",
    "    \n",
    "    if not context_size or context_size in [0,1]:\n",
    "        return glob.glob(MAP_DIR + 'normal/{}*.gz'.filter(test_filter))\n",
    "    else:\n",
    "        return glob.glob(MAP_DIR + 'macro/{}*context{}.gz'.format(test_filter, context_size))\n",
    "    \n",
    "def open_all_slides(slides, context=False):\n",
    "    \"\"\" OPEN EVERY SLIDE ON THE DISK \"\"\"\n",
    "    open_slides = {}\n",
    "    for slide in slides:\n",
    "        slide_name = extract_slide_name_from_filename(slide, context)\n",
    "        slide_fn = SLIDE_DIR + slide_name + '.mrxs'\n",
    "        open_slides[slide_name] = openslide.open_slide(slide_fn)\n",
    "    return open_slides"
   ]
  },
  {
   "cell_type": "code",
   "execution_count": 23,
   "metadata": {
    "ExecuteTime": {
     "end_time": "2019-09-02T23:22:15.475158Z",
     "start_time": "2019-09-02T23:22:15.467635Z"
    },
    "code_folding": [
     7
    ]
   },
   "outputs": [],
   "source": [
    "def split_slides(slides, ratio=0.15):\n",
    "    \"\"\" SPLIT SLIDES INTO TRAIN, VALID, TEST\"\"\"\n",
    "    test_size = int(len(slides) * ratio)\n",
    "    train_val, test = train_test_split(slides, test_size=test_size)\n",
    "    train, valid = train_test_split(train_val, test_size=test_size)\n",
    "    return train, valid, test\n",
    "\n",
    "def get_sampler(slides, context=False):\n",
    "    \"\"\" PREPARE SAMPLER \"\"\"\n",
    "    sampler = {'normal': {}, 'cancer': {}}\n",
    "    for slide in slides:\n",
    "        slide_name = extract_slide_name_from_filename(slide, context)\n",
    "        df = pd.read_pickle(slide)\n",
    "        \n",
    "        normal_coords = df[df['class'] == 0]['class']\n",
    "        cancer_coords = df[df['class'] == 1]['class']\n",
    "        if len(normal_coords) > 0:\n",
    "            sampler['normal'][slide_name] = normal_coords\n",
    "        \n",
    "        if len(cancer_coords) > 0:\n",
    "            sampler['cancer'][slide_name] = cancer_coords\n",
    "    return sampler"
   ]
  },
  {
   "cell_type": "code",
   "execution_count": null,
   "metadata": {
    "ExecuteTime": {
     "end_time": "2019-09-02T23:03:06.389178Z",
     "start_time": "2019-09-02T23:03:06.381229Z"
    },
    "code_folding": [
     1,
     15
    ]
   },
   "outputs": [],
   "source": [
    "\"\"\" GENERATE AMOUNT OF UNIQUE TRAIN SAMPLES \"\"\"\n",
    "def generate_train_epoch_coords(sampler, size):\n",
    "    static_sample = defaultdict(set)\n",
    "    for no in range(size):\n",
    "        \n",
    "        if (no+1) % 5000 == 0:\n",
    "            print('{:,}\\r'.format(no+1), end='')\n",
    "        \n",
    "        slide_name, coord, label = sample(sampler)\n",
    "        while (coord, label) in static_sample[slide_name]:\n",
    "            slide_name, coord, label = sample(sampler)\n",
    "        \n",
    "        static_sample[slide_name].add((coord, label))\n",
    "    return static_sample\n",
    "\n",
    "def sample(sampler):\n",
    "    \"\"\" RETURN SINGLE VALID COORDINATE FROM SAMPLER \"\"\"\n",
    "    label = np.random.choice(list(sampler.keys()))\n",
    "    slide_name = np.random.choice(list(sampler[label].keys()))\n",
    "    row_idx = np.random.randint(low=0, high=len(sampler[label][slide_name]))\n",
    "    row = sampler[label][slide_name].iloc[[row_idx]]\n",
    "    return slide_name, row.index[0], row.values[0]"
   ]
  },
  {
   "cell_type": "code",
   "execution_count": 10,
   "metadata": {
    "ExecuteTime": {
     "end_time": "2019-09-02T23:03:06.407420Z",
     "start_time": "2019-09-02T23:03:06.396895Z"
    },
    "code_folding": [
     0
    ]
   },
   "outputs": [],
   "source": [
    "def extract_macrotiles(_input, verbose=True):\n",
    "    slide_name, coord_set = _input\n",
    "    log.debug('[WORKER] {:2} | PID #{}'.format(slide_name, os.getpid()))\n",
    "    os_slide = slides[slide_name]\n",
    "    \n",
    "    result = {'fn': [], 'image': [], 'class': []}\n",
    "    for coord, label in coord_set:\n",
    "        result['fn'].append('{slide_name}-c{row}-r{col}'.format(slide_name=slide_name, col=coord[0], row=coord[1]))\n",
    "        result['image'].append(cut_macrotile(extract_macrotile(os_slide, coord)))\n",
    "        result['class'].append(label)\n",
    "    log.debug('[WORKER] PID #{} DONE.'.format(os.getpid()))\n",
    "    return pd.DataFrame.from_dict(result)\n",
    "\n",
    "def extract_macrotile(os_slide, col_row):\n",
    "    \"\"\" EXTRACT SINGLE TILE FROM A SLIDE \"\"\"\n",
    "    TILE_SIZE = 96\n",
    "    MACROTILE_SIZE = 3*96\n",
    "    LEVEL = 1\n",
    "    \n",
    "    col, row = col_row\n",
    "    x_coord = (col-1)*TILE_SIZE\n",
    "    y_coord = (row-1)*TILE_SIZE    \n",
    "    return os_slide.read_region(location=(x_coord-TILE_SIZE, y_coord-TILE_SIZE), level=(LEVEL), size=(MACROTILE_SIZE,MACROTILE_SIZE)).convert('RGB')\n",
    "\n",
    "def cut_macrotile(full_macrotile):\n",
    "    CENTER_SIZE = 32\n",
    "    TILE_SIZE = 96\n",
    "    \n",
    "    result = []\n",
    "    for macro_x_coord in range(0,3*CENTER_SIZE,CENTER_SIZE):\n",
    "        for macro_y_coord in range(0,3*CENTER_SIZE,CENTER_SIZE):\n",
    "            result.append(np.array(full_macrotile.crop((macro_x_coord, macro_y_coord, macro_x_coord+TILE_SIZE, macro_y_coord+TILE_SIZE))))\n",
    "    return np.array(result)"
   ]
  },
  {
   "cell_type": "code",
   "execution_count": 11,
   "metadata": {
    "ExecuteTime": {
     "end_time": "2019-09-02T23:03:06.427534Z",
     "start_time": "2019-09-02T23:03:06.415802Z"
    },
    "code_folding": [
     0,
     10,
     33,
     39
    ]
   },
   "outputs": [],
   "source": [
    "def prepare_dataset(ds_size, sampler, chunk_size=3200, batch_size=32, batch_queue=None, fn_queue=None):\n",
    "    \"\"\"  PROCESS TO PREPARE DATASET OF SIZE ds_size \"\"\"\n",
    "    log.debug('[PROCESS] PID: #{}'.format(os.getpid()))\n",
    "    log.debug('[PROCESS] Preparing dataset')\n",
    "    for _ in range(ds_size // chunk_size):\n",
    "        generate_and_extract_tiles(sampler, chunk_size, batch_size, batch_queue, fn_queue)\n",
    "    \n",
    "    if ds_size % chunk_size > 0:\n",
    "        generate_and_extract_tiles(sampler, ds_size % chunk_size, batch_size, batch_queue, fn_queue)\n",
    "            \n",
    "def generate_and_extract_tiles(sampler, chunk_size, batch_size, batch_queue, fn_queue):\n",
    "    log.debug('[PROCESS] Prepating chunk...')\n",
    "    chunk_coords = generate_train_epoch_coords(sampler, chunk_size)\n",
    "    \n",
    "    log.debug('[PROCESS] Pooling')\n",
    "    with Pool(processes=10) as pool:\n",
    "        result = pool.map(extract_macrotiles, chunk_coords.items())\n",
    "        \n",
    "    # Concatenate and shuffle\n",
    "    log.debug('[PROCESS] Concatenating')\n",
    "    df = pd.concat(result).sample(frac=1).reset_index(drop=True)\n",
    "    \n",
    "    log.debug('[PROCESS] Storing filenames')\n",
    "    if fn_queue:\n",
    "        fn_queue.put(df[['fn', 'class']].to_dict('list'))\n",
    "    \n",
    "    log.debug('[PROCESS] Returning')\n",
    "    if batch_queue:\n",
    "        for chunk in chunker(df[['image', 'class']], batch_size):\n",
    "            batch_queue.put(chunk)\n",
    "    else:\n",
    "        return df\n",
    "            \n",
    "def calculate_total_steps(ds_size, chunk_size, batch_size):\n",
    "    chunk_steps = divide_round_up(chunk_size, batch_size)\n",
    "    last_steps = divide_round_up(ds_size % chunk_size, batch_size)\n",
    "    no_chunks = ds_size // chunk_size\n",
    "    return no_chunks * chunk_steps + last_steps\n",
    "                              \n",
    "def sequential_batch_generator(queue, steps):\n",
    "    seq = get_augmenter()\n",
    "    for _ in range(steps):\n",
    "        batch_context = queue.get()\n",
    "        data_batch = np.array([tf.keras.applications.nasnet.preprocess_input(seq.augment_images(batch)) for batch in batch_context['image']])\n",
    "        data_batch = list(data_batch.transpose((1,0,2,3,4)))\n",
    "        yield data_batch, batch_context['class'].values"
   ]
  },
  {
   "cell_type": "code",
   "execution_count": 12,
   "metadata": {
    "ExecuteTime": {
     "end_time": "2019-09-02T23:03:06.449142Z",
     "start_time": "2019-09-02T23:03:06.436520Z"
    },
    "code_folding": [
     0,
     5,
     42
    ]
   },
   "outputs": [],
   "source": [
    "def train(ds_size, sampler, batch_queue, chunk_size=3200, batch_size=32):\n",
    "    metrics = basic_loop(ds_size, sampler, batch_queue, None, chunk_size, batch_size, False)\n",
    "    print('Loss: {:.4f}'.format(metrics['loss']))\n",
    "    return metrics\n",
    "    \n",
    "def evaluate(ds_size, sampler, batch_queue, eval_queue, chunk_size=3200, batch_size=32):\n",
    "    metrics = basic_loop(ds_size, sampler, batch_queue, eval_queue, chunk_size, batch_size, True)                                        \n",
    "    return metrics\n",
    "                                         \n",
    "\n",
    "def basic_loop(ds_size, sampler, batch_queue, eval_queue, chunk_size, batch_size, do_eval):\n",
    "    log.debug('Preparing datagen.')\n",
    "    \n",
    "    p = Process(target=prepare_dataset, args=(ds_size, sampler, chunk_size, batch_size, batch_queue, eval_queue))\n",
    "    p.start()\n",
    "\n",
    "    steps = calculate_total_steps(ds_size, chunk_size, batch_size)\n",
    "    datagen = sequential_batch_generator(batch_queue, steps)\n",
    "    \n",
    "    if do_eval:\n",
    "        log.debug('Evaluating datagen')\n",
    "        res = model.predict_generator(datagen, steps=steps, verbose=1)\n",
    "        \n",
    "        log.debug('Retrieving filenames and labels')\n",
    "        #metadata_df = pd.concat([eval_queue.get() for _ in range(divide_round_up(ds_size, chunk_size))])\n",
    "        metadata_df = [eval_queue.get() for _ in range(divide_round_up(ds_size, chunk_size))]\n",
    "        metadata_df = pd.concat([pd.DataFrame(x) for x in metadata_df]).reset_index(drop=True)\n",
    "        metadata_df['predict'] = res.ravel()\n",
    "        \n",
    "        predicts = metadata_df['predict'].ravel().astype(np.float)\n",
    "        labels = metadata_df['class'].ravel().astype(np.float)\n",
    "        \n",
    "        metrics = calculate_metrics(predicts, labels)\n",
    "    else:\n",
    "        log.debug('Training model')\n",
    "        history = model.fit_generator(datagen, steps_per_epoch=steps, verbose=1)\n",
    "        metrics = {'loss': history.history['loss'][-1]}\n",
    "    \n",
    "    log.debug('Cleaning up')\n",
    "    p.join()\n",
    "    return metrics\n",
    "\n",
    "def print_results(metrics):\n",
    "    for k, v in metrics.items():\n",
    "        print('| {:9} | {} |'.format(k.capitalize(),v))\n",
    "        #print('| {:9} | {:.4f} |'.format(k.capitalize(),v))"
   ]
  },
  {
   "cell_type": "code",
   "execution_count": 14,
   "metadata": {
    "ExecuteTime": {
     "end_time": "2019-09-03T12:18:05.814428Z",
     "start_time": "2019-09-03T12:18:05.811701Z"
    }
   },
   "outputs": [],
   "source": [
    "SLIDE_DIR = '/mnt/data/scans/AI scans/Prostata/'\n",
    "MAP_DIR = '/home/matejg/wsi_maps/Prostata/level1/'"
   ]
  },
  {
   "cell_type": "code",
   "execution_count": 24,
   "metadata": {
    "ExecuteTime": {
     "end_time": "2019-09-02T23:22:22.507226Z",
     "start_time": "2019-09-02T23:22:20.735145Z"
    }
   },
   "outputs": [],
   "source": [
    "\"\"\" PREPARING LOGGER\"\"\"\n",
    "log = logging.getLogger()\n",
    "log = prepare_logger(log, level=logging.DEBUG)\n",
    "\n",
    "\"\"\" READ AND OPEN SLIDES\"\"\"\n",
    "slide_coord_fn = get_slides(3)\n",
    "slides = open_all_slides(slide_coord_fn, context=True)\n",
    "\n",
    "\"\"\" SPLIT SLIDES \"\"\"\n",
    "train_fn, valid_fn, test_fn = split_slides(slide_coord_fn, ratio=0.15)\n",
    "\n",
    "\"\"\" PREPARE SAMPLER \"\"\"\n",
    "train_sampler = get_sampler(train_fn, context=True)\n",
    "valid_sampler = get_sampler(valid_fn, context=True)\n",
    "test_sampler = get_sampler(test_fn, context=True)"
   ]
  },
  {
   "cell_type": "code",
   "execution_count": 31,
   "metadata": {
    "ExecuteTime": {
     "end_time": "2019-09-02T23:25:13.580664Z",
     "start_time": "2019-09-02T23:25:13.574823Z"
    }
   },
   "outputs": [
    {
     "name": "stdout",
     "output_type": "stream",
     "text": [
      "CPU times: user 0 ns, sys: 0 ns, total: 0 ns\n",
      "Wall time: 27.9 µs\n"
     ]
    }
   ],
   "source": [
    "%%time\n",
    "\n",
    "TRAIN_DS_SIZE = 32*2000\n",
    "VALID_DS_SIZE = 32*300\n",
    "TEST_DS_SIZE = 32*300\n",
    "CHUNK_SIZE = 3200\n",
    "BATCH_SIZE = 32\n",
    "MAX_QUEUE_SIZE = 100\n",
    "NUM_EPOCHS = 2"
   ]
  },
  {
   "cell_type": "code",
   "execution_count": null,
   "metadata": {
    "ExecuteTime": {
     "start_time": "2019-09-02T23:25:15.669Z"
    }
   },
   "outputs": [
    {
     "name": "stderr",
     "output_type": "stream",
     "text": [
      "2019-09-03 01:25:15 | [DEBUG] Preparing datagen.\n"
     ]
    },
    {
     "name": "stdout",
     "output_type": "stream",
     "text": [
      "Training\n"
     ]
    },
    {
     "name": "stderr",
     "output_type": "stream",
     "text": [
      "2019-09-03 01:25:15 | [DEBUG] Training model\n",
      "2019-09-03 01:25:15 | [DEBUG] [PROCESS] PID: #1054\n",
      "2019-09-03 01:25:15 | [DEBUG] [PROCESS] Preparing dataset\n",
      "2019-09-03 01:25:15 | [DEBUG] [PROCESS] Prepating chunk...\n",
      "2019-09-03 01:25:15 | [DEBUG] [PROCESS] Pooling\n",
      "2019-09-03 01:25:16 | [DEBUG] [WORKER] M018-2012_1202-06-R | PID #1072\n",
      "2019-09-03 01:25:16 | [DEBUG] [WORKER] M024-2012_0874-07-R | PID #1070\n",
      "2019-09-03 01:25:16 | [DEBUG] [WORKER] M021-2012_1098-03-R | PID #1073\n",
      "2019-09-03 01:25:16 | [DEBUG] [WORKER] M019-2012_1157-08-R | PID #1074\n",
      "2019-09-03 01:25:16 | [DEBUG] [WORKER] M030-2012_1472-04-R | PID #1075\n",
      "2019-09-03 01:25:16 | [DEBUG] [WORKER] M002-2012_2034-04-R | PID #1078\n",
      "2019-09-03 01:25:16 | [DEBUG] [WORKER] M001-2012_1681-05-R | PID #1079\n",
      "2019-09-03 01:25:16 | [DEBUG] [WORKER] M017-2012_4649-14-R | PID #1076\n",
      "2019-09-03 01:25:16 | [DEBUG] [WORKER] M009-2012_2901-14-R | PID #1077\n",
      "2019-09-03 01:25:16 | [DEBUG] [WORKER] M032-2012_2949-04-R | PID #1080\n",
      "2019-09-03 01:25:16 | [DEBUG] [WORKER] PID #1072 DONE.\n",
      "2019-09-03 01:25:16 | [DEBUG] [WORKER] PID #1075 DONE.\n",
      "2019-09-03 01:25:16 | [DEBUG] [WORKER] PID #1077 DONE.\n",
      "2019-09-03 01:25:16 | [DEBUG] [WORKER] PID #1070 DONE.\n",
      "2019-09-03 01:25:16 | [DEBUG] [WORKER] PID #1073 DONE.\n",
      "2019-09-03 01:25:16 | [DEBUG] [WORKER] PID #1078 DONE.\n",
      "2019-09-03 01:25:16 | [DEBUG] [WORKER] M031-2012_2263-05-R | PID #1072\n",
      "2019-09-03 01:25:16 | [DEBUG] [WORKER] M026-2012_1102-08-R | PID #1075\n",
      "2019-09-03 01:25:16 | [DEBUG] [WORKER] M008-2012_2101-04-R | PID #1077\n",
      "2019-09-03 01:25:16 | [DEBUG] [WORKER] PID #1072 DONE.\n",
      "2019-09-03 01:25:16 | [DEBUG] [WORKER] M033-2012_2074-05-R | PID #1070\n",
      "2019-09-03 01:25:16 | [DEBUG] [WORKER] PID #1077 DONE.\n",
      "2019-09-03 01:25:16 | [DEBUG] [WORKER] PID #1070 DONE.\n",
      "2019-09-03 01:25:17 | [DEBUG] [WORKER] PID #1075 DONE.\n",
      "2019-09-03 01:25:17 | [DEBUG] [WORKER] M029-2012_1819-10-R | PID #1073\n",
      "2019-09-03 01:25:17 | [DEBUG] [WORKER] PID #1073 DONE.\n",
      "2019-09-03 01:25:17 | [DEBUG] [WORKER] M022-2012_1285-07-R | PID #1078\n",
      "2019-09-03 01:25:17 | [DEBUG] [WORKER] M011-2012_0798-03-R | PID #1072\n",
      "2019-09-03 01:25:17 | [DEBUG] [WORKER] M025-2012_2969-02-R | PID #1070\n",
      "2019-09-03 01:25:17 | [DEBUG] [WORKER] PID #1072 DONE.\n",
      "2019-09-03 01:25:17 | [DEBUG] [WORKER] M003-2012_2132-06-R | PID #1077\n",
      "2019-09-03 01:25:17 | [DEBUG] [WORKER] PID #1070 DONE.\n",
      "2019-09-03 01:25:17 | [DEBUG] [WORKER] PID #1077 DONE.\n",
      "2019-09-03 01:25:17 | [DEBUG] [WORKER] M014-2012_0381-04-R | PID #1075\n",
      "2019-09-03 01:25:20 | [DEBUG] [WORKER] PID #1078 DONE.\n",
      "2019-09-03 01:25:21 | [DEBUG] [WORKER] PID #1080 DONE.\n",
      "2019-09-03 01:25:23 | [DEBUG] [WORKER] PID #1079 DONE.\n",
      "2019-09-03 01:25:25 | [DEBUG] [WORKER] PID #1076 DONE.\n",
      "2019-09-03 01:25:35 | [DEBUG] [WORKER] PID #1075 DONE.\n",
      "2019-09-03 01:25:35 | [DEBUG] [WORKER] PID #1074 DONE.\n",
      "2019-09-03 01:25:36 | [DEBUG] [PROCESS] Concatenating\n",
      "2019-09-03 01:25:36 | [DEBUG] [PROCESS] Storing filenames\n",
      "2019-09-03 01:25:36 | [DEBUG] [PROCESS] Returning\n",
      "2019-09-03 01:25:36 | [DEBUG] [PROCESS] Prepating chunk...\n",
      "2019-09-03 01:25:36 | [DEBUG] [PROCESS] Pooling\n",
      "2019-09-03 01:25:37 | [DEBUG] [WORKER] M019-2012_1157-08-R | PID #1343\n",
      "2019-09-03 01:25:37 | [DEBUG] [WORKER] M021-2012_1098-03-R | PID #1340\n",
      "2019-09-03 01:25:37 | [DEBUG] [WORKER] M018-2012_1202-06-R | PID #1339\n",
      "2019-09-03 01:25:37 | [DEBUG] [WORKER] M024-2012_0874-07-R | PID #1338\n",
      "2019-09-03 01:25:37 | [DEBUG] [WORKER] M030-2012_1472-04-R | PID #1344\n",
      "2019-09-03 01:25:37 | [DEBUG] [WORKER] M017-2012_4649-14-R | PID #1345\n",
      "2019-09-03 01:25:37 | [DEBUG] [WORKER] M002-2012_2034-04-R | PID #1347\n",
      "2019-09-03 01:25:37 | [DEBUG] [WORKER] M009-2012_2901-14-R | PID #1346\n",
      "2019-09-03 01:25:37 | [DEBUG] [WORKER] M032-2012_2949-04-R | PID #1349\n",
      "2019-09-03 01:25:37 | [DEBUG] [WORKER] M001-2012_1681-05-R | PID #1348\n",
      "2019-09-03 01:25:37 | [DEBUG] [WORKER] PID #1346 DONE.\n",
      "2019-09-03 01:25:37 | [DEBUG] [WORKER] PID #1344 DONE.\n",
      "2019-09-03 01:25:37 | [DEBUG] [WORKER] PID #1339 DONE.\n",
      "2019-09-03 01:25:37 | [DEBUG] [WORKER] PID #1338 DONE.\n",
      "2019-09-03 01:25:37 | [DEBUG] [WORKER] PID #1340 DONE.\n",
      "2019-09-03 01:25:37 | [DEBUG] [WORKER] PID #1347 DONE.\n",
      "2019-09-03 01:25:37 | [DEBUG] [WORKER] M031-2012_2263-05-R | PID #1339\n",
      "2019-09-03 01:25:37 | [DEBUG] [WORKER] M026-2012_1102-08-R | PID #1344\n",
      "2019-09-03 01:25:37 | [DEBUG] [WORKER] M008-2012_2101-04-R | PID #1346\n",
      "2019-09-03 01:25:37 | [DEBUG] [WORKER] PID #1339 DONE.\n",
      "2019-09-03 01:25:38 | [DEBUG] [WORKER] M033-2012_2074-05-R | PID #1338\n",
      "2019-09-03 01:25:38 | [DEBUG] [WORKER] PID #1338 DONE.\n",
      "2019-09-03 01:25:38 | [DEBUG] [WORKER] PID #1346 DONE.\n",
      "2019-09-03 01:25:38 | [DEBUG] [WORKER] M029-2012_1819-10-R | PID #1347\n",
      "2019-09-03 01:25:38 | [DEBUG] [WORKER] M022-2012_1285-07-R | PID #1340\n",
      "2019-09-03 01:25:38 | [DEBUG] [WORKER] PID #1344 DONE.\n",
      "2019-09-03 01:25:38 | [DEBUG] [WORKER] PID #1347 DONE.\n",
      "2019-09-03 01:25:38 | [DEBUG] [WORKER] M011-2012_0798-03-R | PID #1339\n",
      "2019-09-03 01:25:38 | [DEBUG] [WORKER] M025-2012_2969-02-R | PID #1338\n",
      "2019-09-03 01:25:38 | [DEBUG] [WORKER] M003-2012_2132-06-R | PID #1346\n",
      "2019-09-03 01:25:38 | [DEBUG] [WORKER] PID #1339 DONE.\n",
      "2019-09-03 01:25:38 | [DEBUG] [WORKER] PID #1338 DONE.\n",
      "2019-09-03 01:25:38 | [DEBUG] [WORKER] M014-2012_0381-04-R | PID #1344\n",
      "2019-09-03 01:25:38 | [DEBUG] [WORKER] PID #1346 DONE.\n",
      "2019-09-03 01:25:39 | [DEBUG] [WORKER] PID #1340 DONE.\n",
      "2019-09-03 01:25:40 | [DEBUG] [WORKER] PID #1348 DONE.\n",
      "2019-09-03 01:25:40 | [DEBUG] [WORKER] PID #1349 DONE.\n",
      "2019-09-03 01:25:41 | [DEBUG] [WORKER] PID #1343 DONE.\n",
      "2019-09-03 01:25:42 | [DEBUG] [WORKER] PID #1345 DONE.\n",
      "2019-09-03 01:25:42 | [DEBUG] [WORKER] PID #1344 DONE.\n",
      "2019-09-03 01:25:42 | [DEBUG] [PROCESS] Concatenating\n",
      "2019-09-03 01:25:42 | [DEBUG] [PROCESS] Storing filenames\n",
      "2019-09-03 01:25:42 | [DEBUG] [PROCESS] Returning\n"
     ]
    },
    {
     "name": "stdout",
     "output_type": "stream",
     "text": [
      "WARNING:tensorflow:From /home/matejg/Test/test/lib/python3.5/site-packages/tensorflow/python/ops/math_ops.py:3066: to_int32 (from tensorflow.python.ops.math_ops) is deprecated and will be removed in a future version.\n",
      "Instructions for updating:\n",
      "Use tf.cast instead.\n"
     ]
    },
    {
     "name": "stderr",
     "output_type": "stream",
     "text": [
      "2019-09-03 01:27:21 | [WARNING] From /home/matejg/Test/test/lib/python3.5/site-packages/tensorflow/python/ops/math_ops.py:3066: to_int32 (from tensorflow.python.ops.math_ops) is deprecated and will be removed in a future version.\n",
      "Instructions for updating:\n",
      "Use tf.cast instead.\n"
     ]
    },
    {
     "name": "stdout",
     "output_type": "stream",
     "text": [
      "WARNING:tensorflow:From /home/matejg/Test/test/lib/python3.5/site-packages/tensorflow/python/ops/math_grad.py:102: div (from tensorflow.python.ops.math_ops) is deprecated and will be removed in a future version.\n",
      "Instructions for updating:\n",
      "Deprecated in favor of operator or tf.math.divide.\n"
     ]
    },
    {
     "name": "stderr",
     "output_type": "stream",
     "text": [
      "2019-09-03 01:27:22 | [WARNING] From /home/matejg/Test/test/lib/python3.5/site-packages/tensorflow/python/ops/math_grad.py:102: div (from tensorflow.python.ops.math_ops) is deprecated and will be removed in a future version.\n",
      "Instructions for updating:\n",
      "Deprecated in favor of operator or tf.math.divide.\n"
     ]
    },
    {
     "name": "stdout",
     "output_type": "stream",
     "text": [
      "  98/2000 [>.............................] - ETA: 4:30:36 - loss: 0.6852 - binary_accuracy: 0.5737 - precision: 0.5979 - recall: 0.3373"
     ]
    },
    {
     "name": "stderr",
     "output_type": "stream",
     "text": [
      "2019-09-03 01:39:12 | [DEBUG] [PROCESS] Prepating chunk...\n",
      "2019-09-03 01:39:13 | [DEBUG] [PROCESS] Pooling\n"
     ]
    },
    {
     "name": "stdout",
     "output_type": "stream",
     "text": [
      "\b\b\b\b\b\b\b\b\b\b\b\b\b\b\b\b\b\b\b\b\b\b\b\b\b\b\b\b\b\b\b\b\b\b\b\b\b\b\b\b\b\b\b\b\b\b\b\b\b\b\b\b\b\b\b\b\b\b\b\b\b\b\b\b\b\b\b\b\b\b\b\b\b\b\b\b\b\b\b\b\b\b\b\b\b\b\b\b\b\b\b\b\b\b\b\b\b\b\b\b\b\b\b\b\b\b\b\b\b\b\b\b\b\b\b\b\b\b\b\b\b\b\b\b\b\b\b\b\b\b\b\b\b\b\b\r",
      "  99/2000 [>.............................] - ETA: 4:28:18 - loss: 0.6849 - binary_accuracy: 0.5748 - precision: 0.5984 - recall: 0.3391"
     ]
    },
    {
     "name": "stderr",
     "output_type": "stream",
     "text": [
      "2019-09-03 01:39:13 | [DEBUG] [WORKER] M024-2012_0874-07-R | PID #4587\n",
      "2019-09-03 01:39:13 | [DEBUG] [WORKER] M018-2012_1202-06-R | PID #4588\n",
      "2019-09-03 01:39:13 | [DEBUG] [WORKER] M021-2012_1098-03-R | PID #4589\n",
      "2019-09-03 01:39:13 | [DEBUG] [WORKER] M019-2012_1157-08-R | PID #4590\n",
      "2019-09-03 01:39:13 | [DEBUG] [WORKER] M030-2012_1472-04-R | PID #4591\n",
      "2019-09-03 01:39:13 | [DEBUG] [WORKER] M009-2012_2901-14-R | PID #4593\n",
      "2019-09-03 01:39:13 | [DEBUG] [WORKER] M017-2012_4649-14-R | PID #4592\n",
      "2019-09-03 01:39:13 | [DEBUG] [WORKER] M002-2012_2034-04-R | PID #4594\n",
      "2019-09-03 01:39:13 | [DEBUG] [WORKER] M032-2012_2949-04-R | PID #4596\n",
      "2019-09-03 01:39:13 | [DEBUG] [WORKER] M001-2012_1681-05-R | PID #4595\n",
      "2019-09-03 01:39:14 | [DEBUG] [WORKER] PID #4591 DONE.\n",
      "2019-09-03 01:39:14 | [DEBUG] [WORKER] PID #4588 DONE.\n",
      "2019-09-03 01:39:14 | [DEBUG] [WORKER] PID #4587 DONE.\n",
      "2019-09-03 01:39:14 | [DEBUG] [WORKER] PID #4593 DONE.\n",
      "2019-09-03 01:39:14 | [DEBUG] [WORKER] PID #4589 DONE.\n",
      "2019-09-03 01:39:14 | [DEBUG] [WORKER] M031-2012_2263-05-R | PID #4588\n",
      "2019-09-03 01:39:14 | [DEBUG] [WORKER] PID #4594 DONE.\n",
      "2019-09-03 01:39:14 | [DEBUG] [WORKER] M026-2012_1102-08-R | PID #4591\n",
      "2019-09-03 01:39:14 | [DEBUG] [WORKER] M008-2012_2101-04-R | PID #4593\n",
      "2019-09-03 01:39:14 | [DEBUG] [WORKER] M033-2012_2074-05-R | PID #4587\n",
      "2019-09-03 01:39:14 | [DEBUG] [WORKER] PID #4588 DONE.\n",
      "2019-09-03 01:39:14 | [DEBUG] [WORKER] PID #4587 DONE.\n",
      "2019-09-03 01:39:14 | [DEBUG] [WORKER] M011-2012_0798-03-R | PID #4589\n",
      "2019-09-03 01:39:14 | [DEBUG] [WORKER] PID #4593 DONE.\n",
      "2019-09-03 01:39:14 | [DEBUG] [WORKER] M022-2012_1285-07-R | PID #4594\n",
      "2019-09-03 01:39:14 | [DEBUG] [WORKER] PID #4591 DONE.\n",
      "2019-09-03 01:39:14 | [DEBUG] [WORKER] M029-2012_1819-10-R | PID #4587\n",
      "2019-09-03 01:39:14 | [DEBUG] [WORKER] PID #4589 DONE.\n",
      "2019-09-03 01:39:14 | [DEBUG] [WORKER] M025-2012_2969-02-R | PID #4588\n",
      "2019-09-03 01:39:15 | [DEBUG] [WORKER] M003-2012_2132-06-R | PID #4593\n",
      "2019-09-03 01:39:15 | [DEBUG] [WORKER] PID #4587 DONE.\n",
      "2019-09-03 01:39:15 | [DEBUG] [WORKER] PID #4588 DONE.\n",
      "2019-09-03 01:39:15 | [DEBUG] [WORKER] M014-2012_0381-04-R | PID #4591\n",
      "2019-09-03 01:39:15 | [DEBUG] [WORKER] PID #4593 DONE.\n"
     ]
    },
    {
     "name": "stdout",
     "output_type": "stream",
     "text": [
      "\b\b\b\b\b\b\b\b\b\b\b\b\b\b\b\b\b\b\b\b\b\b\b\b\b\b\b\b\b\b\b\b\b\b\b\b\b\b\b\b\b\b\b\b\b\b\b\b\b\b\b\b\b\b\b\b\b\b\b\b\b\b\b\b\b\b\b\b\b\b\b\b\b\b\b\b\b\b\b\b\b\b\b\b\b\b\b\b\b\b\b\b\b\b\b\b\b\b\b\b\b\b\b\b\b\b\b\b\b\b\b\b\b\b\b\b\b\b\b\b\b\b\b\b\b\b\b\b\b\b\b\b\b\b\b\r",
      " 100/2000 [>.............................] - ETA: 4:26:03 - loss: 0.6855 - binary_accuracy: 0.5744 - precision: 0.5982 - recall: 0.3399"
     ]
    },
    {
     "name": "stderr",
     "output_type": "stream",
     "text": [
      "2019-09-03 01:39:16 | [DEBUG] [WORKER] PID #4595 DONE.\n",
      "2019-09-03 01:39:16 | [DEBUG] [WORKER] PID #4594 DONE.\n",
      "2019-09-03 01:39:17 | [DEBUG] [WORKER] PID #4596 DONE.\n"
     ]
    },
    {
     "name": "stdout",
     "output_type": "stream",
     "text": [
      "\b\b\b\b\b\b\b\b\b\b\b\b\b\b\b\b\b\b\b\b\b\b\b\b\b\b\b\b\b\b\b\b\b\b\b\b\b\b\b\b\b\b\b\b\b\b\b\b\b\b\b\b\b\b\b\b\b\b\b\b\b\b\b\b\b\b\b\b\b\b\b\b\b\b\b\b\b\b\b\b\b\b\b\b\b\b\b\b\b\b\b\b\b\b\b\b\b\b\b\b\b\b\b\b\b\b\b\b\b\b\b\b\b\b\b\b\b\b\b\b\b\b\b\b\b\b\b\b\b\b\b\b\b\b\b\r",
      " 101/2000 [>.............................] - ETA: 4:23:58 - loss: 0.6856 - binary_accuracy: 0.5749 - precision: 0.6011 - recall: 0.3409"
     ]
    },
    {
     "name": "stderr",
     "output_type": "stream",
     "text": [
      "2019-09-03 01:39:17 | [DEBUG] [WORKER] PID #4590 DONE.\n",
      "2019-09-03 01:39:18 | [DEBUG] [WORKER] PID #4592 DONE.\n",
      "2019-09-03 01:39:19 | [DEBUG] [WORKER] PID #4591 DONE.\n"
     ]
    },
    {
     "name": "stdout",
     "output_type": "stream",
     "text": [
      "\b\b\b\b\b\b\b\b\b\b\b\b\b\b\b\b\b\b\b\b\b\b\b\b\b\b\b\b\b\b\b\b\b\b\b\b\b\b\b\b\b\b\b\b\b\b\b\b\b\b\b\b\b\b\b\b\b\b\b\b\b\b\b\b\b\b\b\b\b\b\b\b\b\b\b\b\b\b\b\b\b\b\b\b\b\b\b\b\b\b\b\b\b\b\b\b\b\b\b\b\b\b\b\b\b\b\b\b\b\b\b\b\b\b\b\b\b\b\b\b\b\b\b\b\b\b\b\b\b\b\b\b\b\b\b\r",
      " 102/2000 [>.............................] - ETA: 4:21:45 - loss: 0.6855 - binary_accuracy: 0.5760 - precision: 0.6025 - recall: 0.3416"
     ]
    },
    {
     "name": "stderr",
     "output_type": "stream",
     "text": [
      "2019-09-03 01:39:19 | [DEBUG] [PROCESS] Concatenating\n",
      "2019-09-03 01:39:19 | [DEBUG] [PROCESS] Storing filenames\n",
      "2019-09-03 01:39:19 | [DEBUG] [PROCESS] Returning\n"
     ]
    },
    {
     "name": "stdout",
     "output_type": "stream",
     "text": [
      " 198/2000 [=>............................] - ETA: 2:33:30 - loss: 0.6873 - binary_accuracy: 0.5862 - precision: 0.6190 - recall: 0.3708"
     ]
    },
    {
     "name": "stderr",
     "output_type": "stream",
     "text": [
      "2019-09-03 01:42:07 | [DEBUG] [PROCESS] Prepating chunk...\n",
      "2019-09-03 01:42:08 | [DEBUG] [PROCESS] Pooling\n"
     ]
    },
    {
     "name": "stdout",
     "output_type": "stream",
     "text": [
      "\b\b\b\b\b\b\b\b\b\b\b\b\b\b\b\b\b\b\b\b\b\b\b\b\b\b\b\b\b\b\b\b\b\b\b\b\b\b\b\b\b\b\b\b\b\b\b\b\b\b\b\b\b\b\b\b\b\b\b\b\b\b\b\b\b\b\b\b\b\b\b\b\b\b\b\b\b\b\b\b\b\b\b\b\b\b\b\b\b\b\b\b\b\b\b\b\b\b\b\b\b\b\b\b\b\b\b\b\b\b\b\b\b\b\b\b\b\b\b\b\b\b\b\b\b\b\b\b\b\b\b\b\b\b\b\r",
      " 199/2000 [=>............................] - ETA: 2:32:53 - loss: 0.6873 - binary_accuracy: 0.5861 - precision: 0.6196 - recall: 0.3711"
     ]
    },
    {
     "name": "stderr",
     "output_type": "stream",
     "text": [
      "2019-09-03 01:42:09 | [DEBUG] [WORKER] M024-2012_0874-07-R | PID #4848\n",
      "2019-09-03 01:42:09 | [DEBUG] [WORKER] M021-2012_1098-03-R | PID #4850\n",
      "2019-09-03 01:42:09 | [DEBUG] [WORKER] M019-2012_1157-08-R | PID #4851\n",
      "2019-09-03 01:42:09 | [DEBUG] [WORKER] M003-2012_2132-06-R | PID #4854\n",
      "2019-09-03 01:42:09 | [DEBUG] [WORKER] M030-2012_1472-04-R | PID #4852\n",
      "2019-09-03 01:42:09 | [DEBUG] [WORKER] M017-2012_4649-14-R | PID #4853\n",
      "2019-09-03 01:42:09 | [DEBUG] [WORKER] M002-2012_2034-04-R | PID #4856\n",
      "2019-09-03 01:42:09 | [DEBUG] [WORKER] M018-2012_1202-06-R | PID #4849\n",
      "2019-09-03 01:42:09 | [DEBUG] [WORKER] M009-2012_2901-14-R | PID #4855\n",
      "2019-09-03 01:42:09 | [DEBUG] [WORKER] M001-2012_1681-05-R | PID #4857\n",
      "2019-09-03 01:42:09 | [DEBUG] [WORKER] PID #4852 DONE.\n",
      "2019-09-03 01:42:09 | [DEBUG] [WORKER] PID #4849 DONE.\n",
      "2019-09-03 01:42:09 | [DEBUG] [WORKER] PID #4855 DONE.\n",
      "2019-09-03 01:42:09 | [DEBUG] [WORKER] PID #4848 DONE.\n",
      "2019-09-03 01:42:09 | [DEBUG] [WORKER] PID #4850 DONE.\n",
      "2019-09-03 01:42:09 | [DEBUG] [WORKER] M031-2012_2263-05-R | PID #4852\n",
      "2019-09-03 01:42:09 | [DEBUG] [WORKER] PID #4856 DONE.\n",
      "2019-09-03 01:42:09 | [DEBUG] [WORKER] PID #4854 DONE.\n",
      "2019-09-03 01:42:09 | [DEBUG] [WORKER] M026-2012_1102-08-R | PID #4849\n",
      "2019-09-03 01:42:09 | [DEBUG] [WORKER] PID #4852 DONE.\n",
      "2019-09-03 01:42:09 | [DEBUG] [WORKER] M008-2012_2101-04-R | PID #4855\n",
      "2019-09-03 01:42:10 | [DEBUG] [WORKER] M014-2012_0381-04-R | PID #4850\n",
      "2019-09-03 01:42:10 | [DEBUG] [WORKER] PID #4855 DONE.\n",
      "2019-09-03 01:42:10 | [DEBUG] [WORKER] M011-2012_0798-03-R | PID #4848\n",
      "2019-09-03 01:42:10 | [DEBUG] [WORKER] M022-2012_1285-07-R | PID #4856\n",
      "2019-09-03 01:42:10 | [DEBUG] [WORKER] PID #4849 DONE.\n",
      "2019-09-03 01:42:10 | [DEBUG] [WORKER] PID #4848 DONE.\n",
      "2019-09-03 01:42:10 | [DEBUG] [WORKER] PID #4857 DONE.\n",
      "2019-09-03 01:42:10 | [DEBUG] [WORKER] M029-2012_1819-10-R | PID #4854\n",
      "2019-09-03 01:42:10 | [DEBUG] [WORKER] M025-2012_2969-02-R | PID #4852\n",
      "2019-09-03 01:42:10 | [DEBUG] [WORKER] PID #4854 DONE.\n",
      "2019-09-03 01:42:10 | [DEBUG] [WORKER] M032-2012_2949-04-R | PID #4855\n",
      "2019-09-03 01:42:10 | [DEBUG] [WORKER] M033-2012_2074-05-R | PID #4849\n",
      "2019-09-03 01:42:10 | [DEBUG] [WORKER] PID #4852 DONE.\n",
      "2019-09-03 01:42:10 | [DEBUG] [WORKER] PID #4849 DONE.\n"
     ]
    },
    {
     "name": "stdout",
     "output_type": "stream",
     "text": [
      "\b\b\b\b\b\b\b\b\b\b\b\b\b\b\b\b\b\b\b\b\b\b\b\b\b\b\b\b\b\b\b\b\b\b\b\b\b\b\b\b\b\b\b\b\b\b\b\b\b\b\b\b\b\b\b\b\b\b\b\b\b\b\b\b\b\b\b\b\b\b\b\b\b\b\b\b\b\b\b\b\b\b\b\b\b\b\b\b\b\b\b\b\b\b\b\b\b\b\b\b\b\b\b\b\b\b\b\b\b\b\b\b\b\b\b\b\b\b\b\b\b\b\b\b\b\b\b\b\b\b\b\b\b\b\b\r",
      " 200/2000 [==>...........................] - ETA: 2:32:22 - loss: 0.6873 - binary_accuracy: 0.5861 - precision: 0.6195 - recall: 0.3713"
     ]
    },
    {
     "name": "stderr",
     "output_type": "stream",
     "text": [
      "2019-09-03 01:42:11 | [DEBUG] [WORKER] PID #4856 DONE.\n",
      "2019-09-03 01:42:12 | [DEBUG] [WORKER] PID #4850 DONE.\n",
      "2019-09-03 01:42:12 | [DEBUG] [WORKER] PID #4855 DONE.\n",
      "2019-09-03 01:42:12 | [DEBUG] [WORKER] PID #4853 DONE.\n",
      "2019-09-03 01:42:13 | [DEBUG] [WORKER] PID #4851 DONE.\n"
     ]
    },
    {
     "name": "stdout",
     "output_type": "stream",
     "text": [
      "\b\b\b\b\b\b\b\b\b\b\b\b\b\b\b\b\b\b\b\b\b\b\b\b\b\b\b\b\b\b\b\b\b\b\b\b\b\b\b\b\b\b\b\b\b\b\b\b\b\b\b\b\b\b\b\b\b\b\b\b\b\b\b\b\b\b\b\b\b\b\b\b\b\b\b\b\b\b\b\b\b\b\b\b\b\b\b\b\b\b\b\b\b\b\b\b\b\b\b\b\b\b\b\b\b\b\b\b\b\b\b\b\b\b\b\b\b\b\b\b\b\b\b\b\b\b\b\b\b\b\b\b\b\b\b\r",
      " 201/2000 [==>...........................] - ETA: 2:31:51 - loss: 0.6873 - binary_accuracy: 0.5863 - precision: 0.6200 - recall: 0.3721"
     ]
    },
    {
     "name": "stderr",
     "output_type": "stream",
     "text": [
      "2019-09-03 01:42:13 | [DEBUG] [PROCESS] Concatenating\n",
      "2019-09-03 01:42:13 | [DEBUG] [PROCESS] Storing filenames\n",
      "2019-09-03 01:42:13 | [DEBUG] [PROCESS] Returning\n"
     ]
    },
    {
     "name": "stdout",
     "output_type": "stream",
     "text": [
      " 298/2000 [===>..........................] - ETA: 1:53:09 - loss: 0.6884 - binary_accuracy: 0.5838 - precision: 0.6169 - recall: 0.3644"
     ]
    },
    {
     "name": "stderr",
     "output_type": "stream",
     "text": [
      "2019-09-03 01:45:04 | [DEBUG] [PROCESS] Prepating chunk...\n",
      "2019-09-03 01:45:05 | [DEBUG] [PROCESS] Pooling\n"
     ]
    },
    {
     "name": "stdout",
     "output_type": "stream",
     "text": [
      "\b\b\b\b\b\b\b\b\b\b\b\b\b\b\b\b\b\b\b\b\b\b\b\b\b\b\b\b\b\b\b\b\b\b\b\b\b\b\b\b\b\b\b\b\b\b\b\b\b\b\b\b\b\b\b\b\b\b\b\b\b\b\b\b\b\b\b\b\b\b\b\b\b\b\b\b\b\b\b\b\b\b\b\b\b\b\b\b\b\b\b\b\b\b\b\b\b\b\b\b\b\b\b\b\b\b\b\b\b\b\b\b\b\b\b\b\b\b\b\b\b\b\b\b\b\b\b\b\b\b\b\b\b\b\b\r",
      " 299/2000 [===>..........................] - ETA: 1:52:53 - loss: 0.6881 - binary_accuracy: 0.5843 - precision: 0.6174 - recall: 0.3649"
     ]
    },
    {
     "name": "stderr",
     "output_type": "stream",
     "text": [
      "2019-09-03 01:45:06 | [DEBUG] [WORKER] M024-2012_0874-07-R | PID #5143\n",
      "2019-09-03 01:45:06 | [DEBUG] [WORKER] M018-2012_1202-06-R | PID #5144\n",
      "2019-09-03 01:45:06 | [DEBUG] [WORKER] M021-2012_1098-03-R | PID #5145\n",
      "2019-09-03 01:45:06 | [DEBUG] [WORKER] M019-2012_1157-08-R | PID #5146\n",
      "2019-09-03 01:45:06 | [DEBUG] [WORKER] M009-2012_2901-14-R | PID #5149\n",
      "2019-09-03 01:45:06 | [DEBUG] [WORKER] M001-2012_1681-05-R | PID #5151\n",
      "2019-09-03 01:45:06 | [DEBUG] [WORKER] M030-2012_1472-04-R | PID #5148\n",
      "2019-09-03 01:45:06 | [DEBUG] [WORKER] M032-2012_2949-04-R | PID #5152\n",
      "2019-09-03 01:45:06 | [DEBUG] [WORKER] M002-2012_2034-04-R | PID #5150\n",
      "2019-09-03 01:45:06 | [DEBUG] [WORKER] M017-2012_4649-14-R | PID #5147\n",
      "2019-09-03 01:45:06 | [DEBUG] [WORKER] PID #5144 DONE.\n",
      "2019-09-03 01:45:06 | [DEBUG] [WORKER] PID #5143 DONE.\n",
      "2019-09-03 01:45:06 | [DEBUG] [WORKER] PID #5148 DONE.\n",
      "2019-09-03 01:45:06 | [DEBUG] [WORKER] PID #5149 DONE.\n",
      "2019-09-03 01:45:06 | [DEBUG] [WORKER] PID #5145 DONE.\n",
      "2019-09-03 01:45:06 | [DEBUG] [WORKER] M026-2012_1102-08-R | PID #5144\n",
      "2019-09-03 01:45:06 | [DEBUG] [WORKER] M008-2012_2101-04-R | PID #5148\n",
      "2019-09-03 01:45:06 | [DEBUG] [WORKER] PID #5150 DONE.\n",
      "2019-09-03 01:45:06 | [DEBUG] [WORKER] M014-2012_0381-04-R | PID #5143\n",
      "2019-09-03 01:45:06 | [DEBUG] [WORKER] PID #5148 DONE.\n",
      "2019-09-03 01:45:06 | [DEBUG] [WORKER] M011-2012_0798-03-R | PID #5149\n",
      "2019-09-03 01:45:07 | [DEBUG] [WORKER] M022-2012_1285-07-R | PID #5145\n",
      "2019-09-03 01:45:07 | [DEBUG] [WORKER] PID #5149 DONE.\n",
      "2019-09-03 01:45:07 | [DEBUG] [WORKER] M029-2012_1819-10-R | PID #5150\n",
      "2019-09-03 01:45:07 | [DEBUG] [WORKER] PID #5144 DONE.\n",
      "2019-09-03 01:45:07 | [DEBUG] [WORKER] PID #5150 DONE.\n",
      "2019-09-03 01:45:07 | [DEBUG] [WORKER] M025-2012_2969-02-R | PID #5148\n",
      "2019-09-03 01:45:07 | [DEBUG] [WORKER] PID #5151 DONE.\n",
      "2019-09-03 01:45:07 | [DEBUG] [WORKER] PID #5148 DONE.\n",
      "2019-09-03 01:45:07 | [DEBUG] [WORKER] M003-2012_2132-06-R | PID #5149\n"
     ]
    },
    {
     "name": "stdout",
     "output_type": "stream",
     "text": [
      "\b\b\b\b\b\b\b\b\b\b\b\b\b\b\b\b\b\b\b\b\b\b\b\b\b\b\b\b\b\b\b\b\b\b\b\b\b\b\b\b\b\b\b\b\b\b\b\b\b\b\b\b\b\b\b\b\b\b\b\b\b\b\b\b\b\b\b\b\b\b\b\b\b\b\b\b\b\b\b\b\b\b\b\b\b\b\b\b\b\b\b\b\b\b\b\b\b\b\b\b\b\b\b\b\b\b\b\b\b\b\b\b\b\b\b\b\b\b\b\b\b\b\b\b\b\b\b\b\b\b\b\b\b\b\b\r",
      " 300/2000 [===>..........................] - ETA: 1:52:38 - loss: 0.6881 - binary_accuracy: 0.5844 - precision: 0.6173 - recall: 0.3643"
     ]
    },
    {
     "name": "stderr",
     "output_type": "stream",
     "text": [
      "2019-09-03 01:45:08 | [DEBUG] [WORKER] M033-2012_2074-05-R | PID #5144\n",
      "2019-09-03 01:45:08 | [DEBUG] [WORKER] PID #5149 DONE.\n",
      "2019-09-03 01:45:08 | [DEBUG] [WORKER] PID #5144 DONE.\n",
      "2019-09-03 01:45:08 | [DEBUG] [WORKER] M031-2012_2263-05-R | PID #5150\n",
      "2019-09-03 01:45:08 | [DEBUG] [WORKER] PID #5150 DONE.\n",
      "2019-09-03 01:45:08 | [DEBUG] [WORKER] PID #5145 DONE.\n",
      "2019-09-03 01:45:08 | [DEBUG] [WORKER] PID #5143 DONE.\n",
      "2019-09-03 01:45:09 | [DEBUG] [WORKER] PID #5152 DONE.\n",
      "2019-09-03 01:45:09 | [DEBUG] [WORKER] PID #5147 DONE.\n",
      "2019-09-03 01:45:09 | [DEBUG] [WORKER] PID #5146 DONE.\n"
     ]
    },
    {
     "name": "stdout",
     "output_type": "stream",
     "text": [
      "\b\b\b\b\b\b\b\b\b\b\b\b\b\b\b\b\b\b\b\b\b\b\b\b\b\b\b\b\b\b\b\b\b\b\b\b\b\b\b\b\b\b\b\b\b\b\b\b\b\b\b\b\b\b\b\b\b\b\b\b\b\b\b\b\b\b\b\b\b\b\b\b\b\b\b\b\b\b\b\b\b\b\b\b\b\b\b\b\b\b\b\b\b\b\b\b\b\b\b\b\b\b\b\b\b\b\b\b\b\b\b\b\b\b\b\b\b\b\b\b\b\b\b\b\b\b\b\b\b\b\b\b\b\b\b\r",
      " 301/2000 [===>..........................] - ETA: 1:52:23 - loss: 0.6880 - binary_accuracy: 0.5847 - precision: 0.6178 - recall: 0.3646"
     ]
    },
    {
     "name": "stderr",
     "output_type": "stream",
     "text": [
      "2019-09-03 01:45:10 | [DEBUG] [PROCESS] Concatenating\n",
      "2019-09-03 01:45:10 | [DEBUG] [PROCESS] Storing filenames\n",
      "2019-09-03 01:45:10 | [DEBUG] [PROCESS] Returning\n"
     ]
    },
    {
     "name": "stdout",
     "output_type": "stream",
     "text": [
      " 398/2000 [====>.........................] - ETA: 1:31:36 - loss: 0.6873 - binary_accuracy: 0.5919 - precision: 0.6362 - recall: 0.3624"
     ]
    },
    {
     "name": "stderr",
     "output_type": "stream",
     "text": [
      "2019-09-03 01:48:02 | [DEBUG] [PROCESS] Prepating chunk...\n",
      "2019-09-03 01:48:02 | [DEBUG] [PROCESS] Pooling\n"
     ]
    },
    {
     "name": "stdout",
     "output_type": "stream",
     "text": [
      "\b\b\b\b\b\b\b\b\b\b\b\b\b\b\b\b\b\b\b\b\b\b\b\b\b\b\b\b\b\b\b\b\b\b\b\b\b\b\b\b\b\b\b\b\b\b\b\b\b\b\b\b\b\b\b\b\b\b\b\b\b\b\b\b\b\b\b\b\b\b\b\b\b\b\b\b\b\b\b\b\b\b\b\b\b\b\b\b\b\b\b\b\b\b\b\b\b\b\b\b\b\b\b\b\b\b\b\b\b\b\b\b\b\b\b\b\b\b\b\b\b\b\b\b\b\b\b\b\b\b\b\b\b\b\b\r",
      " 399/2000 [====>.........................] - ETA: 1:31:29 - loss: 0.6872 - binary_accuracy: 0.5919 - precision: 0.6361 - recall: 0.3623"
     ]
    },
    {
     "name": "stderr",
     "output_type": "stream",
     "text": [
      "2019-09-03 01:48:03 | [DEBUG] [WORKER] M024-2012_0874-07-R | PID #5388\n",
      "2019-09-03 01:48:03 | [DEBUG] [WORKER] M018-2012_1202-06-R | PID #5389\n",
      "2019-09-03 01:48:03 | [DEBUG] [WORKER] M017-2012_4649-14-R | PID #5392\n",
      "2019-09-03 01:48:03 | [DEBUG] [WORKER] M030-2012_1472-04-R | PID #5394\n",
      "2019-09-03 01:48:03 | [DEBUG] [WORKER] M031-2012_2263-05-R | PID #5397\n",
      "2019-09-03 01:48:03 | [DEBUG] [WORKER] M001-2012_1681-05-R | PID #5395\n",
      "2019-09-03 01:48:03 | [DEBUG] [WORKER] M032-2012_2949-04-R | PID #5396\n",
      "2019-09-03 01:48:03 | [DEBUG] [WORKER] M009-2012_2901-14-R | PID #5393\n",
      "2019-09-03 01:48:03 | [DEBUG] [WORKER] M019-2012_1157-08-R | PID #5391\n",
      "2019-09-03 01:48:03 | [DEBUG] [WORKER] M021-2012_1098-03-R | PID #5390\n",
      "2019-09-03 01:48:03 | [DEBUG] [WORKER] PID #5388 DONE.\n",
      "2019-09-03 01:48:03 | [DEBUG] [WORKER] PID #5393 DONE.\n",
      "2019-09-03 01:48:03 | [DEBUG] [WORKER] PID #5394 DONE.\n",
      "2019-09-03 01:48:03 | [DEBUG] [WORKER] PID #5389 DONE.\n",
      "2019-09-03 01:48:03 | [DEBUG] [WORKER] PID #5397 DONE.\n",
      "2019-09-03 01:48:03 | [DEBUG] [WORKER] PID #5390 DONE.\n",
      "2019-09-03 01:48:03 | [DEBUG] [WORKER] M026-2012_1102-08-R | PID #5394\n",
      "2019-09-03 01:48:03 | [DEBUG] [WORKER] M008-2012_2101-04-R | PID #5393\n",
      "2019-09-03 01:48:03 | [DEBUG] [WORKER] M014-2012_0381-04-R | PID #5389\n",
      "2019-09-03 01:48:04 | [DEBUG] [WORKER] M029-2012_1819-10-R | PID #5388\n",
      "2019-09-03 01:48:04 | [DEBUG] [WORKER] PID #5394 DONE.\n",
      "2019-09-03 01:48:04 | [DEBUG] [WORKER] PID #5393 DONE.\n",
      "2019-09-03 01:48:04 | [DEBUG] [WORKER] M022-2012_1285-07-R | PID #5397\n",
      "2019-09-03 01:48:04 | [DEBUG] [WORKER] PID #5388 DONE.\n",
      "2019-09-03 01:48:04 | [DEBUG] [WORKER] M011-2012_0798-03-R | PID #5390\n",
      "2019-09-03 01:48:04 | [DEBUG] [WORKER] M025-2012_2969-02-R | PID #5394\n",
      "2019-09-03 01:48:04 | [DEBUG] [WORKER] PID #5390 DONE.\n",
      "2019-09-03 01:48:04 | [DEBUG] [WORKER] M003-2012_2132-06-R | PID #5393\n",
      "2019-09-03 01:48:04 | [DEBUG] [WORKER] PID #5394 DONE.\n",
      "2019-09-03 01:48:04 | [DEBUG] [WORKER] M002-2012_2034-04-R | PID #5388\n",
      "2019-09-03 01:48:04 | [DEBUG] [WORKER] PID #5393 DONE.\n",
      "2019-09-03 01:48:05 | [DEBUG] [WORKER] M033-2012_2074-05-R | PID #5390\n",
      "2019-09-03 01:48:05 | [DEBUG] [WORKER] PID #5395 DONE.\n",
      "2019-09-03 01:48:05 | [DEBUG] [WORKER] PID #5388 DONE.\n",
      "2019-09-03 01:48:05 | [DEBUG] [WORKER] PID #5390 DONE.\n"
     ]
    },
    {
     "name": "stdout",
     "output_type": "stream",
     "text": [
      "\b\b\b\b\b\b\b\b\b\b\b\b\b\b\b\b\b\b\b\b\b\b\b\b\b\b\b\b\b\b\b\b\b\b\b\b\b\b\b\b\b\b\b\b\b\b\b\b\b\b\b\b\b\b\b\b\b\b\b\b\b\b\b\b\b\b\b\b\b\b\b\b\b\b\b\b\b\b\b\b\b\b\b\b\b\b\b\b\b\b\b\b\b\b\b\b\b\b\b\b\b\b\b\b\b\b\b\b\b\b\b\b\b\b\b\b\b\b\b\b\b\b\b\b\b\b\b\b\b\b\b\b\b\b\b\r",
      " 400/2000 [=====>........................] - ETA: 1:31:21 - loss: 0.6873 - binary_accuracy: 0.5920 - precision: 0.6370 - recall: 0.3627"
     ]
    },
    {
     "name": "stderr",
     "output_type": "stream",
     "text": [
      "2019-09-03 01:48:05 | [DEBUG] [WORKER] PID #5396 DONE.\n",
      "2019-09-03 01:48:05 | [DEBUG] [WORKER] PID #5397 DONE.\n",
      "2019-09-03 01:48:06 | [DEBUG] [WORKER] PID #5389 DONE.\n",
      "2019-09-03 01:48:06 | [DEBUG] [WORKER] PID #5392 DONE.\n",
      "2019-09-03 01:48:07 | [DEBUG] [WORKER] PID #5391 DONE.\n"
     ]
    },
    {
     "name": "stdout",
     "output_type": "stream",
     "text": [
      "\b\b\b\b\b\b\b\b\b\b\b\b\b\b\b\b\b\b\b\b\b\b\b\b\b\b\b\b\b\b\b\b\b\b\b\b\b\b\b\b\b\b\b\b\b\b\b\b\b\b\b\b\b\b\b\b\b\b\b\b\b\b\b\b\b\b\b\b\b\b\b\b\b\b\b\b\b\b\b\b\b\b\b\b\b\b\b\b\b\b\b\b\b\b\b\b\b\b\b\b\b\b\b\b\b\b\b\b\b\b\b\b\b\b\b\b\b\b\b\b\b\b\b\b\b\b\b\b\b\b\b\b\b\b\b\r",
      " 401/2000 [=====>........................] - ETA: 1:31:11 - loss: 0.6872 - binary_accuracy: 0.5923 - precision: 0.6375 - recall: 0.3632"
     ]
    },
    {
     "name": "stderr",
     "output_type": "stream",
     "text": [
      "2019-09-03 01:48:07 | [DEBUG] [PROCESS] Concatenating\n",
      "2019-09-03 01:48:07 | [DEBUG] [PROCESS] Storing filenames\n",
      "2019-09-03 01:48:07 | [DEBUG] [PROCESS] Returning\n"
     ]
    },
    {
     "name": "stdout",
     "output_type": "stream",
     "text": [
      " 498/2000 [======>.......................] - ETA: 1:17:26 - loss: 0.6881 - binary_accuracy: 0.5942 - precision: 0.6436 - recall: 0.3672"
     ]
    },
    {
     "name": "stderr",
     "output_type": "stream",
     "text": [
      "2019-09-03 01:50:56 | [DEBUG] [PROCESS] Prepating chunk...\n",
      "2019-09-03 01:50:57 | [DEBUG] [PROCESS] Pooling\n"
     ]
    },
    {
     "name": "stdout",
     "output_type": "stream",
     "text": [
      "\b\b\b\b\b\b\b\b\b\b\b\b\b\b\b\b\b\b\b\b\b\b\b\b\b\b\b\b\b\b\b\b\b\b\b\b\b\b\b\b\b\b\b\b\b\b\b\b\b\b\b\b\b\b\b\b\b\b\b\b\b\b\b\b\b\b\b\b\b\b\b\b\b\b\b\b\b\b\b\b\b\b\b\b\b\b\b\b\b\b\b\b\b\b\b\b\b\b\b\b\b\b\b\b\b\b\b\b\b\b\b\b\b\b\b\b\b\b\b\b\b\b\b\b\b\b\b\b\b\b\b\b\b\b\b\r",
      " 499/2000 [======>.......................] - ETA: 1:17:18 - loss: 0.6881 - binary_accuracy: 0.5941 - precision: 0.6437 - recall: 0.3673"
     ]
    },
    {
     "name": "stderr",
     "output_type": "stream",
     "text": [
      "2019-09-03 01:50:57 | [DEBUG] [WORKER] M024-2012_0874-07-R | PID #5659\n",
      "2019-09-03 01:50:57 | [DEBUG] [WORKER] M001-2012_1681-05-R | PID #5667\n",
      "2019-09-03 01:50:57 | [DEBUG] [WORKER] M030-2012_1472-04-R | PID #5666\n",
      "2019-09-03 01:50:57 | [DEBUG] [WORKER] M002-2012_2034-04-R | PID #5664\n",
      "2019-09-03 01:50:57 | [DEBUG] [WORKER] M017-2012_4649-14-R | PID #5663\n",
      "2019-09-03 01:50:57 | [DEBUG] [WORKER] M019-2012_1157-08-R | PID #5662\n",
      "2019-09-03 01:50:57 | [DEBUG] [WORKER] M009-2012_2901-14-R | PID #5665\n",
      "2019-09-03 01:50:57 | [DEBUG] [WORKER] M032-2012_2949-04-R | PID #5668\n",
      "2019-09-03 01:50:57 | [DEBUG] [WORKER] M018-2012_1202-06-R | PID #5660\n",
      "2019-09-03 01:50:57 | [DEBUG] [WORKER] M031-2012_2263-05-R | PID #5661\n",
      "2019-09-03 01:50:57 | [DEBUG] [WORKER] PID #5666 DONE.\n",
      "2019-09-03 01:50:57 | [DEBUG] [WORKER] PID #5659 DONE.\n",
      "2019-09-03 01:50:57 | [DEBUG] [WORKER] PID #5660 DONE.\n",
      "2019-09-03 01:50:57 | [DEBUG] [WORKER] PID #5665 DONE.\n",
      "2019-09-03 01:50:58 | [DEBUG] [WORKER] PID #5664 DONE.\n",
      "2019-09-03 01:50:58 | [DEBUG] [WORKER] PID #5661 DONE.\n",
      "2019-09-03 01:50:58 | [DEBUG] [WORKER] M026-2012_1102-08-R | PID #5659\n",
      "2019-09-03 01:50:58 | [DEBUG] [WORKER] M008-2012_2101-04-R | PID #5660\n",
      "2019-09-03 01:50:58 | [DEBUG] [WORKER] M021-2012_1098-03-R | PID #5665\n",
      "2019-09-03 01:50:58 | [DEBUG] [WORKER] M014-2012_0381-04-R | PID #5666\n",
      "2019-09-03 01:50:58 | [DEBUG] [WORKER] PID #5665 DONE.\n",
      "2019-09-03 01:50:58 | [DEBUG] [WORKER] PID #5660 DONE.\n",
      "2019-09-03 01:50:58 | [DEBUG] [WORKER] M029-2012_1819-10-R | PID #5664\n",
      "2019-09-03 01:50:58 | [DEBUG] [WORKER] PID #5659 DONE.\n",
      "2019-09-03 01:50:58 | [DEBUG] [WORKER] M022-2012_1285-07-R | PID #5661\n",
      "2019-09-03 01:50:58 | [DEBUG] [WORKER] M011-2012_0798-03-R | PID #5659\n",
      "2019-09-03 01:50:58 | [DEBUG] [WORKER] PID #5664 DONE.\n",
      "2019-09-03 01:50:58 | [DEBUG] [WORKER] M025-2012_2969-02-R | PID #5665\n",
      "2019-09-03 01:50:58 | [DEBUG] [WORKER] M003-2012_2132-06-R | PID #5660\n",
      "2019-09-03 01:50:59 | [DEBUG] [WORKER] PID #5659 DONE.\n",
      "2019-09-03 01:50:59 | [DEBUG] [WORKER] PID #5665 DONE.\n",
      "2019-09-03 01:50:59 | [DEBUG] [WORKER] M033-2012_2074-05-R | PID #5664\n",
      "2019-09-03 01:50:59 | [DEBUG] [WORKER] PID #5664 DONE.\n",
      "2019-09-03 01:50:59 | [DEBUG] [WORKER] PID #5660 DONE.\n",
      "2019-09-03 01:50:59 | [DEBUG] [WORKER] PID #5667 DONE.\n"
     ]
    },
    {
     "name": "stdout",
     "output_type": "stream",
     "text": [
      "\b\b\b\b\b\b\b\b\b\b\b\b\b\b\b\b\b\b\b\b\b\b\b\b\b\b\b\b\b\b\b\b\b\b\b\b\b\b\b\b\b\b\b\b\b\b\b\b\b\b\b\b\b\b\b\b\b\b\b\b\b\b\b\b\b\b\b\b\b\b\b\b\b\b\b\b\b\b\b\b\b\b\b\b\b\b\b\b\b\b\b\b\b\b\b\b\b\b\b\b\b\b\b\b\b\b\b\b\b\b\b\b\b\b\b\b\b\b\b\b\b\b\b\b\b\b\b\b\b\b\b\b\b\b\b\r",
      " 500/2000 [======>.......................] - ETA: 1:17:12 - loss: 0.6882 - binary_accuracy: 0.5938 - precision: 0.6435 - recall: 0.3665"
     ]
    },
    {
     "name": "stderr",
     "output_type": "stream",
     "text": [
      "2019-09-03 01:51:00 | [DEBUG] [WORKER] PID #5661 DONE.\n",
      "2019-09-03 01:51:00 | [DEBUG] [WORKER] PID #5668 DONE.\n",
      "2019-09-03 01:51:00 | [DEBUG] [WORKER] PID #5666 DONE.\n",
      "2019-09-03 01:51:00 | [DEBUG] [WORKER] PID #5662 DONE.\n",
      "2019-09-03 01:51:01 | [DEBUG] [WORKER] PID #5663 DONE.\n"
     ]
    },
    {
     "name": "stdout",
     "output_type": "stream",
     "text": [
      "\b\b\b\b\b\b\b\b\b\b\b\b\b\b\b\b\b\b\b\b\b\b\b\b\b\b\b\b\b\b\b\b\b\b\b\b\b\b\b\b\b\b\b\b\b\b\b\b\b\b\b\b\b\b\b\b\b\b\b\b\b\b\b\b\b\b\b\b\b\b\b\b\b\b\b\b\b\b\b\b\b\b\b\b\b\b\b\b\b\b\b\b\b\b\b\b\b\b\b\b\b\b\b\b\b\b\b\b\b\b\b\b\b\b\b\b\b\b\b\b\b\b\b\b\b\b\b\b\b\b\b\b\b\b\b\r",
      " 501/2000 [======>.......................] - ETA: 1:17:06 - loss: 0.6882 - binary_accuracy: 0.5938 - precision: 0.6435 - recall: 0.3666"
     ]
    },
    {
     "name": "stderr",
     "output_type": "stream",
     "text": [
      "2019-09-03 01:51:02 | [DEBUG] [PROCESS] Concatenating\n",
      "2019-09-03 01:51:02 | [DEBUG] [PROCESS] Storing filenames\n",
      "2019-09-03 01:51:02 | [DEBUG] [PROCESS] Returning\n"
     ]
    },
    {
     "name": "stdout",
     "output_type": "stream",
     "text": [
      " 598/2000 [=======>......................] - ETA: 1:07:01 - loss: 0.6876 - binary_accuracy: 0.5982 - precision: 0.6488 - recall: 0.3675"
     ]
    },
    {
     "name": "stderr",
     "output_type": "stream",
     "text": [
      "2019-09-03 01:53:51 | [DEBUG] [PROCESS] Prepating chunk...\n",
      "2019-09-03 01:53:52 | [DEBUG] [PROCESS] Pooling\n"
     ]
    },
    {
     "name": "stdout",
     "output_type": "stream",
     "text": [
      "\b\b\b\b\b\b\b\b\b\b\b\b\b\b\b\b\b\b\b\b\b\b\b\b\b\b\b\b\b\b\b\b\b\b\b\b\b\b\b\b\b\b\b\b\b\b\b\b\b\b\b\b\b\b\b\b\b\b\b\b\b\b\b\b\b\b\b\b\b\b\b\b\b\b\b\b\b\b\b\b\b\b\b\b\b\b\b\b\b\b\b\b\b\b\b\b\b\b\b\b\b\b\b\b\b\b\b\b\b\b\b\b\b\b\b\b\b\b\b\b\b\b\b\b\b\b\b\b\b\b\b\b\b\b\b\r",
      " 599/2000 [=======>......................] - ETA: 1:06:56 - loss: 0.6877 - binary_accuracy: 0.5980 - precision: 0.6489 - recall: 0.3671"
     ]
    },
    {
     "name": "stderr",
     "output_type": "stream",
     "text": [
      "2019-09-03 01:53:52 | [DEBUG] [WORKER] M019-2012_1157-08-R | PID #5952\n",
      "2019-09-03 01:53:52 | [DEBUG] [WORKER] M021-2012_1098-03-R | PID #5951\n",
      "2019-09-03 01:53:52 | [DEBUG] [WORKER] M030-2012_1472-04-R | PID #5953\n",
      "2019-09-03 01:53:53 | [DEBUG] [WORKER] M017-2012_4649-14-R | PID #5954\n",
      "2019-09-03 01:53:53 | [DEBUG] [WORKER] M002-2012_2034-04-R | PID #5956\n",
      "2019-09-03 01:53:53 | [DEBUG] [WORKER] M009-2012_2901-14-R | PID #5955\n",
      "2019-09-03 01:53:52 | [DEBUG] [WORKER] M024-2012_0874-07-R | PID #5949\n",
      "2019-09-03 01:53:53 | [DEBUG] [WORKER] M001-2012_1681-05-R | PID #5957\n",
      "2019-09-03 01:53:52 | [DEBUG] [WORKER] M018-2012_1202-06-R | PID #5950\n",
      "2019-09-03 01:53:53 | [DEBUG] [WORKER] M032-2012_2949-04-R | PID #5958\n",
      "2019-09-03 01:53:53 | [DEBUG] [WORKER] PID #5955 DONE.\n",
      "2019-09-03 01:53:53 | [DEBUG] [WORKER] PID #5950 DONE.\n",
      "2019-09-03 01:53:53 | [DEBUG] [WORKER] PID #5953 DONE.\n",
      "2019-09-03 01:53:53 | [DEBUG] [WORKER] PID #5949 DONE.\n",
      "2019-09-03 01:53:53 | [DEBUG] [WORKER] PID #5956 DONE.\n",
      "2019-09-03 01:53:53 | [DEBUG] [WORKER] M031-2012_2263-05-R | PID #5955\n",
      "2019-09-03 01:53:53 | [DEBUG] [WORKER] PID #5951 DONE.\n",
      "2019-09-03 01:53:53 | [DEBUG] [WORKER] M026-2012_1102-08-R | PID #5950\n",
      "2019-09-03 01:53:53 | [DEBUG] [WORKER] M008-2012_2101-04-R | PID #5953\n",
      "2019-09-03 01:53:53 | [DEBUG] [WORKER] PID #5955 DONE.\n",
      "2019-09-03 01:53:53 | [DEBUG] [WORKER] M014-2012_0381-04-R | PID #5949\n",
      "2019-09-03 01:53:53 | [DEBUG] [WORKER] M029-2012_1819-10-R | PID #5951\n",
      "2019-09-03 01:53:53 | [DEBUG] [WORKER] PID #5953 DONE.\n",
      "2019-09-03 01:53:53 | [DEBUG] [WORKER] M022-2012_1285-07-R | PID #5956\n",
      "2019-09-03 01:53:53 | [DEBUG] [WORKER] PID #5950 DONE.\n",
      "2019-09-03 01:53:53 | [DEBUG] [WORKER] PID #5951 DONE.\n",
      "2019-09-03 01:53:54 | [DEBUG] [WORKER] M011-2012_0798-03-R | PID #5955\n",
      "2019-09-03 01:53:54 | [DEBUG] [WORKER] M025-2012_2969-02-R | PID #5950\n",
      "2019-09-03 01:53:54 | [DEBUG] [WORKER] PID #5957 DONE.\n",
      "2019-09-03 01:53:54 | [DEBUG] [WORKER] PID #5955 DONE.\n",
      "2019-09-03 01:53:54 | [DEBUG] [WORKER] M003-2012_2132-06-R | PID #5953\n",
      "2019-09-03 01:53:54 | [DEBUG] [WORKER] PID #5950 DONE.\n",
      "2019-09-03 01:53:54 | [DEBUG] [WORKER] M033-2012_2074-05-R | PID #5951\n",
      "2019-09-03 01:53:54 | [DEBUG] [WORKER] PID #5953 DONE.\n"
     ]
    },
    {
     "name": "stdout",
     "output_type": "stream",
     "text": [
      "\b\b\b\b\b\b\b\b\b\b\b\b\b\b\b\b\b\b\b\b\b\b\b\b\b\b\b\b\b\b\b\b\b\b\b\b\b\b\b\b\b\b\b\b\b\b\b\b\b\b\b\b\b\b\b\b\b\b\b\b\b\b\b\b\b\b\b\b\b\b\b\b\b\b\b\b\b\b\b\b\b\b\b\b\b\b\b\b\b\b\b\b\b\b\b\b\b\b\b\b\b\b\b\b\b\b\b\b\b\b\b\b\b\b\b\b\b\b\b\b\b\b\b\b\b\b\b\b\b\b\b\b\b\b\b\r",
      " 600/2000 [========>.....................] - ETA: 1:06:51 - loss: 0.6878 - binary_accuracy: 0.5980 - precision: 0.6492 - recall: 0.3672"
     ]
    },
    {
     "name": "stderr",
     "output_type": "stream",
     "text": [
      "2019-09-03 01:53:54 | [DEBUG] [WORKER] PID #5951 DONE.\n",
      "2019-09-03 01:53:54 | [DEBUG] [WORKER] PID #5958 DONE.\n",
      "2019-09-03 01:53:55 | [DEBUG] [WORKER] PID #5956 DONE.\n",
      "2019-09-03 01:53:56 | [DEBUG] [WORKER] PID #5949 DONE.\n",
      "2019-09-03 01:53:56 | [DEBUG] [WORKER] PID #5954 DONE.\n",
      "2019-09-03 01:53:56 | [DEBUG] [WORKER] PID #5952 DONE.\n"
     ]
    },
    {
     "name": "stdout",
     "output_type": "stream",
     "text": [
      "\b\b\b\b\b\b\b\b\b\b\b\b\b\b\b\b\b\b\b\b\b\b\b\b\b\b\b\b\b\b\b\b\b\b\b\b\b\b\b\b\b\b\b\b\b\b\b\b\b\b\b\b\b\b\b\b\b\b\b\b\b\b\b\b\b\b\b\b\b\b\b\b\b\b\b\b\b\b\b\b\b\b\b\b\b\b\b\b\b\b\b\b\b\b\b\b\b\b\b\b\b\b\b\b\b\b\b\b\b\b\b\b\b\b\b\b\b\b\b\b\b\b\b\b\b\b\b\b\b\b\b\b\b\b\b\r",
      " 601/2000 [========>.....................] - ETA: 1:06:46 - loss: 0.6877 - binary_accuracy: 0.5982 - precision: 0.6495 - recall: 0.3672"
     ]
    },
    {
     "name": "stderr",
     "output_type": "stream",
     "text": [
      "2019-09-03 01:53:57 | [DEBUG] [PROCESS] Concatenating\n",
      "2019-09-03 01:53:57 | [DEBUG] [PROCESS] Storing filenames\n",
      "2019-09-03 01:53:57 | [DEBUG] [PROCESS] Returning\n"
     ]
    },
    {
     "name": "stdout",
     "output_type": "stream",
     "text": [
      " 698/2000 [=========>....................] - ETA: 58:53 - loss: 0.6874 - binary_accuracy: 0.6018 - precision: 0.6612 - recall: 0.3687"
     ]
    },
    {
     "name": "stderr",
     "output_type": "stream",
     "text": [
      "2019-09-03 01:56:50 | [DEBUG] [PROCESS] Prepating chunk...\n",
      "2019-09-03 01:56:51 | [DEBUG] [PROCESS] Pooling\n"
     ]
    },
    {
     "name": "stdout",
     "output_type": "stream",
     "text": [
      "\b\b\b\b\b\b\b\b\b\b\b\b\b\b\b\b\b\b\b\b\b\b\b\b\b\b\b\b\b\b\b\b\b\b\b\b\b\b\b\b\b\b\b\b\b\b\b\b\b\b\b\b\b\b\b\b\b\b\b\b\b\b\b\b\b\b\b\b\b\b\b\b\b\b\b\b\b\b\b\b\b\b\b\b\b\b\b\b\b\b\b\b\b\b\b\b\b\b\b\b\b\b\b\b\b\b\b\b\b\b\b\b\b\b\b\b\b\b\b\b\b\b\b\b\b\b\b\b\b\b\b\b\b\r",
      " 699/2000 [=========>....................] - ETA: 58:49 - loss: 0.6873 - binary_accuracy: 0.6019 - precision: 0.6613 - recall: 0.3688"
     ]
    },
    {
     "name": "stderr",
     "output_type": "stream",
     "text": [
      "2019-09-03 01:56:51 | [DEBUG] [WORKER] M024-2012_0874-07-R | PID #6231\n",
      "2019-09-03 01:56:51 | [DEBUG] [WORKER] M021-2012_1098-03-R | PID #6233\n",
      "2019-09-03 01:56:51 | [DEBUG] [WORKER] M018-2012_1202-06-R | PID #6232\n",
      "2019-09-03 01:56:51 | [DEBUG] [WORKER] M019-2012_1157-08-R | PID #6234\n",
      "2019-09-03 01:56:51 | [DEBUG] [WORKER] M009-2012_2901-14-R | PID #6237\n",
      "2019-09-03 01:56:51 | [DEBUG] [WORKER] M030-2012_1472-04-R | PID #6236\n",
      "2019-09-03 01:56:51 | [DEBUG] [WORKER] M002-2012_2034-04-R | PID #6238\n",
      "2019-09-03 01:56:51 | [DEBUG] [WORKER] M011-2012_0798-03-R | PID #6235\n",
      "2019-09-03 01:56:51 | [DEBUG] [WORKER] M001-2012_1681-05-R | PID #6239\n",
      "2019-09-03 01:56:51 | [DEBUG] [WORKER] M032-2012_2949-04-R | PID #6240\n",
      "2019-09-03 01:56:52 | [DEBUG] [WORKER] PID #6232 DONE.\n",
      "2019-09-03 01:56:52 | [DEBUG] [WORKER] PID #6237 DONE.\n",
      "2019-09-03 01:56:52 | [DEBUG] [WORKER] PID #6231 DONE.\n",
      "2019-09-03 01:56:52 | [DEBUG] [WORKER] PID #6236 DONE.\n",
      "2019-09-03 01:56:52 | [DEBUG] [WORKER] PID #6233 DONE.\n",
      "2019-09-03 01:56:52 | [DEBUG] [WORKER] PID #6235 DONE.\n",
      "2019-09-03 01:56:52 | [DEBUG] [WORKER] PID #6238 DONE.\n",
      "2019-09-03 01:56:52 | [DEBUG] [WORKER] M031-2012_2263-05-R | PID #6232\n",
      "2019-09-03 01:56:52 | [DEBUG] [WORKER] M026-2012_1102-08-R | PID #6237\n",
      "2019-09-03 01:56:52 | [DEBUG] [WORKER] PID #6232 DONE.\n",
      "2019-09-03 01:56:52 | [DEBUG] [WORKER] M008-2012_2101-04-R | PID #6231\n",
      "2019-09-03 01:56:52 | [DEBUG] [WORKER] M033-2012_2074-05-R | PID #6233\n",
      "2019-09-03 01:56:52 | [DEBUG] [WORKER] PID #6231 DONE.\n",
      "2019-09-03 01:56:52 | [DEBUG] [WORKER] PID #6237 DONE.\n",
      "2019-09-03 01:56:52 | [DEBUG] [WORKER] PID #6233 DONE.\n",
      "2019-09-03 01:56:52 | [DEBUG] [WORKER] M017-2012_4649-14-R | PID #6236\n",
      "2019-09-03 01:56:52 | [DEBUG] [WORKER] M022-2012_1285-07-R | PID #6235\n",
      "2019-09-03 01:56:52 | [DEBUG] [WORKER] PID #6239 DONE.\n",
      "2019-09-03 01:56:52 | [DEBUG] [WORKER] M029-2012_1819-10-R | PID #6238\n",
      "2019-09-03 01:56:53 | [DEBUG] [WORKER] M025-2012_2969-02-R | PID #6232\n",
      "2019-09-03 01:56:53 | [DEBUG] [WORKER] M003-2012_2132-06-R | PID #6237\n",
      "2019-09-03 01:56:53 | [DEBUG] [WORKER] PID #6238 DONE.\n",
      "2019-09-03 01:56:53 | [DEBUG] [WORKER] M014-2012_0381-04-R | PID #6233\n",
      "2019-09-03 01:56:53 | [DEBUG] [WORKER] PID #6237 DONE.\n",
      "2019-09-03 01:56:53 | [DEBUG] [WORKER] PID #6232 DONE.\n",
      "2019-09-03 01:56:53 | [DEBUG] [WORKER] PID #6235 DONE.\n"
     ]
    },
    {
     "name": "stdout",
     "output_type": "stream",
     "text": [
      "\b\b\b\b\b\b\b\b\b\b\b\b\b\b\b\b\b\b\b\b\b\b\b\b\b\b\b\b\b\b\b\b\b\b\b\b\b\b\b\b\b\b\b\b\b\b\b\b\b\b\b\b\b\b\b\b\b\b\b\b\b\b\b\b\b\b\b\b\b\b\b\b\b\b\b\b\b\b\b\b\b\b\b\b\b\b\b\b\b\b\b\b\b\b\b\b\b\b\b\b\b\b\b\b\b\b\b\b\b\b\b\b\b\b\b\b\b\b\b\b\b\b\b\b\b\b\b\b\b\b\b\b\b\r",
      " 700/2000 [=========>....................] - ETA: 58:46 - loss: 0.6873 - binary_accuracy: 0.6018 - precision: 0.6609 - recall: 0.3686"
     ]
    },
    {
     "name": "stderr",
     "output_type": "stream",
     "text": [
      "2019-09-03 01:56:54 | [DEBUG] [WORKER] PID #6240 DONE.\n",
      "2019-09-03 01:56:55 | [DEBUG] [WORKER] PID #6234 DONE.\n",
      "2019-09-03 01:56:55 | [DEBUG] [WORKER] PID #6233 DONE.\n",
      "2019-09-03 01:56:56 | [DEBUG] [WORKER] PID #6236 DONE.\n"
     ]
    },
    {
     "name": "stdout",
     "output_type": "stream",
     "text": [
      "\b\b\b\b\b\b\b\b\b\b\b\b\b\b\b\b\b\b\b\b\b\b\b\b\b\b\b\b\b\b\b\b\b\b\b\b\b\b\b\b\b\b\b\b\b\b\b\b\b\b\b\b\b\b\b\b\b\b\b\b\b\b\b\b\b\b\b\b\b\b\b\b\b\b\b\b\b\b\b\b\b\b\b\b\b\b\b\b\b\b\b\b\b\b\b\b\b\b\b\b\b\b\b\b\b\b\b\b\b\b\b\b\b\b\b\b\b\b\b\b\b\b\b\b\b\b\b\b\b\b\b\b\b\r",
      " 701/2000 [=========>....................] - ETA: 58:42 - loss: 0.6873 - binary_accuracy: 0.6018 - precision: 0.6611 - recall: 0.3686"
     ]
    },
    {
     "name": "stderr",
     "output_type": "stream",
     "text": [
      "2019-09-03 01:56:56 | [DEBUG] [PROCESS] Concatenating\n",
      "2019-09-03 01:56:56 | [DEBUG] [PROCESS] Storing filenames\n",
      "2019-09-03 01:56:56 | [DEBUG] [PROCESS] Returning\n"
     ]
    },
    {
     "name": "stdout",
     "output_type": "stream",
     "text": [
      " 798/2000 [==========>...................] - ETA: 52:00 - loss: 0.6869 - binary_accuracy: 0.6040 - precision: 0.6662 - recall: 0.3702"
     ]
    },
    {
     "name": "stderr",
     "output_type": "stream",
     "text": [
      "2019-09-03 01:59:47 | [DEBUG] [PROCESS] Prepating chunk...\n",
      "2019-09-03 01:59:48 | [DEBUG] [PROCESS] Pooling\n"
     ]
    },
    {
     "name": "stdout",
     "output_type": "stream",
     "text": [
      "\b\b\b\b\b\b\b\b\b\b\b\b\b\b\b\b\b\b\b\b\b\b\b\b\b\b\b\b\b\b\b\b\b\b\b\b\b\b\b\b\b\b\b\b\b\b\b\b\b\b\b\b\b\b\b\b\b\b\b\b\b\b\b\b\b\b\b\b\b\b\b\b\b\b\b\b\b\b\b\b\b\b\b\b\b\b\b\b\b\b\b\b\b\b\b\b\b\b\b\b\b\b\b\b\b\b\b\b\b\b\b\b\b\b\b\b\b\b\b\b\b\b\b\b\b\b\b\b\b\b\b\b\b\r",
      " 799/2000 [==========>...................] - ETA: 51:56 - loss: 0.6869 - binary_accuracy: 0.6038 - precision: 0.6661 - recall: 0.3701"
     ]
    },
    {
     "name": "stderr",
     "output_type": "stream",
     "text": [
      "2019-09-03 01:59:49 | [DEBUG] [WORKER] M018-2012_1202-06-R | PID #6520\n",
      "2019-09-03 01:59:49 | [DEBUG] [WORKER] M021-2012_1098-03-R | PID #6521\n",
      "2019-09-03 01:59:49 | [DEBUG] [WORKER] M024-2012_0874-07-R | PID #6519\n",
      "2019-09-03 01:59:49 | [DEBUG] [WORKER] M009-2012_2901-14-R | PID #6525\n",
      "2019-09-03 01:59:49 | [DEBUG] [WORKER] M019-2012_1157-08-R | PID #6522\n",
      "2019-09-03 01:59:49 | [DEBUG] [WORKER] M001-2012_1681-05-R | PID #6527\n",
      "2019-09-03 01:59:49 | [DEBUG] [WORKER] M030-2012_1472-04-R | PID #6523\n",
      "2019-09-03 01:59:49 | [DEBUG] [WORKER] M017-2012_4649-14-R | PID #6524\n",
      "2019-09-03 01:59:49 | [DEBUG] [WORKER] M002-2012_2034-04-R | PID #6526\n",
      "2019-09-03 01:59:49 | [DEBUG] [WORKER] M032-2012_2949-04-R | PID #6528\n",
      "2019-09-03 01:59:49 | [DEBUG] [WORKER] PID #6520 DONE.\n",
      "2019-09-03 01:59:49 | [DEBUG] [WORKER] PID #6519 DONE.\n",
      "2019-09-03 01:59:49 | [DEBUG] [WORKER] PID #6523 DONE.\n",
      "2019-09-03 01:59:49 | [DEBUG] [WORKER] PID #6521 DONE.\n",
      "2019-09-03 01:59:49 | [DEBUG] [WORKER] PID #6525 DONE.\n",
      "2019-09-03 01:59:49 | [DEBUG] [WORKER] PID #6526 DONE.\n",
      "2019-09-03 01:59:49 | [DEBUG] [WORKER] M031-2012_2263-05-R | PID #6523\n",
      "2019-09-03 01:59:50 | [DEBUG] [WORKER] M026-2012_1102-08-R | PID #6520\n",
      "2019-09-03 01:59:50 | [DEBUG] [WORKER] M008-2012_2101-04-R | PID #6519\n",
      "2019-09-03 01:59:50 | [DEBUG] [WORKER] PID #6523 DONE.\n",
      "2019-09-03 01:59:50 | [DEBUG] [WORKER] M033-2012_2074-05-R | PID #6525\n",
      "2019-09-03 01:59:50 | [DEBUG] [WORKER] PID #6519 DONE.\n",
      "2019-09-03 01:59:50 | [DEBUG] [WORKER] M011-2012_0798-03-R | PID #6521\n",
      "2019-09-03 01:59:50 | [DEBUG] [WORKER] PID #6525 DONE.\n",
      "2019-09-03 01:59:50 | [DEBUG] [WORKER] PID #6520 DONE.\n",
      "2019-09-03 01:59:50 | [DEBUG] [WORKER] M022-2012_1285-07-R | PID #6526\n",
      "2019-09-03 01:59:50 | [DEBUG] [WORKER] PID #6521 DONE.\n",
      "2019-09-03 01:59:50 | [DEBUG] [WORKER] M029-2012_1819-10-R | PID #6523\n",
      "2019-09-03 01:59:50 | [DEBUG] [WORKER] PID #6527 DONE.\n",
      "2019-09-03 01:59:50 | [DEBUG] [WORKER] M025-2012_2969-02-R | PID #6525\n",
      "2019-09-03 01:59:50 | [DEBUG] [WORKER] M003-2012_2132-06-R | PID #6519\n",
      "2019-09-03 01:59:50 | [DEBUG] [WORKER] M014-2012_0381-04-R | PID #6520\n",
      "2019-09-03 01:59:50 | [DEBUG] [WORKER] PID #6523 DONE.\n",
      "2019-09-03 01:59:50 | [DEBUG] [WORKER] PID #6525 DONE.\n",
      "2019-09-03 01:59:50 | [DEBUG] [WORKER] PID #6519 DONE.\n"
     ]
    },
    {
     "name": "stdout",
     "output_type": "stream",
     "text": [
      "\b\b\b\b\b\b\b\b\b\b\b\b\b\b\b\b\b\b\b\b\b\b\b\b\b\b\b\b\b\b\b\b\b\b\b\b\b\b\b\b\b\b\b\b\b\b\b\b\b\b\b\b\b\b\b\b\b\b\b\b\b\b\b\b\b\b\b\b\b\b\b\b\b\b\b\b\b\b\b\b\b\b\b\b\b\b\b\b\b\b\b\b\b\b\b\b\b\b\b\b\b\b\b\b\b\b\b\b\b\b\b\b\b\b\b\b\b\b\b\b\b\b\b\b\b\b\b\b\b\b\b\b\b\r",
      " 800/2000 [===========>..................] - ETA: 51:53 - loss: 0.6869 - binary_accuracy: 0.6038 - precision: 0.6658 - recall: 0.3702"
     ]
    },
    {
     "name": "stderr",
     "output_type": "stream",
     "text": [
      "2019-09-03 01:59:51 | [DEBUG] [WORKER] PID #6528 DONE.\n",
      "2019-09-03 01:59:51 | [DEBUG] [WORKER] PID #6526 DONE.\n",
      "2019-09-03 01:59:52 | [DEBUG] [WORKER] PID #6524 DONE.\n",
      "2019-09-03 01:59:52 | [DEBUG] [WORKER] PID #6520 DONE.\n",
      "2019-09-03 01:59:53 | [DEBUG] [WORKER] PID #6522 DONE.\n"
     ]
    },
    {
     "name": "stdout",
     "output_type": "stream",
     "text": [
      "\b\b\b\b\b\b\b\b\b\b\b\b\b\b\b\b\b\b\b\b\b\b\b\b\b\b\b\b\b\b\b\b\b\b\b\b\b\b\b\b\b\b\b\b\b\b\b\b\b\b\b\b\b\b\b\b\b\b\b\b\b\b\b\b\b\b\b\b\b\b\b\b\b\b\b\b\b\b\b\b\b\b\b\b\b\b\b\b\b\b\b\b\b\b\b\b\b\b\b\b\b\b\b\b\b\b\b\b\b\b\b\b\b\b\b\b\b\b\b\b\b\b\b\b\b\b\b\b\b\b\b\b\b\r",
      " 801/2000 [===========>..................] - ETA: 51:50 - loss: 0.6869 - binary_accuracy: 0.6039 - precision: 0.6660 - recall: 0.3703"
     ]
    },
    {
     "name": "stderr",
     "output_type": "stream",
     "text": [
      "2019-09-03 01:59:53 | [DEBUG] [PROCESS] Concatenating\n",
      "2019-09-03 01:59:53 | [DEBUG] [PROCESS] Storing filenames\n",
      "2019-09-03 01:59:53 | [DEBUG] [PROCESS] Returning\n"
     ]
    },
    {
     "name": "stdout",
     "output_type": "stream",
     "text": [
      " 898/2000 [============>.................] - ETA: 46:01 - loss: 0.6863 - binary_accuracy: 0.6066 - precision: 0.6707 - recall: 0.3695"
     ]
    },
    {
     "name": "stderr",
     "output_type": "stream",
     "text": [
      "2019-09-03 02:02:46 | [DEBUG] [PROCESS] Prepating chunk...\n",
      "2019-09-03 02:02:47 | [DEBUG] [PROCESS] Pooling\n"
     ]
    },
    {
     "name": "stdout",
     "output_type": "stream",
     "text": [
      "\b\b\b\b\b\b\b\b\b\b\b\b\b\b\b\b\b\b\b\b\b\b\b\b\b\b\b\b\b\b\b\b\b\b\b\b\b\b\b\b\b\b\b\b\b\b\b\b\b\b\b\b\b\b\b\b\b\b\b\b\b\b\b\b\b\b\b\b\b\b\b\b\b\b\b\b\b\b\b\b\b\b\b\b\b\b\b\b\b\b\b\b\b\b\b\b\b\b\b\b\b\b\b\b\b\b\b\b\b\b\b\b\b\b\b\b\b\b\b\b\b\b\b\b\b\b\b\b\b\b\b\b\b\r",
      " 899/2000 [============>.................] - ETA: 45:58 - loss: 0.6863 - binary_accuracy: 0.6065 - precision: 0.6707 - recall: 0.3693"
     ]
    },
    {
     "name": "stderr",
     "output_type": "stream",
     "text": [
      "2019-09-03 02:02:47 | [DEBUG] [WORKER] M024-2012_0874-07-R | PID #6804\n",
      "2019-09-03 02:02:47 | [DEBUG] [WORKER] M018-2012_1202-06-R | PID #6805\n",
      "2019-09-03 02:02:47 | [DEBUG] [WORKER] M031-2012_2263-05-R | PID #6806\n",
      "2019-09-03 02:02:47 | [DEBUG] [WORKER] M030-2012_1472-04-R | PID #6808\n",
      "2019-09-03 02:02:47 | [DEBUG] [WORKER] M001-2012_1681-05-R | PID #6817\n",
      "2019-09-03 02:02:47 | [DEBUG] [WORKER] M019-2012_1157-08-R | PID #6807\n",
      "2019-09-03 02:02:47 | [DEBUG] [WORKER] M002-2012_2034-04-R | PID #6816\n",
      "2019-09-03 02:02:47 | [DEBUG] [WORKER] M017-2012_4649-14-R | PID #6809\n",
      "2019-09-03 02:02:47 | [DEBUG] [WORKER] M009-2012_2901-14-R | PID #6815\n",
      "2019-09-03 02:02:47 | [DEBUG] [WORKER] M032-2012_2949-04-R | PID #6818\n",
      "2019-09-03 02:02:47 | [DEBUG] [WORKER] PID #6805 DONE.\n",
      "2019-09-03 02:02:48 | [DEBUG] [WORKER] PID #6804 DONE.\n",
      "2019-09-03 02:02:48 | [DEBUG] [WORKER] PID #6815 DONE.\n",
      "2019-09-03 02:02:48 | [DEBUG] [WORKER] PID #6808 DONE.\n",
      "2019-09-03 02:02:48 | [DEBUG] [WORKER] PID #6816 DONE.\n",
      "2019-09-03 02:02:48 | [DEBUG] [WORKER] PID #6806 DONE.\n",
      "2019-09-03 02:02:48 | [DEBUG] [WORKER] M026-2012_1102-08-R | PID #6815\n",
      "2019-09-03 02:02:48 | [DEBUG] [WORKER] M008-2012_2101-04-R | PID #6805\n",
      "2019-09-03 02:02:48 | [DEBUG] [WORKER] M021-2012_1098-03-R | PID #6804\n",
      "2019-09-03 02:02:48 | [DEBUG] [WORKER] M014-2012_0381-04-R | PID #6806\n",
      "2019-09-03 02:02:48 | [DEBUG] [WORKER] PID #6805 DONE.\n",
      "2019-09-03 02:02:48 | [DEBUG] [WORKER] PID #6804 DONE.\n",
      "2019-09-03 02:02:48 | [DEBUG] [WORKER] M029-2012_1819-10-R | PID #6808\n",
      "2019-09-03 02:02:48 | [DEBUG] [WORKER] M022-2012_1285-07-R | PID #6816\n",
      "2019-09-03 02:02:48 | [DEBUG] [WORKER] PID #6815 DONE.\n",
      "2019-09-03 02:02:48 | [DEBUG] [WORKER] M011-2012_0798-03-R | PID #6804\n",
      "2019-09-03 02:02:48 | [DEBUG] [WORKER] PID #6808 DONE.\n",
      "2019-09-03 02:02:48 | [DEBUG] [WORKER] M025-2012_2969-02-R | PID #6805\n",
      "2019-09-03 02:02:48 | [DEBUG] [WORKER] M003-2012_2132-06-R | PID #6815\n",
      "2019-09-03 02:02:48 | [DEBUG] [WORKER] PID #6817 DONE.\n",
      "2019-09-03 02:02:49 | [DEBUG] [WORKER] PID #6804 DONE.\n",
      "2019-09-03 02:02:49 | [DEBUG] [WORKER] M033-2012_2074-05-R | PID #6808\n",
      "2019-09-03 02:02:49 | [DEBUG] [WORKER] PID #6805 DONE.\n",
      "2019-09-03 02:02:49 | [DEBUG] [WORKER] PID #6815 DONE.\n",
      "2019-09-03 02:02:49 | [DEBUG] [WORKER] PID #6808 DONE.\n",
      "2019-09-03 02:02:49 | [DEBUG] [WORKER] PID #6818 DONE.\n",
      "2019-09-03 02:02:49 | [DEBUG] [WORKER] PID #6816 DONE.\n"
     ]
    },
    {
     "name": "stdout",
     "output_type": "stream",
     "text": [
      "\b\b\b\b\b\b\b\b\b\b\b\b\b\b\b\b\b\b\b\b\b\b\b\b\b\b\b\b\b\b\b\b\b\b\b\b\b\b\b\b\b\b\b\b\b\b\b\b\b\b\b\b\b\b\b\b\b\b\b\b\b\b\b\b\b\b\b\b\b\b\b\b\b\b\b\b\b\b\b\b\b\b\b\b\b\b\b\b\b\b\b\b\b\b\b\b\b\b\b\b\b\b\b\b\b\b\b\b\b\b\b\b\b\b\b\b\b\b\b\b\b\b\b\b\b\b\b\b\b\b\b\b\b\r",
      " 900/2000 [============>.................] - ETA: 45:55 - loss: 0.6863 - binary_accuracy: 0.6064 - precision: 0.6707 - recall: 0.3691"
     ]
    },
    {
     "name": "stderr",
     "output_type": "stream",
     "text": [
      "2019-09-03 02:02:50 | [DEBUG] [WORKER] PID #6806 DONE.\n",
      "2019-09-03 02:02:51 | [DEBUG] [WORKER] PID #6809 DONE.\n",
      "2019-09-03 02:02:51 | [DEBUG] [WORKER] PID #6807 DONE.\n",
      "2019-09-03 02:02:52 | [DEBUG] [PROCESS] Concatenating\n",
      "2019-09-03 02:02:52 | [DEBUG] [PROCESS] Storing filenames\n",
      "2019-09-03 02:02:52 | [DEBUG] [PROCESS] Returning\n"
     ]
    },
    {
     "name": "stdout",
     "output_type": "stream",
     "text": [
      " 998/2000 [=============>................] - ETA: 40:40 - loss: 0.6859 - binary_accuracy: 0.6085 - precision: 0.6796 - recall: 0.3645"
     ]
    },
    {
     "name": "stderr",
     "output_type": "stream",
     "text": [
      "2019-09-03 02:05:47 | [DEBUG] [PROCESS] Prepating chunk...\n",
      "2019-09-03 02:05:47 | [DEBUG] [PROCESS] Pooling\n"
     ]
    },
    {
     "name": "stdout",
     "output_type": "stream",
     "text": [
      "\b\b\b\b\b\b\b\b\b\b\b\b\b\b\b\b\b\b\b\b\b\b\b\b\b\b\b\b\b\b\b\b\b\b\b\b\b\b\b\b\b\b\b\b\b\b\b\b\b\b\b\b\b\b\b\b\b\b\b\b\b\b\b\b\b\b\b\b\b\b\b\b\b\b\b\b\b\b\b\b\b\b\b\b\b\b\b\b\b\b\b\b\b\b\b\b\b\b\b\b\b\b\b\b\b\b\b\b\b\b\b\b\b\b\b\b\b\b\b\b\b\b\b\b\b\b\b\b\b\b\b\b\b\r",
      " 999/2000 [=============>................] - ETA: 40:37 - loss: 0.6860 - binary_accuracy: 0.6084 - precision: 0.6799 - recall: 0.3644"
     ]
    },
    {
     "name": "stderr",
     "output_type": "stream",
     "text": [
      "2019-09-03 02:05:48 | [DEBUG] [WORKER] M024-2012_0874-07-R | PID #7105\n",
      "2019-09-03 02:05:48 | [DEBUG] [WORKER] M018-2012_1202-06-R | PID #7106\n",
      "2019-09-03 02:05:48 | [DEBUG] [WORKER] M021-2012_1098-03-R | PID #7107\n",
      "2019-09-03 02:05:48 | [DEBUG] [WORKER] M019-2012_1157-08-R | PID #7108\n",
      "2019-09-03 02:05:48 | [DEBUG] [WORKER] M030-2012_1472-04-R | PID #7109\n",
      "2019-09-03 02:05:48 | [DEBUG] [WORKER] M017-2012_4649-14-R | PID #7110\n",
      "2019-09-03 02:05:48 | [DEBUG] [WORKER] M009-2012_2901-14-R | PID #7111\n",
      "2019-09-03 02:05:48 | [DEBUG] [WORKER] M002-2012_2034-04-R | PID #7112\n",
      "2019-09-03 02:05:48 | [DEBUG] [WORKER] M001-2012_1681-05-R | PID #7113\n",
      "2019-09-03 02:05:48 | [DEBUG] [WORKER] M032-2012_2949-04-R | PID #7114\n",
      "2019-09-03 02:05:48 | [DEBUG] [WORKER] PID #7109 DONE.\n",
      "2019-09-03 02:05:48 | [DEBUG] [WORKER] PID #7105 DONE.\n",
      "2019-09-03 02:05:48 | [DEBUG] [WORKER] PID #7106 DONE.\n",
      "2019-09-03 02:05:48 | [DEBUG] [WORKER] M026-2012_1102-08-R | PID #7109\n",
      "2019-09-03 02:05:48 | [DEBUG] [WORKER] PID #7111 DONE.\n",
      "2019-09-03 02:05:49 | [DEBUG] [WORKER] PID #7112 DONE.\n",
      "2019-09-03 02:05:49 | [DEBUG] [WORKER] PID #7107 DONE.\n",
      "2019-09-03 02:05:49 | [DEBUG] [WORKER] M008-2012_2101-04-R | PID #7106\n",
      "2019-09-03 02:05:49 | [DEBUG] [WORKER] M033-2012_2074-05-R | PID #7111\n",
      "2019-09-03 02:05:49 | [DEBUG] [WORKER] PID #7111 DONE.\n",
      "2019-09-03 02:05:49 | [DEBUG] [WORKER] M011-2012_0798-03-R | PID #7105\n",
      "2019-09-03 02:05:49 | [DEBUG] [WORKER] PID #7109 DONE.\n",
      "2019-09-03 02:05:49 | [DEBUG] [WORKER] PID #7106 DONE.\n",
      "2019-09-03 02:05:49 | [DEBUG] [WORKER] M022-2012_1285-07-R | PID #7112\n",
      "2019-09-03 02:05:49 | [DEBUG] [WORKER] PID #7105 DONE.\n",
      "2019-09-03 02:05:49 | [DEBUG] [WORKER] M029-2012_1819-10-R | PID #7107\n",
      "2019-09-03 02:05:49 | [DEBUG] [WORKER] M025-2012_2969-02-R | PID #7111\n",
      "2019-09-03 02:05:49 | [DEBUG] [WORKER] M003-2012_2132-06-R | PID #7109\n",
      "2019-09-03 02:05:49 | [DEBUG] [WORKER] PID #7111 DONE.\n",
      "2019-09-03 02:05:49 | [DEBUG] [WORKER] M014-2012_0381-04-R | PID #7106\n",
      "2019-09-03 02:05:49 | [DEBUG] [WORKER] PID #7107 DONE.\n",
      "2019-09-03 02:05:49 | [DEBUG] [WORKER] PID #7113 DONE.\n",
      "2019-09-03 02:05:49 | [DEBUG] [WORKER] PID #7109 DONE.\n",
      "2019-09-03 02:05:50 | [DEBUG] [WORKER] M031-2012_2263-05-R | PID #7105\n",
      "2019-09-03 02:05:50 | [DEBUG] [WORKER] PID #7105 DONE.\n"
     ]
    },
    {
     "name": "stdout",
     "output_type": "stream",
     "text": [
      "\b\b\b\b\b\b\b\b\b\b\b\b\b\b\b\b\b\b\b\b\b\b\b\b\b\b\b\b\b\b\b\b\b\b\b\b\b\b\b\b\b\b\b\b\b\b\b\b\b\b\b\b\b\b\b\b\b\b\b\b\b\b\b\b\b\b\b\b\b\b\b\b\b\b\b\b\b\b\b\b\b\b\b\b\b\b\b\b\b\b\b\b\b\b\b\b\b\b\b\b\b\b\b\b\b\b\b\b\b\b\b\b\b\b\b\b\b\b\b\b\b\b\b\b\b\b\b\b\b\b\b\b\b\r",
      "1000/2000 [==============>...............] - ETA: 40:35 - loss: 0.6859 - binary_accuracy: 0.6084 - precision: 0.6800 - recall: 0.3643"
     ]
    },
    {
     "name": "stderr",
     "output_type": "stream",
     "text": [
      "2019-09-03 02:05:51 | [DEBUG] [WORKER] PID #7112 DONE.\n",
      "2019-09-03 02:05:51 | [DEBUG] [WORKER] PID #7114 DONE.\n",
      "2019-09-03 02:05:51 | [DEBUG] [WORKER] PID #7106 DONE.\n",
      "2019-09-03 02:05:52 | [DEBUG] [WORKER] PID #7110 DONE.\n",
      "2019-09-03 02:05:52 | [DEBUG] [WORKER] PID #7108 DONE.\n"
     ]
    },
    {
     "name": "stdout",
     "output_type": "stream",
     "text": [
      "\b\b\b\b\b\b\b\b\b\b\b\b\b\b\b\b\b\b\b\b\b\b\b\b\b\b\b\b\b\b\b\b\b\b\b\b\b\b\b\b\b\b\b\b\b\b\b\b\b\b\b\b\b\b\b\b\b\b\b\b\b\b\b\b\b\b\b\b\b\b\b\b\b\b\b\b\b\b\b\b\b\b\b\b\b\b\b\b\b\b\b\b\b\b\b\b\b\b\b\b\b\b\b\b\b\b\b\b\b\b\b\b\b\b\b\b\b\b\b\b\b\b\b\b\b\b\b\b\b\b\b\b\b\r",
      "1001/2000 [==============>...............] - ETA: 40:32 - loss: 0.6859 - binary_accuracy: 0.6085 - precision: 0.6801 - recall: 0.3642"
     ]
    },
    {
     "name": "stderr",
     "output_type": "stream",
     "text": [
      "2019-09-03 02:05:53 | [DEBUG] [PROCESS] Concatenating\n",
      "2019-09-03 02:05:53 | [DEBUG] [PROCESS] Storing filenames\n",
      "2019-09-03 02:05:53 | [DEBUG] [PROCESS] Returning\n"
     ]
    },
    {
     "name": "stdout",
     "output_type": "stream",
     "text": [
      "1098/2000 [===============>..............] - ETA: 35:28 - loss: 0.6853 - binary_accuracy: 0.6101 - precision: 0.6804 - recall: 0.3666"
     ]
    },
    {
     "name": "stderr",
     "output_type": "stream",
     "text": [
      "2019-09-03 02:08:26 | [DEBUG] [PROCESS] Prepating chunk...\n",
      "2019-09-03 02:08:27 | [DEBUG] [PROCESS] Pooling\n"
     ]
    },
    {
     "name": "stdout",
     "output_type": "stream",
     "text": [
      "\b\b\b\b\b\b\b\b\b\b\b\b\b\b\b\b\b\b\b\b\b\b\b\b\b\b\b\b\b\b\b\b\b\b\b\b\b\b\b\b\b\b\b\b\b\b\b\b\b\b\b\b\b\b\b\b\b\b\b\b\b\b\b\b\b\b\b\b\b\b\b\b\b\b\b\b\b\b\b\b\b\b\b\b\b\b\b\b\b\b\b\b\b\b\b\b\b\b\b\b\b\b\b\b\b\b\b\b\b\b\b\b\b\b\b\b\b\b\b\b\b\b\b\b\b\b\b\b\b\b\b\b\b\r",
      "1099/2000 [===============>..............] - ETA: 35:25 - loss: 0.6853 - binary_accuracy: 0.6102 - precision: 0.6802 - recall: 0.3666"
     ]
    },
    {
     "name": "stderr",
     "output_type": "stream",
     "text": [
      "2019-09-03 02:08:27 | [DEBUG] [WORKER] M021-2012_1098-03-R | PID #7485\n",
      "2019-09-03 02:08:27 | [DEBUG] [WORKER] M018-2012_1202-06-R | PID #7484\n",
      "2019-09-03 02:08:27 | [DEBUG] [WORKER] M024-2012_0874-07-R | PID #7483\n",
      "2019-09-03 02:08:27 | [DEBUG] [WORKER] M017-2012_4649-14-R | PID #7488\n",
      "2019-09-03 02:08:27 | [DEBUG] [WORKER] M030-2012_1472-04-R | PID #7487\n",
      "2019-09-03 02:08:27 | [DEBUG] [WORKER] M019-2012_1157-08-R | PID #7486\n",
      "2019-09-03 02:08:27 | [DEBUG] [WORKER] M001-2012_1681-05-R | PID #7490\n",
      "2019-09-03 02:08:27 | [DEBUG] [WORKER] M009-2012_2901-14-R | PID #7489\n",
      "2019-09-03 02:08:27 | [DEBUG] [WORKER] M031-2012_2263-05-R | PID #7491\n",
      "2019-09-03 02:08:27 | [DEBUG] [WORKER] M032-2012_2949-04-R | PID #7492\n",
      "2019-09-03 02:08:27 | [DEBUG] [WORKER] PID #7484 DONE.\n",
      "2019-09-03 02:08:27 | [DEBUG] [WORKER] PID #7489 DONE.\n",
      "2019-09-03 02:08:27 | [DEBUG] [WORKER] PID #7487 DONE.\n",
      "2019-09-03 02:08:27 | [DEBUG] [WORKER] PID #7483 DONE.\n",
      "2019-09-03 02:08:27 | [DEBUG] [WORKER] PID #7485 DONE.\n",
      "2019-09-03 02:08:27 | [DEBUG] [WORKER] M026-2012_1102-08-R | PID #7489\n",
      "2019-09-03 02:08:27 | [DEBUG] [WORKER] PID #7491 DONE.\n",
      "2019-09-03 02:08:28 | [DEBUG] [WORKER] M008-2012_2101-04-R | PID #7484\n",
      "2019-09-03 02:08:28 | [DEBUG] [WORKER] M014-2012_0381-04-R | PID #7487\n",
      "2019-09-03 02:08:28 | [DEBUG] [WORKER] PID #7489 DONE.\n",
      "2019-09-03 02:08:28 | [DEBUG] [WORKER] PID #7484 DONE.\n",
      "2019-09-03 02:08:28 | [DEBUG] [WORKER] M011-2012_0798-03-R | PID #7483\n",
      "2019-09-03 02:08:28 | [DEBUG] [WORKER] M022-2012_1285-07-R | PID #7485\n",
      "2019-09-03 02:08:28 | [DEBUG] [WORKER] PID #7483 DONE.\n",
      "2019-09-03 02:08:28 | [DEBUG] [WORKER] M029-2012_1819-10-R | PID #7491\n",
      "2019-09-03 02:08:28 | [DEBUG] [WORKER] PID #7490 DONE.\n",
      "2019-09-03 02:08:28 | [DEBUG] [WORKER] M025-2012_2969-02-R | PID #7489\n",
      "2019-09-03 02:08:28 | [DEBUG] [WORKER] PID #7491 DONE.\n",
      "2019-09-03 02:08:28 | [DEBUG] [WORKER] M003-2012_2132-06-R | PID #7484\n",
      "2019-09-03 02:08:28 | [DEBUG] [WORKER] PID #7489 DONE.\n"
     ]
    },
    {
     "name": "stdout",
     "output_type": "stream",
     "text": [
      "\b\b\b\b\b\b\b\b\b\b\b\b\b\b\b\b\b\b\b\b\b\b\b\b\b\b\b\b\b\b\b\b\b\b\b\b\b\b\b\b\b\b\b\b\b\b\b\b\b\b\b\b\b\b\b\b\b\b\b\b\b\b\b\b\b\b\b\b\b\b\b\b\b\b\b\b\b\b\b\b\b\b\b\b\b\b\b\b\b\b\b\b\b\b\b\b\b\b\b\b\b\b\b\b\b\b\b\b\b\b\b\b\b\b\b\b\b\b\b\b\b\b\b\b\b\b\b\b\b\b\b\b\b\r",
      "1100/2000 [===============>..............] - ETA: 35:21 - loss: 0.6853 - binary_accuracy: 0.6101 - precision: 0.6804 - recall: 0.3665"
     ]
    },
    {
     "name": "stderr",
     "output_type": "stream",
     "text": [
      "2019-09-03 02:08:28 | [DEBUG] [WORKER] M002-2012_2034-04-R | PID #7483\n",
      "2019-09-03 02:08:28 | [DEBUG] [WORKER] PID #7484 DONE.\n",
      "2019-09-03 02:08:28 | [DEBUG] [WORKER] PID #7483 DONE.\n",
      "2019-09-03 02:08:28 | [DEBUG] [WORKER] M033-2012_2074-05-R | PID #7490\n",
      "2019-09-03 02:08:28 | [DEBUG] [WORKER] PID #7490 DONE.\n",
      "2019-09-03 02:08:29 | [DEBUG] [WORKER] PID #7492 DONE.\n",
      "2019-09-03 02:08:29 | [DEBUG] [WORKER] PID #7485 DONE.\n",
      "2019-09-03 02:08:29 | [DEBUG] [WORKER] PID #7487 DONE.\n",
      "2019-09-03 02:08:29 | [DEBUG] [WORKER] PID #7486 DONE.\n",
      "2019-09-03 02:08:29 | [DEBUG] [WORKER] PID #7488 DONE.\n"
     ]
    },
    {
     "name": "stdout",
     "output_type": "stream",
     "text": [
      "\b\b\b\b\b\b\b\b\b\b\b\b\b\b\b\b\b\b\b\b\b\b\b\b\b\b\b\b\b\b\b\b\b\b\b\b\b\b\b\b\b\b\b\b\b\b\b\b\b\b\b\b\b\b\b\b\b\b\b\b\b\b\b\b\b\b\b\b\b\b\b\b\b\b\b\b\b\b\b\b\b\b\b\b\b\b\b\b\b\b\b\b\b\b\b\b\b\b\b\b\b\b\b\b\b\b\b\b\b\b\b\b\b\b\b\b\b\b\b\b\b\b\b\b\b\b\b\b\b\b\b\b\b\r",
      "1101/2000 [===============>..............] - ETA: 35:18 - loss: 0.6853 - binary_accuracy: 0.6102 - precision: 0.6804 - recall: 0.3664"
     ]
    },
    {
     "name": "stderr",
     "output_type": "stream",
     "text": [
      "2019-09-03 02:08:30 | [DEBUG] [PROCESS] Concatenating\n",
      "2019-09-03 02:08:30 | [DEBUG] [PROCESS] Storing filenames\n",
      "2019-09-03 02:08:30 | [DEBUG] [PROCESS] Returning\n"
     ]
    },
    {
     "name": "stdout",
     "output_type": "stream",
     "text": [
      "1198/2000 [================>.............] - ETA: 30:39 - loss: 0.6850 - binary_accuracy: 0.6116 - precision: 0.6853 - recall: 0.3650"
     ]
    },
    {
     "name": "stderr",
     "output_type": "stream",
     "text": [
      "2019-09-03 02:11:03 | [DEBUG] [PROCESS] Prepating chunk...\n",
      "2019-09-03 02:11:04 | [DEBUG] [PROCESS] Pooling\n"
     ]
    },
    {
     "name": "stdout",
     "output_type": "stream",
     "text": [
      "\b\b\b\b\b\b\b\b\b\b\b\b\b\b\b\b\b\b\b\b\b\b\b\b\b\b\b\b\b\b\b\b\b\b\b\b\b\b\b\b\b\b\b\b\b\b\b\b\b\b\b\b\b\b\b\b\b\b\b\b\b\b\b\b\b\b\b\b\b\b\b\b\b\b\b\b\b\b\b\b\b\b\b\b\b\b\b\b\b\b\b\b\b\b\b\b\b\b\b\b\b\b\b\b\b\b\b\b\b\b\b\b\b\b\b\b\b\b\b\b\b\b\b\b\b\b\b\b\b\b\b\b\b\r",
      "1199/2000 [================>.............] - ETA: 30:36 - loss: 0.6850 - binary_accuracy: 0.6116 - precision: 0.6851 - recall: 0.3648"
     ]
    },
    {
     "name": "stderr",
     "output_type": "stream",
     "text": [
      "2019-09-03 02:11:05 | [DEBUG] [WORKER] M018-2012_1202-06-R | PID #7920\n",
      "2019-09-03 02:11:05 | [DEBUG] [WORKER] M024-2012_0874-07-R | PID #7919\n",
      "2019-09-03 02:11:05 | [DEBUG] [WORKER] M019-2012_1157-08-R | PID #7922\n",
      "2019-09-03 02:11:05 | [DEBUG] [WORKER] M021-2012_1098-03-R | PID #7921\n",
      "2019-09-03 02:11:05 | [DEBUG] [WORKER] M017-2012_4649-14-R | PID #7923\n",
      "2019-09-03 02:11:05 | [DEBUG] [WORKER] M002-2012_2034-04-R | PID #7924\n",
      "2019-09-03 02:11:05 | [DEBUG] [WORKER] M032-2012_2949-04-R | PID #7928\n",
      "2019-09-03 02:11:05 | [DEBUG] [WORKER] M001-2012_1681-05-R | PID #7927\n",
      "2019-09-03 02:11:05 | [DEBUG] [WORKER] M009-2012_2901-14-R | PID #7925\n",
      "2019-09-03 02:11:05 | [DEBUG] [WORKER] M030-2012_1472-04-R | PID #7926\n",
      "2019-09-03 02:11:05 | [DEBUG] [WORKER] PID #7920 DONE.\n",
      "2019-09-03 02:11:05 | [DEBUG] [WORKER] PID #7925 DONE.\n",
      "2019-09-03 02:11:05 | [DEBUG] [WORKER] PID #7919 DONE.\n",
      "2019-09-03 02:11:05 | [DEBUG] [WORKER] PID #7926 DONE.\n",
      "2019-09-03 02:11:05 | [DEBUG] [WORKER] M031-2012_2263-05-R | PID #7920\n",
      "2019-09-03 02:11:05 | [DEBUG] [WORKER] PID #7921 DONE.\n",
      "2019-09-03 02:11:05 | [DEBUG] [WORKER] PID #7924 DONE.\n",
      "2019-09-03 02:11:05 | [DEBUG] [WORKER] M026-2012_1102-08-R | PID #7925\n",
      "2019-09-03 02:11:05 | [DEBUG] [WORKER] M008-2012_2101-04-R | PID #7926\n",
      "2019-09-03 02:11:06 | [DEBUG] [WORKER] PID #7920 DONE.\n",
      "2019-09-03 02:11:06 | [DEBUG] [WORKER] M033-2012_2074-05-R | PID #7919\n",
      "2019-09-03 02:11:06 | [DEBUG] [WORKER] PID #7919 DONE.\n",
      "2019-09-03 02:11:06 | [DEBUG] [WORKER] M029-2012_1819-10-R | PID #7921\n",
      "2019-09-03 02:11:06 | [DEBUG] [WORKER] PID #7926 DONE.\n",
      "2019-09-03 02:11:06 | [DEBUG] [WORKER] M022-2012_1285-07-R | PID #7924\n",
      "2019-09-03 02:11:06 | [DEBUG] [WORKER] PID #7921 DONE.\n",
      "2019-09-03 02:11:06 | [DEBUG] [WORKER] M011-2012_0798-03-R | PID #7919\n",
      "2019-09-03 02:11:06 | [DEBUG] [WORKER] PID #7925 DONE.\n",
      "2019-09-03 02:11:06 | [DEBUG] [WORKER] PID #7927 DONE.\n",
      "2019-09-03 02:11:06 | [DEBUG] [WORKER] M025-2012_2969-02-R | PID #7920\n",
      "2019-09-03 02:11:06 | [DEBUG] [WORKER] M003-2012_2132-06-R | PID #7926\n",
      "2019-09-03 02:11:06 | [DEBUG] [WORKER] PID #7919 DONE.\n",
      "2019-09-03 02:11:06 | [DEBUG] [WORKER] PID #7920 DONE.\n",
      "2019-09-03 02:11:06 | [DEBUG] [WORKER] M014-2012_0381-04-R | PID #7921\n"
     ]
    },
    {
     "name": "stdout",
     "output_type": "stream",
     "text": [
      "\b\b\b\b\b\b\b\b\b\b\b\b\b\b\b\b\b\b\b\b\b\b\b\b\b\b\b\b\b\b\b\b\b\b\b\b\b\b\b\b\b\b\b\b\b\b\b\b\b\b\b\b\b\b\b\b\b\b\b\b\b\b\b\b\b\b\b\b\b\b\b\b\b\b\b\b\b\b\b\b\b\b\b\b\b\b\b\b\b\b\b\b\b\b\b\b\b\b\b\b\b\b\b\b\b\b\b\b\b\b\b\b\b\b\b\b\b\b\b\b\b\b\b\b\b\b\b\b\b\b\b\b\b\r",
      "1200/2000 [=================>............] - ETA: 30:34 - loss: 0.6850 - binary_accuracy: 0.6115 - precision: 0.6852 - recall: 0.3647"
     ]
    },
    {
     "name": "stderr",
     "output_type": "stream",
     "text": [
      "2019-09-03 02:11:06 | [DEBUG] [WORKER] PID #7926 DONE.\n",
      "2019-09-03 02:11:07 | [DEBUG] [WORKER] PID #7924 DONE.\n",
      "2019-09-03 02:11:07 | [DEBUG] [WORKER] PID #7928 DONE.\n",
      "2019-09-03 02:11:08 | [DEBUG] [WORKER] PID #7921 DONE.\n",
      "2019-09-03 02:11:08 | [DEBUG] [WORKER] PID #7922 DONE.\n",
      "2019-09-03 02:11:08 | [DEBUG] [WORKER] PID #7923 DONE.\n"
     ]
    },
    {
     "name": "stdout",
     "output_type": "stream",
     "text": [
      "\b\b\b\b\b\b\b\b\b\b\b\b\b\b\b\b\b\b\b\b\b\b\b\b\b\b\b\b\b\b\b\b\b\b\b\b\b\b\b\b\b\b\b\b\b\b\b\b\b\b\b\b\b\b\b\b\b\b\b\b\b\b\b\b\b\b\b\b\b\b\b\b\b\b\b\b\b\b\b\b\b\b\b\b\b\b\b\b\b\b\b\b\b\b\b\b\b\b\b\b\b\b\b\b\b\b\b\b\b\b\b\b\b\b\b\b\b\b\b\b\b\b\b\b\b\b\b\b\b\b\b\b\b\r",
      "1201/2000 [=================>............] - ETA: 30:31 - loss: 0.6850 - binary_accuracy: 0.6115 - precision: 0.6852 - recall: 0.3646"
     ]
    },
    {
     "name": "stderr",
     "output_type": "stream",
     "text": [
      "2019-09-03 02:11:09 | [DEBUG] [PROCESS] Concatenating\n",
      "2019-09-03 02:11:09 | [DEBUG] [PROCESS] Storing filenames\n",
      "2019-09-03 02:11:09 | [DEBUG] [PROCESS] Returning\n"
     ]
    },
    {
     "name": "stdout",
     "output_type": "stream",
     "text": [
      "1298/2000 [==================>...........] - ETA: 26:22 - loss: 0.6849 - binary_accuracy: 0.6115 - precision: 0.6881 - recall: 0.3620"
     ]
    },
    {
     "name": "stderr",
     "output_type": "stream",
     "text": [
      "2019-09-03 02:14:01 | [DEBUG] [PROCESS] Prepating chunk...\n",
      "2019-09-03 02:14:02 | [DEBUG] [PROCESS] Pooling\n"
     ]
    },
    {
     "name": "stdout",
     "output_type": "stream",
     "text": [
      "\b\b\b\b\b\b\b\b\b\b\b\b\b\b\b\b\b\b\b\b\b\b\b\b\b\b\b\b\b\b\b\b\b\b\b\b\b\b\b\b\b\b\b\b\b\b\b\b\b\b\b\b\b\b\b\b\b\b\b\b\b\b\b\b\b\b\b\b\b\b\b\b\b\b\b\b\b\b\b\b\b\b\b\b\b\b\b\b\b\b\b\b\b\b\b\b\b\b\b\b\b\b\b\b\b\b\b\b\b\b\b\b\b\b\b\b\b\b\b\b\b\b\b\b\b\b\b\b\b\b\b\b\b\r",
      "1299/2000 [==================>...........] - ETA: 26:19 - loss: 0.6849 - binary_accuracy: 0.6116 - precision: 0.6880 - recall: 0.3620"
     ]
    },
    {
     "name": "stderr",
     "output_type": "stream",
     "text": [
      "2019-09-03 02:14:03 | [DEBUG] [WORKER] M024-2012_0874-07-R | PID #8222\n",
      "2019-09-03 02:14:03 | [DEBUG] [WORKER] M018-2012_1202-06-R | PID #8223\n",
      "2019-09-03 02:14:03 | [DEBUG] [WORKER] M017-2012_4649-14-R | PID #8226\n",
      "2019-09-03 02:14:03 | [DEBUG] [WORKER] M021-2012_1098-03-R | PID #8224\n",
      "2019-09-03 02:14:03 | [DEBUG] [WORKER] M019-2012_1157-08-R | PID #8225\n",
      "2019-09-03 02:14:03 | [DEBUG] [WORKER] M002-2012_2034-04-R | PID #8231\n",
      "2019-09-03 02:14:03 | [DEBUG] [WORKER] M030-2012_1472-04-R | PID #8228\n",
      "2019-09-03 02:14:03 | [DEBUG] [WORKER] M003-2012_2132-06-R | PID #8229\n",
      "2019-09-03 02:14:03 | [DEBUG] [WORKER] M001-2012_1681-05-R | PID #8232\n",
      "2019-09-03 02:14:03 | [DEBUG] [WORKER] M009-2012_2901-14-R | PID #8230\n",
      "2019-09-03 02:14:03 | [DEBUG] [WORKER] PID #8223 DONE.\n",
      "2019-09-03 02:14:03 | [DEBUG] [WORKER] PID #8230 DONE.\n",
      "2019-09-03 02:14:03 | [DEBUG] [WORKER] PID #8228 DONE.\n",
      "2019-09-03 02:14:03 | [DEBUG] [WORKER] PID #8222 DONE.\n",
      "2019-09-03 02:14:03 | [DEBUG] [WORKER] M031-2012_2263-05-R | PID #8223\n",
      "2019-09-03 02:14:03 | [DEBUG] [WORKER] PID #8229 DONE.\n",
      "2019-09-03 02:14:03 | [DEBUG] [WORKER] PID #8224 DONE.\n",
      "2019-09-03 02:14:03 | [DEBUG] [WORKER] M026-2012_1102-08-R | PID #8228\n",
      "2019-09-03 02:14:03 | [DEBUG] [WORKER] PID #8231 DONE.\n",
      "2019-09-03 02:14:03 | [DEBUG] [WORKER] M008-2012_2101-04-R | PID #8230\n",
      "2019-09-03 02:14:03 | [DEBUG] [WORKER] M033-2012_2074-05-R | PID #8224\n",
      "2019-09-03 02:14:03 | [DEBUG] [WORKER] PID #8223 DONE.\n",
      "2019-09-03 02:14:03 | [DEBUG] [WORKER] PID #8224 DONE.\n",
      "2019-09-03 02:14:03 | [DEBUG] [WORKER] M011-2012_0798-03-R | PID #8222\n",
      "2019-09-03 02:14:03 | [DEBUG] [WORKER] PID #8230 DONE.\n",
      "2019-09-03 02:14:03 | [DEBUG] [WORKER] M022-2012_1285-07-R | PID #8229\n",
      "2019-09-03 02:14:03 | [DEBUG] [WORKER] PID #8228 DONE.\n",
      "2019-09-03 02:14:03 | [DEBUG] [WORKER] PID #8222 DONE.\n",
      "2019-09-03 02:14:04 | [DEBUG] [WORKER] PID #8232 DONE.\n",
      "2019-09-03 02:14:04 | [DEBUG] [WORKER] M029-2012_1819-10-R | PID #8224\n",
      "2019-09-03 02:14:04 | [DEBUG] [WORKER] M025-2012_2969-02-R | PID #8231\n",
      "2019-09-03 02:14:04 | [DEBUG] [WORKER] PID #8224 DONE.\n",
      "2019-09-03 02:14:04 | [DEBUG] [WORKER] PID #8231 DONE.\n",
      "2019-09-03 02:14:04 | [DEBUG] [WORKER] M032-2012_2949-04-R | PID #8223\n",
      "2019-09-03 02:14:04 | [DEBUG] [WORKER] M014-2012_0381-04-R | PID #8230\n"
     ]
    },
    {
     "name": "stdout",
     "output_type": "stream",
     "text": [
      "\b\b\b\b\b\b\b\b\b\b\b\b\b\b\b\b\b\b\b\b\b\b\b\b\b\b\b\b\b\b\b\b\b\b\b\b\b\b\b\b\b\b\b\b\b\b\b\b\b\b\b\b\b\b\b\b\b\b\b\b\b\b\b\b\b\b\b\b\b\b\b\b\b\b\b\b\b\b\b\b\b\b\b\b\b\b\b\b\b\b\b\b\b\b\b\b\b\b\b\b\b\b\b\b\b\b\b\b\b\b\b\b\b\b\b\b\b\b\b\b\b\b\b\b\b\b\b\b\b\b\b\b\b\r",
      "1300/2000 [==================>...........] - ETA: 26:17 - loss: 0.6849 - binary_accuracy: 0.6116 - precision: 0.6882 - recall: 0.3620"
     ]
    },
    {
     "name": "stderr",
     "output_type": "stream",
     "text": [
      "2019-09-03 02:14:04 | [DEBUG] [WORKER] PID #8229 DONE.\n"
     ]
    },
    {
     "name": "stdout",
     "output_type": "stream",
     "text": [
      "\b\b\b\b\b\b\b\b\b\b\b\b\b\b\b\b\b\b\b\b\b\b\b\b\b\b\b\b\b\b\b\b\b\b\b\b\b\b\b\b\b\b\b\b\b\b\b\b\b\b\b\b\b\b\b\b\b\b\b\b\b\b\b\b\b\b\b\b\b\b\b\b\b\b\b\b\b\b\b\b\b\b\b\b\b\b\b\b\b\b\b\b\b\b\b\b\b\b\b\b\b\b\b\b\b\b\b\b\b\b\b\b\b\b\b\b\b\b\b\b\b\b\b\b\b\b\b\b\b\b\b\b\b\r",
      "1301/2000 [==================>...........] - ETA: 26:14 - loss: 0.6849 - binary_accuracy: 0.6115 - precision: 0.6882 - recall: 0.3618"
     ]
    },
    {
     "name": "stderr",
     "output_type": "stream",
     "text": [
      "2019-09-03 02:14:06 | [DEBUG] [WORKER] PID #8223 DONE.\n",
      "2019-09-03 02:14:06 | [DEBUG] [WORKER] PID #8230 DONE.\n",
      "2019-09-03 02:14:07 | [DEBUG] [WORKER] PID #8226 DONE.\n",
      "2019-09-03 02:14:07 | [DEBUG] [WORKER] PID #8225 DONE.\n",
      "2019-09-03 02:14:08 | [DEBUG] [PROCESS] Concatenating\n",
      "2019-09-03 02:14:08 | [DEBUG] [PROCESS] Storing filenames\n",
      "2019-09-03 02:14:08 | [DEBUG] [PROCESS] Returning\n"
     ]
    },
    {
     "name": "stdout",
     "output_type": "stream",
     "text": [
      "1398/2000 [===================>..........] - ETA: 22:16 - loss: 0.6843 - binary_accuracy: 0.6132 - precision: 0.6926 - recall: 0.3609"
     ]
    },
    {
     "name": "stderr",
     "output_type": "stream",
     "text": [
      "2019-09-03 02:16:58 | [DEBUG] [PROCESS] Prepating chunk...\n",
      "2019-09-03 02:16:59 | [DEBUG] [PROCESS] Pooling\n"
     ]
    },
    {
     "name": "stdout",
     "output_type": "stream",
     "text": [
      "\b\b\b\b\b\b\b\b\b\b\b\b\b\b\b\b\b\b\b\b\b\b\b\b\b\b\b\b\b\b\b\b\b\b\b\b\b\b\b\b\b\b\b\b\b\b\b\b\b\b\b\b\b\b\b\b\b\b\b\b\b\b\b\b\b\b\b\b\b\b\b\b\b\b\b\b\b\b\b\b\b\b\b\b\b\b\b\b\b\b\b\b\b\b\b\b\b\b\b\b\b\b\b\b\b\b\b\b\b\b\b\b\b\b\b\b\b\b\b\b\b\b\b\b\b\b\b\b\b\b\b\b\b\r",
      "1399/2000 [===================>..........] - ETA: 22:13 - loss: 0.6843 - binary_accuracy: 0.6133 - precision: 0.6928 - recall: 0.3610"
     ]
    },
    {
     "name": "stderr",
     "output_type": "stream",
     "text": [
      "2019-09-03 02:16:59 | [DEBUG] [WORKER] M024-2012_0874-07-R | PID #8461\n",
      "2019-09-03 02:16:59 | [DEBUG] [WORKER] M018-2012_1202-06-R | PID #8462\n",
      "2019-09-03 02:16:59 | [DEBUG] [WORKER] M021-2012_1098-03-R | PID #8463\n",
      "2019-09-03 02:16:59 | [DEBUG] [WORKER] M019-2012_1157-08-R | PID #8464\n",
      "2019-09-03 02:16:59 | [DEBUG] [WORKER] M030-2012_1472-04-R | PID #8465\n",
      "2019-09-03 02:16:59 | [DEBUG] [WORKER] M017-2012_4649-14-R | PID #8466\n",
      "2019-09-03 02:16:59 | [DEBUG] [WORKER] M009-2012_2901-14-R | PID #8467\n",
      "2019-09-03 02:16:59 | [DEBUG] [WORKER] M002-2012_2034-04-R | PID #8468\n",
      "2019-09-03 02:16:59 | [DEBUG] [WORKER] M001-2012_1681-05-R | PID #8469\n",
      "2019-09-03 02:16:59 | [DEBUG] [WORKER] M032-2012_2949-04-R | PID #8470\n",
      "2019-09-03 02:17:00 | [DEBUG] [WORKER] PID #8462 DONE.\n",
      "2019-09-03 02:17:00 | [DEBUG] [WORKER] PID #8467 DONE.\n",
      "2019-09-03 02:17:00 | [DEBUG] [WORKER] PID #8465 DONE.\n",
      "2019-09-03 02:17:00 | [DEBUG] [WORKER] PID #8461 DONE.\n",
      "2019-09-03 02:17:00 | [DEBUG] [WORKER] PID #8463 DONE.\n",
      "2019-09-03 02:17:00 | [DEBUG] [WORKER] M026-2012_1102-08-R | PID #8462\n",
      "2019-09-03 02:17:00 | [DEBUG] [WORKER] PID #8468 DONE.\n",
      "2019-09-03 02:17:00 | [DEBUG] [WORKER] M008-2012_2101-04-R | PID #8467\n",
      "2019-09-03 02:17:00 | [DEBUG] [WORKER] M014-2012_0381-04-R | PID #8465\n",
      "2019-09-03 02:17:00 | [DEBUG] [WORKER] PID #8467 DONE.\n",
      "2019-09-03 02:17:00 | [DEBUG] [WORKER] M011-2012_0798-03-R | PID #8461\n",
      "2019-09-03 02:17:00 | [DEBUG] [WORKER] PID #8462 DONE.\n",
      "2019-09-03 02:17:00 | [DEBUG] [WORKER] M022-2012_1285-07-R | PID #8463\n",
      "2019-09-03 02:17:00 | [DEBUG] [WORKER] PID #8461 DONE.\n",
      "2019-09-03 02:17:00 | [DEBUG] [WORKER] PID #8469 DONE.\n",
      "2019-09-03 02:17:00 | [DEBUG] [WORKER] M029-2012_1819-10-R | PID #8468\n",
      "2019-09-03 02:17:00 | [DEBUG] [WORKER] PID #8468 DONE.\n",
      "2019-09-03 02:17:00 | [DEBUG] [WORKER] M025-2012_2969-02-R | PID #8462\n",
      "2019-09-03 02:17:01 | [DEBUG] [WORKER] M003-2012_2132-06-R | PID #8467\n",
      "2019-09-03 02:17:01 | [DEBUG] [WORKER] PID #8462 DONE.\n",
      "2019-09-03 02:17:01 | [DEBUG] [WORKER] PID #8467 DONE.\n",
      "2019-09-03 02:17:01 | [DEBUG] [WORKER] M033-2012_2074-05-R | PID #8461\n",
      "2019-09-03 02:17:01 | [DEBUG] [WORKER] PID #8463 DONE.\n",
      "2019-09-03 02:17:01 | [DEBUG] [WORKER] PID #8461 DONE.\n",
      "2019-09-03 02:17:01 | [DEBUG] [WORKER] M031-2012_2263-05-R | PID #8469\n"
     ]
    },
    {
     "name": "stdout",
     "output_type": "stream",
     "text": [
      "\b\b\b\b\b\b\b\b\b\b\b\b\b\b\b\b\b\b\b\b\b\b\b\b\b\b\b\b\b\b\b\b\b\b\b\b\b\b\b\b\b\b\b\b\b\b\b\b\b\b\b\b\b\b\b\b\b\b\b\b\b\b\b\b\b\b\b\b\b\b\b\b\b\b\b\b\b\b\b\b\b\b\b\b\b\b\b\b\b\b\b\b\b\b\b\b\b\b\b\b\b\b\b\b\b\b\b\b\b\b\b\b\b\b\b\b\b\b\b\b\b\b\b\b\b\b\b\b\b\b\b\b\b\r",
      "1400/2000 [====================>.........] - ETA: 22:11 - loss: 0.6844 - binary_accuracy: 0.6132 - precision: 0.6929 - recall: 0.3609"
     ]
    },
    {
     "name": "stderr",
     "output_type": "stream",
     "text": [
      "2019-09-03 02:17:01 | [DEBUG] [WORKER] PID #8470 DONE.\n",
      "2019-09-03 02:17:01 | [DEBUG] [WORKER] PID #8469 DONE.\n",
      "2019-09-03 02:17:01 | [DEBUG] [WORKER] PID #8465 DONE.\n",
      "2019-09-03 02:17:02 | [DEBUG] [WORKER] PID #8466 DONE.\n",
      "2019-09-03 02:17:02 | [DEBUG] [WORKER] PID #8464 DONE.\n"
     ]
    },
    {
     "name": "stdout",
     "output_type": "stream",
     "text": [
      "\b\b\b\b\b\b\b\b\b\b\b\b\b\b\b\b\b\b\b\b\b\b\b\b\b\b\b\b\b\b\b\b\b\b\b\b\b\b\b\b\b\b\b\b\b\b\b\b\b\b\b\b\b\b\b\b\b\b\b\b\b\b\b\b\b\b\b\b\b\b\b\b\b\b\b\b\b\b\b\b\b\b\b\b\b\b\b\b\b\b\b\b\b\b\b\b\b\b\b\b\b\b\b\b\b\b\b\b\b\b\b\b\b\b\b\b\b\b\b\b\b\b\b\b\b\b\b\b\b\b\b\b\b\r",
      "1401/2000 [====================>.........] - ETA: 22:08 - loss: 0.6844 - binary_accuracy: 0.6133 - precision: 0.6930 - recall: 0.3610"
     ]
    },
    {
     "name": "stderr",
     "output_type": "stream",
     "text": [
      "2019-09-03 02:17:03 | [DEBUG] [PROCESS] Concatenating\n",
      "2019-09-03 02:17:03 | [DEBUG] [PROCESS] Storing filenames\n",
      "2019-09-03 02:17:03 | [DEBUG] [PROCESS] Returning\n"
     ]
    },
    {
     "name": "stdout",
     "output_type": "stream",
     "text": [
      "1498/2000 [=====================>........] - ETA: 18:18 - loss: 0.6840 - binary_accuracy: 0.6143 - precision: 0.6966 - recall: 0.3587"
     ]
    },
    {
     "name": "stderr",
     "output_type": "stream",
     "text": [
      "2019-09-03 02:19:55 | [DEBUG] [PROCESS] Prepating chunk...\n",
      "2019-09-03 02:19:55 | [DEBUG] [PROCESS] Pooling\n"
     ]
    },
    {
     "name": "stdout",
     "output_type": "stream",
     "text": [
      "\b\b\b\b\b\b\b\b\b\b\b\b\b\b\b\b\b\b\b\b\b\b\b\b\b\b\b\b\b\b\b\b\b\b\b\b\b\b\b\b\b\b\b\b\b\b\b\b\b\b\b\b\b\b\b\b\b\b\b\b\b\b\b\b\b\b\b\b\b\b\b\b\b\b\b\b\b\b\b\b\b\b\b\b\b\b\b\b\b\b\b\b\b\b\b\b\b\b\b\b\b\b\b\b\b\b\b\b\b\b\b\b\b\b\b\b\b\b\b\b\b\b\b\b\b\b\b\b\b\b\b\b\b\r",
      "1499/2000 [=====================>........] - ETA: 18:16 - loss: 0.6840 - binary_accuracy: 0.6144 - precision: 0.6967 - recall: 0.3587"
     ]
    },
    {
     "name": "stderr",
     "output_type": "stream",
     "text": [
      "2019-09-03 02:19:56 | [DEBUG] [WORKER] M024-2012_0874-07-R | PID #9466\n",
      "2019-09-03 02:19:56 | [DEBUG] [WORKER] M018-2012_1202-06-R | PID #9467\n",
      "2019-09-03 02:19:56 | [DEBUG] [WORKER] M021-2012_1098-03-R | PID #9468\n",
      "2019-09-03 02:19:56 | [DEBUG] [WORKER] M019-2012_1157-08-R | PID #9469\n",
      "2019-09-03 02:19:56 | [DEBUG] [WORKER] M030-2012_1472-04-R | PID #9470\n",
      "2019-09-03 02:19:56 | [DEBUG] [WORKER] M017-2012_4649-14-R | PID #9471\n",
      "2019-09-03 02:19:56 | [DEBUG] [WORKER] M009-2012_2901-14-R | PID #9472\n",
      "2019-09-03 02:19:56 | [DEBUG] [WORKER] M001-2012_1681-05-R | PID #9474\n",
      "2019-09-03 02:19:56 | [DEBUG] [WORKER] M002-2012_2034-04-R | PID #9473\n",
      "2019-09-03 02:19:56 | [DEBUG] [WORKER] M032-2012_2949-04-R | PID #9475\n",
      "2019-09-03 02:19:56 | [DEBUG] [WORKER] PID #9467 DONE.\n",
      "2019-09-03 02:19:56 | [DEBUG] [WORKER] PID #9470 DONE.\n",
      "2019-09-03 02:19:56 | [DEBUG] [WORKER] PID #9472 DONE.\n",
      "2019-09-03 02:19:56 | [DEBUG] [WORKER] PID #9466 DONE.\n",
      "2019-09-03 02:19:56 | [DEBUG] [WORKER] PID #9473 DONE.\n",
      "2019-09-03 02:19:56 | [DEBUG] [WORKER] M026-2012_1102-08-R | PID #9470\n",
      "2019-09-03 02:19:56 | [DEBUG] [WORKER] PID #9468 DONE.\n",
      "2019-09-03 02:19:57 | [DEBUG] [WORKER] M008-2012_2101-04-R | PID #9467\n",
      "2019-09-03 02:19:57 | [DEBUG] [WORKER] M014-2012_0381-04-R | PID #9472\n",
      "2019-09-03 02:19:57 | [DEBUG] [WORKER] PID #9467 DONE.\n",
      "2019-09-03 02:19:57 | [DEBUG] [WORKER] M011-2012_0798-03-R | PID #9468\n",
      "2019-09-03 02:19:57 | [DEBUG] [WORKER] PID #9470 DONE.\n",
      "2019-09-03 02:19:57 | [DEBUG] [WORKER] M022-2012_1285-07-R | PID #9473\n",
      "2019-09-03 02:19:57 | [DEBUG] [WORKER] PID #9468 DONE.\n",
      "2019-09-03 02:19:57 | [DEBUG] [WORKER] M029-2012_1819-10-R | PID #9466\n",
      "2019-09-03 02:19:57 | [DEBUG] [WORKER] M025-2012_2969-02-R | PID #9467\n",
      "2019-09-03 02:19:57 | [DEBUG] [WORKER] M003-2012_2132-06-R | PID #9470\n",
      "2019-09-03 02:19:57 | [DEBUG] [WORKER] PID #9474 DONE.\n",
      "2019-09-03 02:19:57 | [DEBUG] [WORKER] M033-2012_2074-05-R | PID #9468\n",
      "2019-09-03 02:19:57 | [DEBUG] [WORKER] PID #9467 DONE.\n",
      "2019-09-03 02:19:57 | [DEBUG] [WORKER] PID #9466 DONE.\n",
      "2019-09-03 02:19:57 | [DEBUG] [WORKER] PID #9470 DONE.\n",
      "2019-09-03 02:19:57 | [DEBUG] [WORKER] PID #9468 DONE.\n",
      "2019-09-03 02:19:57 | [DEBUG] [WORKER] M031-2012_2263-05-R | PID #9474\n",
      "2019-09-03 02:19:58 | [DEBUG] [WORKER] PID #9474 DONE.\n",
      "2019-09-03 02:19:58 | [DEBUG] [WORKER] PID #9473 DONE.\n"
     ]
    },
    {
     "name": "stdout",
     "output_type": "stream",
     "text": [
      "\b\b\b\b\b\b\b\b\b\b\b\b\b\b\b\b\b\b\b\b\b\b\b\b\b\b\b\b\b\b\b\b\b\b\b\b\b\b\b\b\b\b\b\b\b\b\b\b\b\b\b\b\b\b\b\b\b\b\b\b\b\b\b\b\b\b\b\b\b\b\b\b\b\b\b\b\b\b\b\b\b\b\b\b\b\b\b\b\b\b\b\b\b\b\b\b\b\b\b\b\b\b\b\b\b\b\b\b\b\b\b\b\b\b\b\b\b\b\b\b\b\b\b\b\b\b\b\b\b\b\b\b\b\r",
      "1500/2000 [=====================>........] - ETA: 18:14 - loss: 0.6840 - binary_accuracy: 0.6145 - precision: 0.6968 - recall: 0.3588"
     ]
    },
    {
     "name": "stderr",
     "output_type": "stream",
     "text": [
      "2019-09-03 02:19:59 | [DEBUG] [WORKER] PID #9475 DONE.\n",
      "2019-09-03 02:19:59 | [DEBUG] [WORKER] PID #9472 DONE.\n",
      "2019-09-03 02:20:00 | [DEBUG] [WORKER] PID #9469 DONE.\n",
      "2019-09-03 02:20:00 | [DEBUG] [WORKER] PID #9471 DONE.\n"
     ]
    },
    {
     "name": "stdout",
     "output_type": "stream",
     "text": [
      "\b\b\b\b\b\b\b\b\b\b\b\b\b\b\b\b\b\b\b\b\b\b\b\b\b\b\b\b\b\b\b\b\b\b\b\b\b\b\b\b\b\b\b\b\b\b\b\b\b\b\b\b\b\b\b\b\b\b\b\b\b\b\b\b\b\b\b\b\b\b\b\b\b\b\b\b\b\b\b\b\b\b\b\b\b\b\b\b\b\b\b\b\b\b\b\b\b\b\b\b\b\b\b\b\b\b\b\b\b\b\b\b\b\b\b\b\b\b\b\b\b\b\b\b\b\b\b\b\b\b\b\b\b\r",
      "1501/2000 [=====================>........] - ETA: 18:12 - loss: 0.6839 - binary_accuracy: 0.6145 - precision: 0.6969 - recall: 0.3587"
     ]
    },
    {
     "name": "stderr",
     "output_type": "stream",
     "text": [
      "2019-09-03 02:20:00 | [DEBUG] [PROCESS] Concatenating\n",
      "2019-09-03 02:20:01 | [DEBUG] [PROCESS] Storing filenames\n",
      "2019-09-03 02:20:01 | [DEBUG] [PROCESS] Returning\n"
     ]
    },
    {
     "name": "stdout",
     "output_type": "stream",
     "text": [
      "1598/2000 [======================>.......] - ETA: 14:29 - loss: 0.6835 - binary_accuracy: 0.6153 - precision: 0.7023 - recall: 0.3545"
     ]
    },
    {
     "name": "stderr",
     "output_type": "stream",
     "text": [
      "2019-09-03 02:22:51 | [DEBUG] [PROCESS] Prepating chunk...\n",
      "2019-09-03 02:22:52 | [DEBUG] [PROCESS] Pooling\n"
     ]
    },
    {
     "name": "stdout",
     "output_type": "stream",
     "text": [
      "\b\b\b\b\b\b\b\b\b\b\b\b\b\b\b\b\b\b\b\b\b\b\b\b\b\b\b\b\b\b\b\b\b\b\b\b\b\b\b\b\b\b\b\b\b\b\b\b\b\b\b\b\b\b\b\b\b\b\b\b\b\b\b\b\b\b\b\b\b\b\b\b\b\b\b\b\b\b\b\b\b\b\b\b\b\b\b\b\b\b\b\b\b\b\b\b\b\b\b\b\b\b\b\b\b\b\b\b\b\b\b\b\b\b\b\b\b\b\b\b\b\b\b\b\b\b\b\b\b\b\b\b\b\r",
      "1599/2000 [======================>.......] - ETA: 14:27 - loss: 0.6835 - binary_accuracy: 0.6153 - precision: 0.7024 - recall: 0.3545"
     ]
    },
    {
     "name": "stderr",
     "output_type": "stream",
     "text": [
      "2019-09-03 02:22:53 | [DEBUG] [WORKER] M024-2012_0874-07-R | PID #9727\n",
      "2019-09-03 02:22:53 | [DEBUG] [WORKER] M018-2012_1202-06-R | PID #9729\n",
      "2019-09-03 02:22:53 | [DEBUG] [WORKER] M021-2012_1098-03-R | PID #9730\n",
      "2019-09-03 02:22:53 | [DEBUG] [WORKER] M009-2012_2901-14-R | PID #9734\n",
      "2019-09-03 02:22:53 | [DEBUG] [WORKER] M017-2012_4649-14-R | PID #9733\n",
      "2019-09-03 02:22:53 | [DEBUG] [WORKER] M002-2012_2034-04-R | PID #9735\n",
      "2019-09-03 02:22:53 | [DEBUG] [WORKER] M030-2012_1472-04-R | PID #9732\n",
      "2019-09-03 02:22:53 | [DEBUG] [WORKER] M019-2012_1157-08-R | PID #9731\n",
      "2019-09-03 02:22:53 | [DEBUG] [WORKER] M001-2012_1681-05-R | PID #9737\n",
      "2019-09-03 02:22:53 | [DEBUG] [WORKER] M032-2012_2949-04-R | PID #9738\n",
      "2019-09-03 02:22:53 | [DEBUG] [WORKER] PID #9729 DONE.\n",
      "2019-09-03 02:22:53 | [DEBUG] [WORKER] PID #9732 DONE.\n",
      "2019-09-03 02:22:53 | [DEBUG] [WORKER] PID #9727 DONE.\n",
      "2019-09-03 02:22:53 | [DEBUG] [WORKER] PID #9734 DONE.\n",
      "2019-09-03 02:22:53 | [DEBUG] [WORKER] PID #9730 DONE.\n",
      "2019-09-03 02:22:53 | [DEBUG] [WORKER] PID #9735 DONE.\n",
      "2019-09-03 02:22:53 | [DEBUG] [WORKER] M031-2012_2263-05-R | PID #9729\n",
      "2019-09-03 02:22:53 | [DEBUG] [WORKER] M026-2012_1102-08-R | PID #9732\n",
      "2019-09-03 02:22:53 | [DEBUG] [WORKER] M008-2012_2101-04-R | PID #9734\n",
      "2019-09-03 02:22:53 | [DEBUG] [WORKER] PID #9729 DONE.\n",
      "2019-09-03 02:22:53 | [DEBUG] [WORKER] M033-2012_2074-05-R | PID #9727\n",
      "2019-09-03 02:22:53 | [DEBUG] [WORKER] PID #9727 DONE.\n",
      "2019-09-03 02:22:53 | [DEBUG] [WORKER] M029-2012_1819-10-R | PID #9730\n",
      "2019-09-03 02:22:53 | [DEBUG] [WORKER] PID #9734 DONE.\n",
      "2019-09-03 02:22:54 | [DEBUG] [WORKER] M022-2012_1285-07-R | PID #9735\n",
      "2019-09-03 02:22:54 | [DEBUG] [WORKER] PID #9730 DONE.\n",
      "2019-09-03 02:22:54 | [DEBUG] [WORKER] M011-2012_0798-03-R | PID #9727\n",
      "2019-09-03 02:22:54 | [DEBUG] [WORKER] PID #9732 DONE.\n",
      "2019-09-03 02:22:54 | [DEBUG] [WORKER] PID #9727 DONE.\n",
      "2019-09-03 02:22:54 | [DEBUG] [WORKER] M025-2012_2969-02-R | PID #9729\n",
      "2019-09-03 02:22:54 | [DEBUG] [WORKER] PID #9737 DONE.\n",
      "2019-09-03 02:22:54 | [DEBUG] [WORKER] M003-2012_2132-06-R | PID #9734\n",
      "2019-09-03 02:22:54 | [DEBUG] [WORKER] PID #9729 DONE.\n",
      "2019-09-03 02:22:54 | [DEBUG] [WORKER] M014-2012_0381-04-R | PID #9730\n",
      "2019-09-03 02:22:54 | [DEBUG] [WORKER] PID #9734 DONE.\n"
     ]
    },
    {
     "name": "stdout",
     "output_type": "stream",
     "text": [
      "\b\b\b\b\b\b\b\b\b\b\b\b\b\b\b\b\b\b\b\b\b\b\b\b\b\b\b\b\b\b\b\b\b\b\b\b\b\b\b\b\b\b\b\b\b\b\b\b\b\b\b\b\b\b\b\b\b\b\b\b\b\b\b\b\b\b\b\b\b\b\b\b\b\b\b\b\b\b\b\b\b\b\b\b\b\b\b\b\b\b\b\b\b\b\b\b\b\b\b\b\b\b\b\b\b\b\b\b\b\b\b\b\b\b\b\b\b\b\b\b\b\b\b\b\b\b\b\b\b\b\b\b\b\r",
      "1600/2000 [=======================>......] - ETA: 14:24 - loss: 0.6834 - binary_accuracy: 0.6155 - precision: 0.7025 - recall: 0.3545"
     ]
    },
    {
     "name": "stderr",
     "output_type": "stream",
     "text": [
      "2019-09-03 02:22:55 | [DEBUG] [WORKER] PID #9735 DONE.\n",
      "2019-09-03 02:22:55 | [DEBUG] [WORKER] PID #9738 DONE.\n",
      "2019-09-03 02:22:56 | [DEBUG] [WORKER] PID #9733 DONE.\n"
     ]
    },
    {
     "name": "stdout",
     "output_type": "stream",
     "text": [
      "\b\b\b\b\b\b\b\b\b\b\b\b\b\b\b\b\b\b\b\b\b\b\b\b\b\b\b\b\b\b\b\b\b\b\b\b\b\b\b\b\b\b\b\b\b\b\b\b\b\b\b\b\b\b\b\b\b\b\b\b\b\b\b\b\b\b\b\b\b\b\b\b\b\b\b\b\b\b\b\b\b\b\b\b\b\b\b\b\b\b\b\b\b\b\b\b\b\b\b\b\b\b\b\b\b\b\b\b\b\b\b\b\b\b\b\b\b\b\b\b\b\b\b\b\b\b\b\b\b\b\b\b\b\r",
      "1601/2000 [=======================>......] - ETA: 14:22 - loss: 0.6834 - binary_accuracy: 0.6155 - precision: 0.7025 - recall: 0.3544"
     ]
    },
    {
     "name": "stderr",
     "output_type": "stream",
     "text": [
      "2019-09-03 02:22:56 | [DEBUG] [WORKER] PID #9730 DONE.\n",
      "2019-09-03 02:22:56 | [DEBUG] [WORKER] PID #9731 DONE.\n",
      "2019-09-03 02:22:57 | [DEBUG] [PROCESS] Concatenating\n",
      "2019-09-03 02:22:57 | [DEBUG] [PROCESS] Storing filenames\n",
      "2019-09-03 02:22:57 | [DEBUG] [PROCESS] Returning\n"
     ]
    },
    {
     "name": "stdout",
     "output_type": "stream",
     "text": [
      "1698/2000 [========================>.....] - ETA: 10:45 - loss: 0.6829 - binary_accuracy: 0.6169 - precision: 0.7096 - recall: 0.3516"
     ]
    },
    {
     "name": "stderr",
     "output_type": "stream",
     "text": [
      "2019-09-03 02:25:46 | [DEBUG] [PROCESS] Prepating chunk...\n",
      "2019-09-03 02:25:47 | [DEBUG] [PROCESS] Pooling\n"
     ]
    },
    {
     "name": "stdout",
     "output_type": "stream",
     "text": [
      "\b\b\b\b\b\b\b\b\b\b\b\b\b\b\b\b\b\b\b\b\b\b\b\b\b\b\b\b\b\b\b\b\b\b\b\b\b\b\b\b\b\b\b\b\b\b\b\b\b\b\b\b\b\b\b\b\b\b\b\b\b\b\b\b\b\b\b\b\b\b\b\b\b\b\b\b\b\b\b\b\b\b\b\b\b\b\b\b\b\b\b\b\b\b\b\b\b\b\b\b\b\b\b\b\b\b\b\b\b\b\b\b\b\b\b\b\b\b\b\b\b\b\b\b\b\b\b\b\b\b\b\b\b\r",
      "1699/2000 [========================>.....] - ETA: 10:43 - loss: 0.6829 - binary_accuracy: 0.6169 - precision: 0.7098 - recall: 0.3516"
     ]
    },
    {
     "name": "stderr",
     "output_type": "stream",
     "text": [
      "2019-09-03 02:25:48 | [DEBUG] [WORKER] M018-2012_1202-06-R | PID #10024\n",
      "2019-09-03 02:25:48 | [DEBUG] [WORKER] M024-2012_0874-07-R | PID #10023\n",
      "2019-09-03 02:25:48 | [DEBUG] [WORKER] M021-2012_1098-03-R | PID #10025\n",
      "2019-09-03 02:25:48 | [DEBUG] [WORKER] M031-2012_2263-05-R | PID #10031\n",
      "2019-09-03 02:25:48 | [DEBUG] [WORKER] M009-2012_2901-14-R | PID #10029\n",
      "2019-09-03 02:25:48 | [DEBUG] [WORKER] M032-2012_2949-04-R | PID #10027\n",
      "2019-09-03 02:25:48 | [DEBUG] [WORKER] M017-2012_4649-14-R | PID #10028\n",
      "2019-09-03 02:25:48 | [DEBUG] [WORKER] M001-2012_1681-05-R | PID #10032\n",
      "2019-09-03 02:25:48 | [DEBUG] [WORKER] M030-2012_1472-04-R | PID #10030\n",
      "2019-09-03 02:25:48 | [DEBUG] [WORKER] M019-2012_1157-08-R | PID #10026\n",
      "2019-09-03 02:25:48 | [DEBUG] [WORKER] PID #10024 DONE.\n",
      "2019-09-03 02:25:48 | [DEBUG] [WORKER] PID #10029 DONE.\n",
      "2019-09-03 02:25:48 | [DEBUG] [WORKER] PID #10030 DONE.\n",
      "2019-09-03 02:25:48 | [DEBUG] [WORKER] PID #10023 DONE.\n",
      "2019-09-03 02:25:48 | [DEBUG] [WORKER] PID #10031 DONE.\n",
      "2019-09-03 02:25:48 | [DEBUG] [WORKER] PID #10025 DONE.\n",
      "2019-09-03 02:25:48 | [DEBUG] [WORKER] M002-2012_2034-04-R | PID #10024\n",
      "2019-09-03 02:25:48 | [DEBUG] [WORKER] M026-2012_1102-08-R | PID #10029\n",
      "2019-09-03 02:25:48 | [DEBUG] [WORKER] M008-2012_2101-04-R | PID #10030\n",
      "2019-09-03 02:25:48 | [DEBUG] [WORKER] PID #10024 DONE.\n",
      "2019-09-03 02:25:48 | [DEBUG] [WORKER] M014-2012_0381-04-R | PID #10023\n",
      "2019-09-03 02:25:48 | [DEBUG] [WORKER] PID #10030 DONE.\n",
      "2019-09-03 02:25:48 | [DEBUG] [WORKER] PID #10029 DONE.\n",
      "2019-09-03 02:25:48 | [DEBUG] [WORKER] M029-2012_1819-10-R | PID #10031\n",
      "2019-09-03 02:25:49 | [DEBUG] [WORKER] PID #10032 DONE.\n",
      "2019-09-03 02:25:49 | [DEBUG] [WORKER] M022-2012_1285-07-R | PID #10025\n",
      "2019-09-03 02:25:49 | [DEBUG] [WORKER] PID #10031 DONE.\n",
      "2019-09-03 02:25:49 | [DEBUG] [WORKER] M011-2012_0798-03-R | PID #10024\n",
      "2019-09-03 02:25:49 | [DEBUG] [WORKER] M025-2012_2969-02-R | PID #10029\n",
      "2019-09-03 02:25:49 | [DEBUG] [WORKER] M003-2012_2132-06-R | PID #10030\n"
     ]
    },
    {
     "name": "stdout",
     "output_type": "stream",
     "text": [
      "\b\b\b\b\b\b\b\b\b\b\b\b\b\b\b\b\b\b\b\b\b\b\b\b\b\b\b\b\b\b\b\b\b\b\b\b\b\b\b\b\b\b\b\b\b\b\b\b\b\b\b\b\b\b\b\b\b\b\b\b\b\b\b\b\b\b\b\b\b\b\b\b\b\b\b\b\b\b\b\b\b\b\b\b\b\b\b\b\b\b\b\b\b\b\b\b\b\b\b\b\b\b\b\b\b\b\b\b\b\b\b\b\b\b\b\b\b\b\b\b\b\b\b\b\b\b\b\b\b\b\b\b\b\r",
      "1700/2000 [========================>.....] - ETA: 10:41 - loss: 0.6829 - binary_accuracy: 0.6169 - precision: 0.7098 - recall: 0.3516"
     ]
    },
    {
     "name": "stderr",
     "output_type": "stream",
     "text": [
      "2019-09-03 02:25:49 | [DEBUG] [WORKER] PID #10024 DONE.\n",
      "2019-09-03 02:25:49 | [DEBUG] [WORKER] PID #10029 DONE.\n",
      "2019-09-03 02:25:49 | [DEBUG] [WORKER] M033-2012_2074-05-R | PID #10032\n",
      "2019-09-03 02:25:49 | [DEBUG] [WORKER] PID #10030 DONE.\n",
      "2019-09-03 02:25:49 | [DEBUG] [WORKER] PID #10032 DONE.\n",
      "2019-09-03 02:25:50 | [DEBUG] [WORKER] PID #10025 DONE.\n",
      "2019-09-03 02:25:50 | [DEBUG] [WORKER] PID #10027 DONE.\n",
      "2019-09-03 02:25:51 | [DEBUG] [WORKER] PID #10023 DONE.\n",
      "2019-09-03 02:25:51 | [DEBUG] [WORKER] PID #10028 DONE.\n"
     ]
    },
    {
     "name": "stdout",
     "output_type": "stream",
     "text": [
      "\b\b\b\b\b\b\b\b\b\b\b\b\b\b\b\b\b\b\b\b\b\b\b\b\b\b\b\b\b\b\b\b\b\b\b\b\b\b\b\b\b\b\b\b\b\b\b\b\b\b\b\b\b\b\b\b\b\b\b\b\b\b\b\b\b\b\b\b\b\b\b\b\b\b\b\b\b\b\b\b\b\b\b\b\b\b\b\b\b\b\b\b\b\b\b\b\b\b\b\b\b\b\b\b\b\b\b\b\b\b\b\b\b\b\b\b\b\b\b\b\b\b\b\b\b\b\b\b\b\b\b\b\b\r",
      "1701/2000 [========================>.....] - ETA: 10:39 - loss: 0.6829 - binary_accuracy: 0.6169 - precision: 0.7100 - recall: 0.3516"
     ]
    },
    {
     "name": "stderr",
     "output_type": "stream",
     "text": [
      "2019-09-03 02:25:52 | [DEBUG] [WORKER] PID #10026 DONE.\n",
      "2019-09-03 02:25:52 | [DEBUG] [PROCESS] Concatenating\n",
      "2019-09-03 02:25:52 | [DEBUG] [PROCESS] Storing filenames\n",
      "2019-09-03 02:25:52 | [DEBUG] [PROCESS] Returning\n"
     ]
    },
    {
     "name": "stdout",
     "output_type": "stream",
     "text": [
      "1798/2000 [=========================>....] - ETA: 7:08 - loss: 0.6825 - binary_accuracy: 0.6178 - precision: 0.7154 - recall: 0.3490"
     ]
    },
    {
     "name": "stderr",
     "output_type": "stream",
     "text": [
      "2019-09-03 02:28:46 | [DEBUG] [PROCESS] Prepating chunk...\n",
      "2019-09-03 02:28:46 | [DEBUG] [PROCESS] Pooling\n"
     ]
    },
    {
     "name": "stdout",
     "output_type": "stream",
     "text": [
      "\b\b\b\b\b\b\b\b\b\b\b\b\b\b\b\b\b\b\b\b\b\b\b\b\b\b\b\b\b\b\b\b\b\b\b\b\b\b\b\b\b\b\b\b\b\b\b\b\b\b\b\b\b\b\b\b\b\b\b\b\b\b\b\b\b\b\b\b\b\b\b\b\b\b\b\b\b\b\b\b\b\b\b\b\b\b\b\b\b\b\b\b\b\b\b\b\b\b\b\b\b\b\b\b\b\b\b\b\b\b\b\b\b\b\b\b\b\b\b\b\b\b\b\b\b\b\b\b\b\b\b\b\r",
      "1799/2000 [=========================>....] - ETA: 7:05 - loss: 0.6825 - binary_accuracy: 0.6178 - precision: 0.7154 - recall: 0.3489"
     ]
    },
    {
     "name": "stderr",
     "output_type": "stream",
     "text": [
      "2019-09-03 02:28:47 | [DEBUG] [WORKER] M018-2012_1202-06-R | PID #10303\n",
      "2019-09-03 02:28:47 | [DEBUG] [WORKER] M021-2012_1098-03-R | PID #10304\n",
      "2019-09-03 02:28:47 | [DEBUG] [WORKER] M019-2012_1157-08-R | PID #10305\n",
      "2019-09-03 02:28:47 | [DEBUG] [WORKER] M024-2012_0874-07-R | PID #10302\n",
      "2019-09-03 02:28:47 | [DEBUG] [WORKER] M017-2012_4649-14-R | PID #10306\n",
      "2019-09-03 02:28:47 | [DEBUG] [WORKER] M009-2012_2901-14-R | PID #10307\n",
      "2019-09-03 02:28:47 | [DEBUG] [WORKER] M030-2012_1472-04-R | PID #10308\n",
      "2019-09-03 02:28:47 | [DEBUG] [WORKER] M001-2012_1681-05-R | PID #10310\n",
      "2019-09-03 02:28:47 | [DEBUG] [WORKER] M031-2012_2263-05-R | PID #10309\n",
      "2019-09-03 02:28:47 | [DEBUG] [WORKER] M032-2012_2949-04-R | PID #10311\n",
      "2019-09-03 02:28:47 | [DEBUG] [WORKER] PID #10303 DONE.\n",
      "2019-09-03 02:28:47 | [DEBUG] [WORKER] PID #10307 DONE.\n",
      "2019-09-03 02:28:47 | [DEBUG] [WORKER] PID #10302 DONE.\n",
      "2019-09-03 02:28:47 | [DEBUG] [WORKER] PID #10304 DONE.\n",
      "2019-09-03 02:28:47 | [DEBUG] [WORKER] PID #10308 DONE.\n",
      "2019-09-03 02:28:47 | [DEBUG] [WORKER] PID #10309 DONE.\n",
      "2019-09-03 02:28:47 | [DEBUG] [WORKER] M026-2012_1102-08-R | PID #10303\n",
      "2019-09-03 02:28:48 | [DEBUG] [WORKER] M008-2012_2101-04-R | PID #10307\n",
      "2019-09-03 02:28:48 | [DEBUG] [WORKER] M014-2012_0381-04-R | PID #10308\n",
      "2019-09-03 02:28:48 | [DEBUG] [WORKER] PID #10307 DONE.\n",
      "2019-09-03 02:28:48 | [DEBUG] [WORKER] M029-2012_1819-10-R | PID #10304\n",
      "2019-09-03 02:28:48 | [DEBUG] [WORKER] PID #10303 DONE.\n",
      "2019-09-03 02:28:48 | [DEBUG] [WORKER] M022-2012_1285-07-R | PID #10302\n",
      "2019-09-03 02:28:48 | [DEBUG] [WORKER] PID #10304 DONE.\n",
      "2019-09-03 02:28:48 | [DEBUG] [WORKER] M011-2012_0798-03-R | PID #10309\n",
      "2019-09-03 02:28:48 | [DEBUG] [WORKER] PID #10310 DONE.\n",
      "2019-09-03 02:28:48 | [DEBUG] [WORKER] M025-2012_2969-02-R | PID #10307\n",
      "2019-09-03 02:28:48 | [DEBUG] [WORKER] PID #10309 DONE.\n",
      "2019-09-03 02:28:48 | [DEBUG] [WORKER] M003-2012_2132-06-R | PID #10303\n",
      "2019-09-03 02:28:48 | [DEBUG] [WORKER] M002-2012_2034-04-R | PID #10304\n",
      "2019-09-03 02:28:48 | [DEBUG] [WORKER] PID #10307 DONE.\n",
      "2019-09-03 02:28:49 | [DEBUG] [WORKER] PID #10303 DONE.\n",
      "2019-09-03 02:28:49 | [DEBUG] [WORKER] PID #10304 DONE.\n",
      "2019-09-03 02:28:49 | [DEBUG] [WORKER] M033-2012_2074-05-R | PID #10310\n",
      "2019-09-03 02:28:49 | [DEBUG] [WORKER] PID #10310 DONE.\n",
      "2019-09-03 02:28:49 | [DEBUG] [WORKER] PID #10302 DONE.\n"
     ]
    },
    {
     "name": "stdout",
     "output_type": "stream",
     "text": [
      "\b\b\b\b\b\b\b\b\b\b\b\b\b\b\b\b\b\b\b\b\b\b\b\b\b\b\b\b\b\b\b\b\b\b\b\b\b\b\b\b\b\b\b\b\b\b\b\b\b\b\b\b\b\b\b\b\b\b\b\b\b\b\b\b\b\b\b\b\b\b\b\b\b\b\b\b\b\b\b\b\b\b\b\b\b\b\b\b\b\b\b\b\b\b\b\b\b\b\b\b\b\b\b\b\b\b\b\b\b\b\b\b\b\b\b\b\b\b\b\b\b\b\b\b\b\b\b\b\b\b\b\b\r",
      "1800/2000 [==========================>...] - ETA: 7:03 - loss: 0.6825 - binary_accuracy: 0.6178 - precision: 0.7154 - recall: 0.3489"
     ]
    },
    {
     "name": "stderr",
     "output_type": "stream",
     "text": [
      "2019-09-03 02:28:49 | [DEBUG] [WORKER] PID #10311 DONE.\n",
      "2019-09-03 02:28:50 | [DEBUG] [WORKER] PID #10308 DONE.\n",
      "2019-09-03 02:28:50 | [DEBUG] [WORKER] PID #10306 DONE.\n",
      "2019-09-03 02:28:51 | [DEBUG] [WORKER] PID #10305 DONE.\n"
     ]
    },
    {
     "name": "stdout",
     "output_type": "stream",
     "text": [
      "\b\b\b\b\b\b\b\b\b\b\b\b\b\b\b\b\b\b\b\b\b\b\b\b\b\b\b\b\b\b\b\b\b\b\b\b\b\b\b\b\b\b\b\b\b\b\b\b\b\b\b\b\b\b\b\b\b\b\b\b\b\b\b\b\b\b\b\b\b\b\b\b\b\b\b\b\b\b\b\b\b\b\b\b\b\b\b\b\b\b\b\b\b\b\b\b\b\b\b\b\b\b\b\b\b\b\b\b\b\b\b\b\b\b\b\b\b\b\b\b\b\b\b\b\b\b\b\b\b\b\b\b\r",
      "1801/2000 [==========================>...] - ETA: 7:01 - loss: 0.6825 - binary_accuracy: 0.6179 - precision: 0.7154 - recall: 0.3489"
     ]
    },
    {
     "name": "stderr",
     "output_type": "stream",
     "text": [
      "2019-09-03 02:28:51 | [DEBUG] [PROCESS] Concatenating\n",
      "2019-09-03 02:28:51 | [DEBUG] [PROCESS] Storing filenames\n",
      "2019-09-03 02:28:51 | [DEBUG] [PROCESS] Returning\n"
     ]
    },
    {
     "name": "stdout",
     "output_type": "stream",
     "text": [
      "2000/2000 [==============================] - 4168s 2s/step - loss: 0.6819 - binary_accuracy: 0.6193 - precision: 0.7251 - recall: 0.3432\n"
     ]
    },
    {
     "name": "stderr",
     "output_type": "stream",
     "text": [
      "2019-09-03 02:34:43 | [DEBUG] Cleaning up\n",
      "2019-09-03 02:34:43 | [DEBUG] Preparing datagen.\n"
     ]
    },
    {
     "name": "stdout",
     "output_type": "stream",
     "text": [
      "Loss: 0.6819\n",
      "Validating\n"
     ]
    },
    {
     "name": "stderr",
     "output_type": "stream",
     "text": [
      "2019-09-03 02:34:43 | [DEBUG] Evaluating datagen\n",
      "2019-09-03 02:34:43 | [DEBUG] [PROCESS] PID: #10787\n",
      "2019-09-03 02:34:43 | [DEBUG] [PROCESS] Preparing dataset\n",
      "2019-09-03 02:34:43 | [DEBUG] [PROCESS] Prepating chunk...\n",
      "2019-09-03 02:34:44 | [DEBUG] [PROCESS] Pooling\n",
      "2019-09-03 02:34:45 | [DEBUG] [WORKER] M020-2012_1825-03-R | PID #10801\n",
      "2019-09-03 02:34:45 | [DEBUG] [WORKER] M028-2012_1351-02-R | PID #10802\n",
      "2019-09-03 02:34:45 | [DEBUG] [WORKER] M013-2012_0684-06-R | PID #10803\n",
      "2019-09-03 02:34:47 | [DEBUG] [WORKER] PID #10803 DONE.\n",
      "2019-09-03 02:34:51 | [DEBUG] [WORKER] PID #10801 DONE.\n",
      "2019-09-03 02:35:00 | [DEBUG] [WORKER] PID #10802 DONE.\n",
      "2019-09-03 02:35:03 | [DEBUG] [PROCESS] Concatenating\n",
      "2019-09-03 02:35:03 | [DEBUG] [PROCESS] Storing filenames\n",
      "2019-09-03 02:35:03 | [DEBUG] [PROCESS] Returning\n",
      "2019-09-03 02:35:03 | [DEBUG] [PROCESS] Prepating chunk...\n",
      "2019-09-03 02:35:04 | [DEBUG] [PROCESS] Pooling\n",
      "2019-09-03 02:35:06 | [DEBUG] [WORKER] M013-2012_0684-06-R | PID #10970\n",
      "2019-09-03 02:35:06 | [DEBUG] [WORKER] M020-2012_1825-03-R | PID #10969\n",
      "2019-09-03 02:35:06 | [DEBUG] [WORKER] M028-2012_1351-02-R | PID #10971\n",
      "2019-09-03 02:35:06 | [DEBUG] [WORKER] PID #10970 DONE.\n",
      "2019-09-03 02:35:12 | [DEBUG] [WORKER] PID #10969 DONE.\n",
      "2019-09-03 02:35:21 | [DEBUG] [WORKER] PID #10971 DONE.\n",
      "2019-09-03 02:35:24 | [DEBUG] [PROCESS] Concatenating\n",
      "2019-09-03 02:35:24 | [DEBUG] [PROCESS] Storing filenames\n",
      "2019-09-03 02:35:24 | [DEBUG] [PROCESS] Returning\n"
     ]
    },
    {
     "name": "stdout",
     "output_type": "stream",
     "text": [
      " 98/300 [========>.....................] - ETA: 9:08"
     ]
    },
    {
     "name": "stderr",
     "output_type": "stream",
     "text": [
      "2019-09-03 02:39:11 | [DEBUG] [PROCESS] Prepating chunk...\n"
     ]
    },
    {
     "name": "stdout",
     "output_type": "stream",
     "text": [
      "\b\b\b\b\b\b\b\b\b\b\b\b\b\b\b\b\b\b\b\b\b\b\b\b\b\b\b\b\b\b\b\b\b\b\b\b\b\b\b\b\b\b\b\b\b\b\b\b\b\b\b\b\r",
      " 99/300 [========>.....................] - ETA: 9:03"
     ]
    },
    {
     "name": "stderr",
     "output_type": "stream",
     "text": [
      "2019-09-03 02:39:12 | [DEBUG] [PROCESS] Pooling\n"
     ]
    },
    {
     "name": "stdout",
     "output_type": "stream",
     "text": [
      "\b\b\b\b\b\b\b\b\b\b\b\b\b\b\b\b\b\b\b\b\b\b\b\b\b\b\b\b\b\b\b\b\b\b\b\b\b\b\b\b\b\b\b\b\b\b\b\b\b\b\b\b\r",
      "100/300 [=========>....................] - ETA: 8:58"
     ]
    },
    {
     "name": "stderr",
     "output_type": "stream",
     "text": [
      "2019-09-03 02:39:13 | [DEBUG] [WORKER] M013-2012_0684-06-R | PID #11281\n",
      "2019-09-03 02:39:13 | [DEBUG] [WORKER] M020-2012_1825-03-R | PID #11280\n",
      "2019-09-03 02:39:13 | [DEBUG] [WORKER] M028-2012_1351-02-R | PID #11282\n",
      "2019-09-03 02:39:14 | [DEBUG] [WORKER] PID #11281 DONE.\n"
     ]
    },
    {
     "name": "stdout",
     "output_type": "stream",
     "text": [
      "103/300 [=========>....................] - ETA: 8:44"
     ]
    },
    {
     "name": "stderr",
     "output_type": "stream",
     "text": [
      "2019-09-03 02:39:19 | [DEBUG] [WORKER] PID #11280 DONE.\n"
     ]
    },
    {
     "name": "stdout",
     "output_type": "stream",
     "text": [
      "109/300 [=========>....................] - ETA: 8:19"
     ]
    },
    {
     "name": "stderr",
     "output_type": "stream",
     "text": [
      "2019-09-03 02:39:28 | [DEBUG] [WORKER] PID #11282 DONE.\n"
     ]
    },
    {
     "name": "stdout",
     "output_type": "stream",
     "text": [
      "\b\b\b\b\b\b\b\b\b\b\b\b\b\b\b\b\b\b\b\b\b\b\b\b\b\b\b\b\b\b\b\b\b\b\b\b\b\b\b\b\b\b\b\b\b\b\b\b\b\b\b\b\r",
      "110/300 [==========>...................] - ETA: 8:15"
     ]
    },
    {
     "name": "stderr",
     "output_type": "stream",
     "text": [
      "2019-09-03 02:39:31 | [DEBUG] [PROCESS] Concatenating\n",
      "2019-09-03 02:39:31 | [DEBUG] [PROCESS] Storing filenames\n",
      "2019-09-03 02:39:31 | [DEBUG] [PROCESS] Returning\n"
     ]
    },
    {
     "name": "stdout",
     "output_type": "stream",
     "text": [
      "300/300 [==============================] - 608s 2s/step\n"
     ]
    },
    {
     "name": "stderr",
     "output_type": "stream",
     "text": [
      "2019-09-03 02:44:51 | [DEBUG] Retrieving filenames and labels\n"
     ]
    },
    {
     "name": "stdout",
     "output_type": "stream",
     "text": [
      "WARNING:tensorflow:From /home/matejg/Test/test/lib/python3.5/site-packages/tensorflow/python/keras/utils/losses_utils.py:170: to_float (from tensorflow.python.ops.math_ops) is deprecated and will be removed in a future version.\n",
      "Instructions for updating:\n",
      "Use tf.cast instead.\n"
     ]
    },
    {
     "name": "stderr",
     "output_type": "stream",
     "text": [
      "2019-09-03 02:44:51 | [WARNING] From /home/matejg/Test/test/lib/python3.5/site-packages/tensorflow/python/keras/utils/losses_utils.py:170: to_float (from tensorflow.python.ops.math_ops) is deprecated and will be removed in a future version.\n",
      "Instructions for updating:\n",
      "Use tf.cast instead.\n",
      "2019-09-03 02:44:52 | [DEBUG] Cleaning up\n",
      "2019-09-03 02:44:52 | [DEBUG] Preparing datagen.\n"
     ]
    },
    {
     "name": "stdout",
     "output_type": "stream",
     "text": [
      "| Accuracy  | 0.7387499809265137 |\n",
      "| Auc       | 0.7342553885396002 |\n",
      "| Recall    | 0.621004581451416 |\n",
      "| Loss      | 0.6447012424468994 |\n",
      "| Precision | 0.7887324094772339 |\n",
      "Training\n"
     ]
    },
    {
     "name": "stderr",
     "output_type": "stream",
     "text": [
      "2019-09-03 02:44:52 | [DEBUG] Training model\n",
      "2019-09-03 02:44:52 | [DEBUG] [PROCESS] PID: #11613\n",
      "2019-09-03 02:44:52 | [DEBUG] [PROCESS] Preparing dataset\n",
      "2019-09-03 02:44:52 | [DEBUG] [PROCESS] Prepating chunk...\n",
      "2019-09-03 02:44:53 | [DEBUG] [PROCESS] Pooling\n",
      "2019-09-03 02:44:55 | [DEBUG] [WORKER] M024-2012_0874-07-R | PID #11628\n",
      "2019-09-03 02:44:55 | [DEBUG] [WORKER] M019-2012_1157-08-R | PID #11631\n",
      "2019-09-03 02:44:55 | [DEBUG] [WORKER] M030-2012_1472-04-R | PID #11632\n",
      "2019-09-03 02:44:55 | [DEBUG] [WORKER] M018-2012_1202-06-R | PID #11629\n",
      "2019-09-03 02:44:55 | [DEBUG] [WORKER] M021-2012_1098-03-R | PID #11630\n",
      "2019-09-03 02:44:55 | [DEBUG] [WORKER] M002-2012_2034-04-R | PID #11635\n",
      "2019-09-03 02:44:55 | [DEBUG] [WORKER] M009-2012_2901-14-R | PID #11634\n",
      "2019-09-03 02:44:55 | [DEBUG] [WORKER] M017-2012_4649-14-R | PID #11633\n",
      "2019-09-03 02:44:55 | [DEBUG] [WORKER] M001-2012_1681-05-R | PID #11636\n",
      "2019-09-03 02:44:55 | [DEBUG] [WORKER] M032-2012_2949-04-R | PID #11637\n",
      "2019-09-03 02:44:55 | [DEBUG] [WORKER] PID #11632 DONE.\n",
      "2019-09-03 02:44:55 | [DEBUG] [WORKER] PID #11629 DONE.\n",
      "2019-09-03 02:44:55 | [DEBUG] [WORKER] PID #11634 DONE.\n",
      "2019-09-03 02:44:55 | [DEBUG] [WORKER] PID #11628 DONE.\n",
      "2019-09-03 02:44:55 | [DEBUG] [WORKER] PID #11630 DONE.\n",
      "2019-09-03 02:44:55 | [DEBUG] [WORKER] PID #11635 DONE.\n",
      "2019-09-03 02:44:55 | [DEBUG] [WORKER] M031-2012_2263-05-R | PID #11632\n",
      "2019-09-03 02:44:55 | [DEBUG] [WORKER] M026-2012_1102-08-R | PID #11629\n",
      "2019-09-03 02:44:55 | [DEBUG] [WORKER] M008-2012_2101-04-R | PID #11634\n",
      "2019-09-03 02:44:55 | [DEBUG] [WORKER] PID #11632 DONE.\n",
      "2019-09-03 02:44:55 | [DEBUG] [WORKER] M033-2012_2074-05-R | PID #11628\n",
      "2019-09-03 02:44:56 | [DEBUG] [WORKER] PID #11628 DONE.\n",
      "2019-09-03 02:44:56 | [DEBUG] [WORKER] M029-2012_1819-10-R | PID #11630\n",
      "2019-09-03 02:44:56 | [DEBUG] [WORKER] PID #11634 DONE.\n",
      "2019-09-03 02:44:56 | [DEBUG] [WORKER] PID #11629 DONE.\n",
      "2019-09-03 02:44:56 | [DEBUG] [WORKER] PID #11630 DONE.\n",
      "2019-09-03 02:44:56 | [DEBUG] [WORKER] M022-2012_1285-07-R | PID #11635\n",
      "2019-09-03 02:44:56 | [DEBUG] [WORKER] PID #11636 DONE.\n",
      "2019-09-03 02:44:56 | [DEBUG] [WORKER] M011-2012_0798-03-R | PID #11632\n",
      "2019-09-03 02:44:56 | [DEBUG] [WORKER] M025-2012_2969-02-R | PID #11628\n",
      "2019-09-03 02:44:56 | [DEBUG] [WORKER] PID #11632 DONE.\n",
      "2019-09-03 02:44:56 | [DEBUG] [WORKER] M003-2012_2132-06-R | PID #11629\n",
      "2019-09-03 02:44:56 | [DEBUG] [WORKER] PID #11628 DONE.\n",
      "2019-09-03 02:44:56 | [DEBUG] [WORKER] M014-2012_0381-04-R | PID #11634\n",
      "2019-09-03 02:44:56 | [DEBUG] [WORKER] PID #11629 DONE.\n",
      "2019-09-03 02:44:57 | [DEBUG] [WORKER] PID #11635 DONE.\n",
      "2019-09-03 02:44:57 | [DEBUG] [WORKER] PID #11637 DONE.\n",
      "2019-09-03 02:44:57 | [DEBUG] [WORKER] PID #11633 DONE.\n",
      "2019-09-03 02:44:58 | [DEBUG] [WORKER] PID #11631 DONE.\n",
      "2019-09-03 02:44:58 | [DEBUG] [WORKER] PID #11634 DONE.\n",
      "2019-09-03 02:44:59 | [DEBUG] [PROCESS] Concatenating\n",
      "2019-09-03 02:44:59 | [DEBUG] [PROCESS] Storing filenames\n",
      "2019-09-03 02:44:59 | [DEBUG] [PROCESS] Returning\n",
      "2019-09-03 02:44:59 | [DEBUG] [PROCESS] Prepating chunk...\n",
      "2019-09-03 02:45:00 | [DEBUG] [PROCESS] Pooling\n",
      "2019-09-03 02:45:02 | [DEBUG] [WORKER] M024-2012_0874-07-R | PID #11813\n",
      "2019-09-03 02:45:02 | [DEBUG] [WORKER] M018-2012_1202-06-R | PID #11814\n",
      "2019-09-03 02:45:02 | [DEBUG] [WORKER] M030-2012_1472-04-R | PID #11845\n",
      "2019-09-03 02:45:02 | [DEBUG] [WORKER] M017-2012_4649-14-R | PID #11846\n",
      "2019-09-03 02:45:02 | [DEBUG] [WORKER] M021-2012_1098-03-R | PID #11815\n",
      "2019-09-03 02:45:02 | [DEBUG] [WORKER] M019-2012_1157-08-R | PID #11822\n",
      "2019-09-03 02:45:02 | [DEBUG] [WORKER] M002-2012_2034-04-R | PID #11851\n",
      "2019-09-03 02:45:02 | [DEBUG] [WORKER] M009-2012_2901-14-R | PID #11850\n",
      "2019-09-03 02:45:02 | [DEBUG] [WORKER] M001-2012_1681-05-R | PID #11866\n",
      "2019-09-03 02:45:02 | [DEBUG] [WORKER] M032-2012_2949-04-R | PID #11867\n",
      "2019-09-03 02:45:02 | [DEBUG] [WORKER] PID #11814 DONE.\n",
      "2019-09-03 02:45:02 | [DEBUG] [WORKER] PID #11813 DONE.\n",
      "2019-09-03 02:45:02 | [DEBUG] [WORKER] PID #11845 DONE.\n",
      "2019-09-03 02:45:02 | [DEBUG] [WORKER] PID #11815 DONE.\n",
      "2019-09-03 02:45:02 | [DEBUG] [WORKER] PID #11850 DONE.\n",
      "2019-09-03 02:45:02 | [DEBUG] [WORKER] M031-2012_2263-05-R | PID #11814\n",
      "2019-09-03 02:45:02 | [DEBUG] [WORKER] PID #11851 DONE.\n",
      "2019-09-03 02:45:02 | [DEBUG] [WORKER] M026-2012_1102-08-R | PID #11813\n",
      "2019-09-03 02:45:02 | [DEBUG] [WORKER] M008-2012_2101-04-R | PID #11850\n",
      "2019-09-03 02:45:02 | [DEBUG] [WORKER] M033-2012_2074-05-R | PID #11845\n",
      "2019-09-03 02:45:02 | [DEBUG] [WORKER] PID #11814 DONE.\n",
      "2019-09-03 02:45:03 | [DEBUG] [WORKER] M029-2012_1819-10-R | PID #11815\n",
      "2019-09-03 02:45:03 | [DEBUG] [WORKER] PID #11845 DONE.\n",
      "2019-09-03 02:45:03 | [DEBUG] [WORKER] PID #11850 DONE.\n",
      "2019-09-03 02:45:03 | [DEBUG] [WORKER] PID #11813 DONE.\n",
      "2019-09-03 02:45:03 | [DEBUG] [WORKER] M022-2012_1285-07-R | PID #11851\n",
      "2019-09-03 02:45:03 | [DEBUG] [WORKER] PID #11815 DONE.\n"
     ]
    },
    {
     "name": "stdout",
     "output_type": "stream",
     "text": [
      "\r",
      "   1/2000 [..............................] - ETA: 5:53:15 - loss: 0.7369 - binary_accuracy: 0.4062 - precision: 0.5000 - recall: 0.1053"
     ]
    },
    {
     "name": "stderr",
     "output_type": "stream",
     "text": [
      "2019-09-03 02:45:03 | [DEBUG] [WORKER] PID #11866 DONE.\n",
      "2019-09-03 02:45:03 | [DEBUG] [WORKER] M011-2012_0798-03-R | PID #11845\n",
      "2019-09-03 02:45:03 | [DEBUG] [WORKER] M025-2012_2969-02-R | PID #11814\n",
      "2019-09-03 02:45:03 | [DEBUG] [WORKER] PID #11845 DONE.\n",
      "2019-09-03 02:45:03 | [DEBUG] [WORKER] M003-2012_2132-06-R | PID #11813\n",
      "2019-09-03 02:45:03 | [DEBUG] [WORKER] PID #11814 DONE.\n",
      "2019-09-03 02:45:03 | [DEBUG] [WORKER] M014-2012_0381-04-R | PID #11850\n",
      "2019-09-03 02:45:03 | [DEBUG] [WORKER] PID #11813 DONE.\n",
      "2019-09-03 02:45:04 | [DEBUG] [WORKER] PID #11867 DONE.\n",
      "2019-09-03 02:45:04 | [DEBUG] [WORKER] PID #11851 DONE.\n",
      "2019-09-03 02:45:05 | [DEBUG] [WORKER] PID #11822 DONE.\n",
      "2019-09-03 02:45:05 | [DEBUG] [WORKER] PID #11850 DONE.\n"
     ]
    },
    {
     "name": "stdout",
     "output_type": "stream",
     "text": [
      "\b\b\b\b\b\b\b\b\b\b\b\b\b\b\b\b\b\b\b\b\b\b\b\b\b\b\b\b\b\b\b\b\b\b\b\b\b\b\b\b\b\b\b\b\b\b\b\b\b\b\b\b\b\b\b\b\b\b\b\b\b\b\b\b\b\b\b\b\b\b\b\b\b\b\b\b\b\b\b\b\b\b\b\b\b\b\b\b\b\b\b\b\b\b\b\b\b\b\b\b\b\b\b\b\b\b\b\b\b\b\b\b\b\b\b\b\b\b\b\b\b\b\b\b\b\b\b\b\b\b\b\b\b\b\b\r",
      "   2/2000 [..............................] - ETA: 3:36:19 - loss: 0.7084 - binary_accuracy: 0.4844 - precision: 0.5000 - recall: 0.1212"
     ]
    },
    {
     "name": "stderr",
     "output_type": "stream",
     "text": [
      "2019-09-03 02:45:05 | [DEBUG] [WORKER] PID #11846 DONE.\n",
      "2019-09-03 02:45:06 | [DEBUG] [PROCESS] Concatenating\n",
      "2019-09-03 02:45:06 | [DEBUG] [PROCESS] Storing filenames\n",
      "2019-09-03 02:45:06 | [DEBUG] [PROCESS] Returning\n"
     ]
    },
    {
     "name": "stdout",
     "output_type": "stream",
     "text": [
      "  98/2000 [>.............................] - ETA: 59:55 - loss: 0.6715 - binary_accuracy: 0.6448 - precision: 0.8530 - recall: 0.3127  "
     ]
    },
    {
     "name": "stderr",
     "output_type": "stream",
     "text": [
      "2019-09-03 02:47:58 | [DEBUG] [PROCESS] Prepating chunk...\n",
      "2019-09-03 02:47:59 | [DEBUG] [PROCESS] Pooling\n"
     ]
    },
    {
     "name": "stdout",
     "output_type": "stream",
     "text": [
      " 100/2000 [>.............................] - ETA: 59:40 - loss: 0.6712 - binary_accuracy: 0.6459 - precision: 0.8546 - recall: 0.3144"
     ]
    },
    {
     "name": "stderr",
     "output_type": "stream",
     "text": [
      "2019-09-03 02:48:01 | [DEBUG] [WORKER] M021-2012_1098-03-R | PID #12089\n",
      "2019-09-03 02:48:01 | [DEBUG] [WORKER] M019-2012_1157-08-R | PID #12090\n",
      "2019-09-03 02:48:01 | [DEBUG] [WORKER] M024-2012_0874-07-R | PID #12086\n",
      "2019-09-03 02:48:01 | [DEBUG] [WORKER] M017-2012_4649-14-R | PID #12092\n",
      "2019-09-03 02:48:01 | [DEBUG] [WORKER] M018-2012_1202-06-R | PID #12088\n",
      "2019-09-03 02:48:01 | [DEBUG] [WORKER] M030-2012_1472-04-R | PID #12091\n",
      "2019-09-03 02:48:01 | [DEBUG] [WORKER] M002-2012_2034-04-R | PID #12094\n",
      "2019-09-03 02:48:01 | [DEBUG] [WORKER] M009-2012_2901-14-R | PID #12093\n",
      "2019-09-03 02:48:01 | [DEBUG] [WORKER] M001-2012_1681-05-R | PID #12110\n",
      "2019-09-03 02:48:01 | [DEBUG] [WORKER] M032-2012_2949-04-R | PID #12112\n",
      "2019-09-03 02:48:01 | [DEBUG] [WORKER] PID #12091 DONE.\n",
      "2019-09-03 02:48:01 | [DEBUG] [WORKER] PID #12093 DONE.\n",
      "2019-09-03 02:48:01 | [DEBUG] [WORKER] PID #12088 DONE.\n",
      "2019-09-03 02:48:01 | [DEBUG] [WORKER] PID #12089 DONE.\n",
      "2019-09-03 02:48:01 | [DEBUG] [WORKER] PID #12086 DONE.\n",
      "2019-09-03 02:48:01 | [DEBUG] [WORKER] PID #12094 DONE.\n",
      "2019-09-03 02:48:01 | [DEBUG] [WORKER] M031-2012_2263-05-R | PID #12088\n",
      "2019-09-03 02:48:01 | [DEBUG] [WORKER] M026-2012_1102-08-R | PID #12091\n",
      "2019-09-03 02:48:01 | [DEBUG] [WORKER] PID #12088 DONE.\n",
      "2019-09-03 02:48:01 | [DEBUG] [WORKER] M008-2012_2101-04-R | PID #12089\n",
      "2019-09-03 02:48:02 | [DEBUG] [WORKER] M033-2012_2074-05-R | PID #12093\n",
      "2019-09-03 02:48:02 | [DEBUG] [WORKER] PID #12089 DONE.\n",
      "2019-09-03 02:48:02 | [DEBUG] [WORKER] M011-2012_0798-03-R | PID #12086\n",
      "2019-09-03 02:48:02 | [DEBUG] [WORKER] PID #12091 DONE.\n",
      "2019-09-03 02:48:02 | [DEBUG] [WORKER] PID #12093 DONE.\n",
      "2019-09-03 02:48:02 | [DEBUG] [WORKER] PID #12110 DONE.\n",
      "2019-09-03 02:48:02 | [DEBUG] [WORKER] M022-2012_1285-07-R | PID #12094\n",
      "2019-09-03 02:48:02 | [DEBUG] [WORKER] PID #12086 DONE.\n",
      "2019-09-03 02:48:02 | [DEBUG] [WORKER] M029-2012_1819-10-R | PID #12088\n",
      "2019-09-03 02:48:02 | [DEBUG] [WORKER] M025-2012_2969-02-R | PID #12091\n",
      "2019-09-03 02:48:02 | [DEBUG] [WORKER] M003-2012_2132-06-R | PID #12089\n",
      "2019-09-03 02:48:02 | [DEBUG] [WORKER] PID #12088 DONE.\n",
      "2019-09-03 02:48:02 | [DEBUG] [WORKER] M014-2012_0381-04-R | PID #12093\n",
      "2019-09-03 02:48:02 | [DEBUG] [WORKER] PID #12089 DONE.\n",
      "2019-09-03 02:48:02 | [DEBUG] [WORKER] PID #12091 DONE.\n",
      "2019-09-03 02:48:03 | [DEBUG] [WORKER] PID #12094 DONE.\n"
     ]
    },
    {
     "name": "stdout",
     "output_type": "stream",
     "text": [
      "\b\b\b\b\b\b\b\b\b\b\b\b\b\b\b\b\b\b\b\b\b\b\b\b\b\b\b\b\b\b\b\b\b\b\b\b\b\b\b\b\b\b\b\b\b\b\b\b\b\b\b\b\b\b\b\b\b\b\b\b\b\b\b\b\b\b\b\b\b\b\b\b\b\b\b\b\b\b\b\b\b\b\b\b\b\b\b\b\b\b\b\b\b\b\b\b\b\b\b\b\b\b\b\b\b\b\b\b\b\b\b\b\b\b\b\b\b\b\b\b\b\b\b\b\b\b\b\b\b\b\b\b\b\r",
      " 101/2000 [>.............................] - ETA: 59:46 - loss: 0.6716 - binary_accuracy: 0.6454 - precision: 0.8561 - recall: 0.3144"
     ]
    },
    {
     "name": "stderr",
     "output_type": "stream",
     "text": [
      "2019-09-03 02:48:03 | [DEBUG] [WORKER] PID #12112 DONE.\n",
      "2019-09-03 02:48:04 | [DEBUG] [WORKER] PID #12090 DONE.\n",
      "2019-09-03 02:48:04 | [DEBUG] [WORKER] PID #12092 DONE.\n",
      "2019-09-03 02:48:04 | [DEBUG] [WORKER] PID #12093 DONE.\n"
     ]
    },
    {
     "name": "stdout",
     "output_type": "stream",
     "text": [
      "\b\b\b\b\b\b\b\b\b\b\b\b\b\b\b\b\b\b\b\b\b\b\b\b\b\b\b\b\b\b\b\b\b\b\b\b\b\b\b\b\b\b\b\b\b\b\b\b\b\b\b\b\b\b\b\b\b\b\b\b\b\b\b\b\b\b\b\b\b\b\b\b\b\b\b\b\b\b\b\b\b\b\b\b\b\b\b\b\b\b\b\b\b\b\b\b\b\b\b\b\b\b\b\b\b\b\b\b\b\b\b\b\b\b\b\b\b\b\b\b\b\b\b\b\b\b\b\b\b\b\b\b\b\r",
      " 102/2000 [>.............................] - ETA: 59:38 - loss: 0.6715 - binary_accuracy: 0.6458 - precision: 0.8571 - recall: 0.3142"
     ]
    },
    {
     "name": "stderr",
     "output_type": "stream",
     "text": [
      "2019-09-03 02:48:05 | [DEBUG] [PROCESS] Concatenating\n",
      "2019-09-03 02:48:05 | [DEBUG] [PROCESS] Storing filenames\n",
      "2019-09-03 02:48:05 | [DEBUG] [PROCESS] Returning\n"
     ]
    },
    {
     "name": "stdout",
     "output_type": "stream",
     "text": [
      " 198/2000 [=>............................] - ETA: 54:46 - loss: 0.6746 - binary_accuracy: 0.6349 - precision: 0.8498 - recall: 0.2959"
     ]
    },
    {
     "name": "stderr",
     "output_type": "stream",
     "text": [
      "2019-09-03 02:50:54 | [DEBUG] [PROCESS] Prepating chunk...\n",
      "2019-09-03 02:50:55 | [DEBUG] [PROCESS] Pooling\n"
     ]
    },
    {
     "name": "stdout",
     "output_type": "stream",
     "text": [
      " 200/2000 [==>...........................] - ETA: 54:43 - loss: 0.6747 - binary_accuracy: 0.6348 - precision: 0.8499 - recall: 0.2966"
     ]
    },
    {
     "name": "stderr",
     "output_type": "stream",
     "text": [
      "2019-09-03 02:50:57 | [DEBUG] [WORKER] M024-2012_0874-07-R | PID #15317\n",
      "2019-09-03 02:50:57 | [DEBUG] [WORKER] M019-2012_1157-08-R | PID #15320\n",
      "2019-09-03 02:50:57 | [DEBUG] [WORKER] M018-2012_1202-06-R | PID #15318\n",
      "2019-09-03 02:50:57 | [DEBUG] [WORKER] M021-2012_1098-03-R | PID #15319\n",
      "2019-09-03 02:50:57 | [DEBUG] [WORKER] M030-2012_1472-04-R | PID #15321\n",
      "2019-09-03 02:50:57 | [DEBUG] [WORKER] M017-2012_4649-14-R | PID #15322\n",
      "2019-09-03 02:50:57 | [DEBUG] [WORKER] M003-2012_2132-06-R | PID #15323\n",
      "2019-09-03 02:50:57 | [DEBUG] [WORKER] M009-2012_2901-14-R | PID #15324\n",
      "2019-09-03 02:50:57 | [DEBUG] [WORKER] M002-2012_2034-04-R | PID #15325\n",
      "2019-09-03 02:50:57 | [DEBUG] [WORKER] M001-2012_1681-05-R | PID #15326\n",
      "2019-09-03 02:50:57 | [DEBUG] [WORKER] PID #15321 DONE.\n",
      "2019-09-03 02:50:57 | [DEBUG] [WORKER] PID #15318 DONE.\n",
      "2019-09-03 02:50:57 | [DEBUG] [WORKER] PID #15317 DONE.\n",
      "2019-09-03 02:50:57 | [DEBUG] [WORKER] PID #15324 DONE.\n",
      "2019-09-03 02:50:57 | [DEBUG] [WORKER] PID #15319 DONE.\n",
      "2019-09-03 02:50:58 | [DEBUG] [WORKER] PID #15325 DONE.\n",
      "2019-09-03 02:50:58 | [DEBUG] [WORKER] M031-2012_2263-05-R | PID #15321\n",
      "2019-09-03 02:50:58 | [DEBUG] [WORKER] M026-2012_1102-08-R | PID #15324\n",
      "2019-09-03 02:50:58 | [DEBUG] [WORKER] PID #15323 DONE.\n",
      "2019-09-03 02:50:58 | [DEBUG] [WORKER] M008-2012_2101-04-R | PID #15318\n",
      "2019-09-03 02:50:58 | [DEBUG] [WORKER] M014-2012_0381-04-R | PID #15319\n",
      "2019-09-03 02:50:58 | [DEBUG] [WORKER] PID #15321 DONE.\n",
      "2019-09-03 02:50:58 | [DEBUG] [WORKER] M011-2012_0798-03-R | PID #15317\n",
      "2019-09-03 02:50:58 | [DEBUG] [WORKER] PID #15318 DONE.\n",
      "2019-09-03 02:50:58 | [DEBUG] [WORKER] M022-2012_1285-07-R | PID #15325\n",
      "2019-09-03 02:50:58 | [DEBUG] [WORKER] PID #15324 DONE.\n",
      "2019-09-03 02:50:58 | [DEBUG] [WORKER] PID #15317 DONE.\n",
      "2019-09-03 02:50:58 | [DEBUG] [WORKER] PID #15326 DONE.\n",
      "2019-09-03 02:50:58 | [DEBUG] [WORKER] M029-2012_1819-10-R | PID #15323\n",
      "2019-09-03 02:50:59 | [DEBUG] [WORKER] M025-2012_2969-02-R | PID #15321\n",
      "2019-09-03 02:50:59 | [DEBUG] [WORKER] PID #15323 DONE.\n",
      "2019-09-03 02:50:59 | [DEBUG] [WORKER] PID #15321 DONE.\n",
      "2019-09-03 02:50:59 | [DEBUG] [WORKER] M032-2012_2949-04-R | PID #15318\n",
      "2019-09-03 02:50:59 | [DEBUG] [WORKER] M033-2012_2074-05-R | PID #15324\n",
      "2019-09-03 02:50:59 | [DEBUG] [WORKER] PID #15324 DONE.\n",
      "2019-09-03 02:51:00 | [DEBUG] [WORKER] PID #15325 DONE.\n"
     ]
    },
    {
     "name": "stdout",
     "output_type": "stream",
     "text": [
      "\b\b\b\b\b\b\b\b\b\b\b\b\b\b\b\b\b\b\b\b\b\b\b\b\b\b\b\b\b\b\b\b\b\b\b\b\b\b\b\b\b\b\b\b\b\b\b\b\b\b\b\b\b\b\b\b\b\b\b\b\b\b\b\b\b\b\b\b\b\b\b\b\b\b\b\b\b\b\b\b\b\b\b\b\b\b\b\b\b\b\b\b\b\b\b\b\b\b\b\b\b\b\b\b\b\b\b\b\b\b\b\b\b\b\b\b\b\b\b\b\b\b\b\b\b\b\b\b\b\b\b\b\b\r",
      " 201/2000 [==>...........................] - ETA: 54:49 - loss: 0.6748 - binary_accuracy: 0.6346 - precision: 0.8504 - recall: 0.2962"
     ]
    },
    {
     "name": "stderr",
     "output_type": "stream",
     "text": [
      "2019-09-03 02:51:00 | [DEBUG] [WORKER] PID #15319 DONE.\n",
      "2019-09-03 02:51:01 | [DEBUG] [WORKER] PID #15318 DONE.\n",
      "2019-09-03 02:51:01 | [DEBUG] [WORKER] PID #15322 DONE.\n",
      "2019-09-03 02:51:01 | [DEBUG] [WORKER] PID #15320 DONE.\n"
     ]
    },
    {
     "name": "stdout",
     "output_type": "stream",
     "text": [
      "\b\b\b\b\b\b\b\b\b\b\b\b\b\b\b\b\b\b\b\b\b\b\b\b\b\b\b\b\b\b\b\b\b\b\b\b\b\b\b\b\b\b\b\b\b\b\b\b\b\b\b\b\b\b\b\b\b\b\b\b\b\b\b\b\b\b\b\b\b\b\b\b\b\b\b\b\b\b\b\b\b\b\b\b\b\b\b\b\b\b\b\b\b\b\b\b\b\b\b\b\b\b\b\b\b\b\b\b\b\b\b\b\b\b\b\b\b\b\b\b\b\b\b\b\b\b\b\b\b\b\b\b\b\r",
      " 202/2000 [==>...........................] - ETA: 54:47 - loss: 0.6748 - binary_accuracy: 0.6347 - precision: 0.8510 - recall: 0.2961"
     ]
    },
    {
     "name": "stderr",
     "output_type": "stream",
     "text": [
      "2019-09-03 02:51:02 | [DEBUG] [PROCESS] Concatenating\n",
      "2019-09-03 02:51:02 | [DEBUG] [PROCESS] Storing filenames\n",
      "2019-09-03 02:51:02 | [DEBUG] [PROCESS] Returning\n"
     ]
    },
    {
     "name": "stdout",
     "output_type": "stream",
     "text": [
      " 298/2000 [===>..........................] - ETA: 51:56 - loss: 0.6741 - binary_accuracy: 0.6363 - precision: 0.8538 - recall: 0.2979"
     ]
    },
    {
     "name": "stderr",
     "output_type": "stream",
     "text": [
      "2019-09-03 02:53:58 | [DEBUG] [PROCESS] Prepating chunk...\n",
      "2019-09-03 02:53:59 | [DEBUG] [PROCESS] Pooling\n"
     ]
    },
    {
     "name": "stdout",
     "output_type": "stream",
     "text": [
      " 300/2000 [===>..........................] - ETA: 51:51 - loss: 0.6741 - binary_accuracy: 0.6361 - precision: 0.8530 - recall: 0.2969"
     ]
    },
    {
     "name": "stderr",
     "output_type": "stream",
     "text": [
      "2019-09-03 02:54:02 | [DEBUG] [WORKER] M024-2012_0874-07-R | PID #15607\n",
      "2019-09-03 02:54:02 | [DEBUG] [WORKER] M021-2012_1098-03-R | PID #15610\n",
      "2019-09-03 02:54:02 | [DEBUG] [WORKER] M018-2012_1202-06-R | PID #15608\n",
      "2019-09-03 02:54:02 | [DEBUG] [WORKER] M019-2012_1157-08-R | PID #15611\n",
      "2019-09-03 02:54:02 | [DEBUG] [WORKER] M017-2012_4649-14-R | PID #15612\n",
      "2019-09-03 02:54:02 | [DEBUG] [WORKER] M009-2012_2901-14-R | PID #15630\n",
      "2019-09-03 02:54:02 | [DEBUG] [WORKER] M030-2012_1472-04-R | PID #15613\n",
      "2019-09-03 02:54:02 | [DEBUG] [WORKER] M002-2012_2034-04-R | PID #15631\n",
      "2019-09-03 02:54:02 | [DEBUG] [WORKER] M032-2012_2949-04-R | PID #15633\n",
      "2019-09-03 02:54:02 | [DEBUG] [WORKER] M001-2012_1681-05-R | PID #15632\n",
      "2019-09-03 02:54:02 | [DEBUG] [WORKER] PID #15607 DONE.\n",
      "2019-09-03 02:54:02 | [DEBUG] [WORKER] PID #15630 DONE.\n",
      "2019-09-03 02:54:02 | [DEBUG] [WORKER] PID #15610 DONE.\n",
      "2019-09-03 02:54:02 | [DEBUG] [WORKER] PID #15613 DONE.\n",
      "2019-09-03 02:54:02 | [DEBUG] [WORKER] PID #15608 DONE.\n",
      "2019-09-03 02:54:02 | [DEBUG] [WORKER] PID #15631 DONE.\n",
      "2019-09-03 02:54:02 | [DEBUG] [WORKER] M026-2012_1102-08-R | PID #15630\n",
      "2019-09-03 02:54:02 | [DEBUG] [WORKER] M008-2012_2101-04-R | PID #15607\n",
      "2019-09-03 02:54:02 | [DEBUG] [WORKER] M014-2012_0381-04-R | PID #15608\n",
      "2019-09-03 02:54:02 | [DEBUG] [WORKER] M011-2012_0798-03-R | PID #15613\n",
      "2019-09-03 02:54:02 | [DEBUG] [WORKER] PID #15607 DONE.\n",
      "2019-09-03 02:54:02 | [DEBUG] [WORKER] M022-2012_1285-07-R | PID #15610\n",
      "2019-09-03 02:54:02 | [DEBUG] [WORKER] M029-2012_1819-10-R | PID #15631\n",
      "2019-09-03 02:54:02 | [DEBUG] [WORKER] PID #15630 DONE.\n",
      "2019-09-03 02:54:02 | [DEBUG] [WORKER] PID #15613 DONE.\n",
      "2019-09-03 02:54:03 | [DEBUG] [WORKER] M025-2012_2969-02-R | PID #15607\n",
      "2019-09-03 02:54:03 | [DEBUG] [WORKER] PID #15631 DONE.\n",
      "2019-09-03 02:54:03 | [DEBUG] [WORKER] M003-2012_2132-06-R | PID #15630\n",
      "2019-09-03 02:54:03 | [DEBUG] [WORKER] PID #15607 DONE.\n",
      "2019-09-03 02:54:03 | [DEBUG] [WORKER] M033-2012_2074-05-R | PID #15613\n",
      "2019-09-03 02:54:03 | [DEBUG] [WORKER] PID #15630 DONE.\n",
      "2019-09-03 02:54:03 | [DEBUG] [WORKER] PID #15632 DONE.\n",
      "2019-09-03 02:54:03 | [DEBUG] [WORKER] PID #15613 DONE.\n",
      "2019-09-03 02:54:03 | [DEBUG] [WORKER] M031-2012_2263-05-R | PID #15631\n",
      "2019-09-03 02:54:03 | [DEBUG] [WORKER] PID #15631 DONE.\n",
      "2019-09-03 02:54:03 | [DEBUG] [WORKER] PID #15610 DONE.\n"
     ]
    },
    {
     "name": "stdout",
     "output_type": "stream",
     "text": [
      "\b\b\b\b\b\b\b\b\b\b\b\b\b\b\b\b\b\b\b\b\b\b\b\b\b\b\b\b\b\b\b\b\b\b\b\b\b\b\b\b\b\b\b\b\b\b\b\b\b\b\b\b\b\b\b\b\b\b\b\b\b\b\b\b\b\b\b\b\b\b\b\b\b\b\b\b\b\b\b\b\b\b\b\b\b\b\b\b\b\b\b\b\b\b\b\b\b\b\b\b\b\b\b\b\b\b\b\b\b\b\b\b\b\b\b\b\b\b\b\b\b\b\b\b\b\b\b\b\b\b\b\b\b\r",
      " 301/2000 [===>..........................] - ETA: 51:53 - loss: 0.6740 - binary_accuracy: 0.6363 - precision: 0.8534 - recall: 0.2970"
     ]
    },
    {
     "name": "stderr",
     "output_type": "stream",
     "text": [
      "2019-09-03 02:54:04 | [DEBUG] [WORKER] PID #15608 DONE.\n",
      "2019-09-03 02:54:04 | [DEBUG] [WORKER] PID #15633 DONE.\n",
      "2019-09-03 02:54:05 | [DEBUG] [WORKER] PID #15611 DONE.\n",
      "2019-09-03 02:54:05 | [DEBUG] [WORKER] PID #15612 DONE.\n",
      "2019-09-03 02:54:06 | [DEBUG] [PROCESS] Concatenating\n",
      "2019-09-03 02:54:06 | [DEBUG] [PROCESS] Storing filenames\n",
      "2019-09-03 02:54:06 | [DEBUG] [PROCESS] Returning\n"
     ]
    },
    {
     "name": "stdout",
     "output_type": "stream",
     "text": [
      " 398/2000 [====>.........................] - ETA: 48:28 - loss: 0.6739 - binary_accuracy: 0.6352 - precision: 0.8553 - recall: 0.2948"
     ]
    },
    {
     "name": "stderr",
     "output_type": "stream",
     "text": [
      "2019-09-03 02:56:56 | [DEBUG] [PROCESS] Prepating chunk...\n",
      "2019-09-03 02:56:56 | [DEBUG] [PROCESS] Pooling\n"
     ]
    },
    {
     "name": "stdout",
     "output_type": "stream",
     "text": [
      " 400/2000 [=====>........................] - ETA: 48:26 - loss: 0.6739 - binary_accuracy: 0.6352 - precision: 0.8556 - recall: 0.2950"
     ]
    },
    {
     "name": "stderr",
     "output_type": "stream",
     "text": [
      "2019-09-03 02:56:59 | [DEBUG] [WORKER] M024-2012_0874-07-R | PID #15863\n",
      "2019-09-03 02:56:59 | [DEBUG] [WORKER] M018-2012_1202-06-R | PID #15864\n",
      "2019-09-03 02:56:59 | [DEBUG] [WORKER] M021-2012_1098-03-R | PID #15865\n",
      "2019-09-03 02:56:59 | [DEBUG] [WORKER] M019-2012_1157-08-R | PID #15866\n",
      "2019-09-03 02:56:59 | [DEBUG] [WORKER] M009-2012_2901-14-R | PID #15868\n",
      "2019-09-03 02:56:59 | [DEBUG] [WORKER] M017-2012_4649-14-R | PID #15867\n",
      "2019-09-03 02:56:59 | [DEBUG] [WORKER] M001-2012_1681-05-R | PID #15870\n",
      "2019-09-03 02:56:59 | [DEBUG] [WORKER] M030-2012_1472-04-R | PID #15869\n",
      "2019-09-03 02:56:59 | [DEBUG] [WORKER] M032-2012_2949-04-R | PID #15871\n",
      "2019-09-03 02:56:59 | [DEBUG] [WORKER] M031-2012_2263-05-R | PID #15872\n",
      "2019-09-03 02:56:59 | [DEBUG] [WORKER] PID #15864 DONE.\n",
      "2019-09-03 02:56:59 | [DEBUG] [WORKER] PID #15869 DONE.\n",
      "2019-09-03 02:56:59 | [DEBUG] [WORKER] PID #15868 DONE.\n",
      "2019-09-03 02:56:59 | [DEBUG] [WORKER] PID #15863 DONE.\n",
      "2019-09-03 02:56:59 | [DEBUG] [WORKER] PID #15865 DONE.\n",
      "2019-09-03 02:56:59 | [DEBUG] [WORKER] PID #15872 DONE.\n",
      "2019-09-03 02:56:59 | [DEBUG] [WORKER] M026-2012_1102-08-R | PID #15864\n",
      "2019-09-03 02:56:59 | [DEBUG] [WORKER] M008-2012_2101-04-R | PID #15869\n",
      "2019-09-03 02:56:59 | [DEBUG] [WORKER] M014-2012_0381-04-R | PID #15868\n",
      "2019-09-03 02:57:00 | [DEBUG] [WORKER] PID #15864 DONE.\n",
      "2019-09-03 02:57:00 | [DEBUG] [WORKER] M029-2012_1819-10-R | PID #15872\n",
      "2019-09-03 02:57:00 | [DEBUG] [WORKER] PID #15869 DONE.\n",
      "2019-09-03 02:57:00 | [DEBUG] [WORKER] M022-2012_1285-07-R | PID #15863\n",
      "2019-09-03 02:57:00 | [DEBUG] [WORKER] M011-2012_0798-03-R | PID #15865\n",
      "2019-09-03 02:57:00 | [DEBUG] [WORKER] PID #15872 DONE.\n",
      "2019-09-03 02:57:00 | [DEBUG] [WORKER] M025-2012_2969-02-R | PID #15864\n",
      "2019-09-03 02:57:00 | [DEBUG] [WORKER] PID #15865 DONE.\n",
      "2019-09-03 02:57:00 | [DEBUG] [WORKER] M003-2012_2132-06-R | PID #15869\n",
      "2019-09-03 02:57:00 | [DEBUG] [WORKER] PID #15864 DONE.\n",
      "2019-09-03 02:57:00 | [DEBUG] [WORKER] M002-2012_2034-04-R | PID #15872\n",
      "2019-09-03 02:57:00 | [DEBUG] [WORKER] PID #15869 DONE.\n",
      "2019-09-03 02:57:00 | [DEBUG] [WORKER] M033-2012_2074-05-R | PID #15865\n",
      "2019-09-03 02:57:00 | [DEBUG] [WORKER] PID #15870 DONE.\n",
      "2019-09-03 02:57:00 | [DEBUG] [WORKER] PID #15872 DONE.\n",
      "2019-09-03 02:57:01 | [DEBUG] [WORKER] PID #15865 DONE.\n"
     ]
    },
    {
     "name": "stdout",
     "output_type": "stream",
     "text": [
      "\b\b\b\b\b\b\b\b\b\b\b\b\b\b\b\b\b\b\b\b\b\b\b\b\b\b\b\b\b\b\b\b\b\b\b\b\b\b\b\b\b\b\b\b\b\b\b\b\b\b\b\b\b\b\b\b\b\b\b\b\b\b\b\b\b\b\b\b\b\b\b\b\b\b\b\b\b\b\b\b\b\b\b\b\b\b\b\b\b\b\b\b\b\b\b\b\b\b\b\b\b\b\b\b\b\b\b\b\b\b\b\b\b\b\b\b\b\b\b\b\b\b\b\b\b\b\b\b\b\b\b\b\b\r",
      " 401/2000 [=====>........................] - ETA: 48:26 - loss: 0.6739 - binary_accuracy: 0.6351 - precision: 0.8556 - recall: 0.2951"
     ]
    },
    {
     "name": "stderr",
     "output_type": "stream",
     "text": [
      "2019-09-03 02:57:01 | [DEBUG] [WORKER] PID #15863 DONE.\n",
      "2019-09-03 02:57:01 | [DEBUG] [WORKER] PID #15871 DONE.\n",
      "2019-09-03 02:57:02 | [DEBUG] [WORKER] PID #15868 DONE.\n",
      "2019-09-03 02:57:02 | [DEBUG] [WORKER] PID #15867 DONE.\n",
      "2019-09-03 02:57:02 | [DEBUG] [WORKER] PID #15866 DONE.\n"
     ]
    },
    {
     "name": "stdout",
     "output_type": "stream",
     "text": [
      "\b\b\b\b\b\b\b\b\b\b\b\b\b\b\b\b\b\b\b\b\b\b\b\b\b\b\b\b\b\b\b\b\b\b\b\b\b\b\b\b\b\b\b\b\b\b\b\b\b\b\b\b\b\b\b\b\b\b\b\b\b\b\b\b\b\b\b\b\b\b\b\b\b\b\b\b\b\b\b\b\b\b\b\b\b\b\b\b\b\b\b\b\b\b\b\b\b\b\b\b\b\b\b\b\b\b\b\b\b\b\b\b\b\b\b\b\b\b\b\b\b\b\b\b\b\b\b\b\b\b\b\b\b\r",
      " 402/2000 [=====>........................] - ETA: 48:25 - loss: 0.6740 - binary_accuracy: 0.6350 - precision: 0.8555 - recall: 0.2950"
     ]
    },
    {
     "name": "stderr",
     "output_type": "stream",
     "text": [
      "2019-09-03 02:57:03 | [DEBUG] [PROCESS] Concatenating\n",
      "2019-09-03 02:57:03 | [DEBUG] [PROCESS] Storing filenames\n",
      "2019-09-03 02:57:03 | [DEBUG] [PROCESS] Returning\n"
     ]
    },
    {
     "name": "stdout",
     "output_type": "stream",
     "text": [
      " 498/2000 [======>.......................] - ETA: 45:23 - loss: 0.6742 - binary_accuracy: 0.6331 - precision: 0.8594 - recall: 0.2917"
     ]
    },
    {
     "name": "stderr",
     "output_type": "stream",
     "text": [
      "2019-09-03 02:59:55 | [DEBUG] [PROCESS] Prepating chunk...\n",
      "2019-09-03 02:59:56 | [DEBUG] [PROCESS] Pooling\n"
     ]
    },
    {
     "name": "stdout",
     "output_type": "stream",
     "text": [
      " 500/2000 [======>.......................] - ETA: 45:18 - loss: 0.6743 - binary_accuracy: 0.6326 - precision: 0.8594 - recall: 0.2911"
     ]
    },
    {
     "name": "stderr",
     "output_type": "stream",
     "text": [
      "2019-09-03 02:59:58 | [DEBUG] [WORKER] M024-2012_0874-07-R | PID #16136\n",
      "2019-09-03 02:59:58 | [DEBUG] [WORKER] M018-2012_1202-06-R | PID #16137\n",
      "2019-09-03 02:59:58 | [DEBUG] [WORKER] M017-2012_4649-14-R | PID #16140\n",
      "2019-09-03 02:59:58 | [DEBUG] [WORKER] M002-2012_2034-04-R | PID #16141\n",
      "2019-09-03 02:59:58 | [DEBUG] [WORKER] M031-2012_2263-05-R | PID #16138\n",
      "2019-09-03 02:59:58 | [DEBUG] [WORKER] M009-2012_2901-14-R | PID #16142\n",
      "2019-09-03 02:59:58 | [DEBUG] [WORKER] M030-2012_1472-04-R | PID #16143\n",
      "2019-09-03 02:59:58 | [DEBUG] [WORKER] M032-2012_2949-04-R | PID #16145\n",
      "2019-09-03 02:59:58 | [DEBUG] [WORKER] M019-2012_1157-08-R | PID #16139\n",
      "2019-09-03 02:59:58 | [DEBUG] [WORKER] M001-2012_1681-05-R | PID #16144\n",
      "2019-09-03 02:59:58 | [DEBUG] [WORKER] PID #16136 DONE.\n",
      "2019-09-03 02:59:58 | [DEBUG] [WORKER] PID #16142 DONE.\n",
      "2019-09-03 02:59:58 | [DEBUG] [WORKER] PID #16137 DONE.\n",
      "2019-09-03 02:59:59 | [DEBUG] [WORKER] PID #16143 DONE.\n",
      "2019-09-03 02:59:59 | [DEBUG] [WORKER] PID #16141 DONE.\n",
      "2019-09-03 02:59:59 | [DEBUG] [WORKER] M026-2012_1102-08-R | PID #16137\n",
      "2019-09-03 02:59:59 | [DEBUG] [WORKER] PID #16138 DONE.\n",
      "2019-09-03 02:59:59 | [DEBUG] [WORKER] M008-2012_2101-04-R | PID #16142\n",
      "2019-09-03 02:59:59 | [DEBUG] [WORKER] M021-2012_1098-03-R | PID #16136\n",
      "2019-09-03 02:59:59 | [DEBUG] [WORKER] M014-2012_0381-04-R | PID #16143\n",
      "2019-09-03 02:59:59 | [DEBUG] [WORKER] PID #16142 DONE.\n",
      "2019-09-03 02:59:59 | [DEBUG] [WORKER] PID #16136 DONE.\n",
      "2019-09-03 02:59:59 | [DEBUG] [WORKER] M029-2012_1819-10-R | PID #16141\n",
      "2019-09-03 02:59:59 | [DEBUG] [WORKER] PID #16137 DONE.\n",
      "2019-09-03 02:59:59 | [DEBUG] [WORKER] PID #16141 DONE.\n",
      "2019-09-03 02:59:59 | [DEBUG] [WORKER] M022-2012_1285-07-R | PID #16138\n",
      "2019-09-03 02:59:59 | [DEBUG] [WORKER] PID #16144 DONE.\n",
      "2019-09-03 03:00:00 | [DEBUG] [WORKER] M011-2012_0798-03-R | PID #16142\n",
      "2019-09-03 03:00:00 | [DEBUG] [WORKER] M025-2012_2969-02-R | PID #16136\n",
      "2019-09-03 03:00:00 | [DEBUG] [WORKER] M003-2012_2132-06-R | PID #16137\n",
      "2019-09-03 03:00:00 | [DEBUG] [WORKER] PID #16142 DONE.\n",
      "2019-09-03 03:00:00 | [DEBUG] [WORKER] PID #16136 DONE.\n",
      "2019-09-03 03:00:00 | [DEBUG] [WORKER] M033-2012_2074-05-R | PID #16141\n",
      "2019-09-03 03:00:00 | [DEBUG] [WORKER] PID #16137 DONE.\n",
      "2019-09-03 03:00:00 | [DEBUG] [WORKER] PID #16141 DONE.\n"
     ]
    },
    {
     "name": "stdout",
     "output_type": "stream",
     "text": [
      "\b\b\b\b\b\b\b\b\b\b\b\b\b\b\b\b\b\b\b\b\b\b\b\b\b\b\b\b\b\b\b\b\b\b\b\b\b\b\b\b\b\b\b\b\b\b\b\b\b\b\b\b\b\b\b\b\b\b\b\b\b\b\b\b\b\b\b\b\b\b\b\b\b\b\b\b\b\b\b\b\b\b\b\b\b\b\b\b\b\b\b\b\b\b\b\b\b\b\b\b\b\b\b\b\b\b\b\b\b\b\b\b\b\b\b\b\b\b\b\b\b\b\b\b\b\b\b\b\b\b\b\b\b\r",
      " 501/2000 [======>.......................] - ETA: 45:17 - loss: 0.6743 - binary_accuracy: 0.6326 - precision: 0.8596 - recall: 0.2910"
     ]
    },
    {
     "name": "stderr",
     "output_type": "stream",
     "text": [
      "2019-09-03 03:00:01 | [DEBUG] [WORKER] PID #16138 DONE.\n",
      "2019-09-03 03:00:01 | [DEBUG] [WORKER] PID #16145 DONE.\n",
      "2019-09-03 03:00:01 | [DEBUG] [WORKER] PID #16143 DONE.\n",
      "2019-09-03 03:00:02 | [DEBUG] [WORKER] PID #16139 DONE.\n",
      "2019-09-03 03:00:02 | [DEBUG] [WORKER] PID #16140 DONE.\n",
      "2019-09-03 03:00:03 | [DEBUG] [PROCESS] Concatenating\n",
      "2019-09-03 03:00:03 | [DEBUG] [PROCESS] Storing filenames\n",
      "2019-09-03 03:00:03 | [DEBUG] [PROCESS] Returning\n"
     ]
    },
    {
     "name": "stdout",
     "output_type": "stream",
     "text": [
      " 598/2000 [=======>......................] - ETA: 42:13 - loss: 0.6734 - binary_accuracy: 0.6359 - precision: 0.8576 - recall: 0.2957"
     ]
    },
    {
     "name": "stderr",
     "output_type": "stream",
     "text": [
      "2019-09-03 03:02:53 | [DEBUG] [PROCESS] Prepating chunk...\n",
      "2019-09-03 03:02:54 | [DEBUG] [PROCESS] Pooling\n"
     ]
    },
    {
     "name": "stdout",
     "output_type": "stream",
     "text": [
      " 600/2000 [========>.....................] - ETA: 42:09 - loss: 0.6736 - binary_accuracy: 0.6355 - precision: 0.8576 - recall: 0.2952"
     ]
    },
    {
     "name": "stderr",
     "output_type": "stream",
     "text": [
      "2019-09-03 03:02:57 | [DEBUG] [WORKER] M024-2012_0874-07-R | PID #16400\n",
      "2019-09-03 03:02:57 | [DEBUG] [WORKER] M018-2012_1202-06-R | PID #16401\n",
      "2019-09-03 03:02:57 | [DEBUG] [WORKER] M019-2012_1157-08-R | PID #16403\n",
      "2019-09-03 03:02:57 | [DEBUG] [WORKER] M017-2012_4649-14-R | PID #16405\n",
      "2019-09-03 03:02:57 | [DEBUG] [WORKER] M021-2012_1098-03-R | PID #16402\n",
      "2019-09-03 03:02:57 | [DEBUG] [WORKER] M009-2012_2901-14-R | PID #16406\n",
      "2019-09-03 03:02:57 | [DEBUG] [WORKER] M030-2012_1472-04-R | PID #16404\n",
      "2019-09-03 03:02:57 | [DEBUG] [WORKER] M001-2012_1681-05-R | PID #16425\n",
      "2019-09-03 03:02:57 | [DEBUG] [WORKER] M002-2012_2034-04-R | PID #16424\n",
      "2019-09-03 03:02:57 | [DEBUG] [WORKER] M032-2012_2949-04-R | PID #16426\n",
      "2019-09-03 03:02:57 | [DEBUG] [WORKER] PID #16400 DONE.\n",
      "2019-09-03 03:02:57 | [DEBUG] [WORKER] PID #16406 DONE.\n",
      "2019-09-03 03:02:57 | [DEBUG] [WORKER] PID #16404 DONE.\n",
      "2019-09-03 03:02:57 | [DEBUG] [WORKER] PID #16401 DONE.\n",
      "2019-09-03 03:02:57 | [DEBUG] [WORKER] PID #16402 DONE.\n",
      "2019-09-03 03:02:57 | [DEBUG] [WORKER] PID #16424 DONE.\n",
      "2019-09-03 03:02:57 | [DEBUG] [WORKER] M031-2012_2263-05-R | PID #16400\n",
      "2019-09-03 03:02:57 | [DEBUG] [WORKER] M026-2012_1102-08-R | PID #16406\n",
      "2019-09-03 03:02:57 | [DEBUG] [WORKER] PID #16400 DONE.\n",
      "2019-09-03 03:02:57 | [DEBUG] [WORKER] M008-2012_2101-04-R | PID #16404\n",
      "2019-09-03 03:02:57 | [DEBUG] [WORKER] M014-2012_0381-04-R | PID #16401\n",
      "2019-09-03 03:02:57 | [DEBUG] [WORKER] M029-2012_1819-10-R | PID #16402\n",
      "2019-09-03 03:02:57 | [DEBUG] [WORKER] PID #16404 DONE.\n",
      "2019-09-03 03:02:57 | [DEBUG] [WORKER] PID #16425 DONE.\n",
      "2019-09-03 03:02:57 | [DEBUG] [WORKER] M022-2012_1285-07-R | PID #16424\n",
      "2019-09-03 03:02:58 | [DEBUG] [WORKER] PID #16406 DONE.\n",
      "2019-09-03 03:02:58 | [DEBUG] [WORKER] PID #16402 DONE.\n",
      "2019-09-03 03:02:58 | [DEBUG] [WORKER] M011-2012_0798-03-R | PID #16400\n",
      "2019-09-03 03:02:58 | [DEBUG] [WORKER] M025-2012_2969-02-R | PID #16406\n",
      "2019-09-03 03:02:58 | [DEBUG] [WORKER] M003-2012_2132-06-R | PID #16404\n",
      "2019-09-03 03:02:58 | [DEBUG] [WORKER] PID #16400 DONE.\n",
      "2019-09-03 03:02:58 | [DEBUG] [WORKER] PID #16406 DONE.\n",
      "2019-09-03 03:02:58 | [DEBUG] [WORKER] PID #16404 DONE.\n",
      "2019-09-03 03:02:58 | [DEBUG] [WORKER] M033-2012_2074-05-R | PID #16402\n",
      "2019-09-03 03:02:58 | [DEBUG] [WORKER] PID #16402 DONE.\n"
     ]
    },
    {
     "name": "stdout",
     "output_type": "stream",
     "text": [
      "\b\b\b\b\b\b\b\b\b\b\b\b\b\b\b\b\b\b\b\b\b\b\b\b\b\b\b\b\b\b\b\b\b\b\b\b\b\b\b\b\b\b\b\b\b\b\b\b\b\b\b\b\b\b\b\b\b\b\b\b\b\b\b\b\b\b\b\b\b\b\b\b\b\b\b\b\b\b\b\b\b\b\b\b\b\b\b\b\b\b\b\b\b\b\b\b\b\b\b\b\b\b\b\b\b\b\b\b\b\b\b\b\b\b\b\b\b\b\b\b\b\b\b\b\b\b\b\b\b\b\b\b\b\r",
      " 601/2000 [========>.....................] - ETA: 42:08 - loss: 0.6736 - binary_accuracy: 0.6356 - precision: 0.8579 - recall: 0.2953"
     ]
    },
    {
     "name": "stderr",
     "output_type": "stream",
     "text": [
      "2019-09-03 03:02:59 | [DEBUG] [WORKER] PID #16426 DONE.\n",
      "2019-09-03 03:02:59 | [DEBUG] [WORKER] PID #16424 DONE.\n",
      "2019-09-03 03:03:00 | [DEBUG] [WORKER] PID #16401 DONE.\n",
      "2019-09-03 03:03:00 | [DEBUG] [WORKER] PID #16405 DONE.\n",
      "2019-09-03 03:03:00 | [DEBUG] [WORKER] PID #16403 DONE.\n"
     ]
    },
    {
     "name": "stdout",
     "output_type": "stream",
     "text": [
      "\b\b\b\b\b\b\b\b\b\b\b\b\b\b\b\b\b\b\b\b\b\b\b\b\b\b\b\b\b\b\b\b\b\b\b\b\b\b\b\b\b\b\b\b\b\b\b\b\b\b\b\b\b\b\b\b\b\b\b\b\b\b\b\b\b\b\b\b\b\b\b\b\b\b\b\b\b\b\b\b\b\b\b\b\b\b\b\b\b\b\b\b\b\b\b\b\b\b\b\b\b\b\b\b\b\b\b\b\b\b\b\b\b\b\b\b\b\b\b\b\b\b\b\b\b\b\b\b\b\b\b\b\b\r",
      " 602/2000 [========>.....................] - ETA: 42:07 - loss: 0.6736 - binary_accuracy: 0.6354 - precision: 0.8582 - recall: 0.2953"
     ]
    },
    {
     "name": "stderr",
     "output_type": "stream",
     "text": [
      "2019-09-03 03:03:01 | [DEBUG] [PROCESS] Concatenating\n",
      "2019-09-03 03:03:01 | [DEBUG] [PROCESS] Storing filenames\n",
      "2019-09-03 03:03:01 | [DEBUG] [PROCESS] Returning\n"
     ]
    },
    {
     "name": "stdout",
     "output_type": "stream",
     "text": [
      " 698/2000 [=========>....................] - ETA: 39:09 - loss: 0.6737 - binary_accuracy: 0.6351 - precision: 0.8607 - recall: 0.2964"
     ]
    },
    {
     "name": "stderr",
     "output_type": "stream",
     "text": [
      "2019-09-03 03:05:52 | [DEBUG] [PROCESS] Prepating chunk...\n",
      "2019-09-03 03:05:53 | [DEBUG] [PROCESS] Pooling\n"
     ]
    },
    {
     "name": "stdout",
     "output_type": "stream",
     "text": [
      "\b\b\b\b\b\b\b\b\b\b\b\b\b\b\b\b\b\b\b\b\b\b\b\b\b\b\b\b\b\b\b\b\b\b\b\b\b\b\b\b\b\b\b\b\b\b\b\b\b\b\b\b\b\b\b\b\b\b\b\b\b\b\b\b\b\b\b\b\b\b\b\b\b\b\b\b\b\b\b\b\b\b\b\b\b\b\b\b\b\b\b\b\b\b\b\b\b\b\b\b\b\b\b\b\b\b\b\b\b\b\b\b\b\b\b\b\b\b\b\b\b\b\b\b\b\b\b\b\b\b\b\b\b\r",
      " 699/2000 [=========>....................] - ETA: 39:07 - loss: 0.6736 - binary_accuracy: 0.6352 - precision: 0.8607 - recall: 0.2965"
     ]
    },
    {
     "name": "stderr",
     "output_type": "stream",
     "text": [
      "2019-09-03 03:05:55 | [DEBUG] [WORKER] M018-2012_1202-06-R | PID #16690\n",
      "2019-09-03 03:05:55 | [DEBUG] [WORKER] M011-2012_0798-03-R | PID #16693\n",
      "2019-09-03 03:05:55 | [DEBUG] [WORKER] M021-2012_1098-03-R | PID #16691\n",
      "2019-09-03 03:05:55 | [DEBUG] [WORKER] M019-2012_1157-08-R | PID #16692\n",
      "2019-09-03 03:05:55 | [DEBUG] [WORKER] M032-2012_2949-04-R | PID #16698\n",
      "2019-09-03 03:05:55 | [DEBUG] [WORKER] M024-2012_0874-07-R | PID #16689\n",
      "2019-09-03 03:05:55 | [DEBUG] [WORKER] M001-2012_1681-05-R | PID #16697\n",
      "2019-09-03 03:05:55 | [DEBUG] [WORKER] M009-2012_2901-14-R | PID #16695\n",
      "2019-09-03 03:05:55 | [DEBUG] [WORKER] M030-2012_1472-04-R | PID #16694\n",
      "2019-09-03 03:05:55 | [DEBUG] [WORKER] M002-2012_2034-04-R | PID #16696\n"
     ]
    },
    {
     "name": "stdout",
     "output_type": "stream",
     "text": [
      "\b\b\b\b\b\b\b\b\b\b\b\b\b\b\b\b\b\b\b\b\b\b\b\b\b\b\b\b\b\b\b\b\b\b\b\b\b\b\b\b\b\b\b\b\b\b\b\b\b\b\b\b\b\b\b\b\b\b\b\b\b\b\b\b\b\b\b\b\b\b\b\b\b\b\b\b\b\b\b\b\b\b\b\b\b\b\b\b\b\b\b\b\b\b\b\b\b\b\b\b\b\b\b\b\b\b\b\b\b\b\b\b\b\b\b\b\b\b\b\b\b\b\b\b\b\b\b\b\b\b\b\b\b\r",
      " 700/2000 [=========>....................] - ETA: 39:05 - loss: 0.6736 - binary_accuracy: 0.6352 - precision: 0.8603 - recall: 0.2963"
     ]
    },
    {
     "name": "stderr",
     "output_type": "stream",
     "text": [
      "2019-09-03 03:05:55 | [DEBUG] [WORKER] PID #16694 DONE.\n",
      "2019-09-03 03:05:55 | [DEBUG] [WORKER] PID #16690 DONE.\n",
      "2019-09-03 03:05:55 | [DEBUG] [WORKER] PID #16695 DONE.\n",
      "2019-09-03 03:05:55 | [DEBUG] [WORKER] PID #16689 DONE.\n",
      "2019-09-03 03:05:55 | [DEBUG] [WORKER] PID #16691 DONE.\n",
      "2019-09-03 03:05:55 | [DEBUG] [WORKER] PID #16693 DONE.\n",
      "2019-09-03 03:05:55 | [DEBUG] [WORKER] PID #16696 DONE.\n",
      "2019-09-03 03:05:55 | [DEBUG] [WORKER] M031-2012_2263-05-R | PID #16694\n",
      "2019-09-03 03:05:56 | [DEBUG] [WORKER] M026-2012_1102-08-R | PID #16690\n",
      "2019-09-03 03:05:56 | [DEBUG] [WORKER] M008-2012_2101-04-R | PID #16695\n",
      "2019-09-03 03:05:56 | [DEBUG] [WORKER] PID #16694 DONE.\n",
      "2019-09-03 03:05:56 | [DEBUG] [WORKER] M033-2012_2074-05-R | PID #16689\n",
      "2019-09-03 03:05:56 | [DEBUG] [WORKER] PID #16695 DONE.\n",
      "2019-09-03 03:05:56 | [DEBUG] [WORKER] M017-2012_4649-14-R | PID #16693\n",
      "2019-09-03 03:05:56 | [DEBUG] [WORKER] PID #16689 DONE.\n",
      "2019-09-03 03:05:56 | [DEBUG] [WORKER] PID #16690 DONE.\n",
      "2019-09-03 03:05:56 | [DEBUG] [WORKER] M022-2012_1285-07-R | PID #16696\n",
      "2019-09-03 03:05:56 | [DEBUG] [WORKER] PID #16697 DONE.\n",
      "2019-09-03 03:05:56 | [DEBUG] [WORKER] M029-2012_1819-10-R | PID #16691\n",
      "2019-09-03 03:05:56 | [DEBUG] [WORKER] M025-2012_2969-02-R | PID #16694\n",
      "2019-09-03 03:05:56 | [DEBUG] [WORKER] PID #16691 DONE.\n",
      "2019-09-03 03:05:57 | [DEBUG] [WORKER] M003-2012_2132-06-R | PID #16689\n",
      "2019-09-03 03:05:57 | [DEBUG] [WORKER] PID #16694 DONE.\n",
      "2019-09-03 03:05:57 | [DEBUG] [WORKER] M014-2012_0381-04-R | PID #16695\n",
      "2019-09-03 03:05:57 | [DEBUG] [WORKER] PID #16689 DONE.\n",
      "2019-09-03 03:05:57 | [DEBUG] [WORKER] PID #16696 DONE.\n"
     ]
    },
    {
     "name": "stdout",
     "output_type": "stream",
     "text": [
      "\b\b\b\b\b\b\b\b\b\b\b\b\b\b\b\b\b\b\b\b\b\b\b\b\b\b\b\b\b\b\b\b\b\b\b\b\b\b\b\b\b\b\b\b\b\b\b\b\b\b\b\b\b\b\b\b\b\b\b\b\b\b\b\b\b\b\b\b\b\b\b\b\b\b\b\b\b\b\b\b\b\b\b\b\b\b\b\b\b\b\b\b\b\b\b\b\b\b\b\b\b\b\b\b\b\b\b\b\b\b\b\b\b\b\b\b\b\b\b\b\b\b\b\b\b\b\b\b\b\b\b\b\b\r",
      " 701/2000 [=========>....................] - ETA: 39:04 - loss: 0.6737 - binary_accuracy: 0.6351 - precision: 0.8603 - recall: 0.2963"
     ]
    },
    {
     "name": "stderr",
     "output_type": "stream",
     "text": [
      "2019-09-03 03:05:58 | [DEBUG] [WORKER] PID #16698 DONE.\n",
      "2019-09-03 03:05:59 | [DEBUG] [WORKER] PID #16692 DONE.\n",
      "2019-09-03 03:05:59 | [DEBUG] [WORKER] PID #16695 DONE.\n"
     ]
    },
    {
     "name": "stdout",
     "output_type": "stream",
     "text": [
      "\b\b\b\b\b\b\b\b\b\b\b\b\b\b\b\b\b\b\b\b\b\b\b\b\b\b\b\b\b\b\b\b\b\b\b\b\b\b\b\b\b\b\b\b\b\b\b\b\b\b\b\b\b\b\b\b\b\b\b\b\b\b\b\b\b\b\b\b\b\b\b\b\b\b\b\b\b\b\b\b\b\b\b\b\b\b\b\b\b\b\b\b\b\b\b\b\b\b\b\b\b\b\b\b\b\b\b\b\b\b\b\b\b\b\b\b\b\b\b\b\b\b\b\b\b\b\b\b\b\b\b\b\b\r",
      " 702/2000 [=========>....................] - ETA: 39:02 - loss: 0.6736 - binary_accuracy: 0.6353 - precision: 0.8606 - recall: 0.2968"
     ]
    },
    {
     "name": "stderr",
     "output_type": "stream",
     "text": [
      "2019-09-03 03:05:59 | [DEBUG] [WORKER] PID #16693 DONE.\n",
      "2019-09-03 03:06:00 | [DEBUG] [PROCESS] Concatenating\n",
      "2019-09-03 03:06:00 | [DEBUG] [PROCESS] Storing filenames\n",
      "2019-09-03 03:06:00 | [DEBUG] [PROCESS] Returning\n"
     ]
    },
    {
     "name": "stdout",
     "output_type": "stream",
     "text": [
      " 798/2000 [==========>...................] - ETA: 36:04 - loss: 0.6738 - binary_accuracy: 0.6342 - precision: 0.8598 - recall: 0.2951"
     ]
    },
    {
     "name": "stderr",
     "output_type": "stream",
     "text": [
      "2019-09-03 03:08:50 | [DEBUG] [PROCESS] Prepating chunk...\n",
      "2019-09-03 03:08:50 | [DEBUG] [PROCESS] Pooling\n"
     ]
    },
    {
     "name": "stdout",
     "output_type": "stream",
     "text": [
      " 800/2000 [===========>..................] - ETA: 36:00 - loss: 0.6739 - binary_accuracy: 0.6340 - precision: 0.8595 - recall: 0.2947"
     ]
    },
    {
     "name": "stderr",
     "output_type": "stream",
     "text": [
      "2019-09-03 03:08:53 | [DEBUG] [WORKER] M018-2012_1202-06-R | PID #17023\n",
      "2019-09-03 03:08:53 | [DEBUG] [WORKER] M024-2012_0874-07-R | PID #17022\n",
      "2019-09-03 03:08:53 | [DEBUG] [WORKER] M021-2012_1098-03-R | PID #17025\n",
      "2019-09-03 03:08:53 | [DEBUG] [WORKER] M030-2012_1472-04-R | PID #17027\n",
      "2019-09-03 03:08:53 | [DEBUG] [WORKER] M019-2012_1157-08-R | PID #17026\n",
      "2019-09-03 03:08:53 | [DEBUG] [WORKER] M017-2012_4649-14-R | PID #17028\n",
      "2019-09-03 03:08:53 | [DEBUG] [WORKER] M009-2012_2901-14-R | PID #17029\n",
      "2019-09-03 03:08:53 | [DEBUG] [WORKER] M002-2012_2034-04-R | PID #17030\n",
      "2019-09-03 03:08:53 | [DEBUG] [WORKER] M001-2012_1681-05-R | PID #17031\n",
      "2019-09-03 03:08:53 | [DEBUG] [WORKER] M032-2012_2949-04-R | PID #17032\n",
      "2019-09-03 03:08:53 | [DEBUG] [WORKER] PID #17029 DONE.\n",
      "2019-09-03 03:08:53 | [DEBUG] [WORKER] PID #17023 DONE.\n",
      "2019-09-03 03:08:53 | [DEBUG] [WORKER] PID #17027 DONE.\n",
      "2019-09-03 03:08:53 | [DEBUG] [WORKER] PID #17022 DONE.\n",
      "2019-09-03 03:08:53 | [DEBUG] [WORKER] PID #17025 DONE.\n",
      "2019-09-03 03:08:53 | [DEBUG] [WORKER] PID #17030 DONE.\n",
      "2019-09-03 03:08:53 | [DEBUG] [WORKER] M031-2012_2263-05-R | PID #17029\n",
      "2019-09-03 03:08:53 | [DEBUG] [WORKER] M026-2012_1102-08-R | PID #17027\n",
      "2019-09-03 03:08:53 | [DEBUG] [WORKER] PID #17029 DONE.\n",
      "2019-09-03 03:08:53 | [DEBUG] [WORKER] M008-2012_2101-04-R | PID #17023\n",
      "2019-09-03 03:08:53 | [DEBUG] [WORKER] M033-2012_2074-05-R | PID #17022\n",
      "2019-09-03 03:08:53 | [DEBUG] [WORKER] PID #17027 DONE.\n",
      "2019-09-03 03:08:53 | [DEBUG] [WORKER] PID #17023 DONE.\n",
      "2019-09-03 03:08:53 | [DEBUG] [WORKER] PID #17022 DONE.\n",
      "2019-09-03 03:08:53 | [DEBUG] [WORKER] PID #17031 DONE.\n",
      "2019-09-03 03:08:53 | [DEBUG] [WORKER] M011-2012_0798-03-R | PID #17025\n",
      "2019-09-03 03:08:54 | [DEBUG] [WORKER] PID #17025 DONE.\n",
      "2019-09-03 03:08:54 | [DEBUG] [WORKER] M022-2012_1285-07-R | PID #17030\n",
      "2019-09-03 03:08:54 | [DEBUG] [WORKER] M029-2012_1819-10-R | PID #17029\n",
      "2019-09-03 03:08:54 | [DEBUG] [WORKER] M025-2012_2969-02-R | PID #17027\n",
      "2019-09-03 03:08:54 | [DEBUG] [WORKER] M003-2012_2132-06-R | PID #17022\n",
      "2019-09-03 03:08:54 | [DEBUG] [WORKER] PID #17029 DONE.\n",
      "2019-09-03 03:08:54 | [DEBUG] [WORKER] PID #17027 DONE.\n",
      "2019-09-03 03:08:54 | [DEBUG] [WORKER] PID #17032 DONE.\n",
      "2019-09-03 03:08:54 | [DEBUG] [WORKER] M014-2012_0381-04-R | PID #17023\n",
      "2019-09-03 03:08:54 | [DEBUG] [WORKER] PID #17022 DONE.\n"
     ]
    },
    {
     "name": "stdout",
     "output_type": "stream",
     "text": [
      "\b\b\b\b\b\b\b\b\b\b\b\b\b\b\b\b\b\b\b\b\b\b\b\b\b\b\b\b\b\b\b\b\b\b\b\b\b\b\b\b\b\b\b\b\b\b\b\b\b\b\b\b\b\b\b\b\b\b\b\b\b\b\b\b\b\b\b\b\b\b\b\b\b\b\b\b\b\b\b\b\b\b\b\b\b\b\b\b\b\b\b\b\b\b\b\b\b\b\b\b\b\b\b\b\b\b\b\b\b\b\b\b\b\b\b\b\b\b\b\b\b\b\b\b\b\b\b\b\b\b\b\b\b\r",
      " 801/2000 [===========>..................] - ETA: 35:58 - loss: 0.6739 - binary_accuracy: 0.6341 - precision: 0.8598 - recall: 0.2949"
     ]
    },
    {
     "name": "stderr",
     "output_type": "stream",
     "text": [
      "2019-09-03 03:08:54 | [DEBUG] [WORKER] PID #17030 DONE.\n",
      "2019-09-03 03:08:55 | [DEBUG] [WORKER] PID #17028 DONE.\n",
      "2019-09-03 03:08:55 | [DEBUG] [WORKER] PID #17026 DONE.\n",
      "2019-09-03 03:08:55 | [DEBUG] [WORKER] PID #17023 DONE.\n"
     ]
    },
    {
     "name": "stdout",
     "output_type": "stream",
     "text": [
      "\b\b\b\b\b\b\b\b\b\b\b\b\b\b\b\b\b\b\b\b\b\b\b\b\b\b\b\b\b\b\b\b\b\b\b\b\b\b\b\b\b\b\b\b\b\b\b\b\b\b\b\b\b\b\b\b\b\b\b\b\b\b\b\b\b\b\b\b\b\b\b\b\b\b\b\b\b\b\b\b\b\b\b\b\b\b\b\b\b\b\b\b\b\b\b\b\b\b\b\b\b\b\b\b\b\b\b\b\b\b\b\b\b\b\b\b\b\b\b\b\b\b\b\b\b\b\b\b\b\b\b\b\b\r",
      " 802/2000 [===========>..................] - ETA: 35:56 - loss: 0.6739 - binary_accuracy: 0.6341 - precision: 0.8599 - recall: 0.2949"
     ]
    },
    {
     "name": "stderr",
     "output_type": "stream",
     "text": [
      "2019-09-03 03:08:56 | [DEBUG] [PROCESS] Concatenating\n",
      "2019-09-03 03:08:56 | [DEBUG] [PROCESS] Storing filenames\n",
      "2019-09-03 03:08:56 | [DEBUG] [PROCESS] Returning\n"
     ]
    },
    {
     "name": "stdout",
     "output_type": "stream",
     "text": [
      " 898/2000 [============>.................] - ETA: 32:59 - loss: 0.6732 - binary_accuracy: 0.6356 - precision: 0.8593 - recall: 0.2965"
     ]
    },
    {
     "name": "stderr",
     "output_type": "stream",
     "text": [
      "2019-09-03 03:11:46 | [DEBUG] [PROCESS] Prepating chunk...\n",
      "2019-09-03 03:11:47 | [DEBUG] [PROCESS] Pooling\n"
     ]
    },
    {
     "name": "stdout",
     "output_type": "stream",
     "text": [
      "\b\b\b\b\b\b\b\b\b\b\b\b\b\b\b\b\b\b\b\b\b\b\b\b\b\b\b\b\b\b\b\b\b\b\b\b\b\b\b\b\b\b\b\b\b\b\b\b\b\b\b\b\b\b\b\b\b\b\b\b\b\b\b\b\b\b\b\b\b\b\b\b\b\b\b\b\b\b\b\b\b\b\b\b\b\b\b\b\b\b\b\b\b\b\b\b\b\b\b\b\b\b\b\b\b\b\b\b\b\b\b\b\b\b\b\b\b\b\b\b\b\b\b\b\b\b\b\b\b\b\b\b\b\r",
      " 899/2000 [============>.................] - ETA: 32:57 - loss: 0.6732 - binary_accuracy: 0.6355 - precision: 0.8592 - recall: 0.2963"
     ]
    },
    {
     "name": "stderr",
     "output_type": "stream",
     "text": [
      "2019-09-03 03:11:49 | [DEBUG] [WORKER] M018-2012_1202-06-R | PID #17409\n",
      "2019-09-03 03:11:49 | [DEBUG] [WORKER] M031-2012_2263-05-R | PID #17410\n",
      "2019-09-03 03:11:49 | [DEBUG] [WORKER] M024-2012_0874-07-R | PID #17408\n",
      "2019-09-03 03:11:49 | [DEBUG] [WORKER] M030-2012_1472-04-R | PID #17412\n",
      "2019-09-03 03:11:49 | [DEBUG] [WORKER] M019-2012_1157-08-R | PID #17411\n",
      "2019-09-03 03:11:49 | [DEBUG] [WORKER] M009-2012_2901-14-R | PID #17414\n",
      "2019-09-03 03:11:49 | [DEBUG] [WORKER] M002-2012_2034-04-R | PID #17415\n",
      "2019-09-03 03:11:49 | [DEBUG] [WORKER] M017-2012_4649-14-R | PID #17413\n",
      "2019-09-03 03:11:49 | [DEBUG] [WORKER] M001-2012_1681-05-R | PID #17416\n",
      "2019-09-03 03:11:49 | [DEBUG] [WORKER] M032-2012_2949-04-R | PID #17417\n",
      "2019-09-03 03:11:49 | [DEBUG] [WORKER] PID #17408 DONE.\n",
      "2019-09-03 03:11:49 | [DEBUG] [WORKER] PID #17414 DONE.\n",
      "2019-09-03 03:11:49 | [DEBUG] [WORKER] PID #17409 DONE.\n",
      "2019-09-03 03:11:49 | [DEBUG] [WORKER] PID #17410 DONE.\n",
      "2019-09-03 03:11:49 | [DEBUG] [WORKER] PID #17412 DONE.\n",
      "2019-09-03 03:11:49 | [DEBUG] [WORKER] M026-2012_1102-08-R | PID #17409\n",
      "2019-09-03 03:11:49 | [DEBUG] [WORKER] PID #17415 DONE.\n",
      "2019-09-03 03:11:49 | [DEBUG] [WORKER] M008-2012_2101-04-R | PID #17408\n"
     ]
    },
    {
     "name": "stdout",
     "output_type": "stream",
     "text": [
      "\b\b\b\b\b\b\b\b\b\b\b\b\b\b\b\b\b\b\b\b\b\b\b\b\b\b\b\b\b\b\b\b\b\b\b\b\b\b\b\b\b\b\b\b\b\b\b\b\b\b\b\b\b\b\b\b\b\b\b\b\b\b\b\b\b\b\b\b\b\b\b\b\b\b\b\b\b\b\b\b\b\b\b\b\b\b\b\b\b\b\b\b\b\b\b\b\b\b\b\b\b\b\b\b\b\b\b\b\b\b\b\b\b\b\b\b\b\b\b\b\b\b\b\b\b\b\b\b\b\b\b\b\b\r",
      " 900/2000 [============>.................] - ETA: 32:56 - loss: 0.6732 - binary_accuracy: 0.6355 - precision: 0.8593 - recall: 0.2963"
     ]
    },
    {
     "name": "stderr",
     "output_type": "stream",
     "text": [
      "2019-09-03 03:11:49 | [DEBUG] [WORKER] M021-2012_1098-03-R | PID #17414\n",
      "2019-09-03 03:11:49 | [DEBUG] [WORKER] M014-2012_0381-04-R | PID #17412\n",
      "2019-09-03 03:11:49 | [DEBUG] [WORKER] PID #17408 DONE.\n",
      "2019-09-03 03:11:49 | [DEBUG] [WORKER] PID #17414 DONE.\n",
      "2019-09-03 03:11:49 | [DEBUG] [WORKER] M029-2012_1819-10-R | PID #17410\n",
      "2019-09-03 03:11:50 | [DEBUG] [WORKER] PID #17409 DONE.\n",
      "2019-09-03 03:11:50 | [DEBUG] [WORKER] PID #17410 DONE.\n",
      "2019-09-03 03:11:50 | [DEBUG] [WORKER] M022-2012_1285-07-R | PID #17415\n",
      "2019-09-03 03:11:50 | [DEBUG] [WORKER] PID #17416 DONE.\n",
      "2019-09-03 03:11:50 | [DEBUG] [WORKER] M011-2012_0798-03-R | PID #17408\n",
      "2019-09-03 03:11:50 | [DEBUG] [WORKER] M025-2012_2969-02-R | PID #17414\n",
      "2019-09-03 03:11:50 | [DEBUG] [WORKER] PID #17408 DONE.\n",
      "2019-09-03 03:11:50 | [DEBUG] [WORKER] M003-2012_2132-06-R | PID #17409\n",
      "2019-09-03 03:11:50 | [DEBUG] [WORKER] PID #17414 DONE.\n",
      "2019-09-03 03:11:50 | [DEBUG] [WORKER] M033-2012_2074-05-R | PID #17410\n",
      "2019-09-03 03:11:50 | [DEBUG] [WORKER] PID #17409 DONE.\n",
      "2019-09-03 03:11:50 | [DEBUG] [WORKER] PID #17410 DONE.\n",
      "2019-09-03 03:11:51 | [DEBUG] [WORKER] PID #17417 DONE.\n",
      "2019-09-03 03:11:51 | [DEBUG] [WORKER] PID #17415 DONE.\n",
      "2019-09-03 03:11:51 | [DEBUG] [WORKER] PID #17412 DONE.\n"
     ]
    },
    {
     "name": "stdout",
     "output_type": "stream",
     "text": [
      "\b\b\b\b\b\b\b\b\b\b\b\b\b\b\b\b\b\b\b\b\b\b\b\b\b\b\b\b\b\b\b\b\b\b\b\b\b\b\b\b\b\b\b\b\b\b\b\b\b\b\b\b\b\b\b\b\b\b\b\b\b\b\b\b\b\b\b\b\b\b\b\b\b\b\b\b\b\b\b\b\b\b\b\b\b\b\b\b\b\b\b\b\b\b\b\b\b\b\b\b\b\b\b\b\b\b\b\b\b\b\b\b\b\b\b\b\b\b\b\b\b\b\b\b\b\b\b\b\b\b\b\b\b\r",
      " 901/2000 [============>.................] - ETA: 32:55 - loss: 0.6732 - binary_accuracy: 0.6354 - precision: 0.8594 - recall: 0.2962"
     ]
    },
    {
     "name": "stderr",
     "output_type": "stream",
     "text": [
      "2019-09-03 03:11:52 | [DEBUG] [WORKER] PID #17413 DONE.\n",
      "2019-09-03 03:11:52 | [DEBUG] [WORKER] PID #17411 DONE.\n",
      "2019-09-03 03:11:53 | [DEBUG] [PROCESS] Concatenating\n",
      "2019-09-03 03:11:53 | [DEBUG] [PROCESS] Storing filenames\n",
      "2019-09-03 03:11:53 | [DEBUG] [PROCESS] Returning\n"
     ]
    },
    {
     "name": "stdout",
     "output_type": "stream",
     "text": [
      " 998/2000 [=============>................] - ETA: 30:08 - loss: 0.6732 - binary_accuracy: 0.6346 - precision: 0.8614 - recall: 0.2938"
     ]
    },
    {
     "name": "stderr",
     "output_type": "stream",
     "text": [
      "2019-09-03 03:14:54 | [DEBUG] [PROCESS] Prepating chunk...\n",
      "2019-09-03 03:14:55 | [DEBUG] [PROCESS] Pooling\n"
     ]
    },
    {
     "name": "stdout",
     "output_type": "stream",
     "text": [
      "1000/2000 [==============>...............] - ETA: 30:04 - loss: 0.6733 - binary_accuracy: 0.6344 - precision: 0.8616 - recall: 0.2936"
     ]
    },
    {
     "name": "stderr",
     "output_type": "stream",
     "text": [
      "2019-09-03 03:14:57 | [DEBUG] [WORKER] M024-2012_0874-07-R | PID #17697\n",
      "2019-09-03 03:14:57 | [DEBUG] [WORKER] M018-2012_1202-06-R | PID #17698\n",
      "2019-09-03 03:14:57 | [DEBUG] [WORKER] M021-2012_1098-03-R | PID #17699\n",
      "2019-09-03 03:14:57 | [DEBUG] [WORKER] M030-2012_1472-04-R | PID #17701\n",
      "2019-09-03 03:14:57 | [DEBUG] [WORKER] M019-2012_1157-08-R | PID #17700\n",
      "2019-09-03 03:14:57 | [DEBUG] [WORKER] M017-2012_4649-14-R | PID #17702\n",
      "2019-09-03 03:14:57 | [DEBUG] [WORKER] M009-2012_2901-14-R | PID #17703\n",
      "2019-09-03 03:14:57 | [DEBUG] [WORKER] M002-2012_2034-04-R | PID #17704\n",
      "2019-09-03 03:14:57 | [DEBUG] [WORKER] M001-2012_1681-05-R | PID #17705\n",
      "2019-09-03 03:14:57 | [DEBUG] [WORKER] M032-2012_2949-04-R | PID #17706\n",
      "2019-09-03 03:14:57 | [DEBUG] [WORKER] PID #17701 DONE.\n",
      "2019-09-03 03:14:57 | [DEBUG] [WORKER] PID #17698 DONE.\n",
      "2019-09-03 03:14:58 | [DEBUG] [WORKER] PID #17703 DONE.\n",
      "2019-09-03 03:14:58 | [DEBUG] [WORKER] PID #17697 DONE.\n",
      "2019-09-03 03:14:58 | [DEBUG] [WORKER] PID #17699 DONE.\n",
      "2019-09-03 03:14:58 | [DEBUG] [WORKER] M026-2012_1102-08-R | PID #17701\n",
      "2019-09-03 03:14:58 | [DEBUG] [WORKER] PID #17704 DONE.\n",
      "2019-09-03 03:14:58 | [DEBUG] [WORKER] M008-2012_2101-04-R | PID #17698\n",
      "2019-09-03 03:14:58 | [DEBUG] [WORKER] M033-2012_2074-05-R | PID #17703\n",
      "2019-09-03 03:14:58 | [DEBUG] [WORKER] PID #17703 DONE.\n",
      "2019-09-03 03:14:58 | [DEBUG] [WORKER] PID #17698 DONE.\n",
      "2019-09-03 03:14:58 | [DEBUG] [WORKER] PID #17701 DONE.\n",
      "2019-09-03 03:14:58 | [DEBUG] [WORKER] M011-2012_0798-03-R | PID #17697\n",
      "2019-09-03 03:14:58 | [DEBUG] [WORKER] M022-2012_1285-07-R | PID #17699\n",
      "2019-09-03 03:14:58 | [DEBUG] [WORKER] PID #17697 DONE.\n",
      "2019-09-03 03:14:58 | [DEBUG] [WORKER] PID #17705 DONE.\n",
      "2019-09-03 03:14:58 | [DEBUG] [WORKER] M029-2012_1819-10-R | PID #17704\n"
     ]
    },
    {
     "name": "stdout",
     "output_type": "stream",
     "text": [
      "\b\b\b\b\b\b\b\b\b\b\b\b\b\b\b\b\b\b\b\b\b\b\b\b\b\b\b\b\b\b\b\b\b\b\b\b\b\b\b\b\b\b\b\b\b\b\b\b\b\b\b\b\b\b\b\b\b\b\b\b\b\b\b\b\b\b\b\b\b\b\b\b\b\b\b\b\b\b\b\b\b\b\b\b\b\b\b\b\b\b\b\b\b\b\b\b\b\b\b\b\b\b\b\b\b\b\b\b\b\b\b\b\b\b\b\b\b\b\b\b\b\b\b\b\b\b\b\b\b\b\b\b\b\r",
      "1001/2000 [==============>...............] - ETA: 30:02 - loss: 0.6732 - binary_accuracy: 0.6344 - precision: 0.8617 - recall: 0.2935"
     ]
    },
    {
     "name": "stderr",
     "output_type": "stream",
     "text": [
      "2019-09-03 03:14:58 | [DEBUG] [WORKER] M025-2012_2969-02-R | PID #17703\n",
      "2019-09-03 03:14:58 | [DEBUG] [WORKER] M003-2012_2132-06-R | PID #17701\n",
      "2019-09-03 03:14:58 | [DEBUG] [WORKER] PID #17704 DONE.\n",
      "2019-09-03 03:14:58 | [DEBUG] [WORKER] PID #17703 DONE.\n",
      "2019-09-03 03:14:58 | [DEBUG] [WORKER] M014-2012_0381-04-R | PID #17698\n",
      "2019-09-03 03:14:58 | [DEBUG] [WORKER] PID #17701 DONE.\n",
      "2019-09-03 03:14:59 | [DEBUG] [WORKER] PID #17706 DONE.\n",
      "2019-09-03 03:14:59 | [DEBUG] [WORKER] M031-2012_2263-05-R | PID #17697\n",
      "2019-09-03 03:14:59 | [DEBUG] [WORKER] PID #17697 DONE.\n",
      "2019-09-03 03:14:59 | [DEBUG] [WORKER] PID #17699 DONE.\n",
      "2019-09-03 03:14:59 | [DEBUG] [WORKER] PID #17702 DONE.\n",
      "2019-09-03 03:15:00 | [DEBUG] [WORKER] PID #17698 DONE.\n",
      "2019-09-03 03:15:00 | [DEBUG] [WORKER] PID #17700 DONE.\n"
     ]
    },
    {
     "name": "stdout",
     "output_type": "stream",
     "text": [
      "\b\b\b\b\b\b\b\b\b\b\b\b\b\b\b\b\b\b\b\b\b\b\b\b\b\b\b\b\b\b\b\b\b\b\b\b\b\b\b\b\b\b\b\b\b\b\b\b\b\b\b\b\b\b\b\b\b\b\b\b\b\b\b\b\b\b\b\b\b\b\b\b\b\b\b\b\b\b\b\b\b\b\b\b\b\b\b\b\b\b\b\b\b\b\b\b\b\b\b\b\b\b\b\b\b\b\b\b\b\b\b\b\b\b\b\b\b\b\b\b\b\b\b\b\b\b\b\b\b\b\b\b\b\r",
      "1002/2000 [==============>...............] - ETA: 30:00 - loss: 0.6732 - binary_accuracy: 0.6344 - precision: 0.8617 - recall: 0.2935"
     ]
    },
    {
     "name": "stderr",
     "output_type": "stream",
     "text": [
      "2019-09-03 03:15:01 | [DEBUG] [PROCESS] Concatenating\n",
      "2019-09-03 03:15:01 | [DEBUG] [PROCESS] Storing filenames\n",
      "2019-09-03 03:15:01 | [DEBUG] [PROCESS] Returning\n"
     ]
    },
    {
     "name": "stdout",
     "output_type": "stream",
     "text": [
      "1098/2000 [===============>..............] - ETA: 27:05 - loss: 0.6727 - binary_accuracy: 0.6350 - precision: 0.8612 - recall: 0.2932"
     ]
    },
    {
     "name": "stderr",
     "output_type": "stream",
     "text": [
      "2019-09-03 03:17:51 | [DEBUG] [PROCESS] Prepating chunk...\n",
      "2019-09-03 03:17:52 | [DEBUG] [PROCESS] Pooling\n"
     ]
    },
    {
     "name": "stdout",
     "output_type": "stream",
     "text": [
      "1100/2000 [===============>..............] - ETA: 27:01 - loss: 0.6726 - binary_accuracy: 0.6351 - precision: 0.8613 - recall: 0.2931"
     ]
    },
    {
     "name": "stderr",
     "output_type": "stream",
     "text": [
      "2019-09-03 03:17:54 | [DEBUG] [WORKER] M024-2012_0874-07-R | PID #18797\n",
      "2019-09-03 03:17:54 | [DEBUG] [WORKER] M019-2012_1157-08-R | PID #18800\n",
      "2019-09-03 03:17:54 | [DEBUG] [WORKER] M021-2012_1098-03-R | PID #18799\n",
      "2019-09-03 03:17:54 | [DEBUG] [WORKER] M030-2012_1472-04-R | PID #18801\n",
      "2019-09-03 03:17:54 | [DEBUG] [WORKER] M018-2012_1202-06-R | PID #18798\n",
      "2019-09-03 03:17:54 | [DEBUG] [WORKER] M009-2012_2901-14-R | PID #18803\n",
      "2019-09-03 03:17:54 | [DEBUG] [WORKER] M017-2012_4649-14-R | PID #18802\n",
      "2019-09-03 03:17:54 | [DEBUG] [WORKER] M001-2012_1681-05-R | PID #18804\n",
      "2019-09-03 03:17:54 | [DEBUG] [WORKER] M031-2012_2263-05-R | PID #18805\n",
      "2019-09-03 03:17:54 | [DEBUG] [WORKER] M032-2012_2949-04-R | PID #18806\n",
      "2019-09-03 03:17:54 | [DEBUG] [WORKER] PID #18801 DONE.\n",
      "2019-09-03 03:17:54 | [DEBUG] [WORKER] PID #18803 DONE.\n",
      "2019-09-03 03:17:54 | [DEBUG] [WORKER] PID #18798 DONE.\n",
      "2019-09-03 03:17:54 | [DEBUG] [WORKER] PID #18797 DONE.\n",
      "2019-09-03 03:17:54 | [DEBUG] [WORKER] PID #18799 DONE.\n",
      "2019-09-03 03:17:54 | [DEBUG] [WORKER] M026-2012_1102-08-R | PID #18801\n",
      "2019-09-03 03:17:54 | [DEBUG] [WORKER] PID #18805 DONE.\n",
      "2019-09-03 03:17:55 | [DEBUG] [WORKER] M008-2012_2101-04-R | PID #18803\n",
      "2019-09-03 03:17:55 | [DEBUG] [WORKER] M014-2012_0381-04-R | PID #18798\n",
      "2019-09-03 03:17:55 | [DEBUG] [WORKER] M011-2012_0798-03-R | PID #18797\n",
      "2019-09-03 03:17:55 | [DEBUG] [WORKER] PID #18801 DONE.\n",
      "2019-09-03 03:17:55 | [DEBUG] [WORKER] PID #18803 DONE.\n",
      "2019-09-03 03:17:55 | [DEBUG] [WORKER] M022-2012_1285-07-R | PID #18799\n",
      "2019-09-03 03:17:55 | [DEBUG] [WORKER] PID #18797 DONE.\n",
      "2019-09-03 03:17:55 | [DEBUG] [WORKER] M029-2012_1819-10-R | PID #18805\n",
      "2019-09-03 03:17:55 | [DEBUG] [WORKER] M025-2012_2969-02-R | PID #18801\n",
      "2019-09-03 03:17:55 | [DEBUG] [WORKER] M003-2012_2132-06-R | PID #18803\n",
      "2019-09-03 03:17:55 | [DEBUG] [WORKER] PID #18804 DONE.\n",
      "2019-09-03 03:17:55 | [DEBUG] [WORKER] PID #18801 DONE.\n",
      "2019-09-03 03:17:55 | [DEBUG] [WORKER] PID #18805 DONE.\n",
      "2019-09-03 03:17:55 | [DEBUG] [WORKER] M002-2012_2034-04-R | PID #18797\n",
      "2019-09-03 03:17:56 | [DEBUG] [WORKER] M033-2012_2074-05-R | PID #18805\n",
      "2019-09-03 03:17:56 | [DEBUG] [WORKER] PID #18803 DONE.\n",
      "2019-09-03 03:17:56 | [DEBUG] [WORKER] PID #18797 DONE.\n",
      "2019-09-03 03:17:56 | [DEBUG] [WORKER] PID #18805 DONE.\n",
      "2019-09-03 03:17:56 | [DEBUG] [WORKER] PID #18799 DONE.\n",
      "2019-09-03 03:17:56 | [DEBUG] [WORKER] PID #18806 DONE.\n"
     ]
    },
    {
     "name": "stdout",
     "output_type": "stream",
     "text": [
      "\b\b\b\b\b\b\b\b\b\b\b\b\b\b\b\b\b\b\b\b\b\b\b\b\b\b\b\b\b\b\b\b\b\b\b\b\b\b\b\b\b\b\b\b\b\b\b\b\b\b\b\b\b\b\b\b\b\b\b\b\b\b\b\b\b\b\b\b\b\b\b\b\b\b\b\b\b\b\b\b\b\b\b\b\b\b\b\b\b\b\b\b\b\b\b\b\b\b\b\b\b\b\b\b\b\b\b\b\b\b\b\b\b\b\b\b\b\b\b\b\b\b\b\b\b\b\b\b\b\b\b\b\b\r",
      "1101/2000 [===============>..............] - ETA: 27:00 - loss: 0.6726 - binary_accuracy: 0.6351 - precision: 0.8613 - recall: 0.2930"
     ]
    },
    {
     "name": "stderr",
     "output_type": "stream",
     "text": [
      "2019-09-03 03:17:57 | [DEBUG] [WORKER] PID #18798 DONE.\n",
      "2019-09-03 03:17:57 | [DEBUG] [WORKER] PID #18800 DONE.\n",
      "2019-09-03 03:17:57 | [DEBUG] [WORKER] PID #18802 DONE.\n",
      "2019-09-03 03:17:58 | [DEBUG] [PROCESS] Concatenating\n",
      "2019-09-03 03:17:58 | [DEBUG] [PROCESS] Storing filenames\n",
      "2019-09-03 03:17:58 | [DEBUG] [PROCESS] Returning\n"
     ]
    },
    {
     "name": "stdout",
     "output_type": "stream",
     "text": [
      "1198/2000 [================>.............] - ETA: 24:04 - loss: 0.6723 - binary_accuracy: 0.6357 - precision: 0.8628 - recall: 0.2939"
     ]
    },
    {
     "name": "stderr",
     "output_type": "stream",
     "text": [
      "2019-09-03 03:20:50 | [DEBUG] [PROCESS] Prepating chunk...\n",
      "2019-09-03 03:20:51 | [DEBUG] [PROCESS] Pooling\n"
     ]
    },
    {
     "name": "stdout",
     "output_type": "stream",
     "text": [
      "1200/2000 [=================>............] - ETA: 24:00 - loss: 0.6724 - binary_accuracy: 0.6356 - precision: 0.8625 - recall: 0.2937"
     ]
    },
    {
     "name": "stderr",
     "output_type": "stream",
     "text": [
      "2019-09-03 03:20:54 | [DEBUG] [WORKER] M024-2012_0874-07-R | PID #19255\n",
      "2019-09-03 03:20:54 | [DEBUG] [WORKER] M019-2012_1157-08-R | PID #19259\n",
      "2019-09-03 03:20:54 | [DEBUG] [WORKER] M017-2012_4649-14-R | PID #19261\n",
      "2019-09-03 03:20:54 | [DEBUG] [WORKER] M021-2012_1098-03-R | PID #19258\n",
      "2019-09-03 03:20:54 | [DEBUG] [WORKER] M030-2012_1472-04-R | PID #19275\n",
      "2019-09-03 03:20:54 | [DEBUG] [WORKER] M002-2012_2034-04-R | PID #19264\n",
      "2019-09-03 03:20:54 | [DEBUG] [WORKER] M009-2012_2901-14-R | PID #19270\n",
      "2019-09-03 03:20:54 | [DEBUG] [WORKER] M018-2012_1202-06-R | PID #19256\n",
      "2019-09-03 03:20:54 | [DEBUG] [WORKER] M001-2012_1681-05-R | PID #19306\n",
      "2019-09-03 03:20:54 | [DEBUG] [WORKER] M032-2012_2949-04-R | PID #19307\n",
      "2019-09-03 03:20:54 | [DEBUG] [WORKER] PID #19270 DONE.\n",
      "2019-09-03 03:20:54 | [DEBUG] [WORKER] PID #19256 DONE.\n",
      "2019-09-03 03:20:54 | [DEBUG] [WORKER] PID #19275 DONE.\n",
      "2019-09-03 03:20:54 | [DEBUG] [WORKER] PID #19255 DONE.\n",
      "2019-09-03 03:20:54 | [DEBUG] [WORKER] PID #19264 DONE.\n",
      "2019-09-03 03:20:54 | [DEBUG] [WORKER] PID #19258 DONE.\n",
      "2019-09-03 03:20:54 | [DEBUG] [WORKER] M031-2012_2263-05-R | PID #19270\n",
      "2019-09-03 03:20:54 | [DEBUG] [WORKER] M026-2012_1102-08-R | PID #19256\n",
      "2019-09-03 03:20:54 | [DEBUG] [WORKER] M008-2012_2101-04-R | PID #19275\n",
      "2019-09-03 03:20:54 | [DEBUG] [WORKER] M033-2012_2074-05-R | PID #19255\n",
      "2019-09-03 03:20:54 | [DEBUG] [WORKER] PID #19270 DONE.\n",
      "2019-09-03 03:20:54 | [DEBUG] [WORKER] PID #19255 DONE.\n",
      "2019-09-03 03:20:54 | [DEBUG] [WORKER] PID #19275 DONE.\n",
      "2019-09-03 03:20:54 | [DEBUG] [WORKER] M029-2012_1819-10-R | PID #19264\n",
      "2019-09-03 03:20:55 | [DEBUG] [WORKER] M022-2012_1285-07-R | PID #19258\n",
      "2019-09-03 03:20:55 | [DEBUG] [WORKER] PID #19256 DONE.\n",
      "2019-09-03 03:20:55 | [DEBUG] [WORKER] PID #19264 DONE.\n",
      "2019-09-03 03:20:55 | [DEBUG] [WORKER] M011-2012_0798-03-R | PID #19255\n",
      "2019-09-03 03:20:55 | [DEBUG] [WORKER] M025-2012_2969-02-R | PID #19270\n",
      "2019-09-03 03:20:55 | [DEBUG] [WORKER] PID #19255 DONE.\n",
      "2019-09-03 03:20:55 | [DEBUG] [WORKER] PID #19306 DONE.\n",
      "2019-09-03 03:20:55 | [DEBUG] [WORKER] PID #19270 DONE.\n",
      "2019-09-03 03:20:55 | [DEBUG] [WORKER] M003-2012_2132-06-R | PID #19275\n",
      "2019-09-03 03:20:55 | [DEBUG] [WORKER] M014-2012_0381-04-R | PID #19256\n"
     ]
    },
    {
     "name": "stdout",
     "output_type": "stream",
     "text": [
      "\b\b\b\b\b\b\b\b\b\b\b\b\b\b\b\b\b\b\b\b\b\b\b\b\b\b\b\b\b\b\b\b\b\b\b\b\b\b\b\b\b\b\b\b\b\b\b\b\b\b\b\b\b\b\b\b\b\b\b\b\b\b\b\b\b\b\b\b\b\b\b\b\b\b\b\b\b\b\b\b\b\b\b\b\b\b\b\b\b\b\b\b\b\b\b\b\b\b\b\b\b\b\b\b\b\b\b\b\b\b\b\b\b\b\b\b\b\b\b\b\b\b\b\b\b\b\b\b\b\b\b\b\b\r",
      "1201/2000 [=================>............] - ETA: 23:59 - loss: 0.6724 - binary_accuracy: 0.6356 - precision: 0.8625 - recall: 0.2937"
     ]
    },
    {
     "name": "stderr",
     "output_type": "stream",
     "text": [
      "2019-09-03 03:20:55 | [DEBUG] [WORKER] PID #19275 DONE.\n",
      "2019-09-03 03:20:56 | [DEBUG] [WORKER] PID #19258 DONE.\n",
      "2019-09-03 03:20:56 | [DEBUG] [WORKER] PID #19307 DONE.\n",
      "2019-09-03 03:20:57 | [DEBUG] [WORKER] PID #19256 DONE.\n",
      "2019-09-03 03:20:57 | [DEBUG] [WORKER] PID #19261 DONE.\n",
      "2019-09-03 03:20:57 | [DEBUG] [WORKER] PID #19259 DONE.\n"
     ]
    },
    {
     "name": "stdout",
     "output_type": "stream",
     "text": [
      "\b\b\b\b\b\b\b\b\b\b\b\b\b\b\b\b\b\b\b\b\b\b\b\b\b\b\b\b\b\b\b\b\b\b\b\b\b\b\b\b\b\b\b\b\b\b\b\b\b\b\b\b\b\b\b\b\b\b\b\b\b\b\b\b\b\b\b\b\b\b\b\b\b\b\b\b\b\b\b\b\b\b\b\b\b\b\b\b\b\b\b\b\b\b\b\b\b\b\b\b\b\b\b\b\b\b\b\b\b\b\b\b\b\b\b\b\b\b\b\b\b\b\b\b\b\b\b\b\b\b\b\b\b\r",
      "1202/2000 [=================>............] - ETA: 23:57 - loss: 0.6724 - binary_accuracy: 0.6355 - precision: 0.8626 - recall: 0.2937"
     ]
    },
    {
     "name": "stderr",
     "output_type": "stream",
     "text": [
      "2019-09-03 03:20:58 | [DEBUG] [PROCESS] Concatenating\n",
      "2019-09-03 03:20:58 | [DEBUG] [PROCESS] Storing filenames\n",
      "2019-09-03 03:20:58 | [DEBUG] [PROCESS] Returning\n"
     ]
    },
    {
     "name": "stdout",
     "output_type": "stream",
     "text": [
      "1298/2000 [==================>...........] - ETA: 21:02 - loss: 0.6724 - binary_accuracy: 0.6353 - precision: 0.8628 - recall: 0.2938"
     ]
    },
    {
     "name": "stderr",
     "output_type": "stream",
     "text": [
      "2019-09-03 03:23:47 | [DEBUG] [PROCESS] Prepating chunk...\n",
      "2019-09-03 03:23:48 | [DEBUG] [PROCESS] Pooling\n"
     ]
    },
    {
     "name": "stdout",
     "output_type": "stream",
     "text": [
      "1300/2000 [==================>...........] - ETA: 20:58 - loss: 0.6724 - binary_accuracy: 0.6354 - precision: 0.8627 - recall: 0.2938"
     ]
    },
    {
     "name": "stderr",
     "output_type": "stream",
     "text": [
      "2019-09-03 03:23:50 | [DEBUG] [WORKER] M021-2012_1098-03-R | PID #20687\n",
      "2019-09-03 03:23:50 | [DEBUG] [WORKER] M024-2012_0874-07-R | PID #20685\n",
      "2019-09-03 03:23:50 | [DEBUG] [WORKER] M018-2012_1202-06-R | PID #20686\n",
      "2019-09-03 03:23:50 | [DEBUG] [WORKER] M030-2012_1472-04-R | PID #20707\n",
      "2019-09-03 03:23:50 | [DEBUG] [WORKER] M019-2012_1157-08-R | PID #20688\n",
      "2019-09-03 03:23:50 | [DEBUG] [WORKER] M003-2012_2132-06-R | PID #20708\n",
      "2019-09-03 03:23:50 | [DEBUG] [WORKER] M009-2012_2901-14-R | PID #20709\n",
      "2019-09-03 03:23:50 | [DEBUG] [WORKER] M017-2012_4649-14-R | PID #20706\n",
      "2019-09-03 03:23:50 | [DEBUG] [WORKER] M002-2012_2034-04-R | PID #20710\n",
      "2019-09-03 03:23:50 | [DEBUG] [WORKER] M001-2012_1681-05-R | PID #20711\n",
      "2019-09-03 03:23:50 | [DEBUG] [WORKER] PID #20686 DONE.\n",
      "2019-09-03 03:23:50 | [DEBUG] [WORKER] PID #20707 DONE.\n",
      "2019-09-03 03:23:51 | [DEBUG] [WORKER] PID #20687 DONE.\n",
      "2019-09-03 03:23:51 | [DEBUG] [WORKER] PID #20685 DONE.\n",
      "2019-09-03 03:23:51 | [DEBUG] [WORKER] PID #20709 DONE.\n",
      "2019-09-03 03:23:51 | [DEBUG] [WORKER] PID #20710 DONE.\n",
      "2019-09-03 03:23:51 | [DEBUG] [WORKER] PID #20708 DONE.\n",
      "2019-09-03 03:23:51 | [DEBUG] [WORKER] M031-2012_2263-05-R | PID #20686\n",
      "2019-09-03 03:23:51 | [DEBUG] [WORKER] M026-2012_1102-08-R | PID #20707\n",
      "2019-09-03 03:23:51 | [DEBUG] [WORKER] M008-2012_2101-04-R | PID #20709\n",
      "2019-09-03 03:23:51 | [DEBUG] [WORKER] PID #20686 DONE.\n",
      "2019-09-03 03:23:51 | [DEBUG] [WORKER] M033-2012_2074-05-R | PID #20685\n",
      "2019-09-03 03:23:51 | [DEBUG] [WORKER] PID #20709 DONE.\n",
      "2019-09-03 03:23:51 | [DEBUG] [WORKER] PID #20685 DONE.\n",
      "2019-09-03 03:23:51 | [DEBUG] [WORKER] PID #20707 DONE.\n",
      "2019-09-03 03:23:51 | [DEBUG] [WORKER] M011-2012_0798-03-R | PID #20687\n",
      "2019-09-03 03:23:51 | [DEBUG] [WORKER] PID #20711 DONE.\n",
      "2019-09-03 03:23:51 | [DEBUG] [WORKER] M022-2012_1285-07-R | PID #20710\n",
      "2019-09-03 03:23:51 | [DEBUG] [WORKER] PID #20687 DONE.\n",
      "2019-09-03 03:23:51 | [DEBUG] [WORKER] M029-2012_1819-10-R | PID #20708\n",
      "2019-09-03 03:23:52 | [DEBUG] [WORKER] M025-2012_2969-02-R | PID #20685\n",
      "2019-09-03 03:23:52 | [DEBUG] [WORKER] PID #20708 DONE.\n",
      "2019-09-03 03:23:52 | [DEBUG] [WORKER] M032-2012_2949-04-R | PID #20686\n",
      "2019-09-03 03:23:52 | [DEBUG] [WORKER] PID #20685 DONE.\n",
      "2019-09-03 03:23:52 | [DEBUG] [WORKER] M014-2012_0381-04-R | PID #20709\n"
     ]
    },
    {
     "name": "stdout",
     "output_type": "stream",
     "text": [
      "\b\b\b\b\b\b\b\b\b\b\b\b\b\b\b\b\b\b\b\b\b\b\b\b\b\b\b\b\b\b\b\b\b\b\b\b\b\b\b\b\b\b\b\b\b\b\b\b\b\b\b\b\b\b\b\b\b\b\b\b\b\b\b\b\b\b\b\b\b\b\b\b\b\b\b\b\b\b\b\b\b\b\b\b\b\b\b\b\b\b\b\b\b\b\b\b\b\b\b\b\b\b\b\b\b\b\b\b\b\b\b\b\b\b\b\b\b\b\b\b\b\b\b\b\b\b\b\b\b\b\b\b\b\r",
      "1301/2000 [==================>...........] - ETA: 20:57 - loss: 0.6724 - binary_accuracy: 0.6354 - precision: 0.8628 - recall: 0.2938"
     ]
    },
    {
     "name": "stderr",
     "output_type": "stream",
     "text": [
      "2019-09-03 03:23:53 | [DEBUG] [WORKER] PID #20710 DONE.\n",
      "2019-09-03 03:23:54 | [DEBUG] [WORKER] PID #20709 DONE.\n",
      "2019-09-03 03:23:54 | [DEBUG] [WORKER] PID #20688 DONE.\n",
      "2019-09-03 03:23:54 | [DEBUG] [WORKER] PID #20686 DONE.\n",
      "2019-09-03 03:23:54 | [DEBUG] [WORKER] PID #20706 DONE.\n"
     ]
    },
    {
     "name": "stdout",
     "output_type": "stream",
     "text": [
      "\b\b\b\b\b\b\b\b\b\b\b\b\b\b\b\b\b\b\b\b\b\b\b\b\b\b\b\b\b\b\b\b\b\b\b\b\b\b\b\b\b\b\b\b\b\b\b\b\b\b\b\b\b\b\b\b\b\b\b\b\b\b\b\b\b\b\b\b\b\b\b\b\b\b\b\b\b\b\b\b\b\b\b\b\b\b\b\b\b\b\b\b\b\b\b\b\b\b\b\b\b\b\b\b\b\b\b\b\b\b\b\b\b\b\b\b\b\b\b\b\b\b\b\b\b\b\b\b\b\b\b\b\b\r",
      "1302/2000 [==================>...........] - ETA: 20:55 - loss: 0.6724 - binary_accuracy: 0.6353 - precision: 0.8626 - recall: 0.2938"
     ]
    },
    {
     "name": "stderr",
     "output_type": "stream",
     "text": [
      "2019-09-03 03:23:55 | [DEBUG] [PROCESS] Concatenating\n",
      "2019-09-03 03:23:55 | [DEBUG] [PROCESS] Storing filenames\n",
      "2019-09-03 03:23:55 | [DEBUG] [PROCESS] Returning\n"
     ]
    },
    {
     "name": "stdout",
     "output_type": "stream",
     "text": [
      "1398/2000 [===================>..........] - ETA: 18:03 - loss: 0.6722 - binary_accuracy: 0.6356 - precision: 0.8639 - recall: 0.2932"
     ]
    },
    {
     "name": "stderr",
     "output_type": "stream",
     "text": [
      "2019-09-03 03:26:48 | [DEBUG] [PROCESS] Prepating chunk...\n",
      "2019-09-03 03:26:49 | [DEBUG] [PROCESS] Pooling\n"
     ]
    },
    {
     "name": "stdout",
     "output_type": "stream",
     "text": [
      "\b\b\b\b\b\b\b\b\b\b\b\b\b\b\b\b\b\b\b\b\b\b\b\b\b\b\b\b\b\b\b\b\b\b\b\b\b\b\b\b\b\b\b\b\b\b\b\b\b\b\b\b\b\b\b\b\b\b\b\b\b\b\b\b\b\b\b\b\b\b\b\b\b\b\b\b\b\b\b\b\b\b\b\b\b\b\b\b\b\b\b\b\b\b\b\b\b\b\b\b\b\b\b\b\b\b\b\b\b\b\b\b\b\b\b\b\b\b\b\b\b\b\b\b\b\b\b\b\b\b\b\b\b\r",
      "1399/2000 [===================>..........] - ETA: 18:01 - loss: 0.6722 - binary_accuracy: 0.6357 - precision: 0.8640 - recall: 0.2933"
     ]
    },
    {
     "name": "stderr",
     "output_type": "stream",
     "text": [
      "2019-09-03 03:26:50 | [DEBUG] [WORKER] M024-2012_0874-07-R | PID #21032\n",
      "2019-09-03 03:26:50 | [DEBUG] [WORKER] M019-2012_1157-08-R | PID #21035\n",
      "2019-09-03 03:26:50 | [DEBUG] [WORKER] M021-2012_1098-03-R | PID #21034\n",
      "2019-09-03 03:26:50 | [DEBUG] [WORKER] M018-2012_1202-06-R | PID #21033\n",
      "2019-09-03 03:26:51 | [DEBUG] [WORKER] M001-2012_1681-05-R | PID #21040\n",
      "2019-09-03 03:26:51 | [DEBUG] [WORKER] M032-2012_2949-04-R | PID #21041\n",
      "2019-09-03 03:26:51 | [DEBUG] [WORKER] M030-2012_1472-04-R | PID #21036\n",
      "2019-09-03 03:26:51 | [DEBUG] [WORKER] M009-2012_2901-14-R | PID #21038\n",
      "2019-09-03 03:26:51 | [DEBUG] [WORKER] M002-2012_2034-04-R | PID #21039\n",
      "2019-09-03 03:26:51 | [DEBUG] [WORKER] M017-2012_4649-14-R | PID #21037\n",
      "2019-09-03 03:26:51 | [DEBUG] [WORKER] PID #21033 DONE.\n",
      "2019-09-03 03:26:51 | [DEBUG] [WORKER] PID #21036 DONE.\n",
      "2019-09-03 03:26:51 | [DEBUG] [WORKER] PID #21038 DONE.\n",
      "2019-09-03 03:26:51 | [DEBUG] [WORKER] PID #21032 DONE.\n",
      "2019-09-03 03:26:51 | [DEBUG] [WORKER] PID #21034 DONE.\n",
      "2019-09-03 03:26:51 | [DEBUG] [WORKER] PID #21039 DONE.\n",
      "2019-09-03 03:26:51 | [DEBUG] [WORKER] M026-2012_1102-08-R | PID #21038\n",
      "2019-09-03 03:26:51 | [DEBUG] [WORKER] M008-2012_2101-04-R | PID #21033\n",
      "2019-09-03 03:26:51 | [DEBUG] [WORKER] M014-2012_0381-04-R | PID #21036\n",
      "2019-09-03 03:26:51 | [DEBUG] [WORKER] M011-2012_0798-03-R | PID #21032\n"
     ]
    },
    {
     "name": "stdout",
     "output_type": "stream",
     "text": [
      "\b\b\b\b\b\b\b\b\b\b\b\b\b\b\b\b\b\b\b\b\b\b\b\b\b\b\b\b\b\b\b\b\b\b\b\b\b\b\b\b\b\b\b\b\b\b\b\b\b\b\b\b\b\b\b\b\b\b\b\b\b\b\b\b\b\b\b\b\b\b\b\b\b\b\b\b\b\b\b\b\b\b\b\b\b\b\b\b\b\b\b\b\b\b\b\b\b\b\b\b\b\b\b\b\b\b\b\b\b\b\b\b\b\b\b\b\b\b\b\b\b\b\b\b\b\b\b\b\b\b\b\b\b\r",
      "1400/2000 [====================>.........] - ETA: 17:59 - loss: 0.6722 - binary_accuracy: 0.6355 - precision: 0.8640 - recall: 0.2932"
     ]
    },
    {
     "name": "stderr",
     "output_type": "stream",
     "text": [
      "2019-09-03 03:26:51 | [DEBUG] [WORKER] M022-2012_1285-07-R | PID #21034\n",
      "2019-09-03 03:26:51 | [DEBUG] [WORKER] PID #21033 DONE.\n",
      "2019-09-03 03:26:51 | [DEBUG] [WORKER] PID #21032 DONE.\n",
      "2019-09-03 03:26:51 | [DEBUG] [WORKER] M029-2012_1819-10-R | PID #21039\n",
      "2019-09-03 03:26:51 | [DEBUG] [WORKER] PID #21038 DONE.\n",
      "2019-09-03 03:26:52 | [DEBUG] [WORKER] M025-2012_2969-02-R | PID #21033\n",
      "2019-09-03 03:26:52 | [DEBUG] [WORKER] PID #21040 DONE.\n",
      "2019-09-03 03:26:52 | [DEBUG] [WORKER] PID #21039 DONE.\n",
      "2019-09-03 03:26:52 | [DEBUG] [WORKER] M003-2012_2132-06-R | PID #21038\n",
      "2019-09-03 03:26:52 | [DEBUG] [WORKER] PID #21033 DONE.\n",
      "2019-09-03 03:26:52 | [DEBUG] [WORKER] M033-2012_2074-05-R | PID #21032\n",
      "2019-09-03 03:26:52 | [DEBUG] [WORKER] PID #21038 DONE.\n",
      "2019-09-03 03:26:52 | [DEBUG] [WORKER] PID #21032 DONE.\n",
      "2019-09-03 03:26:52 | [DEBUG] [WORKER] M031-2012_2263-05-R | PID #21039\n",
      "2019-09-03 03:26:52 | [DEBUG] [WORKER] PID #21034 DONE.\n",
      "2019-09-03 03:26:52 | [DEBUG] [WORKER] PID #21039 DONE.\n",
      "2019-09-03 03:26:53 | [DEBUG] [WORKER] PID #21041 DONE.\n"
     ]
    },
    {
     "name": "stdout",
     "output_type": "stream",
     "text": [
      "\b\b\b\b\b\b\b\b\b\b\b\b\b\b\b\b\b\b\b\b\b\b\b\b\b\b\b\b\b\b\b\b\b\b\b\b\b\b\b\b\b\b\b\b\b\b\b\b\b\b\b\b\b\b\b\b\b\b\b\b\b\b\b\b\b\b\b\b\b\b\b\b\b\b\b\b\b\b\b\b\b\b\b\b\b\b\b\b\b\b\b\b\b\b\b\b\b\b\b\b\b\b\b\b\b\b\b\b\b\b\b\b\b\b\b\b\b\b\b\b\b\b\b\b\b\b\b\b\b\b\b\b\b\r",
      "1401/2000 [====================>.........] - ETA: 17:58 - loss: 0.6722 - binary_accuracy: 0.6355 - precision: 0.8640 - recall: 0.2932"
     ]
    },
    {
     "name": "stderr",
     "output_type": "stream",
     "text": [
      "2019-09-03 03:26:54 | [DEBUG] [WORKER] PID #21036 DONE.\n",
      "2019-09-03 03:26:54 | [DEBUG] [WORKER] PID #21037 DONE.\n",
      "2019-09-03 03:26:54 | [DEBUG] [WORKER] PID #21035 DONE.\n",
      "2019-09-03 03:26:55 | [DEBUG] [PROCESS] Concatenating\n",
      "2019-09-03 03:26:55 | [DEBUG] [PROCESS] Storing filenames\n",
      "2019-09-03 03:26:55 | [DEBUG] [PROCESS] Returning\n"
     ]
    },
    {
     "name": "stdout",
     "output_type": "stream",
     "text": [
      "1498/2000 [=====================>........] - ETA: 15:02 - loss: 0.6719 - binary_accuracy: 0.6362 - precision: 0.8649 - recall: 0.2937"
     ]
    },
    {
     "name": "stderr",
     "output_type": "stream",
     "text": [
      "2019-09-03 03:29:46 | [DEBUG] [PROCESS] Prepating chunk...\n",
      "2019-09-03 03:29:47 | [DEBUG] [PROCESS] Pooling\n"
     ]
    },
    {
     "name": "stdout",
     "output_type": "stream",
     "text": [
      "\b\b\b\b\b\b\b\b\b\b\b\b\b\b\b\b\b\b\b\b\b\b\b\b\b\b\b\b\b\b\b\b\b\b\b\b\b\b\b\b\b\b\b\b\b\b\b\b\b\b\b\b\b\b\b\b\b\b\b\b\b\b\b\b\b\b\b\b\b\b\b\b\b\b\b\b\b\b\b\b\b\b\b\b\b\b\b\b\b\b\b\b\b\b\b\b\b\b\b\b\b\b\b\b\b\b\b\b\b\b\b\b\b\b\b\b\b\b\b\b\b\b\b\b\b\b\b\b\b\b\b\b\b\r",
      "1499/2000 [=====================>........] - ETA: 15:00 - loss: 0.6719 - binary_accuracy: 0.6363 - precision: 0.8649 - recall: 0.2937"
     ]
    },
    {
     "name": "stderr",
     "output_type": "stream",
     "text": [
      "2019-09-03 03:29:49 | [DEBUG] [WORKER] M018-2012_1202-06-R | PID #21308\n",
      "2019-09-03 03:29:49 | [DEBUG] [WORKER] M021-2012_1098-03-R | PID #21309\n",
      "2019-09-03 03:29:49 | [DEBUG] [WORKER] M024-2012_0874-07-R | PID #21307\n",
      "2019-09-03 03:29:49 | [DEBUG] [WORKER] M030-2012_1472-04-R | PID #21311\n",
      "2019-09-03 03:29:49 | [DEBUG] [WORKER] M019-2012_1157-08-R | PID #21310\n",
      "2019-09-03 03:29:49 | [DEBUG] [WORKER] M017-2012_4649-14-R | PID #21312\n",
      "2019-09-03 03:29:49 | [DEBUG] [WORKER] M009-2012_2901-14-R | PID #21313\n",
      "2019-09-03 03:29:49 | [DEBUG] [WORKER] M002-2012_2034-04-R | PID #21314\n",
      "2019-09-03 03:29:49 | [DEBUG] [WORKER] M032-2012_2949-04-R | PID #21316\n",
      "2019-09-03 03:29:49 | [DEBUG] [WORKER] M001-2012_1681-05-R | PID #21315\n",
      "2019-09-03 03:29:49 | [DEBUG] [WORKER] PID #21308 DONE.\n",
      "2019-09-03 03:29:49 | [DEBUG] [WORKER] PID #21313 DONE.\n",
      "2019-09-03 03:29:49 | [DEBUG] [WORKER] PID #21311 DONE.\n",
      "2019-09-03 03:29:49 | [DEBUG] [WORKER] M026-2012_1102-08-R | PID #21308\n",
      "2019-09-03 03:29:49 | [DEBUG] [WORKER] PID #21309 DONE.\n",
      "2019-09-03 03:29:49 | [DEBUG] [WORKER] PID #21307 DONE.\n",
      "2019-09-03 03:29:49 | [DEBUG] [WORKER] PID #21314 DONE.\n"
     ]
    },
    {
     "name": "stdout",
     "output_type": "stream",
     "text": [
      "\b\b\b\b\b\b\b\b\b\b\b\b\b\b\b\b\b\b\b\b\b\b\b\b\b\b\b\b\b\b\b\b\b\b\b\b\b\b\b\b\b\b\b\b\b\b\b\b\b\b\b\b\b\b\b\b\b\b\b\b\b\b\b\b\b\b\b\b\b\b\b\b\b\b\b\b\b\b\b\b\b\b\b\b\b\b\b\b\b\b\b\b\b\b\b\b\b\b\b\b\b\b\b\b\b\b\b\b\b\b\b\b\b\b\b\b\b\b\b\b\b\b\b\b\b\b\b\b\b\b\b\b\b\r",
      "1500/2000 [=====================>........] - ETA: 14:58 - loss: 0.6718 - binary_accuracy: 0.6364 - precision: 0.8650 - recall: 0.2939"
     ]
    },
    {
     "name": "stderr",
     "output_type": "stream",
     "text": [
      "2019-09-03 03:29:49 | [DEBUG] [WORKER] M008-2012_2101-04-R | PID #21311\n",
      "2019-09-03 03:29:49 | [DEBUG] [WORKER] M014-2012_0381-04-R | PID #21313\n",
      "2019-09-03 03:29:49 | [DEBUG] [WORKER] M011-2012_0798-03-R | PID #21307\n",
      "2019-09-03 03:29:49 | [DEBUG] [WORKER] PID #21311 DONE.\n",
      "2019-09-03 03:29:49 | [DEBUG] [WORKER] PID #21308 DONE.\n",
      "2019-09-03 03:29:49 | [DEBUG] [WORKER] M022-2012_1285-07-R | PID #21309\n",
      "2019-09-03 03:29:50 | [DEBUG] [WORKER] PID #21307 DONE.\n",
      "2019-09-03 03:29:50 | [DEBUG] [WORKER] M029-2012_1819-10-R | PID #21314\n",
      "2019-09-03 03:29:50 | [DEBUG] [WORKER] PID #21315 DONE.\n",
      "2019-09-03 03:29:50 | [DEBUG] [WORKER] M025-2012_2969-02-R | PID #21311\n",
      "2019-09-03 03:29:50 | [DEBUG] [WORKER] PID #21314 DONE.\n",
      "2019-09-03 03:29:50 | [DEBUG] [WORKER] M003-2012_2132-06-R | PID #21308\n",
      "2019-09-03 03:29:50 | [DEBUG] [WORKER] M033-2012_2074-05-R | PID #21307\n",
      "2019-09-03 03:29:50 | [DEBUG] [WORKER] PID #21311 DONE.\n",
      "2019-09-03 03:29:50 | [DEBUG] [WORKER] PID #21308 DONE.\n",
      "2019-09-03 03:29:50 | [DEBUG] [WORKER] M031-2012_2263-05-R | PID #21314\n",
      "2019-09-03 03:29:50 | [DEBUG] [WORKER] PID #21307 DONE.\n",
      "2019-09-03 03:29:50 | [DEBUG] [WORKER] PID #21314 DONE.\n",
      "2019-09-03 03:29:50 | [DEBUG] [WORKER] PID #21309 DONE.\n",
      "2019-09-03 03:29:51 | [DEBUG] [WORKER] PID #21316 DONE.\n",
      "2019-09-03 03:29:52 | [DEBUG] [WORKER] PID #21313 DONE.\n"
     ]
    },
    {
     "name": "stdout",
     "output_type": "stream",
     "text": [
      "\b\b\b\b\b\b\b\b\b\b\b\b\b\b\b\b\b\b\b\b\b\b\b\b\b\b\b\b\b\b\b\b\b\b\b\b\b\b\b\b\b\b\b\b\b\b\b\b\b\b\b\b\b\b\b\b\b\b\b\b\b\b\b\b\b\b\b\b\b\b\b\b\b\b\b\b\b\b\b\b\b\b\b\b\b\b\b\b\b\b\b\b\b\b\b\b\b\b\b\b\b\b\b\b\b\b\b\b\b\b\b\b\b\b\b\b\b\b\b\b\b\b\b\b\b\b\b\b\b\b\b\b\b\r",
      "1501/2000 [=====================>........] - ETA: 14:57 - loss: 0.6718 - binary_accuracy: 0.6364 - precision: 0.8651 - recall: 0.2938"
     ]
    },
    {
     "name": "stderr",
     "output_type": "stream",
     "text": [
      "2019-09-03 03:29:52 | [DEBUG] [WORKER] PID #21310 DONE.\n",
      "2019-09-03 03:29:52 | [DEBUG] [WORKER] PID #21312 DONE.\n",
      "2019-09-03 03:29:53 | [DEBUG] [PROCESS] Concatenating\n",
      "2019-09-03 03:29:53 | [DEBUG] [PROCESS] Storing filenames\n",
      "2019-09-03 03:29:53 | [DEBUG] [PROCESS] Returning\n"
     ]
    },
    {
     "name": "stdout",
     "output_type": "stream",
     "text": [
      "1598/2000 [======================>.......] - ETA: 12:03 - loss: 0.6716 - binary_accuracy: 0.6367 - precision: 0.8647 - recall: 0.2945"
     ]
    },
    {
     "name": "stderr",
     "output_type": "stream",
     "text": [
      "2019-09-03 03:32:47 | [DEBUG] [PROCESS] Prepating chunk...\n",
      "2019-09-03 03:32:48 | [DEBUG] [PROCESS] Pooling\n"
     ]
    },
    {
     "name": "stdout",
     "output_type": "stream",
     "text": [
      "\b\b\b\b\b\b\b\b\b\b\b\b\b\b\b\b\b\b\b\b\b\b\b\b\b\b\b\b\b\b\b\b\b\b\b\b\b\b\b\b\b\b\b\b\b\b\b\b\b\b\b\b\b\b\b\b\b\b\b\b\b\b\b\b\b\b\b\b\b\b\b\b\b\b\b\b\b\b\b\b\b\b\b\b\b\b\b\b\b\b\b\b\b\b\b\b\b\b\b\b\b\b\b\b\b\b\b\b\b\b\b\b\b\b\b\b\b\b\b\b\b\b\b\b\b\b\b\b\b\b\b\b\b\r",
      "1599/2000 [======================>.......] - ETA: 12:01 - loss: 0.6716 - binary_accuracy: 0.6367 - precision: 0.8648 - recall: 0.2945"
     ]
    },
    {
     "name": "stderr",
     "output_type": "stream",
     "text": [
      "2019-09-03 03:32:50 | [DEBUG] [WORKER] M018-2012_1202-06-R | PID #21599\n",
      "2019-09-03 03:32:50 | [DEBUG] [WORKER] M024-2012_0874-07-R | PID #21598\n"
     ]
    },
    {
     "name": "stdout",
     "output_type": "stream",
     "text": [
      "\b\b\b\b\b\b\b\b\b\b\b\b\b\b\b\b\b\b\b\b\b\b\b\b\b\b\b\b\b\b\b\b\b\b\b\b\b\b\b\b\b\b\b\b\b\b\b\b\b\b\b\b\b\b\b\b\b\b\b\b\b\b\b\b\b\b\b\b\b\b\b\b\b\b\b\b\b\b\b\b\b\b\b\b\b\b\b\b\b\b\b\b\b\b\b\b\b\b\b\b\b\b\b\b\b\b\b\b\b\b\b\b\b\b\b\b\b\b\b\b\b\b\b\b\b\b\b\b\b\b\b\b\b\r",
      "1600/2000 [=======================>......] - ETA: 11:59 - loss: 0.6716 - binary_accuracy: 0.6368 - precision: 0.8648 - recall: 0.2945"
     ]
    },
    {
     "name": "stderr",
     "output_type": "stream",
     "text": [
      "2019-09-03 03:32:50 | [DEBUG] [WORKER] M021-2012_1098-03-R | PID #21600\n",
      "2019-09-03 03:32:50 | [DEBUG] [WORKER] M017-2012_4649-14-R | PID #21603\n",
      "2019-09-03 03:32:50 | [DEBUG] [WORKER] M009-2012_2901-14-R | PID #21604\n",
      "2019-09-03 03:32:50 | [DEBUG] [WORKER] M002-2012_2034-04-R | PID #21605\n",
      "2019-09-03 03:32:50 | [DEBUG] [WORKER] M019-2012_1157-08-R | PID #21607\n",
      "2019-09-03 03:32:50 | [DEBUG] [WORKER] M030-2012_1472-04-R | PID #21602\n",
      "2019-09-03 03:32:50 | [DEBUG] [WORKER] M032-2012_2949-04-R | PID #21601\n",
      "2019-09-03 03:32:50 | [DEBUG] [WORKER] M001-2012_1681-05-R | PID #21606\n",
      "2019-09-03 03:32:50 | [DEBUG] [WORKER] PID #21599 DONE.\n",
      "2019-09-03 03:32:50 | [DEBUG] [WORKER] PID #21604 DONE.\n",
      "2019-09-03 03:32:50 | [DEBUG] [WORKER] PID #21602 DONE.\n",
      "2019-09-03 03:32:50 | [DEBUG] [WORKER] PID #21605 DONE.\n",
      "2019-09-03 03:32:50 | [DEBUG] [WORKER] PID #21600 DONE.\n",
      "2019-09-03 03:32:50 | [DEBUG] [WORKER] PID #21598 DONE.\n",
      "2019-09-03 03:32:51 | [DEBUG] [WORKER] M031-2012_2263-05-R | PID #21599\n",
      "2019-09-03 03:32:51 | [DEBUG] [WORKER] M026-2012_1102-08-R | PID #21604\n",
      "2019-09-03 03:32:51 | [DEBUG] [WORKER] M008-2012_2101-04-R | PID #21602\n",
      "2019-09-03 03:32:51 | [DEBUG] [WORKER] PID #21599 DONE.\n",
      "2019-09-03 03:32:51 | [DEBUG] [WORKER] M033-2012_2074-05-R | PID #21598\n",
      "2019-09-03 03:32:51 | [DEBUG] [WORKER] PID #21602 DONE.\n",
      "2019-09-03 03:32:51 | [DEBUG] [WORKER] PID #21598 DONE.\n",
      "2019-09-03 03:32:51 | [DEBUG] [WORKER] M029-2012_1819-10-R | PID #21600\n",
      "2019-09-03 03:32:51 | [DEBUG] [WORKER] M022-2012_1285-07-R | PID #21605\n",
      "2019-09-03 03:32:51 | [DEBUG] [WORKER] PID #21606 DONE.\n",
      "2019-09-03 03:32:51 | [DEBUG] [WORKER] PID #21600 DONE.\n",
      "2019-09-03 03:32:51 | [DEBUG] [WORKER] PID #21604 DONE.\n",
      "2019-09-03 03:32:51 | [DEBUG] [WORKER] M011-2012_0798-03-R | PID #21599\n",
      "2019-09-03 03:32:52 | [DEBUG] [WORKER] PID #21599 DONE.\n",
      "2019-09-03 03:32:52 | [DEBUG] [WORKER] M025-2012_2969-02-R | PID #21598\n",
      "2019-09-03 03:32:52 | [DEBUG] [WORKER] M003-2012_2132-06-R | PID #21602\n",
      "2019-09-03 03:32:52 | [DEBUG] [WORKER] PID #21598 DONE.\n",
      "2019-09-03 03:32:52 | [DEBUG] [WORKER] PID #21602 DONE.\n",
      "2019-09-03 03:32:52 | [DEBUG] [WORKER] M014-2012_0381-04-R | PID #21600\n",
      "2019-09-03 03:32:52 | [DEBUG] [WORKER] PID #21605 DONE.\n",
      "2019-09-03 03:32:53 | [DEBUG] [WORKER] PID #21601 DONE.\n"
     ]
    },
    {
     "name": "stdout",
     "output_type": "stream",
     "text": [
      "\b\b\b\b\b\b\b\b\b\b\b\b\b\b\b\b\b\b\b\b\b\b\b\b\b\b\b\b\b\b\b\b\b\b\b\b\b\b\b\b\b\b\b\b\b\b\b\b\b\b\b\b\b\b\b\b\b\b\b\b\b\b\b\b\b\b\b\b\b\b\b\b\b\b\b\b\b\b\b\b\b\b\b\b\b\b\b\b\b\b\b\b\b\b\b\b\b\b\b\b\b\b\b\b\b\b\b\b\b\b\b\b\b\b\b\b\b\b\b\b\b\b\b\b\b\b\b\b\b\b\b\b\b\r",
      "1601/2000 [=======================>......] - ETA: 11:57 - loss: 0.6716 - binary_accuracy: 0.6368 - precision: 0.8648 - recall: 0.2944"
     ]
    },
    {
     "name": "stderr",
     "output_type": "stream",
     "text": [
      "2019-09-03 03:32:54 | [DEBUG] [WORKER] PID #21603 DONE.\n",
      "2019-09-03 03:32:54 | [DEBUG] [WORKER] PID #21607 DONE.\n",
      "2019-09-03 03:32:54 | [DEBUG] [WORKER] PID #21600 DONE.\n"
     ]
    },
    {
     "name": "stdout",
     "output_type": "stream",
     "text": [
      "\b\b\b\b\b\b\b\b\b\b\b\b\b\b\b\b\b\b\b\b\b\b\b\b\b\b\b\b\b\b\b\b\b\b\b\b\b\b\b\b\b\b\b\b\b\b\b\b\b\b\b\b\b\b\b\b\b\b\b\b\b\b\b\b\b\b\b\b\b\b\b\b\b\b\b\b\b\b\b\b\b\b\b\b\b\b\b\b\b\b\b\b\b\b\b\b\b\b\b\b\b\b\b\b\b\b\b\b\b\b\b\b\b\b\b\b\b\b\b\b\b\b\b\b\b\b\b\b\b\b\b\b\b\r",
      "1602/2000 [=======================>......] - ETA: 11:56 - loss: 0.6716 - binary_accuracy: 0.6367 - precision: 0.8648 - recall: 0.2942"
     ]
    },
    {
     "name": "stderr",
     "output_type": "stream",
     "text": [
      "2019-09-03 03:32:55 | [DEBUG] [PROCESS] Concatenating\n",
      "2019-09-03 03:32:55 | [DEBUG] [PROCESS] Storing filenames\n",
      "2019-09-03 03:32:55 | [DEBUG] [PROCESS] Returning\n"
     ]
    },
    {
     "name": "stdout",
     "output_type": "stream",
     "text": [
      "1698/2000 [========================>.....] - ETA: 9:02 - loss: 0.6714 - binary_accuracy: 0.6370 - precision: 0.8653 - recall: 0.2952"
     ]
    },
    {
     "name": "stderr",
     "output_type": "stream",
     "text": [
      "2019-09-03 03:35:43 | [DEBUG] [PROCESS] Prepating chunk...\n",
      "2019-09-03 03:35:44 | [DEBUG] [PROCESS] Pooling\n"
     ]
    },
    {
     "name": "stdout",
     "output_type": "stream",
     "text": [
      "\b\b\b\b\b\b\b\b\b\b\b\b\b\b\b\b\b\b\b\b\b\b\b\b\b\b\b\b\b\b\b\b\b\b\b\b\b\b\b\b\b\b\b\b\b\b\b\b\b\b\b\b\b\b\b\b\b\b\b\b\b\b\b\b\b\b\b\b\b\b\b\b\b\b\b\b\b\b\b\b\b\b\b\b\b\b\b\b\b\b\b\b\b\b\b\b\b\b\b\b\b\b\b\b\b\b\b\b\b\b\b\b\b\b\b\b\b\b\b\b\b\b\b\b\b\b\b\b\b\b\b\b\r",
      "1699/2000 [========================>.....] - ETA: 9:00 - loss: 0.6714 - binary_accuracy: 0.6369 - precision: 0.8654 - recall: 0.2952"
     ]
    },
    {
     "name": "stderr",
     "output_type": "stream",
     "text": [
      "2019-09-03 03:35:46 | [DEBUG] [WORKER] M018-2012_1202-06-R | PID #21871\n",
      "2019-09-03 03:35:46 | [DEBUG] [WORKER] M021-2012_1098-03-R | PID #21872\n",
      "2019-09-03 03:35:46 | [DEBUG] [WORKER] M019-2012_1157-08-R | PID #21873\n",
      "2019-09-03 03:35:46 | [DEBUG] [WORKER] M032-2012_2949-04-R | PID #21880\n",
      "2019-09-03 03:35:46 | [DEBUG] [WORKER] M017-2012_4649-14-R | PID #21881\n",
      "2019-09-03 03:35:46 | [DEBUG] [WORKER] M024-2012_0874-07-R | PID #21870\n",
      "2019-09-03 03:35:46 | [DEBUG] [WORKER] M030-2012_1472-04-R | PID #21883\n",
      "2019-09-03 03:35:46 | [DEBUG] [WORKER] M009-2012_2901-14-R | PID #21882\n",
      "2019-09-03 03:35:46 | [DEBUG] [WORKER] M031-2012_2263-05-R | PID #21885\n",
      "2019-09-03 03:35:46 | [DEBUG] [WORKER] M001-2012_1681-05-R | PID #21886\n",
      "2019-09-03 03:35:46 | [DEBUG] [WORKER] PID #21871 DONE.\n"
     ]
    },
    {
     "name": "stdout",
     "output_type": "stream",
     "text": [
      "\b\b\b\b\b\b\b\b\b\b\b\b\b\b\b\b\b\b\b\b\b\b\b\b\b\b\b\b\b\b\b\b\b\b\b\b\b\b\b\b\b\b\b\b\b\b\b\b\b\b\b\b\b\b\b\b\b\b\b\b\b\b\b\b\b\b\b\b\b\b\b\b\b\b\b\b\b\b\b\b\b\b\b\b\b\b\b\b\b\b\b\b\b\b\b\b\b\b\b\b\b\b\b\b\b\b\b\b\b\b\b\b\b\b\b\b\b\b\b\b\b\b\b\b\b\b\b\b\b\b\b\b\r",
      "1700/2000 [========================>.....] - ETA: 8:58 - loss: 0.6714 - binary_accuracy: 0.6369 - precision: 0.8655 - recall: 0.2952"
     ]
    },
    {
     "name": "stderr",
     "output_type": "stream",
     "text": [
      "2019-09-03 03:35:46 | [DEBUG] [WORKER] PID #21870 DONE.\n",
      "2019-09-03 03:35:46 | [DEBUG] [WORKER] PID #21882 DONE.\n",
      "2019-09-03 03:35:46 | [DEBUG] [WORKER] PID #21883 DONE.\n",
      "2019-09-03 03:35:46 | [DEBUG] [WORKER] PID #21872 DONE.\n",
      "2019-09-03 03:35:46 | [DEBUG] [WORKER] M002-2012_2034-04-R | PID #21871\n",
      "2019-09-03 03:35:46 | [DEBUG] [WORKER] M026-2012_1102-08-R | PID #21882\n",
      "2019-09-03 03:35:46 | [DEBUG] [WORKER] PID #21885 DONE.\n",
      "2019-09-03 03:35:46 | [DEBUG] [WORKER] M008-2012_2101-04-R | PID #21870\n",
      "2019-09-03 03:35:46 | [DEBUG] [WORKER] PID #21871 DONE.\n",
      "2019-09-03 03:35:46 | [DEBUG] [WORKER] M014-2012_0381-04-R | PID #21883\n",
      "2019-09-03 03:35:47 | [DEBUG] [WORKER] PID #21870 DONE.\n",
      "2019-09-03 03:35:47 | [DEBUG] [WORKER] PID #21882 DONE.\n",
      "2019-09-03 03:35:47 | [DEBUG] [WORKER] M029-2012_1819-10-R | PID #21872\n",
      "2019-09-03 03:35:47 | [DEBUG] [WORKER] M022-2012_1285-07-R | PID #21871\n",
      "2019-09-03 03:35:47 | [DEBUG] [WORKER] PID #21886 DONE.\n",
      "2019-09-03 03:35:47 | [DEBUG] [WORKER] PID #21872 DONE.\n",
      "2019-09-03 03:35:47 | [DEBUG] [WORKER] M011-2012_0798-03-R | PID #21885\n",
      "2019-09-03 03:35:47 | [DEBUG] [WORKER] M025-2012_2969-02-R | PID #21882\n",
      "2019-09-03 03:35:47 | [DEBUG] [WORKER] M003-2012_2132-06-R | PID #21870\n",
      "2019-09-03 03:35:47 | [DEBUG] [WORKER] PID #21882 DONE.\n",
      "2019-09-03 03:35:47 | [DEBUG] [WORKER] PID #21885 DONE.\n",
      "2019-09-03 03:35:47 | [DEBUG] [WORKER] M033-2012_2074-05-R | PID #21872\n",
      "2019-09-03 03:35:47 | [DEBUG] [WORKER] PID #21870 DONE.\n",
      "2019-09-03 03:35:47 | [DEBUG] [WORKER] PID #21872 DONE.\n",
      "2019-09-03 03:35:48 | [DEBUG] [WORKER] PID #21871 DONE.\n"
     ]
    }
   ],
   "source": [
    "if __name__ == '__main__':\n",
    "    batch_queue = Queue(MAX_QUEUE_SIZE)\n",
    "    eval_queue = Queue(MAX_QUEUE_SIZE)\n",
    "    \n",
    "    for _ in range(2):\n",
    "        print('Training')\n",
    "        train(TRAIN_DS_SIZE, train_sampler, batch_queue, chunk_size=CHUNK_SIZE, batch_size=BATCH_SIZE)\n",
    "    \n",
    "        print('Validating')\n",
    "        metrics = evaluate(VALID_DS_SIZE, valid_sampler, batch_queue, eval_queue, chunk_size=CHUNK_SIZE, batch_size=BATCH_SIZE)\n",
    "        print_results(metrics)\n",
    "\n",
    "print('Testing')\n",
    "metrics = evaluate(TEST_DS_SIZE, test_sampler, batch_queue, eval_queue, chunk_size=CHUNK_SIZE, batch_size=BATCH_SIZE)\n",
    "print_results(metrics)"
   ]
  }
 ],
 "metadata": {
  "kernelspec": {
   "display_name": "test",
   "language": "python",
   "name": "test"
  },
  "language_info": {
   "codemirror_mode": {
    "name": "ipython",
    "version": 3
   },
   "file_extension": ".py",
   "mimetype": "text/x-python",
   "name": "python",
   "nbconvert_exporter": "python",
   "pygments_lexer": "ipython3",
   "version": "3.5.3"
  },
  "toc": {
   "base_numbering": 1,
   "nav_menu": {},
   "number_sections": true,
   "sideBar": true,
   "skip_h1_title": false,
   "title_cell": "Table of Contents",
   "title_sidebar": "Contents",
   "toc_cell": false,
   "toc_position": {},
   "toc_section_display": true,
   "toc_window_display": false
  },
  "varInspector": {
   "cols": {
    "lenName": 16,
    "lenType": 16,
    "lenVar": 40
   },
   "kernels_config": {
    "python": {
     "delete_cmd_postfix": "",
     "delete_cmd_prefix": "del ",
     "library": "var_list.py",
     "varRefreshCmd": "print(var_dic_list())"
    },
    "r": {
     "delete_cmd_postfix": ") ",
     "delete_cmd_prefix": "rm(",
     "library": "var_list.r",
     "varRefreshCmd": "cat(var_dic_list()) "
    }
   },
   "types_to_exclude": [
    "module",
    "function",
    "builtin_function_or_method",
    "instance",
    "_Feature"
   ],
   "window_display": false
  }
 },
 "nbformat": 4,
 "nbformat_minor": 2
}
