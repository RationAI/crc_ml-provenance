{
 "cells": [
  {
   "cell_type": "code",
   "execution_count": 1,
   "metadata": {
    "ExecuteTime": {
     "end_time": "2019-10-04T17:39:30.092180Z",
     "start_time": "2019-10-04T17:39:30.089260Z"
    }
   },
   "outputs": [],
   "source": [
    "import os"
   ]
  },
  {
   "cell_type": "code",
   "execution_count": 2,
   "metadata": {
    "ExecuteTime": {
     "end_time": "2019-10-04T17:39:34.073692Z",
     "start_time": "2019-10-04T17:39:31.522153Z"
    }
   },
   "outputs": [],
   "source": [
    "import tensorflow as tf\n",
    "config = tf.ConfigProto()\n",
    "config.gpu_options.allow_growth=True\n",
    "session = tf.Session(config=config)\n",
    "tf.keras.backend.set_session(session)"
   ]
  },
  {
   "cell_type": "code",
   "execution_count": 3,
   "metadata": {
    "ExecuteTime": {
     "end_time": "2019-10-04T17:39:34.083324Z",
     "start_time": "2019-10-04T17:39:34.081044Z"
    }
   },
   "outputs": [],
   "source": [
    "import numpy as np"
   ]
  },
  {
   "cell_type": "code",
   "execution_count": 4,
   "metadata": {
    "ExecuteTime": {
     "end_time": "2019-10-04T17:39:34.274259Z",
     "start_time": "2019-10-04T17:39:34.270580Z"
    }
   },
   "outputs": [],
   "source": [
    "from tensorflow.keras.layers import Input, Dense, Concatenate\n",
    "from tensorflow.keras.models import Model"
   ]
  },
  {
   "cell_type": "code",
   "execution_count": 9,
   "metadata": {
    "ExecuteTime": {
     "end_time": "2019-10-04T17:40:02.895295Z",
     "start_time": "2019-10-04T17:40:02.886525Z"
    },
    "code_folding": []
   },
   "outputs": [],
   "source": [
    "def build_model():\n",
    "    inputs = [tf.keras.layers.Input(shape=(96,96,3)) for _ in range(9)]\n",
    "\n",
    "    nasnet = tf.keras.applications.NASNetMobile(include_top=False, input_shape=(96,96,3), weights=None)\n",
    "    nasnet.trainable = True\n",
    "\n",
    "    gmax = tf.keras.layers.GlobalMaxPooling2D()\n",
    "    gavg = tf.keras.layers.GlobalAveragePooling2D()\n",
    "    flat = tf.keras.layers.Flatten()\n",
    "    con = tf.keras.layers.Concatenate(axis=-1)\n",
    "    drop = tf.keras.layers.Dropout(0.5)\n",
    "    out = tf.keras.layers.Dense(1, activation='sigmoid')\n",
    "\n",
    "    outs = []\n",
    "    for inp in inputs:\n",
    "        f = nasnet(inp)\n",
    "        f1 = gmax(f)\n",
    "        f2 = gavg(f)\n",
    "        f3 = flat(f)\n",
    "        f = con([f1,f2,f3])\n",
    "        f = drop(f)\n",
    "        f = out(f)\n",
    "        outs.append(f)\n",
    "\n",
    "    out = tf.keras.layers.Concatenate(axis=-1)(outs)\n",
    "    out = tf.keras.layers.Dense(1, activation='sigmoid')(out)\n",
    "    return tf.keras.Model(inputs, out)\n",
    "\n",
    "def compile_model(model):\n",
    "    loss_fn = tf.keras.losses.binary_crossentropy\n",
    "    metrics=[tf.keras.metrics.BinaryAccuracy()]\n",
    "    model.compile(loss=loss_fn, metrics=metrics, optimizer=tf.keras.optimizers.Adam(lr=0.005))\n",
    "    \n",
    "def build_model():\n",
    "    model_input = Input(shape=(96,96,3), dtype='float')\n",
    "    model_output = tf.placeholder"
   ]
  },
  {
   "cell_type": "code",
   "execution_count": 10,
   "metadata": {
    "ExecuteTime": {
     "end_time": "2019-10-04T17:41:13.577534Z",
     "start_time": "2019-10-04T17:40:04.800122Z"
    }
   },
   "outputs": [
    {
     "name": "stdout",
     "output_type": "stream",
     "text": [
      "WARNING:tensorflow:From /home/matejg/Test/test/lib/python3.5/site-packages/tensorflow/python/keras/layers/core.py:143: calling dropout (from tensorflow.python.ops.nn_ops) with keep_prob is deprecated and will be removed in a future version.\n",
      "Instructions for updating:\n",
      "Please use `rate` instead of `keep_prob`. Rate should be set to `rate = 1 - keep_prob`.\n"
     ]
    }
   ],
   "source": [
    "model = build_model()"
   ]
  },
  {
   "cell_type": "code",
   "execution_count": 11,
   "metadata": {
    "ExecuteTime": {
     "end_time": "2019-10-04T17:41:17.020950Z",
     "start_time": "2019-10-04T17:41:16.434241Z"
    }
   },
   "outputs": [],
   "source": [
    "compile_model(model)"
   ]
  },
  {
   "cell_type": "code",
   "execution_count": 25,
   "metadata": {
    "ExecuteTime": {
     "end_time": "2019-10-04T17:51:34.562834Z",
     "start_time": "2019-10-04T17:51:34.555711Z"
    }
   },
   "outputs": [
    {
     "data": {
      "text/plain": [
       "0.0005"
      ]
     },
     "execution_count": 25,
     "metadata": {},
     "output_type": "execute_result"
    }
   ],
   "source": [
    "tf.keras.backend.get_value(model.optimizer.lr)"
   ]
  },
  {
   "cell_type": "code",
   "execution_count": 24,
   "metadata": {
    "ExecuteTime": {
     "end_time": "2019-10-04T17:51:32.287980Z",
     "start_time": "2019-10-04T17:51:32.281323Z"
    }
   },
   "outputs": [],
   "source": [
    "tf.keras.backend.set_value(model.optimizer.lr, 0.0005)"
   ]
  },
  {
   "cell_type": "code",
   "execution_count": 9,
   "metadata": {
    "ExecuteTime": {
     "end_time": "2019-09-12T19:36:06.013167Z",
     "start_time": "2019-09-12T19:36:06.010861Z"
    }
   },
   "outputs": [],
   "source": [
    "#tf.keras.utils.plot_model(model, to_file='/home/matejg/model.png')"
   ]
  },
  {
   "cell_type": "code",
   "execution_count": 10,
   "metadata": {
    "ExecuteTime": {
     "end_time": "2019-09-12T19:36:06.019721Z",
     "start_time": "2019-09-12T19:36:06.015711Z"
    }
   },
   "outputs": [],
   "source": [
    "def input_generator(input_shape=(96,96,3), output_shape=(1), batch_size=32, steps=10):\n",
    "    for _ in range(steps):\n",
    "        input_matrix = [np.random.random((batch_size,96,96,3)) for _ in range(9)]\n",
    "        label_matrix = np.random.randint(low=0, high=2, size=(batch_size, 1))\n",
    "        yield input_matrix, label_matrix"
   ]
  },
  {
   "cell_type": "code",
   "execution_count": null,
   "metadata": {
    "ExecuteTime": {
     "start_time": "2019-09-12T19:34:53.569Z"
    }
   },
   "outputs": [
    {
     "name": "stdout",
     "output_type": "stream",
     "text": [
      "WARNING:tensorflow:From /home/matejg/Test/test/lib/python3.5/site-packages/tensorflow/python/ops/math_ops.py:3066: to_int32 (from tensorflow.python.ops.math_ops) is deprecated and will be removed in a future version.\n",
      "Instructions for updating:\n",
      "Use tf.cast instead.\n",
      "WARNING:tensorflow:From /home/matejg/Test/test/lib/python3.5/site-packages/tensorflow/python/ops/math_grad.py:102: div (from tensorflow.python.ops.math_ops) is deprecated and will be removed in a future version.\n",
      "Instructions for updating:\n",
      "Deprecated in favor of operator or tf.math.divide.\n"
     ]
    }
   ],
   "source": [
    "steps=1000\n",
    "h = model.fit_generator(input_generator(batch_size=32, steps=steps), steps_per_epoch=steps, verbose=1)"
   ]
  },
  {
   "cell_type": "code",
   "execution_count": null,
   "metadata": {},
   "outputs": [],
   "source": []
  }
 ],
 "metadata": {
  "kernelspec": {
   "display_name": "test",
   "language": "python",
   "name": "test"
  },
  "language_info": {
   "codemirror_mode": {
    "name": "ipython",
    "version": 3
   },
   "file_extension": ".py",
   "mimetype": "text/x-python",
   "name": "python",
   "nbconvert_exporter": "python",
   "pygments_lexer": "ipython3",
   "version": "3.5.3"
  },
  "toc": {
   "base_numbering": 1,
   "nav_menu": {},
   "number_sections": true,
   "sideBar": true,
   "skip_h1_title": false,
   "title_cell": "Table of Contents",
   "title_sidebar": "Contents",
   "toc_cell": false,
   "toc_position": {},
   "toc_section_display": true,
   "toc_window_display": false
  },
  "varInspector": {
   "cols": {
    "lenName": 16,
    "lenType": 16,
    "lenVar": 40
   },
   "kernels_config": {
    "python": {
     "delete_cmd_postfix": "",
     "delete_cmd_prefix": "del ",
     "library": "var_list.py",
     "varRefreshCmd": "print(var_dic_list())"
    },
    "r": {
     "delete_cmd_postfix": ") ",
     "delete_cmd_prefix": "rm(",
     "library": "var_list.r",
     "varRefreshCmd": "cat(var_dic_list()) "
    }
   },
   "types_to_exclude": [
    "module",
    "function",
    "builtin_function_or_method",
    "instance",
    "_Feature"
   ],
   "window_display": false
  }
 },
 "nbformat": 4,
 "nbformat_minor": 2
}
