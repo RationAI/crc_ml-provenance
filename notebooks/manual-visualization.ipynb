{
 "cells": [
  {
   "cell_type": "code",
   "execution_count": 1,
   "metadata": {
    "ExecuteTime": {
     "end_time": "2020-03-13T08:38:46.773926Z",
     "start_time": "2020-03-13T08:38:42.951707Z"
    }
   },
   "outputs": [],
   "source": [
    "import pandas as pd\n",
    "import numpy as np\n",
    "from pathlib import Path"
   ]
  },
  {
   "cell_type": "code",
   "execution_count": 2,
   "metadata": {
    "ExecuteTime": {
     "end_time": "2020-03-13T08:38:46.796204Z",
     "start_time": "2020-03-13T08:38:46.789914Z"
    }
   },
   "outputs": [],
   "source": [
    "# Allow loading crc_ml scripts as modules\n",
    "import sys\n",
    "from pathlib import Path\n",
    "module_path = Path('.').resolve().parent\n",
    "if str(module_path) not in sys.path:\n",
    "    sys.path.append(str(module_path))"
   ]
  },
  {
   "cell_type": "code",
   "execution_count": 3,
   "metadata": {
    "ExecuteTime": {
     "end_time": "2020-03-13T08:38:48.088650Z",
     "start_time": "2020-03-13T08:38:47.274873Z"
    }
   },
   "outputs": [],
   "source": [
    "from src.visualization import draw_heatmap_slide"
   ]
  },
  {
   "cell_type": "code",
   "execution_count": 4,
   "metadata": {
    "ExecuteTime": {
     "end_time": "2020-03-13T08:38:48.876379Z",
     "start_time": "2020-03-13T08:38:48.870292Z"
    }
   },
   "outputs": [],
   "source": [
    "#eid = 'GLADOS-CHCK-3544-42e6-b1c2-e6e6eed83b2b'\n",
    "eid = 'GLADOS-CHCK-33a4-43bb-ad65-b9392bcacde7'\n",
    "PROBA_DIR = Path('/mnt/data/crc_ml/models/evaluations/{}/test/probas/'.format(eid))"
   ]
  },
  {
   "cell_type": "code",
   "execution_count": 5,
   "metadata": {
    "ExecuteTime": {
     "end_time": "2020-03-13T08:38:51.085786Z",
     "start_time": "2020-03-13T08:38:50.986470Z"
    }
   },
   "outputs": [],
   "source": [
    "total_probas = len(list(PROBA_DIR.iterdir()))"
   ]
  },
  {
   "cell_type": "code",
   "execution_count": 6,
   "metadata": {
    "ExecuteTime": {
     "end_time": "2020-03-13T12:31:12.356584Z",
     "start_time": "2020-03-13T08:38:57.786174Z"
    }
   },
   "outputs": [
    {
     "name": "stdout",
     "output_type": "stream",
     "text": [
      "87/87\r"
     ]
    }
   ],
   "source": [
    "SLIDE_DIR = Path('/mnt/data/crc_ml/data/raw/Prostata/slides/')\n",
    "LEVEL = 0\n",
    "TILE_SIZE = 96*2\n",
    "FIG_DIR = Path('/mnt/data/crc_ml/models/evaluations/{}/test/figs/'.format(eid))\n",
    "for idx, proba_f in enumerate(PROBA_DIR.iterdir()):\n",
    "    print('{}/{}\\r'.format(idx+1, total_probas), end='')\n",
    "    slide_name = proba_f.stem\n",
    "    probas = pd.read_csv(proba_f, sep=';')\n",
    "    fig_filepath = FIG_DIR / '{}-vis.png'.format(slide_name)\n",
    "    draw_heatmap_slide(slide_name, SLIDE_DIR, LEVEL, TILE_SIZE, probas, fig_filepath)"
   ]
  },
  {
   "cell_type": "code",
   "execution_count": null,
   "metadata": {},
   "outputs": [],
   "source": []
  }
 ],
 "metadata": {
  "kernelspec": {
   "display_name": "crc_ml_common",
   "language": "python",
   "name": "crc_ml_common"
  },
  "language_info": {
   "codemirror_mode": {
    "name": "ipython",
    "version": 3
   },
   "file_extension": ".py",
   "mimetype": "text/x-python",
   "name": "python",
   "nbconvert_exporter": "python",
   "pygments_lexer": "ipython3",
   "version": "3.7.3"
  },
  "toc": {
   "base_numbering": 1,
   "nav_menu": {},
   "number_sections": true,
   "sideBar": true,
   "skip_h1_title": false,
   "title_cell": "Table of Contents",
   "title_sidebar": "Contents",
   "toc_cell": false,
   "toc_position": {},
   "toc_section_display": true,
   "toc_window_display": false
  },
  "varInspector": {
   "cols": {
    "lenName": 16,
    "lenType": 16,
    "lenVar": 40
   },
   "kernels_config": {
    "python": {
     "delete_cmd_postfix": "",
     "delete_cmd_prefix": "del ",
     "library": "var_list.py",
     "varRefreshCmd": "print(var_dic_list())"
    },
    "r": {
     "delete_cmd_postfix": ") ",
     "delete_cmd_prefix": "rm(",
     "library": "var_list.r",
     "varRefreshCmd": "cat(var_dic_list()) "
    }
   },
   "types_to_exclude": [
    "module",
    "function",
    "builtin_function_or_method",
    "instance",
    "_Feature"
   ],
   "window_display": false
  }
 },
 "nbformat": 4,
 "nbformat_minor": 2
}
