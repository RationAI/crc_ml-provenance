{
 "cells": [
  {
   "cell_type": "code",
   "execution_count": 13,
   "metadata": {
    "collapsed": false
   },
   "outputs": [],
   "source": [
    "import skimage\n",
    "from skimage import data, io, filters\n",
    "from skimage.color import rgb2gray, gray2rgb\n",
    "\n",
    "import matplotlib.pyplot as plt\n",
    "\n",
    "from skimage import data\n",
    "from skimage.color import rgb2hed\n",
    "import skimage\n",
    "import skimage.morphology\n",
    "import skimage.exposure\n",
    "import skimage.util\n",
    "import imageio\n",
    "from matplotlib.colors import LinearSegmentedColormap\n",
    "import matplotlib\n",
    "import numpy as np\n",
    "\n",
    "from skimage.filters import threshold_otsu\n",
    "\n",
    "from skimage.morphology import diamond, binary_dilation, closing, square\n",
    "\n",
    "from skimage.segmentation import clear_border\n",
    "from skimage.measure import label, regionprops\n",
    "\n",
    "import math\n",
    "\n",
    "import SimpleITK as sitk"
   ]
  },
  {
   "cell_type": "code",
   "execution_count": 14,
   "metadata": {
    "collapsed": true
   },
   "outputs": [],
   "source": [
    "# this is just to get basics working - using SimpleElastix demo\n",
    "# simple rigid transformation - translation + rotation\n",
    "elastixImageFilter = sitk.ElastixImageFilter()\n",
    "elastixImageFilter.SetFixedImage(sitk.ReadImage(\"BrainProtonDensity.png\",sitk.sitkInt8))\n",
    "elastixImageFilter.SetMovingImage(sitk.ReadImage(\"BrainProtonDensityTranslatedR1013x17y.png\",sitk.sitkInt8))\n",
    "elastixImageFilter.Execute()\n",
    "sitk.WriteImage(elastixImageFilter.GetResultImage(), \"registrationResult.tif\")\n"
   ]
  },
  {
   "cell_type": "code",
   "execution_count": 15,
   "metadata": {
    "collapsed": true
   },
   "outputs": [],
   "source": [
    "# simple non-rigid transformation\n",
    "elastixImageFilter = sitk.ElastixImageFilter()\n",
    "elastixImageFilter.SetFixedImage(sitk.ReadImage(\"BrainProtonDensity.png\",sitk.sitkInt8))\n",
    "elastixImageFilter.SetMovingImage(sitk.ReadImage(\"BrainProtonDensityTranslatedR1013x17yS12.png\",sitk.sitkInt8))\n",
    "\n",
    "parameterMapVector = sitk.VectorOfParameterMap()\n",
    "parameterMapVector.append(sitk.GetDefaultParameterMap(\"affine\"))\n",
    "parameterMapVector.append(sitk.GetDefaultParameterMap(\"bspline\"))\n",
    "elastixImageFilter.SetParameterMap(parameterMapVector)\n",
    "\n",
    "elastixImageFilter.Execute()\n",
    "sitk.WriteImage(elastixImageFilter.GetResultImage(), \"registrationResult-nonrigid.tif\")\n"
   ]
  }
 ],
 "metadata": {
  "kernelspec": {
   "display_name": "Python 3",
   "language": "python",
   "name": "python3"
  },
  "language_info": {
   "codemirror_mode": {
    "name": "ipython",
    "version": 3
   },
   "file_extension": ".py",
   "mimetype": "text/x-python",
   "name": "python",
   "nbconvert_exporter": "python",
   "pygments_lexer": "ipython3",
   "version": "3.5.3"
  }
 },
 "nbformat": 4,
 "nbformat_minor": 2
}
